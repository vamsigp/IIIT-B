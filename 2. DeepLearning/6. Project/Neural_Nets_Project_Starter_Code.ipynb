{
 "cells": [
  {
   "cell_type": "markdown",
   "metadata": {
    "colab_type": "text",
    "id": "fnipC4z3_hEl"
   },
   "source": [
    "# Gesture Recognition\n",
    "In this group project, you are going to build a 3D Conv model that will be able to predict the 5 gestures correctly. Please import the following libraries to get started."
   ]
  },
  {
   "cell_type": "code",
   "execution_count": 110,
   "metadata": {
    "colab": {},
    "colab_type": "code",
    "id": "hvz7XIYa_hEu"
   },
   "outputs": [],
   "source": [
    "import numpy as np\n",
    "import os\n",
    "from scipy.misc import imread, imresize\n",
    "import datetime\n",
    "import os"
   ]
  },
  {
   "cell_type": "markdown",
   "metadata": {
    "colab_type": "text",
    "id": "cs2pJSFj_hFB"
   },
   "source": [
    "We set the random seed so that the results don't vary drastically."
   ]
  },
  {
   "cell_type": "code",
   "execution_count": 111,
   "metadata": {
    "colab": {},
    "colab_type": "code",
    "id": "Q7FwcraT_hFF"
   },
   "outputs": [],
   "source": [
    "np.random.seed(30)\n",
    "import random as rn\n",
    "rn.seed(30)\n",
    "from keras import backend as K\n",
    "import tensorflow as tf\n",
    "tf.set_random_seed(30)"
   ]
  },
  {
   "cell_type": "code",
   "execution_count": 112,
   "metadata": {
    "colab": {},
    "colab_type": "code",
    "id": "PtLrxD4x_hFT",
    "outputId": "914862a8-8bfb-40b5-deec-2daba393aa8a"
   },
   "outputs": [],
   "source": [
    "# temp = np.arange(0,30,2)\n",
    "# print(len(temp), temp)"
   ]
  },
  {
   "cell_type": "markdown",
   "metadata": {
    "colab_type": "text",
    "id": "TNJWAnV__hFj"
   },
   "source": [
    "In this block, you read the folder names for training and validation. You also set the `batch_size` here. Note that you set the batch size in such a way that you are able to use the GPU in full capacity. You keep increasing the batch size until the machine throws an error."
   ]
  },
  {
   "cell_type": "markdown",
   "metadata": {
    "colab_type": "text",
    "id": "a0t2r7I6_hFo"
   },
   "source": [
    "### <font color='green'>TODO - batch_size </font>\n",
    "- 64"
   ]
  },
  {
   "cell_type": "markdown",
   "metadata": {
    "colab_type": "text",
    "id": "V4EpNgPd_hFv"
   },
   "source": [
    "##### <font color='red'> Path to train and test csv's => how to submit?</font>"
   ]
  },
  {
   "cell_type": "code",
   "execution_count": 113,
   "metadata": {
    "colab": {},
    "colab_type": "code",
    "id": "DsxKcmrR_hF2"
   },
   "outputs": [],
   "source": [
    "# train_doc = np.random.permutation(open('/notebooks/storage/Final_data/Collated_training/train.csv').readlines())\n",
    "# val_doc = np.random.permutation(open('/notebooks/storage/Final_data/Collated_training/val.csv').readlines())\n",
    "\n",
    "train_doc = np.random.permutation(open('./Project_data/train.csv').readlines())\n",
    "val_doc = np.random.permutation(open('./Project_data/val.csv').readlines())\n",
    "batch_size = 16"
   ]
  },
  {
   "cell_type": "code",
   "execution_count": 114,
   "metadata": {
    "colab": {},
    "colab_type": "code",
    "id": "qab0VcD6_hGJ",
    "outputId": "b9af96aa-0277-4728-81db-d63fc1c23bef"
   },
   "outputs": [
    {
     "name": "stdout",
     "output_type": "stream",
     "text": [
      "663 100\n",
      "WIN_20180926_16_54_08_Pro_Right_Swipe_new;Right_Swipe_new;1\n",
      "\n",
      "1.10.0\n",
      "1.1.0\n"
     ]
    }
   ],
   "source": [
    "print(len(train_doc), len(val_doc))\n",
    "\n",
    "print(train_doc[0])\n",
    "import scipy\n",
    "print(tf.__version__)\n",
    "print(scipy.__version__)"
   ]
  },
  {
   "cell_type": "markdown",
   "metadata": {
    "colab_type": "text",
    "id": "BzTpzfzd_hGj"
   },
   "source": [
    "## Generator\n",
    "This is one of the most important part of the code. The overall structure of the generator has been given. In the generator, you are going to preprocess the images as you have images of 2 different dimensions as well as create a batch of video frames. You have to experiment with `img_idx`, `y`,`z` and normalization such that you get high accuracy."
   ]
  },
  {
   "cell_type": "markdown",
   "metadata": {
    "colab_type": "text",
    "id": "rtqpcSAq_hGo"
   },
   "source": [
    "### <font color='green'>TODO - select the list of image indexes from the video\n",
    "- take +/-7 images from the mid position </font>\n",
    "\n",
    "### <font color='green'>TODO - num_batches formula \n",
    "    \n",
    "- x = len(img_idx)\n",
    "- y = height of image\n",
    "- z = width of image"
   ]
  },
  {
   "cell_type": "code",
   "execution_count": 115,
   "metadata": {
    "colab": {},
    "colab_type": "code",
    "id": "RkDsGWCv_hGt"
   },
   "outputs": [
    {
     "name": "stdout",
     "output_type": "stream",
     "text": [
      "18\n"
     ]
    }
   ],
   "source": [
    "image_width = 100\n",
    "image_height = 100\n",
    "# image_idx = list(np.arange(0,30,2))\n",
    "image_idx = [0,1,2,4,6,8,10,12,14,16,18,20,22,24,26,27,28,29]\n",
    "print(len(image_idx))"
   ]
  },
  {
   "cell_type": "code",
   "execution_count": 116,
   "metadata": {},
   "outputs": [
    {
     "name": "stdout",
     "output_type": "stream",
     "text": [
      "batch_size =  16  and sequences =  7 41\n",
      "[0, 1, 2, 3, 4, 5, 6, 7, 8, 9, 10, 11, 12, 13, 14, 15, 16, 17, 18, 19, 20, 21, 22, 23, 24, 25, 26, 27, 28, 29, 30, 31, 32, 33, 34, 35, 36, 37, 38, 39, 40]\n"
     ]
    }
   ],
   "source": [
    "num_batches = len(train_doc) // batch_size\n",
    "        \n",
    "# for remaining videos\n",
    "remaining_sequences = len(train_doc) % batch_size\n",
    "\n",
    "print(\"batch_size = \" , batch_size , \" and sequences = \" , remaining_sequences, num_batches)\n",
    "\n",
    "print(list(range(num_batches)))"
   ]
  },
  {
   "cell_type": "code",
   "execution_count": 117,
   "metadata": {
    "colab": {},
    "colab_type": "code",
    "id": "ZPP4BKIB_hHK"
   },
   "outputs": [],
   "source": [
    "def generator(source_path, folder_list, batch_size):\n",
    "    print( 'Source path = ', source_path, '; batch size =', batch_size)\n",
    "    # img_idx = #create a list of image numbers you want to use for a particular video\n",
    "    img_idx = image_idx\n",
    "    while True:\n",
    "        t = np.random.permutation(folder_list)\n",
    "        num_batches = len(folder_list) // batch_size\n",
    "        \n",
    "        # for remaining videos\n",
    "        remaining_sequences = len(folder_list) % batch_size\n",
    "#         print(\"batch_size = \" , batch_size, \" and sequences = \" , remaining_sequences)\n",
    "        x = len(img_idx)\n",
    "        y = image_height\n",
    "        z = image_width        \n",
    "        \n",
    "        for batch in range(num_batches): # we iterate over the number of batches   \n",
    "#             print(\"current batch = \", batch)\n",
    "            batch_data = np.zeros((batch_size,x,y,z,3)) # x is the number of images you use for each video, (y,z) is the final size of the input images and 3 is the number of channels RGB\n",
    "            batch_labels = np.zeros((batch_size,5)) # batch_labels is the one hot representation of the output\n",
    "            \n",
    "            for folder in range(batch_size): # iterate over the batch_size\n",
    "                imgs = os.listdir(source_path+'/'+ t[folder + (batch*batch_size)].split(';')[0]) # read all the images in the folder\n",
    "                for idx,item in enumerate(img_idx): #  Iterate iver the frames/images of a folder to read them in\n",
    "                    image = imread(source_path+'/'+ t[folder + (batch*batch_size)].strip().split(';')[0]+'/'+imgs[item]).astype(np.float32)\n",
    "                    \n",
    "                    if(image.shape[0]!=image.shape[1]):\n",
    "                        image=image[0:120,20:140]\n",
    "                    \n",
    "                    # `imresize` is deprecated!\n",
    "                    # `imresize` is deprecated in SciPy 1.0.0, and will be removed in 1.2.0.\n",
    "                    # Use ``skimage.transform.resize`` instead.\n",
    "                    image = imresize(image, (y,z))\n",
    "                    #crop the images and resize them. Note that the images are of 2 different shape \n",
    "                    #and the conv3D will throw error if the inputs in a batch have different shapes\n",
    "                    \n",
    "                    # after normalization, the values will be converted to float, is that fine?\n",
    "                    epsilon = 1e-7\n",
    "                    norm_image = (image - image.mean(axis=(0,1,2), keepdims=True)) / image.std(axis=(0,1,2), keepdims=True)\n",
    "                    \n",
    "                    batch_data[folder,idx,:,:,0] = norm_image[:,:,0]\n",
    "                    batch_data[folder,idx,:,:,1] = norm_image[:,:,1]\n",
    "                    batch_data[folder,idx,:,:,2] = norm_image[:,:,2]\n",
    "                    \n",
    "                batch_labels[folder, int(t[folder + (batch*batch_size)].strip().split(';')[2])] = 1\n",
    "            yield batch_data, batch_labels #you yield the batch_data and the batch_labels, remember what does yield do\n",
    "\n",
    "        \n",
    "        # write the code for the remaining data points which are left after full batches\n",
    "#         print(\"processing remaining sequences = \" ,remaining_sequences, \"::num_batches=\", num_batches)\n",
    "        if remaining_sequences != 0:\n",
    "            batch_size = remaining_sequences\n",
    "            batch_data = np.zeros((batch_size,x,y,z,3)) # x is the number of images you use for each video, (y,z) is the final size of the input images and 3 is the number of channels RGB\n",
    "            batch_labels = np.zeros((batch_size,5)) # batch_labels is the one hot representation of the output\n",
    "\n",
    "            for folder in range(batch_size): # iterate over the batch_size\n",
    "                imgs = os.listdir(source_path+'/'+ t[folder + (num_batches*batch_size)].split(';')[0]) # read all the images in the folder\n",
    "                for idx,item in enumerate(img_idx): #  Iterate iver the frames/images of a folder to read them in\n",
    "                    image = imread(source_path+'/'+ t[folder + (num_batches*batch_size)].strip().split(';')[0]+'/'+imgs[item]).astype(np.float32)\n",
    "                    \n",
    "                    if(image.shape[0]!=image.shape[1]):\n",
    "                        image=image[0:120,20:140]\n",
    "                    # `imresize` is deprecated!\n",
    "                    # `imresize` is deprecated in SciPy 1.0.0, and will be removed in 1.2.0.\n",
    "                    # Use ``skimage.transform.resize`` instead.\n",
    "                    image = imresize(image, (y,z))\n",
    "                    #crop the images and resize them. Note that the images are of 2 different shape \n",
    "                    #and the conv3D will throw error if the inputs in a batch have different shapes\n",
    "\n",
    "                    # after normalization, the values will be converted to float, is that fine?\n",
    "                    epsilon = 1e-5\n",
    "                    # norm_image = (image - image.mean(axis=(0,1,2), keepdims=True)) / image.std(axis=(0,1,2), keepdims=True)+epsilon\n",
    "                    norm_image = (image - image.mean(axis=(0,1,2), keepdims=True)) / image.std(axis=(0,1,2), keepdims=True)\n",
    "\n",
    "                    batch_data[folder,idx,:,:,0] = norm_image[:,:,0]\n",
    "                    batch_data[folder,idx,:,:,1] = norm_image[:,:,1]\n",
    "                    batch_data[folder,idx,:,:,2] = norm_image[:,:,2]\n",
    "\n",
    "                batch_labels[folder, int(t[folder + (batch*batch_size)].strip().split(';')[2])] = 1\n",
    "                \n",
    "                yield batch_data, batch_labels\n"
   ]
  },
  {
   "cell_type": "markdown",
   "metadata": {
    "colab_type": "text",
    "id": "mdoLFUjM_hHa"
   },
   "source": [
    "Note here that a video is represented above in the generator as (number of images, height, width, number of channels). Take this into consideration while creating the model architecture."
   ]
  },
  {
   "cell_type": "code",
   "execution_count": 118,
   "metadata": {
    "colab": {},
    "colab_type": "code",
    "id": "69HbCaw1_hHu"
   },
   "outputs": [],
   "source": [
    "# train_path = '/notebooks/storage/Final_data/Collated_training/train'\n",
    "# val_path = '/notebooks/storage/Final_data/Collated_training/val'\n",
    "\n",
    "train_path = './Project_data/train'\n",
    "val_path = './Project_data/val'"
   ]
  },
  {
   "cell_type": "markdown",
   "metadata": {
    "colab_type": "text",
    "id": "7Sn9GGM1_hIC"
   },
   "source": [
    "### <font color='green'> TODO - choose Epochs"
   ]
  },
  {
   "cell_type": "code",
   "execution_count": 119,
   "metadata": {
    "colab": {},
    "colab_type": "code",
    "id": "kDdEBylo_hIH",
    "outputId": "79fb93e8-c136-4a47-fc2b-74e38b653006"
   },
   "outputs": [
    {
     "name": "stdout",
     "output_type": "stream",
     "text": [
      "# training sequences = 663\n",
      "# validation sequences = 100\n",
      "# epochs = 20\n"
     ]
    }
   ],
   "source": [
    "curr_dt_time = datetime.datetime.now()\n",
    "# train_path = '/notebooks/storage/Final_data/Collated_training/train'\n",
    "# val_path = '/notebooks/storage/Final_data/Collated_training/val'\n",
    "num_train_sequences = len(train_doc)\n",
    "print('# training sequences =', num_train_sequences)\n",
    "num_val_sequences = len(val_doc)\n",
    "print('# validation sequences =', num_val_sequences)\n",
    "num_epochs = 20 #50\n",
    "print ('# epochs =', num_epochs)"
   ]
  },
  {
   "cell_type": "markdown",
   "metadata": {
    "colab_type": "text",
    "id": "YZdzz8PT_hIR"
   },
   "source": [
    "## Model\n",
    "Here you make the model using different functionalities that Keras provides. Remember to use `Conv3D` and `MaxPooling3D` and not `Conv2D` and `Maxpooling2D` for a 3D convolution model. You would want to use `TimeDistributed` while building a Conv2D + RNN model. Also remember that the last layer is the softmax. Design the network in such a way that the model is able to give good accuracy on the least number of parameters so that it can fit in the memory of the webcam."
   ]
  },
  {
   "cell_type": "code",
   "execution_count": 120,
   "metadata": {
    "colab": {},
    "colab_type": "code",
    "id": "g37xS4K2_hIT"
   },
   "outputs": [],
   "source": [
    "from keras.models import Sequential, Model\n",
    "from keras.layers import Dense, GRU, Flatten, TimeDistributed, Flatten, BatchNormalization, Activation, Dropout\n",
    "from keras.layers.convolutional import Conv3D, MaxPooling3D\n",
    "from keras.callbacks import ModelCheckpoint, ReduceLROnPlateau, EarlyStopping\n",
    "from keras import optimizers\n",
    "\n",
    "\n",
    "#write your model here"
   ]
  },
  {
   "cell_type": "markdown",
   "metadata": {
    "colab_type": "text",
    "id": "uklqgquv_hIi"
   },
   "source": [
    "## 3d CNN models\n",
    "\n",
    "- https://ieeexplore.ieee.org/document/8545718 (later experiment with more conv)"
   ]
  },
  {
   "cell_type": "code",
   "execution_count": 121,
   "metadata": {
    "colab": {},
    "colab_type": "code",
    "id": "scT1i1mx_hIm"
   },
   "outputs": [],
   "source": [
    "# filter_size = [8,16,32,64,128,256]\n",
    "filter_size = [8,16,32,64,128,256]\n",
    "dense_layer_size = [256,128] #256,256\n",
    "\n",
    "input_shape=(len(image_idx),image_width,image_height,3)\n",
    "\n",
    "model = Sequential()\n",
    "\n",
    "\n",
    "#Layer 1\n",
    "model.add(Conv3D(filters=filter_size[0],kernel_size=(3,3,3),input_shape=input_shape, padding='same')) # 'valid'\n",
    "model.add(BatchNormalization())\n",
    "model.add(Activation('relu'))\n",
    "model.add(MaxPooling3D(pool_size=(2,2,2)))\n",
    "\n",
    "\n",
    "#Layer 2\n",
    "model.add(Conv3D(filters=filter_size[1],kernel_size=(3,3,3), padding='same')) # 'valid'\n",
    "model.add(BatchNormalization())\n",
    "model.add(Activation('relu'))\n",
    "model.add(MaxPooling3D(pool_size=(2,2,2)))\n",
    "\n",
    "\n",
    "#Layer 3\n",
    "model.add(Conv3D(filters=filter_size[2],kernel_size=(1,3,3), padding='same')) # 'valid'\n",
    "model.add(BatchNormalization())\n",
    "model.add(Activation('relu'))\n",
    "# model.add(MaxPooling3D(pool_size=(2,2,2)))\n",
    "\n",
    "model.add(Dropout(0.25))\n",
    "\n",
    "# #Layer 4\n",
    "model.add(Conv3D(filters=filter_size[3],kernel_size=(1,3,3), padding='same')) # 'valid'\n",
    "model.add(BatchNormalization())\n",
    "model.add(Activation('relu'))\n",
    "model.add(MaxPooling3D(pool_size=(2,2,2)))\n",
    "\n",
    "model.add(Dropout(0.25))\n",
    "\n",
    "\n",
    "#Flatten Layers\n",
    "model.add(Flatten())\n",
    "\n",
    "# Dense 1\n",
    "model.add(Dense(dense_layer_size[0], activation='relu'))\n",
    "model.add(Dropout(0.5))\n",
    "\n",
    "# Dense 2\n",
    "model.add(Dense(dense_layer_size[1], activation='relu'))\n",
    "model.add(Dropout(0.5))\n",
    "\n",
    "# final softmax\n",
    "#softmax layer\n",
    "model.add(Dense(5, activation='softmax'))"
   ]
  },
  {
   "cell_type": "markdown",
   "metadata": {
    "colab_type": "text",
    "id": "DijCHJtI_hI2"
   },
   "source": [
    "### Convolutions + RNN\n",
    "- The conv2D network will extract a feature vector for each image, and a sequence of these feature vectors is then fed to an RNN-based network. The output of the RNN is a regular softmax (for a classification problem such as this one).\n",
    "\n",
    "#### There are a few key things to note about the conv-RNN architecture:\n",
    "\n",
    "- You can use transfer learning in the 2D CNN layer rather than training your own CNN \n",
    "- GRU can be a better choice than an LSTM since it has lesser number of gates (and thus parameters)"
   ]
  },
  {
   "cell_type": "code",
   "execution_count": null,
   "metadata": {
    "colab": {},
    "colab_type": "code",
    "id": "GCsFMjoN_hI5"
   },
   "outputs": [],
   "source": []
  },
  {
   "cell_type": "markdown",
   "metadata": {
    "colab_type": "text",
    "id": "pTfW8ro1_hJA"
   },
   "source": [
    "Now that you have written the model, the next step is to `compile` the model. When you print the `summary` of the model, you'll see the total number of parameters you have to train."
   ]
  },
  {
   "cell_type": "code",
   "execution_count": 122,
   "metadata": {
    "colab": {},
    "colab_type": "code",
    "id": "T5mt_jC5_hJC"
   },
   "outputs": [],
   "source": [
    "from keras.optimizers import Adam"
   ]
  },
  {
   "cell_type": "code",
   "execution_count": 123,
   "metadata": {
    "colab": {},
    "colab_type": "code",
    "id": "sgEZj0xq_hJO",
    "outputId": "e13e8d0b-2cb4-460c-f8db-dc7b66622b5c",
    "scrolled": true
   },
   "outputs": [
    {
     "name": "stdout",
     "output_type": "stream",
     "text": [
      "_________________________________________________________________\n",
      "Layer (type)                 Output Shape              Param #   \n",
      "=================================================================\n",
      "conv3d_25 (Conv3D)           (None, 18, 100, 100, 8)   656       \n",
      "_________________________________________________________________\n",
      "batch_normalization_25 (Batc (None, 18, 100, 100, 8)   32        \n",
      "_________________________________________________________________\n",
      "activation_25 (Activation)   (None, 18, 100, 100, 8)   0         \n",
      "_________________________________________________________________\n",
      "max_pooling3d_19 (MaxPooling (None, 9, 50, 50, 8)      0         \n",
      "_________________________________________________________________\n",
      "conv3d_26 (Conv3D)           (None, 9, 50, 50, 16)     3472      \n",
      "_________________________________________________________________\n",
      "batch_normalization_26 (Batc (None, 9, 50, 50, 16)     64        \n",
      "_________________________________________________________________\n",
      "activation_26 (Activation)   (None, 9, 50, 50, 16)     0         \n",
      "_________________________________________________________________\n",
      "max_pooling3d_20 (MaxPooling (None, 4, 25, 25, 16)     0         \n",
      "_________________________________________________________________\n",
      "conv3d_27 (Conv3D)           (None, 4, 25, 25, 32)     4640      \n",
      "_________________________________________________________________\n",
      "batch_normalization_27 (Batc (None, 4, 25, 25, 32)     128       \n",
      "_________________________________________________________________\n",
      "activation_27 (Activation)   (None, 4, 25, 25, 32)     0         \n",
      "_________________________________________________________________\n",
      "dropout_25 (Dropout)         (None, 4, 25, 25, 32)     0         \n",
      "_________________________________________________________________\n",
      "conv3d_28 (Conv3D)           (None, 4, 25, 25, 64)     18496     \n",
      "_________________________________________________________________\n",
      "batch_normalization_28 (Batc (None, 4, 25, 25, 64)     256       \n",
      "_________________________________________________________________\n",
      "activation_28 (Activation)   (None, 4, 25, 25, 64)     0         \n",
      "_________________________________________________________________\n",
      "max_pooling3d_21 (MaxPooling (None, 2, 12, 12, 64)     0         \n",
      "_________________________________________________________________\n",
      "dropout_26 (Dropout)         (None, 2, 12, 12, 64)     0         \n",
      "_________________________________________________________________\n",
      "flatten_7 (Flatten)          (None, 18432)             0         \n",
      "_________________________________________________________________\n",
      "dense_19 (Dense)             (None, 256)               4718848   \n",
      "_________________________________________________________________\n",
      "dropout_27 (Dropout)         (None, 256)               0         \n",
      "_________________________________________________________________\n",
      "dense_20 (Dense)             (None, 128)               32896     \n",
      "_________________________________________________________________\n",
      "dropout_28 (Dropout)         (None, 128)               0         \n",
      "_________________________________________________________________\n",
      "dense_21 (Dense)             (None, 5)                 645       \n",
      "=================================================================\n",
      "Total params: 4,780,133\n",
      "Trainable params: 4,779,893\n",
      "Non-trainable params: 240\n",
      "_________________________________________________________________\n",
      "None\n"
     ]
    }
   ],
   "source": [
    "optimiser = Adam()\n",
    "model.compile(optimizer=optimiser, loss='categorical_crossentropy', metrics=['categorical_accuracy'])\n",
    "print (model.summary())"
   ]
  },
  {
   "cell_type": "markdown",
   "metadata": {
    "colab_type": "text",
    "id": "8ih4mzNo_hJT"
   },
   "source": [
    "Let us create the `train_generator` and the `val_generator` which will be used in `.fit_generator`."
   ]
  },
  {
   "cell_type": "code",
   "execution_count": 124,
   "metadata": {
    "colab": {},
    "colab_type": "code",
    "id": "OKP3aaMC_hJZ"
   },
   "outputs": [],
   "source": [
    "train_generator = generator(train_path, train_doc, batch_size)\n",
    "val_generator = generator(val_path, val_doc, batch_size)"
   ]
  },
  {
   "cell_type": "code",
   "execution_count": 128,
   "metadata": {
    "colab": {},
    "colab_type": "code",
    "id": "-9VyYTHg_hJk"
   },
   "outputs": [],
   "source": [
    "model_name = 'model_init' + '_' + str(curr_dt_time).replace(' ','').replace(':','_') + '/'\n",
    "    \n",
    "if not os.path.exists(model_name):\n",
    "    os.mkdir(model_name)\n",
    "        \n",
    "filepath = model_name + 'model-{epoch:05d}-{loss:.5f}-{categorical_accuracy:.5f}-{val_loss:.5f}-{val_categorical_accuracy:.5f}.h5'\n",
    "#early stopping required\n",
    "ES = EarlyStopping(monitor='val_loss', verbose=1, patience=3)\n",
    "checkpoint = ModelCheckpoint(filepath, monitor='val_loss', verbose=1, save_best_only=True, \n",
    "                             save_weights_only=False, mode='auto', period=1)\n",
    "# patience can be increased with early stopping (5)\n",
    "LR = ReduceLROnPlateau(monitor='val_loss', factor=0.5, patience=2, cooldown=1, verbose=1)\n",
    "# callbacks_list = [checkpoint, LR, ES]\n",
    "callbacks_list = [checkpoint, LR]"
   ]
  },
  {
   "cell_type": "markdown",
   "metadata": {
    "colab_type": "text",
    "id": "vGt-fNJt_hJt"
   },
   "source": [
    "The `steps_per_epoch` and `validation_steps` are used by `fit_generator` to decide the number of next() calls it need to make."
   ]
  },
  {
   "cell_type": "code",
   "execution_count": 129,
   "metadata": {
    "colab": {},
    "colab_type": "code",
    "id": "LUedP8Kg_hJv"
   },
   "outputs": [],
   "source": [
    "if (num_train_sequences%batch_size) == 0:\n",
    "    steps_per_epoch = int(num_train_sequences/batch_size)\n",
    "else:\n",
    "    steps_per_epoch = (num_train_sequences//batch_size) + 1\n",
    "\n",
    "if (num_val_sequences%batch_size) == 0:\n",
    "    validation_steps = int(num_val_sequences/batch_size)\n",
    "else:\n",
    "    validation_steps = (num_val_sequences//batch_size) + 1"
   ]
  },
  {
   "cell_type": "markdown",
   "metadata": {
    "colab_type": "text",
    "id": "XceMzPtK_hJ9"
   },
   "source": [
    "Let us now fit the model. This will start training the model and with the help of the checkpoints, you'll be able to save the model at the end of each epoch."
   ]
  },
  {
   "cell_type": "code",
   "execution_count": 130,
   "metadata": {
    "colab": {},
    "colab_type": "code",
    "id": "UZiABGAC_hJ_"
   },
   "outputs": [
    {
     "name": "stdout",
     "output_type": "stream",
     "text": [
      "Epoch 1/20\n"
     ]
    },
    {
     "name": "stderr",
     "output_type": "stream",
     "text": [
      "c:\\anaconda3\\envs\\tensorflow-gpu\\lib\\site-packages\\ipykernel_launcher.py:24: DeprecationWarning: `imread` is deprecated!\n",
      "`imread` is deprecated in SciPy 1.0.0, and will be removed in 1.2.0.\n",
      "Use ``imageio.imread`` instead.\n",
      "c:\\anaconda3\\envs\\tensorflow-gpu\\lib\\site-packages\\ipykernel_launcher.py:32: DeprecationWarning: `imresize` is deprecated!\n",
      "`imresize` is deprecated in SciPy 1.0.0, and will be removed in 1.2.0.\n",
      "Use ``skimage.transform.resize`` instead.\n"
     ]
    },
    {
     "name": "stdout",
     "output_type": "stream",
     "text": [
      "42/42 [==============================] - 46s 1s/step - loss: 12.4876 - categorical_accuracy: 0.2048 - val_loss: 12.6642 - val_categorical_accuracy: 0.2143\n",
      "\n",
      "Epoch 00001: val_loss improved from inf to 12.66422, saving model to model_init_2019-09-0721_47_26.764867/model-00001-12.48757-0.20476-12.66422-0.21429.h5\n",
      "Epoch 2/20\n",
      "42/42 [==============================] - 43s 1s/step - loss: 11.9186 - categorical_accuracy: 0.2476 - val_loss: 13.8155 - val_categorical_accuracy: 0.1429\n",
      "\n",
      "Epoch 00002: val_loss did not improve from 12.66422\n",
      "Epoch 3/20\n",
      "26/42 [=================>............] - ETA: 18s - loss: 13.0923 - categorical_accuracy: 0.1692"
     ]
    },
    {
     "name": "stderr",
     "output_type": "stream",
     "text": [
      "c:\\anaconda3\\envs\\tensorflow-gpu\\lib\\site-packages\\ipykernel_launcher.py:58: DeprecationWarning: `imread` is deprecated!\n",
      "`imread` is deprecated in SciPy 1.0.0, and will be removed in 1.2.0.\n",
      "Use ``imageio.imread`` instead.\n",
      "c:\\anaconda3\\envs\\tensorflow-gpu\\lib\\site-packages\\ipykernel_launcher.py:65: DeprecationWarning: `imresize` is deprecated!\n",
      "`imresize` is deprecated in SciPy 1.0.0, and will be removed in 1.2.0.\n",
      "Use ``skimage.transform.resize`` instead.\n"
     ]
    },
    {
     "name": "stdout",
     "output_type": "stream",
     "text": [
      "42/42 [==============================] - 38s 893ms/step - loss: 12.7287 - categorical_accuracy: 0.1761 - val_loss: 12.0886 - val_categorical_accuracy: 0.2500\n",
      "\n",
      "Epoch 00003: val_loss improved from 12.66422 to 12.08857, saving model to model_init_2019-09-0721_47_26.764867/model-00003-12.83315-0.17416-12.08857-0.25000.h5\n",
      "Epoch 4/20\n",
      "42/42 [==============================] - 28s 666ms/step - loss: 13.3002 - categorical_accuracy: 0.1667 - val_loss: 11.5129 - val_categorical_accuracy: 0.2857\n",
      "\n",
      "Epoch 00004: val_loss improved from 12.08857 to 11.51293, saving model to model_init_2019-09-0721_47_26.764867/model-00004-13.30021-0.16667-11.51293-0.28571.h5\n",
      "Epoch 5/20\n",
      "42/42 [==============================] - 27s 647ms/step - loss: 11.8905 - categorical_accuracy: 0.2460 - val_loss: 12.0886 - val_categorical_accuracy: 0.2500\n",
      "\n",
      "Epoch 00005: val_loss did not improve from 11.51293\n",
      "Epoch 6/20\n",
      "42/42 [==============================] - 27s 644ms/step - loss: 11.9584 - categorical_accuracy: 0.2302 - val_loss: 11.5129 - val_categorical_accuracy: 0.2857\n",
      "\n",
      "Epoch 00006: val_loss did not improve from 11.51293\n",
      "\n",
      "Epoch 00006: ReduceLROnPlateau reducing learning rate to 0.0002500000118743628.\n",
      "Epoch 7/20\n",
      "42/42 [==============================] - 29s 695ms/step - loss: 13.2886 - categorical_accuracy: 0.1587 - val_loss: 13.8155 - val_categorical_accuracy: 0.1429\n",
      "\n",
      "Epoch 00007: val_loss did not improve from 11.51293\n",
      "Epoch 8/20\n",
      "42/42 [==============================] - 30s 719ms/step - loss: 12.6872 - categorical_accuracy: 0.2063 - val_loss: 12.0886 - val_categorical_accuracy: 0.2500\n",
      "\n",
      "Epoch 00008: val_loss did not improve from 11.51293\n",
      "\n",
      "Epoch 00008: ReduceLROnPlateau reducing learning rate to 0.0001250000059371814.\n",
      "Epoch 9/20\n",
      "42/42 [==============================] - 27s 653ms/step - loss: 13.1520 - categorical_accuracy: 0.1587 - val_loss: 12.6642 - val_categorical_accuracy: 0.2143\n",
      "\n",
      "Epoch 00009: val_loss did not improve from 11.51293\n",
      "Epoch 10/20\n",
      "42/42 [==============================] - 28s 656ms/step - loss: 12.9981 - categorical_accuracy: 0.1825 - val_loss: 12.6642 - val_categorical_accuracy: 0.2143\n",
      "\n",
      "Epoch 00010: val_loss did not improve from 11.51293\n",
      "\n",
      "Epoch 00010: ReduceLROnPlateau reducing learning rate to 6.25000029685907e-05.\n",
      "Epoch 11/20\n",
      "42/42 [==============================] - 29s 690ms/step - loss: 13.1761 - categorical_accuracy: 0.1587 - val_loss: 12.6642 - val_categorical_accuracy: 0.2143\n",
      "\n",
      "Epoch 00011: val_loss did not improve from 11.51293\n",
      "Epoch 12/20\n",
      "42/42 [==============================] - 28s 660ms/step - loss: 13.5322 - categorical_accuracy: 0.1508 - val_loss: 13.8155 - val_categorical_accuracy: 0.1429\n",
      "\n",
      "Epoch 00012: val_loss did not improve from 11.51293\n",
      "\n",
      "Epoch 00012: ReduceLROnPlateau reducing learning rate to 3.125000148429535e-05.\n",
      "Epoch 13/20\n",
      "42/42 [==============================] - 27s 635ms/step - loss: 12.8709 - categorical_accuracy: 0.1905 - val_loss: 13.8155 - val_categorical_accuracy: 0.1429\n",
      "\n",
      "Epoch 00013: val_loss did not improve from 11.51293\n",
      "Epoch 14/20\n",
      "42/42 [==============================] - 26s 630ms/step - loss: 12.5458 - categorical_accuracy: 0.2143 - val_loss: 10.9373 - val_categorical_accuracy: 0.3214\n",
      "\n",
      "Epoch 00014: val_loss improved from 11.51293 to 10.93728, saving model to model_init_2019-09-0721_47_26.764867/model-00014-12.54577-0.21429-10.93728-0.32143.h5\n",
      "Epoch 15/20\n",
      "42/42 [==============================] - 28s 656ms/step - loss: 11.7193 - categorical_accuracy: 0.2619 - val_loss: 12.0886 - val_categorical_accuracy: 0.2500\n",
      "\n",
      "Epoch 00015: val_loss did not improve from 10.93728\n",
      "Epoch 16/20\n",
      "42/42 [==============================] - 28s 657ms/step - loss: 14.5085 - categorical_accuracy: 0.0873 - val_loss: 11.5129 - val_categorical_accuracy: 0.2857\n",
      "\n",
      "Epoch 00016: val_loss did not improve from 10.93728\n",
      "\n",
      "Epoch 00016: ReduceLROnPlateau reducing learning rate to 1.5625000742147677e-05.\n",
      "Epoch 17/20\n",
      "42/42 [==============================] - 29s 699ms/step - loss: 11.8048 - categorical_accuracy: 0.2619 - val_loss: 14.3912 - val_categorical_accuracy: 0.1071\n",
      "\n",
      "Epoch 00017: val_loss did not improve from 10.93728\n",
      "Epoch 18/20\n",
      "42/42 [==============================] - 28s 667ms/step - loss: 13.4675 - categorical_accuracy: 0.1587 - val_loss: 10.9373 - val_categorical_accuracy: 0.3214\n",
      "\n",
      "Epoch 00018: val_loss did not improve from 10.93728\n",
      "\n",
      "Epoch 00018: ReduceLROnPlateau reducing learning rate to 7.812500371073838e-06.\n",
      "Epoch 19/20\n",
      "42/42 [==============================] - 32s 759ms/step - loss: 12.4438 - categorical_accuracy: 0.2222 - val_loss: 14.3912 - val_categorical_accuracy: 0.1071\n",
      "\n",
      "Epoch 00019: val_loss did not improve from 10.93728\n",
      "Epoch 20/20\n",
      "42/42 [==============================] - 28s 673ms/step - loss: 12.9140 - categorical_accuracy: 0.1825 - val_loss: 12.0886 - val_categorical_accuracy: 0.2500\n",
      "\n",
      "Epoch 00020: val_loss did not improve from 10.93728\n",
      "\n",
      "Epoch 00020: ReduceLROnPlateau reducing learning rate to 3.906250185536919e-06.\n"
     ]
    },
    {
     "data": {
      "text/plain": [
       "<keras.callbacks.History at 0x1c96ff8a860>"
      ]
     },
     "execution_count": 130,
     "metadata": {},
     "output_type": "execute_result"
    }
   ],
   "source": [
    "model.fit_generator(train_generator, steps_per_epoch=steps_per_epoch, epochs=num_epochs, verbose=1, \n",
    "                    callbacks=callbacks_list, validation_data=val_generator, \n",
    "                    validation_steps=validation_steps, class_weight=None, workers=1, initial_epoch=0)"
   ]
  },
  {
   "cell_type": "code",
   "execution_count": null,
   "metadata": {
    "colab": {},
    "colab_type": "code",
    "id": "ZYXrRwg7_hKJ"
   },
   "outputs": [],
   "source": []
  },
  {
   "cell_type": "code",
   "execution_count": null,
   "metadata": {},
   "outputs": [],
   "source": []
  },
  {
   "cell_type": "code",
   "execution_count": null,
   "metadata": {},
   "outputs": [],
   "source": []
  },
  {
   "cell_type": "code",
   "execution_count": null,
   "metadata": {},
   "outputs": [],
   "source": []
  }
 ],
 "metadata": {
  "colab": {
   "name": "Neural_Nets_Project_Starter_Code.ipynb",
   "provenance": [],
   "version": "0.3.2"
  },
  "kernelspec": {
   "display_name": "Python 3",
   "language": "python",
   "name": "python3"
  },
  "language_info": {
   "codemirror_mode": {
    "name": "ipython",
    "version": 3
   },
   "file_extension": ".py",
   "mimetype": "text/x-python",
   "name": "python",
   "nbconvert_exporter": "python",
   "pygments_lexer": "ipython3",
   "version": "3.5.2"
  }
 },
 "nbformat": 4,
 "nbformat_minor": 1
}
