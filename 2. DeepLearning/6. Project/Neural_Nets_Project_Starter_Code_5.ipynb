{
  "nbformat": 4,
  "nbformat_minor": 0,
  "metadata": {
    "colab": {
      "name": "Neural_Nets_Project_Starter_Code_5.ipynb",
      "provenance": [],
      "collapsed_sections": [
        "xUTzRF4Tcsgl",
        "DijCHJtI_hI2",
        "z4G8zLV7csiv",
        "ShbwDgrJcsjN",
        "cE9oW3S1csjW"
      ],
      "toc_visible": true
    },
    "kernelspec": {
      "name": "python3",
      "display_name": "Python 3"
    },
    "language_info": {
      "codemirror_mode": {
        "name": "ipython",
        "version": 3
      },
      "file_extension": ".py",
      "mimetype": "text/x-python",
      "name": "python",
      "nbconvert_exporter": "python",
      "pygments_lexer": "ipython3",
      "version": "3.5.6"
    },
    "accelerator": "GPU"
  },
  "cells": [
    {
      "cell_type": "markdown",
      "metadata": {
        "colab_type": "text",
        "id": "fnipC4z3_hEl"
      },
      "source": [
        "# Gesture Recognition\n",
        "In this group project, you are going to build a 3D Conv model that will be able to predict the 5 gestures correctly. Please import the following libraries to get started."
      ]
    },
    {
      "cell_type": "code",
      "metadata": {
        "colab_type": "code",
        "id": "hvz7XIYa_hEu",
        "colab": {}
      },
      "source": [
        "import numpy as np\n",
        "import os\n",
        "# from scipy.misc import imread, imresize\n",
        "import datetime\n",
        "import os\n",
        "# import scipy"
      ],
      "execution_count": 0,
      "outputs": []
    },
    {
      "cell_type": "markdown",
      "metadata": {
        "id": "nGpgeuJifmEU",
        "colab_type": "text"
      },
      "source": [
        "http://francescopochetti.com/video-classification-in-keras-a-couple-of-approaches/"
      ]
    },
    {
      "cell_type": "code",
      "metadata": {
        "id": "EzuccpKZcsfn",
        "colab_type": "code",
        "colab": {}
      },
      "source": [
        "from skimage.io import imread\n",
        "from skimage.transform import resize"
      ],
      "execution_count": 0,
      "outputs": []
    },
    {
      "cell_type": "markdown",
      "metadata": {
        "colab_type": "text",
        "id": "cs2pJSFj_hFB"
      },
      "source": [
        "We set the random seed so that the results don't vary drastically."
      ]
    },
    {
      "cell_type": "code",
      "metadata": {
        "colab_type": "code",
        "id": "Q7FwcraT_hFF",
        "colab": {
          "base_uri": "https://localhost:8080/",
          "height": 34
        },
        "outputId": "4dcea853-daff-4033-93c6-9e050dfa835c"
      },
      "source": [
        "np.random.seed(30)\n",
        "import random as rn\n",
        "rn.seed(30)\n",
        "from keras import backend as K\n",
        "import tensorflow as tf\n",
        "tf.set_random_seed(30)"
      ],
      "execution_count": 3,
      "outputs": [
        {
          "output_type": "stream",
          "text": [
            "Using TensorFlow backend.\n"
          ],
          "name": "stderr"
        }
      ]
    },
    {
      "cell_type": "code",
      "metadata": {
        "id": "QOie38rQcsfu",
        "colab_type": "code",
        "colab": {}
      },
      "source": [
        "import matplotlib.pyplot as plt\n",
        "%matplotlib inline"
      ],
      "execution_count": 0,
      "outputs": []
    },
    {
      "cell_type": "code",
      "metadata": {
        "colab_type": "code",
        "id": "g37xS4K2_hIT",
        "colab": {}
      },
      "source": [
        "from keras.models import Sequential, Model\n",
        "from keras.layers import Dense, GRU, Flatten, TimeDistributed, Flatten, BatchNormalization, Activation, Dropout\n",
        "from keras.layers.convolutional import Conv3D, MaxPooling3D\n",
        "from keras.callbacks import ModelCheckpoint, ReduceLROnPlateau, EarlyStopping\n",
        "from keras import optimizers\n",
        "from keras.optimizers import Adam"
      ],
      "execution_count": 0,
      "outputs": []
    },
    {
      "cell_type": "code",
      "metadata": {
        "id": "hZTPb5SGcsf1",
        "colab_type": "code",
        "colab": {}
      },
      "source": [
        "from keras.layers import Dense, Flatten, Dropout, ZeroPadding3D, Input\n",
        "from keras.layers.recurrent import LSTM\n",
        "from keras.models import Sequential, load_model, Model\n",
        "from keras.optimizers import Adam, RMSprop, Nadam\n",
        "from keras.layers.wrappers import TimeDistributed\n",
        "from keras.layers.convolutional import (Conv2D, MaxPooling3D, Conv3D, MaxPooling2D)\n",
        "from collections import deque\n",
        "from keras import regularizers, initializers\n",
        "from keras.initializers import glorot_uniform\n",
        "\n",
        "from keras.applications.vgg16 import VGG16\n",
        "from keras.layers.pooling import GlobalAveragePooling2D\n",
        "from keras.layers.recurrent import LSTM"
      ],
      "execution_count": 0,
      "outputs": []
    },
    {
      "cell_type": "code",
      "metadata": {
        "id": "J5ysEmbNcsf4",
        "colab_type": "code",
        "outputId": "71c742d0-7543-4c15-f1c6-d8e073909788",
        "colab": {
          "base_uri": "https://localhost:8080/",
          "height": 122
        }
      },
      "source": [
        "# Load the Drive helper and mount\n",
        "from google.colab import drive\n",
        "\n",
        "# This will prompt for authorization.\n",
        "drive.mount('/content/drive')"
      ],
      "execution_count": 8,
      "outputs": [
        {
          "output_type": "stream",
          "text": [
            "Go to this URL in a browser: https://accounts.google.com/o/oauth2/auth?client_id=947318989803-6bn6qk8qdgf4n4g3pfee6491hc0brc4i.apps.googleusercontent.com&redirect_uri=urn%3Aietf%3Awg%3Aoauth%3A2.0%3Aoob&scope=email%20https%3A%2F%2Fwww.googleapis.com%2Fauth%2Fdocs.test%20https%3A%2F%2Fwww.googleapis.com%2Fauth%2Fdrive%20https%3A%2F%2Fwww.googleapis.com%2Fauth%2Fdrive.photos.readonly%20https%3A%2F%2Fwww.googleapis.com%2Fauth%2Fpeopleapi.readonly&response_type=code\n",
            "\n",
            "Enter your authorization code:\n",
            "··········\n",
            "Mounted at /content/drive\n"
          ],
          "name": "stdout"
        }
      ]
    },
    {
      "cell_type": "code",
      "metadata": {
        "id": "gLb7VX5ic0od",
        "colab_type": "code",
        "outputId": "8c79b52b-9f63-462c-b459-02951097ba73",
        "colab": {
          "base_uri": "https://localhost:8080/",
          "height": 252
        }
      },
      "source": [
        "!ls \"/content/drive/My Drive/Colab Notebooks/\""
      ],
      "execution_count": 0,
      "outputs": [
        {
          "output_type": "stream",
          "text": [
            " 1.+Cifar_10_with_dropout_without_BN.ipynb\n",
            "'Copy of Telecom_churn_caseStudy_Submision.ipynb'\n",
            " internet_data.csv\n",
            "'MNIST - PCA.ipynb'\n",
            " Neural_Nets_Project_Starter_Code_1.ipynb\n",
            " Neural_Nets_Project_Starter_Code_4.ipynb\n",
            " Neural_Nets_Project_Starter_Code_5.ipynb\n",
            " Neural_Nets_Project_Starter_Code_5_old.ipynb\n",
            " Project_data.zip\n",
            "'Python recap.ipynb'\n",
            " Telecom_churn_caseStudy_Submision.ipynb\n",
            " telecom_churn_data.csv\n",
            " TelecomChurn-Upgrad.ipynb\n",
            " v2_eda_svm.ipynb\n"
          ],
          "name": "stdout"
        }
      ]
    },
    {
      "cell_type": "code",
      "metadata": {
        "id": "27JEIUcLc7UP",
        "colab_type": "code",
        "colab": {}
      },
      "source": [
        ""
      ],
      "execution_count": 0,
      "outputs": []
    },
    {
      "cell_type": "code",
      "metadata": {
        "id": "_X50ZrqOcsf7",
        "colab_type": "code",
        "outputId": "c556bd1e-872f-4d31-f7f3-edf874a11e64",
        "colab": {
          "base_uri": "https://localhost:8080/",
          "height": 374
        }
      },
      "source": [
        "\n",
        "test = imread('./Project_data/train/WIN_20180926_18_09_50_Pro_Right_Swipe_new/WIN_20180926_18_09_50_Pro_00013.png')\n",
        "\n",
        "plt.imshow(test)"
      ],
      "execution_count": 0,
      "outputs": [
        {
          "output_type": "error",
          "ename": "FileNotFoundError",
          "evalue": "ignored",
          "traceback": [
            "\u001b[0;31m---------------------------------------------------------------------------\u001b[0m",
            "\u001b[0;31mFileNotFoundError\u001b[0m                         Traceback (most recent call last)",
            "\u001b[0;32m<ipython-input-19-eae8524f5fc9>\u001b[0m in \u001b[0;36m<module>\u001b[0;34m()\u001b[0m\n\u001b[1;32m      1\u001b[0m \u001b[0;34m\u001b[0m\u001b[0m\n\u001b[0;32m----> 2\u001b[0;31m \u001b[0mtest\u001b[0m \u001b[0;34m=\u001b[0m \u001b[0mimread\u001b[0m\u001b[0;34m(\u001b[0m\u001b[0;34m'./Project_data/train/WIN_20180926_18_09_50_Pro_Right_Swipe_new/WIN_20180926_18_09_50_Pro_00013.png'\u001b[0m\u001b[0;34m)\u001b[0m\u001b[0;34m\u001b[0m\u001b[0;34m\u001b[0m\u001b[0m\n\u001b[0m\u001b[1;32m      3\u001b[0m \u001b[0;34m\u001b[0m\u001b[0m\n\u001b[1;32m      4\u001b[0m \u001b[0mplt\u001b[0m\u001b[0;34m.\u001b[0m\u001b[0mimshow\u001b[0m\u001b[0;34m(\u001b[0m\u001b[0mtest\u001b[0m\u001b[0;34m)\u001b[0m\u001b[0;34m\u001b[0m\u001b[0;34m\u001b[0m\u001b[0m\n",
            "\u001b[0;32m/usr/local/lib/python3.6/dist-packages/skimage/io/_io.py\u001b[0m in \u001b[0;36mimread\u001b[0;34m(fname, as_gray, plugin, flatten, **plugin_args)\u001b[0m\n\u001b[1;32m     59\u001b[0m \u001b[0;34m\u001b[0m\u001b[0m\n\u001b[1;32m     60\u001b[0m     \u001b[0;32mwith\u001b[0m \u001b[0mfile_or_url_context\u001b[0m\u001b[0;34m(\u001b[0m\u001b[0mfname\u001b[0m\u001b[0;34m)\u001b[0m \u001b[0;32mas\u001b[0m \u001b[0mfname\u001b[0m\u001b[0;34m:\u001b[0m\u001b[0;34m\u001b[0m\u001b[0;34m\u001b[0m\u001b[0m\n\u001b[0;32m---> 61\u001b[0;31m         \u001b[0mimg\u001b[0m \u001b[0;34m=\u001b[0m \u001b[0mcall_plugin\u001b[0m\u001b[0;34m(\u001b[0m\u001b[0;34m'imread'\u001b[0m\u001b[0;34m,\u001b[0m \u001b[0mfname\u001b[0m\u001b[0;34m,\u001b[0m \u001b[0mplugin\u001b[0m\u001b[0;34m=\u001b[0m\u001b[0mplugin\u001b[0m\u001b[0;34m,\u001b[0m \u001b[0;34m**\u001b[0m\u001b[0mplugin_args\u001b[0m\u001b[0;34m)\u001b[0m\u001b[0;34m\u001b[0m\u001b[0;34m\u001b[0m\u001b[0m\n\u001b[0m\u001b[1;32m     62\u001b[0m \u001b[0;34m\u001b[0m\u001b[0m\n\u001b[1;32m     63\u001b[0m     \u001b[0;32mif\u001b[0m \u001b[0;32mnot\u001b[0m \u001b[0mhasattr\u001b[0m\u001b[0;34m(\u001b[0m\u001b[0mimg\u001b[0m\u001b[0;34m,\u001b[0m \u001b[0;34m'ndim'\u001b[0m\u001b[0;34m)\u001b[0m\u001b[0;34m:\u001b[0m\u001b[0;34m\u001b[0m\u001b[0;34m\u001b[0m\u001b[0m\n",
            "\u001b[0;32m/usr/local/lib/python3.6/dist-packages/skimage/io/manage_plugins.py\u001b[0m in \u001b[0;36mcall_plugin\u001b[0;34m(kind, *args, **kwargs)\u001b[0m\n\u001b[1;32m    208\u001b[0m                                (plugin, kind))\n\u001b[1;32m    209\u001b[0m \u001b[0;34m\u001b[0m\u001b[0m\n\u001b[0;32m--> 210\u001b[0;31m     \u001b[0;32mreturn\u001b[0m \u001b[0mfunc\u001b[0m\u001b[0;34m(\u001b[0m\u001b[0;34m*\u001b[0m\u001b[0margs\u001b[0m\u001b[0;34m,\u001b[0m \u001b[0;34m**\u001b[0m\u001b[0mkwargs\u001b[0m\u001b[0;34m)\u001b[0m\u001b[0;34m\u001b[0m\u001b[0;34m\u001b[0m\u001b[0m\n\u001b[0m\u001b[1;32m    211\u001b[0m \u001b[0;34m\u001b[0m\u001b[0m\n\u001b[1;32m    212\u001b[0m \u001b[0;34m\u001b[0m\u001b[0m\n",
            "\u001b[0;32m/usr/local/lib/python3.6/dist-packages/imageio/core/functions.py\u001b[0m in \u001b[0;36mimread\u001b[0;34m(uri, format, **kwargs)\u001b[0m\n\u001b[1;32m    219\u001b[0m \u001b[0;34m\u001b[0m\u001b[0m\n\u001b[1;32m    220\u001b[0m     \u001b[0;31m# Get reader and read first\u001b[0m\u001b[0;34m\u001b[0m\u001b[0;34m\u001b[0m\u001b[0;34m\u001b[0m\u001b[0m\n\u001b[0;32m--> 221\u001b[0;31m     \u001b[0mreader\u001b[0m \u001b[0;34m=\u001b[0m \u001b[0mread\u001b[0m\u001b[0;34m(\u001b[0m\u001b[0muri\u001b[0m\u001b[0;34m,\u001b[0m \u001b[0mformat\u001b[0m\u001b[0;34m,\u001b[0m \u001b[0;34m\"i\"\u001b[0m\u001b[0;34m,\u001b[0m \u001b[0;34m**\u001b[0m\u001b[0mkwargs\u001b[0m\u001b[0;34m)\u001b[0m\u001b[0;34m\u001b[0m\u001b[0;34m\u001b[0m\u001b[0m\n\u001b[0m\u001b[1;32m    222\u001b[0m     \u001b[0;32mwith\u001b[0m \u001b[0mreader\u001b[0m\u001b[0;34m:\u001b[0m\u001b[0;34m\u001b[0m\u001b[0;34m\u001b[0m\u001b[0m\n\u001b[1;32m    223\u001b[0m         \u001b[0;32mreturn\u001b[0m \u001b[0mreader\u001b[0m\u001b[0;34m.\u001b[0m\u001b[0mget_data\u001b[0m\u001b[0;34m(\u001b[0m\u001b[0;36m0\u001b[0m\u001b[0;34m)\u001b[0m\u001b[0;34m\u001b[0m\u001b[0;34m\u001b[0m\u001b[0m\n",
            "\u001b[0;32m/usr/local/lib/python3.6/dist-packages/imageio/core/functions.py\u001b[0m in \u001b[0;36mget_reader\u001b[0;34m(uri, format, mode, **kwargs)\u001b[0m\n\u001b[1;32m    128\u001b[0m \u001b[0;34m\u001b[0m\u001b[0m\n\u001b[1;32m    129\u001b[0m     \u001b[0;31m# Create request object\u001b[0m\u001b[0;34m\u001b[0m\u001b[0;34m\u001b[0m\u001b[0;34m\u001b[0m\u001b[0m\n\u001b[0;32m--> 130\u001b[0;31m     \u001b[0mrequest\u001b[0m \u001b[0;34m=\u001b[0m \u001b[0mRequest\u001b[0m\u001b[0;34m(\u001b[0m\u001b[0muri\u001b[0m\u001b[0;34m,\u001b[0m \u001b[0;34m\"r\"\u001b[0m \u001b[0;34m+\u001b[0m \u001b[0mmode\u001b[0m\u001b[0;34m,\u001b[0m \u001b[0;34m**\u001b[0m\u001b[0mkwargs\u001b[0m\u001b[0;34m)\u001b[0m\u001b[0;34m\u001b[0m\u001b[0;34m\u001b[0m\u001b[0m\n\u001b[0m\u001b[1;32m    131\u001b[0m \u001b[0;34m\u001b[0m\u001b[0m\n\u001b[1;32m    132\u001b[0m     \u001b[0;31m# Get format\u001b[0m\u001b[0;34m\u001b[0m\u001b[0;34m\u001b[0m\u001b[0;34m\u001b[0m\u001b[0m\n",
            "\u001b[0;32m/usr/local/lib/python3.6/dist-packages/imageio/core/request.py\u001b[0m in \u001b[0;36m__init__\u001b[0;34m(self, uri, mode, **kwargs)\u001b[0m\n\u001b[1;32m    123\u001b[0m \u001b[0;34m\u001b[0m\u001b[0m\n\u001b[1;32m    124\u001b[0m         \u001b[0;31m# Parse what was given\u001b[0m\u001b[0;34m\u001b[0m\u001b[0;34m\u001b[0m\u001b[0;34m\u001b[0m\u001b[0m\n\u001b[0;32m--> 125\u001b[0;31m         \u001b[0mself\u001b[0m\u001b[0;34m.\u001b[0m\u001b[0m_parse_uri\u001b[0m\u001b[0;34m(\u001b[0m\u001b[0muri\u001b[0m\u001b[0;34m)\u001b[0m\u001b[0;34m\u001b[0m\u001b[0;34m\u001b[0m\u001b[0m\n\u001b[0m\u001b[1;32m    126\u001b[0m \u001b[0;34m\u001b[0m\u001b[0m\n\u001b[1;32m    127\u001b[0m         \u001b[0;31m# Set extension\u001b[0m\u001b[0;34m\u001b[0m\u001b[0;34m\u001b[0m\u001b[0;34m\u001b[0m\u001b[0m\n",
            "\u001b[0;32m/usr/local/lib/python3.6/dist-packages/imageio/core/request.py\u001b[0m in \u001b[0;36m_parse_uri\u001b[0;34m(self, uri)\u001b[0m\n\u001b[1;32m    271\u001b[0m                 \u001b[0;31m# Reading: check that the file exists (but is allowed a dir)\u001b[0m\u001b[0;34m\u001b[0m\u001b[0;34m\u001b[0m\u001b[0;34m\u001b[0m\u001b[0m\n\u001b[1;32m    272\u001b[0m                 \u001b[0;32mif\u001b[0m \u001b[0;32mnot\u001b[0m \u001b[0mos\u001b[0m\u001b[0;34m.\u001b[0m\u001b[0mpath\u001b[0m\u001b[0;34m.\u001b[0m\u001b[0mexists\u001b[0m\u001b[0;34m(\u001b[0m\u001b[0mfn\u001b[0m\u001b[0;34m)\u001b[0m\u001b[0;34m:\u001b[0m\u001b[0;34m\u001b[0m\u001b[0;34m\u001b[0m\u001b[0m\n\u001b[0;32m--> 273\u001b[0;31m                     \u001b[0;32mraise\u001b[0m \u001b[0mFileNotFoundError\u001b[0m\u001b[0;34m(\u001b[0m\u001b[0;34m\"No such file: '%s'\"\u001b[0m \u001b[0;34m%\u001b[0m \u001b[0mfn\u001b[0m\u001b[0;34m)\u001b[0m\u001b[0;34m\u001b[0m\u001b[0;34m\u001b[0m\u001b[0m\n\u001b[0m\u001b[1;32m    274\u001b[0m             \u001b[0;32melse\u001b[0m\u001b[0;34m:\u001b[0m\u001b[0;34m\u001b[0m\u001b[0;34m\u001b[0m\u001b[0m\n\u001b[1;32m    275\u001b[0m                 \u001b[0;31m# Writing: check that the directory to write to does exist\u001b[0m\u001b[0;34m\u001b[0m\u001b[0;34m\u001b[0m\u001b[0;34m\u001b[0m\u001b[0m\n",
            "\u001b[0;31mFileNotFoundError\u001b[0m: No such file: '/content/Project_data/train/WIN_20180926_18_09_50_Pro_Right_Swipe_new/WIN_20180926_18_09_50_Pro_00013.png'"
          ]
        }
      ]
    },
    {
      "cell_type": "code",
      "metadata": {
        "id": "DZMhgICMcsf_",
        "colab_type": "code",
        "outputId": "3ac35816-c011-4f95-a320-38ff790dee1e",
        "colab": {}
      },
      "source": [
        "test.shape"
      ],
      "execution_count": 0,
      "outputs": [
        {
          "output_type": "execute_result",
          "data": {
            "text/plain": [
              "(120, 160, 3)"
            ]
          },
          "metadata": {
            "tags": []
          },
          "execution_count": 31
        }
      ]
    },
    {
      "cell_type": "code",
      "metadata": {
        "id": "djG_htWvcsgC",
        "colab_type": "code",
        "outputId": "d16efa88-c38c-4e2d-864c-0136ddb9c838",
        "colab": {}
      },
      "source": [
        "test_updated = test[0:120,20:140]\n",
        "plt.imshow(test_updated)"
      ],
      "execution_count": 0,
      "outputs": [
        {
          "output_type": "execute_result",
          "data": {
            "text/plain": [
              "<matplotlib.image.AxesImage at 0x1efc1295ba8>"
            ]
          },
          "metadata": {
            "tags": []
          },
          "execution_count": 32
        },
        {
          "output_type": "display_data",
          "data": {
            "image/png": "[encoded data removed]",
            "text/plain": [
              "<Figure size 432x288 with 1 Axes>"
            ]
          },
          "metadata": {
            "tags": []
          }
        }
      ]
    },
    {
      "cell_type": "code",
      "metadata": {
        "id": "Ks52ewj0csgE",
        "colab_type": "code",
        "outputId": "5d8e7228-0d30-4fac-8ed5-89356b3d7be4",
        "colab": {}
      },
      "source": [
        "test_updated_1 = resize(test_updated, (100,100))"
      ],
      "execution_count": 0,
      "outputs": [
        {
          "output_type": "stream",
          "text": [
            "c:\\users\\vamsi.gp\\appdata\\local\\conda\\conda\\envs\\tf-gpu\\lib\\site-packages\\skimage\\transform\\_warps.py:105: UserWarning: The default mode, 'constant', will be changed to 'reflect' in skimage 0.15.\n",
            "  warn(\"The default mode, 'constant', will be changed to 'reflect' in \"\n",
            "c:\\users\\vamsi.gp\\appdata\\local\\conda\\conda\\envs\\tf-gpu\\lib\\site-packages\\skimage\\transform\\_warps.py:110: UserWarning: Anti-aliasing will be enabled by default in skimage 0.15 to avoid aliasing artifacts when down-sampling images.\n",
            "  warn(\"Anti-aliasing will be enabled by default in skimage 0.15 to \"\n"
          ],
          "name": "stderr"
        }
      ]
    },
    {
      "cell_type": "code",
      "metadata": {
        "id": "5AKKdig_csgH",
        "colab_type": "code",
        "outputId": "abb3d1f6-38e0-4ed8-fce3-b97f4ddb4c93",
        "colab": {}
      },
      "source": [
        "plt.imshow(test_updated_1)"
      ],
      "execution_count": 0,
      "outputs": [
        {
          "output_type": "execute_result",
          "data": {
            "text/plain": [
              "<matplotlib.image.AxesImage at 0x1efc12d2400>"
            ]
          },
          "metadata": {
            "tags": []
          },
          "execution_count": 34
        },
        {
          "output_type": "display_data",
          "data": {
            "image/png": "[encoded data removed]",
            "text/plain": [
              "<Figure size 432x288 with 1 Axes>"
            ]
          },
          "metadata": {
            "tags": []
          }
        }
      ]
    },
    {
      "cell_type": "code",
      "metadata": {
        "id": "dLS7RQ_KcsgL",
        "colab_type": "code",
        "outputId": "4eba7cf1-1c6f-4b0e-ab39-7d1f9a568f3d",
        "colab": {}
      },
      "source": [
        "test_updated_1[:,:,0]"
      ],
      "execution_count": 0,
      "outputs": [
        {
          "output_type": "execute_result",
          "data": {
            "text/plain": [
              "array([[0.39141176, 0.38588235, 0.38862745, ..., 0.36078431, 0.3605098 ,\n",
              "        0.36321569],\n",
              "       [0.392     , 0.39105882, 0.3927451 , ..., 0.40607843, 0.4047451 ,\n",
              "        0.40039216],\n",
              "       [0.39490196, 0.40078431, 0.39901961, ..., 0.43039216, 0.43137255,\n",
              "        0.42960784],\n",
              "       ...,\n",
              "       [0.45490196, 0.45372549, 0.45098039, ..., 0.21470588, 0.24941176,\n",
              "        0.29117647],\n",
              "       [0.45490196, 0.45372549, 0.45098039, ..., 0.22901961, 0.22666667,\n",
              "        0.19443137],\n",
              "       [0.4372549 , 0.43607843, 0.43333333, ..., 0.22431373, 0.16407843,\n",
              "        0.22431373]])"
            ]
          },
          "metadata": {
            "tags": []
          },
          "execution_count": 35
        }
      ]
    },
    {
      "cell_type": "markdown",
      "metadata": {
        "colab_type": "text",
        "id": "TNJWAnV__hFj"
      },
      "source": [
        "In this block, you read the folder names for training and validation. You also set the `batch_size` here. Note that you set the batch size in such a way that you are able to use the GPU in full capacity. You keep increasing the batch size until the machine throws an error."
      ]
    },
    {
      "cell_type": "markdown",
      "metadata": {
        "id": "Gm5GcvnDcsgP",
        "colab_type": "text"
      },
      "source": [
        "#### Constant Variables"
      ]
    },
    {
      "cell_type": "code",
      "metadata": {
        "id": "YGIxHuRycsgQ",
        "colab_type": "code",
        "colab": {}
      },
      "source": [
        "image_width = 100\n",
        "image_height = 100\n",
        "\n",
        "image_idx = [0,1,2,4,6,8,10,12,14,16,18,20,22,24,26,27,28,29]"
      ],
      "execution_count": 0,
      "outputs": []
    },
    {
      "cell_type": "code",
      "metadata": {
        "id": "t_GWgR5Qd2LK",
        "colab_type": "code",
        "colab": {}
      },
      "source": [
        "train_path = './Project_data/train'\n",
        "val_path = './Project_data/val'\n",
        "\n",
        "train_doc = np.random.permutation(open('./Project_data/train.csv').readlines())\n",
        "val_doc = np.random.permutation(open('./Project_data/val.csv').readlines())"
      ],
      "execution_count": 0,
      "outputs": []
    },
    {
      "cell_type": "code",
      "metadata": {
        "colab_type": "code",
        "id": "DsxKcmrR_hF2",
        "colab": {}
      },
      "source": [
        "# train_doc = np.random.permutation(open('/notebooks/storage/Final_data/Collated_training/train.csv').readlines())\n",
        "# val_doc = np.random.permutation(open('/notebooks/storage/Final_data/Collated_training/val.csv').readlines())\n",
        "\n",
        "# train_path = '/notebooks/storage/Final_data/Collated_training/train'\n",
        "# val_path = '/notebooks/storage/Final_data/Collated_training/val'"
      ],
      "execution_count": 0,
      "outputs": []
    },
    {
      "cell_type": "code",
      "metadata": {
        "id": "JXu3n3DncsgW",
        "colab_type": "code",
        "colab": {}
      },
      "source": [
        "def norm1(image):\n",
        "    epsilon = 1e-7\n",
        "    norm_image = (image - image.mean(axis=(0,1,2), keepdims=True)) / image.std(axis=(0,1,2), keepdims=True)\n",
        "    return norm_image"
      ],
      "execution_count": 0,
      "outputs": []
    },
    {
      "cell_type": "code",
      "metadata": {
        "id": "8MCCyXzDcsgZ",
        "colab_type": "code",
        "colab": {}
      },
      "source": [
        "def norm2(image):\n",
        "    return np.array((image - np.min(image)) / (np.max(image) - np.min(image)))"
      ],
      "execution_count": 0,
      "outputs": []
    },
    {
      "cell_type": "code",
      "metadata": {
        "id": "L-joqp53csgc",
        "colab_type": "code",
        "colab": {}
      },
      "source": [
        "def norm3(image):\n",
        "    return (image - np.percentile(image,5)) / (np.percentile(image,95) - np.percentile(image,5))"
      ],
      "execution_count": 0,
      "outputs": []
    },
    {
      "cell_type": "code",
      "metadata": {
        "id": "1ALUH6LGcsgg",
        "colab_type": "code",
        "colab": {}
      },
      "source": [
        ""
      ],
      "execution_count": 0,
      "outputs": []
    },
    {
      "cell_type": "markdown",
      "metadata": {
        "id": "xUTzRF4Tcsgl",
        "colab_type": "text"
      },
      "source": [
        "### Check Images for cropping"
      ]
    },
    {
      "cell_type": "code",
      "metadata": {
        "id": "-r8wZUidcsgn",
        "colab_type": "code",
        "outputId": "197af39a-4f04-4256-be0c-53604ef57bba",
        "colab": {}
      },
      "source": [
        "a = np.random.permutation(train_doc)\n",
        "print(len(a))"
      ],
      "execution_count": 0,
      "outputs": [
        {
          "output_type": "stream",
          "text": [
            "663\n"
          ],
          "name": "stdout"
        }
      ]
    },
    {
      "cell_type": "code",
      "metadata": {
        "id": "ZPTnkeIJcsgu",
        "colab_type": "code",
        "colab": {}
      },
      "source": [
        "a = a[::100]"
      ],
      "execution_count": 0,
      "outputs": []
    },
    {
      "cell_type": "code",
      "metadata": {
        "id": "aoVuCA3pcsgx",
        "colab_type": "code",
        "outputId": "880e7ebe-0a50-4fd0-bd1d-1796fcb5e40a",
        "colab": {}
      },
      "source": [
        "len(a)"
      ],
      "execution_count": 0,
      "outputs": [
        {
          "output_type": "execute_result",
          "data": {
            "text/plain": [
              "7"
            ]
          },
          "metadata": {
            "tags": []
          },
          "execution_count": 43
        }
      ]
    },
    {
      "cell_type": "code",
      "metadata": {
        "id": "Jf-hdGaFcsg1",
        "colab_type": "code",
        "outputId": "5f7f5d26-85a2-4eb7-dd76-9faccc75c6e8",
        "colab": {}
      },
      "source": [
        "a[0].split(';')"
      ],
      "execution_count": 0,
      "outputs": [
        {
          "output_type": "execute_result",
          "data": {
            "text/plain": [
              "['WIN_20180926_17_24_58_Pro_Right_Swipe_new', 'Right_Swipe_new', '1\\n']"
            ]
          },
          "metadata": {
            "tags": []
          },
          "execution_count": 44
        }
      ]
    },
    {
      "cell_type": "code",
      "metadata": {
        "id": "Ny1Z6zqpcsg4",
        "colab_type": "code",
        "outputId": "2e311535-c2ff-45a6-e9fa-ab08697f7215",
        "colab": {}
      },
      "source": [
        "\n",
        "\n",
        "fig = plt.figure(figsize=(30, 30))  # width, height in inches\n",
        "\n",
        "def plot_image(images, cmap=None):\n",
        "    y = len(images)//3+1\n",
        "    \n",
        "    for i in range(len(image)):\n",
        "        sub = fig.add_subplot(4, y, i + 1)\n",
        "        sub.imshow(images[i], interpolation='nearest')\n",
        "    \n",
        "#     f, axes = plt.subplots(3, len(images))\n",
        "#     f.set_figwidth(15)\n",
        "#     for ax,image in zip(axes, images):\n",
        "#         plt.imshow(image, cmap)"
      ],
      "execution_count": 0,
      "outputs": [
        {
          "output_type": "display_data",
          "data": {
            "text/plain": [
              "<Figure size 2160x2160 with 0 Axes>"
            ]
          },
          "metadata": {
            "tags": []
          }
        }
      ]
    },
    {
      "cell_type": "code",
      "metadata": {
        "id": "hk1TzBSucsg9",
        "colab_type": "code",
        "colab": {}
      },
      "source": [
        "\n",
        "img_arr = []\n",
        "for folder in range(len(a)):\n",
        "    imgs = os.listdir(train_path+'/'+ a[folder].split(';')[0]) # read all the images in the folder\n",
        "    for idx,item in enumerate(image_idx): #  Iterate iver the frames/images of a folder to read them in\n",
        "        image = imread(train_path+'/'+ a[folder].strip().split(';')[0]+'/'+imgs[item])\n",
        "        img_arr.append(image)\n",
        "\n",
        "# print(len(img_arr))\n",
        "# print(img_arr[0])\n",
        "# plot_image(img_arr)\n",
        "\n",
        "    "
      ],
      "execution_count": 0,
      "outputs": []
    },
    {
      "cell_type": "code",
      "metadata": {
        "id": "46jqwnPVcshA",
        "colab_type": "code",
        "outputId": "76da0014-287f-4f1b-bcfa-feffa67e46e8",
        "colab": {}
      },
      "source": [
        "plt.imshow(img_arr[0])"
      ],
      "execution_count": 0,
      "outputs": [
        {
          "output_type": "execute_result",
          "data": {
            "text/plain": [
              "<matplotlib.image.AxesImage at 0x1efc131bc50>"
            ]
          },
          "metadata": {
            "tags": []
          },
          "execution_count": 49
        },
        {
          "output_type": "display_data",
          "data": {
            "image/png": "[encoded data removed]",
            "text/plain": [
              "<Figure size 432x288 with 1 Axes>"
            ]
          },
          "metadata": {
            "tags": []
          }
        }
      ]
    },
    {
      "cell_type": "code",
      "metadata": {
        "id": "JadsTp3KcshD",
        "colab_type": "code",
        "outputId": "0d923ab6-844c-44ae-b480-e8ea8509bcc4",
        "colab": {}
      },
      "source": [
        "plt.imshow(img_arr[5])"
      ],
      "execution_count": 0,
      "outputs": [
        {
          "output_type": "execute_result",
          "data": {
            "text/plain": [
              "<matplotlib.image.AxesImage at 0x1efc1359b00>"
            ]
          },
          "metadata": {
            "tags": []
          },
          "execution_count": 50
        },
        {
          "output_type": "display_data",
          "data": {
            "image/png": "[encoded data removed]",
            "text/plain": [
              "<Figure size 432x288 with 1 Axes>"
            ]
          },
          "metadata": {
            "tags": []
          }
        }
      ]
    },
    {
      "cell_type": "markdown",
      "metadata": {
        "colab_type": "text",
        "id": "BzTpzfzd_hGj"
      },
      "source": [
        "## Generator\n",
        "This is one of the most important part of the code. The overall structure of the generator has been given. In the generator, you are going to preprocess the images as you have images of 2 different dimensions as well as create a batch of video frames. You have to experiment with `img_idx`, `y`,`z` and normalization such that you get high accuracy."
      ]
    },
    {
      "cell_type": "code",
      "metadata": {
        "id": "MgvBdSeScshG",
        "colab_type": "code",
        "colab": {}
      },
      "source": [
        ""
      ],
      "execution_count": 0,
      "outputs": []
    },
    {
      "cell_type": "code",
      "metadata": {
        "id": "pYxYe8sDcshI",
        "colab_type": "code",
        "colab": {}
      },
      "source": [
        "def retrieve_images_as_per_batch(source_path, folder_list, batch, batch_size, t, img_idx, image_norm_method=2):\n",
        "    x = len(img_idx)\n",
        "    y = image_height\n",
        "    z = image_width      \n",
        "\n",
        "    batch_data = np.zeros((batch_size,x,y,z,3)) # x is the number of images you use for each video, (y,z) is the final size of the input images and 3 is the number of channels RGB\n",
        "    batch_labels = np.zeros((batch_size,5)) # batch_labels is the one hot representation of the output\n",
        "\n",
        "    for folder in range(batch_size): # iterate over the batch_size\n",
        "        \n",
        "        imgs = os.listdir(source_path+'/'+ t[folder + (batch*batch_size)].split(';')[0]) # read all the images in the folder\n",
        "        \n",
        "        for idx,item in enumerate(img_idx): #  Iterate iver the frames/images of a folder to read them in\n",
        "            image = imread(source_path+'/'+ \n",
        "                           t[folder + (batch*batch_size)].strip().split(';')[0]+'/'+imgs[item])\n",
        "\n",
        "            if(image.shape[0]!=image.shape[1]):\n",
        "                image=image[0:120,20:140]\n",
        "\n",
        "            # image = imresize(image, (y,z))\n",
        "            image = resize(image, (y,z))\n",
        "\n",
        "            if image_norm_method==1:\n",
        "                norm_image = norm1(image)\n",
        "            elif image_norm_method ==2:\n",
        "                norm_image = norm2(image)\n",
        "            else:\n",
        "                norm_image = norm3(image)\n",
        "\n",
        "            batch_data[folder,idx,:,:,0] = norm_image[:,:,0]\n",
        "            batch_data[folder,idx,:,:,1] = norm_image[:,:,1]\n",
        "            batch_data[folder,idx,:,:,2] = norm_image[:,:,2]\n",
        "\n",
        "        batch_labels[folder, int(t[folder + (batch*batch_size)].strip().split(';')[2])] = 1\n",
        "    return batch_data, batch_labels #you yield the batch_data and the batch_labels, remember what does yield do"
      ],
      "execution_count": 0,
      "outputs": []
    },
    {
      "cell_type": "code",
      "metadata": {
        "colab_type": "code",
        "id": "ZPP4BKIB_hHK",
        "colab": {}
      },
      "source": [
        "def generator(source_path, folder_list, batch_size, image_idx, image_norm_method=2):\n",
        "    print( 'Source path = ', source_path, '; batch size =', batch_size)\n",
        "    img_idx = image_idx\n",
        "    while True:\n",
        "        t = np.random.permutation(folder_list)\n",
        "        num_batches = len(folder_list) // batch_size\n",
        "        \n",
        "        # for remaining videos\n",
        "        remaining_sequences = len(folder_list) % batch_size\n",
        "        \n",
        "        for batch in range(num_batches): # we iterate over the number of batches\n",
        "            yield retrieve_images_as_per_batch(source_path, folder_list, batch, batch_size, t, image_idx)\n",
        "\n",
        "        \n",
        "        # write the code for the remaining data points which are left after full batches\n",
        "        if remaining_sequences != 0:\n",
        "            yield retrieve_images_as_per_batch(source_path, folder_list, num_batches, remaining_sequences, t, image_idx)"
      ],
      "execution_count": 0,
      "outputs": []
    },
    {
      "cell_type": "markdown",
      "metadata": {
        "colab_type": "text",
        "id": "mdoLFUjM_hHa"
      },
      "source": [
        "Note here that a video is represented above in the generator as (number of images, height, width, number of channels). Take this into consideration while creating the model architecture."
      ]
    },
    {
      "cell_type": "code",
      "metadata": {
        "colab_type": "code",
        "id": "kDdEBylo_hIH",
        "outputId": "79fb93e8-c136-4a47-fc2b-74e38b653006",
        "colab": {}
      },
      "source": [
        "curr_dt_time = datetime.datetime.now()\n",
        "\n",
        "num_train_sequences = len(train_doc)\n",
        "print('# training sequences =', num_train_sequences)\n",
        "num_val_sequences = len(val_doc)\n",
        "print('# validation sequences =', num_val_sequences)\n"
      ],
      "execution_count": 0,
      "outputs": [
        {
          "output_type": "stream",
          "text": [
            "# training sequences = 663\n",
            "# validation sequences = 100\n"
          ],
          "name": "stdout"
        }
      ]
    },
    {
      "cell_type": "markdown",
      "metadata": {
        "colab_type": "text",
        "id": "8ih4mzNo_hJT"
      },
      "source": [
        "Let us create the `train_generator` and the `val_generator` which will be used in `.fit_generator`."
      ]
    },
    {
      "cell_type": "code",
      "metadata": {
        "colab_type": "code",
        "id": "OKP3aaMC_hJZ",
        "colab": {}
      },
      "source": [
        "def create_train_val_generators(batch_size, image_idx, img_dim):\n",
        "    train_generator = generator(train_path, train_doc, batch_size, image_idx,image_norm_method=2)\n",
        "    val_generator = generator(val_path, val_doc, batch_size, image_idx, image_norm_method=2)\n",
        "    \n",
        "    return train_generator, val_generator"
      ],
      "execution_count": 0,
      "outputs": []
    },
    {
      "cell_type": "code",
      "metadata": {
        "colab_type": "code",
        "id": "-9VyYTHg_hJk",
        "colab": {}
      },
      "source": [
        ""
      ],
      "execution_count": 0,
      "outputs": []
    },
    {
      "cell_type": "markdown",
      "metadata": {
        "colab_type": "text",
        "id": "vGt-fNJt_hJt"
      },
      "source": [
        "The `steps_per_epoch` and `validation_steps` are used by `fit_generator` to decide the number of next() calls it need to make."
      ]
    },
    {
      "cell_type": "markdown",
      "metadata": {
        "colab_type": "text",
        "id": "YZdzz8PT_hIR"
      },
      "source": [
        "## Model\n",
        "Here you make the model using different functionalities that Keras provides. Remember to use `Conv3D` and `MaxPooling3D` and not `Conv2D` and `Maxpooling2D` for a 3D convolution model. You would want to use `TimeDistributed` while building a Conv2D + RNN model. Also remember that the last layer is the softmax. Design the network in such a way that the model is able to give good accuracy on the least number of parameters so that it can fit in the memory of the webcam."
      ]
    },
    {
      "cell_type": "markdown",
      "metadata": {
        "colab_type": "text",
        "id": "uklqgquv_hIi"
      },
      "source": [
        "## 3d CNN models\n",
        "\n",
        "- https://ieeexplore.ieee.org/document/8545718 (later experiment with more conv)"
      ]
    },
    {
      "cell_type": "code",
      "metadata": {
        "colab_type": "code",
        "id": "scT1i1mx_hIm",
        "colab": {}
      },
      "source": [
        "def create_3d_cnn_model(input_shape, filters=[32,64,128,256], optimiser=Adam()):\n",
        "\n",
        "    filter_size = filters\n",
        "    dense_layer_size = [512,256]\n",
        "    \n",
        "    initializer = glorot_uniform(seed = np.random.seed(30))\n",
        "    model = Sequential()\n",
        "\n",
        "    #Layer 1\n",
        "    model.add(Conv3D(filters=filter_size[0],kernel_size=(7,7,3), input_shape=input_shape, padding='same'))\n",
        "    model.add(BatchNormalization())\n",
        "    model.add(Activation('relu'))\n",
        "    model.add(Conv3D(filters=filter_size[0],kernel_size=(3,3,3), padding='same'))\n",
        "    model.add(BatchNormalization())\n",
        "    model.add(Activation('relu'))\n",
        "    model.add(MaxPooling3D(pool_size=(2,2,2)))\n",
        "\n",
        "\n",
        "    #Layer 2\n",
        "    model.add(Conv3D(filters=filter_size[1],kernel_size=(3,3,3), padding='same'))\n",
        "    model.add(BatchNormalization())\n",
        "    model.add(Activation('relu'))\n",
        "    model.add(Conv3D(filters=filter_size[1],kernel_size=(3,3,3), padding='same'))\n",
        "    model.add(BatchNormalization())\n",
        "    model.add(Activation('relu'))\n",
        "    model.add(MaxPooling3D(pool_size=(2,2,2)))\n",
        "\n",
        "\n",
        "    #Layer 3\n",
        "    model.add(Conv3D(filters=filter_size[2],kernel_size=(1,3,3), padding='same'))\n",
        "    model.add(BatchNormalization())\n",
        "    model.add(Activation('relu'))\n",
        "    model.add(Conv3D(filters=filter_size[2],kernel_size=(1,3,3), padding='same'))\n",
        "    model.add(BatchNormalization())\n",
        "    model.add(Activation('relu'))\n",
        "    model.add(MaxPooling3D(pool_size=(2,2,2)))\n",
        "\n",
        "    # model.add(Dropout(0.25))\n",
        "\n",
        "    # #Layer 4\n",
        "    model.add(Conv3D(filters=filter_size[3],kernel_size=(1,3,3), padding='same')) # 'valid'\n",
        "    model.add(BatchNormalization())\n",
        "    model.add(Activation('relu'))\n",
        "    model.add(Conv3D(filters=filter_size[3],kernel_size=(1,3,3), padding='same')) # 'valid'\n",
        "    model.add(BatchNormalization())\n",
        "    model.add(Activation('relu'))\n",
        "    model.add(MaxPooling3D(pool_size=(2,2,2)))\n",
        "\n",
        "    model.add(Dropout(0.25))\n",
        "\n",
        "\n",
        "    #Flatten Layers\n",
        "    model.add(Flatten())\n",
        "\n",
        "    # Dense 1\n",
        "    model.add(Dense(dense_layer_size[0], activation='relu'))\n",
        "    model.add(Dropout(0.5))\n",
        "\n",
        "    # Dense 2\n",
        "    model.add(Dense(dense_layer_size[1], activation='relu'))\n",
        "    model.add(Dropout(0.5))\n",
        "\n",
        "    # final softmax\n",
        "    #softmax layer\n",
        "    model.add(Dense(5, activation='softmax'))\n",
        "    \n",
        "    model.compile(optimizer=optimiser, loss='categorical_crossentropy', metrics=['categorical_accuracy'])\n",
        "    print (model.summary())\n",
        "    \n",
        "    return model"
      ],
      "execution_count": 0,
      "outputs": []
    },
    {
      "cell_type": "markdown",
      "metadata": {
        "colab_type": "text",
        "id": "DijCHJtI_hI2"
      },
      "source": [
        "### Convolutions + RNN\n",
        "- The conv2D network will extract a feature vector for each image, and a sequence of these feature vectors is then fed to an RNN-based network. The output of the RNN is a regular softmax (for a classification problem such as this one).\n",
        "\n",
        "#### There are a few key things to note about the conv-RNN architecture:\n",
        "\n",
        "- You can use transfer learning in the 2D CNN layer rather than training your own CNN \n",
        "- GRU can be a better choice than an LSTM since it has lesser number of gates (and thus parameters)"
      ]
    },
    {
      "cell_type": "code",
      "metadata": {
        "colab_type": "code",
        "id": "GCsFMjoN_hI5",
        "colab": {}
      },
      "source": [
        "def create_lrcn_model(input_shape):\n",
        "        \"\"\"Build a CNN into RNN.\n",
        "        Starting version from:\n",
        "            https://github.com/udacity/self-driving-car/blob/master/\n",
        "                steering-models/community-models/chauffeur/models.py\n",
        "\n",
        "        Heavily influenced by VGG-16:\n",
        "            https://arxiv.org/abs/1409.1556\n",
        "\n",
        "        Also known as an LRCN:\n",
        "            https://arxiv.org/pdf/1411.4389.pdf\n",
        "        \"\"\"\n",
        "        def add_default_block(model, kernel_filters, init, reg_lambda):\n",
        "\n",
        "            # conv\n",
        "            model.add(TimeDistributed(Conv2D(kernel_filters, (3, 3), padding='same',\n",
        "                                             kernel_initializer=init, kernel_regularizer=regularizers.l2(l=reg_lambda))))\n",
        "            \n",
        "            model.add(TimeDistributed(BatchNormalization()))\n",
        "            model.add(TimeDistributed(Activation('relu')))\n",
        "            # conv\n",
        "            model.add(TimeDistributed(Conv2D(kernel_filters, (3, 3), padding='same',\n",
        "                                             kernel_initializer=init, kernel_regularizer=regularizers.l2(l=reg_lambda))))\n",
        "            model.add(TimeDistributed(BatchNormalization()))\n",
        "            model.add(TimeDistributed(Activation('relu')))\n",
        "            # max pool\n",
        "            model.add(TimeDistributed(MaxPooling2D((2, 2), strides=(2, 2))))\n",
        "\n",
        "            return model\n",
        "\n",
        "        # Xavier normal initializer\n",
        "        initialiser = glorot_uniform()\n",
        "        reg_lambda  = 0.001\n",
        "\n",
        "        model = Sequential()\n",
        "\n",
        "        # first (non-default) block\n",
        "        model.add(TimeDistributed(Conv2D(32, (7, 7), strides=(2, 2), padding='same',\n",
        "                                         kernel_initializer=initialiser, kernel_regularizer=regularizers.l2(l=reg_lambda)),\n",
        "                                  input_shape=input_shape))\n",
        "        model.add(TimeDistributed(BatchNormalization()))\n",
        "        model.add(TimeDistributed(Activation('relu')))\n",
        "        model.add(TimeDistributed(Conv2D(32, (3,3), kernel_initializer=initialiser, kernel_regularizer=regularizers.l2(l=reg_lambda))))\n",
        "        model.add(TimeDistributed(BatchNormalization()))\n",
        "        model.add(TimeDistributed(Activation('relu')))\n",
        "        model.add(TimeDistributed(MaxPooling2D((2, 2), strides=(2, 2))))\n",
        "\n",
        "        # 2nd-5th (default) blocks\n",
        "        model = add_default_block(model, 64,  init=initialiser, reg_lambda=reg_lambda)\n",
        "        model = add_default_block(model, 128, init=initialiser, reg_lambda=reg_lambda)\n",
        "        model = add_default_block(model, 256, init=initialiser, reg_lambda=reg_lambda)\n",
        "        model = add_default_block(model, 512, init=initialiser, reg_lambda=reg_lambda)\n",
        "\n",
        "        # LSTM output head\n",
        "        model.add(TimeDistributed(Flatten()))\n",
        "        model.add(LSTM(256, return_sequences=False, dropout=0.5))\n",
        "        model.add(Dense(5, activation='softmax'))\n",
        "        \n",
        "        model.compile(optimizer=Adam(), loss='categorical_crossentropy', metrics=['categorical_accuracy'])\n",
        "        print (model.summary())\n",
        "\n",
        "        return model"
      ],
      "execution_count": 0,
      "outputs": []
    },
    {
      "cell_type": "code",
      "metadata": {
        "id": "k3EwK7odcshl",
        "colab_type": "code",
        "colab": {}
      },
      "source": [
        ""
      ],
      "execution_count": 0,
      "outputs": []
    },
    {
      "cell_type": "markdown",
      "metadata": {
        "id": "_jh74jvbcshn",
        "colab_type": "text"
      },
      "source": [
        "### VGG + LSTM"
      ]
    },
    {
      "cell_type": "code",
      "metadata": {
        "id": "lIVyszQ8csho",
        "colab_type": "code",
        "colab": {}
      },
      "source": [
        ""
      ],
      "execution_count": 0,
      "outputs": []
    },
    {
      "cell_type": "code",
      "metadata": {
        "id": "uabR7bBucshq",
        "colab_type": "code",
        "outputId": "e0151310-54b7-420b-9feb-316432f807fa",
        "colab": {
          "base_uri": "https://localhost:8080/",
          "height": 272
        }
      },
      "source": [
        "cnn_base = VGG16(input_shape=(image_height,image_width,3), weights=\"imagenet\", include_top=False)"
      ],
      "execution_count": 0,
      "outputs": [
        {
          "output_type": "stream",
          "text": [
            "WARNING:tensorflow:From /usr/local/lib/python3.6/dist-packages/keras/backend/tensorflow_backend.py:66: The name tf.get_default_graph is deprecated. Please use tf.compat.v1.get_default_graph instead.\n",
            "\n",
            "WARNING:tensorflow:From /usr/local/lib/python3.6/dist-packages/keras/backend/tensorflow_backend.py:541: The name tf.placeholder is deprecated. Please use tf.compat.v1.placeholder instead.\n",
            "\n",
            "WARNING:tensorflow:From /usr/local/lib/python3.6/dist-packages/keras/backend/tensorflow_backend.py:4432: The name tf.random_uniform is deprecated. Please use tf.random.uniform instead.\n",
            "\n",
            "WARNING:tensorflow:From /usr/local/lib/python3.6/dist-packages/keras/backend/tensorflow_backend.py:4267: The name tf.nn.max_pool is deprecated. Please use tf.nn.max_pool2d instead.\n",
            "\n",
            "Downloading data from https://github.com/fchollet/deep-learning-models/releases/download/v0.1/vgg16_weights_tf_dim_ordering_tf_kernels_notop.h5\n",
            "58892288/58889256 [==============================] - 2s 0us/step\n",
            "WARNING:tensorflow:From /usr/local/lib/python3.6/dist-packages/keras/backend/tensorflow_backend.py:190: The name tf.get_default_session is deprecated. Please use tf.compat.v1.get_default_session instead.\n",
            "\n",
            "WARNING:tensorflow:From /usr/local/lib/python3.6/dist-packages/keras/backend/tensorflow_backend.py:197: The name tf.ConfigProto is deprecated. Please use tf.compat.v1.ConfigProto instead.\n",
            "\n"
          ],
          "name": "stdout"
        }
      ]
    },
    {
      "cell_type": "code",
      "metadata": {
        "id": "KU-8GkeVcsht",
        "colab_type": "code",
        "outputId": "27256e16-3bfc-4de0-e5c1-6c885cdacf6d",
        "colab": {
          "base_uri": "https://localhost:8080/",
          "height": 490
        }
      },
      "source": [
        "video = Input(shape=(len(image_idx),\n",
        "                     image_height, # rows\n",
        "                     image_width,3)) # columns\n",
        "\n",
        "cnn_base = VGG16(input_shape=(image_height,image_width,3), weights=\"imagenet\", include_top=False)\n",
        "\n",
        "cnn_out = GlobalAveragePooling2D()(cnn_base.output)\n",
        "cnn = Model(input=cnn_base.input, output=cnn_out)\n",
        "cnn.trainable = False\n",
        "\n",
        "encoded_frames = TimeDistributed(cnn)(video)\n",
        "encoded_sequence = LSTM(256)(encoded_frames)\n",
        "\n",
        "hidden_layer = Dense(output_dim=1024, activation=\"relu\")(encoded_sequence)\n",
        "\n",
        "outputs = Dense(output_dim=5, activation=\"softmax\")(hidden_layer)\n",
        "\n",
        "model = Model([video], outputs)\n",
        "\n",
        "optimizer = Nadam(lr=0.002,\n",
        "                  beta_1=0.9,\n",
        "                  beta_2=0.999,\n",
        "                  epsilon=1e-08,\n",
        "                  schedule_decay=0.004)\n",
        "\n",
        "model.compile(optimizer=optimizer, loss='categorical_crossentropy', metrics=['categorical_accuracy'])\n",
        "\n",
        "print(model.summary())"
      ],
      "execution_count": 0,
      "outputs": [
        {
          "output_type": "stream",
          "text": [
            "/usr/local/lib/python3.6/dist-packages/ipykernel_launcher.py:8: UserWarning: Update your `Model` call to the Keras 2 API: `Model(inputs=Tensor(\"in..., outputs=Tensor(\"gl...)`\n",
            "  \n"
          ],
          "name": "stderr"
        },
        {
          "output_type": "stream",
          "text": [
            "WARNING:tensorflow:From /usr/local/lib/python3.6/dist-packages/keras/optimizers.py:793: The name tf.train.Optimizer is deprecated. Please use tf.compat.v1.train.Optimizer instead.\n",
            "\n",
            "Model: \"model_5\"\n",
            "_________________________________________________________________\n",
            "Layer (type)                 Output Shape              Param #   \n",
            "=================================================================\n",
            "input_6 (InputLayer)         (None, 18, 100, 100, 3)   0         \n",
            "_________________________________________________________________\n",
            "time_distributed_3 (TimeDist (None, 18, 512)           14714688  \n",
            "_________________________________________________________________\n",
            "lstm_2 (LSTM)                (None, 256)               787456    \n",
            "_________________________________________________________________\n",
            "dense_3 (Dense)              (None, 1024)              263168    \n",
            "_________________________________________________________________\n",
            "dense_4 (Dense)              (None, 5)                 5125      \n",
            "=================================================================\n",
            "Total params: 15,770,437\n",
            "Trainable params: 15,770,437\n",
            "Non-trainable params: 0\n",
            "_________________________________________________________________\n",
            "None\n"
          ],
          "name": "stdout"
        },
        {
          "output_type": "stream",
          "text": [
            "/usr/local/lib/python3.6/dist-packages/ipykernel_launcher.py:14: UserWarning: Update your `Dense` call to the Keras 2 API: `Dense(activation=\"relu\", units=1024)`\n",
            "  \n",
            "/usr/local/lib/python3.6/dist-packages/ipykernel_launcher.py:16: UserWarning: Update your `Dense` call to the Keras 2 API: `Dense(activation=\"softmax\", units=5)`\n",
            "  app.launch_new_instance()\n"
          ],
          "name": "stderr"
        }
      ]
    },
    {
      "cell_type": "code",
      "metadata": {
        "id": "MPfV4sF6cshw",
        "colab_type": "code",
        "colab": {}
      },
      "source": [
        ""
      ],
      "execution_count": 0,
      "outputs": []
    },
    {
      "cell_type": "markdown",
      "metadata": {
        "colab_type": "text",
        "id": "pTfW8ro1_hJA"
      },
      "source": [
        "Now that you have written the model, the next step is to `compile` the model. When you print the `summary` of the model, you'll see the total number of parameters you have to train."
      ]
    },
    {
      "cell_type": "code",
      "metadata": {
        "colab_type": "code",
        "id": "T5mt_jC5_hJC",
        "colab": {}
      },
      "source": [
        ""
      ],
      "execution_count": 0,
      "outputs": []
    },
    {
      "cell_type": "code",
      "metadata": {
        "id": "TYK9fvFxcsh7",
        "colab_type": "code",
        "colab": {}
      },
      "source": [
        "def train_model_int(model, train_generator, val_generator, batch_size, num_epochs, model_log):\n",
        "    if (num_train_sequences%batch_size) == 0:\n",
        "        steps_per_epoch = int(num_train_sequences/batch_size)\n",
        "    else:\n",
        "        steps_per_epoch = (num_train_sequences//batch_size) + 1\n",
        "\n",
        "    if (num_val_sequences%batch_size) == 0:\n",
        "        validation_steps = int(num_val_sequences/batch_size)\n",
        "    else:\n",
        "        validation_steps = (num_val_sequences//batch_size) + 1\n",
        "        \n",
        "    model_name = 'model_init' + '_' + str(curr_dt_time).replace(' ','').replace(':','_') + model_log +'/'\n",
        "    \n",
        "    if not os.path.exists(model_name):\n",
        "        os.mkdir(model_name)\n",
        "\n",
        "    filepath = model_name + 'model_-{epoch:05d}-{loss:.5f}-{categorical_accuracy:.5f}-{val_loss:.5f}-{val_categorical_accuracy:.5f}.h5'\n",
        "    #early stopping required\n",
        "    ES = EarlyStopping(monitor='val_loss', verbose=1, patience=10)\n",
        "    checkpoint = ModelCheckpoint(filepath, monitor='val_loss', verbose=1, save_best_only=True, \n",
        "                                 save_weights_only=False, mode='auto', period=1)\n",
        "    \n",
        "    # patience can be increased with early stopping (5)\n",
        "    LR = ReduceLROnPlateau(monitor='val_loss', factor=0.5, patience=5, cooldown=1, verbose=1)\n",
        "    \n",
        "    # callbacks_list = [checkpoint, LR, ES]\n",
        "    callbacks_list = [checkpoint, LR]\n",
        "    \n",
        "    \n",
        "    model.fit_generator(train_generator, steps_per_epoch=steps_per_epoch, epochs=num_epochs, verbose=1, \n",
        "                    callbacks=callbacks_list, validation_data=val_generator, \n",
        "                    validation_steps=validation_steps, class_weight=None, workers=1, initial_epoch=0)"
      ],
      "execution_count": 0,
      "outputs": []
    },
    {
      "cell_type": "code",
      "metadata": {
        "id": "NSprg4hzcsh9",
        "colab_type": "code",
        "colab": {}
      },
      "source": [
        ""
      ],
      "execution_count": 0,
      "outputs": []
    },
    {
      "cell_type": "code",
      "metadata": {
        "colab_type": "code",
        "id": "LUedP8Kg_hJv",
        "colab": {}
      },
      "source": [
        "def train_cnn3d_model(epoch, batch_size, log,filters = [16,16,32,64], optimizer=Adam()):\n",
        "    \n",
        "    batch_size = batch_size\n",
        "    num_epochs = epoch\n",
        "    img_dim = (image_height,image_width)\n",
        "    \n",
        "    train_gen, val_gen = create_train_val_generators(batch_size=batch_size,image_idx=image_idx,img_dim=img_dim)\n",
        "    \n",
        "    # length of video sequence, width, height, num_channels\n",
        "    input_shape=(len(image_idx), image_width, image_height, 3)\n",
        "    \n",
        "    model = create_3d_cnn_model(input_shape=input_shape, filters=filters, optimiser=optimizer)\n",
        "    \n",
        "    train_model_int(model = model, train_generator=train_gen, val_generator=val_gen, batch_size=batch_size,num_epochs=epoch,model_log=log)"
      ],
      "execution_count": 0,
      "outputs": []
    },
    {
      "cell_type": "code",
      "metadata": {
        "id": "h-ZZxx5scsiE",
        "colab_type": "code",
        "colab": {}
      },
      "source": [
        "# train_cnn3d_model(epoch=1, batch_size=8, log = 'temp')"
      ],
      "execution_count": 0,
      "outputs": []
    },
    {
      "cell_type": "code",
      "metadata": {
        "id": "K9QraQ0rcsiH",
        "colab_type": "code",
        "colab": {}
      },
      "source": [
        ""
      ],
      "execution_count": 0,
      "outputs": []
    },
    {
      "cell_type": "code",
      "metadata": {
        "id": "aL-lpvbbcsiJ",
        "colab_type": "code",
        "colab": {}
      },
      "source": [
        ""
      ],
      "execution_count": 0,
      "outputs": []
    },
    {
      "cell_type": "code",
      "metadata": {
        "id": "bpTNL8H5csiL",
        "colab_type": "code",
        "colab": {}
      },
      "source": [
        ""
      ],
      "execution_count": 0,
      "outputs": []
    },
    {
      "cell_type": "code",
      "metadata": {
        "id": "uUx5gyJScsiN",
        "colab_type": "code",
        "colab": {}
      },
      "source": [
        "train_cnn3d_model(epoch=20, batch_size=8, log = '3dcnn')"
      ],
      "execution_count": 0,
      "outputs": []
    },
    {
      "cell_type": "code",
      "metadata": {
        "id": "aR8XTYK0csiR",
        "colab_type": "code",
        "colab": {}
      },
      "source": [
        ""
      ],
      "execution_count": 0,
      "outputs": []
    },
    {
      "cell_type": "code",
      "metadata": {
        "id": "_aQYhopjcsiS",
        "colab_type": "code",
        "colab": {}
      },
      "source": [
        ""
      ],
      "execution_count": 0,
      "outputs": []
    },
    {
      "cell_type": "code",
      "metadata": {
        "id": "_zeuDkU-csiV",
        "colab_type": "code",
        "colab": {}
      },
      "source": [
        ""
      ],
      "execution_count": 0,
      "outputs": []
    },
    {
      "cell_type": "code",
      "metadata": {
        "id": "oOITT-bJcsiW",
        "colab_type": "code",
        "colab": {}
      },
      "source": [
        ""
      ],
      "execution_count": 0,
      "outputs": []
    },
    {
      "cell_type": "code",
      "metadata": {
        "id": "nzraq8pScsiY",
        "colab_type": "code",
        "colab": {}
      },
      "source": [
        ""
      ],
      "execution_count": 0,
      "outputs": []
    },
    {
      "cell_type": "code",
      "metadata": {
        "id": "u6AE_Twtcsib",
        "colab_type": "code",
        "colab": {}
      },
      "source": [
        ""
      ],
      "execution_count": 0,
      "outputs": []
    },
    {
      "cell_type": "code",
      "metadata": {
        "id": "DnCDH1zNcsid",
        "colab_type": "code",
        "colab": {}
      },
      "source": [
        "def train_lrcn(epoch, batch_size, img_norm_method, log, optimizer=Adam(), filters = [16,32,64,64]):\n",
        "    \n",
        "    image_width = 100\n",
        "    image_height = 100\n",
        "    \n",
        "    image_idx = [0,1,2,4,6,8,10,12,14,16,18,20,22,24,26,27,28,29]\n",
        "\n",
        "    batch_size = batch_size\n",
        "    num_epochs = epoch\n",
        "    img_dim = (image_height,image_width)\n",
        "    train_gen, val_gen = create_train_val_generators(batch_size=batch_size,image_idx=image_idx,img_dim=img_dim)\n",
        "    \n",
        "    # length of video sequence, width, height, num_channels\n",
        "    input_shape=(len(image_idx), image_width, image_height, 3)\n",
        "    \n",
        "    model = create_lrcn_model(input_shape=input_shape)\n",
        "    \n",
        "    train_model_int(model = model, train_generator=train_gen, val_generator=val_gen, batch_size=batch_size,num_epochs=epoch,model_log=log)"
      ],
      "execution_count": 0,
      "outputs": []
    },
    {
      "cell_type": "code",
      "metadata": {
        "id": "mc9mtCsFcsie",
        "colab_type": "code",
        "colab": {}
      },
      "source": [
        "print(\"1\"*100)\n",
        "train_lrcn(epoch=20, batch_size=8, img_norm_method=2, log=\"lrcn_norm-1\",filters = [16,16,32,64])\n",
        "print(\"1\"*100)"
      ],
      "execution_count": 0,
      "outputs": []
    },
    {
      "cell_type": "code",
      "metadata": {
        "id": "F814T9n5csih",
        "colab_type": "code",
        "colab": {}
      },
      "source": [
        ""
      ],
      "execution_count": 0,
      "outputs": []
    },
    {
      "cell_type": "markdown",
      "metadata": {
        "id": "__WWVNeVcsik",
        "colab_type": "raw"
      },
      "source": [
        ""
      ]
    },
    {
      "cell_type": "code",
      "metadata": {
        "id": "PksBIwmVcsil",
        "colab_type": "code",
        "colab": {}
      },
      "source": [
        ""
      ],
      "execution_count": 0,
      "outputs": []
    },
    {
      "cell_type": "code",
      "metadata": {
        "id": "1Rde0CWjcsin",
        "colab_type": "code",
        "colab": {}
      },
      "source": [
        ""
      ],
      "execution_count": 0,
      "outputs": []
    },
    {
      "cell_type": "code",
      "metadata": {
        "id": "pUM51Krocsip",
        "colab_type": "code",
        "colab": {}
      },
      "source": [
        ""
      ],
      "execution_count": 0,
      "outputs": []
    },
    {
      "cell_type": "code",
      "metadata": {
        "id": "sxTqg8c-csir",
        "colab_type": "code",
        "colab": {}
      },
      "source": [
        ""
      ],
      "execution_count": 0,
      "outputs": []
    },
    {
      "cell_type": "code",
      "metadata": {
        "id": "P3aWrn5ocsis",
        "colab_type": "code",
        "colab": {}
      },
      "source": [
        ""
      ],
      "execution_count": 0,
      "outputs": []
    },
    {
      "cell_type": "markdown",
      "metadata": {
        "id": "z4G8zLV7csiv",
        "colab_type": "text"
      },
      "source": [
        "### Effect of Normalization"
      ]
    },
    {
      "cell_type": "code",
      "metadata": {
        "id": "LcIc1xJncsiw",
        "colab_type": "code",
        "colab": {}
      },
      "source": [
        ""
      ],
      "execution_count": 0,
      "outputs": []
    },
    {
      "cell_type": "code",
      "metadata": {
        "id": "d3ZxN1qycsiy",
        "colab_type": "code",
        "colab": {}
      },
      "source": [
        ""
      ],
      "execution_count": 0,
      "outputs": []
    },
    {
      "cell_type": "code",
      "metadata": {
        "id": "wKmdLOi9csiz",
        "colab_type": "code",
        "colab": {}
      },
      "source": [
        ""
      ],
      "execution_count": 0,
      "outputs": []
    },
    {
      "cell_type": "code",
      "metadata": {
        "id": "7Ul_kenpcsi2",
        "colab_type": "code",
        "colab": {}
      },
      "source": [
        ""
      ],
      "execution_count": 0,
      "outputs": []
    },
    {
      "cell_type": "code",
      "metadata": {
        "id": "PHRW9ZPBcsi4",
        "colab_type": "code",
        "colab": {}
      },
      "source": [
        ""
      ],
      "execution_count": 0,
      "outputs": []
    },
    {
      "cell_type": "code",
      "metadata": {
        "id": "IwSQImQMcsi5",
        "colab_type": "code",
        "colab": {}
      },
      "source": [
        ""
      ],
      "execution_count": 0,
      "outputs": []
    },
    {
      "cell_type": "code",
      "metadata": {
        "id": "bUs9oQHWcsi6",
        "colab_type": "code",
        "colab": {}
      },
      "source": [
        ""
      ],
      "execution_count": 0,
      "outputs": []
    },
    {
      "cell_type": "code",
      "metadata": {
        "id": "-vfBKpPvcsi8",
        "colab_type": "code",
        "colab": {}
      },
      "source": [
        ""
      ],
      "execution_count": 0,
      "outputs": []
    },
    {
      "cell_type": "code",
      "metadata": {
        "id": "WLO2Opuocsi-",
        "colab_type": "code",
        "colab": {}
      },
      "source": [
        "print(\"1\"*100)\n",
        "train_model(epoch=20, batch_size=8, img_norm_method=2, log=\"norm_1\",filters = [32,32,64,64])\n",
        "print(\"1\"*100)"
      ],
      "execution_count": 0,
      "outputs": []
    },
    {
      "cell_type": "code",
      "metadata": {
        "id": "ZPXQ6xP0csjA",
        "colab_type": "code",
        "colab": {}
      },
      "source": [
        ""
      ],
      "execution_count": 0,
      "outputs": []
    },
    {
      "cell_type": "code",
      "metadata": {
        "id": "k1Yy2-bYcsjD",
        "colab_type": "code",
        "colab": {}
      },
      "source": [
        ""
      ],
      "execution_count": 0,
      "outputs": []
    },
    {
      "cell_type": "code",
      "metadata": {
        "id": "7uAKX9lYcsjE",
        "colab_type": "code",
        "colab": {}
      },
      "source": [
        "print(\"1\"*100)\n",
        "train_model(epoch=20, batch_size=8, img_norm_method=2, log=\"norm_1\",filters = [16,32,64,64])\n",
        "print(\"1\"*100)"
      ],
      "execution_count": 0,
      "outputs": []
    },
    {
      "cell_type": "code",
      "metadata": {
        "id": "QE6Wd8XDcsjH",
        "colab_type": "code",
        "colab": {}
      },
      "source": [
        "\n"
      ],
      "execution_count": 0,
      "outputs": []
    },
    {
      "cell_type": "code",
      "metadata": {
        "id": "J-nwT0OUcsjI",
        "colab_type": "code",
        "colab": {}
      },
      "source": [
        ""
      ],
      "execution_count": 0,
      "outputs": []
    },
    {
      "cell_type": "code",
      "metadata": {
        "id": "5owi-Lm4csjK",
        "colab_type": "code",
        "colab": {}
      },
      "source": [
        "print(\"2\"*100)\n",
        "train_model(epoch=20, batch_size=8, img_norm_method=2,log=\"norm_2\",filters = [16,32,64,128])\n",
        "print(\"2\"*100)"
      ],
      "execution_count": 0,
      "outputs": []
    },
    {
      "cell_type": "code",
      "metadata": {
        "id": "l20QraX_csjL",
        "colab_type": "code",
        "colab": {}
      },
      "source": [
        "print(\"3\"*100)\n",
        "train_model(epoch=20, batch_size=8, img_norm_method=3,log=\"norm_3\",filters = [16,32,64,128])\n",
        "print(\"3\"*100)"
      ],
      "execution_count": 0,
      "outputs": []
    },
    {
      "cell_type": "markdown",
      "metadata": {
        "id": "ZdCcbXkVcsjM",
        "colab_type": "text"
      },
      "source": [
        "- After checking which is normalization method check the batch size"
      ]
    },
    {
      "cell_type": "markdown",
      "metadata": {
        "id": "ShbwDgrJcsjN",
        "colab_type": "text"
      },
      "source": [
        "### Effect of batch size"
      ]
    },
    {
      "cell_type": "code",
      "metadata": {
        "id": "UNfuTqIbcsjO",
        "colab_type": "code",
        "colab": {}
      },
      "source": [
        "print(\"4\"*100)\n",
        "train_model(epoch=20, batch_size=8, img_norm_method=2, log=\"batch_8\",filters = [16,32,64,128])\n",
        "print(\"4\"*100)"
      ],
      "execution_count": 0,
      "outputs": []
    },
    {
      "cell_type": "code",
      "metadata": {
        "id": "Oh0MmR_UcsjT",
        "colab_type": "code",
        "colab": {}
      },
      "source": [
        "print(\"2\"*100)\n",
        "train_model(epoch=20, batch_size=16, img_norm_method=2,log=\"batch_16\",filters = [16,32,64,128])\n",
        "print(\"2\"*100)"
      ],
      "execution_count": 0,
      "outputs": []
    },
    {
      "cell_type": "code",
      "metadata": {
        "id": "kc7Eh1DucsjU",
        "colab_type": "code",
        "colab": {}
      },
      "source": [
        "print(\"3\"*100)\n",
        "train_model(epoch=20, batch_size=32, img_norm_method=2,log=\"batch_32\",filters = [16,32,64,128])\n",
        "print(\"3\"*100)"
      ],
      "execution_count": 0,
      "outputs": []
    },
    {
      "cell_type": "code",
      "metadata": {
        "id": "4_GJiPJscsjV",
        "colab_type": "code",
        "colab": {}
      },
      "source": [
        ""
      ],
      "execution_count": 0,
      "outputs": []
    },
    {
      "cell_type": "markdown",
      "metadata": {
        "id": "cE9oW3S1csjW",
        "colab_type": "text"
      },
      "source": [
        "### Effect of filter size"
      ]
    },
    {
      "cell_type": "code",
      "metadata": {
        "id": "9SG4Ab4dcsjX",
        "colab_type": "code",
        "colab": {}
      },
      "source": [
        "print(\"4\"*100)\n",
        "train_model(epoch=20, batch_size=8, img_norm_method=2, log=\"filter_8\",filters=[8,16,32,64])\n",
        "print(\"4\"*100)"
      ],
      "execution_count": 0,
      "outputs": []
    },
    {
      "cell_type": "code",
      "metadata": {
        "id": "G9gF2ngicsja",
        "colab_type": "code",
        "colab": {}
      },
      "source": [
        "print(\"5\"*100)\n",
        "train_model(epoch=20, batch_size=8, img_norm_method=2, log=\"filter_16\",filters=[16,32,64,128])\n",
        "print(\"5\"*100)"
      ],
      "execution_count": 0,
      "outputs": []
    },
    {
      "cell_type": "code",
      "metadata": {
        "id": "R9cje6f-csjc",
        "colab_type": "code",
        "colab": {}
      },
      "source": [
        "print(\"6\"*100)\n",
        "train_model(epoch=20, batch_size=8, img_norm_method=2, log=\"filter_32\",filters=[32,64,128,256])\n",
        "print(\"6\"*100)"
      ],
      "execution_count": 0,
      "outputs": []
    },
    {
      "cell_type": "code",
      "metadata": {
        "id": "gDhHZCDQcsjd",
        "colab_type": "code",
        "colab": {}
      },
      "source": [
        ""
      ],
      "execution_count": 0,
      "outputs": []
    },
    {
      "cell_type": "code",
      "metadata": {
        "id": "i14ybSTtcsje",
        "colab_type": "code",
        "colab": {}
      },
      "source": [
        "# image_idx = [0,1,2,4,6,8,10,12,14,16,18,20,22,24,26,27,28,29]\n",
        "\n",
        "# # length of video sequence, width, height, num_channels\n",
        "# input_shape=(len(image_idx), image_width, image_height, 3)\n",
        "# create_model(input_shape=input_shape, filters=[8,16,32,64,128,256], optimiser=Adam())"
      ],
      "execution_count": 0,
      "outputs": []
    },
    {
      "cell_type": "code",
      "metadata": {
        "colab_type": "code",
        "id": "UZiABGAC_hJ_",
        "colab": {}
      },
      "source": [
        "from keras.utils.vis_utils import plot_model"
      ],
      "execution_count": 0,
      "outputs": []
    },
    {
      "cell_type": "code",
      "metadata": {
        "colab_type": "code",
        "id": "ZYXrRwg7_hKJ",
        "colab": {}
      },
      "source": [
        "From the Above logs, we can observe the best parameters for better val_loss and cal_categorical_accuracy \n",
        "batch size = 16, norm 2 or norm 3, filter starting with 16"
      ],
      "execution_count": 0,
      "outputs": []
    },
    {
      "cell_type": "markdown",
      "metadata": {
        "id": "23fKQW1Ncsjn",
        "colab_type": "text"
      },
      "source": [
        "lets tweak with the model"
      ]
    },
    {
      "cell_type": "code",
      "metadata": {
        "id": "uILn9clCcsjn",
        "colab_type": "code",
        "colab": {}
      },
      "source": [
        ""
      ],
      "execution_count": 0,
      "outputs": []
    },
    {
      "cell_type": "code",
      "metadata": {
        "id": "LkkbHNtFcsjp",
        "colab_type": "code",
        "colab": {}
      },
      "source": [
        "def create_model1(input_shape, filters, optimiser=Adam()):\n",
        "\n",
        "    filter_size = filters\n",
        "    # filter_size = [8,16,32,64,128,256]\n",
        "    dense_layer_size = [256,128] #256,256\n",
        "\n",
        "#     input_shape=(len(image_idx),image_width,image_height,3)\n",
        "\n",
        "    model = Sequential()\n",
        "\n",
        "\n",
        "    #Layer 1\n",
        "    model.add(Conv3D(filters=filter_size[0],kernel_size=(3,3,3),input_shape=input_shape, padding='same')) # 'valid'\n",
        "    model.add(BatchNormalization())\n",
        "    model.add(Activation('relu'))\n",
        "#     model.add(MaxPooling3D(pool_size=(2,2,2)))\n",
        "\n",
        "\n",
        "    #Layer 1-1\n",
        "    model.add(Conv3D(filters=filter_size[0],kernel_size=(3,3,3),input_shape=input_shape, padding='same')) # 'valid'\n",
        "    model.add(BatchNormalization())\n",
        "    model.add(Activation('relu'))\n",
        "    model.add(MaxPooling3D(pool_size=(2,2,2)))\n",
        "\n",
        "\n",
        "    #Layer 2\n",
        "    model.add(Conv3D(filters=filter_size[1],kernel_size=(3,3,3), padding='same')) # 'valid'\n",
        "    model.add(BatchNormalization())\n",
        "    model.add(Activation('relu'))\n",
        "    model.add(MaxPooling3D(pool_size=(2,2,2)))\n",
        "\n",
        "\n",
        "    #Layer 3\n",
        "    model.add(Conv3D(filters=filter_size[2],kernel_size=(1,3,3), padding='same')) # 'valid'\n",
        "    model.add(BatchNormalization())\n",
        "    model.add(Activation('relu'))\n",
        "    model.add(MaxPooling3D(pool_size=(2,2,2)))\n",
        "\n",
        "    # model.add(Dropout(0.25))\n",
        "\n",
        "    # #Layer 4\n",
        "    model.add(Conv3D(filters=filter_size[3],kernel_size=(1,3,3), padding='same')) # 'valid'\n",
        "    model.add(BatchNormalization())\n",
        "    model.add(Activation('relu'))\n",
        "    model.add(MaxPooling3D(pool_size=(2,2,2)))\n",
        "\n",
        "#     model.add(Dropout(0.25))\n",
        "\n",
        "\n",
        "    #Flatten Layers\n",
        "    model.add(Flatten())\n",
        "\n",
        "    # Dense 1\n",
        "    model.add(Dense(dense_layer_size[0], activation='relu'))\n",
        "    model.add(Dropout(0.3))\n",
        "\n",
        "    # Dense 2\n",
        "    model.add(Dense(dense_layer_size[1], activation='relu'))\n",
        "    model.add(Dropout(0.5))\n",
        "\n",
        "    # final softmax\n",
        "    #softmax layer\n",
        "    model.add(Dense(5, activation='softmax'))\n",
        "    \n",
        "    model.compile(optimizer=optimiser, loss='categorical_crossentropy', metrics=['categorical_accuracy'])\n",
        "    print (model.summary())\n",
        "    plot_model(model)\n",
        "    \n",
        "    return model"
      ],
      "execution_count": 0,
      "outputs": []
    },
    {
      "cell_type": "code",
      "metadata": {
        "id": "yhi0XK0dcsjq",
        "colab_type": "code",
        "colab": {}
      },
      "source": [
        "def train_model1(epoch, batch_size, img_norm_method, log, optimizer=Adam(), filters = [16,32,64,128]):\n",
        "    \n",
        "    image_width = 100\n",
        "    image_height = 100\n",
        "    \n",
        "    image_idx = [0,1,2,4,6,8,10,12,14,16,18,20,22,24,26,27,28,29]\n",
        "\n",
        "    batch_size = batch_size\n",
        "    num_epochs = epoch\n",
        "    img_dim = (image_height,image_width)\n",
        "    train_gen, val_gen = create_train_val_generators(batch_size=batch_size,image_idx=image_idx,img_dim=img_dim,image_norm_method=img_norm_method)\n",
        "    \n",
        "    # length of video sequence, width, height, num_channels\n",
        "    input_shape=(len(image_idx), image_width, image_height, 3)\n",
        "    \n",
        "    model = create_model1(input_shape=input_shape, filters=filters, optimiser=optimizer)\n",
        "    \n",
        "    train_int_model(model = model, train_generator=train_gen, val_generator=val_gen, batch_size=batch_size,num_epochs=epoch,model_log=log)"
      ],
      "execution_count": 0,
      "outputs": []
    },
    {
      "cell_type": "code",
      "metadata": {
        "id": "GYunaLgFcsjr",
        "colab_type": "code",
        "colab": {}
      },
      "source": [
        "print(\"7\"*100)\n",
        "train_model1(epoch=20, batch_size=8, img_norm_method=2, log=\"beta_16_2_16\",filters=[32,64,128,256])\n",
        "print(\"7\"*100)"
      ],
      "execution_count": 0,
      "outputs": []
    },
    {
      "cell_type": "code",
      "metadata": {
        "id": "BkM6bfb5csjt",
        "colab_type": "code",
        "colab": {}
      },
      "source": [
        "!pip install pydot"
      ],
      "execution_count": 0,
      "outputs": []
    },
    {
      "cell_type": "code",
      "metadata": {
        "id": "Kwbwx0kWcsju",
        "colab_type": "code",
        "colab": {}
      },
      "source": [
        ""
      ],
      "execution_count": 0,
      "outputs": []
    }
  ]
}