{
 "cells": [
  {
   "cell_type": "code",
   "execution_count": 17,
   "metadata": {},
   "outputs": [
    {
     "name": "stdout",
     "output_type": "stream",
     "text": [
      "Requirement already satisfied: nltk in c:\\anaconda3\\envs\\tensorflow-gpu\\lib\\site-packages (3.4.5)\n",
      "Requirement already satisfied: six in c:\\anaconda3\\envs\\tensorflow-gpu\\lib\\site-packages (from nltk) (1.11.0)\n"
     ]
    }
   ],
   "source": [
    "!pip install nltk"
   ]
  },
  {
   "cell_type": "code",
   "execution_count": 18,
   "metadata": {},
   "outputs": [
    {
     "name": "stdout",
     "output_type": "stream",
     "text": [
      "Requirement already satisfied: keras in c:\\anaconda3\\envs\\tensorflow-gpu\\lib\\site-packages (2.2.2)\n",
      "Requirement already satisfied: numpy>=1.9.1 in c:\\anaconda3\\envs\\tensorflow-gpu\\lib\\site-packages (from keras) (1.15.2)\n",
      "Requirement already satisfied: scipy>=0.14 in c:\\anaconda3\\envs\\tensorflow-gpu\\lib\\site-packages (from keras) (1.1.0)\n",
      "Requirement already satisfied: six>=1.9.0 in c:\\anaconda3\\envs\\tensorflow-gpu\\lib\\site-packages (from keras) (1.11.0)\n",
      "Requirement already satisfied: pyyaml in c:\\anaconda3\\envs\\tensorflow-gpu\\lib\\site-packages (from keras) (3.13)\n",
      "Requirement already satisfied: h5py in c:\\anaconda3\\envs\\tensorflow-gpu\\lib\\site-packages (from keras) (2.8.0)\n",
      "Requirement already satisfied: keras_applications==1.0.4 in c:\\anaconda3\\envs\\tensorflow-gpu\\lib\\site-packages (from keras) (1.0.4)\n",
      "Requirement already satisfied: keras_preprocessing==1.0.2 in c:\\anaconda3\\envs\\tensorflow-gpu\\lib\\site-packages (from keras) (1.0.2)\n"
     ]
    }
   ],
   "source": [
    "!pip install keras"
   ]
  },
  {
   "cell_type": "code",
   "execution_count": 19,
   "metadata": {},
   "outputs": [
    {
     "name": "stdout",
     "output_type": "stream",
     "text": [
      "Requirement already satisfied: gensim in c:\\anaconda3\\envs\\tensorflow-gpu\\lib\\site-packages (3.8.0)\n",
      "Requirement already satisfied: six>=1.5.0 in c:\\anaconda3\\envs\\tensorflow-gpu\\lib\\site-packages (from gensim) (1.11.0)\n",
      "Requirement already satisfied: numpy>=1.11.3 in c:\\anaconda3\\envs\\tensorflow-gpu\\lib\\site-packages (from gensim) (1.15.2)\n",
      "Requirement already satisfied: smart-open>=1.7.0 in c:\\anaconda3\\envs\\tensorflow-gpu\\lib\\site-packages (from gensim) (1.8.4)\n",
      "Requirement already satisfied: scipy>=0.18.1 in c:\\anaconda3\\envs\\tensorflow-gpu\\lib\\site-packages (from gensim) (1.1.0)\n",
      "Requirement already satisfied: requests in c:\\anaconda3\\envs\\tensorflow-gpu\\lib\\site-packages (from smart-open>=1.7.0->gensim) (2.22.0)\n",
      "Requirement already satisfied: boto>=2.32 in c:\\anaconda3\\envs\\tensorflow-gpu\\lib\\site-packages (from smart-open>=1.7.0->gensim) (2.49.0)\n",
      "Requirement already satisfied: boto3 in c:\\anaconda3\\envs\\tensorflow-gpu\\lib\\site-packages (from smart-open>=1.7.0->gensim) (1.9.218)\n",
      "Requirement already satisfied: certifi>=2017.4.17 in c:\\anaconda3\\envs\\tensorflow-gpu\\lib\\site-packages (from requests->smart-open>=1.7.0->gensim) (2018.8.24)\n",
      "Requirement already satisfied: idna<2.9,>=2.5 in c:\\anaconda3\\envs\\tensorflow-gpu\\lib\\site-packages (from requests->smart-open>=1.7.0->gensim) (2.8)\n",
      "Requirement already satisfied: chardet<3.1.0,>=3.0.2 in c:\\anaconda3\\envs\\tensorflow-gpu\\lib\\site-packages (from requests->smart-open>=1.7.0->gensim) (3.0.4)\n",
      "Requirement already satisfied: urllib3!=1.25.0,!=1.25.1,<1.26,>=1.21.1 in c:\\anaconda3\\envs\\tensorflow-gpu\\lib\\site-packages (from requests->smart-open>=1.7.0->gensim) (1.25.3)\n",
      "Requirement already satisfied: botocore<1.13.0,>=1.12.218 in c:\\anaconda3\\envs\\tensorflow-gpu\\lib\\site-packages (from boto3->smart-open>=1.7.0->gensim) (1.12.218)\n",
      "Requirement already satisfied: jmespath<1.0.0,>=0.7.1 in c:\\anaconda3\\envs\\tensorflow-gpu\\lib\\site-packages (from boto3->smart-open>=1.7.0->gensim) (0.9.4)\n",
      "Requirement already satisfied: s3transfer<0.3.0,>=0.2.0 in c:\\anaconda3\\envs\\tensorflow-gpu\\lib\\site-packages (from boto3->smart-open>=1.7.0->gensim) (0.2.1)\n",
      "Requirement already satisfied: docutils<0.16,>=0.10 in c:\\anaconda3\\envs\\tensorflow-gpu\\lib\\site-packages (from botocore<1.13.0,>=1.12.218->boto3->smart-open>=1.7.0->gensim) (0.15.2)\n",
      "Requirement already satisfied: python-dateutil<3.0.0,>=2.1; python_version >= \"2.7\" in c:\\anaconda3\\envs\\tensorflow-gpu\\lib\\site-packages (from botocore<1.13.0,>=1.12.218->boto3->smart-open>=1.7.0->gensim) (2.7.3)\n"
     ]
    }
   ],
   "source": [
    "!pip install gensim"
   ]
  },
  {
   "cell_type": "code",
   "execution_count": 20,
   "metadata": {},
   "outputs": [
    {
     "name": "stdout",
     "output_type": "stream",
     "text": [
      "Requirement already satisfied: seaborn in c:\\anaconda3\\envs\\tensorflow-gpu\\lib\\site-packages (0.9.0)\n",
      "Requirement already satisfied: scipy>=0.14.0 in c:\\anaconda3\\envs\\tensorflow-gpu\\lib\\site-packages (from seaborn) (1.1.0)\n",
      "Requirement already satisfied: numpy>=1.9.3 in c:\\anaconda3\\envs\\tensorflow-gpu\\lib\\site-packages (from seaborn) (1.15.2)\n",
      "Requirement already satisfied: pandas>=0.15.2 in c:\\anaconda3\\envs\\tensorflow-gpu\\lib\\site-packages (from seaborn) (0.23.4)\n",
      "Requirement already satisfied: matplotlib>=1.4.3 in c:\\anaconda3\\envs\\tensorflow-gpu\\lib\\site-packages (from seaborn) (2.2.2)\n",
      "Requirement already satisfied: python-dateutil>=2.5.0 in c:\\anaconda3\\envs\\tensorflow-gpu\\lib\\site-packages (from pandas>=0.15.2->seaborn) (2.7.3)\n",
      "Requirement already satisfied: pytz>=2011k in c:\\anaconda3\\envs\\tensorflow-gpu\\lib\\site-packages (from pandas>=0.15.2->seaborn) (2019.1)\n",
      "Requirement already satisfied: cycler>=0.10 in c:\\anaconda3\\envs\\tensorflow-gpu\\lib\\site-packages (from matplotlib>=1.4.3->seaborn) (0.10.0)\n",
      "Requirement already satisfied: six>=1.10 in c:\\anaconda3\\envs\\tensorflow-gpu\\lib\\site-packages (from matplotlib>=1.4.3->seaborn) (1.11.0)\n",
      "Requirement already satisfied: kiwisolver>=1.0.1 in c:\\anaconda3\\envs\\tensorflow-gpu\\lib\\site-packages (from matplotlib>=1.4.3->seaborn) (1.0.1)\n",
      "Requirement already satisfied: pyparsing!=2.0.4,!=2.1.2,!=2.1.6,>=2.0.1 in c:\\anaconda3\\envs\\tensorflow-gpu\\lib\\site-packages (from matplotlib>=1.4.3->seaborn) (2.2.0)\n",
      "Requirement already satisfied: setuptools in c:\\anaconda3\\envs\\tensorflow-gpu\\lib\\site-packages (from kiwisolver>=1.0.1->matplotlib>=1.4.3->seaborn) (40.2.0)\n"
     ]
    }
   ],
   "source": [
    "!pip install seaborn"
   ]
  },
  {
   "cell_type": "code",
   "execution_count": 21,
   "metadata": {},
   "outputs": [],
   "source": [
    "import nltk"
   ]
  },
  {
   "cell_type": "code",
   "execution_count": 22,
   "metadata": {},
   "outputs": [
    {
     "name": "stderr",
     "output_type": "stream",
     "text": [
      "[nltk_data] Downloading package brown to C:\\Users\\gp vamsi\n",
      "[nltk_data]     krishna\\AppData\\Roaming\\nltk_data...\n",
      "[nltk_data]   Package brown is already up-to-date!\n"
     ]
    },
    {
     "data": {
      "text/plain": [
       "True"
      ]
     },
     "execution_count": 22,
     "metadata": {},
     "output_type": "execute_result"
    }
   ],
   "source": [
    "nltk.download('brown')"
   ]
  },
  {
   "cell_type": "code",
   "execution_count": 23,
   "metadata": {},
   "outputs": [
    {
     "name": "stderr",
     "output_type": "stream",
     "text": [
      "[nltk_data] Downloading package treebank to C:\\Users\\gp vamsi\n",
      "[nltk_data]     krishna\\AppData\\Roaming\\nltk_data...\n",
      "[nltk_data]   Package treebank is already up-to-date!\n"
     ]
    },
    {
     "data": {
      "text/plain": [
       "True"
      ]
     },
     "execution_count": 23,
     "metadata": {},
     "output_type": "execute_result"
    }
   ],
   "source": [
    "nltk.download('treebank')"
   ]
  },
  {
   "cell_type": "code",
   "execution_count": 24,
   "metadata": {},
   "outputs": [
    {
     "name": "stderr",
     "output_type": "stream",
     "text": [
      "[nltk_data] Downloading package conll2000 to C:\\Users\\gp vamsi\n",
      "[nltk_data]     krishna\\AppData\\Roaming\\nltk_data...\n",
      "[nltk_data]   Package conll2000 is already up-to-date!\n"
     ]
    },
    {
     "data": {
      "text/plain": [
       "True"
      ]
     },
     "execution_count": 24,
     "metadata": {},
     "output_type": "execute_result"
    }
   ],
   "source": [
    "nltk.download('conll2000')"
   ]
  },
  {
   "cell_type": "code",
   "execution_count": 25,
   "metadata": {},
   "outputs": [
    {
     "name": "stderr",
     "output_type": "stream",
     "text": [
      "[nltk_data] Downloading package punkt to C:\\Users\\gp vamsi\n",
      "[nltk_data]     krishna\\AppData\\Roaming\\nltk_data...\n",
      "[nltk_data]   Package punkt is already up-to-date!\n"
     ]
    },
    {
     "data": {
      "text/plain": [
       "True"
      ]
     },
     "execution_count": 25,
     "metadata": {},
     "output_type": "execute_result"
    }
   ],
   "source": [
    "nltk.download('punkt')"
   ]
  },
  {
   "cell_type": "code",
   "execution_count": 26,
   "metadata": {},
   "outputs": [
    {
     "name": "stderr",
     "output_type": "stream",
     "text": [
      "[nltk_data] Downloading package universal_tagset to C:\\Users\\gp vamsi\n",
      "[nltk_data]     krishna\\AppData\\Roaming\\nltk_data...\n",
      "[nltk_data]   Package universal_tagset is already up-to-date!\n"
     ]
    },
    {
     "data": {
      "text/plain": [
       "True"
      ]
     },
     "execution_count": 26,
     "metadata": {},
     "output_type": "execute_result"
    }
   ],
   "source": [
    "nltk.download('universal_tagset')"
   ]
  },
  {
   "cell_type": "code",
   "execution_count": null,
   "metadata": {},
   "outputs": [],
   "source": []
  },
  {
   "cell_type": "code",
   "execution_count": null,
   "metadata": {},
   "outputs": [],
   "source": []
  }
 ],
 "metadata": {
  "kernelspec": {
   "display_name": "Python 3",
   "language": "python",
   "name": "python3"
  },
  "language_info": {
   "codemirror_mode": {
    "name": "ipython",
    "version": 3
   },
   "file_extension": ".py",
   "mimetype": "text/x-python",
   "name": "python",
   "nbconvert_exporter": "python",
   "pygments_lexer": "ipython3",
   "version": "3.5.2"
  }
 },
 "nbformat": 4,
 "nbformat_minor": 2
}
