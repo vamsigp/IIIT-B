{
 "cells": [
  {
   "cell_type": "code",
   "execution_count": 50,
   "metadata": {},
   "outputs": [],
   "source": [
    "import numpy as np\n",
    "import pandas as pd\n",
    "import datetime"
   ]
  },
  {
   "cell_type": "code",
   "execution_count": 3,
   "metadata": {},
   "outputs": [],
   "source": [
    "import chardet"
   ]
  },
  {
   "cell_type": "code",
   "execution_count": 7,
   "metadata": {},
   "outputs": [
    {
     "name": "stdout",
     "output_type": "stream",
     "text": [
      "None\n"
     ]
    }
   ],
   "source": [
    "def find_encoding(fname):\n",
    "    r_file = open(fname, 'rb').read()\n",
    "    result = chardet.detect(r_file)\n",
    "    charenc = result['encoding']\n",
    "    return charenc\n",
    "\n",
    "print(find_encoding('calendar.csv'))"
   ]
  },
  {
   "cell_type": "code",
   "execution_count": null,
   "metadata": {},
   "outputs": [],
   "source": []
  },
  {
   "cell_type": "code",
   "execution_count": 56,
   "metadata": {},
   "outputs": [],
   "source": [
    "df = pd.read_excel('DL C3 Updated Calendar.xlsx')"
   ]
  },
  {
   "cell_type": "code",
   "execution_count": 57,
   "metadata": {},
   "outputs": [
    {
     "data": {
      "text/html": [
       "<div>\n",
       "<style scoped>\n",
       "    .dataframe tbody tr th:only-of-type {\n",
       "        vertical-align: middle;\n",
       "    }\n",
       "\n",
       "    .dataframe tbody tr th {\n",
       "        vertical-align: top;\n",
       "    }\n",
       "\n",
       "    .dataframe thead th {\n",
       "        text-align: right;\n",
       "    }\n",
       "</style>\n",
       "<table border=\"1\" class=\"dataframe\">\n",
       "  <thead>\n",
       "    <tr style=\"text-align: right;\">\n",
       "      <th></th>\n",
       "      <th>Start Date</th>\n",
       "      <th>Deadline</th>\n",
       "      <th>Module/Assignment</th>\n",
       "    </tr>\n",
       "  </thead>\n",
       "  <tbody>\n",
       "    <tr>\n",
       "      <th>0</th>\n",
       "      <td>Mon, Feb 25,19</td>\n",
       "      <td>Sun, Mar 3,19</td>\n",
       "      <td>Intro to Python</td>\n",
       "    </tr>\n",
       "    <tr>\n",
       "      <th>1</th>\n",
       "      <td>Mon, Mar 4,19</td>\n",
       "      <td>Sun, Mar 10,19</td>\n",
       "      <td>Data Visualization and Manipulation in Python</td>\n",
       "    </tr>\n",
       "    <tr>\n",
       "      <th>2</th>\n",
       "      <td>Mon, Mar 11,19</td>\n",
       "      <td>Sun, Mar 17,19</td>\n",
       "      <td>Data Visualization and Manipulation in Python</td>\n",
       "    </tr>\n",
       "    <tr>\n",
       "      <th>3</th>\n",
       "      <td>Mon, Mar 18,19</td>\n",
       "      <td>Sun, Mar 24,19</td>\n",
       "      <td>Math for Data Analysis</td>\n",
       "    </tr>\n",
       "    <tr>\n",
       "      <th>4</th>\n",
       "      <td>Mon, Mar 25,19</td>\n",
       "      <td>Sun, Mar 31,19</td>\n",
       "      <td>Welcome to the Program</td>\n",
       "    </tr>\n",
       "    <tr>\n",
       "      <th>5</th>\n",
       "      <td>Mon, Apr 1,19</td>\n",
       "      <td>Sun, Apr 7,19</td>\n",
       "      <td>Inferential Statistics</td>\n",
       "    </tr>\n",
       "    <tr>\n",
       "      <th>6</th>\n",
       "      <td>Mon, Apr 8,19</td>\n",
       "      <td>Sun, Apr 14,19</td>\n",
       "      <td>Hypothesis Testing</td>\n",
       "    </tr>\n",
       "    <tr>\n",
       "      <th>7</th>\n",
       "      <td>Mon, Apr 15,19</td>\n",
       "      <td>Sun, Apr 21,19</td>\n",
       "      <td>Investment Assignment</td>\n",
       "    </tr>\n",
       "    <tr>\n",
       "      <th>8</th>\n",
       "      <td>Mon, Apr 22,19</td>\n",
       "      <td>Sun, Apr 28,19</td>\n",
       "      <td>Buffer (Optional - Analytics Problem solving, ...</td>\n",
       "    </tr>\n",
       "    <tr>\n",
       "      <th>9</th>\n",
       "      <td>Mon, Apr 29,19</td>\n",
       "      <td>Sun, May 5,19</td>\n",
       "      <td>Linear Regression</td>\n",
       "    </tr>\n",
       "    <tr>\n",
       "      <th>10</th>\n",
       "      <td>Mon, May 6,19</td>\n",
       "      <td>Sun, May 12,19</td>\n",
       "      <td>Linear Regression - Assignment</td>\n",
       "    </tr>\n",
       "    <tr>\n",
       "      <th>11</th>\n",
       "      <td>Mon, May 13,19</td>\n",
       "      <td>Sun, May 19,19</td>\n",
       "      <td>Logistic Regression</td>\n",
       "    </tr>\n",
       "    <tr>\n",
       "      <th>12</th>\n",
       "      <td>Mon, May 20,19</td>\n",
       "      <td>Sun, May 26,19</td>\n",
       "      <td>Support Vector Machines (SVM)</td>\n",
       "    </tr>\n",
       "    <tr>\n",
       "      <th>13</th>\n",
       "      <td>Mon, May 27,19</td>\n",
       "      <td>Sun, Jun 2,19</td>\n",
       "      <td>Clustering</td>\n",
       "    </tr>\n",
       "    <tr>\n",
       "      <th>14</th>\n",
       "      <td>Mon, Jun 3,19</td>\n",
       "      <td>Sun, Jun 9,19</td>\n",
       "      <td>PCA</td>\n",
       "    </tr>\n",
       "    <tr>\n",
       "      <th>15</th>\n",
       "      <td>Mon, Jun 10,19</td>\n",
       "      <td>Sun, Jun 16,19</td>\n",
       "      <td>Telecom Churn Case Study</td>\n",
       "    </tr>\n",
       "    <tr>\n",
       "      <th>16</th>\n",
       "      <td>Mon, Jun 17,19</td>\n",
       "      <td>Sun, Jun 23,19</td>\n",
       "      <td>Telecom Churn Case Study</td>\n",
       "    </tr>\n",
       "    <tr>\n",
       "      <th>17</th>\n",
       "      <td>Mon, Jun 24,19</td>\n",
       "      <td>Sun, Jun 30,19</td>\n",
       "      <td>Buffer (Optional - Naive Bayes, Model Selectio...</td>\n",
       "    </tr>\n",
       "    <tr>\n",
       "      <th>18</th>\n",
       "      <td>Mon, Jul 1,19</td>\n",
       "      <td>Sun, Jul 7,19</td>\n",
       "      <td>Exam Course 1</td>\n",
       "    </tr>\n",
       "    <tr>\n",
       "      <th>19</th>\n",
       "      <td>Mon, Jul 8,19</td>\n",
       "      <td>Sun, Jul 14,19</td>\n",
       "      <td>Intro to Neural Nets</td>\n",
       "    </tr>\n",
       "  </tbody>\n",
       "</table>\n",
       "</div>"
      ],
      "text/plain": [
       "        Start Date        Deadline  \\\n",
       "0   Mon, Feb 25,19   Sun, Mar 3,19   \n",
       "1    Mon, Mar 4,19  Sun, Mar 10,19   \n",
       "2   Mon, Mar 11,19  Sun, Mar 17,19   \n",
       "3   Mon, Mar 18,19  Sun, Mar 24,19   \n",
       "4   Mon, Mar 25,19  Sun, Mar 31,19   \n",
       "5    Mon, Apr 1,19   Sun, Apr 7,19   \n",
       "6    Mon, Apr 8,19  Sun, Apr 14,19   \n",
       "7   Mon, Apr 15,19  Sun, Apr 21,19   \n",
       "8   Mon, Apr 22,19  Sun, Apr 28,19   \n",
       "9   Mon, Apr 29,19   Sun, May 5,19   \n",
       "10   Mon, May 6,19  Sun, May 12,19   \n",
       "11  Mon, May 13,19  Sun, May 19,19   \n",
       "12  Mon, May 20,19  Sun, May 26,19   \n",
       "13  Mon, May 27,19   Sun, Jun 2,19   \n",
       "14   Mon, Jun 3,19   Sun, Jun 9,19   \n",
       "15  Mon, Jun 10,19  Sun, Jun 16,19   \n",
       "16  Mon, Jun 17,19  Sun, Jun 23,19   \n",
       "17  Mon, Jun 24,19  Sun, Jun 30,19   \n",
       "18   Mon, Jul 1,19   Sun, Jul 7,19   \n",
       "19   Mon, Jul 8,19  Sun, Jul 14,19   \n",
       "\n",
       "                                    Module/Assignment  \n",
       "0                                     Intro to Python  \n",
       "1       Data Visualization and Manipulation in Python  \n",
       "2       Data Visualization and Manipulation in Python  \n",
       "3                              Math for Data Analysis  \n",
       "4                              Welcome to the Program  \n",
       "5                              Inferential Statistics  \n",
       "6                                  Hypothesis Testing  \n",
       "7                               Investment Assignment  \n",
       "8   Buffer (Optional - Analytics Problem solving, ...  \n",
       "9                                   Linear Regression  \n",
       "10                     Linear Regression - Assignment  \n",
       "11                                Logistic Regression  \n",
       "12                      Support Vector Machines (SVM)  \n",
       "13                                         Clustering  \n",
       "14                                                PCA  \n",
       "15                           Telecom Churn Case Study  \n",
       "16                           Telecom Churn Case Study  \n",
       "17  Buffer (Optional - Naive Bayes, Model Selectio...  \n",
       "18                                      Exam Course 1  \n",
       "19                               Intro to Neural Nets  "
      ]
     },
     "execution_count": 57,
     "metadata": {},
     "output_type": "execute_result"
    }
   ],
   "source": [
    "df.head(20)"
   ]
  },
  {
   "cell_type": "code",
   "execution_count": 58,
   "metadata": {},
   "outputs": [
    {
     "data": {
      "text/plain": [
       "Index(['Start Date', 'Deadline', 'Module/Assignment'], dtype='object')"
      ]
     },
     "execution_count": 58,
     "metadata": {},
     "output_type": "execute_result"
    }
   ],
   "source": [
    "df.columns"
   ]
  },
  {
   "cell_type": "code",
   "execution_count": 59,
   "metadata": {},
   "outputs": [],
   "source": [
    "df.rename(columns={\"Start Date\":\"startdate\", \"Deadline\":\"deadline\", \"Module/Assignment\":\"module\"}, inplace=True)"
   ]
  },
  {
   "cell_type": "code",
   "execution_count": 47,
   "metadata": {},
   "outputs": [],
   "source": [
    "# pd.to_datetime(df.startdate)"
   ]
  },
  {
   "cell_type": "code",
   "execution_count": 60,
   "metadata": {},
   "outputs": [],
   "source": [
    "# df.startdate = df.startdate.apply(lambda x:x.split(\" \",1)[-1])"
   ]
  },
  {
   "cell_type": "code",
   "execution_count": 61,
   "metadata": {},
   "outputs": [],
   "source": [
    "# df.deadline = df.deadline.apply(lambda x:x.split(\" \",1)[-1])"
   ]
  },
  {
   "cell_type": "code",
   "execution_count": 62,
   "metadata": {},
   "outputs": [
    {
     "data": {
      "text/plain": [
       "'Mon, Feb 25,19'"
      ]
     },
     "execution_count": 62,
     "metadata": {},
     "output_type": "execute_result"
    }
   ],
   "source": [
    "df.startdate[0]"
   ]
  },
  {
   "cell_type": "code",
   "execution_count": 73,
   "metadata": {},
   "outputs": [
    {
     "data": {
      "text/plain": [
       "'25/02/2019'"
      ]
     },
     "execution_count": 73,
     "metadata": {},
     "output_type": "execute_result"
    }
   ],
   "source": [
    "(datetime.datetime.strptime('Mon, Feb 25, 19', '%a, %b %d, %y').strftime('%d/%m/%Y'))"
   ]
  },
  {
   "cell_type": "code",
   "execution_count": null,
   "metadata": {},
   "outputs": [],
   "source": []
  }
 ],
 "metadata": {
  "kernelspec": {
   "display_name": "Python 3",
   "language": "python",
   "name": "python3"
  },
  "language_info": {
   "codemirror_mode": {
    "name": "ipython",
    "version": 3
   },
   "file_extension": ".py",
   "mimetype": "text/x-python",
   "name": "python",
   "nbconvert_exporter": "python",
   "pygments_lexer": "ipython3",
   "version": "3.6.8"
  }
 },
 "nbformat": 4,
 "nbformat_minor": 2
}
