{
 "cells": [
  {
   "cell_type": "code",
   "execution_count": 11,
   "metadata": {},
   "outputs": [],
   "source": [
    "import numpy as np\n",
    "import math"
   ]
  },
  {
   "cell_type": "code",
   "execution_count": null,
   "metadata": {},
   "outputs": [],
   "source": []
  },
  {
   "cell_type": "markdown",
   "metadata": {},
   "source": [
    "Dot product illustration"
   ]
  },
  {
   "cell_type": "code",
   "execution_count": 5,
   "metadata": {},
   "outputs": [
    {
     "data": {
      "text/plain": [
       "96"
      ]
     },
     "execution_count": 5,
     "metadata": {},
     "output_type": "execute_result"
    }
   ],
   "source": [
    "a = [2,3,4,5]\n",
    "b = [5,6,7,8]\n",
    "\n",
    "np.dot(a,b)"
   ]
  },
  {
   "cell_type": "markdown",
   "metadata": {},
   "source": [
    "Dot product - application\n",
    "\n",
    "Similarity between emails\n",
    "\n",
    "frequency of the words; apply dot product"
   ]
  },
  {
   "cell_type": "code",
   "execution_count": 7,
   "metadata": {},
   "outputs": [],
   "source": [
    "m1 = [2,1,0,0]\n",
    "m2 = [0,0,1,1]\n",
    "m3 = [1,1,0,0]\n",
    "m4 = [1,1,1,0]"
   ]
  },
  {
   "cell_type": "code",
   "execution_count": 22,
   "metadata": {},
   "outputs": [
    {
     "name": "stdout",
     "output_type": "stream",
     "text": [
      "0\n",
      "2.23606797749979 1.4142135623730951\n",
      "90.0\n"
     ]
    }
   ],
   "source": [
    "dot1_2 = np.dot(m1,m2)\n",
    "\n",
    "print(dot1_2)\n",
    "\n",
    "m1_mag = np.linalg.norm(np.array(m1))\n",
    "m2_mag = np.linalg.norm(np.array(m2))\n",
    "\n",
    "print(m1_mag, m2_mag)\n",
    "\n",
    "theta = np.arccos(dot1_2/(m1_mag*m2_mag)) * (180.0/math.pi)\n",
    "\n",
    "print(theta)"
   ]
  },
  {
   "cell_type": "code",
   "execution_count": 23,
   "metadata": {},
   "outputs": [
    {
     "name": "stdout",
     "output_type": "stream",
     "text": [
      "3\n",
      "2.23606797749979 1.4142135623730951\n",
      "18.434948822922017\n"
     ]
    }
   ],
   "source": [
    "dot1_3 = np.dot(m1,m3)\n",
    "\n",
    "print(dot1_3)\n",
    "\n",
    "m1_mag = np.linalg.norm(np.array(m1))\n",
    "m3_mag = np.linalg.norm(np.array(m3))\n",
    "\n",
    "print(m1_mag, m3_mag)\n",
    "\n",
    "theta = (np.arccos(dot1_3/(m1_mag*m3_mag))) * (180.0/math.pi)\n",
    "print(theta)\n"
   ]
  },
  {
   "cell_type": "code",
   "execution_count": 24,
   "metadata": {},
   "outputs": [
    {
     "name": "stdout",
     "output_type": "stream",
     "text": [
      "3\n",
      "2.23606797749979 1.7320508075688772\n",
      "39.231520483592256\n"
     ]
    }
   ],
   "source": [
    "dot1_4 = np.dot(m1,m4)\n",
    "\n",
    "print(dot1_4)\n",
    "\n",
    "m1_mag = np.linalg.norm(np.array(m1))\n",
    "m4_mag = np.linalg.norm(np.array(m4))\n",
    "\n",
    "print(m1_mag, m4_mag)\n",
    "\n",
    "theta = (np.arccos(dot1_4/(m1_mag*m4_mag))) * (180.0/math.pi)\n",
    "print(theta)"
   ]
  },
  {
   "cell_type": "code",
   "execution_count": 25,
   "metadata": {},
   "outputs": [
    {
     "name": "stdout",
     "output_type": "stream",
     "text": [
      "0\n",
      "1.4142135623730951 1.4142135623730951\n",
      "90.0\n"
     ]
    }
   ],
   "source": [
    "dot2_3 = np.dot(m2,m3)\n",
    "\n",
    "print(dot2_3)\n",
    "\n",
    "m2_mag = np.linalg.norm(np.array(m2))\n",
    "m3_mag = np.linalg.norm(np.array(m3))\n",
    "\n",
    "print(m2_mag, m3_mag)\n",
    "\n",
    "theta = (np.arccos(dot2_3/(m2_mag*m3_mag))) * (180.0/math.pi)\n",
    "print(theta)\n"
   ]
  },
  {
   "cell_type": "code",
   "execution_count": 26,
   "metadata": {},
   "outputs": [
    {
     "name": "stdout",
     "output_type": "stream",
     "text": [
      "1\n",
      "1.4142135623730951 1.7320508075688772\n",
      "65.90515744788931\n"
     ]
    }
   ],
   "source": [
    "dot2_4 = np.dot(m2,m4)\n",
    "\n",
    "print(dot2_4)\n",
    "\n",
    "m2_mag = np.linalg.norm(np.array(m2))\n",
    "m4_mag = np.linalg.norm(np.array(m4))\n",
    "\n",
    "print(m2_mag, m4_mag)\n",
    "\n",
    "theta = (np.arccos(dot2_4/(m2_mag*m4_mag))) * (180.0/math.pi)\n",
    "print(theta)\n"
   ]
  },
  {
   "cell_type": "code",
   "execution_count": 27,
   "metadata": {},
   "outputs": [
    {
     "name": "stdout",
     "output_type": "stream",
     "text": [
      "2\n",
      "1.4142135623730951 1.7320508075688772\n",
      "35.26438968275466\n"
     ]
    }
   ],
   "source": [
    "dot3_4 = np.dot(m3,m4)\n",
    "\n",
    "print(dot3_4)\n",
    "\n",
    "m3_mag = np.linalg.norm(np.array(m3))\n",
    "m4_mag = np.linalg.norm(np.array(m4))\n",
    "\n",
    "print(m3_mag, m4_mag)\n",
    "\n",
    "theta = (np.arccos(dot3_4/(m3_mag*m4_mag))) * (180.0/math.pi)\n",
    "print(theta)\n"
   ]
  },
  {
   "cell_type": "code",
   "execution_count": 28,
   "metadata": {},
   "outputs": [
    {
     "name": "stdout",
     "output_type": "stream",
     "text": [
      "3\n",
      "2.23606797749979 1.7320508075688772\n",
      "39.231520483592256\n"
     ]
    }
   ],
   "source": [
    "dot1_4 = np.dot(m1,m4)\n",
    "\n",
    "print(dot1_4)\n",
    "\n",
    "m1_mag = np.linalg.norm(np.array(m1))\n",
    "m4_mag = np.linalg.norm(np.array(m4))\n",
    "\n",
    "print(m1_mag, m4_mag)\n",
    "\n",
    "theta = (np.arccos(dot1_4/(m1_mag*m4_mag))) * (180.0/math.pi)\n",
    "print(theta)"
   ]
  },
  {
   "cell_type": "markdown",
   "metadata": {},
   "source": [
    "Check points if colinear\n",
    "\n",
    "How to find if three points are collinear?:\n",
    "\n",
    "There are two methods to find if three points are collinear.\n",
    "#One is slope formula method and the other is area of triangle method.\n",
    "#Slope formula method to find that points are collinear.\n",
    "#Three or more points are collinear, if slope of any two pairs of points is same.\n",
    "#With three points A, B and C, three pairs of points can be formed, they are: AB, BC and AC.\n",
    "#If Slope of AB = slope of BC = slope of AC, then A, B and C are collinear points."
   ]
  },
  {
   "cell_type": "code",
   "execution_count": 29,
   "metadata": {},
   "outputs": [
    {
     "name": "stdout",
     "output_type": "stream",
     "text": [
      "No\n"
     ]
    }
   ],
   "source": [
    "# Slope based solution to check if three \n",
    "# points are collinear. \n",
    "\n",
    "# function to check if \n",
    "# point collinear or not \n",
    "def collinear(x1, y1, x2, y2, x3, y3): \n",
    "\t\n",
    "\tif ((y3 - y2)*(x2 - x1) == (y2 - y1)*(x3 - x2)): \n",
    "\t\tprint (\"Yes\") \n",
    "\telse: \n",
    "\t\tprint (\"No\") \n",
    "\n",
    "# Driver Code \n",
    "x1, x2, x3, y1, y2, y3 = 1, 1, 0, 1, 6, 9\n",
    "collinear(x1, y1, x2, y2, x3, y3); \n",
    "\n",
    "# This code is contributed \n",
    "# by Sachin Bisht \n"
   ]
  },
  {
   "cell_type": "code",
   "execution_count": 32,
   "metadata": {},
   "outputs": [
    {
     "name": "stdout",
     "output_type": "stream",
     "text": [
      "Yes\n"
     ]
    }
   ],
   "source": [
    "# Python program to check \n",
    "# if three points are collinear \n",
    "# or not using area of triangle. \n",
    "\n",
    "# function to check if \n",
    "# point collinear or not \n",
    "def collinear(x1, y1, x2, y2, x3, y3): \n",
    "\t\n",
    "\t\"\"\" Calculation the area of \n",
    "\t\ttriangle. We have skipped \n",
    "\t\tmultiplication with 0.5 to \n",
    "\t\tavoid floating point computations \"\"\"\n",
    "\ta = x1 * (y2 - y3) + x2 * (y3 - y1) + x3 * (y1 - y2) \n",
    "\n",
    "\tif (a == 0): \n",
    "\t\tprint (\"Yes\")\n",
    "\telse: \n",
    "\t\tprint ('No')\n",
    "\n",
    "# Driver Code \n",
    "x1, x2, x3, y1, y2, y3 = 1, 1, 1, 1, 4, 5\n",
    "collinear(x1, y1, x2, y2, x3, y3) \n",
    "\n",
    "# This code is contributed \n",
    "# by Sachin Bisht \n"
   ]
  },
  {
   "cell_type": "markdown",
   "metadata": {},
   "source": [
    "Linearly Independent\n",
    "\n",
    "In the theory of vector spaces, a set of vectors is said to be linearly dependent if at least one of the vectors in the set can be defined as a linear combination of the others; if no vector in the set can be written in this way, then the vectors are said to be linearly independent."
   ]
  },
  {
   "cell_type": "code",
   "execution_count": 35,
   "metadata": {},
   "outputs": [
    {
     "data": {
      "text/plain": [
       "3.605551275463989"
      ]
     },
     "execution_count": 35,
     "metadata": {},
     "output_type": "execute_result"
    }
   ],
   "source": [
    "A = np.array([[2, 1, -1], \n",
    "              [1, 0, -1], \n",
    "              [-2, 0, 1]])\n",
    "\n",
    "np.linalg.norm(A)"
   ]
  },
  {
   "cell_type": "code",
   "execution_count": 38,
   "metadata": {},
   "outputs": [
    {
     "name": "stdout",
     "output_type": "stream",
     "text": [
      "[[0 1 1 0]]\n",
      "0.0\n"
     ]
    }
   ],
   "source": [
    "matrix = np.array(\n",
    "    [\n",
    "        [0, 1 ,0 ,0],\n",
    "        [0, 0, 1, 0],\n",
    "        [0, 1, 1, 0],\n",
    "        [1, 0, 0, 1]\n",
    "    ])\n",
    "\n",
    "lambdas, V =  np.linalg.eig(matrix.T)\n",
    "# The linearly dependent row vectors \n",
    "print (matrix[lambdas == 0,:])\n",
    "\n",
    "\n",
    "print (np.linalg.det(matrix))"
   ]
  },
  {
   "cell_type": "code",
   "execution_count": 33,
   "metadata": {},
   "outputs": [
    {
     "data": {
      "text/plain": [
       "array([[ 0., -1., -1.],\n",
       "       [ 1.,  0.,  1.],\n",
       "       [-0., -2., -1.]])"
      ]
     },
     "execution_count": 33,
     "metadata": {},
     "output_type": "execute_result"
    }
   ],
   "source": [
    "# inverse\n",
    "A = np.array([[2, 1, -1], \n",
    "              [1, 0, -1], \n",
    "              [-2, 0, 1]])\n",
    "\n",
    "np.linalg.inv(A)"
   ]
  },
  {
   "cell_type": "code",
   "execution_count": 40,
   "metadata": {},
   "outputs": [
    {
     "name": "stdout",
     "output_type": "stream",
     "text": [
      "[ 0.  0. -1.]\n"
     ]
    }
   ],
   "source": [
    "# system of three equations\n",
    "A = np.array([[1, 5, -1], \n",
    "              [2, 3, -2], \n",
    "              [-3, 4, 0]])\n",
    "b = np.array([1, 2, 0])\n",
    "\n",
    "# compute the inverse\n",
    "A_inv = np.linalg.inv(A)\n",
    "\n",
    "# solution: A_inv * b\n",
    "x = np.dot(A_inv, b)\n",
    "\n",
    "print(x)"
   ]
  },
  {
   "cell_type": "markdown",
   "metadata": {},
   "source": [
    "System of Linear Equations\n",
    "Solve the following system of three equations and three unknowns in Numpy and report the solution:\n",
    "\n",
    "2x+6y−z=0\n",
    "\n",
    "x+2y−2z=1\n",
    "\n",
    "−5x+2z=8"
   ]
  },
  {
   "cell_type": "code",
   "execution_count": 41,
   "metadata": {},
   "outputs": [
    {
     "name": "stdout",
     "output_type": "stream",
     "text": [
      "[-2.   0.5 -1. ]\n"
     ]
    }
   ],
   "source": [
    "# system of three equations\n",
    "A = np.array([[2, 6, -1], \n",
    "              [1, 2, -2], \n",
    "              [-5, 0, 2]])\n",
    "b = np.array([0, 1, 8])\n",
    "\n",
    "# compute the inverse\n",
    "A_inv = np.linalg.inv(A)\n",
    "\n",
    "# solution: A_inv * b\n",
    "x = np.dot(A_inv, b)\n",
    "\n",
    "print(x)"
   ]
  },
  {
   "cell_type": "code",
   "execution_count": 43,
   "metadata": {},
   "outputs": [
    {
     "name": "stdout",
     "output_type": "stream",
     "text": [
      "-3.330669073875464e-16\n",
      "[-3.00239975e+16  1.50119988e+16]\n"
     ]
    }
   ],
   "source": [
    "# system of two equations\n",
    "A = np.array([[1, 2], \n",
    "              [3, 6]])\n",
    "b = np.array([5, 10])\n",
    "\n",
    "print(np.linalg.det(A))\n",
    "\n",
    "# compute the inverse\n",
    "A_inv = np.linalg.inv(A)\n",
    "\n",
    "# solution: A_inv * b\n",
    "x = np.dot(A_inv, b)\n",
    "print(x)"
   ]
  },
  {
   "cell_type": "code",
   "execution_count": 49,
   "metadata": {},
   "outputs": [
    {
     "name": "stdout",
     "output_type": "stream",
     "text": [
      "[[1 3]\n",
      " [2 6]]\n"
     ]
    },
    {
     "data": {
      "text/plain": [
       "1"
      ]
     },
     "execution_count": 49,
     "metadata": {},
     "output_type": "execute_result"
    }
   ],
   "source": [
    "A = np.array([[1, 3], \n",
    "              [2, 6]])\n",
    "print(A)\n",
    "\n",
    "np.linalg.matrix_rank(A)"
   ]
  },
  {
   "cell_type": "code",
   "execution_count": 51,
   "metadata": {},
   "outputs": [
    {
     "name": "stdout",
     "output_type": "stream",
     "text": [
      "0.0\n",
      "2\n"
     ]
    }
   ],
   "source": [
    "A = np.array([[2, -1, -1], \n",
    "              [2, -1, 1], \n",
    "              [4, -2, -3]])\n",
    "\n",
    "b = np.array([1, 0, -1])\n",
    "\n",
    "print(np.linalg.det(A))\n",
    "\n",
    "print(np.linalg.matrix_rank(A))"
   ]
  },
  {
   "cell_type": "code",
   "execution_count": null,
   "metadata": {},
   "outputs": [],
   "source": []
  },
  {
   "cell_type": "code",
   "execution_count": null,
   "metadata": {},
   "outputs": [],
   "source": []
  },
  {
   "cell_type": "code",
   "execution_count": 58,
   "metadata": {},
   "outputs": [
    {
     "name": "stdout",
     "output_type": "stream",
     "text": [
      "[[4 9]\n",
      " [7 6]]\n",
      "[-3. 13.]\n",
      "(array([-3., 13.]), array([[-0.78935222, -0.70710678],\n",
      "       [ 0.61394061, -0.70710678]]))\n"
     ]
    }
   ],
   "source": [
    "# A = np.array([[2,0],[0,5]])\n",
    "A = np.array([[4,9],[7,6]])\n",
    "# A = np.array([[-1, 0], \n",
    "#               [0, 1]])\n",
    "\n",
    "\n",
    "print(A)\n",
    "\n",
    "print(np.linalg.eigvals(A))\n",
    "print(np.linalg.eig(A))"
   ]
  },
  {
   "cell_type": "code",
   "execution_count": null,
   "metadata": {},
   "outputs": [],
   "source": [
    "    "
   ]
  }
 ],
 "metadata": {
  "kernelspec": {
   "display_name": "Python 3",
   "language": "python",
   "name": "python3"
  },
  "language_info": {
   "codemirror_mode": {
    "name": "ipython",
    "version": 3
   },
   "file_extension": ".py",
   "mimetype": "text/x-python",
   "name": "python",
   "nbconvert_exporter": "python",
   "pygments_lexer": "ipython3",
   "version": "3.6.4"
  }
 },
 "nbformat": 4,
 "nbformat_minor": 2
}
