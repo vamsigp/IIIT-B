{
 "cells": [
  {
   "cell_type": "code",
   "execution_count": 1,
   "metadata": {},
   "outputs": [
    {
     "name": "stdout",
     "output_type": "stream",
     "text": [
      "Hello World\n"
     ]
    }
   ],
   "source": [
    "def scream():\n",
    "    print('Hello World')\n",
    "scream()\n"
   ]
  },
  {
   "cell_type": "code",
   "execution_count": 5,
   "metadata": {},
   "outputs": [
    {
     "name": "stdout",
     "output_type": "stream",
     "text": [
      "Enter a number - 56\n",
      "3136\n"
     ]
    }
   ],
   "source": [
    "def square(num):\n",
    "    out = num**2\n",
    "    return(out)\n",
    "\n",
    "print(square(int(input('Enter a number - '))))"
   ]
  },
  {
   "cell_type": "code",
   "execution_count": 6,
   "metadata": {},
   "outputs": [
    {
     "name": "stdout",
     "output_type": "stream",
     "text": [
      "9\n"
     ]
    }
   ],
   "source": [
    "sq_3 = square(3)\n",
    "print(sq_3)"
   ]
  },
  {
   "cell_type": "code",
   "execution_count": 7,
   "metadata": {},
   "outputs": [],
   "source": [
    "def square(num):\n",
    "    out = num**2\n",
    "    print(out)\n"
   ]
  },
  {
   "cell_type": "code",
   "execution_count": 8,
   "metadata": {},
   "outputs": [
    {
     "name": "stdout",
     "output_type": "stream",
     "text": [
      "16\n",
      "Q isNone\n"
     ]
    }
   ],
   "source": [
    "q = square(4)\n",
    "print(\"Q is\"+str(q))\n"
   ]
  },
  {
   "cell_type": "code",
   "execution_count": 9,
   "metadata": {},
   "outputs": [
    {
     "name": "stdout",
     "output_type": "stream",
     "text": [
      "120\n"
     ]
    }
   ],
   "source": [
    "def factorial(n):\n",
    "    if n>1:\n",
    "        return n*factorial(n-1)\n",
    "    else:\n",
    "        return n\n",
    "\n",
    "fact = factorial(5)\n",
    "print(fact)\n"
   ]
  },
  {
   "cell_type": "code",
   "execution_count": 10,
   "metadata": {},
   "outputs": [],
   "source": [
    "def addition(*args):\n",
    "    print(args)\n",
    "    return(sum(args))\n"
   ]
  },
  {
   "cell_type": "code",
   "execution_count": 11,
   "metadata": {},
   "outputs": [
    {
     "name": "stdout",
     "output_type": "stream",
     "text": [
      "(4, 5, 6, 7, 8, 9)\n",
      "39\n",
      "(1, 2)\n",
      "3\n"
     ]
    }
   ],
   "source": [
    "print(addition(4,5,6,7,8,9))\n",
    "print(addition(1,2))"
   ]
  },
  {
   "cell_type": "code",
   "execution_count": 12,
   "metadata": {},
   "outputs": [
    {
     "name": "stdout",
     "output_type": "stream",
     "text": [
      "Mahendra Singh Dhoni\n"
     ]
    }
   ],
   "source": [
    "def proper(some_text):\n",
    "    some_text = some_text.strip()\n",
    "    some_text = \" \".join([word[0].upper() + word[1:] for word in some_text.split()])\n",
    "    return some_text\n",
    "\n",
    "captain = proper(\"mahendra singh dhoni\")\n",
    "print(captain)\n"
   ]
  },
  {
   "cell_type": "code",
   "execution_count": 13,
   "metadata": {},
   "outputs": [
    {
     "name": "stdout",
     "output_type": "stream",
     "text": [
      "['Mahendra', 'Singh', 'Dhoni']\n",
      "<class 'function'>\n"
     ]
    }
   ],
   "source": [
    "string_to_list = lambda x: x.split()\n",
    "print(string_to_list(captain))\n",
    "print(type(string_to_list))\n"
   ]
  },
  {
   "cell_type": "code",
   "execution_count": 14,
   "metadata": {},
   "outputs": [
    {
     "name": "stdout",
     "output_type": "stream",
     "text": [
      "12\n"
     ]
    }
   ],
   "source": [
    "product = lambda x, y : x*y\n",
    "print(product(3,4))\n"
   ]
  },
  {
   "cell_type": "code",
   "execution_count": null,
   "metadata": {},
   "outputs": [],
   "source": []
  },
  {
   "cell_type": "code",
   "execution_count": null,
   "metadata": {},
   "outputs": [],
   "source": []
  },
  {
   "cell_type": "raw",
   "metadata": {},
   "source": [
    "Lambda\n",
    "Description\n",
    "Create a lambda function 'greater', which takes two arguments x and y and return x if x>y otherwise y.\n",
    "If x = 2 and y= 3, then the output should be 3."
   ]
  },
  {
   "cell_type": "code",
   "execution_count": 18,
   "metadata": {},
   "outputs": [
    {
     "name": "stdout",
     "output_type": "stream",
     "text": [
      "3\n"
     ]
    }
   ],
   "source": [
    "greater = lambda x,y: x if x > y else y\n",
    "\n",
    "print(greater(2,3))"
   ]
  },
  {
   "cell_type": "code",
   "execution_count": 19,
   "metadata": {},
   "outputs": [
    {
     "data": {
      "text/plain": [
       "9996"
      ]
     },
     "execution_count": 19,
     "metadata": {},
     "output_type": "execute_result"
    }
   ],
   "source": [
    "min = (lambda x, y: x if x < y else y)\n",
    "min(101*99, 102*98)"
   ]
  },
  {
   "cell_type": "code",
   "execution_count": 20,
   "metadata": {},
   "outputs": [
    {
     "data": {
      "text/plain": [
       "{'__name__': '__main__',\n",
       " '__doc__': 'Automatically created module for IPython interactive environment',\n",
       " '__package__': None,\n",
       " '__loader__': None,\n",
       " '__spec__': None,\n",
       " '__builtin__': <module 'builtins' (built-in)>,\n",
       " '__builtins__': <module 'builtins' (built-in)>,\n",
       " '_ih': ['',\n",
       "  \"def scream():\\n    print('Hello World')\\nscream()\",\n",
       "  'def square(num):\\n    out = num**2\\n    return(out)',\n",
       "  'def square(num):\\n    out = num**2\\n    return(out)\\n\\nprint(square(int(input(Enter a number))))',\n",
       "  \"def square(num):\\n    out = num**2\\n    return(out)\\n\\nprint(square(int(input('Enter a number'))))\",\n",
       "  \"def square(num):\\n    out = num**2\\n    return(out)\\n\\nprint(square(int(input('Enter a number - '))))\",\n",
       "  'sq_3 = square(3)\\nprint(sq_3)',\n",
       "  'def square(num):\\n    out = num**2\\n    print(out)',\n",
       "  'q = square(4)\\nprint(\"Q is\"+str(q))',\n",
       "  'def factorial(n):\\n    if n>1:\\n        return n*factorial(n-1)\\n    else:\\n        return n\\n\\nfact = factorial(5)\\nprint(fact)',\n",
       "  'def addition(*args):\\n    print(args)\\n    return(sum(args))',\n",
       "  'print(addition(4,5,6,7,8,9))\\nprint(addition(1,2))',\n",
       "  'def proper(some_text):\\n    some_text = some_text.strip()\\n    some_text = \" \".join([word[0].upper() + word[1:] for word in some_text.split()])\\n    return some_text\\n\\ncaptain = proper(\"mahendra singh dhoni\")\\nprint(captain)',\n",
       "  'string_to_list = lambda x: x.split()\\nprint(string_to_list(captain))\\nprint(type(string_to_list))',\n",
       "  'product = lambda x, y : x*y\\nprint(product(3,4))',\n",
       "  'greater(a,b) = lambda x,y:x>y?x:y\\n\\nprint(greater(2,3))',\n",
       "  'greater(a,b) = lambda x,y:if(x>y) x else y\\n\\nprint(greater(2,3))',\n",
       "  'greater(a,b) = lambda x,y: max(x,y)\\n\\nprint(greater(2,3))',\n",
       "  'greater = lambda x,y: x if x > y else y\\n\\nprint(greater(2,3))',\n",
       "  'min = (lambda x, y: x if x < y else y)\\nmin(101*99, 102*98)',\n",
       "  'globals()'],\n",
       " '_oh': {19: 9996},\n",
       " '_dh': ['D:\\\\ws_study\\\\IIIT-B\\\\PrepCourse\\\\1. Python\\\\1. Intro\\\\Control Structures and Functions'],\n",
       " 'In': ['',\n",
       "  \"def scream():\\n    print('Hello World')\\nscream()\",\n",
       "  'def square(num):\\n    out = num**2\\n    return(out)',\n",
       "  'def square(num):\\n    out = num**2\\n    return(out)\\n\\nprint(square(int(input(Enter a number))))',\n",
       "  \"def square(num):\\n    out = num**2\\n    return(out)\\n\\nprint(square(int(input('Enter a number'))))\",\n",
       "  \"def square(num):\\n    out = num**2\\n    return(out)\\n\\nprint(square(int(input('Enter a number - '))))\",\n",
       "  'sq_3 = square(3)\\nprint(sq_3)',\n",
       "  'def square(num):\\n    out = num**2\\n    print(out)',\n",
       "  'q = square(4)\\nprint(\"Q is\"+str(q))',\n",
       "  'def factorial(n):\\n    if n>1:\\n        return n*factorial(n-1)\\n    else:\\n        return n\\n\\nfact = factorial(5)\\nprint(fact)',\n",
       "  'def addition(*args):\\n    print(args)\\n    return(sum(args))',\n",
       "  'print(addition(4,5,6,7,8,9))\\nprint(addition(1,2))',\n",
       "  'def proper(some_text):\\n    some_text = some_text.strip()\\n    some_text = \" \".join([word[0].upper() + word[1:] for word in some_text.split()])\\n    return some_text\\n\\ncaptain = proper(\"mahendra singh dhoni\")\\nprint(captain)',\n",
       "  'string_to_list = lambda x: x.split()\\nprint(string_to_list(captain))\\nprint(type(string_to_list))',\n",
       "  'product = lambda x, y : x*y\\nprint(product(3,4))',\n",
       "  'greater(a,b) = lambda x,y:x>y?x:y\\n\\nprint(greater(2,3))',\n",
       "  'greater(a,b) = lambda x,y:if(x>y) x else y\\n\\nprint(greater(2,3))',\n",
       "  'greater(a,b) = lambda x,y: max(x,y)\\n\\nprint(greater(2,3))',\n",
       "  'greater = lambda x,y: x if x > y else y\\n\\nprint(greater(2,3))',\n",
       "  'min = (lambda x, y: x if x < y else y)\\nmin(101*99, 102*98)',\n",
       "  'globals()'],\n",
       " 'Out': {19: 9996},\n",
       " 'get_ipython': <bound method InteractiveShell.get_ipython of <ipykernel.zmqshell.ZMQInteractiveShell object at 0x0000026D07967080>>,\n",
       " 'exit': <IPython.core.autocall.ZMQExitAutocall at 0x26d0798b4a8>,\n",
       " 'quit': <IPython.core.autocall.ZMQExitAutocall at 0x26d0798b4a8>,\n",
       " '_': 9996,\n",
       " '__': '',\n",
       " '___': '',\n",
       " '_i': 'min = (lambda x, y: x if x < y else y)\\nmin(101*99, 102*98)',\n",
       " '_ii': 'greater = lambda x,y: x if x > y else y\\n\\nprint(greater(2,3))',\n",
       " '_iii': 'greater(a,b) = lambda x,y: max(x,y)\\n\\nprint(greater(2,3))',\n",
       " '_i1': \"def scream():\\n    print('Hello World')\\nscream()\",\n",
       " 'scream': <function __main__.scream()>,\n",
       " '_i2': 'def square(num):\\n    out = num**2\\n    return(out)',\n",
       " 'square': <function __main__.square(num)>,\n",
       " '_i3': 'def square(num):\\n    out = num**2\\n    return(out)\\n\\nprint(square(int(input(Enter a number))))',\n",
       " '_i4': \"def square(num):\\n    out = num**2\\n    return(out)\\n\\nprint(square(int(input('Enter a number'))))\",\n",
       " '_i5': \"def square(num):\\n    out = num**2\\n    return(out)\\n\\nprint(square(int(input('Enter a number - '))))\",\n",
       " '_i6': 'sq_3 = square(3)\\nprint(sq_3)',\n",
       " 'sq_3': 9,\n",
       " '_i7': 'def square(num):\\n    out = num**2\\n    print(out)',\n",
       " '_i8': 'q = square(4)\\nprint(\"Q is\"+str(q))',\n",
       " 'q': None,\n",
       " '_i9': 'def factorial(n):\\n    if n>1:\\n        return n*factorial(n-1)\\n    else:\\n        return n\\n\\nfact = factorial(5)\\nprint(fact)',\n",
       " 'factorial': <function __main__.factorial(n)>,\n",
       " 'fact': 120,\n",
       " '_i10': 'def addition(*args):\\n    print(args)\\n    return(sum(args))',\n",
       " 'addition': <function __main__.addition(*args)>,\n",
       " '_i11': 'print(addition(4,5,6,7,8,9))\\nprint(addition(1,2))',\n",
       " '_i12': 'def proper(some_text):\\n    some_text = some_text.strip()\\n    some_text = \" \".join([word[0].upper() + word[1:] for word in some_text.split()])\\n    return some_text\\n\\ncaptain = proper(\"mahendra singh dhoni\")\\nprint(captain)',\n",
       " 'proper': <function __main__.proper(some_text)>,\n",
       " 'captain': 'Mahendra Singh Dhoni',\n",
       " '_i13': 'string_to_list = lambda x: x.split()\\nprint(string_to_list(captain))\\nprint(type(string_to_list))',\n",
       " 'string_to_list': <function __main__.<lambda>(x)>,\n",
       " '_i14': 'product = lambda x, y : x*y\\nprint(product(3,4))',\n",
       " 'product': <function __main__.<lambda>(x, y)>,\n",
       " '_i15': 'greater(a,b) = lambda x,y:x>y?x:y\\n\\nprint(greater(2,3))',\n",
       " '_i16': 'greater(a,b) = lambda x,y:if(x>y) x else y\\n\\nprint(greater(2,3))',\n",
       " '_i17': 'greater(a,b) = lambda x,y: max(x,y)\\n\\nprint(greater(2,3))',\n",
       " '_i18': 'greater = lambda x,y: x if x > y else y\\n\\nprint(greater(2,3))',\n",
       " 'greater': <function __main__.<lambda>(x, y)>,\n",
       " '_i19': 'min = (lambda x, y: x if x < y else y)\\nmin(101*99, 102*98)',\n",
       " 'min': <function __main__.<lambda>(x, y)>,\n",
       " '_19': 9996,\n",
       " '_i20': 'globals()'}"
      ]
     },
     "execution_count": 20,
     "metadata": {},
     "output_type": "execute_result"
    }
   ],
   "source": [
    "globals()"
   ]
  },
  {
   "cell_type": "code",
   "execution_count": 21,
   "metadata": {},
   "outputs": [
    {
     "data": {
      "text/plain": [
       "2667303144440"
      ]
     },
     "execution_count": 21,
     "metadata": {},
     "output_type": "execute_result"
    }
   ],
   "source": [
    "id(min)"
   ]
  },
  {
   "cell_type": "code",
   "execution_count": null,
   "metadata": {},
   "outputs": [],
   "source": []
  }
 ],
 "metadata": {
  "anaconda-cloud": {},
  "kernelspec": {
   "display_name": "Python 3",
   "language": "python",
   "name": "python3"
  },
  "language_info": {
   "codemirror_mode": {
    "name": "ipython",
    "version": 3
   },
   "file_extension": ".py",
   "mimetype": "text/x-python",
   "name": "python",
   "nbconvert_exporter": "python",
   "pygments_lexer": "ipython3",
   "version": "3.6.8"
  }
 },
 "nbformat": 4,
 "nbformat_minor": 1
}
