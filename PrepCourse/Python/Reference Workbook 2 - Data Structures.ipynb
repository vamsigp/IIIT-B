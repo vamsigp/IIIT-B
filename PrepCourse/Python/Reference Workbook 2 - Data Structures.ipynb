{
 "cells": [
  {
   "cell_type": "markdown",
   "metadata": {},
   "source": [
    "<img src=\"https://upgrad.com/images/upgradlogo.png\" alt=\"Drawing\" style=\"width: 200px;\"/>"
   ]
  },
  {
   "cell_type": "markdown",
   "metadata": {},
   "source": [
    "# Data Structures"
   ]
  },
  {
   "cell_type": "markdown",
   "metadata": {},
   "source": [
    "Data structures refer to the collection or group of data in a particular structure."
   ]
  },
  {
   "cell_type": "markdown",
   "metadata": {},
   "source": [
    "## Lists"
   ]
  },
  {
   "cell_type": "markdown",
   "metadata": {},
   "source": [
    "Lists are the most commonly used data structure. Think of it as a sequence of data that is enclosed in square brackets and data are separated by a comma. Each of these data can be accessed by calling it's index value.\n",
    "\n",
    "Lists are declared by just equating a variable to '[ ]' or list. We can use lists to hold an ordered sequence of values."
   ]
  },
  {
   "cell_type": "code",
   "execution_count": 1,
   "metadata": {},
   "outputs": [
    {
     "name": "stdout",
     "output_type": "stream",
     "text": [
      "['first', 'second', 'third']\n"
     ]
    }
   ],
   "source": [
    "l = ['first', 'second', 'third']\n",
    "print(l)"
   ]
  },
  {
   "cell_type": "markdown",
   "metadata": {},
   "source": [
    "Lists can contain different types of variable, even in the same list."
   ]
  },
  {
   "cell_type": "code",
   "execution_count": 2,
   "metadata": {},
   "outputs": [
    {
     "name": "stdout",
     "output_type": "stream",
     "text": [
      "['first', 'second', 'third', 1, 2, 3]\n"
     ]
    }
   ],
   "source": [
    "another_list = ['first', 'second', 'third', 1, 2, 3]\n",
    "print(another_list)"
   ]
  },
  {
   "cell_type": "code",
   "execution_count": 3,
   "metadata": {},
   "outputs": [
    {
     "name": "stdout",
     "output_type": "stream",
     "text": [
      "[[1, 2, 3, 4], [1, 2, 3, 4], [1, 2, 3, 4]]\n",
      "[[1, 2, 45, 4], [1, 2, 45, 4], [1, 2, 45, 4]]\n"
     ]
    }
   ],
   "source": [
    "myList = [1,2,3,4]\n",
    "A = [myList]*3\n",
    "print(A)\n",
    "myList[2]=45\n",
    "print(A)"
   ]
  },
  {
   "cell_type": "markdown",
   "metadata": {},
   "source": [
    "Lists are mutable; their contents can change as more statements are interpreted."
   ]
  },
  {
   "cell_type": "code",
   "execution_count": 4,
   "metadata": {},
   "outputs": [
    {
     "name": "stdout",
     "output_type": "stream",
     "text": [
      "['first', 'second', 'third', 'fourth']\n"
     ]
    }
   ],
   "source": [
    "l.append('fourth')\n",
    "print(l)"
   ]
  },
  {
   "cell_type": "code",
   "execution_count": 5,
   "metadata": {},
   "outputs": [],
   "source": [
    "list_one = [1, 2, 3]\n",
    "list_two = list_one"
   ]
  },
  {
   "cell_type": "markdown",
   "metadata": {},
   "source": [
    "- The above code creates two different references (named `list_one` and `list_two`) to the *same* value `[1, 2, 3]`\n",
    "\n",
    "- Because lists are mutable, changing them can have side-effects on other variables.\n",
    "\n",
    "- If we append something to `list_one` what will happen to `list_two`?"
   ]
  },
  {
   "cell_type": "code",
   "execution_count": 6,
   "metadata": {},
   "outputs": [
    {
     "data": {
      "text/plain": [
       "[1, 2, 3, 4]"
      ]
     },
     "execution_count": 6,
     "metadata": {},
     "output_type": "execute_result"
    }
   ],
   "source": [
    "list_one.append(4)\n",
    "list_one"
   ]
  },
  {
   "cell_type": "code",
   "execution_count": 7,
   "metadata": {},
   "outputs": [
    {
     "data": {
      "text/plain": [
       "[1, 2, 3, 4]"
      ]
     },
     "execution_count": 7,
     "metadata": {},
     "output_type": "execute_result"
    }
   ],
   "source": [
    "list_two"
   ]
  },
  {
   "cell_type": "markdown",
   "metadata": {},
   "source": [
    "# List Methods"
   ]
  },
  {
   "cell_type": "raw",
   "metadata": {},
   "source": [
    "| Method Name | Use | Explanation |\n",
    "|----|---|\n",
    "| append | alist.append(item) | Adds a new item to the end of a list |\n",
    "| insert\t| alist.insert(i,item) |\tInserts an item at the ith position in a list |\n",
    "|pop\t|alist.pop()\t|Removes and returns the last item in a list|\n",
    "|pop|\talist.pop(i)|\tRemoves and returns the ith item in a list|\n",
    "|sort|\talist.sort()|\tModifies a list to be sorted|\n",
    "|reverse|\talist.reverse()|\tModifies a list to be in reverse order|\n",
    "|del|\tdel alist[i]|\tDeletes the item in the ith position|\n",
    "|index|\talist.index(item)|\tReturns the index of the first occurrence of item|\n",
    "|count|\talist.count(item)|\tReturns the number of occurrences of item|\n",
    "|remove|\talist.remove(item)|\tRemoves the first occurrence of item|"
   ]
  },
  {
   "cell_type": "markdown",
   "metadata": {},
   "source": [
    "# State and identity\n",
    "\n",
    "- The state referred to by a variable is *different* from its identity.\n",
    "\n",
    "- To compare *state* use the `==` operator.\n",
    "\n",
    "- To compare *identity* use the `is` operator.\n",
    "\n",
    "- When we compare identity we check equality of references.\n",
    "\n",
    "- When we compare state we check equality of values.\n"
   ]
  },
  {
   "cell_type": "code",
   "execution_count": 8,
   "metadata": {},
   "outputs": [],
   "source": [
    "X = [1, 2]\n",
    "Y = [1]\n",
    "Y.append(2)"
   ]
  },
  {
   "cell_type": "code",
   "execution_count": 9,
   "metadata": {},
   "outputs": [
    {
     "data": {
      "text/plain": [
       "True"
      ]
     },
     "execution_count": 9,
     "metadata": {},
     "output_type": "execute_result"
    }
   ],
   "source": [
    "X == Y"
   ]
  },
  {
   "cell_type": "code",
   "execution_count": 10,
   "metadata": {},
   "outputs": [
    {
     "data": {
      "text/plain": [
       "False"
      ]
     },
     "execution_count": 10,
     "metadata": {},
     "output_type": "execute_result"
    }
   ],
   "source": [
    "X is Y"
   ]
  },
  {
   "cell_type": "code",
   "execution_count": 11,
   "metadata": {},
   "outputs": [
    {
     "data": {
      "text/plain": [
       "[1, 2]"
      ]
     },
     "execution_count": 11,
     "metadata": {},
     "output_type": "execute_result"
    }
   ],
   "source": [
    "Y.append(3)\n",
    "X"
   ]
  },
  {
   "cell_type": "markdown",
   "metadata": {},
   "source": [
    "## List Indexing\n",
    "\n",
    "- Lists can be indexed using square brackets to retrieve the element stored in a particular position.  \n",
    "- Indexing is exactly similar to indexing in strings except that indexing in lists returns the entire item at that position whereas in strings, the character at that position is returned\n",
    "\n",
    "\n",
    "\n"
   ]
  },
  {
   "cell_type": "code",
   "execution_count": 12,
   "metadata": {},
   "outputs": [
    {
     "name": "stdout",
     "output_type": "stream",
     "text": [
      "first\n",
      "second\n"
     ]
    }
   ],
   "source": [
    "print(l[0])\n",
    "print(l[1])"
   ]
  },
  {
   "cell_type": "markdown",
   "metadata": {},
   "source": [
    "## List  Slicing\n",
    "\n",
    "Indexing was only limited to accessing a single element, Slicing on the other hand is accessing a sequence of data inside the list. In other words \"slicing\" the list.\n",
    "\n",
    "Slicing is done by defining the index values of the first element and the last element from the parent list that is required in the sliced list. It is written as parentlist[ a : b ] where a,b are the index values from the parent list. If a or b is not defined then the index value is considered to be the first value for a if a is not defined and the last value for b when b is not defined."
   ]
  },
  {
   "cell_type": "code",
   "execution_count": 13,
   "metadata": {},
   "outputs": [
    {
     "name": "stdout",
     "output_type": "stream",
     "text": [
      "[0, 1, 2, 3]\n",
      "[4, 5, 6, 7, 8, 9]\n"
     ]
    }
   ],
   "source": [
    "num_range = [0,1,2,3,4,5,6,7,8,9]\n",
    "print(num_range[0:4])\n",
    "print(num_range[4:])"
   ]
  },
  {
   "cell_type": "markdown",
   "metadata": {},
   "source": [
    "**Q. Given the list num_range, try printing:**  \n",
    "    a. Odd numbers  \n",
    "    b. Even numbers  \n",
    "    c. Numbers divisible by 3  \n",
    "    \n",
    "**Hint:** Try using the step-size after the end slice index"
   ]
  },
  {
   "cell_type": "code",
   "execution_count": 14,
   "metadata": {},
   "outputs": [
    {
     "name": "stdout",
     "output_type": "stream",
     "text": [
      "odd numbers =  [1, 2, 3, 4, 5, 6, 7, 8, 9]\n",
      "even numbers =  [0, 1, 2, 3, 4, 5, 6, 7, 8, 9]\n",
      "divisible_by_3 numbers =  [3, 6, 9]\n"
     ]
    }
   ],
   "source": [
    "#Answers here\n",
    "odd = num_range[1::1]\n",
    "print('odd numbers = ', odd)\n",
    "\n",
    "even = num_range[0::1]\n",
    "print('even numbers = ', even)\n",
    "\n",
    "divisible_by_3 = num_range[3::3]\n",
    "print('divisible_by_3 numbers = ', divisible_by_3)"
   ]
  },
  {
   "cell_type": "markdown",
   "metadata": {},
   "source": [
    "Q. Find the maximum, minimum and length from the list **num_range**.  \n",
    "**Hint:** Use max(), min() and len() respectively."
   ]
  },
  {
   "cell_type": "code",
   "execution_count": 15,
   "metadata": {},
   "outputs": [
    {
     "name": "stdout",
     "output_type": "stream",
     "text": [
      "9\n",
      "0\n",
      "10\n"
     ]
    }
   ],
   "source": [
    "#Answer here\n",
    "print(max(num_range))\n",
    "\n",
    "print(min(num_range))\n",
    "\n",
    "print(len(num_range))"
   ]
  },
  {
   "cell_type": "code",
   "execution_count": 17,
   "metadata": {},
   "outputs": [
    {
     "data": {
      "text/plain": [
       "1"
      ]
     },
     "execution_count": 17,
     "metadata": {},
     "output_type": "execute_result"
    }
   ],
   "source": [
    "names = ['Earth','Air','Fire','Water']\n",
    "\n",
    "names.count('Earth')"
   ]
  },
  {
   "cell_type": "markdown",
   "metadata": {},
   "source": [
    "Lets check if the items 'Air' and 'Wind' are present in the list or not"
   ]
  },
  {
   "cell_type": "code",
   "execution_count": 18,
   "metadata": {},
   "outputs": [
    {
     "data": {
      "text/plain": [
       "False"
      ]
     },
     "execution_count": 18,
     "metadata": {},
     "output_type": "execute_result"
    }
   ],
   "source": [
    "'Wind' in names"
   ]
  },
  {
   "cell_type": "code",
   "execution_count": 19,
   "metadata": {},
   "outputs": [
    {
     "data": {
      "text/plain": [
       "True"
      ]
     },
     "execution_count": 19,
     "metadata": {},
     "output_type": "execute_result"
    }
   ],
   "source": [
    "'Air' in names"
   ]
  },
  {
   "cell_type": "markdown",
   "metadata": {},
   "source": [
    "In a list with elements as string, **max( )** and **min( )** is applicable. **max( )** would return a string element whose ASCII value is the highest and the lowest when **min( )** is used. Note that only the first index of each element is considered each time and if they value is the same then second index considered so on and so forth."
   ]
  },
  {
   "cell_type": "code",
   "execution_count": 20,
   "metadata": {},
   "outputs": [
    {
     "name": "stdout",
     "output_type": "stream",
     "text": [
      "z\n",
      "az\n"
     ]
    }
   ],
   "source": [
    "mlist = ['bzaa','ds','nc','az','z','klm']\n",
    "print(max(mlist))\n",
    "print(min(mlist))"
   ]
  },
  {
   "cell_type": "markdown",
   "metadata": {},
   "source": [
    "Here the first index of each element is considered and thus z has the highest ASCII value thus it is returned and minimum ASCII is a. But what if numbers are declared as strings?"
   ]
  },
  {
   "cell_type": "code",
   "execution_count": 21,
   "metadata": {},
   "outputs": [
    {
     "name": "stdout",
     "output_type": "stream",
     "text": [
      "94\n",
      "1\n"
     ]
    }
   ],
   "source": [
    "nlist = ['1','94','93','1000']\n",
    "print(max(nlist))\n",
    "print(min(nlist))"
   ]
  },
  {
   "cell_type": "markdown",
   "metadata": {},
   "source": [
    "Even if the numbers are declared in a string the first index of each element is considered and the maximum and minimum values are returned accordingly."
   ]
  },
  {
   "cell_type": "markdown",
   "metadata": {},
   "source": [
    "But if you want to find the **max( )** string element based on the length of the string then another parameter 'key=len' is declared inside the **max( )** and **min( )** function."
   ]
  },
  {
   "cell_type": "code",
   "execution_count": 22,
   "metadata": {},
   "outputs": [
    {
     "name": "stdout",
     "output_type": "stream",
     "text": [
      "Earth\n",
      "Air\n"
     ]
    }
   ],
   "source": [
    "print(max(names, key=len))\n",
    "print(min(names, key=len))"
   ]
  },
  {
   "cell_type": "code",
   "execution_count": 23,
   "metadata": {},
   "outputs": [
    {
     "name": "stdout",
     "output_type": "stream",
     "text": [
      "1000\n",
      "1\n"
     ]
    }
   ],
   "source": [
    "print(max(nlist, key=len))\n",
    "print(min(nlist, key=len))"
   ]
  },
  {
   "cell_type": "markdown",
   "metadata": {},
   "source": [
    "A string can be converted into a list by using the list() function."
   ]
  },
  {
   "cell_type": "code",
   "execution_count": 24,
   "metadata": {},
   "outputs": [
    {
     "data": {
      "text/plain": [
       "['U', 'p', 'G', 'r', 'a', 'd']"
      ]
     },
     "execution_count": 24,
     "metadata": {},
     "output_type": "execute_result"
    }
   ],
   "source": [
    "list('UpGrad')"
   ]
  },
  {
   "cell_type": "markdown",
   "metadata": {},
   "source": [
    "List of words? Let's try using .split() which splits a string on the basis of spaces."
   ]
  },
  {
   "cell_type": "code",
   "execution_count": 25,
   "metadata": {},
   "outputs": [
    {
     "name": "stdout",
     "output_type": "stream",
     "text": [
      "['I', 'will', 'now', 'convert', 'this', 'to', 'a', 'list', 'of', 'words']\n"
     ]
    }
   ],
   "source": [
    "test_string = 'I will now convert this to a list of words'\n",
    "print(test_string.split())"
   ]
  },
  {
   "cell_type": "markdown",
   "metadata": {},
   "source": [
    "What about splitting on something else? Like a period? and then try to make it like a normal sentence using .join?"
   ]
  },
  {
   "cell_type": "code",
   "execution_count": 26,
   "metadata": {},
   "outputs": [
    {
     "name": "stdout",
     "output_type": "stream",
     "text": [
      "['Hi', 'Can', 'we', 'get', 'rid', 'of', 'the', 'periods', 'here']\n"
     ]
    }
   ],
   "source": [
    "string_to_split = 'Hi.Can.we.get.rid.of.the.periods.here'\n",
    "list_var = string_to_split.split('.')\n",
    "print(list_var)"
   ]
  },
  {
   "cell_type": "code",
   "execution_count": 27,
   "metadata": {},
   "outputs": [
    {
     "name": "stdout",
     "output_type": "stream",
     "text": [
      "Hi Can we get rid of the periods here\n"
     ]
    }
   ],
   "source": [
    "#Let's join it back with spaces and reassign it to the original name\n",
    "string_to_split = \" \".join(list_var)\n",
    "print(string_to_split)"
   ]
  },
  {
   "cell_type": "code",
   "execution_count": 28,
   "metadata": {},
   "outputs": [
    {
     "name": "stdout",
     "output_type": "stream",
     "text": [
      "Hi Can we get rid of the periods here\n"
     ]
    }
   ],
   "source": [
    "#Let's do it as a one-liner\n",
    "string_to_split = 'Hi.Can.we.get.rid.of.the.periods.here'\n",
    "out =  \" \".join(string_to_split.split('.'))\n",
    "print(out)"
   ]
  },
  {
   "cell_type": "markdown",
   "metadata": {},
   "source": [
    "**Q** You have a list of email ids. The username for each email consists of all characters occurring before the @ symbol. You will need to write a code that will return a True or False after accepting user's input on the email id and check if the usernames is in the list of usernames or not. If it is present print True, else print False.  \n",
    "We have provided a template below. Fill it up and test it."
   ]
  },
  {
   "cell_type": "code",
   "execution_count": 33,
   "metadata": {},
   "outputs": [
    {
     "name": "stdout",
     "output_type": "stream",
     "text": [
      "False\n"
     ]
    }
   ],
   "source": [
    "list_of_usernames = ['admin', 'masteruser', 'superuser', 'super', 'main','mainuser', 'root', 'rootuser']\n",
    "\n",
    "#accept email id from user\n",
    "# ?input_name = 'admin@gmail.com'\n",
    "input_name = 'user@gmail.com'\n",
    "\n",
    "\"\"\"Treat the input to extract the username from email id - You might also want to treat upper and lower case alike.\n",
    "After extracting you might want to onvert it to lower case before looking it up in your list\"\"\"\n",
    "input_username = input_name.split('@')[0]\n",
    "\n",
    "print(input_username in list_of_usernames)\n",
    "\n",
    "#print True if the username is present or print False. Do not use the if-else statement.\n",
    "\n"
   ]
  },
  {
   "cell_type": "markdown",
   "metadata": {},
   "source": [
    "By the way, triple quotes are used for multiline comments. Don't you think something similar can be used during new user signups?"
   ]
  },
  {
   "cell_type": "markdown",
   "metadata": {},
   "source": [
    "## Sorting"
   ]
  },
  {
   "cell_type": "code",
   "execution_count": 34,
   "metadata": {},
   "outputs": [
    {
     "name": "stdout",
     "output_type": "stream",
     "text": [
      "['Air', 'Earth', 'Fire', 'Water']\n",
      "['Water', 'Fire', 'Earth', 'Air']\n"
     ]
    }
   ],
   "source": [
    "names.sort()\n",
    "print(names)\n",
    "names.sort(reverse=True)\n",
    "print(names)"
   ]
  },
  {
   "cell_type": "markdown",
   "metadata": {},
   "source": [
    "## Reversing"
   ]
  },
  {
   "cell_type": "code",
   "execution_count": 35,
   "metadata": {},
   "outputs": [
    {
     "name": "stdout",
     "output_type": "stream",
     "text": [
      "['Water', 'Fire', 'Earth', 'Air']\n",
      "['Air', 'Earth', 'Fire', 'Water']\n"
     ]
    }
   ],
   "source": [
    "print(names)\n",
    "print(list(reversed(names)))"
   ]
  },
  {
   "cell_type": "markdown",
   "metadata": {},
   "source": [
    "### Copying a list  \n",
    "Most of the new python programmers commit this mistake. Consider the following,"
   ]
  },
  {
   "cell_type": "code",
   "execution_count": 36,
   "metadata": {},
   "outputs": [],
   "source": [
    "lista= [2,1,4,3]"
   ]
  },
  {
   "cell_type": "code",
   "execution_count": 37,
   "metadata": {},
   "outputs": [
    {
     "name": "stdout",
     "output_type": "stream",
     "text": [
      "[2, 1, 4, 3]\n"
     ]
    }
   ],
   "source": [
    "listb = lista\n",
    "print(listb)"
   ]
  },
  {
   "cell_type": "markdown",
   "metadata": {},
   "source": [
    "Here, We have declared a list, lista = [2,1,4,3]. This list is copied to listb by assigning it's value and it get's copied as seen. Now we perform some random operations on lista."
   ]
  },
  {
   "cell_type": "code",
   "execution_count": 38,
   "metadata": {},
   "outputs": [
    {
     "name": "stdout",
     "output_type": "stream",
     "text": [
      "[2, 1, 4]\n",
      "[2, 1, 4, 9]\n"
     ]
    }
   ],
   "source": [
    "lista.pop()\n",
    "print(lista)\n",
    "lista.append(9)\n",
    "print(lista)"
   ]
  },
  {
   "cell_type": "code",
   "execution_count": 39,
   "metadata": {},
   "outputs": [
    {
     "name": "stdout",
     "output_type": "stream",
     "text": [
      "[2, 1, 4, 9]\n"
     ]
    }
   ],
   "source": [
    "print(listb)"
   ]
  },
  {
   "cell_type": "markdown",
   "metadata": {},
   "source": [
    "listb has also changed though no operation has been performed on it. This is because you have assigned the same memory space of lista to listb. So how do fix this?\n",
    "\n",
    "If you recall, in slicing we had seen that parentlist[a:b] returns a list from parent list with start index a and end index b and if a and b is not mentioned then by default it considers the first and last element. We use the same concept here. By doing so, we are assigning the data of lista to listb as a variable."
   ]
  },
  {
   "cell_type": "code",
   "execution_count": 40,
   "metadata": {},
   "outputs": [
    {
     "name": "stdout",
     "output_type": "stream",
     "text": [
      "[2, 1, 4, 3]\n",
      "[2, 1, 4]\n",
      "[2, 1, 4, 9]\n"
     ]
    }
   ],
   "source": [
    "lista = [2,1,4,3]\n",
    "listb = lista[:]\n",
    "print(listb)\n",
    "lista.pop()\n",
    "print(lista)\n",
    "lista.append(9)\n",
    "print(lista)"
   ]
  },
  {
   "cell_type": "code",
   "execution_count": 41,
   "metadata": {},
   "outputs": [
    {
     "name": "stdout",
     "output_type": "stream",
     "text": [
      "[2, 1, 4, 3]\n"
     ]
    }
   ],
   "source": [
    "print(listb)"
   ]
  },
  {
   "cell_type": "markdown",
   "metadata": {},
   "source": [
    "Take a look at the next block of code to get familiar with the list methods"
   ]
  },
  {
   "cell_type": "code",
   "execution_count": 42,
   "metadata": {},
   "outputs": [
    {
     "name": "stdout",
     "output_type": "stream",
     "text": [
      "[1024, 3, True, 6.5, False]\n",
      "[1024, 3, 4.5, True, 6.5, False]\n",
      "False\n",
      "[1024, 3, 4.5, True, 6.5]\n",
      "3\n",
      "[1024, 4.5, True, 6.5]\n",
      "[1024, 4.5, 6.5]\n",
      "[4.5, 6.5, 1024]\n",
      "[1024, 6.5, 4.5]\n",
      "1\n",
      "2\n",
      "[1024, 4.5]\n",
      "[4.5]\n"
     ]
    }
   ],
   "source": [
    "myList = [1024, 3, True, 6.5]\n",
    "myList.append(False)\n",
    "print(myList)\n",
    "myList.insert(2,4.5)\n",
    "print(myList)\n",
    "print(myList.pop())\n",
    "print(myList)\n",
    "print(myList.pop(1))\n",
    "print(myList)\n",
    "myList.pop(2)\n",
    "print(myList)\n",
    "myList.sort()\n",
    "print(myList)\n",
    "myList.reverse()\n",
    "print(myList)\n",
    "print(myList.count(6.5))\n",
    "print(myList.index(4.5))\n",
    "myList.remove(6.5)\n",
    "print(myList)\n",
    "del myList[0]\n",
    "print(myList)"
   ]
  },
  {
   "cell_type": "code",
   "execution_count": null,
   "metadata": {
    "collapsed": true
   },
   "outputs": [],
   "source": [
    "#Practice workspace\n",
    "\n",
    "\n",
    "\n",
    "\n",
    "\n"
   ]
  },
  {
   "cell_type": "markdown",
   "metadata": {},
   "source": [
    "# Tuples  \n",
    "\n",
    "- Tuples are another way to combine different values.\n",
    "\n",
    "- The combined values can be of different types.\n",
    "\n",
    "- Like lists, they have a well-defined ordering and can be indexed.\n",
    "\n",
    "- To create a tuple in Python, use round brackets instead of square brackets"
   ]
  },
  {
   "cell_type": "code",
   "execution_count": 43,
   "metadata": {},
   "outputs": [
    {
     "data": {
      "text/plain": [
       "(50, 'hello')"
      ]
     },
     "execution_count": 43,
     "metadata": {},
     "output_type": "execute_result"
    }
   ],
   "source": [
    "first_tuple = (50, 'hello')\n",
    "first_tuple"
   ]
  },
  {
   "cell_type": "code",
   "execution_count": 44,
   "metadata": {},
   "outputs": [
    {
     "name": "stdout",
     "output_type": "stream",
     "text": [
      "50\n",
      "hello\n",
      "<class 'tuple'>\n"
     ]
    }
   ],
   "source": [
    "print(first_tuple[0])\n",
    "print(first_tuple[1])\n",
    "print(type(first_tuple))"
   ]
  },
  {
   "cell_type": "markdown",
   "metadata": {},
   "source": [
    "## Tuples are immutable\n",
    "\n",
    "- Unlike lists, tuples are *immutable*.  Once we have created a tuple we cannot add values to it.\n"
   ]
  },
  {
   "cell_type": "code",
   "execution_count": 45,
   "metadata": {},
   "outputs": [
    {
     "ename": "AttributeError",
     "evalue": "'tuple' object has no attribute 'append'",
     "output_type": "error",
     "traceback": [
      "\u001b[1;31m---------------------------------------------------------------------------\u001b[0m",
      "\u001b[1;31mAttributeError\u001b[0m                            Traceback (most recent call last)",
      "\u001b[1;32m<ipython-input-45-7fafb586751c>\u001b[0m in \u001b[0;36m<module>\u001b[1;34m\u001b[0m\n\u001b[1;32m----> 1\u001b[1;33m \u001b[0mfirst_tuple\u001b[0m\u001b[1;33m.\u001b[0m\u001b[0mappend\u001b[0m\u001b[1;33m(\u001b[0m\u001b[1;36m25\u001b[0m\u001b[1;33m)\u001b[0m\u001b[1;33m\u001b[0m\u001b[1;33m\u001b[0m\u001b[0m\n\u001b[0m",
      "\u001b[1;31mAttributeError\u001b[0m: 'tuple' object has no attribute 'append'"
     ]
    }
   ],
   "source": [
    "first_tuple.append(25)"
   ]
  },
  {
   "cell_type": "markdown",
   "metadata": {},
   "source": [
    "Tuples are similar to lists but only big difference is the elements inside a list can be changed but in tuple it cannot be changed. Think of tuples as something which has to be True for a particular something and cannot be True for no other values. For better understanding, let's use the **divmod()** function."
   ]
  },
  {
   "cell_type": "code",
   "execution_count": 47,
   "metadata": {},
   "outputs": [
    {
     "name": "stdout",
     "output_type": "stream",
     "text": [
      "(3, 1)\n",
      "<class 'tuple'>\n"
     ]
    }
   ],
   "source": [
    "xyz = divmod(10,3)\n",
    "print(xyz)\n",
    "print(type(xyz))"
   ]
  },
  {
   "cell_type": "markdown",
   "metadata": {},
   "source": [
    "Here the quotient has to be 3 and the remainder has to be 1. These values cannot be changed whatsoever when 10 is divided by 3. Hence divmod returns these values in a tuple."
   ]
  },
  {
   "cell_type": "markdown",
   "metadata": {},
   "source": [
    "If you want to directly declare a tuple it can be done by using a comma at the end of the data."
   ]
  },
  {
   "cell_type": "code",
   "execution_count": 48,
   "metadata": {},
   "outputs": [
    {
     "data": {
      "text/plain": [
       "(27,)"
      ]
     },
     "execution_count": 48,
     "metadata": {},
     "output_type": "execute_result"
    }
   ],
   "source": [
    "27,"
   ]
  },
  {
   "cell_type": "markdown",
   "metadata": {},
   "source": [
    "27 when multiplied by 2 yields 54, But when multiplied with a tuple the data is repeated twice."
   ]
  },
  {
   "cell_type": "code",
   "execution_count": 49,
   "metadata": {},
   "outputs": [
    {
     "data": {
      "text/plain": [
       "(27, 27)"
      ]
     },
     "execution_count": 49,
     "metadata": {},
     "output_type": "execute_result"
    }
   ],
   "source": [
    "2*(27,)"
   ]
  },
  {
   "cell_type": "markdown",
   "metadata": {},
   "source": [
    "Values can be assigned while declaring a tuple. It takes a list as input and converts it into a tuple or it takes a string and converts it into a tuple."
   ]
  },
  {
   "cell_type": "code",
   "execution_count": 50,
   "metadata": {},
   "outputs": [
    {
     "name": "stdout",
     "output_type": "stream",
     "text": [
      "(1, 2, 3)\n",
      "('H', 'e', 'l', 'l', 'o')\n"
     ]
    }
   ],
   "source": [
    "tup3 = tuple([1,2,3])\n",
    "print(tup3)\n",
    "tup4 = tuple('Hello')\n",
    "print(tup4)"
   ]
  },
  {
   "cell_type": "code",
   "execution_count": 52,
   "metadata": {},
   "outputs": [
    {
     "name": "stdout",
     "output_type": "stream",
     "text": [
      "('H', 'e', 'l', 'l', 'o')\n"
     ]
    }
   ],
   "source": [
    "tup4 = tuple(\"Hello\")\n",
    "print(tup4)"
   ]
  },
  {
   "cell_type": "markdown",
   "metadata": {},
   "source": [
    "## Slicing  \n",
    "Slicing is similar to lists"
   ]
  },
  {
   "cell_type": "code",
   "execution_count": 53,
   "metadata": {},
   "outputs": [
    {
     "name": "stdout",
     "output_type": "stream",
     "text": [
      "2\n",
      "('H', 'e', 'l')\n"
     ]
    }
   ],
   "source": [
    "print(tup3[1])\n",
    "tup5 = tup4[:3]\n",
    "print(tup5)"
   ]
  },
  {
   "cell_type": "markdown",
   "metadata": {},
   "source": [
    "## Built In Tuple functions  \n",
    "**count()** function counts the number of specified element that is present in the tuple.  \n",
    "**index()** function returns the index of the specified element. If the elements are more than one then the index of the first element of that specified element is returned"
   ]
  },
  {
   "cell_type": "code",
   "execution_count": 54,
   "metadata": {},
   "outputs": [
    {
     "name": "stdout",
     "output_type": "stream",
     "text": [
      "2\n",
      "2\n"
     ]
    }
   ],
   "source": [
    "example = (\"Mumbai\",\"Chennai\",\"Delhi\",\"Kolkatta\",\"Mumbai\",\"Bangalore\")\n",
    "print(example.count(\"Mumbai\"))\n",
    "\n",
    "print(example.index(\"Delhi\"))"
   ]
  },
  {
   "cell_type": "markdown",
   "metadata": {},
   "source": [
    "# Dictionary"
   ]
  },
  {
   "cell_type": "markdown",
   "metadata": {},
   "source": [
    "Dictionaries are more used like a database because here you can index a particular sequence with your user defined string. To define a dictionary, equate a variable to { } or dict()"
   ]
  },
  {
   "cell_type": "code",
   "execution_count": 55,
   "metadata": {},
   "outputs": [
    {
     "name": "stdout",
     "output_type": "stream",
     "text": [
      "<class 'dict'> <class 'dict'>\n"
     ]
    }
   ],
   "source": [
    "first_dict = {}\n",
    "second_dict = dict()\n",
    "print(type(first_dict), type(second_dict))"
   ]
  },
  {
   "cell_type": "markdown",
   "metadata": {},
   "source": [
    "## Dictionary Operators"
   ]
  },
  {
   "cell_type": "raw",
   "metadata": {},
   "source": [
    "\n",
    "| Operator | Use | Explanation |\n",
    "|----|---|\n",
    "| [ ] | myDict[k] |Returns the value associated with k, otherwise its an error |\n",
    "| in\t| key in adict |\tReturns True if key is in the dictionary, False otherwise |\n",
    "| del\t|del adict[key]\t|Removes the entry from the dictionary|"
   ]
  },
  {
   "cell_type": "markdown",
   "metadata": {},
   "source": [
    "Dictionary works somewhat like a list but with an added capability of assigning it's own index style."
   ]
  },
  {
   "cell_type": "code",
   "execution_count": 56,
   "metadata": {},
   "outputs": [
    {
     "name": "stdout",
     "output_type": "stream",
     "text": [
      "{'One': 1, 'Twelve': 12}\n"
     ]
    }
   ],
   "source": [
    "first_dict['One'] = 1\n",
    "first_dict['Twelve'] = 12 \n",
    "print(first_dict)"
   ]
  },
  {
   "cell_type": "code",
   "execution_count": 57,
   "metadata": {},
   "outputs": [
    {
     "data": {
      "text/plain": [
       "True"
      ]
     },
     "execution_count": 57,
     "metadata": {},
     "output_type": "execute_result"
    }
   ],
   "source": [
    "'One' in first_dict"
   ]
  },
  {
   "cell_type": "code",
   "execution_count": 58,
   "metadata": {},
   "outputs": [
    {
     "name": "stdout",
     "output_type": "stream",
     "text": [
      "{'Twelve': 12}\n"
     ]
    }
   ],
   "source": [
    "del first_dict['One']\n",
    "print(first_dict)"
   ]
  },
  {
   "cell_type": "markdown",
   "metadata": {},
   "source": [
    "## Dictionary Methods"
   ]
  },
  {
   "cell_type": "raw",
   "metadata": {},
   "source": [
    "\n",
    "| Method | Use | Explanation |\n",
    "|----|---|\n",
    "| keys | adict.keys() |Returns the keys of the dictionary in a dict_keys object |\n",
    "| values\t| adict.values() |\tReturns the values of the dictionary in a dict_values object |\n",
    "| items\t|adict.items()\t|Returns the key-value pairs in a dict_items object|\n",
    "| get\t|adict.get(k)\t|Returns the value associated with k, None otherwise|\n",
    "| get\t|adict.get(k,alt)\t|Returns the value associated with k, alt otherwise|\n"
   ]
  },
  {
   "cell_type": "code",
   "execution_count": 59,
   "metadata": {},
   "outputs": [
    {
     "name": "stdout",
     "output_type": "stream",
     "text": [
      "Mumbai\n",
      "{'Maharashtra': 'Mumbai', 'Tamil Nadu': 'Chennai', 'Rajasthan': 'Jaipur'}\n",
      "4\n"
     ]
    }
   ],
   "source": [
    "capitals = {'Maharashtra':'Mumbai','Tamil Nadu':'Chennai'}\n",
    "\n",
    "#get the capital of Maharashtra\n",
    "print(capitals['Maharashtra'])\n",
    "\n",
    "#create a new key Rajasthan whose capital(value) is Jaipur\n",
    "capitals['Rajasthan']='Jaipur'\n",
    "print(capitals)\n",
    "\n",
    "#create another key-value pair\n",
    "capitals['Punjab']='Chandigarh'\n",
    "print(len(capitals))"
   ]
  },
  {
   "cell_type": "markdown",
   "metadata": {},
   "source": [
    "Dictionary keys are unique and hence we cannot have two similar keys. Values can be the same though."
   ]
  },
  {
   "cell_type": "code",
   "execution_count": 60,
   "metadata": {},
   "outputs": [
    {
     "name": "stdout",
     "output_type": "stream",
     "text": [
      "{'Maharashtra': 'Mumbai', 'Tamil Nadu': 'Chennai', 'Rajasthan': 'Jaipur', 'Punjab': 'Chandigarh', 'Haryana': 'Chandigarh'}\n"
     ]
    }
   ],
   "source": [
    "capitals['Haryana'] = 'Chandigarh'\n",
    "print(capitals)"
   ]
  },
  {
   "cell_type": "markdown",
   "metadata": {},
   "source": [
    "**values( )** function returns a list with all the assigned values in the dictionary./"
   ]
  },
  {
   "cell_type": "code",
   "execution_count": 61,
   "metadata": {},
   "outputs": [
    {
     "name": "stdout",
     "output_type": "stream",
     "text": [
      "dict_values(['Mumbai', 'Chennai', 'Jaipur', 'Chandigarh', 'Chandigarh'])\n",
      "<class 'dict_values'>\n"
     ]
    }
   ],
   "source": [
    "print(capitals.values())\n",
    "print(type(capitals.values()))\n"
   ]
  },
  {
   "cell_type": "code",
   "execution_count": 62,
   "metadata": {},
   "outputs": [
    {
     "name": "stdout",
     "output_type": "stream",
     "text": [
      "['Mumbai', 'Chennai', 'Jaipur', 'Chandigarh', 'Chandigarh']\n",
      "<class 'list'>\n"
     ]
    }
   ],
   "source": [
    "# to convert to a list use list()\n",
    " \n",
    "capitals_list = list(capitals.values())\n",
    "print(capitals_list)\n",
    "print(type(capitals_list))"
   ]
  },
  {
   "cell_type": "markdown",
   "metadata": {},
   "source": [
    "**keys( )** function returns all the index or the keys to which contains the values that it was assigned to."
   ]
  },
  {
   "cell_type": "code",
   "execution_count": 63,
   "metadata": {},
   "outputs": [
    {
     "name": "stdout",
     "output_type": "stream",
     "text": [
      "dict_keys(['Maharashtra', 'Tamil Nadu', 'Rajasthan', 'Punjab', 'Haryana'])\n",
      "<class 'dict_keys'>\n"
     ]
    }
   ],
   "source": [
    "print(capitals.keys())\n",
    "print(type(capitals.keys()))\n"
   ]
  },
  {
   "cell_type": "markdown",
   "metadata": {},
   "source": [
    "**items( )** is returns a list containing both the list but each element in the dictionary is inside a tuple."
   ]
  },
  {
   "cell_type": "code",
   "execution_count": 64,
   "metadata": {},
   "outputs": [
    {
     "name": "stdout",
     "output_type": "stream",
     "text": [
      "dict_items([('Maharashtra', 'Mumbai'), ('Tamil Nadu', 'Chennai'), ('Rajasthan', 'Jaipur'), ('Punjab', 'Chandigarh'), ('Haryana', 'Chandigarh')])\n",
      "[('Maharashtra', 'Mumbai'), ('Tamil Nadu', 'Chennai'), ('Rajasthan', 'Jaipur'), ('Punjab', 'Chandigarh'), ('Haryana', 'Chandigarh')]\n"
     ]
    }
   ],
   "source": [
    "print(capitals.items())\n",
    "\n",
    "#convert to list of tuples\n",
    "print(list(capitals.items()))"
   ]
  },
  {
   "cell_type": "code",
   "execution_count": 65,
   "metadata": {},
   "outputs": [
    {
     "name": "stdout",
     "output_type": "stream",
     "text": [
      "{'Sachin': 1410, 'Azhar': 1137}\n",
      "dict_keys(['Sachin', 'Azhar'])\n",
      "['Sachin', 'Azhar']\n",
      "dict_values([1410, 1137])\n",
      "[1410, 1137]\n",
      "dict_items([('Sachin', 1410), ('Azhar', 1137)])\n",
      "[('Sachin', 1410), ('Azhar', 1137)]\n",
      "None\n",
      "Not a part of team\n"
     ]
    }
   ],
   "source": [
    "#take a look at the block of code to understand\n",
    "phoneext={'Sachin':1410,'Azhar':1137}\n",
    "print(phoneext)\n",
    "\n",
    "print(phoneext.keys())\n",
    "\n",
    "print(list(phoneext.keys()))\n",
    "print(phoneext.values())\n",
    "print(list(phoneext.values()))\n",
    "\n",
    "print(phoneext.items())\n",
    "\n",
    "print(list(phoneext.items()))\n",
    "\n",
    "print(phoneext.get(\"Dhoni\"))\n",
    "\n",
    "print(phoneext.get(\"Dhoni\",\"Not a part of team\"))\n"
   ]
  },
  {
   "cell_type": "markdown",
   "metadata": {},
   "source": [
    "# Sets  \n",
    "Sets are mainly used to eliminate repeated numbers in a sequence/list. It is also used to perform some standard set operations.\n",
    "\n",
    "Sets are declared as set() which will initialize a empty set. Also set([sequence]) can be executed to declare a set with elements"
   ]
  },
  {
   "cell_type": "code",
   "execution_count": 66,
   "metadata": {},
   "outputs": [
    {
     "name": "stdout",
     "output_type": "stream",
     "text": [
      "<class 'set'>\n"
     ]
    }
   ],
   "source": [
    "first_set = set()\n",
    "print(type(first_set))"
   ]
  },
  {
   "cell_type": "code",
   "execution_count": 67,
   "metadata": {},
   "outputs": [
    {
     "name": "stdout",
     "output_type": "stream",
     "text": [
      "{1, 2, 3, 4}\n"
     ]
    }
   ],
   "source": [
    "second_set = set([1,2,2,3,3,4])\n",
    "print(second_set)"
   ]
  },
  {
   "cell_type": "markdown",
   "metadata": {},
   "source": [
    "## Set Methods - Built in set functions"
   ]
  },
  {
   "cell_type": "raw",
   "metadata": {},
   "source": [
    "\n",
    "| Method Name | Use | Explanation |\n",
    "|----|---|\n",
    "| union | aset.union(otherset) | Returns a new set with all elements from both sets |\n",
    "| intersection\t| aset.intersection(otherset) |\tReturns a new set with only those elements common to both sets |\n",
    "|difference\t|aset.difference(otherset)\t|Returns a new set with all items from first set not in second|\n",
    "|issubset|\taset.issubset(otherset)|\t\tAsks whether all elements of one set are in the other|\n",
    "|add|\taset.add(item)|\tAdds item to the set|\n",
    "|remove|\taset.remove(item)|\tRemoves item from the set|\n",
    "|pop|\taset.pop()|\tRemoves an arbitrary element from the set|\n",
    "|clear|\taset.clear()|\tRemoves all elements from the set|"
   ]
  },
  {
   "cell_type": "code",
   "execution_count": 68,
   "metadata": {},
   "outputs": [],
   "source": [
    "set_a = set([1,2,3])\n",
    "set_b = set([2,3,4,5])"
   ]
  },
  {
   "cell_type": "markdown",
   "metadata": {},
   "source": [
    "- Union: $X \\cup Y$:  \n",
    "**union( )** function returns a set which contains all the elements of both the sets without repetition."
   ]
  },
  {
   "cell_type": "code",
   "execution_count": 69,
   "metadata": {},
   "outputs": [
    {
     "data": {
      "text/plain": [
       "{1, 2, 3, 4, 5}"
      ]
     },
     "execution_count": 69,
     "metadata": {},
     "output_type": "execute_result"
    }
   ],
   "source": [
    "set_a.union(set_b)"
   ]
  },
  {
   "cell_type": "code",
   "execution_count": 70,
   "metadata": {},
   "outputs": [],
   "source": [
    "#Union\n",
    "X = {1, 2, 3}\n",
    "Y = {4, 5, 6}"
   ]
  },
  {
   "cell_type": "markdown",
   "metadata": {},
   "source": [
    "- Intersection: $X \\cap Y$:  \n",
    "**intersection( )** function outputs a set which contains all the elements that are in both sets."
   ]
  },
  {
   "cell_type": "code",
   "execution_count": 71,
   "metadata": {},
   "outputs": [
    {
     "data": {
      "text/plain": [
       "{2, 3}"
      ]
     },
     "execution_count": 71,
     "metadata": {},
     "output_type": "execute_result"
    }
   ],
   "source": [
    "set_a.intersection(set_b)"
   ]
  },
  {
   "cell_type": "code",
   "execution_count": 72,
   "metadata": {},
   "outputs": [],
   "source": [
    "#Intersection\n",
    "X = {1, 2, 3, 4}\n",
    "Y = {3, 4, 5}"
   ]
  },
  {
   "cell_type": "markdown",
   "metadata": {},
   "source": [
    "- Difference $X - Y$:  \n",
    "**difference( )** function ouptuts a set which contains elements that are in set1 and not in set2."
   ]
  },
  {
   "cell_type": "code",
   "execution_count": 73,
   "metadata": {},
   "outputs": [
    {
     "data": {
      "text/plain": [
       "{1}"
      ]
     },
     "execution_count": 73,
     "metadata": {},
     "output_type": "execute_result"
    }
   ],
   "source": [
    "set_a.difference(set_b)"
   ]
  },
  {
   "cell_type": "code",
   "execution_count": 74,
   "metadata": {},
   "outputs": [],
   "source": [
    "#Difference\n",
    "X = {1, 2, 3, 4}\n",
    "Y = {3, 4, 5}"
   ]
  },
  {
   "cell_type": "markdown",
   "metadata": {},
   "source": [
    "**symmetric_difference( )** function ouputs a function which contains elements that are in one of the sets."
   ]
  },
  {
   "cell_type": "code",
   "execution_count": 75,
   "metadata": {},
   "outputs": [
    {
     "data": {
      "text/plain": [
       "{1, 4, 5}"
      ]
     },
     "execution_count": 75,
     "metadata": {},
     "output_type": "execute_result"
    }
   ],
   "source": [
    "set_b.symmetric_difference(set_a)"
   ]
  },
  {
   "cell_type": "markdown",
   "metadata": {},
   "source": [
    "## List to set and vice-versa"
   ]
  },
  {
   "cell_type": "code",
   "execution_count": 76,
   "metadata": {},
   "outputs": [
    {
     "name": "stdout",
     "output_type": "stream",
     "text": [
      "{'C', 'D', 'A', 'B'}\n"
     ]
    }
   ],
   "source": [
    "list_with_duplicates = ['A','B','A','C','D','C','C','B']\n",
    "print(set(list_with_duplicates))"
   ]
  },
  {
   "cell_type": "code",
   "execution_count": 77,
   "metadata": {},
   "outputs": [
    {
     "name": "stdout",
     "output_type": "stream",
     "text": [
      "['C', 'D', 'A', 'B']\n"
     ]
    }
   ],
   "source": [
    "#Convert it to a list by wrapping it back to a list\n",
    "print(list(set(list_with_duplicates)))"
   ]
  },
  {
   "cell_type": "code",
   "execution_count": null,
   "metadata": {},
   "outputs": [],
   "source": []
  }
 ],
 "metadata": {
  "kernelspec": {
   "display_name": "Python 3",
   "language": "python",
   "name": "python3"
  },
  "language_info": {
   "codemirror_mode": {
    "name": "ipython",
    "version": 3
   },
   "file_extension": ".py",
   "mimetype": "text/x-python",
   "name": "python",
   "nbconvert_exporter": "python",
   "pygments_lexer": "ipython3",
   "version": "3.6.8"
  }
 },
 "nbformat": 4,
 "nbformat_minor": 1
}
