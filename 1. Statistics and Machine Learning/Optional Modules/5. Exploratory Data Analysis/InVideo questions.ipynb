{
 "cells": [
  {
   "cell_type": "raw",
   "metadata": {},
   "source": [
    "Remove the repeated 'Cust_' from the column Cust_id so that the output column Cust_id have just numbers like 1, 2, 3 and so on.\n",
    "Print the first 10 rows of the dataset  'customer' after processing.\n",
    "Execution time limit\n",
    "\n",
    "20 seconds"
   ]
  },
  {
   "cell_type": "code",
   "execution_count": 14,
   "metadata": {},
   "outputs": [],
   "source": [
    "import pandas as pd\n",
    "customer = pd.read_csv('https://query.data.world/s/y9rxL9mGdP6AXPiDaIL4yYm6DsfTV2')\n"
   ]
  },
  {
   "cell_type": "code",
   "execution_count": 15,
   "metadata": {},
   "outputs": [
    {
     "data": {
      "text/html": [
       "<div>\n",
       "<style scoped>\n",
       "    .dataframe tbody tr th:only-of-type {\n",
       "        vertical-align: middle;\n",
       "    }\n",
       "\n",
       "    .dataframe tbody tr th {\n",
       "        vertical-align: top;\n",
       "    }\n",
       "\n",
       "    .dataframe thead th {\n",
       "        text-align: right;\n",
       "    }\n",
       "</style>\n",
       "<table border=\"1\" class=\"dataframe\">\n",
       "  <thead>\n",
       "    <tr style=\"text-align: right;\">\n",
       "      <th></th>\n",
       "      <th>Customer_Name</th>\n",
       "      <th>Province</th>\n",
       "      <th>Region</th>\n",
       "      <th>Customer_Segment</th>\n",
       "      <th>Cust_id</th>\n",
       "    </tr>\n",
       "  </thead>\n",
       "  <tbody>\n",
       "    <tr>\n",
       "      <th>0</th>\n",
       "      <td>MUHAMMED MACINTYRE</td>\n",
       "      <td>NUNAVUT</td>\n",
       "      <td>NUNAVUT</td>\n",
       "      <td>SMALL BUSINESS</td>\n",
       "      <td>Cust_1</td>\n",
       "    </tr>\n",
       "    <tr>\n",
       "      <th>1</th>\n",
       "      <td>BARRY FRENCH</td>\n",
       "      <td>NUNAVUT</td>\n",
       "      <td>NUNAVUT</td>\n",
       "      <td>CONSUMER</td>\n",
       "      <td>Cust_2</td>\n",
       "    </tr>\n",
       "    <tr>\n",
       "      <th>2</th>\n",
       "      <td>CLAY ROZENDAL</td>\n",
       "      <td>NUNAVUT</td>\n",
       "      <td>NUNAVUT</td>\n",
       "      <td>CORPORATE</td>\n",
       "      <td>Cust_3</td>\n",
       "    </tr>\n",
       "    <tr>\n",
       "      <th>3</th>\n",
       "      <td>CARLOS SOLTERO</td>\n",
       "      <td>NUNAVUT</td>\n",
       "      <td>NUNAVUT</td>\n",
       "      <td>CONSUMER</td>\n",
       "      <td>Cust_4</td>\n",
       "    </tr>\n",
       "    <tr>\n",
       "      <th>4</th>\n",
       "      <td>CARL JACKSON</td>\n",
       "      <td>NUNAVUT</td>\n",
       "      <td>NUNAVUT</td>\n",
       "      <td>CORPORATE</td>\n",
       "      <td>Cust_5</td>\n",
       "    </tr>\n",
       "  </tbody>\n",
       "</table>\n",
       "</div>"
      ],
      "text/plain": [
       "        Customer_Name Province   Region Customer_Segment Cust_id\n",
       "0  MUHAMMED MACINTYRE  NUNAVUT  NUNAVUT   SMALL BUSINESS  Cust_1\n",
       "1        BARRY FRENCH  NUNAVUT  NUNAVUT         CONSUMER  Cust_2\n",
       "2       CLAY ROZENDAL  NUNAVUT  NUNAVUT        CORPORATE  Cust_3\n",
       "3      CARLOS SOLTERO  NUNAVUT  NUNAVUT         CONSUMER  Cust_4\n",
       "4        CARL JACKSON  NUNAVUT  NUNAVUT        CORPORATE  Cust_5"
      ]
     },
     "execution_count": 15,
     "metadata": {},
     "output_type": "execute_result"
    }
   ],
   "source": [
    "customer.head()"
   ]
  },
  {
   "cell_type": "code",
   "execution_count": 16,
   "metadata": {},
   "outputs": [],
   "source": [
    "def splitter(x):\n",
    "    return x.split(\"_\")[1]"
   ]
  },
  {
   "cell_type": "code",
   "execution_count": 17,
   "metadata": {},
   "outputs": [
    {
     "name": "stdout",
     "output_type": "stream",
     "text": [
      "        Customer_Name Province   Region Customer_Segment Cust_id\n",
      "0  MUHAMMED MACINTYRE  NUNAVUT  NUNAVUT   SMALL BUSINESS       1\n",
      "1        BARRY FRENCH  NUNAVUT  NUNAVUT         CONSUMER       2\n",
      "2       CLAY ROZENDAL  NUNAVUT  NUNAVUT        CORPORATE       3\n",
      "3      CARLOS SOLTERO  NUNAVUT  NUNAVUT         CONSUMER       4\n",
      "4        CARL JACKSON  NUNAVUT  NUNAVUT        CORPORATE       5\n",
      "5      MONICA FEDERLE  NUNAVUT  NUNAVUT        CORPORATE       6\n",
      "6     DOROTHY BADDERS  NUNAVUT  NUNAVUT      HOME OFFICE       7\n",
      "7     NEOLA SCHNEIDER  NUNAVUT  NUNAVUT      HOME OFFICE       8\n",
      "8         CARLOS DALY  NUNAVUT  NUNAVUT      HOME OFFICE       9\n",
      "9       CLAUDIA MINER  NUNAVUT  NUNAVUT   SMALL BUSINESS      10\n"
     ]
    }
   ],
   "source": [
    "\n",
    "\n",
    "customer['Cust_id'] = customer['Cust_id'].apply(lambda x:x.split(\"_\")[1])\n",
    "# customer['Cust_id'] = customer['Cust_id'].apply(splittertter)\n",
    "print(customer.head(10))"
   ]
  },
  {
   "cell_type": "code",
   "execution_count": null,
   "metadata": {},
   "outputs": [],
   "source": []
  },
  {
   "cell_type": "code",
   "execution_count": null,
   "metadata": {},
   "outputs": [],
   "source": []
  },
  {
   "cell_type": "raw",
   "metadata": {},
   "source": [
    "Rounding decimal places of a column\n",
    "Description\n",
    "The given dataframe 'sleepstudy' has a column 'Reaction' with floating integer values up to 4 decimal places. Round off the decimal places to 1.\n",
    "Execution time limit\n",
    "\n",
    "20 seconds"
   ]
  },
  {
   "cell_type": "code",
   "execution_count": 19,
   "metadata": {},
   "outputs": [
    {
     "name": "stdout",
     "output_type": "stream",
     "text": [
      "initiated datasets repo at: C:\\Users\\vamsi.gp\\.pydataset/\n"
     ]
    }
   ],
   "source": [
    "from pydataset import data\n",
    "sleepstudy =data('sleepstudy')\n",
    "\n"
   ]
  },
  {
   "cell_type": "code",
   "execution_count": 20,
   "metadata": {},
   "outputs": [
    {
     "name": "stdout",
     "output_type": "stream",
     "text": [
      "    Reaction  Days  Subject\n",
      "1     249.56     0      308\n",
      "2     258.70     1      308\n",
      "3     250.80     2      308\n",
      "4     321.44     3      308\n",
      "5     356.85     4      308\n",
      "6     414.69     5      308\n",
      "7     382.20     6      308\n",
      "8     290.15     7      308\n",
      "9     430.59     8      308\n",
      "10    466.35     9      308\n"
     ]
    }
   ],
   "source": [
    "sleepstudy['Reaction'] = sleepstudy['Reaction'].apply(lambda x:round(x,2))\n",
    "\n",
    "print(sleepstudy.head(10))"
   ]
  },
  {
   "cell_type": "code",
   "execution_count": null,
   "metadata": {},
   "outputs": [],
   "source": []
  },
  {
   "cell_type": "raw",
   "metadata": {},
   "source": [
    "Duplicated Rows\n",
    "Description\n",
    "The given Dataframe 'rating' has repeated rows. You need to remove the duplicated rows. "
   ]
  },
  {
   "cell_type": "code",
   "execution_count": 21,
   "metadata": {},
   "outputs": [],
   "source": [
    "import pandas as pd\n",
    "rating = pd.read_csv('https://query.data.world/s/EX0EpmqwfA2UYGz1Xtd_zi4R0dQpog')\n",
    "\n"
   ]
  },
  {
   "cell_type": "code",
   "execution_count": 27,
   "metadata": {},
   "outputs": [
    {
     "name": "stdout",
     "output_type": "stream",
     "text": [
      "(1254, 5)\n",
      "(1149, 5)\n"
     ]
    }
   ],
   "source": [
    "rating_update = rating.drop_duplicates()\n",
    "\n",
    "print(rating.shape)\n",
    "print(rating_update.shape)"
   ]
  },
  {
   "cell_type": "code",
   "execution_count": 25,
   "metadata": {},
   "outputs": [
    {
     "data": {
      "text/plain": [
       "(1149, 5)"
      ]
     },
     "execution_count": 25,
     "metadata": {},
     "output_type": "execute_result"
    }
   ],
   "source": [
    "a = rating.drop_duplicates()\n",
    "a.shape"
   ]
  },
  {
   "cell_type": "code",
   "execution_count": 26,
   "metadata": {},
   "outputs": [
    {
     "data": {
      "text/plain": [
       "(1254, 5)"
      ]
     },
     "execution_count": 26,
     "metadata": {},
     "output_type": "execute_result"
    }
   ],
   "source": [
    "rating.shape"
   ]
  },
  {
   "cell_type": "code",
   "execution_count": null,
   "metadata": {},
   "outputs": [],
   "source": []
  }
 ],
 "metadata": {
  "kernelspec": {
   "display_name": "Python 3",
   "language": "python",
   "name": "python3"
  },
  "language_info": {
   "codemirror_mode": {
    "name": "ipython",
    "version": 3
   },
   "file_extension": ".py",
   "mimetype": "text/x-python",
   "name": "python",
   "nbconvert_exporter": "python",
   "pygments_lexer": "ipython3",
   "version": "3.6.8"
  }
 },
 "nbformat": 4,
 "nbformat_minor": 2
}
