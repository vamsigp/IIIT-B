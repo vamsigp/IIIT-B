{
 "cells": [
  {
   "cell_type": "code",
   "execution_count": 2,
   "metadata": {},
   "outputs": [],
   "source": [
    "import numpy as np\n",
    "import matplotlib.pyplot as plt\n",
    "import pandas as pd"
   ]
  },
  {
   "cell_type": "code",
   "execution_count": null,
   "metadata": {},
   "outputs": [],
   "source": []
  },
  {
   "cell_type": "code",
   "execution_count": 31,
   "metadata": {},
   "outputs": [],
   "source": [
    "df = pd.read_csv('DL+cohort+34+(1).csv')"
   ]
  },
  {
   "cell_type": "code",
   "execution_count": 32,
   "metadata": {},
   "outputs": [
    {
     "data": {
      "text/plain": [
       "Index(['YearsOfExp', 'CompanyName', 'Title', 'Field of Study', 'Major',\n",
       "       'Gender', 'City', 'State'],\n",
       "      dtype='object')"
      ]
     },
     "execution_count": 32,
     "metadata": {},
     "output_type": "execute_result"
    }
   ],
   "source": [
    "df.columns"
   ]
  },
  {
   "cell_type": "code",
   "execution_count": 33,
   "metadata": {},
   "outputs": [
    {
     "data": {
      "text/html": [
       "<div>\n",
       "<style scoped>\n",
       "    .dataframe tbody tr th:only-of-type {\n",
       "        vertical-align: middle;\n",
       "    }\n",
       "\n",
       "    .dataframe tbody tr th {\n",
       "        vertical-align: top;\n",
       "    }\n",
       "\n",
       "    .dataframe thead th {\n",
       "        text-align: right;\n",
       "    }\n",
       "</style>\n",
       "<table border=\"1\" class=\"dataframe\">\n",
       "  <thead>\n",
       "    <tr style=\"text-align: right;\">\n",
       "      <th></th>\n",
       "      <th>YearsOfExp</th>\n",
       "      <th>CompanyName</th>\n",
       "      <th>Title</th>\n",
       "      <th>Field of Study</th>\n",
       "      <th>Major</th>\n",
       "      <th>Gender</th>\n",
       "      <th>City</th>\n",
       "      <th>State</th>\n",
       "    </tr>\n",
       "  </thead>\n",
       "  <tbody>\n",
       "    <tr>\n",
       "      <th>0</th>\n",
       "      <td>10+</td>\n",
       "      <td>NaN</td>\n",
       "      <td>NaN</td>\n",
       "      <td>BSc</td>\n",
       "      <td>NaN</td>\n",
       "      <td>NaN</td>\n",
       "      <td>Mumbai</td>\n",
       "      <td>Maharashtra</td>\n",
       "    </tr>\n",
       "    <tr>\n",
       "      <th>1</th>\n",
       "      <td>10+</td>\n",
       "      <td>NaN</td>\n",
       "      <td>NaN</td>\n",
       "      <td>B.E</td>\n",
       "      <td>B.E</td>\n",
       "      <td>Female</td>\n",
       "      <td>Bengaluru</td>\n",
       "      <td>Karnataka</td>\n",
       "    </tr>\n",
       "    <tr>\n",
       "      <th>2</th>\n",
       "      <td>1</td>\n",
       "      <td>NaN</td>\n",
       "      <td>Analyst</td>\n",
       "      <td>Electronics &amp; Communication Engineering</td>\n",
       "      <td>B.Tech</td>\n",
       "      <td>Male</td>\n",
       "      <td>Mumbai</td>\n",
       "      <td>MAHARASHTRA</td>\n",
       "    </tr>\n",
       "    <tr>\n",
       "      <th>3</th>\n",
       "      <td>2</td>\n",
       "      <td>NaN</td>\n",
       "      <td>NaN</td>\n",
       "      <td>B.Tech</td>\n",
       "      <td>B.Tech</td>\n",
       "      <td>Male</td>\n",
       "      <td>Hyderabad</td>\n",
       "      <td>Telangana</td>\n",
       "    </tr>\n",
       "    <tr>\n",
       "      <th>4</th>\n",
       "      <td>0</td>\n",
       "      <td>not provided</td>\n",
       "      <td>Project Lead</td>\n",
       "      <td>B.E</td>\n",
       "      <td>B.Tech</td>\n",
       "      <td>Male</td>\n",
       "      <td>Bengaluru</td>\n",
       "      <td>NaN</td>\n",
       "    </tr>\n",
       "  </tbody>\n",
       "</table>\n",
       "</div>"
      ],
      "text/plain": [
       "  YearsOfExp   CompanyName         Title  \\\n",
       "0        10+           NaN           NaN   \n",
       "1        10+           NaN           NaN   \n",
       "2          1           NaN       Analyst   \n",
       "3          2           NaN           NaN   \n",
       "4          0  not provided  Project Lead   \n",
       "\n",
       "                            Field of Study   Major  Gender       City  \\\n",
       "0                                      BSc     NaN     NaN     Mumbai   \n",
       "1                                      B.E     B.E  Female  Bengaluru   \n",
       "2  Electronics & Communication Engineering  B.Tech    Male     Mumbai   \n",
       "3                                   B.Tech  B.Tech    Male  Hyderabad   \n",
       "4                                      B.E  B.Tech    Male  Bengaluru   \n",
       "\n",
       "         State  \n",
       "0  Maharashtra  \n",
       "1    Karnataka  \n",
       "2  MAHARASHTRA  \n",
       "3    Telangana  \n",
       "4          NaN  "
      ]
     },
     "execution_count": 33,
     "metadata": {},
     "output_type": "execute_result"
    }
   ],
   "source": [
    "df.head(5)"
   ]
  },
  {
   "cell_type": "code",
   "execution_count": 34,
   "metadata": {},
   "outputs": [
    {
     "data": {
      "text/plain": [
       "(23, 8)"
      ]
     },
     "execution_count": 34,
     "metadata": {},
     "output_type": "execute_result"
    }
   ],
   "source": [
    "df.shape"
   ]
  },
  {
   "cell_type": "code",
   "execution_count": null,
   "metadata": {},
   "outputs": [],
   "source": []
  },
  {
   "cell_type": "code",
   "execution_count": 36,
   "metadata": {},
   "outputs": [],
   "source": [
    "def convertToInt(s):\n",
    "    if s=='10+':\n",
    "        return 10\n",
    "    else:\n",
    "        return s"
   ]
  },
  {
   "cell_type": "code",
   "execution_count": 37,
   "metadata": {},
   "outputs": [
    {
     "name": "stdout",
     "output_type": "stream",
     "text": [
      "4\n",
      "12\n",
      "10\n"
     ]
    }
   ],
   "source": [
    "print(convertToInt(4))\n",
    "print(convertToInt(12))\n",
    "print(convertToInt('10+'))"
   ]
  },
  {
   "cell_type": "code",
   "execution_count": 39,
   "metadata": {},
   "outputs": [],
   "source": [
    "df.YearsOfExp = df.YearsOfExp.apply(convertToInt)"
   ]
  },
  {
   "cell_type": "code",
   "execution_count": 41,
   "metadata": {},
   "outputs": [
    {
     "data": {
      "text/plain": [
       "0      10\n",
       "1      10\n",
       "2       1\n",
       "3       2\n",
       "4       0\n",
       "5      10\n",
       "6       2\n",
       "7      10\n",
       "8       8\n",
       "9     7.5\n",
       "10     10\n",
       "11    NaN\n",
       "12    NaN\n",
       "13      2\n",
       "14    7.5\n",
       "15    NaN\n",
       "16     12\n",
       "17     10\n",
       "18      2\n",
       "19     10\n",
       "20     10\n",
       "21    3.5\n",
       "22    3.5\n",
       "Name: YearsOfExp, dtype: object"
      ]
     },
     "execution_count": 41,
     "metadata": {},
     "output_type": "execute_result"
    }
   ],
   "source": [
    "df.YearsOfExp"
   ]
  },
  {
   "cell_type": "code",
   "execution_count": 45,
   "metadata": {},
   "outputs": [
    {
     "data": {
      "text/html": [
       "<div>\n",
       "<style scoped>\n",
       "    .dataframe tbody tr th:only-of-type {\n",
       "        vertical-align: middle;\n",
       "    }\n",
       "\n",
       "    .dataframe tbody tr th {\n",
       "        vertical-align: top;\n",
       "    }\n",
       "\n",
       "    .dataframe thead th {\n",
       "        text-align: right;\n",
       "    }\n",
       "</style>\n",
       "<table border=\"1\" class=\"dataframe\">\n",
       "  <thead>\n",
       "    <tr style=\"text-align: right;\">\n",
       "      <th></th>\n",
       "      <th>YearsOfExp</th>\n",
       "    </tr>\n",
       "  </thead>\n",
       "  <tbody>\n",
       "    <tr>\n",
       "      <th>count</th>\n",
       "      <td>20</td>\n",
       "    </tr>\n",
       "    <tr>\n",
       "      <th>unique</th>\n",
       "      <td>8</td>\n",
       "    </tr>\n",
       "    <tr>\n",
       "      <th>top</th>\n",
       "      <td>10</td>\n",
       "    </tr>\n",
       "    <tr>\n",
       "      <th>freq</th>\n",
       "      <td>8</td>\n",
       "    </tr>\n",
       "  </tbody>\n",
       "</table>\n",
       "</div>"
      ],
      "text/plain": [
       "        YearsOfExp\n",
       "count           20\n",
       "unique           8\n",
       "top             10\n",
       "freq             8"
      ]
     },
     "execution_count": 45,
     "metadata": {},
     "output_type": "execute_result"
    }
   ],
   "source": [
    "df[['YearsOfExp']].describe()"
   ]
  },
  {
   "cell_type": "code",
   "execution_count": 46,
   "metadata": {},
   "outputs": [
    {
     "data": {
      "text/plain": [
       "6.55"
      ]
     },
     "execution_count": 46,
     "metadata": {},
     "output_type": "execute_result"
    }
   ],
   "source": [
    "pd.to_numeric(df.YearsOfExp).mean(skipna=True)"
   ]
  },
  {
   "cell_type": "code",
   "execution_count": 51,
   "metadata": {},
   "outputs": [],
   "source": [
    "df[['YearsOfExp']] = df[['YearsOfExp']].fillna(0)"
   ]
  },
  {
   "cell_type": "code",
   "execution_count": 52,
   "metadata": {},
   "outputs": [
    {
     "data": {
      "text/plain": [
       "5.695652173913044"
      ]
     },
     "execution_count": 52,
     "metadata": {},
     "output_type": "execute_result"
    }
   ],
   "source": [
    "pd.to_numeric(df.YearsOfExp).mean(skipna=False)"
   ]
  },
  {
   "cell_type": "code",
   "execution_count": 54,
   "metadata": {},
   "outputs": [
    {
     "data": {
      "text/html": [
       "<div>\n",
       "<style scoped>\n",
       "    .dataframe tbody tr th:only-of-type {\n",
       "        vertical-align: middle;\n",
       "    }\n",
       "\n",
       "    .dataframe tbody tr th {\n",
       "        vertical-align: top;\n",
       "    }\n",
       "\n",
       "    .dataframe thead th {\n",
       "        text-align: right;\n",
       "    }\n",
       "</style>\n",
       "<table border=\"1\" class=\"dataframe\">\n",
       "  <thead>\n",
       "    <tr style=\"text-align: right;\">\n",
       "      <th></th>\n",
       "      <th>CompanyName</th>\n",
       "      <th>Title</th>\n",
       "      <th>Field of Study</th>\n",
       "      <th>Major</th>\n",
       "      <th>Gender</th>\n",
       "      <th>City</th>\n",
       "      <th>State</th>\n",
       "    </tr>\n",
       "    <tr>\n",
       "      <th>YearsOfExp</th>\n",
       "      <th></th>\n",
       "      <th></th>\n",
       "      <th></th>\n",
       "      <th></th>\n",
       "      <th></th>\n",
       "      <th></th>\n",
       "      <th></th>\n",
       "    </tr>\n",
       "  </thead>\n",
       "  <tbody>\n",
       "    <tr>\n",
       "      <th>0</th>\n",
       "      <td>2</td>\n",
       "      <td>0</td>\n",
       "      <td>3</td>\n",
       "      <td>0</td>\n",
       "      <td>0</td>\n",
       "      <td>3</td>\n",
       "      <td>1</td>\n",
       "    </tr>\n",
       "    <tr>\n",
       "      <th>10</th>\n",
       "      <td>1</td>\n",
       "      <td>1</td>\n",
       "      <td>8</td>\n",
       "      <td>2</td>\n",
       "      <td>2</td>\n",
       "      <td>7</td>\n",
       "      <td>4</td>\n",
       "    </tr>\n",
       "    <tr>\n",
       "      <th>0</th>\n",
       "      <td>1</td>\n",
       "      <td>1</td>\n",
       "      <td>1</td>\n",
       "      <td>1</td>\n",
       "      <td>1</td>\n",
       "      <td>1</td>\n",
       "      <td>0</td>\n",
       "    </tr>\n",
       "    <tr>\n",
       "      <th>1</th>\n",
       "      <td>0</td>\n",
       "      <td>1</td>\n",
       "      <td>1</td>\n",
       "      <td>1</td>\n",
       "      <td>1</td>\n",
       "      <td>1</td>\n",
       "      <td>1</td>\n",
       "    </tr>\n",
       "    <tr>\n",
       "      <th>12</th>\n",
       "      <td>1</td>\n",
       "      <td>0</td>\n",
       "      <td>1</td>\n",
       "      <td>0</td>\n",
       "      <td>0</td>\n",
       "      <td>1</td>\n",
       "      <td>0</td>\n",
       "    </tr>\n",
       "    <tr>\n",
       "      <th>2</th>\n",
       "      <td>1</td>\n",
       "      <td>1</td>\n",
       "      <td>3</td>\n",
       "      <td>3</td>\n",
       "      <td>2</td>\n",
       "      <td>3</td>\n",
       "      <td>2</td>\n",
       "    </tr>\n",
       "    <tr>\n",
       "      <th>3.5</th>\n",
       "      <td>0</td>\n",
       "      <td>0</td>\n",
       "      <td>2</td>\n",
       "      <td>0</td>\n",
       "      <td>0</td>\n",
       "      <td>2</td>\n",
       "      <td>1</td>\n",
       "    </tr>\n",
       "    <tr>\n",
       "      <th>7.5</th>\n",
       "      <td>0</td>\n",
       "      <td>0</td>\n",
       "      <td>2</td>\n",
       "      <td>0</td>\n",
       "      <td>0</td>\n",
       "      <td>2</td>\n",
       "      <td>2</td>\n",
       "    </tr>\n",
       "    <tr>\n",
       "      <th>8</th>\n",
       "      <td>1</td>\n",
       "      <td>1</td>\n",
       "      <td>1</td>\n",
       "      <td>1</td>\n",
       "      <td>1</td>\n",
       "      <td>1</td>\n",
       "      <td>1</td>\n",
       "    </tr>\n",
       "  </tbody>\n",
       "</table>\n",
       "</div>"
      ],
      "text/plain": [
       "            CompanyName  Title  Field of Study  Major  Gender  City  State\n",
       "YearsOfExp                                                                \n",
       "0                     2      0               3      0       0     3      1\n",
       "10                    1      1               8      2       2     7      4\n",
       "0                     1      1               1      1       1     1      0\n",
       "1                     0      1               1      1       1     1      1\n",
       "12                    1      0               1      0       0     1      0\n",
       "2                     1      1               3      3       2     3      2\n",
       "3.5                   0      0               2      0       0     2      1\n",
       "7.5                   0      0               2      0       0     2      2\n",
       "8                     1      1               1      1       1     1      1"
      ]
     },
     "execution_count": 54,
     "metadata": {},
     "output_type": "execute_result"
    }
   ],
   "source": [
    "df.groupby(by='YearsOfExp').count()"
   ]
  },
  {
   "cell_type": "code",
   "execution_count": 62,
   "metadata": {},
   "outputs": [],
   "source": [
    "df['YearsOfExp'] = pd.to_numeric(df['YearsOfExp'])"
   ]
  },
  {
   "cell_type": "code",
   "execution_count": 63,
   "metadata": {},
   "outputs": [
    {
     "name": "stdout",
     "output_type": "stream",
     "text": [
      "<class 'pandas.core.frame.DataFrame'>\n",
      "RangeIndex: 23 entries, 0 to 22\n",
      "Data columns (total 8 columns):\n",
      "YearsOfExp        23 non-null float64\n",
      "CompanyName       7 non-null object\n",
      "Title             5 non-null object\n",
      "Field of Study    22 non-null object\n",
      "Major             8 non-null object\n",
      "Gender            7 non-null object\n",
      "City              21 non-null object\n",
      "State             12 non-null object\n",
      "dtypes: float64(1), object(7)\n",
      "memory usage: 1.5+ KB\n"
     ]
    }
   ],
   "source": [
    "df.info()"
   ]
  },
  {
   "cell_type": "code",
   "execution_count": 64,
   "metadata": {},
   "outputs": [],
   "source": [
    "df['YearsOfExp'] = df['YearsOfExp'].apply(lambda x:10 if x>=10 else x)"
   ]
  },
  {
   "cell_type": "code",
   "execution_count": 65,
   "metadata": {},
   "outputs": [
    {
     "data": {
      "text/html": [
       "<div>\n",
       "<style scoped>\n",
       "    .dataframe tbody tr th:only-of-type {\n",
       "        vertical-align: middle;\n",
       "    }\n",
       "\n",
       "    .dataframe tbody tr th {\n",
       "        vertical-align: top;\n",
       "    }\n",
       "\n",
       "    .dataframe thead th {\n",
       "        text-align: right;\n",
       "    }\n",
       "</style>\n",
       "<table border=\"1\" class=\"dataframe\">\n",
       "  <thead>\n",
       "    <tr style=\"text-align: right;\">\n",
       "      <th></th>\n",
       "      <th>YearsOfExp</th>\n",
       "      <th>CompanyName</th>\n",
       "      <th>Title</th>\n",
       "      <th>Field of Study</th>\n",
       "      <th>Major</th>\n",
       "      <th>Gender</th>\n",
       "      <th>City</th>\n",
       "      <th>State</th>\n",
       "    </tr>\n",
       "  </thead>\n",
       "  <tbody>\n",
       "    <tr>\n",
       "      <th>0</th>\n",
       "      <td>10.0</td>\n",
       "      <td>NaN</td>\n",
       "      <td>NaN</td>\n",
       "      <td>BSc</td>\n",
       "      <td>NaN</td>\n",
       "      <td>NaN</td>\n",
       "      <td>Mumbai</td>\n",
       "      <td>Maharashtra</td>\n",
       "    </tr>\n",
       "    <tr>\n",
       "      <th>1</th>\n",
       "      <td>10.0</td>\n",
       "      <td>NaN</td>\n",
       "      <td>NaN</td>\n",
       "      <td>B.E</td>\n",
       "      <td>B.E</td>\n",
       "      <td>Female</td>\n",
       "      <td>Bengaluru</td>\n",
       "      <td>Karnataka</td>\n",
       "    </tr>\n",
       "    <tr>\n",
       "      <th>2</th>\n",
       "      <td>1.0</td>\n",
       "      <td>NaN</td>\n",
       "      <td>Analyst</td>\n",
       "      <td>Electronics &amp; Communication Engineering</td>\n",
       "      <td>B.Tech</td>\n",
       "      <td>Male</td>\n",
       "      <td>Mumbai</td>\n",
       "      <td>MAHARASHTRA</td>\n",
       "    </tr>\n",
       "    <tr>\n",
       "      <th>3</th>\n",
       "      <td>2.0</td>\n",
       "      <td>NaN</td>\n",
       "      <td>NaN</td>\n",
       "      <td>B.Tech</td>\n",
       "      <td>B.Tech</td>\n",
       "      <td>Male</td>\n",
       "      <td>Hyderabad</td>\n",
       "      <td>Telangana</td>\n",
       "    </tr>\n",
       "    <tr>\n",
       "      <th>4</th>\n",
       "      <td>0.0</td>\n",
       "      <td>not provided</td>\n",
       "      <td>Project Lead</td>\n",
       "      <td>B.E</td>\n",
       "      <td>B.Tech</td>\n",
       "      <td>Male</td>\n",
       "      <td>Bengaluru</td>\n",
       "      <td>NaN</td>\n",
       "    </tr>\n",
       "    <tr>\n",
       "      <th>5</th>\n",
       "      <td>10.0</td>\n",
       "      <td>NaN</td>\n",
       "      <td>NaN</td>\n",
       "      <td>MSc</td>\n",
       "      <td>NaN</td>\n",
       "      <td>NaN</td>\n",
       "      <td>Hyderabad</td>\n",
       "      <td>Maharashtra</td>\n",
       "    </tr>\n",
       "    <tr>\n",
       "      <th>6</th>\n",
       "      <td>2.0</td>\n",
       "      <td>NaN</td>\n",
       "      <td>Market Research Analyst</td>\n",
       "      <td>NaN</td>\n",
       "      <td>B.Pharm</td>\n",
       "      <td>Male</td>\n",
       "      <td>NaN</td>\n",
       "      <td>IN</td>\n",
       "    </tr>\n",
       "    <tr>\n",
       "      <th>7</th>\n",
       "      <td>10.0</td>\n",
       "      <td>NaN</td>\n",
       "      <td>NaN</td>\n",
       "      <td>B.E</td>\n",
       "      <td>NaN</td>\n",
       "      <td>NaN</td>\n",
       "      <td>Bengaluru</td>\n",
       "      <td>Karnataka</td>\n",
       "    </tr>\n",
       "    <tr>\n",
       "      <th>8</th>\n",
       "      <td>8.0</td>\n",
       "      <td>Saurer Textile Solutions</td>\n",
       "      <td>Asst. Manager - Project Planning (Textile Indu...</td>\n",
       "      <td>Textile</td>\n",
       "      <td>B.E</td>\n",
       "      <td>Male</td>\n",
       "      <td>Vadodara</td>\n",
       "      <td>Gujarat</td>\n",
       "    </tr>\n",
       "    <tr>\n",
       "      <th>9</th>\n",
       "      <td>7.5</td>\n",
       "      <td>NaN</td>\n",
       "      <td>NaN</td>\n",
       "      <td>MCA</td>\n",
       "      <td>NaN</td>\n",
       "      <td>NaN</td>\n",
       "      <td>SIngapore</td>\n",
       "      <td>Central Singapore Community Development Council</td>\n",
       "    </tr>\n",
       "    <tr>\n",
       "      <th>10</th>\n",
       "      <td>10.0</td>\n",
       "      <td>NaN</td>\n",
       "      <td>NaN</td>\n",
       "      <td>Post Graduate Computer Science</td>\n",
       "      <td>NaN</td>\n",
       "      <td>NaN</td>\n",
       "      <td>Bangalore</td>\n",
       "      <td>NaN</td>\n",
       "    </tr>\n",
       "    <tr>\n",
       "      <th>11</th>\n",
       "      <td>0.0</td>\n",
       "      <td>Accenture</td>\n",
       "      <td>NaN</td>\n",
       "      <td>Electronics and telecommunications, BE</td>\n",
       "      <td>NaN</td>\n",
       "      <td>NaN</td>\n",
       "      <td>Bengaluru</td>\n",
       "      <td>NaN</td>\n",
       "    </tr>\n",
       "    <tr>\n",
       "      <th>12</th>\n",
       "      <td>0.0</td>\n",
       "      <td>NaN</td>\n",
       "      <td>NaN</td>\n",
       "      <td>Electronics</td>\n",
       "      <td>NaN</td>\n",
       "      <td>NaN</td>\n",
       "      <td>Bengaluru</td>\n",
       "      <td>Karnataka</td>\n",
       "    </tr>\n",
       "    <tr>\n",
       "      <th>13</th>\n",
       "      <td>2.0</td>\n",
       "      <td>Smider Electronics</td>\n",
       "      <td>NaN</td>\n",
       "      <td>BE</td>\n",
       "      <td>BE</td>\n",
       "      <td>NaN</td>\n",
       "      <td>Rudrapur</td>\n",
       "      <td>NaN</td>\n",
       "    </tr>\n",
       "    <tr>\n",
       "      <th>14</th>\n",
       "      <td>7.5</td>\n",
       "      <td>NaN</td>\n",
       "      <td>NaN</td>\n",
       "      <td>B.E</td>\n",
       "      <td>NaN</td>\n",
       "      <td>NaN</td>\n",
       "      <td>Bengaluru</td>\n",
       "      <td>Karnataka</td>\n",
       "    </tr>\n",
       "    <tr>\n",
       "      <th>15</th>\n",
       "      <td>0.0</td>\n",
       "      <td>IPSoft Global Services</td>\n",
       "      <td>NaN</td>\n",
       "      <td>Electrical &amp; Electronics Engg</td>\n",
       "      <td>NaN</td>\n",
       "      <td>NaN</td>\n",
       "      <td>Bengaluru</td>\n",
       "      <td>NaN</td>\n",
       "    </tr>\n",
       "    <tr>\n",
       "      <th>16</th>\n",
       "      <td>10.0</td>\n",
       "      <td>BT</td>\n",
       "      <td>NaN</td>\n",
       "      <td>CS</td>\n",
       "      <td>NaN</td>\n",
       "      <td>NaN</td>\n",
       "      <td>Bengaluru</td>\n",
       "      <td>NaN</td>\n",
       "    </tr>\n",
       "    <tr>\n",
       "      <th>17</th>\n",
       "      <td>10.0</td>\n",
       "      <td>Reliance Jio</td>\n",
       "      <td>Project Manager</td>\n",
       "      <td>Electrical Engineering</td>\n",
       "      <td>B.Tech</td>\n",
       "      <td>Male</td>\n",
       "      <td>Pune</td>\n",
       "      <td>NaN</td>\n",
       "    </tr>\n",
       "    <tr>\n",
       "      <th>18</th>\n",
       "      <td>2.0</td>\n",
       "      <td>NaN</td>\n",
       "      <td>NaN</td>\n",
       "      <td>B.Tech</td>\n",
       "      <td>NaN</td>\n",
       "      <td>NaN</td>\n",
       "      <td>Mumbai</td>\n",
       "      <td>NaN</td>\n",
       "    </tr>\n",
       "    <tr>\n",
       "      <th>19</th>\n",
       "      <td>10.0</td>\n",
       "      <td>NaN</td>\n",
       "      <td>NaN</td>\n",
       "      <td>B.E</td>\n",
       "      <td>NaN</td>\n",
       "      <td>NaN</td>\n",
       "      <td>NaN</td>\n",
       "      <td>NaN</td>\n",
       "    </tr>\n",
       "    <tr>\n",
       "      <th>20</th>\n",
       "      <td>10.0</td>\n",
       "      <td>NaN</td>\n",
       "      <td>NaN</td>\n",
       "      <td>B.E</td>\n",
       "      <td>NaN</td>\n",
       "      <td>NaN</td>\n",
       "      <td>Bengaluru</td>\n",
       "      <td>NaN</td>\n",
       "    </tr>\n",
       "    <tr>\n",
       "      <th>21</th>\n",
       "      <td>3.5</td>\n",
       "      <td>NaN</td>\n",
       "      <td>NaN</td>\n",
       "      <td>B.Tech</td>\n",
       "      <td>NaN</td>\n",
       "      <td>NaN</td>\n",
       "      <td>Hyderabad</td>\n",
       "      <td>Telangana</td>\n",
       "    </tr>\n",
       "    <tr>\n",
       "      <th>22</th>\n",
       "      <td>3.5</td>\n",
       "      <td>NaN</td>\n",
       "      <td>NaN</td>\n",
       "      <td>B.Tech</td>\n",
       "      <td>NaN</td>\n",
       "      <td>NaN</td>\n",
       "      <td>Bengaluru</td>\n",
       "      <td>NaN</td>\n",
       "    </tr>\n",
       "  </tbody>\n",
       "</table>\n",
       "</div>"
      ],
      "text/plain": [
       "    YearsOfExp               CompanyName  \\\n",
       "0         10.0                       NaN   \n",
       "1         10.0                       NaN   \n",
       "2          1.0                       NaN   \n",
       "3          2.0                       NaN   \n",
       "4          0.0              not provided   \n",
       "5         10.0                       NaN   \n",
       "6          2.0                       NaN   \n",
       "7         10.0                       NaN   \n",
       "8          8.0  Saurer Textile Solutions   \n",
       "9          7.5                       NaN   \n",
       "10        10.0                       NaN   \n",
       "11         0.0                 Accenture   \n",
       "12         0.0                       NaN   \n",
       "13         2.0        Smider Electronics   \n",
       "14         7.5                       NaN   \n",
       "15         0.0    IPSoft Global Services   \n",
       "16        10.0                        BT   \n",
       "17        10.0              Reliance Jio   \n",
       "18         2.0                       NaN   \n",
       "19        10.0                       NaN   \n",
       "20        10.0                       NaN   \n",
       "21         3.5                       NaN   \n",
       "22         3.5                       NaN   \n",
       "\n",
       "                                                Title  \\\n",
       "0                                                 NaN   \n",
       "1                                                 NaN   \n",
       "2                                             Analyst   \n",
       "3                                                 NaN   \n",
       "4                                        Project Lead   \n",
       "5                                                 NaN   \n",
       "6                             Market Research Analyst   \n",
       "7                                                 NaN   \n",
       "8   Asst. Manager - Project Planning (Textile Indu...   \n",
       "9                                                 NaN   \n",
       "10                                                NaN   \n",
       "11                                                NaN   \n",
       "12                                                NaN   \n",
       "13                                                NaN   \n",
       "14                                                NaN   \n",
       "15                                                NaN   \n",
       "16                                                NaN   \n",
       "17                                    Project Manager   \n",
       "18                                                NaN   \n",
       "19                                                NaN   \n",
       "20                                                NaN   \n",
       "21                                                NaN   \n",
       "22                                                NaN   \n",
       "\n",
       "                             Field of Study    Major  Gender       City  \\\n",
       "0                                       BSc      NaN     NaN     Mumbai   \n",
       "1                                       B.E      B.E  Female  Bengaluru   \n",
       "2   Electronics & Communication Engineering   B.Tech    Male     Mumbai   \n",
       "3                                    B.Tech   B.Tech    Male  Hyderabad   \n",
       "4                                       B.E   B.Tech    Male  Bengaluru   \n",
       "5                                       MSc      NaN     NaN  Hyderabad   \n",
       "6                                       NaN  B.Pharm    Male        NaN   \n",
       "7                                       B.E      NaN     NaN  Bengaluru   \n",
       "8                                   Textile      B.E    Male   Vadodara   \n",
       "9                                       MCA      NaN     NaN  SIngapore   \n",
       "10           Post Graduate Computer Science      NaN     NaN  Bangalore   \n",
       "11   Electronics and telecommunications, BE      NaN     NaN  Bengaluru   \n",
       "12                              Electronics      NaN     NaN  Bengaluru   \n",
       "13                                       BE       BE     NaN   Rudrapur   \n",
       "14                                      B.E      NaN     NaN  Bengaluru   \n",
       "15            Electrical & Electronics Engg      NaN     NaN  Bengaluru   \n",
       "16                                       CS      NaN     NaN  Bengaluru   \n",
       "17                   Electrical Engineering   B.Tech    Male       Pune   \n",
       "18                                   B.Tech      NaN     NaN     Mumbai   \n",
       "19                                      B.E      NaN     NaN        NaN   \n",
       "20                                      B.E      NaN     NaN  Bengaluru   \n",
       "21                                   B.Tech      NaN     NaN  Hyderabad   \n",
       "22                                   B.Tech      NaN     NaN  Bengaluru   \n",
       "\n",
       "                                              State  \n",
       "0                                       Maharashtra  \n",
       "1                                         Karnataka  \n",
       "2                                       MAHARASHTRA  \n",
       "3                                         Telangana  \n",
       "4                                               NaN  \n",
       "5                                       Maharashtra  \n",
       "6                                                IN  \n",
       "7                                         Karnataka  \n",
       "8                                           Gujarat  \n",
       "9   Central Singapore Community Development Council  \n",
       "10                                              NaN  \n",
       "11                                              NaN  \n",
       "12                                        Karnataka  \n",
       "13                                              NaN  \n",
       "14                                        Karnataka  \n",
       "15                                              NaN  \n",
       "16                                              NaN  \n",
       "17                                              NaN  \n",
       "18                                              NaN  \n",
       "19                                              NaN  \n",
       "20                                              NaN  \n",
       "21                                        Telangana  \n",
       "22                                              NaN  "
      ]
     },
     "execution_count": 65,
     "metadata": {},
     "output_type": "execute_result"
    }
   ],
   "source": [
    "df"
   ]
  },
  {
   "cell_type": "code",
   "execution_count": 67,
   "metadata": {},
   "outputs": [
    {
     "data": {
      "text/plain": [
       "count    23.000000\n",
       "mean      5.608696\n",
       "std       4.234481\n",
       "min       0.000000\n",
       "25%       2.000000\n",
       "50%       7.500000\n",
       "75%      10.000000\n",
       "max      10.000000\n",
       "Name: YearsOfExp, dtype: float64"
      ]
     },
     "execution_count": 67,
     "metadata": {},
     "output_type": "execute_result"
    }
   ],
   "source": [
    "df['YearsOfExp'].describe()"
   ]
  },
  {
   "cell_type": "code",
   "execution_count": 69,
   "metadata": {},
   "outputs": [
    {
     "data": {
      "text/html": [
       "<div>\n",
       "<style scoped>\n",
       "    .dataframe tbody tr th:only-of-type {\n",
       "        vertical-align: middle;\n",
       "    }\n",
       "\n",
       "    .dataframe tbody tr th {\n",
       "        vertical-align: top;\n",
       "    }\n",
       "\n",
       "    .dataframe thead th {\n",
       "        text-align: right;\n",
       "    }\n",
       "</style>\n",
       "<table border=\"1\" class=\"dataframe\">\n",
       "  <thead>\n",
       "    <tr style=\"text-align: right;\">\n",
       "      <th></th>\n",
       "      <th>CompanyName</th>\n",
       "      <th>Title</th>\n",
       "      <th>Field of Study</th>\n",
       "      <th>Major</th>\n",
       "      <th>Gender</th>\n",
       "      <th>City</th>\n",
       "      <th>State</th>\n",
       "    </tr>\n",
       "    <tr>\n",
       "      <th>YearsOfExp</th>\n",
       "      <th></th>\n",
       "      <th></th>\n",
       "      <th></th>\n",
       "      <th></th>\n",
       "      <th></th>\n",
       "      <th></th>\n",
       "      <th></th>\n",
       "    </tr>\n",
       "  </thead>\n",
       "  <tbody>\n",
       "    <tr>\n",
       "      <th>0.0</th>\n",
       "      <td>3</td>\n",
       "      <td>1</td>\n",
       "      <td>4</td>\n",
       "      <td>1</td>\n",
       "      <td>1</td>\n",
       "      <td>4</td>\n",
       "      <td>1</td>\n",
       "    </tr>\n",
       "    <tr>\n",
       "      <th>1.0</th>\n",
       "      <td>0</td>\n",
       "      <td>1</td>\n",
       "      <td>1</td>\n",
       "      <td>1</td>\n",
       "      <td>1</td>\n",
       "      <td>1</td>\n",
       "      <td>1</td>\n",
       "    </tr>\n",
       "    <tr>\n",
       "      <th>2.0</th>\n",
       "      <td>1</td>\n",
       "      <td>1</td>\n",
       "      <td>3</td>\n",
       "      <td>3</td>\n",
       "      <td>2</td>\n",
       "      <td>3</td>\n",
       "      <td>2</td>\n",
       "    </tr>\n",
       "    <tr>\n",
       "      <th>3.5</th>\n",
       "      <td>0</td>\n",
       "      <td>0</td>\n",
       "      <td>2</td>\n",
       "      <td>0</td>\n",
       "      <td>0</td>\n",
       "      <td>2</td>\n",
       "      <td>1</td>\n",
       "    </tr>\n",
       "    <tr>\n",
       "      <th>7.5</th>\n",
       "      <td>0</td>\n",
       "      <td>0</td>\n",
       "      <td>2</td>\n",
       "      <td>0</td>\n",
       "      <td>0</td>\n",
       "      <td>2</td>\n",
       "      <td>2</td>\n",
       "    </tr>\n",
       "    <tr>\n",
       "      <th>8.0</th>\n",
       "      <td>1</td>\n",
       "      <td>1</td>\n",
       "      <td>1</td>\n",
       "      <td>1</td>\n",
       "      <td>1</td>\n",
       "      <td>1</td>\n",
       "      <td>1</td>\n",
       "    </tr>\n",
       "    <tr>\n",
       "      <th>10.0</th>\n",
       "      <td>2</td>\n",
       "      <td>1</td>\n",
       "      <td>9</td>\n",
       "      <td>2</td>\n",
       "      <td>2</td>\n",
       "      <td>8</td>\n",
       "      <td>4</td>\n",
       "    </tr>\n",
       "  </tbody>\n",
       "</table>\n",
       "</div>"
      ],
      "text/plain": [
       "            CompanyName  Title  Field of Study  Major  Gender  City  State\n",
       "YearsOfExp                                                                \n",
       "0.0                   3      1               4      1       1     4      1\n",
       "1.0                   0      1               1      1       1     1      1\n",
       "2.0                   1      1               3      3       2     3      2\n",
       "3.5                   0      0               2      0       0     2      1\n",
       "7.5                   0      0               2      0       0     2      2\n",
       "8.0                   1      1               1      1       1     1      1\n",
       "10.0                  2      1               9      2       2     8      4"
      ]
     },
     "execution_count": 69,
     "metadata": {},
     "output_type": "execute_result"
    }
   ],
   "source": [
    "df.groupby(by='YearsOfExp')."
   ]
  },
  {
   "cell_type": "code",
   "execution_count": 70,
   "metadata": {},
   "outputs": [
    {
     "data": {
      "text/plain": [
       "129.0"
      ]
     },
     "execution_count": 70,
     "metadata": {},
     "output_type": "execute_result"
    }
   ],
   "source": [
    "df.YearsOfExp.sum()"
   ]
  },
  {
   "cell_type": "code",
   "execution_count": 73,
   "metadata": {},
   "outputs": [],
   "source": [
    "a = pd.value_counts(df.YearsOfExp)"
   ]
  },
  {
   "cell_type": "code",
   "execution_count": 74,
   "metadata": {},
   "outputs": [
    {
     "name": "stdout",
     "output_type": "stream",
     "text": [
      "10.0    9\n",
      "0.0     4\n",
      "2.0     4\n",
      "3.5     2\n",
      "7.5     2\n",
      "8.0     1\n",
      "1.0     1\n",
      "Name: YearsOfExp, dtype: int64 <class 'pandas.core.series.Series'>\n"
     ]
    }
   ],
   "source": [
    "print(a, type(a))"
   ]
  },
  {
   "cell_type": "code",
   "execution_count": 75,
   "metadata": {},
   "outputs": [
    {
     "data": {
      "text/plain": [
       "count    7.000000\n",
       "mean     3.285714\n",
       "std      2.811541\n",
       "min      1.000000\n",
       "25%      1.500000\n",
       "50%      2.000000\n",
       "75%      4.000000\n",
       "max      9.000000\n",
       "Name: YearsOfExp, dtype: float64"
      ]
     },
     "execution_count": 75,
     "metadata": {},
     "output_type": "execute_result"
    }
   ],
   "source": [
    "a.describe()"
   ]
  },
  {
   "cell_type": "code",
   "execution_count": 76,
   "metadata": {},
   "outputs": [
    {
     "data": {
      "text/plain": [
       "23"
      ]
     },
     "execution_count": 76,
     "metadata": {},
     "output_type": "execute_result"
    }
   ],
   "source": [
    "a.sum()"
   ]
  },
  {
   "cell_type": "code",
   "execution_count": 77,
   "metadata": {},
   "outputs": [
    {
     "data": {
      "text/plain": [
       "0.391304347826087"
      ]
     },
     "execution_count": 77,
     "metadata": {},
     "output_type": "execute_result"
    }
   ],
   "source": [
    "9/23"
   ]
  },
  {
   "cell_type": "code",
   "execution_count": 78,
   "metadata": {},
   "outputs": [
    {
     "data": {
      "text/plain": [
       "0.47368421052631576"
      ]
     },
     "execution_count": 78,
     "metadata": {},
     "output_type": "execute_result"
    }
   ],
   "source": [
    "9/19"
   ]
  },
  {
   "cell_type": "code",
   "execution_count": 88,
   "metadata": {},
   "outputs": [
    {
     "data": {
      "text/html": [
       "<div>\n",
       "<style scoped>\n",
       "    .dataframe tbody tr th:only-of-type {\n",
       "        vertical-align: middle;\n",
       "    }\n",
       "\n",
       "    .dataframe tbody tr th {\n",
       "        vertical-align: top;\n",
       "    }\n",
       "\n",
       "    .dataframe thead th {\n",
       "        text-align: right;\n",
       "    }\n",
       "</style>\n",
       "<table border=\"1\" class=\"dataframe\">\n",
       "  <thead>\n",
       "    <tr style=\"text-align: right;\">\n",
       "      <th>YearsOfExp</th>\n",
       "      <th>0.0</th>\n",
       "      <th>1.0</th>\n",
       "      <th>3.5</th>\n",
       "      <th>7.5</th>\n",
       "      <th>8.0</th>\n",
       "      <th>10.0</th>\n",
       "    </tr>\n",
       "  </thead>\n",
       "  <tbody>\n",
       "    <tr>\n",
       "      <th>City</th>\n",
       "      <td>BengaluruBengaluruBengaluruBengaluru</td>\n",
       "      <td>Mumbai</td>\n",
       "      <td>HyderabadBengaluru</td>\n",
       "      <td>SIngaporeBengaluru</td>\n",
       "      <td>Vadodara</td>\n",
       "      <td>NaN</td>\n",
       "    </tr>\n",
       "    <tr>\n",
       "      <th>CompanyName</th>\n",
       "      <td>NaN</td>\n",
       "      <td>0</td>\n",
       "      <td>0</td>\n",
       "      <td>0</td>\n",
       "      <td>Saurer Textile Solutions</td>\n",
       "      <td>NaN</td>\n",
       "    </tr>\n",
       "    <tr>\n",
       "      <th>Field of Study</th>\n",
       "      <td>B.EElectronics and telecommunications, BEElect...</td>\n",
       "      <td>Electronics &amp; Communication Engineering</td>\n",
       "      <td>B.TechB.Tech</td>\n",
       "      <td>MCAB.E</td>\n",
       "      <td>Textile</td>\n",
       "      <td>BScB.EMScB.EPost Graduate Computer ScienceCSEl...</td>\n",
       "    </tr>\n",
       "    <tr>\n",
       "      <th>Gender</th>\n",
       "      <td>NaN</td>\n",
       "      <td>Male</td>\n",
       "      <td>0</td>\n",
       "      <td>0</td>\n",
       "      <td>Male</td>\n",
       "      <td>NaN</td>\n",
       "    </tr>\n",
       "    <tr>\n",
       "      <th>Major</th>\n",
       "      <td>NaN</td>\n",
       "      <td>B.Tech</td>\n",
       "      <td>0</td>\n",
       "      <td>0</td>\n",
       "      <td>B.E</td>\n",
       "      <td>NaN</td>\n",
       "    </tr>\n",
       "    <tr>\n",
       "      <th>State</th>\n",
       "      <td>NaN</td>\n",
       "      <td>MAHARASHTRA</td>\n",
       "      <td>NaN</td>\n",
       "      <td>Central Singapore Community Development Counci...</td>\n",
       "      <td>Gujarat</td>\n",
       "      <td>NaN</td>\n",
       "    </tr>\n",
       "    <tr>\n",
       "      <th>Title</th>\n",
       "      <td>NaN</td>\n",
       "      <td>Analyst</td>\n",
       "      <td>0</td>\n",
       "      <td>0</td>\n",
       "      <td>Asst. Manager - Project Planning (Textile Indu...</td>\n",
       "      <td>NaN</td>\n",
       "    </tr>\n",
       "  </tbody>\n",
       "</table>\n",
       "</div>"
      ],
      "text/plain": [
       "YearsOfExp                                                   0.0   \\\n",
       "City                         BengaluruBengaluruBengaluruBengaluru   \n",
       "CompanyName                                                   NaN   \n",
       "Field of Study  B.EElectronics and telecommunications, BEElect...   \n",
       "Gender                                                        NaN   \n",
       "Major                                                         NaN   \n",
       "State                                                         NaN   \n",
       "Title                                                         NaN   \n",
       "\n",
       "YearsOfExp                                         1.0                 3.5   \\\n",
       "City                                             Mumbai  HyderabadBengaluru   \n",
       "CompanyName                                           0                   0   \n",
       "Field of Study  Electronics & Communication Engineering        B.TechB.Tech   \n",
       "Gender                                             Male                   0   \n",
       "Major                                            B.Tech                   0   \n",
       "State                                       MAHARASHTRA                 NaN   \n",
       "Title                                           Analyst                   0   \n",
       "\n",
       "YearsOfExp                                                   7.5   \\\n",
       "City                                           SIngaporeBengaluru   \n",
       "CompanyName                                                     0   \n",
       "Field of Study                                             MCAB.E   \n",
       "Gender                                                          0   \n",
       "Major                                                           0   \n",
       "State           Central Singapore Community Development Counci...   \n",
       "Title                                                           0   \n",
       "\n",
       "YearsOfExp                                                   8.0   \\\n",
       "City                                                     Vadodara   \n",
       "CompanyName                              Saurer Textile Solutions   \n",
       "Field of Study                                            Textile   \n",
       "Gender                                                       Male   \n",
       "Major                                                         B.E   \n",
       "State                                                     Gujarat   \n",
       "Title           Asst. Manager - Project Planning (Textile Indu...   \n",
       "\n",
       "YearsOfExp                                                   10.0  \n",
       "City                                                          NaN  \n",
       "CompanyName                                                   NaN  \n",
       "Field of Study  BScB.EMScB.EPost Graduate Computer ScienceCSEl...  \n",
       "Gender                                                        NaN  \n",
       "Major                                                         NaN  \n",
       "State                                                         NaN  \n",
       "Title                                                         NaN  "
      ]
     },
     "execution_count": 88,
     "metadata": {},
     "output_type": "execute_result"
    }
   ],
   "source": [
    "df.pivot_table( values=df, columns=['YearsOfExp'], aggfunc=sum)"
   ]
  },
  {
   "cell_type": "code",
   "execution_count": 89,
   "metadata": {},
   "outputs": [
    {
     "data": {
      "text/plain": [
       "Index(['YearsOfExp', 'CompanyName', 'Title', 'Field of Study', 'Major',\n",
       "       'Gender', 'City', 'State'],\n",
       "      dtype='object')"
      ]
     },
     "execution_count": 89,
     "metadata": {},
     "output_type": "execute_result"
    }
   ],
   "source": [
    "df.columns"
   ]
  },
  {
   "cell_type": "code",
   "execution_count": 90,
   "metadata": {},
   "outputs": [
    {
     "data": {
      "text/html": [
       "<div>\n",
       "<style scoped>\n",
       "    .dataframe tbody tr th:only-of-type {\n",
       "        vertical-align: middle;\n",
       "    }\n",
       "\n",
       "    .dataframe tbody tr th {\n",
       "        vertical-align: top;\n",
       "    }\n",
       "\n",
       "    .dataframe thead th {\n",
       "        text-align: right;\n",
       "    }\n",
       "</style>\n",
       "<table border=\"1\" class=\"dataframe\">\n",
       "  <thead>\n",
       "    <tr style=\"text-align: right;\">\n",
       "      <th></th>\n",
       "      <th>YearsOfExp</th>\n",
       "      <th>CompanyName</th>\n",
       "      <th>Title</th>\n",
       "      <th>Field of Study</th>\n",
       "      <th>Major</th>\n",
       "      <th>City</th>\n",
       "      <th>State</th>\n",
       "    </tr>\n",
       "    <tr>\n",
       "      <th>Gender</th>\n",
       "      <th></th>\n",
       "      <th></th>\n",
       "      <th></th>\n",
       "      <th></th>\n",
       "      <th></th>\n",
       "      <th></th>\n",
       "      <th></th>\n",
       "    </tr>\n",
       "  </thead>\n",
       "  <tbody>\n",
       "    <tr>\n",
       "      <th>Female</th>\n",
       "      <td>1</td>\n",
       "      <td>0</td>\n",
       "      <td>0</td>\n",
       "      <td>1</td>\n",
       "      <td>1</td>\n",
       "      <td>1</td>\n",
       "      <td>1</td>\n",
       "    </tr>\n",
       "    <tr>\n",
       "      <th>Male</th>\n",
       "      <td>6</td>\n",
       "      <td>3</td>\n",
       "      <td>5</td>\n",
       "      <td>5</td>\n",
       "      <td>6</td>\n",
       "      <td>5</td>\n",
       "      <td>4</td>\n",
       "    </tr>\n",
       "  </tbody>\n",
       "</table>\n",
       "</div>"
      ],
      "text/plain": [
       "        YearsOfExp  CompanyName  Title  Field of Study  Major  City  State\n",
       "Gender                                                                    \n",
       "Female           1            0      0               1      1     1      1\n",
       "Male             6            3      5               5      6     5      4"
      ]
     },
     "execution_count": 90,
     "metadata": {},
     "output_type": "execute_result"
    }
   ],
   "source": [
    "df.groupby('Gender').count()"
   ]
  },
  {
   "cell_type": "code",
   "execution_count": 92,
   "metadata": {},
   "outputs": [
    {
     "data": {
      "text/html": [
       "<div>\n",
       "<style scoped>\n",
       "    .dataframe tbody tr th:only-of-type {\n",
       "        vertical-align: middle;\n",
       "    }\n",
       "\n",
       "    .dataframe tbody tr th {\n",
       "        vertical-align: top;\n",
       "    }\n",
       "\n",
       "    .dataframe thead th {\n",
       "        text-align: right;\n",
       "    }\n",
       "</style>\n",
       "<table border=\"1\" class=\"dataframe\">\n",
       "  <thead>\n",
       "    <tr style=\"text-align: right;\">\n",
       "      <th></th>\n",
       "      <th>YearsOfExp</th>\n",
       "    </tr>\n",
       "    <tr>\n",
       "      <th>Gender</th>\n",
       "      <th></th>\n",
       "    </tr>\n",
       "  </thead>\n",
       "  <tbody>\n",
       "    <tr>\n",
       "      <th>Female</th>\n",
       "      <td>10.000000</td>\n",
       "    </tr>\n",
       "    <tr>\n",
       "      <th>Male</th>\n",
       "      <td>3.833333</td>\n",
       "    </tr>\n",
       "  </tbody>\n",
       "</table>\n",
       "</div>"
      ],
      "text/plain": [
       "        YearsOfExp\n",
       "Gender            \n",
       "Female   10.000000\n",
       "Male      3.833333"
      ]
     },
     "execution_count": 92,
     "metadata": {},
     "output_type": "execute_result"
    }
   ],
   "source": [
    "df.pivot_table(values=df, index=['Gender'], aggfunc='mean')"
   ]
  },
  {
   "cell_type": "code",
   "execution_count": 97,
   "metadata": {},
   "outputs": [
    {
     "data": {
      "text/plain": [
       "Male      0.857143\n",
       "Female    0.142857\n",
       "Name: Gender, dtype: float64"
      ]
     },
     "execution_count": 97,
     "metadata": {},
     "output_type": "execute_result"
    }
   ],
   "source": [
    "df.Gender.value_counts(normalize=True)"
   ]
  },
  {
   "cell_type": "code",
   "execution_count": 98,
   "metadata": {},
   "outputs": [
    {
     "data": {
      "text/plain": [
       "10.0    0.391304\n",
       "0.0     0.173913\n",
       "2.0     0.173913\n",
       "3.5     0.086957\n",
       "7.5     0.086957\n",
       "8.0     0.043478\n",
       "1.0     0.043478\n",
       "Name: YearsOfExp, dtype: float64"
      ]
     },
     "execution_count": 98,
     "metadata": {},
     "output_type": "execute_result"
    }
   ],
   "source": [
    "df.YearsOfExp.value_counts(normalize=True)"
   ]
  },
  {
   "cell_type": "code",
   "execution_count": 100,
   "metadata": {},
   "outputs": [
    {
     "data": {
      "text/plain": [
       "<bound method IndexOpsMixin.value_counts of 0        Mumbai\n",
       "1     Bengaluru\n",
       "2        Mumbai\n",
       "3     Hyderabad\n",
       "4     Bengaluru\n",
       "5     Hyderabad\n",
       "6           NaN\n",
       "7     Bengaluru\n",
       "8      Vadodara\n",
       "9     SIngapore\n",
       "10    Bangalore\n",
       "11    Bengaluru\n",
       "12    Bengaluru\n",
       "13     Rudrapur\n",
       "14    Bengaluru\n",
       "15    Bengaluru\n",
       "16    Bengaluru\n",
       "17         Pune\n",
       "18       Mumbai\n",
       "19          NaN\n",
       "20    Bengaluru\n",
       "21    Hyderabad\n",
       "22    Bengaluru\n",
       "Name: City, dtype: object>"
      ]
     },
     "execution_count": 100,
     "metadata": {},
     "output_type": "execute_result"
    }
   ],
   "source": [
    "df.City.value_counts"
   ]
  },
  {
   "cell_type": "code",
   "execution_count": null,
   "metadata": {},
   "outputs": [],
   "source": []
  }
 ],
 "metadata": {
  "kernelspec": {
   "display_name": "Python 3",
   "language": "python",
   "name": "python3"
  },
  "language_info": {
   "codemirror_mode": {
    "name": "ipython",
    "version": 3
   },
   "file_extension": ".py",
   "mimetype": "text/x-python",
   "name": "python",
   "nbconvert_exporter": "python",
   "pygments_lexer": "ipython3",
   "version": "3.6.4"
  }
 },
 "nbformat": 4,
 "nbformat_minor": 2
}
