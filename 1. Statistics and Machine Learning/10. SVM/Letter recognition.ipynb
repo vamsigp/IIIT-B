{
 "cells": [
  {
   "cell_type": "code",
   "execution_count": 1,
   "metadata": {},
   "outputs": [],
   "source": [
    "import pandas as pd\n",
    "import numpy as np\n",
    "\n",
    "import matplotlib.pyplot as plt\n",
    "%matplotlib inline\n",
    "\n",
    "import seaborn as sns"
   ]
  },
  {
   "cell_type": "code",
   "execution_count": 2,
   "metadata": {},
   "outputs": [],
   "source": [
    "import warnings\n",
    "warnings.filterwarnings('ignore')"
   ]
  },
  {
   "cell_type": "code",
   "execution_count": 3,
   "metadata": {},
   "outputs": [],
   "source": [
    "df_letter = pd.read_csv('./Letter Recognition/letter-recognition.csv')"
   ]
  },
  {
   "cell_type": "code",
   "execution_count": 4,
   "metadata": {},
   "outputs": [
    {
     "data": {
      "text/plain": [
       "(20000, 17)"
      ]
     },
     "execution_count": 4,
     "metadata": {},
     "output_type": "execute_result"
    }
   ],
   "source": [
    "df_letter.shape"
   ]
  },
  {
   "cell_type": "code",
   "execution_count": 5,
   "metadata": {},
   "outputs": [
    {
     "name": "stdout",
     "output_type": "stream",
     "text": [
      "<class 'pandas.core.frame.DataFrame'>\n",
      "RangeIndex: 20000 entries, 0 to 19999\n",
      "Data columns (total 17 columns):\n",
      "letter    20000 non-null object\n",
      "xbox      20000 non-null int64\n",
      "ybox      20000 non-null int64\n",
      "width     20000 non-null int64\n",
      "height    20000 non-null int64\n",
      "onpix     20000 non-null int64\n",
      "xbar      20000 non-null int64\n",
      "ybar      20000 non-null int64\n",
      "x2bar     20000 non-null int64\n",
      "y2bar     20000 non-null int64\n",
      "xybar     20000 non-null int64\n",
      "x2ybar    20000 non-null int64\n",
      "xy2bar    20000 non-null int64\n",
      "xedge     20000 non-null int64\n",
      "xedgey    20000 non-null int64\n",
      "yedge     20000 non-null int64\n",
      "yedgex    20000 non-null int64\n",
      "dtypes: int64(16), object(1)\n",
      "memory usage: 2.6+ MB\n"
     ]
    }
   ],
   "source": [
    "df_letter.info()"
   ]
  },
  {
   "cell_type": "code",
   "execution_count": 6,
   "metadata": {},
   "outputs": [
    {
     "name": "stdout",
     "output_type": "stream",
     "text": [
      "['A', 'B', 'C', 'D', 'E', 'F', 'G', 'H', 'I', 'J', 'K', 'L', 'M', 'N', 'O', 'P', 'Q', 'R', 'S', 'T', 'U', 'V', 'W', 'X', 'Y', 'Z']\n"
     ]
    }
   ],
   "source": [
    "print(sorted(df_letter.letter.unique()))"
   ]
  },
  {
   "cell_type": "code",
   "execution_count": 7,
   "metadata": {},
   "outputs": [
    {
     "data": {
      "text/plain": [
       "U    813\n",
       "D    805\n",
       "P    803\n",
       "T    796\n",
       "M    792\n",
       "A    789\n",
       "X    787\n",
       "Y    786\n",
       "Q    783\n",
       "N    783\n",
       "F    775\n",
       "G    773\n",
       "E    768\n",
       "B    766\n",
       "V    764\n",
       "L    761\n",
       "R    758\n",
       "I    755\n",
       "O    753\n",
       "W    752\n",
       "S    748\n",
       "J    747\n",
       "K    739\n",
       "C    736\n",
       "Z    734\n",
       "H    734\n",
       "Name: letter, dtype: int64"
      ]
     },
     "execution_count": 7,
     "metadata": {},
     "output_type": "execute_result"
    }
   ],
   "source": [
    "df_letter.letter.value_counts()"
   ]
  },
  {
   "cell_type": "code",
   "execution_count": 8,
   "metadata": {},
   "outputs": [
    {
     "data": {
      "text/html": [
       "<div>\n",
       "<style scoped>\n",
       "    .dataframe tbody tr th:only-of-type {\n",
       "        vertical-align: middle;\n",
       "    }\n",
       "\n",
       "    .dataframe tbody tr th {\n",
       "        vertical-align: top;\n",
       "    }\n",
       "\n",
       "    .dataframe thead th {\n",
       "        text-align: right;\n",
       "    }\n",
       "</style>\n",
       "<table border=\"1\" class=\"dataframe\">\n",
       "  <thead>\n",
       "    <tr style=\"text-align: right;\">\n",
       "      <th></th>\n",
       "      <th>letter</th>\n",
       "      <th>xbox</th>\n",
       "      <th>ybox</th>\n",
       "      <th>width</th>\n",
       "      <th>height</th>\n",
       "      <th>onpix</th>\n",
       "      <th>xbar</th>\n",
       "      <th>ybar</th>\n",
       "      <th>x2bar</th>\n",
       "      <th>y2bar</th>\n",
       "      <th>xybar</th>\n",
       "      <th>x2ybar</th>\n",
       "      <th>xy2bar</th>\n",
       "      <th>xedge</th>\n",
       "      <th>xedgey</th>\n",
       "      <th>yedge</th>\n",
       "      <th>yedgex</th>\n",
       "    </tr>\n",
       "  </thead>\n",
       "  <tbody>\n",
       "    <tr>\n",
       "      <th>0</th>\n",
       "      <td>T</td>\n",
       "      <td>2</td>\n",
       "      <td>8</td>\n",
       "      <td>3</td>\n",
       "      <td>5</td>\n",
       "      <td>1</td>\n",
       "      <td>8</td>\n",
       "      <td>13</td>\n",
       "      <td>0</td>\n",
       "      <td>6</td>\n",
       "      <td>6</td>\n",
       "      <td>10</td>\n",
       "      <td>8</td>\n",
       "      <td>0</td>\n",
       "      <td>8</td>\n",
       "      <td>0</td>\n",
       "      <td>8</td>\n",
       "    </tr>\n",
       "    <tr>\n",
       "      <th>1</th>\n",
       "      <td>I</td>\n",
       "      <td>5</td>\n",
       "      <td>12</td>\n",
       "      <td>3</td>\n",
       "      <td>7</td>\n",
       "      <td>2</td>\n",
       "      <td>10</td>\n",
       "      <td>5</td>\n",
       "      <td>5</td>\n",
       "      <td>4</td>\n",
       "      <td>13</td>\n",
       "      <td>3</td>\n",
       "      <td>9</td>\n",
       "      <td>2</td>\n",
       "      <td>8</td>\n",
       "      <td>4</td>\n",
       "      <td>10</td>\n",
       "    </tr>\n",
       "    <tr>\n",
       "      <th>2</th>\n",
       "      <td>D</td>\n",
       "      <td>4</td>\n",
       "      <td>11</td>\n",
       "      <td>6</td>\n",
       "      <td>8</td>\n",
       "      <td>6</td>\n",
       "      <td>10</td>\n",
       "      <td>6</td>\n",
       "      <td>2</td>\n",
       "      <td>6</td>\n",
       "      <td>10</td>\n",
       "      <td>3</td>\n",
       "      <td>7</td>\n",
       "      <td>3</td>\n",
       "      <td>7</td>\n",
       "      <td>3</td>\n",
       "      <td>9</td>\n",
       "    </tr>\n",
       "    <tr>\n",
       "      <th>3</th>\n",
       "      <td>N</td>\n",
       "      <td>7</td>\n",
       "      <td>11</td>\n",
       "      <td>6</td>\n",
       "      <td>6</td>\n",
       "      <td>3</td>\n",
       "      <td>5</td>\n",
       "      <td>9</td>\n",
       "      <td>4</td>\n",
       "      <td>6</td>\n",
       "      <td>4</td>\n",
       "      <td>4</td>\n",
       "      <td>10</td>\n",
       "      <td>6</td>\n",
       "      <td>10</td>\n",
       "      <td>2</td>\n",
       "      <td>8</td>\n",
       "    </tr>\n",
       "    <tr>\n",
       "      <th>4</th>\n",
       "      <td>G</td>\n",
       "      <td>2</td>\n",
       "      <td>1</td>\n",
       "      <td>3</td>\n",
       "      <td>1</td>\n",
       "      <td>1</td>\n",
       "      <td>8</td>\n",
       "      <td>6</td>\n",
       "      <td>6</td>\n",
       "      <td>6</td>\n",
       "      <td>6</td>\n",
       "      <td>5</td>\n",
       "      <td>9</td>\n",
       "      <td>1</td>\n",
       "      <td>7</td>\n",
       "      <td>5</td>\n",
       "      <td>10</td>\n",
       "    </tr>\n",
       "  </tbody>\n",
       "</table>\n",
       "</div>"
      ],
      "text/plain": [
       "  letter  xbox   ybox   width   height  onpix   xbar   ybar   x2bar  y2bar   \\\n",
       "0      T      2      8       3       5       1      8     13      0       6   \n",
       "1      I      5     12       3       7       2     10      5      5       4   \n",
       "2      D      4     11       6       8       6     10      6      2       6   \n",
       "3      N      7     11       6       6       3      5      9      4       6   \n",
       "4      G      2      1       3       1       1      8      6      6       6   \n",
       "\n",
       "   xybar   x2ybar  xy2bar  xedge   xedgey  yedge   yedgex  \n",
       "0       6      10       8       0       8       0       8  \n",
       "1      13       3       9       2       8       4      10  \n",
       "2      10       3       7       3       7       3       9  \n",
       "3       4       4      10       6      10       2       8  \n",
       "4       6       5       9       1       7       5      10  "
      ]
     },
     "execution_count": 8,
     "metadata": {},
     "output_type": "execute_result"
    }
   ],
   "source": [
    "df_letter.head()"
   ]
  },
  {
   "cell_type": "code",
   "execution_count": 9,
   "metadata": {},
   "outputs": [
    {
     "data": {
      "text/plain": [
       "Index(['letter', 'xbox ', 'ybox ', 'width ', 'height', 'onpix ', 'xbar ',\n",
       "       'ybar ', 'x2bar', 'y2bar ', 'xybar ', 'x2ybar', 'xy2bar', 'xedge ',\n",
       "       'xedgey', 'yedge ', 'yedgex'],\n",
       "      dtype='object')"
      ]
     },
     "execution_count": 9,
     "metadata": {},
     "output_type": "execute_result"
    }
   ],
   "source": [
    "df_letter.columns"
   ]
  },
  {
   "cell_type": "code",
   "execution_count": 10,
   "metadata": {},
   "outputs": [],
   "source": [
    "df_letter.columns = df_letter.columns.str.strip()"
   ]
  },
  {
   "cell_type": "code",
   "execution_count": null,
   "metadata": {},
   "outputs": [],
   "source": []
  },
  {
   "cell_type": "code",
   "execution_count": 11,
   "metadata": {},
   "outputs": [
    {
     "data": {
      "text/plain": [
       "<matplotlib.axes._subplots.AxesSubplot at 0x23d2fdaf7f0>"
      ]
     },
     "execution_count": 11,
     "metadata": {},
     "output_type": "execute_result"
    },
    {
     "data": {
      "image/png": "[encoded data removed]",
      "text/plain": [
       "<Figure size 1152x576 with 1 Axes>"
      ]
     },
     "metadata": {},
     "output_type": "display_data"
    }
   ],
   "source": [
    "plt.figure(figsize=(16, 8))\n",
    "sns.barplot(x=df_letter.letter, y=df_letter.xbox, \n",
    "            data=df_letter)"
   ]
  },
  {
   "cell_type": "code",
   "execution_count": 12,
   "metadata": {},
   "outputs": [],
   "source": [
    "letter_mean = df_letter.groupby('letter').mean()"
   ]
  },
  {
   "cell_type": "code",
   "execution_count": 13,
   "metadata": {},
   "outputs": [
    {
     "data": {
      "text/plain": [
       "<matplotlib.axes._subplots.AxesSubplot at 0x23d30670e80>"
      ]
     },
     "execution_count": 13,
     "metadata": {},
     "output_type": "execute_result"
    },
    {
     "data": {
      "image/png": "[encoded data removed]",
      "text/plain": [
       "<Figure size 1080x720 with 2 Axes>"
      ]
     },
     "metadata": {},
     "output_type": "display_data"
    }
   ],
   "source": [
    "plt.figure(figsize=(15,10))\n",
    "sns.heatmap(letter_mean)"
   ]
  },
  {
   "cell_type": "markdown",
   "metadata": {},
   "source": [
    "### Data Preparation"
   ]
  },
  {
   "cell_type": "code",
   "execution_count": 14,
   "metadata": {},
   "outputs": [
    {
     "data": {
      "text/plain": [
       "xbox      4.02\n",
       "ybox      7.04\n",
       "width     5.12\n",
       "height    5.37\n",
       "onpix     3.51\n",
       "xbar      6.90\n",
       "ybar      7.50\n",
       "x2bar     4.63\n",
       "y2bar     5.18\n",
       "xybar     8.28\n",
       "x2ybar    6.45\n",
       "xy2bar    7.93\n",
       "xedge     3.05\n",
       "xedgey    8.34\n",
       "yedge     3.69\n",
       "yedgex    7.80\n",
       "dtype: float64"
      ]
     },
     "execution_count": 14,
     "metadata": {},
     "output_type": "execute_result"
    }
   ],
   "source": [
    "# average feature values\n",
    "round(df_letter.drop('letter', axis=1).mean(), 2)"
   ]
  },
  {
   "cell_type": "markdown",
   "metadata": {},
   "source": [
    "mean values are varying across the columns values, better to scale them"
   ]
  },
  {
   "cell_type": "code",
   "execution_count": 15,
   "metadata": {},
   "outputs": [],
   "source": [
    "from sklearn.preprocessing import scale"
   ]
  },
  {
   "cell_type": "code",
   "execution_count": 16,
   "metadata": {},
   "outputs": [],
   "source": [
    "X = df_letter.drop(labels=['letter'], axis=1)"
   ]
  },
  {
   "cell_type": "code",
   "execution_count": 17,
   "metadata": {},
   "outputs": [],
   "source": [
    "y = df_letter['letter']"
   ]
  },
  {
   "cell_type": "code",
   "execution_count": 18,
   "metadata": {},
   "outputs": [],
   "source": [
    "X = scale(X)"
   ]
  },
  {
   "cell_type": "code",
   "execution_count": 19,
   "metadata": {},
   "outputs": [],
   "source": [
    "from sklearn.model_selection import train_test_split"
   ]
  },
  {
   "cell_type": "code",
   "execution_count": 20,
   "metadata": {},
   "outputs": [],
   "source": [
    "X_train, X_test, y_train, y_test = train_test_split(X, y, test_size=0.3, random_state=101)"
   ]
  },
  {
   "cell_type": "code",
   "execution_count": 21,
   "metadata": {},
   "outputs": [],
   "source": [
    "from sklearn.svm import SVC"
   ]
  },
  {
   "cell_type": "code",
   "execution_count": 22,
   "metadata": {},
   "outputs": [],
   "source": [
    "model_linear = SVC(kernel='linear')\n",
    "model_linear.fit(X_train, y_train)\n",
    "\n",
    "y_pred = model_linear.predict(X_test)"
   ]
  },
  {
   "cell_type": "code",
   "execution_count": null,
   "metadata": {},
   "outputs": [],
   "source": []
  },
  {
   "cell_type": "code",
   "execution_count": 23,
   "metadata": {},
   "outputs": [],
   "source": [
    "from sklearn.metrics import confusion_matrix, accuracy_score"
   ]
  },
  {
   "cell_type": "code",
   "execution_count": 24,
   "metadata": {},
   "outputs": [
    {
     "name": "stdout",
     "output_type": "stream",
     "text": [
      "0.8523333333333334\n"
     ]
    },
    {
     "data": {
      "text/plain": [
       "array([[198,   0,   0,   0,   0,   0,   1,   1,   0,   1,   1,   1,   0,\n",
       "          0,   0,   0,   0,   1,   0,   1,   1,   0,   0,   0,   3,   0],\n",
       "       [  0, 188,   0,   3,   0,   1,   3,   3,   1,   0,   1,   0,   0,\n",
       "          2,   0,   1,   1,   9,   3,   0,   0,   1,   0,   1,   0,   0],\n",
       "       [  1,   0, 200,   0,   7,   0,  12,   1,   0,   0,   5,   0,   0,\n",
       "          0,   3,   0,   0,   0,   0,   0,   1,   0,   0,   0,   0,   0],\n",
       "       [  1,  15,   0, 210,   0,   1,   2,   2,   1,   0,   1,   0,   1,\n",
       "          5,   3,   0,   0,   5,   0,   1,   0,   0,   0,   0,   0,   0],\n",
       "       [  0,   1,   3,   0, 204,   2,   6,   1,   0,   0,   1,   5,   0,\n",
       "          0,   0,   0,   2,   2,   1,   2,   0,   0,   0,   1,   0,   3],\n",
       "       [  0,   0,   0,   1,   1, 201,   1,   2,   1,   1,   0,   0,   0,\n",
       "          2,   0,   2,   0,   0,   3,   7,   1,   0,   1,   0,   1,   0],\n",
       "       [  0,   1,   9,   4,   2,   2, 167,   1,   0,   1,   4,   3,   1,\n",
       "          0,   1,   0,   9,   1,   8,   0,   0,   2,   3,   0,   0,   0],\n",
       "       [  0,   7,   3,  11,   0,   4,   3, 141,   0,   2,   4,   1,   2,\n",
       "          0,  12,   0,   4,  12,   0,   0,   4,   2,   0,   4,   1,   0],\n",
       "       [  0,   0,   2,   3,   0,   6,   0,   0, 184,   9,   0,   0,   0,\n",
       "          0,   1,   0,   0,   0,   3,   0,   0,   0,   0,   4,   0,   3],\n",
       "       [  2,   0,   0,   3,   0,   2,   0,   2,  10, 187,   0,   0,   0,\n",
       "          1,   2,   0,   0,   1,   5,   0,   1,   0,   0,   0,   0,   4],\n",
       "       [  0,   1,   5,   2,   0,   0,   1,   3,   0,   0, 198,   2,   2,\n",
       "          0,   0,   0,   0,  19,   0,   0,   0,   0,   0,  12,   0,   0],\n",
       "       [  2,   1,   3,   2,   5,   0,   8,   1,   0,   0,   1, 206,   0,\n",
       "          0,   0,   0,   5,   0,   2,   1,   0,   0,   0,   0,   0,   0],\n",
       "       [  0,   3,   0,   0,   0,   0,   0,   3,   0,   0,   0,   0, 222,\n",
       "          1,   0,   0,   0,   2,   0,   0,   0,   0,   3,   0,   0,   0],\n",
       "       [  1,   0,   0,   4,   0,   0,   0,   6,   0,   0,   0,   0,   1,\n",
       "        235,   1,   1,   0,   0,   0,   0,   0,   1,   1,   0,   0,   0],\n",
       "       [  3,   0,   4,   7,   0,   0,   0,  21,   0,   0,   0,   0,   2,\n",
       "          0, 163,   3,   2,   3,   0,   0,   3,   0,  10,   0,   0,   0],\n",
       "       [  0,   2,   0,   2,   0,  16,   5,   1,   0,   1,   3,   0,   0,\n",
       "          0,   1, 225,   0,   0,   0,   0,   0,   1,   0,   0,   8,   0],\n",
       "       [  3,   1,   0,   0,   4,   0,   9,   0,   0,   2,   0,   1,   0,\n",
       "          0,   6,   0, 198,   0,   8,   0,   0,   0,   1,   0,   0,   2],\n",
       "       [ 11,  11,   0,   2,   0,   1,   6,   3,   0,   0,  10,   0,   0,\n",
       "          3,   4,   0,   2, 188,   0,   1,   0,   0,   0,   1,   0,   0],\n",
       "       [  1,  13,   0,   0,   9,   5,   8,   0,   7,   1,   0,   2,   0,\n",
       "          0,   0,   1,   6,   1, 155,   6,   0,   0,   0,   3,   0,  10],\n",
       "       [  0,   0,   0,   1,   1,   4,   2,   4,   1,   0,   0,   0,   0,\n",
       "          0,   0,   0,   0,   1,   3, 214,   0,   0,   0,   1,   1,   6],\n",
       "       [  2,   0,   1,   2,   0,   0,   0,   2,   0,   0,   0,   0,   1,\n",
       "          1,   3,   0,   0,   0,   0,   0, 211,   0,   1,   0,   0,   0],\n",
       "       [  2,   2,   0,   0,   0,   0,   1,   3,   0,   0,   0,   0,   0,\n",
       "          1,   0,   1,   0,   3,   0,   0,   0, 190,   6,   0,   2,   0],\n",
       "       [  0,   0,   0,   0,   0,   0,   1,   0,   0,   0,   0,   0,   6,\n",
       "          1,   2,   0,   0,   0,   0,   0,   0,   0, 212,   0,   0,   0],\n",
       "       [  0,   2,   0,   4,   5,   0,   1,   0,   2,   3,   3,   3,   0,\n",
       "          0,   1,   0,   0,   1,   2,   2,   1,   0,   0, 212,   1,   1],\n",
       "       [  2,   0,   0,   0,   0,   2,   0,   1,   0,   0,   0,   0,   1,\n",
       "          0,   0,   0,   3,   0,   0,   4,   1,  10,   0,   2, 211,   0],\n",
       "       [  1,   0,   0,   0,   3,   0,   0,   0,   0,   6,   0,   0,   0,\n",
       "          0,   0,   0,   5,   0,  18,   1,   0,   0,   0,   1,   0, 194]],\n",
       "      dtype=int64)"
      ]
     },
     "execution_count": 24,
     "metadata": {},
     "output_type": "execute_result"
    }
   ],
   "source": [
    "print(accuracy_score(y_test, y_pred))\n",
    "confusion_matrix(y_test, y_pred)"
   ]
  },
  {
   "cell_type": "code",
   "execution_count": null,
   "metadata": {},
   "outputs": [],
   "source": []
  },
  {
   "cell_type": "markdown",
   "metadata": {},
   "source": [
    "### Non-Linear models"
   ]
  },
  {
   "cell_type": "code",
   "execution_count": 25,
   "metadata": {},
   "outputs": [],
   "source": [
    "rbf_model = SVC(kernel='rbf')\n",
    "\n",
    "rbf_model.fit(X_train, y_train)\n",
    "\n",
    "y_pred = rbf_model.predict(X_test)"
   ]
  },
  {
   "cell_type": "code",
   "execution_count": 26,
   "metadata": {},
   "outputs": [
    {
     "name": "stdout",
     "output_type": "stream",
     "text": [
      "0.9383333333333334\n"
     ]
    },
    {
     "data": {
      "text/plain": [
       "array([[205,   0,   0,   1,   0,   0,   0,   0,   0,   1,   0,   0,   0,\n",
       "          0,   0,   0,   0,   0,   0,   0,   0,   0,   0,   0,   2,   0],\n",
       "       [  0, 205,   0,   3,   1,   0,   1,   0,   0,   0,   0,   0,   0,\n",
       "          0,   0,   0,   0,   6,   1,   0,   0,   0,   0,   1,   0,   0],\n",
       "       [  0,   0, 213,   0,   5,   0,   7,   1,   0,   0,   0,   0,   0,\n",
       "          0,   4,   0,   0,   0,   0,   0,   0,   0,   0,   0,   0,   0],\n",
       "       [  0,   4,   0, 234,   0,   0,   1,   3,   0,   0,   0,   0,   0,\n",
       "          3,   1,   0,   0,   2,   0,   0,   0,   0,   0,   0,   0,   0],\n",
       "       [  0,   0,   0,   0, 221,   1,   9,   0,   0,   0,   0,   0,   0,\n",
       "          0,   0,   0,   0,   1,   0,   0,   0,   0,   0,   0,   0,   2],\n",
       "       [  0,   0,   0,   1,   0, 215,   1,   1,   1,   0,   0,   0,   0,\n",
       "          1,   0,   1,   0,   0,   1,   3,   0,   0,   0,   0,   0,   0],\n",
       "       [  0,   0,   3,   4,   1,   1, 202,   0,   0,   0,   0,   1,   1,\n",
       "          0,   2,   0,   0,   1,   0,   0,   0,   1,   2,   0,   0,   0],\n",
       "       [  0,   7,   0,   5,   0,   0,   4, 177,   0,   0,   2,   0,   1,\n",
       "          0,   3,   0,   4,  13,   0,   0,   1,   0,   0,   0,   0,   0],\n",
       "       [  0,   0,   1,   1,   0,   3,   0,   0, 194,  11,   0,   0,   0,\n",
       "          0,   0,   1,   0,   0,   2,   0,   0,   0,   0,   2,   0,   0],\n",
       "       [  1,   0,   0,   1,   0,   0,   0,   0,   6, 206,   0,   0,   0,\n",
       "          1,   2,   0,   0,   0,   2,   0,   0,   0,   0,   1,   0,   0],\n",
       "       [  0,   4,   0,   2,   0,   0,   0,   4,   0,   0, 217,   0,   1,\n",
       "          0,   0,   0,   0,  14,   0,   0,   0,   0,   0,   3,   0,   0],\n",
       "       [  0,   0,   1,   0,   2,   0,   6,   0,   0,   0,   1, 222,   0,\n",
       "          0,   0,   0,   0,   3,   0,   0,   0,   0,   0,   2,   0,   0],\n",
       "       [  0,   5,   0,   0,   0,   0,   0,   2,   0,   0,   0,   0, 225,\n",
       "          0,   0,   0,   0,   0,   0,   0,   0,   0,   2,   0,   0,   0],\n",
       "       [  0,   2,   0,   1,   0,   0,   0,   2,   0,   0,   0,   0,   1,\n",
       "        239,   3,   0,   0,   2,   0,   0,   0,   0,   0,   0,   1,   0],\n",
       "       [  0,   0,   0,   1,   0,   0,   0,   0,   0,   0,   0,   0,   0,\n",
       "          0, 209,   0,   1,   1,   0,   0,   1,   0,   8,   0,   0,   0],\n",
       "       [  0,   2,   0,   3,   3,  11,   1,   1,   0,   0,   0,   0,   0,\n",
       "          0,   1, 237,   1,   0,   0,   0,   0,   0,   0,   0,   5,   0],\n",
       "       [  0,   0,   0,   0,   2,   0,   2,   0,   0,   0,   0,   0,   0,\n",
       "          0,   6,   0, 222,   0,   1,   0,   0,   0,   2,   0,   0,   0],\n",
       "       [  0,  10,   0,   2,   0,   0,   0,   0,   0,   0,   1,   0,   0,\n",
       "          4,   0,   0,   2, 224,   0,   0,   0,   0,   0,   0,   0,   0],\n",
       "       [  0,   3,   0,   0,   2,   3,   0,   0,   0,   0,   0,   0,   0,\n",
       "          0,   0,   0,   0,   0, 220,   0,   0,   0,   0,   0,   0,   0],\n",
       "       [  0,   0,   0,   1,   0,   2,   0,   2,   0,   0,   0,   0,   0,\n",
       "          0,   0,   1,   0,   1,   0, 228,   0,   0,   0,   3,   1,   0],\n",
       "       [  0,   0,   0,   0,   0,   0,   0,   0,   0,   0,   0,   0,   0,\n",
       "          1,   1,   0,   0,   0,   0,   0, 222,   0,   0,   0,   0,   0],\n",
       "       [  0,   7,   0,   0,   0,   0,   0,   1,   0,   0,   0,   0,   1,\n",
       "          4,   0,   1,   0,   0,   0,   0,   0, 193,   1,   0,   3,   0],\n",
       "       [  0,   1,   0,   0,   0,   0,   1,   1,   0,   0,   0,   0,   0,\n",
       "          1,   0,   0,   0,   0,   0,   0,   1,   0, 217,   0,   0,   0],\n",
       "       [  0,   2,   0,   3,   2,   0,   0,   0,   1,   0,   2,   0,   0,\n",
       "          0,   0,   0,   0,   1,   0,   0,   0,   0,   0, 233,   0,   0],\n",
       "       [  2,   0,   0,   0,   0,   0,   0,   0,   0,   0,   0,   0,   1,\n",
       "          0,   0,   0,   1,   0,   0,   1,   2,   2,   0,   0, 228,   0],\n",
       "       [  0,   0,   0,   0,   2,   0,   0,   0,   0,   0,   0,   0,   0,\n",
       "          0,   0,   0,   4,   0,   1,   0,   0,   0,   0,   0,   0, 222]],\n",
       "      dtype=int64)"
      ]
     },
     "execution_count": 26,
     "metadata": {},
     "output_type": "execute_result"
    }
   ],
   "source": [
    "print(accuracy_score(y_test, y_pred))\n",
    "confusion_matrix(y_test, y_pred)"
   ]
  },
  {
   "cell_type": "markdown",
   "metadata": {},
   "source": [
    "### Hyper parameter tuning, by means of grid search"
   ]
  },
  {
   "cell_type": "code",
   "execution_count": 27,
   "metadata": {},
   "outputs": [],
   "source": [
    "from sklearn.model_selection import GridSearchCV, KFold, cross_val_score"
   ]
  },
  {
   "cell_type": "code",
   "execution_count": 28,
   "metadata": {},
   "outputs": [],
   "source": [
    "folds = KFold(n_splits=5, shuffle=True, random_state=101)\n",
    "\n",
    "hyper_params = [\n",
    "    {\n",
    "        'C':[1,10,100,1000],\n",
    "        'gamma':[1e-1,1e-2,1e-3,1e-4]\n",
    "    }\n",
    "]"
   ]
  },
  {
   "cell_type": "code",
   "execution_count": 29,
   "metadata": {},
   "outputs": [],
   "source": [
    "model = SVC(kernel='rbf')"
   ]
  },
  {
   "cell_type": "code",
   "execution_count": 30,
   "metadata": {},
   "outputs": [],
   "source": [
    "model_cv = GridSearchCV(estimator=model, \n",
    "                       param_grid=hyper_params,\n",
    "                       scoring='accuracy',\n",
    "                       cv=folds,\n",
    "                       verbose=1,\n",
    "                       return_train_score=True)"
   ]
  },
  {
   "cell_type": "code",
   "execution_count": 31,
   "metadata": {},
   "outputs": [
    {
     "name": "stdout",
     "output_type": "stream",
     "text": [
      "Fitting 5 folds for each of 16 candidates, totalling 80 fits\n"
     ]
    },
    {
     "name": "stderr",
     "output_type": "stream",
     "text": [
      "[Parallel(n_jobs=1)]: Using backend SequentialBackend with 1 concurrent workers.\n",
      "[Parallel(n_jobs=1)]: Done  80 out of  80 | elapsed: 27.4min finished\n"
     ]
    },
    {
     "data": {
      "text/plain": [
       "GridSearchCV(cv=KFold(n_splits=5, random_state=101, shuffle=True),\n",
       "       error_score='raise-deprecating',\n",
       "       estimator=SVC(C=1.0, cache_size=200, class_weight=None, coef0=0.0,\n",
       "  decision_function_shape='ovr', degree=3, gamma='auto_deprecated',\n",
       "  kernel='rbf', max_iter=-1, probability=False, random_state=None,\n",
       "  shrinking=True, tol=0.001, verbose=False),\n",
       "       fit_params=None, iid='warn', n_jobs=None,\n",
       "       param_grid=[{'gamma': [0.1, 0.01, 0.001, 0.0001], 'C': [1, 10, 100, 1000]}],\n",
       "       pre_dispatch='2*n_jobs', refit=True, return_train_score=True,\n",
       "       scoring='accuracy', verbose=1)"
      ]
     },
     "execution_count": 31,
     "metadata": {},
     "output_type": "execute_result"
    }
   ],
   "source": [
    "model_cv.fit(X_train, y_train)"
   ]
  },
  {
   "cell_type": "code",
   "execution_count": 33,
   "metadata": {},
   "outputs": [],
   "source": [
    "cv_results = pd.DataFrame(model_cv.cv_results_)"
   ]
  },
  {
   "cell_type": "code",
   "execution_count": 35,
   "metadata": {},
   "outputs": [
    {
     "data": {
      "text/html": [
       "<div>\n",
       "<style scoped>\n",
       "    .dataframe tbody tr th:only-of-type {\n",
       "        vertical-align: middle;\n",
       "    }\n",
       "\n",
       "    .dataframe tbody tr th {\n",
       "        vertical-align: top;\n",
       "    }\n",
       "\n",
       "    .dataframe thead th {\n",
       "        text-align: right;\n",
       "    }\n",
       "</style>\n",
       "<table border=\"1\" class=\"dataframe\">\n",
       "  <thead>\n",
       "    <tr style=\"text-align: right;\">\n",
       "      <th></th>\n",
       "      <th>mean_fit_time</th>\n",
       "      <th>mean_score_time</th>\n",
       "      <th>mean_test_score</th>\n",
       "      <th>mean_train_score</th>\n",
       "      <th>param_C</th>\n",
       "      <th>param_gamma</th>\n",
       "      <th>params</th>\n",
       "      <th>rank_test_score</th>\n",
       "      <th>split0_test_score</th>\n",
       "      <th>split0_train_score</th>\n",
       "      <th>...</th>\n",
       "      <th>split2_test_score</th>\n",
       "      <th>split2_train_score</th>\n",
       "      <th>split3_test_score</th>\n",
       "      <th>split3_train_score</th>\n",
       "      <th>split4_test_score</th>\n",
       "      <th>split4_train_score</th>\n",
       "      <th>std_fit_time</th>\n",
       "      <th>std_score_time</th>\n",
       "      <th>std_test_score</th>\n",
       "      <th>std_train_score</th>\n",
       "    </tr>\n",
       "  </thead>\n",
       "  <tbody>\n",
       "    <tr>\n",
       "      <th>0</th>\n",
       "      <td>6.180337</td>\n",
       "      <td>3.035287</td>\n",
       "      <td>0.948000</td>\n",
       "      <td>0.970446</td>\n",
       "      <td>1</td>\n",
       "      <td>0.1</td>\n",
       "      <td>{'gamma': 0.1, 'C': 1}</td>\n",
       "      <td>5</td>\n",
       "      <td>0.949643</td>\n",
       "      <td>0.970625</td>\n",
       "      <td>...</td>\n",
       "      <td>0.940000</td>\n",
       "      <td>0.970268</td>\n",
       "      <td>0.952143</td>\n",
       "      <td>0.971518</td>\n",
       "      <td>0.949286</td>\n",
       "      <td>0.968839</td>\n",
       "      <td>1.265339</td>\n",
       "      <td>0.779111</td>\n",
       "      <td>0.004156</td>\n",
       "      <td>0.000904</td>\n",
       "    </tr>\n",
       "    <tr>\n",
       "      <th>1</th>\n",
       "      <td>5.821130</td>\n",
       "      <td>3.284730</td>\n",
       "      <td>0.832714</td>\n",
       "      <td>0.844679</td>\n",
       "      <td>1</td>\n",
       "      <td>0.01</td>\n",
       "      <td>{'gamma': 0.01, 'C': 1}</td>\n",
       "      <td>11</td>\n",
       "      <td>0.826429</td>\n",
       "      <td>0.843929</td>\n",
       "      <td>...</td>\n",
       "      <td>0.828571</td>\n",
       "      <td>0.847679</td>\n",
       "      <td>0.843929</td>\n",
       "      <td>0.843571</td>\n",
       "      <td>0.830000</td>\n",
       "      <td>0.844018</td>\n",
       "      <td>0.244748</td>\n",
       "      <td>0.116616</td>\n",
       "      <td>0.006221</td>\n",
       "      <td>0.001514</td>\n",
       "    </tr>\n",
       "    <tr>\n",
       "      <th>2</th>\n",
       "      <td>11.832133</td>\n",
       "      <td>4.079919</td>\n",
       "      <td>0.677214</td>\n",
       "      <td>0.683821</td>\n",
       "      <td>1</td>\n",
       "      <td>0.001</td>\n",
       "      <td>{'gamma': 0.001, 'C': 1}</td>\n",
       "      <td>14</td>\n",
       "      <td>0.684643</td>\n",
       "      <td>0.682054</td>\n",
       "      <td>...</td>\n",
       "      <td>0.682500</td>\n",
       "      <td>0.687946</td>\n",
       "      <td>0.670000</td>\n",
       "      <td>0.679554</td>\n",
       "      <td>0.676429</td>\n",
       "      <td>0.686429</td>\n",
       "      <td>0.271674</td>\n",
       "      <td>0.069525</td>\n",
       "      <td>0.005622</td>\n",
       "      <td>0.003021</td>\n",
       "    </tr>\n",
       "    <tr>\n",
       "      <th>3</th>\n",
       "      <td>22.866468</td>\n",
       "      <td>4.390671</td>\n",
       "      <td>0.217571</td>\n",
       "      <td>0.227982</td>\n",
       "      <td>1</td>\n",
       "      <td>0.0001</td>\n",
       "      <td>{'gamma': 0.0001, 'C': 1}</td>\n",
       "      <td>16</td>\n",
       "      <td>0.203929</td>\n",
       "      <td>0.212679</td>\n",
       "      <td>...</td>\n",
       "      <td>0.206429</td>\n",
       "      <td>0.228393</td>\n",
       "      <td>0.237500</td>\n",
       "      <td>0.240625</td>\n",
       "      <td>0.232857</td>\n",
       "      <td>0.240625</td>\n",
       "      <td>0.909017</td>\n",
       "      <td>0.191395</td>\n",
       "      <td>0.014490</td>\n",
       "      <td>0.011507</td>\n",
       "    </tr>\n",
       "    <tr>\n",
       "      <th>4</th>\n",
       "      <td>4.721582</td>\n",
       "      <td>2.181338</td>\n",
       "      <td>0.969071</td>\n",
       "      <td>0.997482</td>\n",
       "      <td>10</td>\n",
       "      <td>0.1</td>\n",
       "      <td>{'gamma': 0.1, 'C': 10}</td>\n",
       "      <td>1</td>\n",
       "      <td>0.970357</td>\n",
       "      <td>0.997321</td>\n",
       "      <td>...</td>\n",
       "      <td>0.965714</td>\n",
       "      <td>0.997500</td>\n",
       "      <td>0.967500</td>\n",
       "      <td>0.997321</td>\n",
       "      <td>0.973214</td>\n",
       "      <td>0.997589</td>\n",
       "      <td>0.133591</td>\n",
       "      <td>0.079839</td>\n",
       "      <td>0.002561</td>\n",
       "      <td>0.000143</td>\n",
       "    </tr>\n",
       "    <tr>\n",
       "      <th>5</th>\n",
       "      <td>3.496569</td>\n",
       "      <td>2.209329</td>\n",
       "      <td>0.911214</td>\n",
       "      <td>0.929304</td>\n",
       "      <td>10</td>\n",
       "      <td>0.01</td>\n",
       "      <td>{'gamma': 0.01, 'C': 10}</td>\n",
       "      <td>7</td>\n",
       "      <td>0.914643</td>\n",
       "      <td>0.929643</td>\n",
       "      <td>...</td>\n",
       "      <td>0.902500</td>\n",
       "      <td>0.930357</td>\n",
       "      <td>0.919286</td>\n",
       "      <td>0.928929</td>\n",
       "      <td>0.911071</td>\n",
       "      <td>0.928125</td>\n",
       "      <td>0.197287</td>\n",
       "      <td>0.161996</td>\n",
       "      <td>0.005654</td>\n",
       "      <td>0.000746</td>\n",
       "    </tr>\n",
       "    <tr>\n",
       "      <th>6</th>\n",
       "      <td>6.235259</td>\n",
       "      <td>3.519947</td>\n",
       "      <td>0.808929</td>\n",
       "      <td>0.817857</td>\n",
       "      <td>10</td>\n",
       "      <td>0.001</td>\n",
       "      <td>{'gamma': 0.001, 'C': 10}</td>\n",
       "      <td>12</td>\n",
       "      <td>0.805714</td>\n",
       "      <td>0.818125</td>\n",
       "      <td>...</td>\n",
       "      <td>0.803571</td>\n",
       "      <td>0.819643</td>\n",
       "      <td>0.820714</td>\n",
       "      <td>0.814375</td>\n",
       "      <td>0.805000</td>\n",
       "      <td>0.819464</td>\n",
       "      <td>0.391683</td>\n",
       "      <td>0.184883</td>\n",
       "      <td>0.006227</td>\n",
       "      <td>0.001897</td>\n",
       "    </tr>\n",
       "    <tr>\n",
       "      <th>7</th>\n",
       "      <td>12.788418</td>\n",
       "      <td>4.394117</td>\n",
       "      <td>0.677000</td>\n",
       "      <td>0.683643</td>\n",
       "      <td>10</td>\n",
       "      <td>0.0001</td>\n",
       "      <td>{'gamma': 0.0001, 'C': 10}</td>\n",
       "      <td>15</td>\n",
       "      <td>0.684286</td>\n",
       "      <td>0.681875</td>\n",
       "      <td>...</td>\n",
       "      <td>0.682500</td>\n",
       "      <td>0.687500</td>\n",
       "      <td>0.670000</td>\n",
       "      <td>0.680089</td>\n",
       "      <td>0.677143</td>\n",
       "      <td>0.685446</td>\n",
       "      <td>0.531530</td>\n",
       "      <td>0.158407</td>\n",
       "      <td>0.005788</td>\n",
       "      <td>0.002608</td>\n",
       "    </tr>\n",
       "    <tr>\n",
       "      <th>8</th>\n",
       "      <td>5.275955</td>\n",
       "      <td>2.292142</td>\n",
       "      <td>0.967857</td>\n",
       "      <td>1.000000</td>\n",
       "      <td>100</td>\n",
       "      <td>0.1</td>\n",
       "      <td>{'gamma': 0.1, 'C': 100}</td>\n",
       "      <td>2</td>\n",
       "      <td>0.970000</td>\n",
       "      <td>1.000000</td>\n",
       "      <td>...</td>\n",
       "      <td>0.962857</td>\n",
       "      <td>1.000000</td>\n",
       "      <td>0.965714</td>\n",
       "      <td>1.000000</td>\n",
       "      <td>0.971071</td>\n",
       "      <td>1.000000</td>\n",
       "      <td>0.193500</td>\n",
       "      <td>0.075180</td>\n",
       "      <td>0.003089</td>\n",
       "      <td>0.000000</td>\n",
       "    </tr>\n",
       "    <tr>\n",
       "      <th>9</th>\n",
       "      <td>3.831530</td>\n",
       "      <td>1.616791</td>\n",
       "      <td>0.947786</td>\n",
       "      <td>0.978411</td>\n",
       "      <td>100</td>\n",
       "      <td>0.01</td>\n",
       "      <td>{'gamma': 0.01, 'C': 100}</td>\n",
       "      <td>6</td>\n",
       "      <td>0.948571</td>\n",
       "      <td>0.978482</td>\n",
       "      <td>...</td>\n",
       "      <td>0.941429</td>\n",
       "      <td>0.978393</td>\n",
       "      <td>0.952857</td>\n",
       "      <td>0.978661</td>\n",
       "      <td>0.949286</td>\n",
       "      <td>0.978571</td>\n",
       "      <td>0.043751</td>\n",
       "      <td>0.026065</td>\n",
       "      <td>0.003742</td>\n",
       "      <td>0.000249</td>\n",
       "    </tr>\n",
       "    <tr>\n",
       "      <th>10</th>\n",
       "      <td>3.971445</td>\n",
       "      <td>2.300723</td>\n",
       "      <td>0.863357</td>\n",
       "      <td>0.878768</td>\n",
       "      <td>100</td>\n",
       "      <td>0.001</td>\n",
       "      <td>{'gamma': 0.001, 'C': 100}</td>\n",
       "      <td>9</td>\n",
       "      <td>0.861071</td>\n",
       "      <td>0.879554</td>\n",
       "      <td>...</td>\n",
       "      <td>0.850357</td>\n",
       "      <td>0.882143</td>\n",
       "      <td>0.875357</td>\n",
       "      <td>0.875536</td>\n",
       "      <td>0.863929</td>\n",
       "      <td>0.879464</td>\n",
       "      <td>0.048673</td>\n",
       "      <td>0.012085</td>\n",
       "      <td>0.008074</td>\n",
       "      <td>0.002262</td>\n",
       "    </tr>\n",
       "    <tr>\n",
       "      <th>11</th>\n",
       "      <td>5.737843</td>\n",
       "      <td>3.256659</td>\n",
       "      <td>0.805714</td>\n",
       "      <td>0.813179</td>\n",
       "      <td>100</td>\n",
       "      <td>0.0001</td>\n",
       "      <td>{'gamma': 0.0001, 'C': 100}</td>\n",
       "      <td>13</td>\n",
       "      <td>0.801071</td>\n",
       "      <td>0.813571</td>\n",
       "      <td>...</td>\n",
       "      <td>0.803929</td>\n",
       "      <td>0.814286</td>\n",
       "      <td>0.817143</td>\n",
       "      <td>0.810000</td>\n",
       "      <td>0.800000</td>\n",
       "      <td>0.815357</td>\n",
       "      <td>0.363442</td>\n",
       "      <td>0.020997</td>\n",
       "      <td>0.006140</td>\n",
       "      <td>0.001815</td>\n",
       "    </tr>\n",
       "    <tr>\n",
       "      <th>12</th>\n",
       "      <td>4.705002</td>\n",
       "      <td>2.097594</td>\n",
       "      <td>0.967643</td>\n",
       "      <td>1.000000</td>\n",
       "      <td>1000</td>\n",
       "      <td>0.1</td>\n",
       "      <td>{'gamma': 0.1, 'C': 1000}</td>\n",
       "      <td>3</td>\n",
       "      <td>0.970000</td>\n",
       "      <td>1.000000</td>\n",
       "      <td>...</td>\n",
       "      <td>0.961786</td>\n",
       "      <td>1.000000</td>\n",
       "      <td>0.965714</td>\n",
       "      <td>1.000000</td>\n",
       "      <td>0.970714</td>\n",
       "      <td>1.000000</td>\n",
       "      <td>0.087803</td>\n",
       "      <td>0.021706</td>\n",
       "      <td>0.003423</td>\n",
       "      <td>0.000000</td>\n",
       "    </tr>\n",
       "    <tr>\n",
       "      <th>13</th>\n",
       "      <td>4.216510</td>\n",
       "      <td>1.434152</td>\n",
       "      <td>0.951714</td>\n",
       "      <td>0.997357</td>\n",
       "      <td>1000</td>\n",
       "      <td>0.01</td>\n",
       "      <td>{'gamma': 0.01, 'C': 1000}</td>\n",
       "      <td>4</td>\n",
       "      <td>0.953571</td>\n",
       "      <td>0.997054</td>\n",
       "      <td>...</td>\n",
       "      <td>0.948571</td>\n",
       "      <td>0.997411</td>\n",
       "      <td>0.952857</td>\n",
       "      <td>0.997321</td>\n",
       "      <td>0.953929</td>\n",
       "      <td>0.997232</td>\n",
       "      <td>0.022096</td>\n",
       "      <td>0.037135</td>\n",
       "      <td>0.002183</td>\n",
       "      <td>0.000237</td>\n",
       "    </tr>\n",
       "    <tr>\n",
       "      <th>14</th>\n",
       "      <td>4.583675</td>\n",
       "      <td>1.712701</td>\n",
       "      <td>0.898357</td>\n",
       "      <td>0.929982</td>\n",
       "      <td>1000</td>\n",
       "      <td>0.001</td>\n",
       "      <td>{'gamma': 0.001, 'C': 1000}</td>\n",
       "      <td>8</td>\n",
       "      <td>0.897500</td>\n",
       "      <td>0.931339</td>\n",
       "      <td>...</td>\n",
       "      <td>0.889643</td>\n",
       "      <td>0.931607</td>\n",
       "      <td>0.908571</td>\n",
       "      <td>0.927589</td>\n",
       "      <td>0.900357</td>\n",
       "      <td>0.931696</td>\n",
       "      <td>0.058386</td>\n",
       "      <td>0.016439</td>\n",
       "      <td>0.006197</td>\n",
       "      <td>0.001921</td>\n",
       "    </tr>\n",
       "    <tr>\n",
       "      <th>15</th>\n",
       "      <td>4.133575</td>\n",
       "      <td>2.311532</td>\n",
       "      <td>0.844357</td>\n",
       "      <td>0.860679</td>\n",
       "      <td>1000</td>\n",
       "      <td>0.0001</td>\n",
       "      <td>{'gamma': 0.0001, 'C': 1000}</td>\n",
       "      <td>10</td>\n",
       "      <td>0.844643</td>\n",
       "      <td>0.860982</td>\n",
       "      <td>...</td>\n",
       "      <td>0.829286</td>\n",
       "      <td>0.864018</td>\n",
       "      <td>0.856071</td>\n",
       "      <td>0.858304</td>\n",
       "      <td>0.843571</td>\n",
       "      <td>0.861607</td>\n",
       "      <td>0.041250</td>\n",
       "      <td>0.032385</td>\n",
       "      <td>0.008717</td>\n",
       "      <td>0.002125</td>\n",
       "    </tr>\n",
       "  </tbody>\n",
       "</table>\n",
       "<p>16 rows × 22 columns</p>\n",
       "</div>"
      ],
      "text/plain": [
       "    mean_fit_time  mean_score_time  mean_test_score  mean_train_score param_C  \\\n",
       "0        6.180337         3.035287         0.948000          0.970446       1   \n",
       "1        5.821130         3.284730         0.832714          0.844679       1   \n",
       "2       11.832133         4.079919         0.677214          0.683821       1   \n",
       "3       22.866468         4.390671         0.217571          0.227982       1   \n",
       "4        4.721582         2.181338         0.969071          0.997482      10   \n",
       "5        3.496569         2.209329         0.911214          0.929304      10   \n",
       "6        6.235259         3.519947         0.808929          0.817857      10   \n",
       "7       12.788418         4.394117         0.677000          0.683643      10   \n",
       "8        5.275955         2.292142         0.967857          1.000000     100   \n",
       "9        3.831530         1.616791         0.947786          0.978411     100   \n",
       "10       3.971445         2.300723         0.863357          0.878768     100   \n",
       "11       5.737843         3.256659         0.805714          0.813179     100   \n",
       "12       4.705002         2.097594         0.967643          1.000000    1000   \n",
       "13       4.216510         1.434152         0.951714          0.997357    1000   \n",
       "14       4.583675         1.712701         0.898357          0.929982    1000   \n",
       "15       4.133575         2.311532         0.844357          0.860679    1000   \n",
       "\n",
       "   param_gamma                        params  rank_test_score  \\\n",
       "0          0.1        {'gamma': 0.1, 'C': 1}                5   \n",
       "1         0.01       {'gamma': 0.01, 'C': 1}               11   \n",
       "2        0.001      {'gamma': 0.001, 'C': 1}               14   \n",
       "3       0.0001     {'gamma': 0.0001, 'C': 1}               16   \n",
       "4          0.1       {'gamma': 0.1, 'C': 10}                1   \n",
       "5         0.01      {'gamma': 0.01, 'C': 10}                7   \n",
       "6        0.001     {'gamma': 0.001, 'C': 10}               12   \n",
       "7       0.0001    {'gamma': 0.0001, 'C': 10}               15   \n",
       "8          0.1      {'gamma': 0.1, 'C': 100}                2   \n",
       "9         0.01     {'gamma': 0.01, 'C': 100}                6   \n",
       "10       0.001    {'gamma': 0.001, 'C': 100}                9   \n",
       "11      0.0001   {'gamma': 0.0001, 'C': 100}               13   \n",
       "12         0.1     {'gamma': 0.1, 'C': 1000}                3   \n",
       "13        0.01    {'gamma': 0.01, 'C': 1000}                4   \n",
       "14       0.001   {'gamma': 0.001, 'C': 1000}                8   \n",
       "15      0.0001  {'gamma': 0.0001, 'C': 1000}               10   \n",
       "\n",
       "    split0_test_score  split0_train_score       ...         split2_test_score  \\\n",
       "0            0.949643            0.970625       ...                  0.940000   \n",
       "1            0.826429            0.843929       ...                  0.828571   \n",
       "2            0.684643            0.682054       ...                  0.682500   \n",
       "3            0.203929            0.212679       ...                  0.206429   \n",
       "4            0.970357            0.997321       ...                  0.965714   \n",
       "5            0.914643            0.929643       ...                  0.902500   \n",
       "6            0.805714            0.818125       ...                  0.803571   \n",
       "7            0.684286            0.681875       ...                  0.682500   \n",
       "8            0.970000            1.000000       ...                  0.962857   \n",
       "9            0.948571            0.978482       ...                  0.941429   \n",
       "10           0.861071            0.879554       ...                  0.850357   \n",
       "11           0.801071            0.813571       ...                  0.803929   \n",
       "12           0.970000            1.000000       ...                  0.961786   \n",
       "13           0.953571            0.997054       ...                  0.948571   \n",
       "14           0.897500            0.931339       ...                  0.889643   \n",
       "15           0.844643            0.860982       ...                  0.829286   \n",
       "\n",
       "    split2_train_score  split3_test_score  split3_train_score  \\\n",
       "0             0.970268           0.952143            0.971518   \n",
       "1             0.847679           0.843929            0.843571   \n",
       "2             0.687946           0.670000            0.679554   \n",
       "3             0.228393           0.237500            0.240625   \n",
       "4             0.997500           0.967500            0.997321   \n",
       "5             0.930357           0.919286            0.928929   \n",
       "6             0.819643           0.820714            0.814375   \n",
       "7             0.687500           0.670000            0.680089   \n",
       "8             1.000000           0.965714            1.000000   \n",
       "9             0.978393           0.952857            0.978661   \n",
       "10            0.882143           0.875357            0.875536   \n",
       "11            0.814286           0.817143            0.810000   \n",
       "12            1.000000           0.965714            1.000000   \n",
       "13            0.997411           0.952857            0.997321   \n",
       "14            0.931607           0.908571            0.927589   \n",
       "15            0.864018           0.856071            0.858304   \n",
       "\n",
       "    split4_test_score  split4_train_score  std_fit_time  std_score_time  \\\n",
       "0            0.949286            0.968839      1.265339        0.779111   \n",
       "1            0.830000            0.844018      0.244748        0.116616   \n",
       "2            0.676429            0.686429      0.271674        0.069525   \n",
       "3            0.232857            0.240625      0.909017        0.191395   \n",
       "4            0.973214            0.997589      0.133591        0.079839   \n",
       "5            0.911071            0.928125      0.197287        0.161996   \n",
       "6            0.805000            0.819464      0.391683        0.184883   \n",
       "7            0.677143            0.685446      0.531530        0.158407   \n",
       "8            0.971071            1.000000      0.193500        0.075180   \n",
       "9            0.949286            0.978571      0.043751        0.026065   \n",
       "10           0.863929            0.879464      0.048673        0.012085   \n",
       "11           0.800000            0.815357      0.363442        0.020997   \n",
       "12           0.970714            1.000000      0.087803        0.021706   \n",
       "13           0.953929            0.997232      0.022096        0.037135   \n",
       "14           0.900357            0.931696      0.058386        0.016439   \n",
       "15           0.843571            0.861607      0.041250        0.032385   \n",
       "\n",
       "    std_test_score  std_train_score  \n",
       "0         0.004156         0.000904  \n",
       "1         0.006221         0.001514  \n",
       "2         0.005622         0.003021  \n",
       "3         0.014490         0.011507  \n",
       "4         0.002561         0.000143  \n",
       "5         0.005654         0.000746  \n",
       "6         0.006227         0.001897  \n",
       "7         0.005788         0.002608  \n",
       "8         0.003089         0.000000  \n",
       "9         0.003742         0.000249  \n",
       "10        0.008074         0.002262  \n",
       "11        0.006140         0.001815  \n",
       "12        0.003423         0.000000  \n",
       "13        0.002183         0.000237  \n",
       "14        0.006197         0.001921  \n",
       "15        0.008717         0.002125  \n",
       "\n",
       "[16 rows x 22 columns]"
      ]
     },
     "execution_count": 35,
     "metadata": {},
     "output_type": "execute_result"
    }
   ],
   "source": [
    "cv_results"
   ]
  },
  {
   "cell_type": "code",
   "execution_count": 36,
   "metadata": {},
   "outputs": [
    {
     "name": "stdout",
     "output_type": "stream",
     "text": [
      "<class 'pandas.core.frame.DataFrame'>\n",
      "RangeIndex: 16 entries, 0 to 15\n",
      "Data columns (total 22 columns):\n",
      "mean_fit_time         16 non-null float64\n",
      "mean_score_time       16 non-null float64\n",
      "mean_test_score       16 non-null float64\n",
      "mean_train_score      16 non-null float64\n",
      "param_C               16 non-null object\n",
      "param_gamma           16 non-null object\n",
      "params                16 non-null object\n",
      "rank_test_score       16 non-null int32\n",
      "split0_test_score     16 non-null float64\n",
      "split0_train_score    16 non-null float64\n",
      "split1_test_score     16 non-null float64\n",
      "split1_train_score    16 non-null float64\n",
      "split2_test_score     16 non-null float64\n",
      "split2_train_score    16 non-null float64\n",
      "split3_test_score     16 non-null float64\n",
      "split3_train_score    16 non-null float64\n",
      "split4_test_score     16 non-null float64\n",
      "split4_train_score    16 non-null float64\n",
      "std_fit_time          16 non-null float64\n",
      "std_score_time        16 non-null float64\n",
      "std_test_score        16 non-null float64\n",
      "std_train_score       16 non-null float64\n",
      "dtypes: float64(18), int32(1), object(3)\n",
      "memory usage: 2.8+ KB\n"
     ]
    }
   ],
   "source": [
    "cv_results.info()"
   ]
  },
  {
   "cell_type": "code",
   "execution_count": 37,
   "metadata": {},
   "outputs": [],
   "source": [
    "# converting C to numeric type for plotting on x-axis\n",
    "cv_results['param_C'] = cv_results['param_C'].astype('int')"
   ]
  },
  {
   "cell_type": "code",
   "execution_count": 40,
   "metadata": {},
   "outputs": [
    {
     "data": {
      "image/png": "[encoded data removed]",
      "text/plain": [
       "<Figure size 1152x432 with 4 Axes>"
      ]
     },
     "metadata": {},
     "output_type": "display_data"
    }
   ],
   "source": [
    "# # plotting\n",
    "plt.figure(figsize=(16,6))\n",
    "\n",
    "# subplot 1/3\n",
    "plt.subplot(141)\n",
    "gamma_01 = cv_results[cv_results['param_gamma']==0.01]\n",
    "\n",
    "plt.plot(gamma_01[\"param_C\"], gamma_01[\"mean_test_score\"])\n",
    "plt.plot(gamma_01[\"param_C\"], gamma_01[\"mean_train_score\"])\n",
    "plt.xlabel('C')\n",
    "plt.ylabel('Accuracy')\n",
    "plt.title(\"Gamma=0.01\")\n",
    "plt.ylim([0.60, 1])\n",
    "plt.legend(['test accuracy', 'train accuracy'], loc='upper left')\n",
    "plt.xscale('log')\n",
    "\n",
    "# subplot 2/3\n",
    "plt.subplot(142)\n",
    "gamma_001 = cv_results[cv_results['param_gamma']==0.001]\n",
    "\n",
    "plt.plot(gamma_001[\"param_C\"], gamma_001[\"mean_test_score\"])\n",
    "plt.plot(gamma_001[\"param_C\"], gamma_001[\"mean_train_score\"])\n",
    "plt.xlabel('C')\n",
    "plt.ylabel('Accuracy')\n",
    "plt.title(\"Gamma=0.001\")\n",
    "plt.ylim([0.60, 1])\n",
    "plt.legend(['test accuracy', 'train accuracy'], loc='upper left')\n",
    "plt.xscale('log')\n",
    "\n",
    "\n",
    "# subplot 3/3\n",
    "plt.subplot(143)\n",
    "gamma_0001 = cv_results[cv_results['param_gamma']==0.0001]\n",
    "\n",
    "plt.plot(gamma_0001[\"param_C\"], gamma_0001[\"mean_test_score\"])\n",
    "plt.plot(gamma_0001[\"param_C\"], gamma_0001[\"mean_train_score\"])\n",
    "plt.xlabel('C')\n",
    "plt.ylabel('Accuracy')\n",
    "plt.title(\"Gamma=0.0001\")\n",
    "plt.ylim([0.60, 1])\n",
    "plt.legend(['test accuracy', 'train accuracy'], loc='upper left')\n",
    "plt.xscale('log')\n",
    "\n",
    "\n",
    "# subplot 3/3\n",
    "plt.subplot(144)\n",
    "gamma_0001 = cv_results[cv_results['param_gamma']==0.1]\n",
    "\n",
    "plt.plot(gamma_0001[\"param_C\"], gamma_0001[\"mean_test_score\"])\n",
    "plt.plot(gamma_0001[\"param_C\"], gamma_0001[\"mean_train_score\"])\n",
    "plt.xlabel('C')\n",
    "plt.ylabel('Accuracy')\n",
    "plt.title(\"Gamma=0.1\")\n",
    "plt.ylim([0.60, 1])\n",
    "plt.legend(['test accuracy', 'train accuracy'])\n",
    "plt.xscale('log')\n"
   ]
  },
  {
   "cell_type": "code",
   "execution_count": null,
   "metadata": {},
   "outputs": [],
   "source": [
    "# printing the optimal accuracy score and hyperparameters\n",
    "best_score = model_cv.best_score_\n",
    "best_hyperparams = model_cv.best_params_\n",
    "\n",
    "print(\"The best test score is {0} corresponding to hyperparameters {1}\".format(best_score, best_hyperparams))"
   ]
  },
  {
   "cell_type": "code",
   "execution_count": 41,
   "metadata": {},
   "outputs": [
    {
     "data": {
      "text/plain": [
       "0.9690714285714286"
      ]
     },
     "execution_count": 41,
     "metadata": {},
     "output_type": "execute_result"
    }
   ],
   "source": [
    "model_cv.best_score_"
   ]
  },
  {
   "cell_type": "code",
   "execution_count": 42,
   "metadata": {},
   "outputs": [
    {
     "data": {
      "text/plain": [
       "SVC(C=10, cache_size=200, class_weight=None, coef0=0.0,\n",
       "  decision_function_shape='ovr', degree=3, gamma=0.1, kernel='rbf',\n",
       "  max_iter=-1, probability=False, random_state=None, shrinking=True,\n",
       "  tol=0.001, verbose=False)"
      ]
     },
     "execution_count": 42,
     "metadata": {},
     "output_type": "execute_result"
    }
   ],
   "source": [
    "model_cv.best_estimator_"
   ]
  },
  {
   "cell_type": "code",
   "execution_count": 43,
   "metadata": {},
   "outputs": [
    {
     "data": {
      "text/plain": [
       "4"
      ]
     },
     "execution_count": 43,
     "metadata": {},
     "output_type": "execute_result"
    }
   ],
   "source": [
    "model_cv.best_index_"
   ]
  },
  {
   "cell_type": "code",
   "execution_count": 44,
   "metadata": {},
   "outputs": [
    {
     "data": {
      "text/plain": [
       "{'C': 10, 'gamma': 0.1}"
      ]
     },
     "execution_count": 44,
     "metadata": {},
     "output_type": "execute_result"
    }
   ],
   "source": [
    "model_cv.best_params_"
   ]
  },
  {
   "cell_type": "code",
   "execution_count": 46,
   "metadata": {},
   "outputs": [
    {
     "name": "stdout",
     "output_type": "stream",
     "text": [
      "accuracy 0.9596666666666667 \n",
      "\n",
      "[[206   0   0   0   0   0   0   0   0   0   0   1   0   0   0   0   0   0\n",
      "    0   0   0   0   0   0   2   0]\n",
      " [  0 211   0   2   1   0   1   0   0   0   0   0   0   0   0   0   0   1\n",
      "    2   0   0   0   0   0   0   0]\n",
      " [  0   0 220   0   3   0   4   1   0   0   0   0   0   0   2   0   0   0\n",
      "    0   0   0   0   0   0   0   0]\n",
      " [  0   3   0 236   0   1   0   1   0   1   0   0   0   2   2   0   0   1\n",
      "    1   0   0   0   0   0   0   0]\n",
      " [  0   0   1   0 225   1   4   0   0   0   0   0   0   0   0   0   0   0\n",
      "    1   0   0   0   0   0   0   2]\n",
      " [  0   0   0   1   0 217   0   0   1   1   0   0   0   1   0   3   0   0\n",
      "    0   0   0   1   0   0   0   0]\n",
      " [  0   0   2   3   1   0 209   0   0   0   0   0   1   0   1   0   0   0\n",
      "    0   0   0   1   1   0   0   0]\n",
      " [  0   1   3   5   0   0   2 195   1   1   2   1   1   0   1   0   3   1\n",
      "    0   0   0   0   0   0   0   0]\n",
      " [  0   0   0   1   0   1   0   0 203   8   0   0   0   0   0   0   1   0\n",
      "    0   0   0   0   0   1   0   0]\n",
      " [  0   0   0   0   0   0   0   0   7 209   0   0   0   1   0   0   0   1\n",
      "    0   0   2   0   0   0   0   0]\n",
      " [  0   1   0   0   2   0   0   5   0   0 228   0   0   0   0   0   0   5\n",
      "    0   0   0   0   0   4   0   0]\n",
      " [  0   0   0   0   0   0   1   1   0   0   0 232   0   0   0   1   0   1\n",
      "    0   1   0   0   0   0   0   0]\n",
      " [  0   0   0   0   0   0   0   0   0   0   0   0 230   2   0   0   0   0\n",
      "    0   0   0   0   2   0   0   0]\n",
      " [  0   3   0   1   0   0   0   0   0   0   0   0   1 244   0   0   0   1\n",
      "    0   0   0   0   1   0   0   0]\n",
      " [  0   0   2   0   0   0   2   0   0   1   0   0   2   0 210   0   1   1\n",
      "    0   0   1   0   1   0   0   0]\n",
      " [  0   0   0   0   1   8   0   1   1   0   0   0   0   0   0 252   1   0\n",
      "    0   0   0   0   0   0   1   0]\n",
      " [  0   0   0   0   3   0   1   0   0   0   0   0   0   0   2   1 226   0\n",
      "    0   0   0   0   0   0   0   2]\n",
      " [  0   8   0   1   0   0   1   3   0   0   3   0   0   3   0   0   0 224\n",
      "    0   0   0   0   0   0   0   0]\n",
      " [  0   1   0   0   1   2   1   0   0   0   0   0   0   0   0   0   0   0\n",
      "  223   0   0   0   0   0   0   0]\n",
      " [  0   0   0   1   0   0   0   1   0   0   0   0   0   0   0   1   0   0\n",
      "    0 235   0   0   0   1   0   0]\n",
      " [  2   0   0   0   0   0   1   2   0   0   0   0   0   2   0   0   0   0\n",
      "    0   0 217   0   0   0   0   0]\n",
      " [  0   4   0   0   0   0   0   0   0   0   0   0   1   0   0   1   0   0\n",
      "    0   0   0 203   1   0   1   0]\n",
      " [  0   0   0   0   0   0   1   0   0   0   0   0   0   0   0   1   0   0\n",
      "    0   0   0   0 220   0   0   0]\n",
      " [  0   1   0   3   2   0   0   0   0   0   3   1   0   0   0   0   0   1\n",
      "    0   0   0   0   0 232   1   0]\n",
      " [  1   0   0   0   0   0   0   0   0   1   0   0   0   0   0   0   0   0\n",
      "    1   0   1   2   1   0 230   0]\n",
      " [  0   0   0   0   2   1   0   0   0   0   0   0   0   0   0   0   3   0\n",
      "    1   1   0   0   0   0   0 221]] \n",
      "\n"
     ]
    }
   ],
   "source": [
    "# model with optimal hyperparameters\n",
    "\n",
    "# model\n",
    "model = SVC(C=1000, gamma=0.01, kernel=\"rbf\")\n",
    "\n",
    "model.fit(X_train, y_train)\n",
    "y_pred = model.predict(X_test)\n",
    "\n",
    "# metrics\n",
    "print(\"accuracy\", accuracy_score(y_test, y_pred), \"\\n\")\n",
    "print(confusion_matrix(y_test, y_pred), \"\\n\")\n",
    "\n"
   ]
  },
  {
   "cell_type": "code",
   "execution_count": null,
   "metadata": {},
   "outputs": [],
   "source": []
  },
  {
   "cell_type": "code",
   "execution_count": 47,
   "metadata": {},
   "outputs": [
    {
     "name": "stdout",
     "output_type": "stream",
     "text": [
      "accuracy 0.9706666666666667 \n",
      "\n",
      "[[208   0   0   1   0   0   0   0   0   0   0   0   0   0   0   0   0   0\n",
      "    0   0   0   0   0   0   0   0]\n",
      " [  0 213   0   1   0   0   0   0   0   0   0   0   0   0   0   0   0   3\n",
      "    0   0   0   1   0   0   0   0]\n",
      " [  0   0 225   0   1   0   2   0   0   0   0   0   0   0   2   0   0   0\n",
      "    0   0   0   0   0   0   0   0]\n",
      " [  0   0   0 240   0   0   1   1   0   2   0   0   0   2   1   0   0   1\n",
      "    0   0   0   0   0   0   0   0]\n",
      " [  0   0   3   0 223   1   3   0   0   0   0   0   0   0   0   1   0   0\n",
      "    1   0   0   0   0   0   0   2]\n",
      " [  0   0   0   1   0 217   0   1   1   0   0   0   0   0   0   3   0   0\n",
      "    0   1   0   1   0   0   0   0]\n",
      " [  0   0   2   2   1   0 209   0   0   0   0   0   1   0   1   0   0   0\n",
      "    0   0   1   1   1   0   0   0]\n",
      " [  0   1   2   3   0   0   1 200   0   1   2   0   1   0   1   0   2   2\n",
      "    0   0   1   0   0   0   0   0]\n",
      " [  0   0   0   0   0   0   0   0 205   9   0   0   0   0   0   0   0   0\n",
      "    0   0   0   0   0   1   0   0]\n",
      " [  0   0   0   0   0   0   0   0   6 210   0   0   0   1   0   0   0   0\n",
      "    0   0   2   0   0   1   0   0]\n",
      " [  0   0   0   0   0   0   0   3   0   0 234   0   0   0   0   0   0   6\n",
      "    0   0   0   0   0   2   0   0]\n",
      " [  0   0   0   0   0   0   1   1   0   0   1 233   0   0   0   0   0   1\n",
      "    0   0   0   0   0   0   0   0]\n",
      " [  0   1   0   0   0   0   0   0   0   0   0   0 232   0   0   0   0   0\n",
      "    0   0   0   0   1   0   0   0]\n",
      " [  1   0   0   3   0   0   0   0   0   0   0   0   1 244   0   0   0   1\n",
      "    0   0   0   0   1   0   0   0]\n",
      " [  0   0   0   1   0   0   1   0   0   0   0   0   1   0 215   0   0   1\n",
      "    0   0   1   0   1   0   0   0]\n",
      " [  0   0   0   1   1   7   0   0   0   0   0   0   0   0   0 253   1   0\n",
      "    0   0   0   1   0   0   1   0]\n",
      " [  0   0   0   0   1   0   0   0   0   0   0   0   0   0   2   1 230   0\n",
      "    0   0   0   0   0   0   1   0]\n",
      " [  0   3   0   1   0   0   0   3   0   1   2   1   0   0   0   0   0 232\n",
      "    0   0   0   0   0   0   0   0]\n",
      " [  0   0   0   0   1   0   0   0   0   0   0   0   0   0   0   0   0   0\n",
      "  226   0   0   0   0   0   0   1]\n",
      " [  0   0   0   1   0   0   0   1   0   0   0   0   0   0   0   0   0   0\n",
      "    0 234   0   0   0   1   2   0]\n",
      " [  0   0   0   0   0   0   0   0   0   0   0   0   0   1   0   0   0   0\n",
      "    0   0 223   0   0   0   0   0]\n",
      " [  0   3   0   0   0   0   0   2   0   0   0   0   0   1   0   1   0   0\n",
      "    0   0   0 204   0   0   0   0]\n",
      " [  0   0   0   0   0   0   0   0   0   0   0   0   1   1   0   0   0   1\n",
      "    0   0   0   0 219   0   0   0]\n",
      " [  0   1   0   1   1   0   0   0   0   0   0   0   0   0   0   0   0   1\n",
      "    0   0   0   0   0 240   0   0]\n",
      " [  2   0   0   0   0   0   0   0   0   0   0   0   0   0   0   0   1   0\n",
      "    0   0   2   1   0   0 231   0]\n",
      " [  0   0   0   0   2   0   0   0   0   0   0   0   0   0   0   0   3   0\n",
      "    0   0   0   0   0   0   0 224]] \n",
      "\n"
     ]
    }
   ],
   "source": [
    "# model with optimal hyperparameters\n",
    "\n",
    "# model\n",
    "model = SVC(C=10, gamma=0.1, kernel=\"rbf\")\n",
    "\n",
    "model.fit(X_train, y_train)\n",
    "y_pred = model.predict(X_test)\n",
    "\n",
    "# metrics\n",
    "print(\"accuracy\", accuracy_score(y_test, y_pred), \"\\n\")\n",
    "print(confusion_matrix(y_test, y_pred), \"\\n\")\n",
    "\n"
   ]
  },
  {
   "cell_type": "code",
   "execution_count": null,
   "metadata": {},
   "outputs": [],
   "source": []
  },
  {
   "cell_type": "code",
   "execution_count": null,
   "metadata": {},
   "outputs": [],
   "source": []
  },
  {
   "cell_type": "code",
   "execution_count": null,
   "metadata": {},
   "outputs": [],
   "source": []
  },
  {
   "cell_type": "code",
   "execution_count": null,
   "metadata": {},
   "outputs": [],
   "source": []
  },
  {
   "cell_type": "code",
   "execution_count": null,
   "metadata": {},
   "outputs": [],
   "source": []
  },
  {
   "cell_type": "code",
   "execution_count": null,
   "metadata": {},
   "outputs": [],
   "source": [
    "\n",
    ">>> clf = svm.SVC(kernel='linear', C=1)\n",
    ">>> scores = cross_val_score(clf, iris.data, iris.target, cv=5)\n",
    ">>> scores                                              \n",
    "array([0.96..., 1.  ..., 0.96..., 0.96..., 1.        ])"
   ]
  },
  {
   "cell_type": "code",
   "execution_count": 48,
   "metadata": {},
   "outputs": [],
   "source": [
    "from sklearn.model_selection import cross_val_score"
   ]
  },
  {
   "cell_type": "code",
   "execution_count": 55,
   "metadata": {},
   "outputs": [],
   "source": [
    "clf = SVC(kernel='rbf', C=1000, gamma=0.01)"
   ]
  },
  {
   "cell_type": "code",
   "execution_count": 56,
   "metadata": {},
   "outputs": [],
   "source": [
    "scores = cross_val_score(clf, X_train, y_train, cv=5, scoring='accuracy')"
   ]
  },
  {
   "cell_type": "code",
   "execution_count": 57,
   "metadata": {},
   "outputs": [
    {
     "data": {
      "text/plain": [
       "array([0.94871795, 0.9522622 , 0.94609068, 0.95599284, 0.95804948])"
      ]
     },
     "execution_count": 57,
     "metadata": {},
     "output_type": "execute_result"
    }
   ],
   "source": [
    "scores"
   ]
  },
  {
   "cell_type": "code",
   "execution_count": 58,
   "metadata": {},
   "outputs": [],
   "source": [
    "from sklearn.model_selection import cross_validate"
   ]
  },
  {
   "cell_type": "code",
   "execution_count": 59,
   "metadata": {},
   "outputs": [],
   "source": [
    "scores = cross_validate(clf, X_train, y_train, scoring='accuracy', cv=folds, return_train_score=True)"
   ]
  },
  {
   "cell_type": "code",
   "execution_count": 60,
   "metadata": {},
   "outputs": [
    {
     "data": {
      "text/plain": [
       "{'fit_time': array([4.0684824 , 4.20368099, 4.26756406, 4.68244767, 4.49547744]),\n",
       " 'score_time': array([1.43931174, 1.57222271, 1.49053502, 1.53571796, 1.52547622]),\n",
       " 'test_score': array([0.95357143, 0.94964286, 0.94857143, 0.95285714, 0.95392857]),\n",
       " 'train_score': array([0.99705357, 0.99776786, 0.99741071, 0.99732143, 0.99723214])}"
      ]
     },
     "execution_count": 60,
     "metadata": {},
     "output_type": "execute_result"
    }
   ],
   "source": [
    "scores"
   ]
  },
  {
   "cell_type": "code",
   "execution_count": 61,
   "metadata": {},
   "outputs": [
    {
     "data": {
      "text/plain": [
       "<bound method BaseEstimator.get_params of SVC(C=1000, cache_size=200, class_weight=None, coef0=0.0,\n",
       "  decision_function_shape='ovr', degree=3, gamma=0.01, kernel='rbf',\n",
       "  max_iter=-1, probability=False, random_state=None, shrinking=True,\n",
       "  tol=0.001, verbose=False)>"
      ]
     },
     "execution_count": 61,
     "metadata": {},
     "output_type": "execute_result"
    }
   ],
   "source": [
    "clf.get_params"
   ]
  },
  {
   "cell_type": "code",
   "execution_count": 64,
   "metadata": {},
   "outputs": [
    {
     "name": "stderr",
     "output_type": "stream",
     "text": [
      "[Parallel(n_jobs=1)]: Using backend SequentialBackend with 1 concurrent workers.\n",
      "[Parallel(n_jobs=1)]: Done   5 out of   5 | elapsed:  1.3min finished\n"
     ]
    }
   ],
   "source": [
    "model_a1 = cross_validate(estimator=model, \n",
    "                       scoring='accuracy',\n",
    "                          X=X_train,\n",
    "                          y=y_train,\n",
    "                       cv=folds,\n",
    "                       verbose=1,\n",
    "                       return_train_score=True)"
   ]
  },
  {
   "cell_type": "code",
   "execution_count": null,
   "metadata": {},
   "outputs": [],
   "source": []
  }
 ],
 "metadata": {
  "kernelspec": {
   "display_name": "Python 3",
   "language": "python",
   "name": "python3"
  },
  "language_info": {
   "codemirror_mode": {
    "name": "ipython",
    "version": 3
   },
   "file_extension": ".py",
   "mimetype": "text/x-python",
   "name": "python",
   "nbconvert_exporter": "python",
   "pygments_lexer": "ipython3",
   "version": "3.5.2"
  }
 },
 "nbformat": 4,
 "nbformat_minor": 2
}
