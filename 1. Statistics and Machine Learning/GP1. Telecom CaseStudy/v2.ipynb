{
 "cells": [
  {
   "cell_type": "code",
   "execution_count": 15,
   "metadata": {},
   "outputs": [],
   "source": [
    "import warnings\n",
    "warnings.filterwarnings('ignore')"
   ]
  },
  {
   "cell_type": "code",
   "execution_count": null,
   "metadata": {},
   "outputs": [],
   "source": [
    "# %matplotlib notebook"
   ]
  },
  {
   "cell_type": "code",
   "execution_count": 1,
   "metadata": {},
   "outputs": [],
   "source": [
    "import numpy as np\n",
    "import pandas as pd\n",
    "import seaborn as sns\n",
    "import matplotlib.pyplot as plt\n",
    "\n",
    "%matplotlib inline"
   ]
  },
  {
   "cell_type": "code",
   "execution_count": 2,
   "metadata": {},
   "outputs": [],
   "source": [
    "from datetime import datetime"
   ]
  },
  {
   "cell_type": "code",
   "execution_count": 3,
   "metadata": {},
   "outputs": [],
   "source": [
    "from imblearn.over_sampling import SMOTE\n",
    "from sklearn.model_selection import train_test_split\n",
    "from sklearn import preprocessing\n",
    "from sklearn.preprocessing import StandardScaler\n",
    "from sklearn.decomposition import PCA\n",
    "from sklearn.decomposition import IncrementalPCA\n",
    "from sklearn.linear_model import LogisticRegression\n",
    "from sklearn import metrics"
   ]
  },
  {
   "cell_type": "code",
   "execution_count": null,
   "metadata": {},
   "outputs": [],
   "source": [
    "df = pd.read_csv('telecom_churn_data.csv')"
   ]
  },
  {
   "cell_type": "code",
   "execution_count": null,
   "metadata": {},
   "outputs": [],
   "source": [
    "print(df.shape)\n",
    "df.head()"
   ]
  },
  {
   "cell_type": "code",
   "execution_count": null,
   "metadata": {},
   "outputs": [],
   "source": [
    "df.nunique()"
   ]
  },
  {
   "cell_type": "markdown",
   "metadata": {},
   "source": [
    "### Lets observe the null values"
   ]
  },
  {
   "cell_type": "code",
   "execution_count": null,
   "metadata": {},
   "outputs": [],
   "source": [
    "nul_percentage = round(100*(df.isnull().sum()/len(df.index)),2)"
   ]
  },
  {
   "cell_type": "code",
   "execution_count": null,
   "metadata": {},
   "outputs": [],
   "source": [
    "len(nul_percentage[nul_percentage>70])"
   ]
  },
  {
   "cell_type": "markdown",
   "metadata": {},
   "source": [
    "* There are more than 40 columns where there is more than 70% of missing data"
   ]
  },
  {
   "cell_type": "code",
   "execution_count": null,
   "metadata": {},
   "outputs": [],
   "source": [
    "df.filter(like = \"date\", axis =1).columns"
   ]
  },
  {
   "cell_type": "code",
   "execution_count": null,
   "metadata": {},
   "outputs": [],
   "source": []
  },
  {
   "cell_type": "markdown",
   "metadata": {},
   "source": [
    "* mobile number is unique for each user; lets conver that column to string as there is no valid point to make any analysis on the same.\n",
    "* several date columns are available.\n",
    "* After observing the data ,there are some categorical variables also; lets seggregate the same."
   ]
  },
  {
   "cell_type": "code",
   "execution_count": null,
   "metadata": {},
   "outputs": [],
   "source": [
    "categorical_vars = [\"night_pck_user_6\", \"night_pck_user_7\", \"night_pck_user_8\", \n",
    "\"night_pck_user_9\", \"fb_user_6\", \"fb_user_7\", \"fb_user_8\", \"fb_user_9\"]"
   ]
  },
  {
   "cell_type": "code",
   "execution_count": null,
   "metadata": {},
   "outputs": [],
   "source": [
    "df[categorical_vars].isnull().sum()"
   ]
  },
  {
   "cell_type": "code",
   "execution_count": null,
   "metadata": {},
   "outputs": [],
   "source": [
    "print(df[categorical_vars].nunique())\n",
    "for col in categorical_vars:\n",
    "    print(col, df[col].unique())"
   ]
  },
  {
   "cell_type": "markdown",
   "metadata": {},
   "source": [
    "* >(>74%) data is missing; As this is a categorical values lets impute the missing value by '-1' as new category and create dummies."
   ]
  },
  {
   "cell_type": "code",
   "execution_count": null,
   "metadata": {},
   "outputs": [],
   "source": [
    "for col in categorical_vars:\n",
    "    df[col].fillna(value=-1, inplace=True)"
   ]
  },
  {
   "cell_type": "markdown",
   "metadata": {},
   "source": [
    "#### Create Dummies for 6,7,8 months; 9th month is not required as its required to analyze the if the user is churned or not?"
   ]
  },
  {
   "cell_type": "code",
   "execution_count": null,
   "metadata": {},
   "outputs": [],
   "source": [
    "df_night_6 = pd.get_dummies(df['night_pck_user_6'],prefix=\"night_6\",drop_first=True)\n",
    "df_night_7 = pd.get_dummies(df['night_pck_user_7'],prefix=\"night_7\",drop_first=True)\n",
    "df_night_8 = pd.get_dummies(df['night_pck_user_8'],prefix=\"night_8\",drop_first=True)\n",
    "\n",
    "df_fb_6 = pd.get_dummies(df['fb_user_6'],prefix=\"fb_6\", drop_first=True)\n",
    "df_fb_7 = pd.get_dummies(df['fb_user_7'],prefix=\"fb_7\",drop_first=True)\n",
    "df_fb_8 = pd.get_dummies(df['fb_user_8'],prefix=\"fb_8\",drop_first=True)\n",
    "\n",
    "telecom = pd.concat([df,df_night_6],axis=1)\n",
    "telecom = pd.concat([df,df_night_7],axis=1)\n",
    "telecom = pd.concat([df,df_night_8],axis=1)\n",
    "\n",
    "telecom = pd.concat([df,df_fb_6],axis=1)\n",
    "telecom = pd.concat([df,df_fb_7],axis=1)\n",
    "telecom = pd.concat([df,df_fb_8],axis=1)"
   ]
  },
  {
   "cell_type": "code",
   "execution_count": null,
   "metadata": {},
   "outputs": [],
   "source": [
    "df.drop(labels=categorical_vars, axis=1, inplace=True)"
   ]
  },
  {
   "cell_type": "code",
   "execution_count": null,
   "metadata": {},
   "outputs": [],
   "source": [
    "df.shape"
   ]
  },
  {
   "cell_type": "markdown",
   "metadata": {},
   "source": [
    "* lets recheck the missing value percentage"
   ]
  },
  {
   "cell_type": "code",
   "execution_count": null,
   "metadata": {},
   "outputs": [],
   "source": [
    "nul_percentage = round(100*(df.isnull().sum()/len(df.index)),2)\n",
    "print(sorted(nul_percentage, reverse=True))"
   ]
  },
  {
   "cell_type": "code",
   "execution_count": null,
   "metadata": {},
   "outputs": [],
   "source": [
    "nul_percentage[nul_percentage>70]"
   ]
  },
  {
   "cell_type": "markdown",
   "metadata": {},
   "source": [
    "* > If you observe there are two main columns which are required to calculate the amount of recharge to determine if the user is churned or not. lets impute the missing values for the below columns before proceeding further\n",
    "\n",
    "* total_rech_data_6           74.85\n",
    "* total_rech_data_7           74.43\n",
    "* total_rech_data_8           73.66\n",
    "* total_rech_data_9           74.08\n",
    "\n",
    "* av_rech_amt_data_6          74.85\n",
    "* av_rech_amt_data_7          74.43\n",
    "* av_rech_amt_data_8          73.66\n",
    "* av_rech_amt_data_9          74.08"
   ]
  },
  {
   "cell_type": "code",
   "execution_count": null,
   "metadata": {},
   "outputs": [],
   "source": [
    "cols_imp = [\"total_rech_data_6\", \"total_rech_data_7\", \"total_rech_data_8\", \"total_rech_data_9\", \"av_rech_amt_data_6\", \"av_rech_amt_data_7\",\"av_rech_amt_data_8\",\"av_rech_amt_data_9\"]\n",
    "df[cols_imp].describe().transpose()"
   ]
  },
  {
   "cell_type": "code",
   "execution_count": null,
   "metadata": {},
   "outputs": [],
   "source": [
    "df['total_rech_amt_6'].plot.hist(bins=100)"
   ]
  },
  {
   "cell_type": "code",
   "execution_count": null,
   "metadata": {},
   "outputs": [],
   "source": [
    "for col in cols_imp:\n",
    "    df[col].fillna(value=0, inplace=True)"
   ]
  },
  {
   "cell_type": "code",
   "execution_count": null,
   "metadata": {},
   "outputs": [],
   "source": [
    "nul_percentage = round(100*(df.isnull().sum()/len(df.index)),2)\n",
    "print(sorted(nul_percentage, reverse=True))\n",
    "print('-'*50)\n",
    "print(nul_percentage[nul_percentage>70])"
   ]
  },
  {
   "cell_type": "markdown",
   "metadata": {},
   "source": [
    "####  As the missing values for the colums is more than 74%, we can delete the above columns; But date columns can be used to derive new variables; Before deriving the same lets build the churn data for the users based on the below mentioned\n"
   ]
  },
  {
   "cell_type": "markdown",
   "metadata": {},
   "source": [
    "1. Analyse the recharge colums and fill missing values for \"As mentioned above, you need to predict churn only for the high-value customers. Define high-value customers as follows: Those who have recharged with an amount more than or equal to X, where X is the 70th percentile of the average recharge amount in the first two months (the good phase).\"\n",
    "2. Filter high-value customers As mentioned above, you need to predict churn only for the high-value customers. Define high-value customers as follows: Those who have recharged with an amount more than or equal to X, where X is the 70th percentile of the average recharge amount in the first two months (the good phase). # total_rech_data_6 # total_rech_data_7 # av_rech_amt_data_6 # av_rech_amt_data_7 "
   ]
  },
  {
   "cell_type": "code",
   "execution_count": null,
   "metadata": {},
   "outputs": [],
   "source": [
    "df['total_data_rech_6'] = df.total_rech_data_6 * df.av_rech_amt_data_6\n",
    "df['total_data_rech_7'] = df.total_rech_data_7 * df.av_rech_amt_data_7\n",
    "df['total_data_rech_8'] = df.total_rech_data_8 * df.av_rech_amt_data_8\n",
    "df['total_data_rech_9'] = df.total_rech_data_9 * df.av_rech_amt_data_9"
   ]
  },
  {
   "cell_type": "code",
   "execution_count": null,
   "metadata": {},
   "outputs": [],
   "source": []
  },
  {
   "cell_type": "code",
   "execution_count": null,
   "metadata": {},
   "outputs": [],
   "source": [
    "df['total_amt_6'] = df.total_rech_amt_6 + df.total_data_rech_6\n",
    "df['total_amt_7'] = df.total_rech_amt_7 + df.total_data_rech_7\n",
    "df['total_amt_8'] = df.total_rech_amt_8 + df.total_data_rech_8\n",
    "df['total_amt_9'] = df.total_rech_amt_9 + df.total_data_rech_9"
   ]
  },
  {
   "cell_type": "code",
   "execution_count": null,
   "metadata": {},
   "outputs": [],
   "source": [
    "cols_to_drop = ['total_rech_data_6', 'total_rech_data_7','total_rech_data_8','total_rech_data_9',\n",
    "               'av_rech_amt_data_6','av_rech_amt_data_7','av_rech_amt_data_8','av_rech_amt_data_9',\n",
    "               'total_data_rech_6','total_data_rech_7','total_data_rech_8','total_data_rech_9']\n",
    "df.drop(labels=cols_to_drop, axis=1, inplace=True)\n",
    "print(df.shape)"
   ]
  },
  {
   "cell_type": "markdown",
   "metadata": {},
   "source": [
    "* Filter high-value customers As mentioned above, you need to predict churn only for the high-value customers. Define high-value customers as follows: Those who have recharged with an amount more than or equal to X, where X is the 70th percentile of the average recharge amount in the first two months (the good phase). "
   ]
  },
  {
   "cell_type": "code",
   "execution_count": null,
   "metadata": {},
   "outputs": [],
   "source": [
    "df['av_amt_rech_6_7']=(df.total_amt_6 + df.total_amt_7)/2"
   ]
  },
  {
   "cell_type": "code",
   "execution_count": null,
   "metadata": {},
   "outputs": [],
   "source": [
    "df['av_amt_rech_6_7'].plot.box()"
   ]
  },
  {
   "cell_type": "code",
   "execution_count": null,
   "metadata": {},
   "outputs": [],
   "source": [
    "df['av_amt_rech_6_7'].quantile([0, 0.1, 0.2, 0.3, 0.4, 0.5, 0.6, 0.7, 0.8, 0.9, 1])"
   ]
  },
  {
   "cell_type": "code",
   "execution_count": null,
   "metadata": {},
   "outputs": [],
   "source": [
    "avg_amt_rech_2_mon = df['av_amt_rech_6_7'].quantile(0.7)"
   ]
  },
  {
   "cell_type": "code",
   "execution_count": null,
   "metadata": {},
   "outputs": [],
   "source": [
    "filter = (df['av_amt_rech_6_7'] >= avg_amt_rech_2_mon)"
   ]
  },
  {
   "cell_type": "code",
   "execution_count": null,
   "metadata": {},
   "outputs": [],
   "source": [
    "df = df[filter]\n",
    "print(df.shape)"
   ]
  },
  {
   "cell_type": "markdown",
   "metadata": {},
   "source": [
    " *  After filtering the high-value customers, you should get about 29.9k rows3. Tag churners and remove attributes of the churn phase Now tag the churned customers (churn=1, else 0) based on the fourth month as follows: Those who have not made any calls (either incoming or outgoing) AND have not used mobile internet even once in the churn phase. The attributes you need to use to tag churners are: \n",
    "  * total_ic_mou_9 \n",
    "  * total_og_mou_9 \n",
    "  * vol_2g_mb_9 \n",
    "  * vol_3g_mb_9\n",
    "After tagging churners, remove all the attributes corresponding to the churn phase (all attributes having ‘ _9’, etc. in their names). \n",
    "    \n",
    "* After applying filter we have around 30k rows ( ~ 100 rows extra - Need to check what else missed to take into account )"
   ]
  },
  {
   "cell_type": "code",
   "execution_count": null,
   "metadata": {},
   "outputs": [],
   "source": [
    "df[['total_ic_mou_9','total_og_mou_9','vol_2g_mb_9','vol_3g_mb_9']].describe()"
   ]
  },
  {
   "cell_type": "code",
   "execution_count": null,
   "metadata": {},
   "outputs": [],
   "source": [
    "def isUserChurn(df):\n",
    "  if(df['total_ic_mou_9'] > 0 or df['total_og_mou_9'] > 0 or df['vol_2g_mb_9'] > 0 or df['vol_3g_mb_9'] > 0):\n",
    "    return 0\n",
    "  else:\n",
    "    return 1"
   ]
  },
  {
   "cell_type": "code",
   "execution_count": null,
   "metadata": {},
   "outputs": [],
   "source": [
    "df['churn'] = df.apply(isUserChurn, axis=1)"
   ]
  },
  {
   "cell_type": "code",
   "execution_count": null,
   "metadata": {},
   "outputs": [],
   "source": [
    "df.shape"
   ]
  },
  {
   "cell_type": "code",
   "execution_count": null,
   "metadata": {},
   "outputs": [],
   "source": [
    "# dropping 9th month cols\n",
    "cols_to_drop = (list(df.filter(like ='_9', axis =1).columns))"
   ]
  },
  {
   "cell_type": "code",
   "execution_count": null,
   "metadata": {},
   "outputs": [],
   "source": [
    "df.drop(labels=cols_to_drop, axis=1, inplace=True)"
   ]
  },
  {
   "cell_type": "code",
   "execution_count": null,
   "metadata": {},
   "outputs": [],
   "source": [
    "cols_to_drop = list(df.filter(like='sep', axis=1).columns)\n",
    "print(cols_to_drop)"
   ]
  },
  {
   "cell_type": "code",
   "execution_count": null,
   "metadata": {},
   "outputs": [],
   "source": [
    "df.drop(labels=cols_to_drop, axis=1, inplace=True)"
   ]
  },
  {
   "cell_type": "code",
   "execution_count": null,
   "metadata": {},
   "outputs": [],
   "source": [
    "unique_Values = df.apply(lambda x: x.nunique())\n",
    "# print(unique_Values)"
   ]
  },
  {
   "cell_type": "code",
   "execution_count": null,
   "metadata": {},
   "outputs": [],
   "source": [
    "unique_Values[unique_Values==1]"
   ]
  },
  {
   "cell_type": "code",
   "execution_count": null,
   "metadata": {},
   "outputs": [],
   "source": [
    "df.info(verbose=1)"
   ]
  },
  {
   "cell_type": "code",
   "execution_count": null,
   "metadata": {},
   "outputs": [],
   "source": [
    "df.shape"
   ]
  },
  {
   "cell_type": "markdown",
   "metadata": {},
   "source": [
    "#### Convert date columns to Date object and derive new variable"
   ]
  },
  {
   "cell_type": "code",
   "execution_count": null,
   "metadata": {},
   "outputs": [],
   "source": [
    "date_cols = list(df.filter(like='date', axis=1).columns)\n",
    "print(len(date_cols), date_cols)"
   ]
  },
  {
   "cell_type": "markdown",
   "metadata": {},
   "source": [
    "<font color=red>Taking some time to run</font>"
   ]
  },
  {
   "cell_type": "code",
   "execution_count": null,
   "metadata": {},
   "outputs": [],
   "source": [
    "for date_col in date_cols:\n",
    "    df[date_col]=pd.to_datetime(df[date_col])"
   ]
  },
  {
   "cell_type": "code",
   "execution_count": null,
   "metadata": {},
   "outputs": [],
   "source": [
    "df['date_last_rech'] = df[['date_of_last_rech_6', 'date_of_last_rech_7','date_of_last_rech_8']].max(axis=1)"
   ]
  },
  {
   "cell_type": "code",
   "execution_count": null,
   "metadata": {},
   "outputs": [],
   "source": [
    "df[['date_last_rech']].isnull().sum()"
   ]
  },
  {
   "cell_type": "code",
   "execution_count": null,
   "metadata": {},
   "outputs": [],
   "source": [
    "df['date_last_rech_data'] = df[['date_of_last_rech_data_6', 'date_of_last_rech_data_7','date_of_last_rech_data_7']].max(axis=1)"
   ]
  },
  {
   "cell_type": "code",
   "execution_count": null,
   "metadata": {},
   "outputs": [],
   "source": [
    "df['date_last_rech_data'].isnull().sum()"
   ]
  },
  {
   "cell_type": "markdown",
   "metadata": {},
   "source": [
    "* Now we have date of last recharge; lets convert to days from last recharge; since we are considering only till 8th month(Aug); Need to find the diff from 31 Aug to the column value"
   ]
  },
  {
   "cell_type": "code",
   "execution_count": null,
   "metadata": {},
   "outputs": [],
   "source": [
    "df['days_since_last_recharge'] = df['date_last_rech'].apply(lambda x: datetime(2014, 8, 31) - x)"
   ]
  },
  {
   "cell_type": "code",
   "execution_count": null,
   "metadata": {},
   "outputs": [],
   "source": [
    "df['days_since_last_recharge'] = df['days_since_last_recharge'].apply(lambda x: x.days)"
   ]
  },
  {
   "cell_type": "code",
   "execution_count": null,
   "metadata": {},
   "outputs": [],
   "source": [
    "# df['days_since_last_recharge']"
   ]
  },
  {
   "cell_type": "code",
   "execution_count": null,
   "metadata": {},
   "outputs": [],
   "source": [
    "df['days_since_last_recharge_data'] = df['date_last_rech_data'].apply(lambda x: datetime(2014, 8, 31) - x)"
   ]
  },
  {
   "cell_type": "code",
   "execution_count": null,
   "metadata": {},
   "outputs": [],
   "source": [
    "df['days_since_last_recharge_data'] = df['days_since_last_recharge_data'].apply(lambda x: x.days)"
   ]
  },
  {
   "cell_type": "code",
   "execution_count": null,
   "metadata": {},
   "outputs": [],
   "source": [
    "df['days_since_last_recharge_data'].isnull().sum()"
   ]
  },
  {
   "cell_type": "markdown",
   "metadata": {},
   "source": [
    "* <font color=green>In case of missing values lets assume user didnt recharged the same. so lets fill the missing values with max value 90 (assuming number of days in 3 months days)</font>"
   ]
  },
  {
   "cell_type": "code",
   "execution_count": null,
   "metadata": {},
   "outputs": [],
   "source": [
    "df['days_since_last_recharge_data'] = df['days_since_last_recharge_data'].fillna(90)"
   ]
  },
  {
   "cell_type": "markdown",
   "metadata": {},
   "source": [
    "* <font color='green'>Usage includes both data/voice; so lets finalize the days since last recharge as min(voice, data)</font>"
   ]
  },
  {
   "cell_type": "code",
   "execution_count": null,
   "metadata": {},
   "outputs": [],
   "source": [
    "df['days_since_last_rech'] = df[['days_since_last_recharge_data', 'days_since_last_recharge']].min(axis=1)"
   ]
  },
  {
   "cell_type": "markdown",
   "metadata": {},
   "source": [
    "#### <font color='blue'> New Derived Variable =  days_since_last_rech </font>"
   ]
  },
  {
   "cell_type": "markdown",
   "metadata": {},
   "source": [
    "* Lets remove all date related columns and intermediate derived variables"
   ]
  },
  {
   "cell_type": "code",
   "execution_count": null,
   "metadata": {},
   "outputs": [],
   "source": [
    "date_cols = list(df.filter(like='date', axis=1).columns)\n",
    "print(len(date_cols), date_cols)"
   ]
  },
  {
   "cell_type": "code",
   "execution_count": null,
   "metadata": {},
   "outputs": [],
   "source": [
    "df.drop(labels=date_cols, axis=1,inplace=True)"
   ]
  },
  {
   "cell_type": "markdown",
   "metadata": {},
   "source": [
    "#### Lets clean up the data, where there is no variance explained"
   ]
  },
  {
   "cell_type": "code",
   "execution_count": null,
   "metadata": {},
   "outputs": [],
   "source": [
    "unique_Values = df.apply(lambda x: x.nunique())"
   ]
  },
  {
   "cell_type": "code",
   "execution_count": null,
   "metadata": {},
   "outputs": [],
   "source": [
    "unique_Values[unique_Values==1]"
   ]
  },
  {
   "cell_type": "code",
   "execution_count": null,
   "metadata": {},
   "outputs": [],
   "source": [
    "cols_to_drop = list(unique_Values[unique_Values==1].index)"
   ]
  },
  {
   "cell_type": "code",
   "execution_count": null,
   "metadata": {},
   "outputs": [],
   "source": [
    "df.shape"
   ]
  },
  {
   "cell_type": "code",
   "execution_count": null,
   "metadata": {},
   "outputs": [],
   "source": [
    "len(cols_to_drop)"
   ]
  },
  {
   "cell_type": "code",
   "execution_count": null,
   "metadata": {},
   "outputs": [],
   "source": [
    "df.drop(labels=cols_to_drop,axis=1, inplace=True)"
   ]
  },
  {
   "cell_type": "code",
   "execution_count": null,
   "metadata": {},
   "outputs": [],
   "source": [
    "df.shape"
   ]
  },
  {
   "cell_type": "code",
   "execution_count": null,
   "metadata": {},
   "outputs": [],
   "source": [
    "nul_percentage = round(100*(df.isnull().sum()/len(df.index)),2)\n",
    "print(sorted(nul_percentage, reverse=True))\n",
    "print('-'*50)\n",
    "print(nul_percentage[nul_percentage>40])"
   ]
  },
  {
   "cell_type": "code",
   "execution_count": null,
   "metadata": {},
   "outputs": [],
   "source": [
    "cols_to_drop = nul_percentage[nul_percentage>40].index\n",
    "print(cols_to_drop, len(cols_to_drop))"
   ]
  },
  {
   "cell_type": "code",
   "execution_count": null,
   "metadata": {},
   "outputs": [],
   "source": [
    "df.shape"
   ]
  },
  {
   "cell_type": "code",
   "execution_count": null,
   "metadata": {},
   "outputs": [],
   "source": [
    "df.drop(labels=cols_to_drop, axis=1, inplace=True)"
   ]
  },
  {
   "cell_type": "code",
   "execution_count": null,
   "metadata": {},
   "outputs": [],
   "source": [
    "df.shape"
   ]
  },
  {
   "cell_type": "code",
   "execution_count": null,
   "metadata": {},
   "outputs": [],
   "source": [
    "nul_percentage = round(100*(df.isnull().sum()/len(df.index)),2)\n",
    "print(sorted(nul_percentage, reverse=True))"
   ]
  },
  {
   "cell_type": "markdown",
   "metadata": {},
   "source": [
    "#### rows have all missing values"
   ]
  },
  {
   "cell_type": "code",
   "execution_count": null,
   "metadata": {},
   "outputs": [],
   "source": [
    "print(df.isnull().all(axis=1).sum())\n",
    "\n",
    "# sum of misisng values in each row\n",
    "rows_missing_data = df.isnull().sum(axis=1)\n",
    "rows_missing_data[rows_missing_data > 0]"
   ]
  },
  {
   "cell_type": "code",
   "execution_count": null,
   "metadata": {},
   "outputs": [],
   "source": [
    "rows_missing_data.value_counts()"
   ]
  },
  {
   "cell_type": "code",
   "execution_count": null,
   "metadata": {},
   "outputs": [],
   "source": [
    "rows_missing_data.value_counts(normalize=True)"
   ]
  },
  {
   "cell_type": "markdown",
   "metadata": {},
   "source": [
    "* Around 4% of data is missing in the data(across the rows), lets remove those rows"
   ]
  },
  {
   "cell_type": "markdown",
   "metadata": {},
   "source": [
    "### TODO - check if the below step is necessary"
   ]
  },
  {
   "cell_type": "code",
   "execution_count": null,
   "metadata": {},
   "outputs": [],
   "source": [
    "df = (df[df.isnull().sum(axis=1) < 27])"
   ]
  },
  {
   "cell_type": "code",
   "execution_count": null,
   "metadata": {},
   "outputs": [],
   "source": [
    "df.shape"
   ]
  },
  {
   "cell_type": "code",
   "execution_count": null,
   "metadata": {},
   "outputs": [],
   "source": [
    "nul_percentage = round(100*(df.isnull().sum()/len(df.index)),4)\n",
    "print(sorted(nul_percentage, reverse=True))"
   ]
  },
  {
   "cell_type": "code",
   "execution_count": null,
   "metadata": {},
   "outputs": [],
   "source": [
    "nul_percentage[nul_percentage>0]"
   ]
  },
  {
   "cell_type": "code",
   "execution_count": null,
   "metadata": {},
   "outputs": [],
   "source": [
    "df.isnull().any().any()"
   ]
  },
  {
   "cell_type": "markdown",
   "metadata": {},
   "source": [
    "* As the number of missing values are less than 4%, lets impute the missing values with 0"
   ]
  },
  {
   "cell_type": "code",
   "execution_count": null,
   "metadata": {},
   "outputs": [],
   "source": [
    "# df.fillna(0, inplace=True)"
   ]
  },
  {
   "cell_type": "code",
   "execution_count": null,
   "metadata": {},
   "outputs": [],
   "source": [
    "print(list(df.columns))"
   ]
  },
  {
   "cell_type": "code",
   "execution_count": null,
   "metadata": {},
   "outputs": [],
   "source": [
    "cols_to_drop = ['days_since_last_recharge', 'days_since_last_recharge_data',\n",
    "                'total_rech_amt_6', 'total_rech_amt_7', 'total_rech_amt_8',\n",
    "                'av_amt_rech_6_7']"
   ]
  },
  {
   "cell_type": "code",
   "execution_count": null,
   "metadata": {},
   "outputs": [],
   "source": [
    "df.drop(labels=cols_to_drop, axis=1, inplace=True)"
   ]
  },
  {
   "cell_type": "code",
   "execution_count": null,
   "metadata": {},
   "outputs": [],
   "source": [
    "df[['aon']].describe()"
   ]
  },
  {
   "cell_type": "code",
   "execution_count": null,
   "metadata": {},
   "outputs": [],
   "source": [
    "print(df.aon.min(), df.aon.max())"
   ]
  },
  {
   "cell_type": "markdown",
   "metadata": {},
   "source": [
    "* AON is represented in days, if we observe the min and max value its 180 and 4321 which is 6 months and 144 months; It means we can represent AON in 6 months buckets."
   ]
  },
  {
   "cell_type": "code",
   "execution_count": null,
   "metadata": {},
   "outputs": [],
   "source": [
    "df['aon_bin'] = pd.cut(df['aon'], bins=24, include_lowest=False, labels=np.arange(1,25))"
   ]
  },
  {
   "cell_type": "code",
   "execution_count": null,
   "metadata": {},
   "outputs": [],
   "source": [
    "df[['aon','aon_bin']].head(10)"
   ]
  },
  {
   "cell_type": "code",
   "execution_count": null,
   "metadata": {},
   "outputs": [],
   "source": [
    "df.drop(labels='aon', axis=1, inplace=True)"
   ]
  },
  {
   "cell_type": "code",
   "execution_count": null,
   "metadata": {},
   "outputs": [],
   "source": [
    "df['aon_bin'] = df['aon_bin'].astype(int)"
   ]
  },
  {
   "cell_type": "code",
   "execution_count": null,
   "metadata": {},
   "outputs": [],
   "source": [
    "# df.info(verbose=1)"
   ]
  },
  {
   "cell_type": "markdown",
   "metadata": {},
   "source": [
    "## DataCleaning results"
   ]
  },
  {
   "cell_type": "code",
   "execution_count": null,
   "metadata": {},
   "outputs": [],
   "source": [
    "df.shape"
   ]
  },
  {
   "cell_type": "markdown",
   "metadata": {},
   "source": [
    "* Initial shape - (99999, 226)\n",
    "* After cleaning - (28504, 136)"
   ]
  },
  {
   "cell_type": "markdown",
   "metadata": {},
   "source": [
    "lets save the data frame as cleaned.csv"
   ]
  },
  {
   "cell_type": "code",
   "execution_count": null,
   "metadata": {},
   "outputs": [],
   "source": [
    "df.to_csv('telecom_churn_clean.csv', index=False, sep=',')"
   ]
  },
  {
   "cell_type": "code",
   "execution_count": null,
   "metadata": {},
   "outputs": [],
   "source": []
  },
  {
   "cell_type": "code",
   "execution_count": null,
   "metadata": {},
   "outputs": [],
   "source": [
    "df_churn = pd.read_csv('telecom_churn_clean.csv')"
   ]
  },
  {
   "cell_type": "markdown",
   "metadata": {},
   "source": [
    "## EDA"
   ]
  },
  {
   "cell_type": "code",
   "execution_count": null,
   "metadata": {},
   "outputs": [],
   "source": [
    "plt.figure(figsize=(30,20))\n",
    "sns.heatmap(df_churn.corr())"
   ]
  },
  {
   "cell_type": "code",
   "execution_count": null,
   "metadata": {},
   "outputs": [],
   "source": [
    "df_aon = df_churn[['aon_bin', 'churn']]\n",
    "\n",
    "print(df_aon.head())\n",
    "\n",
    "df_aon_churn = df_aon[df_aon.churn==1]\n",
    "\n",
    "df_aon_churn_grp = df_aon_churn.groupby('aon_bin').sum()\n",
    "\n",
    "print(type(df_aon_churn_grp), df_aon_churn_grp.columns)\n",
    "\n",
    "df_aon_churn_grp.reset_index(inplace=True)\n",
    "print(df_aon_churn_grp.head())\n",
    "\n",
    "%matplotlib inline\n",
    "sns.barplot(x='aon_bin', y = 'churn', data=df_aon_churn_grp)"
   ]
  },
  {
   "cell_type": "markdown",
   "metadata": {},
   "source": [
    "* from the above graph we can observe that most of the churns are more till aon_bin is 6(each aon_bin is 6 months), implies 3 years. so till 3 years there are high chances that customer may churn; post 3 years number of churns are less and can assume those who are churn are of other reasons"
   ]
  },
  {
   "cell_type": "code",
   "execution_count": null,
   "metadata": {},
   "outputs": [],
   "source": [
    "# total_amt_6\ttotal_amt_7\ttotal_amt_8-> churn"
   ]
  },
  {
   "cell_type": "code",
   "execution_count": null,
   "metadata": {},
   "outputs": [],
   "source": [
    "# total_amt_6\ttotal_amt_7\ttotal_amt_8 days_since_last_rech\n",
    "df_amt = df_churn[['total_amt_6','total_amt_7','total_amt_8','days_since_last_rech']]\n",
    "df_amt_grp = df_amt.groupby('days_since_last_rech').mean()\n",
    "df_amt_grp.reset_index(inplace=True)\n",
    "sns.pairplot(df_amt_grp)"
   ]
  },
  {
   "cell_type": "code",
   "execution_count": null,
   "metadata": {},
   "outputs": [],
   "source": [
    "df_arpu = df_churn[['arpu_6','arpu_7','arpu_8','days_since_last_rech']]\n",
    "# print(df_arpu.head())\n",
    "\n",
    "df_arpu_grp = df_arpu.groupby(by='days_since_last_rech').sum()\n",
    "\n",
    "df_arpu_grp.reset_index(inplace=True)\n",
    "\n",
    "print(df_arpu_grp.columns)\n",
    "\n",
    "print(df_arpu_grp.head())\n",
    "\n",
    "sns.pairplot(df_arpu_grp)"
   ]
  },
  {
   "cell_type": "code",
   "execution_count": null,
   "metadata": {},
   "outputs": [],
   "source": []
  },
  {
   "cell_type": "code",
   "execution_count": null,
   "metadata": {},
   "outputs": [],
   "source": []
  },
  {
   "cell_type": "markdown",
   "metadata": {},
   "source": [
    "## Modelling"
   ]
  },
  {
   "cell_type": "code",
   "execution_count": null,
   "metadata": {},
   "outputs": [],
   "source": []
  },
  {
   "cell_type": "code",
   "execution_count": 4,
   "metadata": {},
   "outputs": [],
   "source": [
    "df_churn = pd.read_csv('telecom_churn_clean.csv')"
   ]
  },
  {
   "cell_type": "code",
   "execution_count": 5,
   "metadata": {},
   "outputs": [],
   "source": [
    "# df_churn.equals(df)"
   ]
  },
  {
   "cell_type": "code",
   "execution_count": 6,
   "metadata": {},
   "outputs": [
    {
     "data": {
      "text/html": [
       "<div>\n",
       "<style scoped>\n",
       "    .dataframe tbody tr th:only-of-type {\n",
       "        vertical-align: middle;\n",
       "    }\n",
       "\n",
       "    .dataframe tbody tr th {\n",
       "        vertical-align: top;\n",
       "    }\n",
       "\n",
       "    .dataframe thead th {\n",
       "        text-align: right;\n",
       "    }\n",
       "</style>\n",
       "<table border=\"1\" class=\"dataframe\">\n",
       "  <thead>\n",
       "    <tr style=\"text-align: right;\">\n",
       "      <th></th>\n",
       "      <th>mobile_number</th>\n",
       "      <th>arpu_6</th>\n",
       "      <th>arpu_7</th>\n",
       "      <th>arpu_8</th>\n",
       "      <th>onnet_mou_6</th>\n",
       "      <th>onnet_mou_7</th>\n",
       "      <th>onnet_mou_8</th>\n",
       "      <th>offnet_mou_6</th>\n",
       "      <th>offnet_mou_7</th>\n",
       "      <th>offnet_mou_8</th>\n",
       "      <th>...</th>\n",
       "      <th>sachet_3g_8</th>\n",
       "      <th>aug_vbc_3g</th>\n",
       "      <th>jul_vbc_3g</th>\n",
       "      <th>jun_vbc_3g</th>\n",
       "      <th>total_amt_6</th>\n",
       "      <th>total_amt_7</th>\n",
       "      <th>total_amt_8</th>\n",
       "      <th>churn</th>\n",
       "      <th>days_since_last_rech</th>\n",
       "      <th>aon_bin</th>\n",
       "    </tr>\n",
       "  </thead>\n",
       "  <tbody>\n",
       "    <tr>\n",
       "      <th>0</th>\n",
       "      <td>7000701601</td>\n",
       "      <td>1069.180</td>\n",
       "      <td>1349.850</td>\n",
       "      <td>3171.480</td>\n",
       "      <td>57.84</td>\n",
       "      <td>54.68</td>\n",
       "      <td>52.29</td>\n",
       "      <td>453.43</td>\n",
       "      <td>567.16</td>\n",
       "      <td>325.91</td>\n",
       "      <td>...</td>\n",
       "      <td>0</td>\n",
       "      <td>57.74</td>\n",
       "      <td>19.38</td>\n",
       "      <td>18.74</td>\n",
       "      <td>1580.0</td>\n",
       "      <td>790.0</td>\n",
       "      <td>3638.0</td>\n",
       "      <td>1</td>\n",
       "      <td>5.0</td>\n",
       "      <td>4</td>\n",
       "    </tr>\n",
       "    <tr>\n",
       "      <th>1</th>\n",
       "      <td>7001524846</td>\n",
       "      <td>378.721</td>\n",
       "      <td>492.223</td>\n",
       "      <td>137.362</td>\n",
       "      <td>413.69</td>\n",
       "      <td>351.03</td>\n",
       "      <td>35.08</td>\n",
       "      <td>94.66</td>\n",
       "      <td>80.63</td>\n",
       "      <td>136.48</td>\n",
       "      <td>...</td>\n",
       "      <td>0</td>\n",
       "      <td>21.03</td>\n",
       "      <td>910.65</td>\n",
       "      <td>122.16</td>\n",
       "      <td>437.0</td>\n",
       "      <td>955.0</td>\n",
       "      <td>327.0</td>\n",
       "      <td>0</td>\n",
       "      <td>1.0</td>\n",
       "      <td>1</td>\n",
       "    </tr>\n",
       "    <tr>\n",
       "      <th>2</th>\n",
       "      <td>7002124215</td>\n",
       "      <td>514.453</td>\n",
       "      <td>597.753</td>\n",
       "      <td>637.760</td>\n",
       "      <td>102.41</td>\n",
       "      <td>132.11</td>\n",
       "      <td>85.14</td>\n",
       "      <td>757.93</td>\n",
       "      <td>896.68</td>\n",
       "      <td>983.39</td>\n",
       "      <td>...</td>\n",
       "      <td>0</td>\n",
       "      <td>0.00</td>\n",
       "      <td>0.00</td>\n",
       "      <td>0.00</td>\n",
       "      <td>600.0</td>\n",
       "      <td>680.0</td>\n",
       "      <td>718.0</td>\n",
       "      <td>0</td>\n",
       "      <td>0.0</td>\n",
       "      <td>4</td>\n",
       "    </tr>\n",
       "    <tr>\n",
       "      <th>3</th>\n",
       "      <td>7000887461</td>\n",
       "      <td>74.350</td>\n",
       "      <td>193.897</td>\n",
       "      <td>366.966</td>\n",
       "      <td>48.96</td>\n",
       "      <td>50.66</td>\n",
       "      <td>33.58</td>\n",
       "      <td>85.41</td>\n",
       "      <td>89.36</td>\n",
       "      <td>205.89</td>\n",
       "      <td>...</td>\n",
       "      <td>1</td>\n",
       "      <td>40.45</td>\n",
       "      <td>51.86</td>\n",
       "      <td>0.00</td>\n",
       "      <td>0.0</td>\n",
       "      <td>1166.0</td>\n",
       "      <td>979.0</td>\n",
       "      <td>0</td>\n",
       "      <td>7.0</td>\n",
       "      <td>3</td>\n",
       "    </tr>\n",
       "    <tr>\n",
       "      <th>4</th>\n",
       "      <td>7000149764</td>\n",
       "      <td>977.020</td>\n",
       "      <td>2362.833</td>\n",
       "      <td>409.230</td>\n",
       "      <td>0.00</td>\n",
       "      <td>0.00</td>\n",
       "      <td>0.00</td>\n",
       "      <td>0.00</td>\n",
       "      <td>0.00</td>\n",
       "      <td>0.00</td>\n",
       "      <td>...</td>\n",
       "      <td>0</td>\n",
       "      <td>358.10</td>\n",
       "      <td>2706.83</td>\n",
       "      <td>1714.67</td>\n",
       "      <td>6343.0</td>\n",
       "      <td>23230.0</td>\n",
       "      <td>910.0</td>\n",
       "      <td>0</td>\n",
       "      <td>5.0</td>\n",
       "      <td>7</td>\n",
       "    </tr>\n",
       "  </tbody>\n",
       "</table>\n",
       "<p>5 rows × 127 columns</p>\n",
       "</div>"
      ],
      "text/plain": [
       "   mobile_number    arpu_6    arpu_7    arpu_8  onnet_mou_6  onnet_mou_7  \\\n",
       "0     7000701601  1069.180  1349.850  3171.480        57.84        54.68   \n",
       "1     7001524846   378.721   492.223   137.362       413.69       351.03   \n",
       "2     7002124215   514.453   597.753   637.760       102.41       132.11   \n",
       "3     7000887461    74.350   193.897   366.966        48.96        50.66   \n",
       "4     7000149764   977.020  2362.833   409.230         0.00         0.00   \n",
       "\n",
       "   onnet_mou_8  offnet_mou_6  offnet_mou_7  offnet_mou_8   ...     \\\n",
       "0        52.29        453.43        567.16        325.91   ...      \n",
       "1        35.08         94.66         80.63        136.48   ...      \n",
       "2        85.14        757.93        896.68        983.39   ...      \n",
       "3        33.58         85.41         89.36        205.89   ...      \n",
       "4         0.00          0.00          0.00          0.00   ...      \n",
       "\n",
       "   sachet_3g_8  aug_vbc_3g  jul_vbc_3g  jun_vbc_3g  total_amt_6  total_amt_7  \\\n",
       "0            0       57.74       19.38       18.74       1580.0        790.0   \n",
       "1            0       21.03      910.65      122.16        437.0        955.0   \n",
       "2            0        0.00        0.00        0.00        600.0        680.0   \n",
       "3            1       40.45       51.86        0.00          0.0       1166.0   \n",
       "4            0      358.10     2706.83     1714.67       6343.0      23230.0   \n",
       "\n",
       "   total_amt_8  churn  days_since_last_rech  aon_bin  \n",
       "0       3638.0      1                   5.0        4  \n",
       "1        327.0      0                   1.0        1  \n",
       "2        718.0      0                   0.0        4  \n",
       "3        979.0      0                   7.0        3  \n",
       "4        910.0      0                   5.0        7  \n",
       "\n",
       "[5 rows x 127 columns]"
      ]
     },
     "execution_count": 6,
     "metadata": {},
     "output_type": "execute_result"
    }
   ],
   "source": [
    "df_churn.head()"
   ]
  },
  {
   "cell_type": "code",
   "execution_count": 7,
   "metadata": {},
   "outputs": [
    {
     "name": "stdout",
     "output_type": "stream",
     "text": [
      "(28504, 127)\n",
      "<class 'pandas.core.frame.DataFrame'>\n",
      "RangeIndex: 28504 entries, 0 to 28503\n",
      "Data columns (total 127 columns):\n",
      "mobile_number           int64\n",
      "arpu_6                  float64\n",
      "arpu_7                  float64\n",
      "arpu_8                  float64\n",
      "onnet_mou_6             float64\n",
      "onnet_mou_7             float64\n",
      "onnet_mou_8             float64\n",
      "offnet_mou_6            float64\n",
      "offnet_mou_7            float64\n",
      "offnet_mou_8            float64\n",
      "roam_ic_mou_6           float64\n",
      "roam_ic_mou_7           float64\n",
      "roam_ic_mou_8           float64\n",
      "roam_og_mou_6           float64\n",
      "roam_og_mou_7           float64\n",
      "roam_og_mou_8           float64\n",
      "loc_og_t2t_mou_6        float64\n",
      "loc_og_t2t_mou_7        float64\n",
      "loc_og_t2t_mou_8        float64\n",
      "loc_og_t2m_mou_6        float64\n",
      "loc_og_t2m_mou_7        float64\n",
      "loc_og_t2m_mou_8        float64\n",
      "loc_og_t2f_mou_6        float64\n",
      "loc_og_t2f_mou_7        float64\n",
      "loc_og_t2f_mou_8        float64\n",
      "loc_og_t2c_mou_6        float64\n",
      "loc_og_t2c_mou_7        float64\n",
      "loc_og_t2c_mou_8        float64\n",
      "loc_og_mou_6            float64\n",
      "loc_og_mou_7            float64\n",
      "loc_og_mou_8            float64\n",
      "std_og_t2t_mou_6        float64\n",
      "std_og_t2t_mou_7        float64\n",
      "std_og_t2t_mou_8        float64\n",
      "std_og_t2m_mou_6        float64\n",
      "std_og_t2m_mou_7        float64\n",
      "std_og_t2m_mou_8        float64\n",
      "std_og_t2f_mou_6        float64\n",
      "std_og_t2f_mou_7        float64\n",
      "std_og_t2f_mou_8        float64\n",
      "std_og_mou_6            float64\n",
      "std_og_mou_7            float64\n",
      "std_og_mou_8            float64\n",
      "isd_og_mou_6            float64\n",
      "isd_og_mou_7            float64\n",
      "isd_og_mou_8            float64\n",
      "spl_og_mou_6            float64\n",
      "spl_og_mou_7            float64\n",
      "spl_og_mou_8            float64\n",
      "og_others_6             float64\n",
      "og_others_7             float64\n",
      "og_others_8             float64\n",
      "total_og_mou_6          float64\n",
      "total_og_mou_7          float64\n",
      "total_og_mou_8          float64\n",
      "loc_ic_t2t_mou_6        float64\n",
      "loc_ic_t2t_mou_7        float64\n",
      "loc_ic_t2t_mou_8        float64\n",
      "loc_ic_t2m_mou_6        float64\n",
      "loc_ic_t2m_mou_7        float64\n",
      "loc_ic_t2m_mou_8        float64\n",
      "loc_ic_t2f_mou_6        float64\n",
      "loc_ic_t2f_mou_7        float64\n",
      "loc_ic_t2f_mou_8        float64\n",
      "loc_ic_mou_6            float64\n",
      "loc_ic_mou_7            float64\n",
      "loc_ic_mou_8            float64\n",
      "std_ic_t2t_mou_6        float64\n",
      "std_ic_t2t_mou_7        float64\n",
      "std_ic_t2t_mou_8        float64\n",
      "std_ic_t2m_mou_6        float64\n",
      "std_ic_t2m_mou_7        float64\n",
      "std_ic_t2m_mou_8        float64\n",
      "std_ic_t2f_mou_6        float64\n",
      "std_ic_t2f_mou_7        float64\n",
      "std_ic_t2f_mou_8        float64\n",
      "std_ic_mou_6            float64\n",
      "std_ic_mou_7            float64\n",
      "std_ic_mou_8            float64\n",
      "total_ic_mou_6          float64\n",
      "total_ic_mou_7          float64\n",
      "total_ic_mou_8          float64\n",
      "spl_ic_mou_6            float64\n",
      "spl_ic_mou_7            float64\n",
      "spl_ic_mou_8            float64\n",
      "isd_ic_mou_6            float64\n",
      "isd_ic_mou_7            float64\n",
      "isd_ic_mou_8            float64\n",
      "ic_others_6             float64\n",
      "ic_others_7             float64\n",
      "ic_others_8             float64\n",
      "total_rech_num_6        int64\n",
      "total_rech_num_7        int64\n",
      "total_rech_num_8        int64\n",
      "max_rech_amt_6          int64\n",
      "max_rech_amt_7          int64\n",
      "max_rech_amt_8          int64\n",
      "last_day_rch_amt_6      int64\n",
      "last_day_rch_amt_7      int64\n",
      "last_day_rch_amt_8      int64\n",
      "vol_2g_mb_6             float64\n",
      "vol_2g_mb_7             float64\n",
      "vol_2g_mb_8             float64\n",
      "vol_3g_mb_6             float64\n",
      "vol_3g_mb_7             float64\n",
      "vol_3g_mb_8             float64\n",
      "monthly_2g_6            int64\n",
      "monthly_2g_7            int64\n",
      "monthly_2g_8            int64\n",
      "sachet_2g_6             int64\n",
      "sachet_2g_7             int64\n",
      "sachet_2g_8             int64\n",
      "monthly_3g_6            int64\n",
      "monthly_3g_7            int64\n",
      "monthly_3g_8            int64\n",
      "sachet_3g_6             int64\n",
      "sachet_3g_7             int64\n",
      "sachet_3g_8             int64\n",
      "aug_vbc_3g              float64\n",
      "jul_vbc_3g              float64\n",
      "jun_vbc_3g              float64\n",
      "total_amt_6             float64\n",
      "total_amt_7             float64\n",
      "total_amt_8             float64\n",
      "churn                   int64\n",
      "days_since_last_rech    float64\n",
      "aon_bin                 int64\n",
      "dtypes: float64(103), int64(24)\n",
      "memory usage: 27.6 MB\n"
     ]
    }
   ],
   "source": [
    "print(df_churn.shape)\n",
    "df_churn.info(verbose=1)"
   ]
  },
  {
   "cell_type": "markdown",
   "metadata": {},
   "source": [
    "* Target Variable - CHURN\n",
    "* Unique Variable - MOBILE NUMBER\n",
    "* Rest all - Independent Variable\n",
    "\n",
    "> Mobile number can be dropped as its a identifier variable"
   ]
  },
  {
   "cell_type": "code",
   "execution_count": 8,
   "metadata": {},
   "outputs": [],
   "source": [
    "df_churn.drop(labels='mobile_number', axis=1, inplace=True)"
   ]
  },
  {
   "cell_type": "code",
   "execution_count": 9,
   "metadata": {},
   "outputs": [],
   "source": [
    "X = df_churn.drop(labels='churn', axis=1)\n",
    "y = df_churn['churn']"
   ]
  },
  {
   "cell_type": "code",
   "execution_count": null,
   "metadata": {},
   "outputs": [],
   "source": []
  },
  {
   "cell_type": "code",
   "execution_count": 10,
   "metadata": {},
   "outputs": [
    {
     "data": {
      "text/plain": [
       "Index(['arpu_6', 'arpu_7', 'arpu_8', 'onnet_mou_6', 'onnet_mou_7',\n",
       "       'onnet_mou_8', 'offnet_mou_6', 'offnet_mou_7', 'offnet_mou_8',\n",
       "       'roam_ic_mou_6',\n",
       "       ...\n",
       "       'sachet_3g_7', 'sachet_3g_8', 'aug_vbc_3g', 'jul_vbc_3g', 'jun_vbc_3g',\n",
       "       'total_amt_6', 'total_amt_7', 'total_amt_8', 'days_since_last_rech',\n",
       "       'aon_bin'],\n",
       "      dtype='object', length=125)"
      ]
     },
     "execution_count": 10,
     "metadata": {},
     "output_type": "execute_result"
    }
   ],
   "source": [
    "X.columns"
   ]
  },
  {
   "cell_type": "code",
   "execution_count": null,
   "metadata": {},
   "outputs": [],
   "source": []
  },
  {
   "cell_type": "code",
   "execution_count": null,
   "metadata": {},
   "outputs": [],
   "source": []
  },
  {
   "cell_type": "markdown",
   "metadata": {},
   "source": [
    "* lets observe the target variable (churn)"
   ]
  },
  {
   "cell_type": "code",
   "execution_count": 11,
   "metadata": {},
   "outputs": [
    {
     "data": {
      "text/plain": [
       "0    26908\n",
       "1     1596\n",
       "Name: churn, dtype: int64"
      ]
     },
     "execution_count": 11,
     "metadata": {},
     "output_type": "execute_result"
    }
   ],
   "source": [
    "y.value_counts()"
   ]
  },
  {
   "cell_type": "code",
   "execution_count": 12,
   "metadata": {},
   "outputs": [
    {
     "data": {
      "text/plain": [
       "0    0.944008\n",
       "1    0.055992\n",
       "Name: churn, dtype: float64"
      ]
     },
     "execution_count": 12,
     "metadata": {},
     "output_type": "execute_result"
    }
   ],
   "source": [
    "y.value_counts(normalize=True)"
   ]
  },
  {
   "cell_type": "markdown",
   "metadata": {},
   "source": [
    "> There is huge imbalance in the target variable; It consists only 5% of the total data\n",
    "\n",
    "So before applying, PCA and any other classification model, we need to tackle the imbalance of the Target variable\n",
    "* Here, we are choosing to apply SMOTE(Synthetic Minority Over-sampling Technique) analysis\n",
    "\n",
    "Modelling Procedure - \n",
    "1. Apply StandardScaler\n",
    "2. Split data for train and test\n",
    "3. Apply SMOTE\n",
    "4. Apply PCA\n",
    "5. Apply LogisticRegression and SVM for classification\n",
    "6. Compare metrics and decide on the model"
   ]
  },
  {
   "cell_type": "code",
   "execution_count": 13,
   "metadata": {},
   "outputs": [],
   "source": [
    "# scaler = StandardScaler().fit(X)\n",
    "\n",
    "# Xscaled = scaler.transform(X)"
   ]
  },
  {
   "cell_type": "code",
   "execution_count": 16,
   "metadata": {},
   "outputs": [],
   "source": [
    "scaler = StandardScaler()\n",
    "\n",
    "Xscaled = scaler.fit_transform(X)"
   ]
  },
  {
   "cell_type": "code",
   "execution_count": 17,
   "metadata": {},
   "outputs": [],
   "source": [
    "Xscaled = pd.DataFrame(Xscaled, index=X.index, columns=X.columns)"
   ]
  },
  {
   "cell_type": "code",
   "execution_count": 18,
   "metadata": {},
   "outputs": [
    {
     "data": {
      "text/plain": [
       "Index(['arpu_6', 'arpu_7', 'arpu_8', 'onnet_mou_6', 'onnet_mou_7',\n",
       "       'onnet_mou_8', 'offnet_mou_6', 'offnet_mou_7', 'offnet_mou_8',\n",
       "       'roam_ic_mou_6',\n",
       "       ...\n",
       "       'sachet_3g_7', 'sachet_3g_8', 'aug_vbc_3g', 'jul_vbc_3g', 'jun_vbc_3g',\n",
       "       'total_amt_6', 'total_amt_7', 'total_amt_8', 'days_since_last_rech',\n",
       "       'aon_bin'],\n",
       "      dtype='object', length=125)"
      ]
     },
     "execution_count": 18,
     "metadata": {},
     "output_type": "execute_result"
    }
   ],
   "source": [
    "Xscaled.columns"
   ]
  },
  {
   "cell_type": "code",
   "execution_count": 19,
   "metadata": {},
   "outputs": [],
   "source": [
    "X_train, X_test, y_train, y_test = train_test_split(Xscaled,y, train_size=0.7,random_state=42)"
   ]
  },
  {
   "cell_type": "code",
   "execution_count": 20,
   "metadata": {},
   "outputs": [
    {
     "name": "stdout",
     "output_type": "stream",
     "text": [
      "(19952, 125)\n",
      "(8552, 125)\n"
     ]
    }
   ],
   "source": [
    "print(X_train.shape)\n",
    "print(X_test.shape)"
   ]
  },
  {
   "cell_type": "code",
   "execution_count": 21,
   "metadata": {},
   "outputs": [
    {
     "name": "stdout",
     "output_type": "stream",
     "text": [
      "Train Data Imbalance =\n",
      " 0    18798\n",
      "1     1154\n",
      "Name: churn, dtype: int64\n",
      "--------------------------------------------------\n",
      "TEst Data Imbalance =\n",
      " 0    8110\n",
      "1     442\n",
      "Name: churn, dtype: int64\n"
     ]
    }
   ],
   "source": [
    "print(\"Train Data Imbalance =\\n\", y_train.value_counts())\n",
    "print('-'*50)\n",
    "print(\"TEst Data Imbalance =\\n\",y_test.value_counts())"
   ]
  },
  {
   "cell_type": "code",
   "execution_count": 22,
   "metadata": {},
   "outputs": [
    {
     "name": "stdout",
     "output_type": "stream",
     "text": [
      "Train Data Imbalance =\n",
      " 0    94.216119\n",
      "1     5.783881\n",
      "Name: churn, dtype: float64\n",
      "--------------------------------------------------\n",
      "TEst Data Imbalance =\n",
      " 0    94.831618\n",
      "1     5.168382\n",
      "Name: churn, dtype: float64\n"
     ]
    }
   ],
   "source": [
    "print(\"Train Data Imbalance =\\n\", y_train.value_counts(normalize=True)*100)\n",
    "print('-'*50)\n",
    "print(\"TEst Data Imbalance =\\n\",y_test.value_counts(normalize=True)*100)"
   ]
  },
  {
   "cell_type": "markdown",
   "metadata": {},
   "source": [
    "### Apply SMOTE"
   ]
  },
  {
   "cell_type": "code",
   "execution_count": 23,
   "metadata": {},
   "outputs": [],
   "source": [
    "sm = SMOTE(random_state=42)"
   ]
  },
  {
   "cell_type": "code",
   "execution_count": 24,
   "metadata": {},
   "outputs": [],
   "source": [
    "X_train_smote,y_train_smote = sm.fit_sample(X_train,y_train)"
   ]
  },
  {
   "cell_type": "code",
   "execution_count": 25,
   "metadata": {},
   "outputs": [
    {
     "name": "stdout",
     "output_type": "stream",
     "text": [
      "(37596, 125)\n",
      "(37596,)\n"
     ]
    }
   ],
   "source": [
    "print(X_train_smote.shape)\n",
    "print(y_train_smote.shape)"
   ]
  },
  {
   "cell_type": "code",
   "execution_count": 26,
   "metadata": {},
   "outputs": [
    {
     "name": "stdout",
     "output_type": "stream",
     "text": [
      "18798\n",
      "18798\n"
     ]
    }
   ],
   "source": [
    "print(len(y_train_smote)-np.count_nonzero(y_train_smote))\n",
    "print(len(y_train)-np.count_nonzero(y_train))"
   ]
  },
  {
   "cell_type": "code",
   "execution_count": 27,
   "metadata": {},
   "outputs": [
    {
     "data": {
      "text/plain": [
       "array([0, 1], dtype=int64)"
      ]
     },
     "execution_count": 27,
     "metadata": {},
     "output_type": "execute_result"
    }
   ],
   "source": [
    "np.unique(y_train_smote)"
   ]
  },
  {
   "cell_type": "code",
   "execution_count": null,
   "metadata": {},
   "outputs": [],
   "source": []
  },
  {
   "cell_type": "code",
   "execution_count": 28,
   "metadata": {},
   "outputs": [
    {
     "name": "stdout",
     "output_type": "stream",
     "text": [
      "1.0\n"
     ]
    }
   ],
   "source": [
    "print((y_train_smote != 0).sum()/(y_train_smote == 0).sum())"
   ]
  },
  {
   "cell_type": "markdown",
   "metadata": {},
   "source": [
    "> After applying SMOTE, we can observe both the classes have same number of samples"
   ]
  },
  {
   "cell_type": "markdown",
   "metadata": {},
   "source": [
    "### Apply PCA"
   ]
  },
  {
   "cell_type": "code",
   "execution_count": 29,
   "metadata": {},
   "outputs": [],
   "source": [
    "pca = PCA(random_state=42, svd_solver='randomized')"
   ]
  },
  {
   "cell_type": "code",
   "execution_count": 30,
   "metadata": {},
   "outputs": [
    {
     "data": {
      "text/plain": [
       "PCA(copy=True, iterated_power='auto', n_components=None, random_state=42,\n",
       "  svd_solver='randomized', tol=0.0, whiten=False)"
      ]
     },
     "execution_count": 30,
     "metadata": {},
     "output_type": "execute_result"
    }
   ],
   "source": [
    "pca.fit(X_train_smote)"
   ]
  },
  {
   "cell_type": "code",
   "execution_count": 31,
   "metadata": {},
   "outputs": [
    {
     "data": {
      "text/plain": [
       "array([[ 1.59842820e-01,  1.64297258e-01,  1.23006279e-01, ...,\n",
       "         1.40640165e-02, -4.29614175e-02, -1.11598538e-02],\n",
       "       [ 2.62969809e-02,  3.67603722e-02,  7.55588012e-02, ...,\n",
       "         4.24107804e-02,  6.78202996e-03,  6.91527584e-02],\n",
       "       [-5.59500962e-03, -2.17248272e-02, -5.37338190e-02, ...,\n",
       "        -3.53972436e-02,  8.59224048e-03, -6.14624315e-02],\n",
       "       ...,\n",
       "       [ 2.01435826e-07,  2.35720055e-07, -1.55311287e-08, ...,\n",
       "        -7.59360921e-08,  1.57169546e-07, -2.27516458e-07],\n",
       "       [-2.59684896e-07,  1.71495685e-07, -5.38067388e-08, ...,\n",
       "        -6.44961218e-08, -1.03317432e-08,  1.82798459e-08],\n",
       "       [ 3.01394343e-07, -5.77158496e-08,  8.14024038e-08, ...,\n",
       "         3.82699300e-08,  2.95027364e-08, -8.57724828e-08]])"
      ]
     },
     "execution_count": 31,
     "metadata": {},
     "output_type": "execute_result"
    }
   ],
   "source": [
    "pca.components_"
   ]
  },
  {
   "cell_type": "code",
   "execution_count": 32,
   "metadata": {},
   "outputs": [
    {
     "data": {
      "text/plain": [
       "125"
      ]
     },
     "execution_count": 32,
     "metadata": {},
     "output_type": "execute_result"
    }
   ],
   "source": [
    "len(pca.components_)"
   ]
  },
  {
   "cell_type": "code",
   "execution_count": 33,
   "metadata": {},
   "outputs": [
    {
     "data": {
      "text/html": [
       "<div>\n",
       "<style scoped>\n",
       "    .dataframe tbody tr th:only-of-type {\n",
       "        vertical-align: middle;\n",
       "    }\n",
       "\n",
       "    .dataframe tbody tr th {\n",
       "        vertical-align: top;\n",
       "    }\n",
       "\n",
       "    .dataframe thead th {\n",
       "        text-align: right;\n",
       "    }\n",
       "</style>\n",
       "<table border=\"1\" class=\"dataframe\">\n",
       "  <thead>\n",
       "    <tr style=\"text-align: right;\">\n",
       "      <th></th>\n",
       "      <th>Feature</th>\n",
       "      <th>PC1</th>\n",
       "      <th>PC2</th>\n",
       "    </tr>\n",
       "  </thead>\n",
       "  <tbody>\n",
       "    <tr>\n",
       "      <th>0</th>\n",
       "      <td>arpu_6</td>\n",
       "      <td>0.159843</td>\n",
       "      <td>0.026297</td>\n",
       "    </tr>\n",
       "    <tr>\n",
       "      <th>1</th>\n",
       "      <td>arpu_7</td>\n",
       "      <td>0.164297</td>\n",
       "      <td>0.036760</td>\n",
       "    </tr>\n",
       "    <tr>\n",
       "      <th>2</th>\n",
       "      <td>arpu_8</td>\n",
       "      <td>0.123006</td>\n",
       "      <td>0.075559</td>\n",
       "    </tr>\n",
       "    <tr>\n",
       "      <th>3</th>\n",
       "      <td>onnet_mou_6</td>\n",
       "      <td>0.175951</td>\n",
       "      <td>-0.099463</td>\n",
       "    </tr>\n",
       "    <tr>\n",
       "      <th>4</th>\n",
       "      <td>onnet_mou_7</td>\n",
       "      <td>0.184929</td>\n",
       "      <td>-0.090089</td>\n",
       "    </tr>\n",
       "  </tbody>\n",
       "</table>\n",
       "</div>"
      ],
      "text/plain": [
       "       Feature       PC1       PC2\n",
       "0       arpu_6  0.159843  0.026297\n",
       "1       arpu_7  0.164297  0.036760\n",
       "2       arpu_8  0.123006  0.075559\n",
       "3  onnet_mou_6  0.175951 -0.099463\n",
       "4  onnet_mou_7  0.184929 -0.090089"
      ]
     },
     "execution_count": 33,
     "metadata": {},
     "output_type": "execute_result"
    }
   ],
   "source": [
    "colnames = list(X_train.columns)\n",
    "pcs_df = pd.DataFrame({'PC1':pca.components_[0],'PC2':pca.components_[1], 'Feature':colnames})\n",
    "pcs_df.head()"
   ]
  },
  {
   "cell_type": "code",
   "execution_count": 34,
   "metadata": {},
   "outputs": [
    {
     "data": {
      "text/html": [
       "<div>\n",
       "<style scoped>\n",
       "    .dataframe tbody tr th:only-of-type {\n",
       "        vertical-align: middle;\n",
       "    }\n",
       "\n",
       "    .dataframe tbody tr th {\n",
       "        vertical-align: top;\n",
       "    }\n",
       "\n",
       "    .dataframe thead th {\n",
       "        text-align: right;\n",
       "    }\n",
       "</style>\n",
       "<table border=\"1\" class=\"dataframe\">\n",
       "  <thead>\n",
       "    <tr style=\"text-align: right;\">\n",
       "      <th></th>\n",
       "      <th>Feature</th>\n",
       "      <th>PC1</th>\n",
       "      <th>PC2</th>\n",
       "      <th>PC3</th>\n",
       "    </tr>\n",
       "  </thead>\n",
       "  <tbody>\n",
       "    <tr>\n",
       "      <th>0</th>\n",
       "      <td>arpu_6</td>\n",
       "      <td>0.159843</td>\n",
       "      <td>0.026297</td>\n",
       "      <td>-0.005595</td>\n",
       "    </tr>\n",
       "    <tr>\n",
       "      <th>1</th>\n",
       "      <td>arpu_7</td>\n",
       "      <td>0.164297</td>\n",
       "      <td>0.036760</td>\n",
       "      <td>-0.021725</td>\n",
       "    </tr>\n",
       "    <tr>\n",
       "      <th>2</th>\n",
       "      <td>arpu_8</td>\n",
       "      <td>0.123006</td>\n",
       "      <td>0.075559</td>\n",
       "      <td>-0.053734</td>\n",
       "    </tr>\n",
       "    <tr>\n",
       "      <th>3</th>\n",
       "      <td>onnet_mou_6</td>\n",
       "      <td>0.175951</td>\n",
       "      <td>-0.099463</td>\n",
       "      <td>0.018486</td>\n",
       "    </tr>\n",
       "    <tr>\n",
       "      <th>4</th>\n",
       "      <td>onnet_mou_7</td>\n",
       "      <td>0.184929</td>\n",
       "      <td>-0.090089</td>\n",
       "      <td>0.006189</td>\n",
       "    </tr>\n",
       "  </tbody>\n",
       "</table>\n",
       "</div>"
      ],
      "text/plain": [
       "       Feature       PC1       PC2       PC3\n",
       "0       arpu_6  0.159843  0.026297 -0.005595\n",
       "1       arpu_7  0.164297  0.036760 -0.021725\n",
       "2       arpu_8  0.123006  0.075559 -0.053734\n",
       "3  onnet_mou_6  0.175951 -0.099463  0.018486\n",
       "4  onnet_mou_7  0.184929 -0.090089  0.006189"
      ]
     },
     "execution_count": 34,
     "metadata": {},
     "output_type": "execute_result"
    }
   ],
   "source": [
    "colnames = list(X_train.columns)\n",
    "pcs_df1 = pd.DataFrame({'PC1':pca.components_[0],'PC2':pca.components_[1], 'PC3':pca.components_[2],'Feature':colnames})\n",
    "pcs_df1.head()"
   ]
  },
  {
   "cell_type": "code",
   "execution_count": 35,
   "metadata": {},
   "outputs": [
    {
     "data": {
      "text/html": [
       "<div>\n",
       "<style scoped>\n",
       "    .dataframe tbody tr th:only-of-type {\n",
       "        vertical-align: middle;\n",
       "    }\n",
       "\n",
       "    .dataframe tbody tr th {\n",
       "        vertical-align: top;\n",
       "    }\n",
       "\n",
       "    .dataframe thead th {\n",
       "        text-align: right;\n",
       "    }\n",
       "</style>\n",
       "<table border=\"1\" class=\"dataframe\">\n",
       "  <thead>\n",
       "    <tr style=\"text-align: right;\">\n",
       "      <th></th>\n",
       "      <th>Feature</th>\n",
       "      <th>PC1</th>\n",
       "      <th>PC2</th>\n",
       "    </tr>\n",
       "  </thead>\n",
       "  <tbody>\n",
       "    <tr>\n",
       "      <th>0</th>\n",
       "      <td>arpu_6</td>\n",
       "      <td>0.159843</td>\n",
       "      <td>0.026297</td>\n",
       "    </tr>\n",
       "    <tr>\n",
       "      <th>1</th>\n",
       "      <td>arpu_7</td>\n",
       "      <td>0.164297</td>\n",
       "      <td>0.036760</td>\n",
       "    </tr>\n",
       "    <tr>\n",
       "      <th>2</th>\n",
       "      <td>arpu_8</td>\n",
       "      <td>0.123006</td>\n",
       "      <td>0.075559</td>\n",
       "    </tr>\n",
       "    <tr>\n",
       "      <th>3</th>\n",
       "      <td>onnet_mou_6</td>\n",
       "      <td>0.175951</td>\n",
       "      <td>-0.099463</td>\n",
       "    </tr>\n",
       "    <tr>\n",
       "      <th>4</th>\n",
       "      <td>onnet_mou_7</td>\n",
       "      <td>0.184929</td>\n",
       "      <td>-0.090089</td>\n",
       "    </tr>\n",
       "    <tr>\n",
       "      <th>5</th>\n",
       "      <td>onnet_mou_8</td>\n",
       "      <td>0.137331</td>\n",
       "      <td>-0.035256</td>\n",
       "    </tr>\n",
       "    <tr>\n",
       "      <th>6</th>\n",
       "      <td>offnet_mou_6</td>\n",
       "      <td>0.205924</td>\n",
       "      <td>-0.027702</td>\n",
       "    </tr>\n",
       "    <tr>\n",
       "      <th>7</th>\n",
       "      <td>offnet_mou_7</td>\n",
       "      <td>0.214039</td>\n",
       "      <td>-0.019665</td>\n",
       "    </tr>\n",
       "    <tr>\n",
       "      <th>8</th>\n",
       "      <td>offnet_mou_8</td>\n",
       "      <td>0.144747</td>\n",
       "      <td>0.022709</td>\n",
       "    </tr>\n",
       "    <tr>\n",
       "      <th>9</th>\n",
       "      <td>roam_ic_mou_6</td>\n",
       "      <td>-0.014396</td>\n",
       "      <td>0.036627</td>\n",
       "    </tr>\n",
       "    <tr>\n",
       "      <th>10</th>\n",
       "      <td>roam_ic_mou_7</td>\n",
       "      <td>-0.027681</td>\n",
       "      <td>0.035256</td>\n",
       "    </tr>\n",
       "    <tr>\n",
       "      <th>11</th>\n",
       "      <td>roam_ic_mou_8</td>\n",
       "      <td>-0.003236</td>\n",
       "      <td>0.024056</td>\n",
       "    </tr>\n",
       "    <tr>\n",
       "      <th>12</th>\n",
       "      <td>roam_og_mou_6</td>\n",
       "      <td>0.000244</td>\n",
       "      <td>0.031975</td>\n",
       "    </tr>\n",
       "    <tr>\n",
       "      <th>13</th>\n",
       "      <td>roam_og_mou_7</td>\n",
       "      <td>0.004086</td>\n",
       "      <td>0.025863</td>\n",
       "    </tr>\n",
       "    <tr>\n",
       "      <th>14</th>\n",
       "      <td>roam_og_mou_8</td>\n",
       "      <td>0.036993</td>\n",
       "      <td>0.041308</td>\n",
       "    </tr>\n",
       "    <tr>\n",
       "      <th>15</th>\n",
       "      <td>loc_og_t2t_mou_6</td>\n",
       "      <td>0.051695</td>\n",
       "      <td>0.046872</td>\n",
       "    </tr>\n",
       "    <tr>\n",
       "      <th>16</th>\n",
       "      <td>loc_og_t2t_mou_7</td>\n",
       "      <td>0.056362</td>\n",
       "      <td>0.045945</td>\n",
       "    </tr>\n",
       "    <tr>\n",
       "      <th>17</th>\n",
       "      <td>loc_og_t2t_mou_8</td>\n",
       "      <td>0.051429</td>\n",
       "      <td>0.047249</td>\n",
       "    </tr>\n",
       "    <tr>\n",
       "      <th>18</th>\n",
       "      <td>loc_og_t2m_mou_6</td>\n",
       "      <td>0.061177</td>\n",
       "      <td>0.090351</td>\n",
       "    </tr>\n",
       "    <tr>\n",
       "      <th>19</th>\n",
       "      <td>loc_og_t2m_mou_7</td>\n",
       "      <td>0.066989</td>\n",
       "      <td>0.096508</td>\n",
       "    </tr>\n",
       "    <tr>\n",
       "      <th>20</th>\n",
       "      <td>loc_og_t2m_mou_8</td>\n",
       "      <td>0.053888</td>\n",
       "      <td>0.096131</td>\n",
       "    </tr>\n",
       "    <tr>\n",
       "      <th>21</th>\n",
       "      <td>loc_og_t2f_mou_6</td>\n",
       "      <td>0.096518</td>\n",
       "      <td>0.292568</td>\n",
       "    </tr>\n",
       "    <tr>\n",
       "      <th>22</th>\n",
       "      <td>loc_og_t2f_mou_7</td>\n",
       "      <td>0.081619</td>\n",
       "      <td>0.254735</td>\n",
       "    </tr>\n",
       "    <tr>\n",
       "      <th>23</th>\n",
       "      <td>loc_og_t2f_mou_8</td>\n",
       "      <td>0.018729</td>\n",
       "      <td>0.080727</td>\n",
       "    </tr>\n",
       "    <tr>\n",
       "      <th>24</th>\n",
       "      <td>loc_og_t2c_mou_6</td>\n",
       "      <td>0.020973</td>\n",
       "      <td>-0.001492</td>\n",
       "    </tr>\n",
       "    <tr>\n",
       "      <th>25</th>\n",
       "      <td>loc_og_t2c_mou_7</td>\n",
       "      <td>0.025972</td>\n",
       "      <td>-0.005194</td>\n",
       "    </tr>\n",
       "    <tr>\n",
       "      <th>26</th>\n",
       "      <td>loc_og_t2c_mou_8</td>\n",
       "      <td>0.022730</td>\n",
       "      <td>0.000679</td>\n",
       "    </tr>\n",
       "    <tr>\n",
       "      <th>27</th>\n",
       "      <td>loc_og_mou_6</td>\n",
       "      <td>0.077486</td>\n",
       "      <td>0.105374</td>\n",
       "    </tr>\n",
       "    <tr>\n",
       "      <th>28</th>\n",
       "      <td>loc_og_mou_7</td>\n",
       "      <td>0.084197</td>\n",
       "      <td>0.106620</td>\n",
       "    </tr>\n",
       "    <tr>\n",
       "      <th>29</th>\n",
       "      <td>loc_og_mou_8</td>\n",
       "      <td>0.068078</td>\n",
       "      <td>0.095946</td>\n",
       "    </tr>\n",
       "    <tr>\n",
       "      <th>...</th>\n",
       "      <td>...</td>\n",
       "      <td>...</td>\n",
       "      <td>...</td>\n",
       "    </tr>\n",
       "    <tr>\n",
       "      <th>95</th>\n",
       "      <td>max_rech_amt_8</td>\n",
       "      <td>0.038676</td>\n",
       "      <td>0.124471</td>\n",
       "    </tr>\n",
       "    <tr>\n",
       "      <th>96</th>\n",
       "      <td>last_day_rch_amt_6</td>\n",
       "      <td>0.035119</td>\n",
       "      <td>0.089959</td>\n",
       "    </tr>\n",
       "    <tr>\n",
       "      <th>97</th>\n",
       "      <td>last_day_rch_amt_7</td>\n",
       "      <td>0.027020</td>\n",
       "      <td>0.063188</td>\n",
       "    </tr>\n",
       "    <tr>\n",
       "      <th>98</th>\n",
       "      <td>last_day_rch_amt_8</td>\n",
       "      <td>0.023336</td>\n",
       "      <td>0.098234</td>\n",
       "    </tr>\n",
       "    <tr>\n",
       "      <th>99</th>\n",
       "      <td>vol_2g_mb_6</td>\n",
       "      <td>-0.059179</td>\n",
       "      <td>0.012406</td>\n",
       "    </tr>\n",
       "    <tr>\n",
       "      <th>100</th>\n",
       "      <td>vol_2g_mb_7</td>\n",
       "      <td>-0.056681</td>\n",
       "      <td>0.010987</td>\n",
       "    </tr>\n",
       "    <tr>\n",
       "      <th>101</th>\n",
       "      <td>vol_2g_mb_8</td>\n",
       "      <td>-0.035931</td>\n",
       "      <td>0.015078</td>\n",
       "    </tr>\n",
       "    <tr>\n",
       "      <th>102</th>\n",
       "      <td>vol_3g_mb_6</td>\n",
       "      <td>-0.047017</td>\n",
       "      <td>0.052168</td>\n",
       "    </tr>\n",
       "    <tr>\n",
       "      <th>103</th>\n",
       "      <td>vol_3g_mb_7</td>\n",
       "      <td>-0.044396</td>\n",
       "      <td>0.053334</td>\n",
       "    </tr>\n",
       "    <tr>\n",
       "      <th>104</th>\n",
       "      <td>vol_3g_mb_8</td>\n",
       "      <td>-0.032817</td>\n",
       "      <td>0.048427</td>\n",
       "    </tr>\n",
       "    <tr>\n",
       "      <th>105</th>\n",
       "      <td>monthly_2g_6</td>\n",
       "      <td>-0.044691</td>\n",
       "      <td>0.034688</td>\n",
       "    </tr>\n",
       "    <tr>\n",
       "      <th>106</th>\n",
       "      <td>monthly_2g_7</td>\n",
       "      <td>-0.043651</td>\n",
       "      <td>0.034679</td>\n",
       "    </tr>\n",
       "    <tr>\n",
       "      <th>107</th>\n",
       "      <td>monthly_2g_8</td>\n",
       "      <td>-0.031082</td>\n",
       "      <td>0.032912</td>\n",
       "    </tr>\n",
       "    <tr>\n",
       "      <th>108</th>\n",
       "      <td>sachet_2g_6</td>\n",
       "      <td>-0.070904</td>\n",
       "      <td>-0.009397</td>\n",
       "    </tr>\n",
       "    <tr>\n",
       "      <th>109</th>\n",
       "      <td>sachet_2g_7</td>\n",
       "      <td>-0.066192</td>\n",
       "      <td>-0.007842</td>\n",
       "    </tr>\n",
       "    <tr>\n",
       "      <th>110</th>\n",
       "      <td>sachet_2g_8</td>\n",
       "      <td>-0.038896</td>\n",
       "      <td>-0.000647</td>\n",
       "    </tr>\n",
       "    <tr>\n",
       "      <th>111</th>\n",
       "      <td>monthly_3g_6</td>\n",
       "      <td>-0.029652</td>\n",
       "      <td>0.054390</td>\n",
       "    </tr>\n",
       "    <tr>\n",
       "      <th>112</th>\n",
       "      <td>monthly_3g_7</td>\n",
       "      <td>-0.027994</td>\n",
       "      <td>0.053647</td>\n",
       "    </tr>\n",
       "    <tr>\n",
       "      <th>113</th>\n",
       "      <td>monthly_3g_8</td>\n",
       "      <td>-0.022897</td>\n",
       "      <td>0.049702</td>\n",
       "    </tr>\n",
       "    <tr>\n",
       "      <th>114</th>\n",
       "      <td>sachet_3g_6</td>\n",
       "      <td>-0.041746</td>\n",
       "      <td>0.005734</td>\n",
       "    </tr>\n",
       "    <tr>\n",
       "      <th>115</th>\n",
       "      <td>sachet_3g_7</td>\n",
       "      <td>-0.038280</td>\n",
       "      <td>0.007983</td>\n",
       "    </tr>\n",
       "    <tr>\n",
       "      <th>116</th>\n",
       "      <td>sachet_3g_8</td>\n",
       "      <td>-0.020956</td>\n",
       "      <td>0.008276</td>\n",
       "    </tr>\n",
       "    <tr>\n",
       "      <th>117</th>\n",
       "      <td>aug_vbc_3g</td>\n",
       "      <td>-0.034806</td>\n",
       "      <td>0.054989</td>\n",
       "    </tr>\n",
       "    <tr>\n",
       "      <th>118</th>\n",
       "      <td>jul_vbc_3g</td>\n",
       "      <td>-0.039990</td>\n",
       "      <td>0.057563</td>\n",
       "    </tr>\n",
       "    <tr>\n",
       "      <th>119</th>\n",
       "      <td>jun_vbc_3g</td>\n",
       "      <td>-0.040857</td>\n",
       "      <td>0.055751</td>\n",
       "    </tr>\n",
       "    <tr>\n",
       "      <th>120</th>\n",
       "      <td>total_amt_6</td>\n",
       "      <td>0.009622</td>\n",
       "      <td>0.026805</td>\n",
       "    </tr>\n",
       "    <tr>\n",
       "      <th>121</th>\n",
       "      <td>total_amt_7</td>\n",
       "      <td>0.009410</td>\n",
       "      <td>0.032740</td>\n",
       "    </tr>\n",
       "    <tr>\n",
       "      <th>122</th>\n",
       "      <td>total_amt_8</td>\n",
       "      <td>0.014064</td>\n",
       "      <td>0.042411</td>\n",
       "    </tr>\n",
       "    <tr>\n",
       "      <th>123</th>\n",
       "      <td>days_since_last_rech</td>\n",
       "      <td>-0.042961</td>\n",
       "      <td>0.006782</td>\n",
       "    </tr>\n",
       "    <tr>\n",
       "      <th>124</th>\n",
       "      <td>aon_bin</td>\n",
       "      <td>-0.011160</td>\n",
       "      <td>0.069153</td>\n",
       "    </tr>\n",
       "  </tbody>\n",
       "</table>\n",
       "<p>125 rows × 3 columns</p>\n",
       "</div>"
      ],
      "text/plain": [
       "                  Feature       PC1       PC2\n",
       "0                  arpu_6  0.159843  0.026297\n",
       "1                  arpu_7  0.164297  0.036760\n",
       "2                  arpu_8  0.123006  0.075559\n",
       "3             onnet_mou_6  0.175951 -0.099463\n",
       "4             onnet_mou_7  0.184929 -0.090089\n",
       "5             onnet_mou_8  0.137331 -0.035256\n",
       "6            offnet_mou_6  0.205924 -0.027702\n",
       "7            offnet_mou_7  0.214039 -0.019665\n",
       "8            offnet_mou_8  0.144747  0.022709\n",
       "9           roam_ic_mou_6 -0.014396  0.036627\n",
       "10          roam_ic_mou_7 -0.027681  0.035256\n",
       "11          roam_ic_mou_8 -0.003236  0.024056\n",
       "12          roam_og_mou_6  0.000244  0.031975\n",
       "13          roam_og_mou_7  0.004086  0.025863\n",
       "14          roam_og_mou_8  0.036993  0.041308\n",
       "15       loc_og_t2t_mou_6  0.051695  0.046872\n",
       "16       loc_og_t2t_mou_7  0.056362  0.045945\n",
       "17       loc_og_t2t_mou_8  0.051429  0.047249\n",
       "18       loc_og_t2m_mou_6  0.061177  0.090351\n",
       "19       loc_og_t2m_mou_7  0.066989  0.096508\n",
       "20       loc_og_t2m_mou_8  0.053888  0.096131\n",
       "21       loc_og_t2f_mou_6  0.096518  0.292568\n",
       "22       loc_og_t2f_mou_7  0.081619  0.254735\n",
       "23       loc_og_t2f_mou_8  0.018729  0.080727\n",
       "24       loc_og_t2c_mou_6  0.020973 -0.001492\n",
       "25       loc_og_t2c_mou_7  0.025972 -0.005194\n",
       "26       loc_og_t2c_mou_8  0.022730  0.000679\n",
       "27           loc_og_mou_6  0.077486  0.105374\n",
       "28           loc_og_mou_7  0.084197  0.106620\n",
       "29           loc_og_mou_8  0.068078  0.095946\n",
       "..                    ...       ...       ...\n",
       "95         max_rech_amt_8  0.038676  0.124471\n",
       "96     last_day_rch_amt_6  0.035119  0.089959\n",
       "97     last_day_rch_amt_7  0.027020  0.063188\n",
       "98     last_day_rch_amt_8  0.023336  0.098234\n",
       "99            vol_2g_mb_6 -0.059179  0.012406\n",
       "100           vol_2g_mb_7 -0.056681  0.010987\n",
       "101           vol_2g_mb_8 -0.035931  0.015078\n",
       "102           vol_3g_mb_6 -0.047017  0.052168\n",
       "103           vol_3g_mb_7 -0.044396  0.053334\n",
       "104           vol_3g_mb_8 -0.032817  0.048427\n",
       "105          monthly_2g_6 -0.044691  0.034688\n",
       "106          monthly_2g_7 -0.043651  0.034679\n",
       "107          monthly_2g_8 -0.031082  0.032912\n",
       "108           sachet_2g_6 -0.070904 -0.009397\n",
       "109           sachet_2g_7 -0.066192 -0.007842\n",
       "110           sachet_2g_8 -0.038896 -0.000647\n",
       "111          monthly_3g_6 -0.029652  0.054390\n",
       "112          monthly_3g_7 -0.027994  0.053647\n",
       "113          monthly_3g_8 -0.022897  0.049702\n",
       "114           sachet_3g_6 -0.041746  0.005734\n",
       "115           sachet_3g_7 -0.038280  0.007983\n",
       "116           sachet_3g_8 -0.020956  0.008276\n",
       "117            aug_vbc_3g -0.034806  0.054989\n",
       "118            jul_vbc_3g -0.039990  0.057563\n",
       "119            jun_vbc_3g -0.040857  0.055751\n",
       "120           total_amt_6  0.009622  0.026805\n",
       "121           total_amt_7  0.009410  0.032740\n",
       "122           total_amt_8  0.014064  0.042411\n",
       "123  days_since_last_rech -0.042961  0.006782\n",
       "124               aon_bin -0.011160  0.069153\n",
       "\n",
       "[125 rows x 3 columns]"
      ]
     },
     "execution_count": 35,
     "metadata": {},
     "output_type": "execute_result"
    }
   ],
   "source": [
    "pcs_df"
   ]
  },
  {
   "cell_type": "code",
   "execution_count": 36,
   "metadata": {},
   "outputs": [],
   "source": [
    "# X_train_smote"
   ]
  },
  {
   "cell_type": "code",
   "execution_count": 37,
   "metadata": {},
   "outputs": [
    {
     "data": {
      "text/plain": [
       "array([0.098, 0.091, 0.077, 0.069, 0.045, 0.043, 0.041, 0.033, 0.026,\n",
       "       0.023, 0.022, 0.02 , 0.018, 0.018, 0.017, 0.016, 0.015, 0.014,\n",
       "       0.014, 0.013, 0.012, 0.012, 0.011, 0.01 , 0.009, 0.009, 0.008,\n",
       "       0.008, 0.008, 0.007, 0.007, 0.007, 0.007, 0.006, 0.006, 0.006,\n",
       "       0.006, 0.006, 0.006, 0.005, 0.005, 0.005, 0.005, 0.005, 0.005,\n",
       "       0.004, 0.004, 0.004, 0.004, 0.004])"
      ]
     },
     "execution_count": 37,
     "metadata": {},
     "output_type": "execute_result"
    }
   ],
   "source": [
    "pca.explained_variance_ratio_.round(3)[:50]"
   ]
  },
  {
   "cell_type": "code",
   "execution_count": 38,
   "metadata": {},
   "outputs": [
    {
     "name": "stdout",
     "output_type": "stream",
     "text": [
      "[[ 1.59842820e-01  1.64297258e-01  1.23006279e-01 ...  1.40640165e-02\n",
      "  -4.29614175e-02 -1.11598538e-02]\n",
      " [ 2.62969809e-02  3.67603722e-02  7.55588012e-02 ...  4.24107804e-02\n",
      "   6.78202996e-03  6.91527584e-02]\n",
      " [-5.59500962e-03 -2.17248272e-02 -5.37338190e-02 ... -3.53972436e-02\n",
      "   8.59224048e-03 -6.14624315e-02]\n",
      " ...\n",
      " [ 2.01435826e-07  2.35720055e-07 -1.55311287e-08 ... -7.59360921e-08\n",
      "   1.57169546e-07 -2.27516458e-07]\n",
      " [-2.59684896e-07  1.71495685e-07 -5.38067388e-08 ... -6.44961218e-08\n",
      "  -1.03317432e-08  1.82798459e-08]\n",
      " [ 3.01394343e-07 -5.77158496e-08  8.14024038e-08 ...  3.82699300e-08\n",
      "   2.95027364e-08 -8.57724828e-08]]\n"
     ]
    }
   ],
   "source": [
    "print(pca.components_)"
   ]
  },
  {
   "cell_type": "code",
   "execution_count": 39,
   "metadata": {},
   "outputs": [
    {
     "name": "stdout",
     "output_type": "stream",
     "text": [
      "[1.11113297e+01 1.03359706e+01 8.72122514e+00 7.80652675e+00\n",
      " 5.08784212e+00 4.81474537e+00 4.58497433e+00 3.74278623e+00\n",
      " 2.96716033e+00 2.59136786e+00 2.47493804e+00 2.23852255e+00\n",
      " 2.08269405e+00 1.99021984e+00 1.92731058e+00 1.80917955e+00\n",
      " 1.71354717e+00 1.60974728e+00 1.53680461e+00 1.45055653e+00\n",
      " 1.39916251e+00 1.33048526e+00 1.19128675e+00 1.13739665e+00\n",
      " 1.03385633e+00 1.01064354e+00 9.42258935e-01 8.75792567e-01\n",
      " 8.58136142e-01 8.31525428e-01 8.06140148e-01 7.87069305e-01\n",
      " 7.62742262e-01 7.32301199e-01 7.20403685e-01 7.01829291e-01\n",
      " 7.01238134e-01 6.44621887e-01 6.28936203e-01 6.14518976e-01\n",
      " 6.04208747e-01 5.79507153e-01 5.75746068e-01 5.57273095e-01\n",
      " 5.31789912e-01 4.99287061e-01 4.74671926e-01 4.59594674e-01\n",
      " 4.36813023e-01 4.15100319e-01 4.09399163e-01 3.83871140e-01\n",
      " 3.59698951e-01 3.54853372e-01 3.41058452e-01 3.25799124e-01\n",
      " 3.08214371e-01 3.05190444e-01 2.98261745e-01 2.90655374e-01\n",
      " 2.86491135e-01 2.65856195e-01 2.55765460e-01 2.51982141e-01\n",
      " 2.46038548e-01 2.33487029e-01 2.28374533e-01 2.25612743e-01\n",
      " 2.16834004e-01 2.01187191e-01 1.99868516e-01 1.97520652e-01\n",
      " 1.91923847e-01 1.88761335e-01 1.85286504e-01 1.81687718e-01\n",
      " 1.76168161e-01 1.72300916e-01 1.62845787e-01 1.61013166e-01\n",
      " 1.54246644e-01 1.52768669e-01 1.51420160e-01 1.46180693e-01\n",
      " 1.41321769e-01 1.35180447e-01 1.31739009e-01 1.29820950e-01\n",
      " 1.22082884e-01 1.08260335e-01 1.06074729e-01 9.13175509e-02\n",
      " 8.75110398e-02 7.96580168e-02 7.53692449e-02 6.95450055e-02\n",
      " 6.13922380e-02 5.63758161e-02 5.06605802e-02 3.20303796e-02\n",
      " 1.97836738e-02 1.56961261e-02 4.27251637e-03 2.32373969e-03\n",
      " 1.83778755e-04 4.43570339e-05 2.33404767e-05 9.98297393e-10\n",
      " 4.76199506e-10 3.96583301e-10 3.57873103e-10 2.20386955e-10\n",
      " 1.85574276e-10 1.49042988e-10 1.23760938e-10 9.78769507e-11\n",
      " 9.46934572e-11 8.82081915e-11 8.40334214e-11 6.25166435e-11\n",
      " 3.88260844e-11 3.34451404e-11 2.41789384e-11 1.66474085e-11\n",
      " 1.53544981e-11]\n"
     ]
    }
   ],
   "source": [
    "print(pca.explained_variance_)"
   ]
  },
  {
   "cell_type": "code",
   "execution_count": 40,
   "metadata": {},
   "outputs": [],
   "source": [
    "# def draw_vector(v0, v1, ax=None):\n",
    "#     ax = ax or plt.gca()\n",
    "#     arrowprops=dict(arrowstyle='->',\n",
    "#                     linewidth=2,\n",
    "#                     shrinkA=0, shrinkB=0)\n",
    "#     ax.annotate('', v1, v0, arrowprops=arrowprops)\n",
    "\n",
    "# # plot data\n",
    "# plt.scatter(X_train_smote[:, 0], X_train_smote[:, 1], alpha=0.2)\n",
    "# for length, vector in zip(pca.explained_variance_[:2], pca.components_[:2]):\n",
    "#     v = vector * 3 * np.sqrt(length)\n",
    "#     draw_vector(pca.mean_, pca.mean_ + v)\n",
    "# plt.axis('equal');"
   ]
  },
  {
   "cell_type": "code",
   "execution_count": null,
   "metadata": {},
   "outputs": [],
   "source": []
  },
  {
   "cell_type": "code",
   "execution_count": 41,
   "metadata": {},
   "outputs": [
    {
     "data": {
      "text/plain": [
       "array([0.09817997, 0.18950886, 0.26656981, 0.33554846, 0.38050476,\n",
       "       0.42304796, 0.4635609 , 0.49663225, 0.52285015, 0.54574754,\n",
       "       0.56761615, 0.58739579, 0.60579852, 0.62338415, 0.64041392,\n",
       "       0.65639987, 0.67154081, 0.68576458, 0.69934382, 0.71216097,\n",
       "       0.724524  , 0.7362802 , 0.74680644, 0.75685651, 0.76599169,\n",
       "       0.77492176, 0.78324758, 0.7909861 , 0.79856861, 0.80591599,\n",
       "       0.81303907, 0.81999363, 0.82673324, 0.83320387, 0.83956937,\n",
       "       0.84577075, 0.85196691, 0.8576628 , 0.8632201 , 0.86865   ,\n",
       "       0.87398881, 0.87910934, 0.88419665, 0.88912073, 0.89381964,\n",
       "       0.89823135, 0.90242556, 0.90648655, 0.91034624, 0.91401408,\n",
       "       0.91763154, 0.92102343, 0.92420174, 0.92733723, 0.93035083,\n",
       "       0.9332296 , 0.93595299, 0.93864966, 0.94128511, 0.94385335,\n",
       "       0.94638479, 0.9487339 , 0.95099385, 0.95322037, 0.95539438,\n",
       "       0.95745747, 0.9594754 , 0.96146891, 0.96338487, 0.96516256,\n",
       "       0.9669286 , 0.9686739 , 0.97036974, 0.97203764, 0.97367484,\n",
       "       0.97528024, 0.97683686, 0.97835932, 0.97979823, 0.98122094,\n",
       "       0.98258387, 0.98393374, 0.98527169, 0.98656335, 0.98781207,\n",
       "       0.98900653, 0.99017057, 0.99131768, 0.9923964 , 0.99335299,\n",
       "       0.99429027, 0.99509716, 0.99587041, 0.99657427, 0.99724023,\n",
       "       0.99785473, 0.9983972 , 0.99889533, 0.99934297, 0.99962599])"
      ]
     },
     "execution_count": 41,
     "metadata": {},
     "output_type": "execute_result"
    }
   ],
   "source": [
    "np.cumsum(pca.explained_variance_ratio_[:100])"
   ]
  },
  {
   "cell_type": "code",
   "execution_count": null,
   "metadata": {},
   "outputs": [],
   "source": []
  },
  {
   "cell_type": "code",
   "execution_count": 42,
   "metadata": {},
   "outputs": [
    {
     "data": {
      "image/png": "[encoded data removed]",
      "text/plain": [
       "<Figure size 864x576 with 1 Axes>"
      ]
     },
     "metadata": {},
     "output_type": "display_data"
    }
   ],
   "source": [
    "#Making the screeplot - plotting the cumulative variance against the number of components\n",
    "%matplotlib inline\n",
    "fig = plt.figure(figsize = (12,8))\n",
    "plt.plot(np.cumsum(pca.explained_variance_ratio_))\n",
    "plt.plot(pca.explained_variance_ratio_)\n",
    "plt.xlabel('number of components')\n",
    "plt.ylabel('cumulative explained variance')\n",
    "plt.axhline(y=.99, color='r', linestyle='-')\n",
    "plt.axvline(x=86, color='b', linestyle='-')\n",
    "plt.axhline(y=.97, color='r', linestyle='-')\n",
    "plt.axvline(x=72, color='b', linestyle='-')\n",
    "plt.axhline(y=.95, color='r', linestyle='-')\n",
    "plt.axvline(x=61, color='b', linestyle='-')\n",
    "plt.axhline(y=.90, color='r', linestyle='-')\n",
    "plt.axvline(x=46, color='b', linestyle='-')\n",
    "plt.show()"
   ]
  },
  {
   "cell_type": "markdown",
   "metadata": {},
   "source": [
    "> from the above plot, to explain the \n",
    "* Variance - Num Of Features\n",
    "* 99-86\n",
    "* 97-92\n",
    "* 95-61\n",
    "* 90-46"
   ]
  },
  {
   "cell_type": "markdown",
   "metadata": {},
   "source": [
    "<font color='green'>lets choose 90% variance and lets proceed to Create a Incremental PCA with 61 features</font>"
   ]
  },
  {
   "cell_type": "code",
   "execution_count": null,
   "metadata": {},
   "outputs": [],
   "source": [
    "# pca_inc = IncrementalPCA(n_components=61)\n",
    "# pca_inc_90 = IncrementalPCA(n_components=46)\n",
    "# pca_inc_99 = IncrementalPCA(n_components=86)"
   ]
  },
  {
   "cell_type": "code",
   "execution_count": null,
   "metadata": {},
   "outputs": [],
   "source": [
    "# df_train_pca = pca_inc.fit_transform(X_train_smote)\n",
    "# print(df_train_pca.shape)\n",
    "# print('-'*50)\n",
    "# df_test_pca = pca_inc.fit_transform(X_test)\n",
    "# print(df_test_pca.shape)"
   ]
  },
  {
   "cell_type": "code",
   "execution_count": null,
   "metadata": {},
   "outputs": [],
   "source": [
    "# df_train_pca_99 = pca_inc_99.fit_transform(X_train_smote)\n",
    "# print(df_train_pca_99.shape)\n",
    "# print('-'*50)\n",
    "# df_test_pca_99 = pca_inc_99.fit_transform(X_test)\n",
    "# print(df_test_pca_99.shape)"
   ]
  },
  {
   "cell_type": "code",
   "execution_count": null,
   "metadata": {},
   "outputs": [],
   "source": [
    "# df_train_pca_99 = pca_inc_99.fit_transform(X_train_smote)\n",
    "# print(df_train_pca_99.shape)\n",
    "# print('-'*50)\n",
    "# df_test_pca_99 = pca_inc_99.fit_transform(X_test)\n",
    "# print(df_test_pca_99.shape)"
   ]
  },
  {
   "cell_type": "code",
   "execution_count": null,
   "metadata": {},
   "outputs": [],
   "source": [
    "# %matplotlib inline\n",
    "# plt.figure(figsize = (20,10))\n",
    "# sns.heatmap(corrmat,annot = True)"
   ]
  },
  {
   "cell_type": "code",
   "execution_count": null,
   "metadata": {},
   "outputs": [],
   "source": [
    "# #creating correlation matrix for the principal components\n",
    "# corrmat = np.corrcoef(df_train_pca.transpose())\n",
    "# corrmat_nodiag = corrmat - np.diagflat(corrmat.diagonal())\n",
    "# print(\"max corr:\",corrmat_nodiag.max(), \", min corr: \", corrmat_nodiag.min())"
   ]
  },
  {
   "cell_type": "code",
   "execution_count": null,
   "metadata": {},
   "outputs": [],
   "source": []
  },
  {
   "cell_type": "markdown",
   "metadata": {},
   "source": [
    "### Apply Logit"
   ]
  },
  {
   "cell_type": "code",
   "execution_count": 43,
   "metadata": {},
   "outputs": [
    {
     "name": "stdout",
     "output_type": "stream",
     "text": [
      "Train shape -  (37596, 92)\n",
      "Test shape -  (8552, 92)\n"
     ]
    }
   ],
   "source": [
    "pca_995 = PCA(0.995)\n",
    "\n",
    "df_train_pca_995 = pca_995.fit_transform(X_train_smote)\n",
    "print(\"Train shape - \", df_train_pca_995.shape)\n",
    "\n",
    "df_test_pca_995 = pca_995.transform(X_test)\n",
    "print(\"Test shape - \", df_test_pca_995.shape)"
   ]
  },
  {
   "cell_type": "code",
   "execution_count": 82,
   "metadata": {},
   "outputs": [],
   "source": [
    "learner_pca_995 = LogisticRegression(class_weight='balanced')\n",
    "model_pca_995 = learner_pca_995.fit(df_train_pca_995,y_train_smote)"
   ]
  },
  {
   "cell_type": "code",
   "execution_count": 83,
   "metadata": {},
   "outputs": [
    {
     "name": "stdout",
     "output_type": "stream",
     "text": [
      "0.88\n",
      "[[6620 1490]\n",
      " [  76  366]]\n",
      "accuracy -  0.8168849391955099\n",
      "precision -  0.19719827586206898\n",
      "recall/sensitivity -  0.8280542986425339\n"
     ]
    }
   ],
   "source": [
    "#Making prediction on the test data\n",
    "pred_probs_995 = model_pca_995.predict_proba(df_test_pca_995)[:,1]\n",
    "print(\"{:2.2f}\".format(metrics.roc_auc_score(y_test, pred_probs_995)))\n",
    "\n",
    "y_pred_995 = model_pca_995.predict(df_test_pca_995)\n",
    "print(metrics.confusion_matrix(y_test, y_pred_995))\n",
    "\n",
    "# print other metrics\n",
    "\n",
    "# accuracy\n",
    "print(\"accuracy - \", metrics.accuracy_score(y_test, y_pred_995))\n",
    "\n",
    "# precision\n",
    "print(\"precision - \", metrics.precision_score(y_test, y_pred_995))\n",
    "\n",
    "# recall/sensitivity\n",
    "print(\"recall/sensitivity - \", metrics.recall_score(y_test, y_pred_995))"
   ]
  },
  {
   "cell_type": "code",
   "execution_count": null,
   "metadata": {},
   "outputs": [],
   "source": [
    "# metrics.precision_recall_curve(y_test, pred_probs_995)"
   ]
  },
  {
   "cell_type": "code",
   "execution_count": null,
   "metadata": {},
   "outputs": [],
   "source": [
    "# metrics.roc_curve(y_test, y_pred_995)"
   ]
  },
  {
   "cell_type": "code",
   "execution_count": null,
   "metadata": {},
   "outputs": [],
   "source": [
    "# metrics.accuracy_score(y_test,y_pred_995)"
   ]
  },
  {
   "cell_type": "code",
   "execution_count": null,
   "metadata": {},
   "outputs": [],
   "source": []
  },
  {
   "cell_type": "code",
   "execution_count": null,
   "metadata": {},
   "outputs": [],
   "source": []
  },
  {
   "cell_type": "code",
   "execution_count": 47,
   "metadata": {},
   "outputs": [
    {
     "name": "stdout",
     "output_type": "stream",
     "text": [
      "train shape =  (37596, 87)\n",
      "test shape =  (8552, 87)\n"
     ]
    }
   ],
   "source": [
    "pca_99 = PCA(0.99)\n",
    "\n",
    "df_train_pca_99 = pca_99.fit_transform(X_train_smote)\n",
    "print(\"train shape = \", df_train_pca_99.shape)\n",
    "\n",
    "df_test_pca_99 = pca_99.transform(X_test)\n",
    "print(\"test shape = \", df_test_pca_99.shape)"
   ]
  },
  {
   "cell_type": "code",
   "execution_count": 48,
   "metadata": {},
   "outputs": [],
   "source": [
    "learner_pca_99 = LogisticRegression()\n",
    "model_pca_99 = learner_pca_99.fit(df_train_pca_99, y_train_smote)"
   ]
  },
  {
   "cell_type": "code",
   "execution_count": 49,
   "metadata": {},
   "outputs": [],
   "source": [
    "# Making prediction on the test data\n",
    "# pred_probs_test_99 = model_pca1.predict_proba(df_test_pca_99)[:,1]\n",
    "# print(\"{:2.2f}\".format(metrics.roc_auc_score(y_test, pred_probs_test_99)))"
   ]
  },
  {
   "cell_type": "code",
   "execution_count": 50,
   "metadata": {},
   "outputs": [
    {
     "name": "stdout",
     "output_type": "stream",
     "text": [
      "AUC Score =  0.88\n",
      "Confusoin Matrix - \n",
      " [[6631 1479]\n",
      " [  73  369]]\n",
      "accuracy -  0.8185219831618334\n",
      "precision -  0.19967532467532467\n",
      "recall/sensitivity -  0.834841628959276\n"
     ]
    }
   ],
   "source": [
    "#Making prediction on the test data\n",
    "pred_probs_test_99 = model_pca_99.predict_proba(df_test_pca_99)[:,1]\n",
    "print(\"AUC Score = \", \"{:2.2f}\".format(metrics.roc_auc_score(y_test, pred_probs_test_99)))\n",
    "\n",
    "y_pred_99 = model_pca_99.predict(df_test_pca_99)\n",
    "print(\"Confusoin Matrix - \\n\", metrics.confusion_matrix(y_test, y_pred_99))\n",
    "\n",
    "# print other metrics\n",
    "\n",
    "# accuracy\n",
    "print(\"accuracy - \", metrics.accuracy_score(y_test, y_pred_99))\n",
    "\n",
    "# precision\n",
    "print(\"precision - \", metrics.precision_score(y_test, y_pred_99))\n",
    "\n",
    "# recall/sensitivity\n",
    "print(\"recall/sensitivity - \", metrics.recall_score(y_test, y_pred_99))"
   ]
  },
  {
   "cell_type": "code",
   "execution_count": null,
   "metadata": {},
   "outputs": [],
   "source": []
  },
  {
   "cell_type": "code",
   "execution_count": null,
   "metadata": {},
   "outputs": [],
   "source": []
  },
  {
   "cell_type": "code",
   "execution_count": 51,
   "metadata": {},
   "outputs": [
    {
     "name": "stdout",
     "output_type": "stream",
     "text": [
      "train shape =  (37596, 63)\n",
      "test shape =  (8552, 63)\n"
     ]
    }
   ],
   "source": [
    "pca_95 = PCA(0.95)\n",
    "\n",
    "df_train_pca_95 = pca_95.fit_transform(X_train_smote)\n",
    "print(\"train shape = \", df_train_pca_95.shape)\n",
    "\n",
    "df_test_pca_95 = pca_95.transform(X_test)\n",
    "print(\"test shape = \", df_test_pca_95.shape)"
   ]
  },
  {
   "cell_type": "code",
   "execution_count": 78,
   "metadata": {},
   "outputs": [],
   "source": [
    "learner_pca_95 = LogisticRegression(class_weight='balanced')\n",
    "model_pca_95 = learner_pca_95.fit(df_train_pca_95, y_train_smote)"
   ]
  },
  {
   "cell_type": "code",
   "execution_count": 79,
   "metadata": {},
   "outputs": [
    {
     "name": "stdout",
     "output_type": "stream",
     "text": [
      "0.88\n",
      "[[6596 1514]\n",
      " [  75  367]]\n",
      "accuracy -  0.8141955098222639\n",
      "precision -  0.1951089845826688\n",
      "recall/sensitivity -  0.830316742081448\n"
     ]
    }
   ],
   "source": [
    "#Making prediction on the test data\n",
    "pred_probs_test_95 = model_pca_95.predict_proba(df_test_pca_95)[:,1]\n",
    "print(\"{:2.2f}\".format(metrics.roc_auc_score(y_test, pred_probs_test_95)))\n",
    "\n",
    "y_pred_95 = model_pca_95.predict(df_test_pca_95)\n",
    "print(metrics.confusion_matrix(y_test, y_pred_95))\n",
    "\n",
    "# print other metrics\n",
    "\n",
    "# accuracy\n",
    "print(\"accuracy - \", metrics.accuracy_score(y_test, y_pred_95))\n",
    "\n",
    "# precision\n",
    "print(\"precision - \", metrics.precision_score(y_test, y_pred_95))\n",
    "\n",
    "# recall/sensitivity\n",
    "print(\"recall/sensitivity - \", metrics.recall_score(y_test, y_pred_95))"
   ]
  },
  {
   "cell_type": "code",
   "execution_count": 80,
   "metadata": {},
   "outputs": [
    {
     "name": "stdout",
     "output_type": "stream",
     "text": [
      "sensitivity_svm 0.830316742081448\n"
     ]
    }
   ],
   "source": [
    "confusion_mat_lr_95 = metrics.confusion_matrix(y_test, y_pred_95)\n",
    "TN = confusion_mat_lr_95[0, 0]\n",
    "FP = confusion_mat_lr_95[0, 1]\n",
    "FN = confusion_mat_lr_95[1, 0]\n",
    "TP = confusion_mat_lr_95[1, 1]\n",
    "\n",
    "sensitivity_svm = TP / float(FN + TP)\n",
    "print(\"sensitivity_svm\",sensitivity_svm)"
   ]
  },
  {
   "cell_type": "code",
   "execution_count": null,
   "metadata": {},
   "outputs": [],
   "source": []
  },
  {
   "cell_type": "code",
   "execution_count": null,
   "metadata": {},
   "outputs": [],
   "source": []
  },
  {
   "cell_type": "code",
   "execution_count": 54,
   "metadata": {},
   "outputs": [
    {
     "name": "stdout",
     "output_type": "stream",
     "text": [
      "train shape =  (37596, 47)\n",
      "test shape =  (8552, 47)\n",
      "max corr: 1.3862381154125827e-15 , min corr:  -1.0503132082515848e-15\n"
     ]
    }
   ],
   "source": [
    "pca_90 = PCA(0.90)\n",
    "\n",
    "df_train_pca_90 = pca_90.fit_transform(X_train_smote)\n",
    "print(\"train shape = \", df_train_pca_90.shape)\n",
    "\n",
    "df_test_pca_90 = pca_90.transform(X_test)\n",
    "print(\"test shape = \", df_test_pca_90.shape)\n",
    "\n",
    "corrmat = np.corrcoef(df_train_pca_90.transpose())\n",
    "corrmat_nodiag = corrmat - np.diagflat(corrmat.diagonal())\n",
    "print(\"max corr:\",corrmat_nodiag.max(), \", min corr: \", corrmat_nodiag.min())"
   ]
  },
  {
   "cell_type": "code",
   "execution_count": 76,
   "metadata": {},
   "outputs": [],
   "source": [
    "learner_pca_90 = LogisticRegression(class_weight='balanced')\n",
    "model_pca_90 = learner_pca_90.fit(df_train_pca_90, y_train_smote)"
   ]
  },
  {
   "cell_type": "code",
   "execution_count": 77,
   "metadata": {},
   "outputs": [
    {
     "name": "stdout",
     "output_type": "stream",
     "text": [
      "AUC Score =  0.88\n",
      "Confusoin Matrix - \n",
      " [[6544 1566]\n",
      " [  79  363]]\n",
      "accuracy -  0.8076473339569691\n",
      "precision -  0.18818040435458788\n",
      "recall/sensitivity -  0.8212669683257918\n"
     ]
    }
   ],
   "source": [
    "#Making prediction on the test data\n",
    "pred_probs_test_90 = model_pca_90.predict_proba(df_test_pca_90)[:,1]\n",
    "print(\"AUC Score = \", \"{:2.2f}\".format(metrics.roc_auc_score(y_test, pred_probs_test_90)))\n",
    "\n",
    "y_pred_90 = model_pca_90.predict(df_test_pca_90)\n",
    "print(\"Confusoin Matrix - \\n\", metrics.confusion_matrix(y_test, y_pred_90))\n",
    "\n",
    "# print other metrics\n",
    "\n",
    "# accuracy\n",
    "print(\"accuracy - \", metrics.accuracy_score(y_test, y_pred_90))\n",
    "\n",
    "# precision\n",
    "print(\"precision - \", metrics.precision_score(y_test, y_pred_90))\n",
    "\n",
    "# recall/sensitivity\n",
    "print(\"recall/sensitivity - \", metrics.recall_score(y_test, y_pred_90))"
   ]
  },
  {
   "cell_type": "code",
   "execution_count": null,
   "metadata": {},
   "outputs": [],
   "source": [
    "# confusion = metrics.confusion_matrix(y_test, y_pred_90)\n",
    "# confusion"
   ]
  },
  {
   "cell_type": "code",
   "execution_count": null,
   "metadata": {},
   "outputs": [],
   "source": [
    "# TP = confusion[1,1] # true positive \n",
    "# TN = confusion[0,0] # true negatives\n",
    "# FP = confusion[0,1] # false positives\n",
    "# FN = confusion[1,0] # false negatives"
   ]
  },
  {
   "cell_type": "code",
   "execution_count": null,
   "metadata": {},
   "outputs": [],
   "source": [
    "# # positive predictive value \n",
    "# print (TP / float(TP+FP))"
   ]
  },
  {
   "cell_type": "code",
   "execution_count": null,
   "metadata": {},
   "outputs": [],
   "source": [
    "# # Negative predictive value\n",
    "# print (TN / float(TN+ FN))"
   ]
  },
  {
   "cell_type": "code",
   "execution_count": null,
   "metadata": {},
   "outputs": [],
   "source": []
  },
  {
   "cell_type": "code",
   "execution_count": 57,
   "metadata": {},
   "outputs": [],
   "source": [
    "def draw_roc( actual, probs ):\n",
    "    fpr, tpr, thresholds = metrics.roc_curve( actual, probs,\n",
    "                                              drop_intermediate = False )\n",
    "    auc_score = metrics.roc_auc_score( actual, probs )\n",
    "    plt.figure(figsize=(5, 5))\n",
    "    plt.plot( fpr, tpr, label='ROC curve (area = %0.2f)' % auc_score )\n",
    "    plt.plot([0, 1], [0, 1], 'k--')\n",
    "    plt.xlim([0.0, 1.0])\n",
    "    plt.ylim([0.0, 1.05])\n",
    "    plt.xlabel('False Positive Rate or [1 - True Negative Rate]')\n",
    "    plt.ylabel('True Positive Rate')\n",
    "    plt.title('Receiver operating characteristic example')\n",
    "    plt.legend(loc=\"lower right\")\n",
    "    plt.show()\n",
    "\n",
    "    return fpr, tpr, thresholds"
   ]
  },
  {
   "cell_type": "code",
   "execution_count": null,
   "metadata": {},
   "outputs": [],
   "source": [
    "fpr, tpr, thresholds = metrics.roc_curve(y_test, y_pred_95, drop_intermediate = False)"
   ]
  },
  {
   "cell_type": "code",
   "execution_count": 58,
   "metadata": {},
   "outputs": [
    {
     "data": {
      "image/png": "[encoded data removed]",
      "text/plain": [
       "<Figure size 360x360 with 1 Axes>"
      ]
     },
     "metadata": {},
     "output_type": "display_data"
    },
    {
     "data": {
      "text/plain": [
       "(array([0.        , 0.18668311, 1.        ]),\n",
       " array([0.        , 0.83031674, 1.        ]),\n",
       " array([2, 1, 0], dtype=int64))"
      ]
     },
     "execution_count": 58,
     "metadata": {},
     "output_type": "execute_result"
    }
   ],
   "source": [
    "draw_roc(y_test, y_pred_95)"
   ]
  },
  {
   "cell_type": "markdown",
   "metadata": {},
   "source": [
    "* with probability cut-off at ~0.6, accuracy >81 can be achieved"
   ]
  },
  {
   "cell_type": "code",
   "execution_count": null,
   "metadata": {},
   "outputs": [],
   "source": []
  },
  {
   "cell_type": "code",
   "execution_count": null,
   "metadata": {},
   "outputs": [],
   "source": []
  },
  {
   "cell_type": "code",
   "execution_count": null,
   "metadata": {},
   "outputs": [],
   "source": [
    "# y_train_pred_final = pd.DataFrame({'Churn':y_pred_90, 'Churn_Prob':pred_probs_test_90})"
   ]
  },
  {
   "cell_type": "code",
   "execution_count": null,
   "metadata": {},
   "outputs": [],
   "source": [
    "# # Let's create columns with different probability cutoffs \n",
    "# numbers = [float(x)/10 for x in range(10)]\n",
    "# for i in numbers:\n",
    "#     y_train_pred_final[i]= y_pred_90.Churn_Prob.map(lambda x: 1 if x > i else 0)\n",
    "# y_train_pred_final.head()"
   ]
  },
  {
   "cell_type": "code",
   "execution_count": null,
   "metadata": {},
   "outputs": [],
   "source": []
  },
  {
   "cell_type": "code",
   "execution_count": null,
   "metadata": {},
   "outputs": [],
   "source": []
  },
  {
   "cell_type": "code",
   "execution_count": null,
   "metadata": {},
   "outputs": [],
   "source": []
  },
  {
   "cell_type": "markdown",
   "metadata": {},
   "source": [
    "### Apply SVM"
   ]
  },
  {
   "cell_type": "code",
   "execution_count": 59,
   "metadata": {},
   "outputs": [],
   "source": [
    "from sklearn.model_selection import KFold\n",
    "from sklearn.model_selection import cross_val_score\n",
    "from sklearn.model_selection import GridSearchCV\n",
    "from sklearn.svm import SVC"
   ]
  },
  {
   "cell_type": "code",
   "execution_count": 63,
   "metadata": {},
   "outputs": [],
   "source": [
    "folds = KFold(n_splits = 3, shuffle = True, random_state = 42)\n",
    "\n",
    "# specify range of parameters (C) as a list\n",
    "params = {\"C\": [0.1, 1, 10, 100, 1000]}\n",
    "\n",
    "# handling class imbalance in model\n",
    "model = SVC(class_weight='balanced')\n",
    "\n",
    "# set up grid search scheme\n",
    "# note that we are still using the 5 fold CV scheme we set up earlier\n",
    "model_pca_svm = GridSearchCV(estimator = model, \n",
    "                             param_grid = params, \n",
    "                             scoring= 'recall', \n",
    "                             cv = folds, \n",
    "                             verbose = 1,\n",
    "                             return_train_score=True,n_jobs=-1)"
   ]
  },
  {
   "cell_type": "code",
   "execution_count": 64,
   "metadata": {},
   "outputs": [
    {
     "name": "stdout",
     "output_type": "stream",
     "text": [
      "Fitting 3 folds for each of 5 candidates, totalling 15 fits\n"
     ]
    },
    {
     "name": "stderr",
     "output_type": "stream",
     "text": [
      "[Parallel(n_jobs=-1)]: Using backend LokyBackend with 8 concurrent workers.\n",
      "[Parallel(n_jobs=-1)]: Done  15 out of  15 | elapsed:  6.0min finished\n"
     ]
    },
    {
     "data": {
      "text/plain": [
       "GridSearchCV(cv=KFold(n_splits=3, random_state=42, shuffle=True),\n",
       "       error_score='raise-deprecating',\n",
       "       estimator=SVC(C=1.0, cache_size=200, class_weight='balanced', coef0=0.0,\n",
       "  decision_function_shape='ovr', degree=3, gamma='auto_deprecated',\n",
       "  kernel='rbf', max_iter=-1, probability=False, random_state=None,\n",
       "  shrinking=True, tol=0.001, verbose=False),\n",
       "       fit_params=None, iid='warn', n_jobs=-1,\n",
       "       param_grid={'C': [0.1, 1, 10, 100, 1000]}, pre_dispatch='2*n_jobs',\n",
       "       refit=True, return_train_score=True, scoring='recall', verbose=1)"
      ]
     },
     "execution_count": 64,
     "metadata": {},
     "output_type": "execute_result"
    }
   ],
   "source": [
    "# fit the model\n",
    "model_pca_svm.fit(df_train_pca_95, y_train_smote)"
   ]
  },
  {
   "cell_type": "code",
   "execution_count": 65,
   "metadata": {},
   "outputs": [
    {
     "name": "stdout",
     "output_type": "stream",
     "text": [
      "Test\n"
     ]
    }
   ],
   "source": [
    "print(\"Test\")"
   ]
  },
  {
   "cell_type": "code",
   "execution_count": 66,
   "metadata": {},
   "outputs": [
    {
     "data": {
      "text/html": [
       "<div>\n",
       "<style scoped>\n",
       "    .dataframe tbody tr th:only-of-type {\n",
       "        vertical-align: middle;\n",
       "    }\n",
       "\n",
       "    .dataframe tbody tr th {\n",
       "        vertical-align: top;\n",
       "    }\n",
       "\n",
       "    .dataframe thead th {\n",
       "        text-align: right;\n",
       "    }\n",
       "</style>\n",
       "<table border=\"1\" class=\"dataframe\">\n",
       "  <thead>\n",
       "    <tr style=\"text-align: right;\">\n",
       "      <th></th>\n",
       "      <th>mean_fit_time</th>\n",
       "      <th>mean_score_time</th>\n",
       "      <th>mean_test_score</th>\n",
       "      <th>mean_train_score</th>\n",
       "      <th>param_C</th>\n",
       "      <th>params</th>\n",
       "      <th>rank_test_score</th>\n",
       "      <th>split0_test_score</th>\n",
       "      <th>split0_train_score</th>\n",
       "      <th>split1_test_score</th>\n",
       "      <th>split1_train_score</th>\n",
       "      <th>split2_test_score</th>\n",
       "      <th>split2_train_score</th>\n",
       "      <th>std_fit_time</th>\n",
       "      <th>std_score_time</th>\n",
       "      <th>std_test_score</th>\n",
       "      <th>std_train_score</th>\n",
       "    </tr>\n",
       "  </thead>\n",
       "  <tbody>\n",
       "    <tr>\n",
       "      <th>0</th>\n",
       "      <td>114.881042</td>\n",
       "      <td>28.302885</td>\n",
       "      <td>0.842121</td>\n",
       "      <td>0.850469</td>\n",
       "      <td>0.1</td>\n",
       "      <td>{'C': 0.1}</td>\n",
       "      <td>5</td>\n",
       "      <td>0.835914</td>\n",
       "      <td>0.848719</td>\n",
       "      <td>0.842013</td>\n",
       "      <td>0.85520</td>\n",
       "      <td>0.848436</td>\n",
       "      <td>0.847489</td>\n",
       "      <td>4.508724</td>\n",
       "      <td>0.766342</td>\n",
       "      <td>0.005113</td>\n",
       "      <td>0.003383</td>\n",
       "    </tr>\n",
       "    <tr>\n",
       "      <th>1</th>\n",
       "      <td>110.515387</td>\n",
       "      <td>22.176034</td>\n",
       "      <td>0.953408</td>\n",
       "      <td>0.961725</td>\n",
       "      <td>1</td>\n",
       "      <td>{'C': 1}</td>\n",
       "      <td>4</td>\n",
       "      <td>0.950200</td>\n",
       "      <td>0.962738</td>\n",
       "      <td>0.952366</td>\n",
       "      <td>0.96160</td>\n",
       "      <td>0.957658</td>\n",
       "      <td>0.960837</td>\n",
       "      <td>4.837937</td>\n",
       "      <td>0.411628</td>\n",
       "      <td>0.003133</td>\n",
       "      <td>0.000781</td>\n",
       "    </tr>\n",
       "    <tr>\n",
       "      <th>2</th>\n",
       "      <td>136.085740</td>\n",
       "      <td>11.750106</td>\n",
       "      <td>0.991117</td>\n",
       "      <td>0.996222</td>\n",
       "      <td>10</td>\n",
       "      <td>{'C': 10}</td>\n",
       "      <td>3</td>\n",
       "      <td>0.988029</td>\n",
       "      <td>0.994814</td>\n",
       "      <td>0.992220</td>\n",
       "      <td>0.99624</td>\n",
       "      <td>0.993103</td>\n",
       "      <td>0.997612</td>\n",
       "      <td>15.053763</td>\n",
       "      <td>0.852541</td>\n",
       "      <td>0.002214</td>\n",
       "      <td>0.001142</td>\n",
       "    </tr>\n",
       "    <tr>\n",
       "      <th>3</th>\n",
       "      <td>126.977249</td>\n",
       "      <td>6.574138</td>\n",
       "      <td>0.995373</td>\n",
       "      <td>1.000000</td>\n",
       "      <td>100</td>\n",
       "      <td>{'C': 100}</td>\n",
       "      <td>1</td>\n",
       "      <td>0.995052</td>\n",
       "      <td>1.000000</td>\n",
       "      <td>0.995078</td>\n",
       "      <td>1.00000</td>\n",
       "      <td>0.995990</td>\n",
       "      <td>1.000000</td>\n",
       "      <td>10.835558</td>\n",
       "      <td>0.249342</td>\n",
       "      <td>0.000436</td>\n",
       "      <td>0.000000</td>\n",
       "    </tr>\n",
       "    <tr>\n",
       "      <th>4</th>\n",
       "      <td>133.298943</td>\n",
       "      <td>4.197723</td>\n",
       "      <td>0.993724</td>\n",
       "      <td>1.000000</td>\n",
       "      <td>1000</td>\n",
       "      <td>{'C': 1000}</td>\n",
       "      <td>2</td>\n",
       "      <td>0.993136</td>\n",
       "      <td>1.000000</td>\n",
       "      <td>0.993490</td>\n",
       "      <td>1.00000</td>\n",
       "      <td>0.994547</td>\n",
       "      <td>1.000000</td>\n",
       "      <td>3.916776</td>\n",
       "      <td>0.850795</td>\n",
       "      <td>0.000599</td>\n",
       "      <td>0.000000</td>\n",
       "    </tr>\n",
       "  </tbody>\n",
       "</table>\n",
       "</div>"
      ],
      "text/plain": [
       "   mean_fit_time  mean_score_time  mean_test_score  mean_train_score param_C  \\\n",
       "0     114.881042        28.302885         0.842121          0.850469     0.1   \n",
       "1     110.515387        22.176034         0.953408          0.961725       1   \n",
       "2     136.085740        11.750106         0.991117          0.996222      10   \n",
       "3     126.977249         6.574138         0.995373          1.000000     100   \n",
       "4     133.298943         4.197723         0.993724          1.000000    1000   \n",
       "\n",
       "        params  rank_test_score  split0_test_score  split0_train_score  \\\n",
       "0   {'C': 0.1}                5           0.835914            0.848719   \n",
       "1     {'C': 1}                4           0.950200            0.962738   \n",
       "2    {'C': 10}                3           0.988029            0.994814   \n",
       "3   {'C': 100}                1           0.995052            1.000000   \n",
       "4  {'C': 1000}                2           0.993136            1.000000   \n",
       "\n",
       "   split1_test_score  split1_train_score  split2_test_score  \\\n",
       "0           0.842013             0.85520           0.848436   \n",
       "1           0.952366             0.96160           0.957658   \n",
       "2           0.992220             0.99624           0.993103   \n",
       "3           0.995078             1.00000           0.995990   \n",
       "4           0.993490             1.00000           0.994547   \n",
       "\n",
       "   split2_train_score  std_fit_time  std_score_time  std_test_score  \\\n",
       "0            0.847489      4.508724        0.766342        0.005113   \n",
       "1            0.960837      4.837937        0.411628        0.003133   \n",
       "2            0.997612     15.053763        0.852541        0.002214   \n",
       "3            1.000000     10.835558        0.249342        0.000436   \n",
       "4            1.000000      3.916776        0.850795        0.000599   \n",
       "\n",
       "   std_train_score  \n",
       "0         0.003383  \n",
       "1         0.000781  \n",
       "2         0.001142  \n",
       "3         0.000000  \n",
       "4         0.000000  "
      ]
     },
     "execution_count": 66,
     "metadata": {},
     "output_type": "execute_result"
    }
   ],
   "source": [
    "# cv results\n",
    "cv_results = pd.DataFrame(model_pca_svm.cv_results_)\n",
    "cv_results"
   ]
  },
  {
   "cell_type": "code",
   "execution_count": 67,
   "metadata": {},
   "outputs": [
    {
     "data": {
      "image/png": "[encoded data removed]",
      "text/plain": [
       "<Figure size 576x432 with 1 Axes>"
      ]
     },
     "metadata": {},
     "output_type": "display_data"
    }
   ],
   "source": [
    "# plot of C versus train and test scores\n",
    "\n",
    "plt.figure(figsize=(8, 6))\n",
    "plt.plot(cv_results['param_C'], cv_results['mean_test_score'])\n",
    "plt.plot(cv_results['param_C'], cv_results['mean_train_score'])\n",
    "plt.xlabel('C')\n",
    "plt.ylabel('Recall')\n",
    "plt.legend(['test recall/sensitivity', 'train recall/sensitivity'], loc='upper left')\n",
    "plt.xscale('log')"
   ]
  },
  {
   "cell_type": "code",
   "execution_count": 68,
   "metadata": {},
   "outputs": [
    {
     "name": "stdout",
     "output_type": "stream",
     "text": [
      " The highest test recall is 0.9953733516267836 at C = 100\n"
     ]
    }
   ],
   "source": [
    "# printing the optimal accuracy score and hyperparameters\n",
    "best_score = model_pca_svm.best_score_\n",
    "best_C = model_pca_svm.best_params_['C']\n",
    "\n",
    "print(\" The highest test recall is {0} at C = {1}\".format(best_score, best_C))"
   ]
  },
  {
   "cell_type": "markdown",
   "metadata": {},
   "source": [
    "* Build the model with best hyper parameters"
   ]
  },
  {
   "cell_type": "code",
   "execution_count": 69,
   "metadata": {},
   "outputs": [],
   "source": [
    "# model with the best value of C\n",
    "svm_model = SVC(C=best_C, class_weight='balanced')\n",
    "\n",
    "# fit\n",
    "svm_model.fit(df_train_pca_95, y_train_smote)\n",
    "\n",
    "# predict\n",
    "y_pred = svm_model.predict(df_test_pca_95)"
   ]
  },
  {
   "cell_type": "code",
   "execution_count": 81,
   "metadata": {},
   "outputs": [
    {
     "name": "stdout",
     "output_type": "stream",
     "text": [
      "accuracy 0.9242282507015903\n",
      "precision 0.29961089494163423\n",
      "recall/sensitivity 0.34841628959276016\n"
     ]
    }
   ],
   "source": [
    "# metrics\n",
    "# print other metrics\n",
    "\n",
    "# accuracy\n",
    "print(\"accuracy\", metrics.accuracy_score(y_test, y_pred))\n",
    "\n",
    "# precision\n",
    "print(\"precision\", metrics.precision_score(y_test, y_pred))\n",
    "\n",
    "# recall/sensitivity\n",
    "print(\"recall/sensitivity\", metrics.recall_score(y_test, y_pred))\n"
   ]
  },
  {
   "cell_type": "code",
   "execution_count": null,
   "metadata": {},
   "outputs": [],
   "source": []
  },
  {
   "cell_type": "code",
   "execution_count": null,
   "metadata": {},
   "outputs": [],
   "source": []
  },
  {
   "cell_type": "code",
   "execution_count": 74,
   "metadata": {},
   "outputs": [
    {
     "data": {
      "image/png": "[encoded data removed]",
      "text/plain": [
       "<Figure size 360x360 with 1 Axes>"
      ]
     },
     "metadata": {},
     "output_type": "display_data"
    },
    {
     "data": {
      "text/plain": [
       "(array([0.        , 0.04438964, 1.        ]),\n",
       " array([0.        , 0.34841629, 1.        ]),\n",
       " array([2, 1, 0], dtype=int64))"
      ]
     },
     "execution_count": 74,
     "metadata": {},
     "output_type": "execute_result"
    }
   ],
   "source": [
    "draw_roc(y_test, y_pred)"
   ]
  },
  {
   "cell_type": "code",
   "execution_count": null,
   "metadata": {},
   "outputs": [],
   "source": []
  },
  {
   "cell_type": "code",
   "execution_count": null,
   "metadata": {},
   "outputs": [],
   "source": []
  },
  {
   "cell_type": "code",
   "execution_count": null,
   "metadata": {},
   "outputs": [],
   "source": []
  }
 ],
 "metadata": {
  "kernelspec": {
   "display_name": "Python 3",
   "language": "python",
   "name": "python3"
  },
  "language_info": {
   "codemirror_mode": {
    "name": "ipython",
    "version": 3
   },
   "file_extension": ".py",
   "mimetype": "text/x-python",
   "name": "python",
   "nbconvert_exporter": "python",
   "pygments_lexer": "ipython3",
   "version": "3.5.2"
  }
 },
 "nbformat": 4,
 "nbformat_minor": 2
}
