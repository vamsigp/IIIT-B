{
 "cells": [
  {
   "cell_type": "markdown",
   "metadata": {
    "colab_type": "text",
    "id": "EyXnNhFHrj6e"
   },
   "source": [
    "https://www.analyticsvidhya.com/blog/2017/03/imbalanced-classification-problem/\n",
    "\n",
    "Derived Variables - \n",
    "* AON (convert days to months)\n",
    "\n",
    "\n",
    "\n"
   ]
  },
  {
   "cell_type": "markdown",
   "metadata": {
    "colab_type": "text",
    "id": "Rlan_Syqri_V"
   },
   "source": [
    "Import Statements"
   ]
  },
  {
   "cell_type": "code",
   "execution_count": 115,
   "metadata": {
    "colab": {},
    "colab_type": "code",
    "id": "NNq25SxGLjt1"
   },
   "outputs": [],
   "source": [
    "import numpy as np\n",
    "import pandas as pd\n",
    "import seaborn as sns\n",
    "import matplotlib.pyplot as plt\n",
    "\n",
    "%matplotlib inline\n",
    "\n",
    "import os"
   ]
  },
  {
   "cell_type": "markdown",
   "metadata": {
    "colab_type": "text",
    "id": "4819ru60L0aF"
   },
   "source": [
    "# Download the data from GDrive"
   ]
  },
  {
   "cell_type": "code",
   "execution_count": 116,
   "metadata": {
    "colab": {
     "base_uri": "https://localhost:8080/",
     "height": 138
    },
    "colab_type": "code",
    "executionInfo": {
     "elapsed": 20832,
     "status": "ok",
     "timestamp": 1560855302995,
     "user": {
      "displayName": "Vamsi Krishna",
      "photoUrl": "https://lh6.googleusercontent.com/-FybFae86-kI/AAAAAAAAAAI/AAAAAAAAE4Q/jGOo03zfhXI/s64/photo.jpg",
      "userId": "12165405222911871892"
     },
     "user_tz": -330
    },
    "id": "LVwH0DUphzPH",
    "outputId": "b2aacbc9-4c92-416c-e97a-361973afd9bd"
   },
   "outputs": [
    {
     "ename": "ModuleNotFoundError",
     "evalue": "No module named 'google'",
     "output_type": "error",
     "traceback": [
      "\u001b[1;31m---------------------------------------------------------------------------\u001b[0m",
      "\u001b[1;31mModuleNotFoundError\u001b[0m                       Traceback (most recent call last)",
      "\u001b[1;32m<ipython-input-116-6bcb8909ac2b>\u001b[0m in \u001b[0;36m<module>\u001b[1;34m\u001b[0m\n\u001b[1;32m----> 1\u001b[1;33m \u001b[1;32mfrom\u001b[0m \u001b[0mgoogle\u001b[0m\u001b[1;33m.\u001b[0m\u001b[0mcolab\u001b[0m \u001b[1;32mimport\u001b[0m \u001b[0mdrive\u001b[0m\u001b[1;33m\u001b[0m\u001b[1;33m\u001b[0m\u001b[0m\n\u001b[0m\u001b[0;32m      2\u001b[0m \u001b[0mdrive\u001b[0m\u001b[1;33m.\u001b[0m\u001b[0mmount\u001b[0m\u001b[1;33m(\u001b[0m\u001b[1;34m'/gdrive'\u001b[0m\u001b[1;33m)\u001b[0m\u001b[1;33m\u001b[0m\u001b[1;33m\u001b[0m\u001b[0m\n\u001b[0;32m      3\u001b[0m \u001b[0mget_ipython\u001b[0m\u001b[1;33m(\u001b[0m\u001b[1;33m)\u001b[0m\u001b[1;33m.\u001b[0m\u001b[0mrun_line_magic\u001b[0m\u001b[1;33m(\u001b[0m\u001b[1;34m'cd'\u001b[0m\u001b[1;33m,\u001b[0m \u001b[1;34m'/gdrive'\u001b[0m\u001b[1;33m)\u001b[0m\u001b[1;33m\u001b[0m\u001b[1;33m\u001b[0m\u001b[0m\n",
      "\u001b[1;31mModuleNotFoundError\u001b[0m: No module named 'google'"
     ]
    }
   ],
   "source": [
    "from google.colab import drive\n",
    "drive.mount('/gdrive')\n",
    "%cd /gdrive"
   ]
  },
  {
   "cell_type": "code",
   "execution_count": null,
   "metadata": {
    "colab": {
     "base_uri": "https://localhost:8080/",
     "height": 50
    },
    "colab_type": "code",
    "executionInfo": {
     "elapsed": 29479,
     "status": "ok",
     "timestamp": 1560855339326,
     "user": {
      "displayName": "Vamsi Krishna",
      "photoUrl": "https://lh6.googleusercontent.com/-FybFae86-kI/AAAAAAAAAAI/AAAAAAAAE4Q/jGOo03zfhXI/s64/photo.jpg",
      "userId": "12165405222911871892"
     },
     "user_tz": -330
    },
    "id": "2XGhafctVCt8",
    "outputId": "2a6ec462-7323-4416-94ea-5696ce3da742"
   },
   "outputs": [],
   "source": [
    "!pip install -U -q PyDrive\n",
    "from pydrive.auth import GoogleAuth\n",
    "from pydrive.drive import GoogleDrive\n",
    "from google.colab import auth\n",
    "from oauth2client.client import GoogleCredentials\n",
    "# Authenticate and create the PyDrive client.\n",
    "auth.authenticate_user()\n",
    "gauth = GoogleAuth()\n",
    "gauth.credentials = GoogleCredentials.get_application_default()\n",
    "drive = GoogleDrive(gauth)"
   ]
  },
  {
   "cell_type": "markdown",
   "metadata": {
    "colab_type": "text",
    "id": "9Arm7Aalr3kN"
   },
   "source": [
    "Refer to this for the **dir_id**\n",
    "\n",
    "https://stackoverflow.com/questions/48436959/how-to-upload-csv-file-and-use-it-from-google-drive-into-google-colaboratory?rq=1\n",
    "\n",
    "\n",
    "https://towardsdatascience.com/3-ways-to-load-csv-files-into-colab-7c14fcbdcb92"
   ]
  },
  {
   "cell_type": "code",
   "execution_count": null,
   "metadata": {
    "colab": {
     "base_uri": "https://localhost:8080/",
     "height": 34
    },
    "colab_type": "code",
    "executionInfo": {
     "elapsed": 1427,
     "status": "ok",
     "timestamp": 1560855348087,
     "user": {
      "displayName": "Vamsi Krishna",
      "photoUrl": "https://lh6.googleusercontent.com/-FybFae86-kI/AAAAAAAAAAI/AAAAAAAAE4Q/jGOo03zfhXI/s64/photo.jpg",
      "userId": "12165405222911871892"
     },
     "user_tz": -330
    },
    "id": "sN0op30BVDB8",
    "outputId": "9272cceb-a7bc-44cb-e0a6-ad28e21ce4c4"
   },
   "outputs": [],
   "source": [
    "dir_id = \"1SrJ8S1wXZ-eoTvuVCwjx6DZAg1p3lDdH\"\n",
    "file_list = drive.ListFile(\n",
    "    {'q': \"title contains 'telecom_churn_data.csv' and '1SrJ8S1wXZ-eoTvuVCwjx6DZAg1p3lDdH' in parents\"}).GetList()\n",
    "\n",
    "for f in file_list:\n",
    "  print('title: %s, id: %s' % (f['title'], f['id']))"
   ]
  },
  {
   "cell_type": "code",
   "execution_count": null,
   "metadata": {
    "colab": {},
    "colab_type": "code",
    "id": "k6SpowTnghtP"
   },
   "outputs": [],
   "source": []
  },
  {
   "cell_type": "code",
   "execution_count": null,
   "metadata": {
    "colab": {},
    "colab_type": "code",
    "id": "RJdFZcgrjdEA"
   },
   "outputs": [],
   "source": [
    "download_path = os.path.expanduser('~/data')\n",
    "try:\n",
    "  os.makedirs(download_path)\n",
    "except FileExistsError:\n",
    "  pass"
   ]
  },
  {
   "cell_type": "code",
   "execution_count": null,
   "metadata": {
    "colab": {},
    "colab_type": "code",
    "id": "NfmDqEiNpzxJ"
   },
   "outputs": [],
   "source": [
    "# f['title']\n",
    "data_set_name = \"telecom_churn_data.csv\" \n",
    "# f['id']\n",
    "data_set_id = \"1SWnADIda31mVFevFcfkGtcgBHTKKI94J\"\n",
    "\n",
    "output_file = os.path.join(download_path, data_set_name)\n",
    "temp_file = drive.CreateFile({'id': data_set_id})\n",
    "temp_file.GetContentFile(output_file)"
   ]
  },
  {
   "cell_type": "code",
   "execution_count": null,
   "metadata": {
    "colab": {
     "base_uri": "https://localhost:8080/",
     "height": 34
    },
    "colab_type": "code",
    "executionInfo": {
     "elapsed": 843,
     "status": "ok",
     "timestamp": 1560855364688,
     "user": {
      "displayName": "Vamsi Krishna",
      "photoUrl": "https://lh6.googleusercontent.com/-FybFae86-kI/AAAAAAAAAAI/AAAAAAAAE4Q/jGOo03zfhXI/s64/photo.jpg",
      "userId": "12165405222911871892"
     },
     "user_tz": -330
    },
    "id": "Vdd_tWB9mx4Q",
    "outputId": "8f05f868-be02-4a04-98e3-4cb7116d6dbf"
   },
   "outputs": [],
   "source": [
    "print(output_file)"
   ]
  },
  {
   "cell_type": "code",
   "execution_count": null,
   "metadata": {
    "colab": {},
    "colab_type": "code",
    "id": "4ee2qhlRkKMT"
   },
   "outputs": [],
   "source": [
    "\n",
    "# fusermount -u drive\n",
    "# !google-drive-ocamlfuse drive"
   ]
  },
  {
   "cell_type": "code",
   "execution_count": null,
   "metadata": {
    "colab": {},
    "colab_type": "code",
    "id": "RoTuHGd4kK34"
   },
   "outputs": [],
   "source": [
    "# with open(output_file1, 'r') as f:\n",
    "#   print(f.read())"
   ]
  },
  {
   "cell_type": "markdown",
   "metadata": {
    "colab_type": "text",
    "id": "kWsIMLr4nIol"
   },
   "source": [
    "#### Read the data to Dataframe"
   ]
  },
  {
   "cell_type": "code",
   "execution_count": null,
   "metadata": {},
   "outputs": [],
   "source": [
    "output_file = 'telecom_churn_data.csv'"
   ]
  },
  {
   "cell_type": "code",
   "execution_count": null,
   "metadata": {
    "colab": {},
    "colab_type": "code",
    "id": "xLA4fmwlj9nu"
   },
   "outputs": [],
   "source": [
    "data = pd.read_csv(output_file)"
   ]
  },
  {
   "cell_type": "code",
   "execution_count": null,
   "metadata": {
    "colab": {
     "base_uri": "https://localhost:8080/",
     "height": 3898
    },
    "colab_type": "code",
    "executionInfo": {
     "elapsed": 4871,
     "status": "ok",
     "timestamp": 1560867178400,
     "user": {
      "displayName": "Vamsi Krishna",
      "photoUrl": "https://lh6.googleusercontent.com/-FybFae86-kI/AAAAAAAAAAI/AAAAAAAAE4Q/jGOo03zfhXI/s64/photo.jpg",
      "userId": "12165405222911871892"
     },
     "user_tz": -330
    },
    "id": "xEeS0Eobm2Jp",
    "outputId": "f3b1824c-0ccd-4b08-be52-62911096e0da"
   },
   "outputs": [],
   "source": [
    "data.info(verbose=True)"
   ]
  },
  {
   "cell_type": "code",
   "execution_count": null,
   "metadata": {
    "colab": {
     "base_uri": "https://localhost:8080/",
     "height": 244
    },
    "colab_type": "code",
    "executionInfo": {
     "elapsed": 4859,
     "status": "ok",
     "timestamp": 1560867178401,
     "user": {
      "displayName": "Vamsi Krishna",
      "photoUrl": "https://lh6.googleusercontent.com/-FybFae86-kI/AAAAAAAAAAI/AAAAAAAAE4Q/jGOo03zfhXI/s64/photo.jpg",
      "userId": "12165405222911871892"
     },
     "user_tz": -330
    },
    "id": "qpWTeS5PqT8R",
    "outputId": "dc71cee4-0e76-4431-bc15-f83e58074448"
   },
   "outputs": [],
   "source": [
    "data.head()"
   ]
  },
  {
   "cell_type": "code",
   "execution_count": null,
   "metadata": {
    "colab": {},
    "colab_type": "code",
    "id": "NPK6TEOeq0SP"
   },
   "outputs": [],
   "source": []
  },
  {
   "cell_type": "code",
   "execution_count": null,
   "metadata": {
    "colab": {
     "base_uri": "https://localhost:8080/",
     "height": 134
    },
    "colab_type": "code",
    "executionInfo": {
     "elapsed": 4835,
     "status": "ok",
     "timestamp": 1560867178404,
     "user": {
      "displayName": "Vamsi Krishna",
      "photoUrl": "https://lh6.googleusercontent.com/-FybFae86-kI/AAAAAAAAAAI/AAAAAAAAE4Q/jGOo03zfhXI/s64/photo.jpg",
      "userId": "12165405222911871892"
     },
     "user_tz": -330
    },
    "id": "iKsPMidykA0G",
    "outputId": "d511c30f-5798-4a33-94c4-51e2d859b24f"
   },
   "outputs": [],
   "source": [
    "data.columns"
   ]
  },
  {
   "cell_type": "code",
   "execution_count": null,
   "metadata": {
    "colab": {
     "base_uri": "https://localhost:8080/",
     "height": 34
    },
    "colab_type": "code",
    "executionInfo": {
     "elapsed": 4825,
     "status": "ok",
     "timestamp": 1560867178405,
     "user": {
      "displayName": "Vamsi Krishna",
      "photoUrl": "https://lh6.googleusercontent.com/-FybFae86-kI/AAAAAAAAAAI/AAAAAAAAE4Q/jGOo03zfhXI/s64/photo.jpg",
      "userId": "12165405222911871892"
     },
     "user_tz": -330
    },
    "id": "2w2Duc1cVPt-",
    "outputId": "e55a2c5c-45c9-4fb5-b3df-a34f35d84300"
   },
   "outputs": [],
   "source": [
    "len(data.mobile_number.unique())"
   ]
  },
  {
   "cell_type": "code",
   "execution_count": null,
   "metadata": {
    "colab": {
     "base_uri": "https://localhost:8080/",
     "height": 34
    },
    "colab_type": "code",
    "executionInfo": {
     "elapsed": 4812,
     "status": "ok",
     "timestamp": 1560867178406,
     "user": {
      "displayName": "Vamsi Krishna",
      "photoUrl": "https://lh6.googleusercontent.com/-FybFae86-kI/AAAAAAAAAAI/AAAAAAAAE4Q/jGOo03zfhXI/s64/photo.jpg",
      "userId": "12165405222911871892"
     },
     "user_tz": -330
    },
    "id": "jI2OQcZSVSNG",
    "outputId": "6f618ec7-c357-457c-a65f-19366f447fb1"
   },
   "outputs": [],
   "source": [
    "a = data.last_date_of_month_6.iloc[1]\n",
    "print(a, type(a))\n"
   ]
  },
  {
   "cell_type": "code",
   "execution_count": null,
   "metadata": {
    "colab": {},
    "colab_type": "code",
    "id": "45gk-5-VewUD"
   },
   "outputs": [],
   "source": [
    "# data.nunique(axis=1)"
   ]
  },
  {
   "cell_type": "code",
   "execution_count": null,
   "metadata": {
    "colab": {},
    "colab_type": "code",
    "id": "mmj6aEeyfYu5"
   },
   "outputs": [],
   "source": []
  },
  {
   "cell_type": "code",
   "execution_count": null,
   "metadata": {
    "colab": {
     "base_uri": "https://localhost:8080/",
     "height": 84
    },
    "colab_type": "code",
    "executionInfo": {
     "elapsed": 5200,
     "status": "ok",
     "timestamp": 1560867178829,
     "user": {
      "displayName": "Vamsi Krishna",
      "photoUrl": "https://lh6.googleusercontent.com/-FybFae86-kI/AAAAAAAAAAI/AAAAAAAAE4Q/jGOo03zfhXI/s64/photo.jpg",
      "userId": "12165405222911871892"
     },
     "user_tz": -330
    },
    "id": "MhqWcOvIVWe9",
    "outputId": "ca435143-4917-45de-a6e6-0a0c7715884b"
   },
   "outputs": [],
   "source": [
    "uni_6 = data.last_date_of_month_6.unique()\n",
    "print(len(uni_6), uni_6)\n",
    "\n",
    "uni_7 = data.last_date_of_month_7.unique()\n",
    "print(len(uni_7), uni_7)\n",
    "\n",
    "uni_8 = data.last_date_of_month_8.unique()\n",
    "print(len(uni_8), uni_8)\n",
    "\n",
    "uni_9 = data.last_date_of_month_8.unique()\n",
    "print(len(uni_9), uni_9)"
   ]
  },
  {
   "cell_type": "markdown",
   "metadata": {
    "colab_type": "text",
    "id": "BmilTYjJVcIv"
   },
   "source": [
    "\n",
    "*   Impute the missing 'nan' values in last_date_of_month_? with end data of the month\n",
    "*   Convert into datetime object using pd.to_datetime\n",
    "\n"
   ]
  },
  {
   "cell_type": "code",
   "execution_count": 117,
   "metadata": {
    "colab": {
     "base_uri": "https://localhost:8080/",
     "height": 50
    },
    "colab_type": "code",
    "executionInfo": {
     "elapsed": 5190,
     "status": "ok",
     "timestamp": 1560867178831,
     "user": {
      "displayName": "Vamsi Krishna",
      "photoUrl": "https://lh6.googleusercontent.com/-FybFae86-kI/AAAAAAAAAAI/AAAAAAAAE4Q/jGOo03zfhXI/s64/photo.jpg",
      "userId": "12165405222911871892"
     },
     "user_tz": -330
    },
    "id": "ZOU9s7bMV8eW",
    "outputId": "da2f04d7-f5de-4486-c02a-e7283df7251d"
   },
   "outputs": [
    {
     "name": "stdout",
     "output_type": "stream",
     "text": [
      "1\n",
      "[109]\n"
     ]
    }
   ],
   "source": [
    "print(data.circle_id.nunique())\n",
    "print(data.circle_id.unique())"
   ]
  },
  {
   "cell_type": "markdown",
   "metadata": {
    "colab_type": "text",
    "id": "JWCGSuu8ZYW-"
   },
   "source": [
    "circle_id => can be dropped"
   ]
  },
  {
   "cell_type": "markdown",
   "metadata": {
    "colab_type": "text",
    "id": "Xd7mvnAUZhiT"
   },
   "source": [
    "Below are variables which should be yes/no => categorical variables\n",
    "\n",
    "*   fb_user_6\t\n",
    "*   fb_user_7\n",
    "*   fb_user_8\n",
    "*   fb_user_9\n",
    "\n",
    "*   night_pck_user_6\n",
    "*   night_pck_user_7\n",
    "*   night_pck_user_8\n",
    "*   night_pck_user_9\n",
    "\n",
    "This can also be retained as '1' and '0' => better verify both the ways\n"
   ]
  },
  {
   "cell_type": "markdown",
   "metadata": {
    "colab_type": "text",
    "id": "r7qrMS-Xcb5W"
   },
   "source": [
    "Sort the columns for better understanding (all loc_, std_, etc., will come up in a better way)"
   ]
  },
  {
   "cell_type": "code",
   "execution_count": null,
   "metadata": {
    "colab": {},
    "colab_type": "code",
    "id": "EOI-sOyTck8f"
   },
   "outputs": [],
   "source": []
  },
  {
   "cell_type": "code",
   "execution_count": 118,
   "metadata": {
    "colab": {},
    "colab_type": "code",
    "id": "UAJFY83UcKXS"
   },
   "outputs": [],
   "source": [
    "df = data.reindex(sorted(data.columns), axis=1)"
   ]
  },
  {
   "cell_type": "code",
   "execution_count": 119,
   "metadata": {
    "colab": {
     "base_uri": "https://localhost:8080/",
     "height": 101
    },
    "colab_type": "code",
    "executionInfo": {
     "elapsed": 5173,
     "status": "ok",
     "timestamp": 1560867178838,
     "user": {
      "displayName": "Vamsi Krishna",
      "photoUrl": "https://lh6.googleusercontent.com/-FybFae86-kI/AAAAAAAAAAI/AAAAAAAAE4Q/jGOo03zfhXI/s64/photo.jpg",
      "userId": "12165405222911871892"
     },
     "user_tz": -330
    },
    "id": "bUpK7yLYcoH_",
    "outputId": "021f8e4a-3477-4b88-8c57-52c7a3bcf57a"
   },
   "outputs": [
    {
     "name": "stdout",
     "output_type": "stream",
     "text": [
      "<class 'pandas.core.frame.DataFrame'>\n",
      "RangeIndex: 99999 entries, 0 to 99998\n",
      "Columns: 226 entries, aon to vol_3g_mb_9\n",
      "dtypes: float64(179), int64(35), object(12)\n",
      "memory usage: 172.4+ MB\n"
     ]
    }
   ],
   "source": [
    "df.info()"
   ]
  },
  {
   "cell_type": "code",
   "execution_count": 120,
   "metadata": {
    "colab": {},
    "colab_type": "code",
    "id": "z0fW6uiscpy2"
   },
   "outputs": [],
   "source": [
    "# df.to_csv('telecom_churn_data1.csv')"
   ]
  },
  {
   "cell_type": "code",
   "execution_count": 121,
   "metadata": {
    "colab": {
     "base_uri": "https://localhost:8080/",
     "height": 54
    },
    "colab_type": "code",
    "executionInfo": {
     "elapsed": 5156,
     "status": "ok",
     "timestamp": 1560867178842,
     "user": {
      "displayName": "Vamsi Krishna",
      "photoUrl": "https://lh6.googleusercontent.com/-FybFae86-kI/AAAAAAAAAAI/AAAAAAAAE4Q/jGOo03zfhXI/s64/photo.jpg",
      "userId": "12165405222911871892"
     },
     "user_tz": -330
    },
    "id": "xIDp2jU6c0tF",
    "outputId": "681a868b-8fa1-4231-dcc0-5555155b1f4c"
   },
   "outputs": [
    {
     "name": "stdout",
     "output_type": "stream",
     "text": [
      "226 <class 'list'> ['aon', 'arpu_2g_6', 'arpu_2g_7', 'arpu_2g_8', 'arpu_2g_9', 'arpu_3g_6', 'arpu_3g_7', 'arpu_3g_8', 'arpu_3g_9', 'arpu_6', 'arpu_7', 'arpu_8', 'arpu_9', 'aug_vbc_3g', 'av_rech_amt_data_6', 'av_rech_amt_data_7', 'av_rech_amt_data_8', 'av_rech_amt_data_9', 'circle_id', 'count_rech_2g_6', 'count_rech_2g_7', 'count_rech_2g_8', 'count_rech_2g_9', 'count_rech_3g_6', 'count_rech_3g_7', 'count_rech_3g_8', 'count_rech_3g_9', 'date_of_last_rech_6', 'date_of_last_rech_7', 'date_of_last_rech_8', 'date_of_last_rech_9', 'date_of_last_rech_data_6', 'date_of_last_rech_data_7', 'date_of_last_rech_data_8', 'date_of_last_rech_data_9', 'fb_user_6', 'fb_user_7', 'fb_user_8', 'fb_user_9', 'ic_others_6', 'ic_others_7', 'ic_others_8', 'ic_others_9', 'isd_ic_mou_6', 'isd_ic_mou_7', 'isd_ic_mou_8', 'isd_ic_mou_9', 'isd_og_mou_6', 'isd_og_mou_7', 'isd_og_mou_8', 'isd_og_mou_9', 'jul_vbc_3g', 'jun_vbc_3g', 'last_date_of_month_6', 'last_date_of_month_7', 'last_date_of_month_8', 'last_date_of_month_9', 'last_day_rch_amt_6', 'last_day_rch_amt_7', 'last_day_rch_amt_8', 'last_day_rch_amt_9', 'loc_ic_mou_6', 'loc_ic_mou_7', 'loc_ic_mou_8', 'loc_ic_mou_9', 'loc_ic_t2f_mou_6', 'loc_ic_t2f_mou_7', 'loc_ic_t2f_mou_8', 'loc_ic_t2f_mou_9', 'loc_ic_t2m_mou_6', 'loc_ic_t2m_mou_7', 'loc_ic_t2m_mou_8', 'loc_ic_t2m_mou_9', 'loc_ic_t2o_mou', 'loc_ic_t2t_mou_6', 'loc_ic_t2t_mou_7', 'loc_ic_t2t_mou_8', 'loc_ic_t2t_mou_9', 'loc_og_mou_6', 'loc_og_mou_7', 'loc_og_mou_8', 'loc_og_mou_9', 'loc_og_t2c_mou_6', 'loc_og_t2c_mou_7', 'loc_og_t2c_mou_8', 'loc_og_t2c_mou_9', 'loc_og_t2f_mou_6', 'loc_og_t2f_mou_7', 'loc_og_t2f_mou_8', 'loc_og_t2f_mou_9', 'loc_og_t2m_mou_6', 'loc_og_t2m_mou_7', 'loc_og_t2m_mou_8', 'loc_og_t2m_mou_9', 'loc_og_t2o_mou', 'loc_og_t2t_mou_6', 'loc_og_t2t_mou_7', 'loc_og_t2t_mou_8', 'loc_og_t2t_mou_9', 'max_rech_amt_6', 'max_rech_amt_7', 'max_rech_amt_8', 'max_rech_amt_9', 'max_rech_data_6', 'max_rech_data_7', 'max_rech_data_8', 'max_rech_data_9', 'mobile_number', 'monthly_2g_6', 'monthly_2g_7', 'monthly_2g_8', 'monthly_2g_9', 'monthly_3g_6', 'monthly_3g_7', 'monthly_3g_8', 'monthly_3g_9', 'night_pck_user_6', 'night_pck_user_7', 'night_pck_user_8', 'night_pck_user_9', 'offnet_mou_6', 'offnet_mou_7', 'offnet_mou_8', 'offnet_mou_9', 'og_others_6', 'og_others_7', 'og_others_8', 'og_others_9', 'onnet_mou_6', 'onnet_mou_7', 'onnet_mou_8', 'onnet_mou_9', 'roam_ic_mou_6', 'roam_ic_mou_7', 'roam_ic_mou_8', 'roam_ic_mou_9', 'roam_og_mou_6', 'roam_og_mou_7', 'roam_og_mou_8', 'roam_og_mou_9', 'sachet_2g_6', 'sachet_2g_7', 'sachet_2g_8', 'sachet_2g_9', 'sachet_3g_6', 'sachet_3g_7', 'sachet_3g_8', 'sachet_3g_9', 'sep_vbc_3g', 'spl_ic_mou_6', 'spl_ic_mou_7', 'spl_ic_mou_8', 'spl_ic_mou_9', 'spl_og_mou_6', 'spl_og_mou_7', 'spl_og_mou_8', 'spl_og_mou_9', 'std_ic_mou_6', 'std_ic_mou_7', 'std_ic_mou_8', 'std_ic_mou_9', 'std_ic_t2f_mou_6', 'std_ic_t2f_mou_7', 'std_ic_t2f_mou_8', 'std_ic_t2f_mou_9', 'std_ic_t2m_mou_6', 'std_ic_t2m_mou_7', 'std_ic_t2m_mou_8', 'std_ic_t2m_mou_9', 'std_ic_t2o_mou_6', 'std_ic_t2o_mou_7', 'std_ic_t2o_mou_8', 'std_ic_t2o_mou_9', 'std_ic_t2t_mou_6', 'std_ic_t2t_mou_7', 'std_ic_t2t_mou_8', 'std_ic_t2t_mou_9', 'std_og_mou_6', 'std_og_mou_7', 'std_og_mou_8', 'std_og_mou_9', 'std_og_t2c_mou_6', 'std_og_t2c_mou_7', 'std_og_t2c_mou_8', 'std_og_t2c_mou_9', 'std_og_t2f_mou_6', 'std_og_t2f_mou_7', 'std_og_t2f_mou_8', 'std_og_t2f_mou_9', 'std_og_t2m_mou_6', 'std_og_t2m_mou_7', 'std_og_t2m_mou_8', 'std_og_t2m_mou_9', 'std_og_t2o_mou', 'std_og_t2t_mou_6', 'std_og_t2t_mou_7', 'std_og_t2t_mou_8', 'std_og_t2t_mou_9', 'total_ic_mou_6', 'total_ic_mou_7', 'total_ic_mou_8', 'total_ic_mou_9', 'total_og_mou_6', 'total_og_mou_7', 'total_og_mou_8', 'total_og_mou_9', 'total_rech_amt_6', 'total_rech_amt_7', 'total_rech_amt_8', 'total_rech_amt_9', 'total_rech_data_6', 'total_rech_data_7', 'total_rech_data_8', 'total_rech_data_9', 'total_rech_num_6', 'total_rech_num_7', 'total_rech_num_8', 'total_rech_num_9', 'vol_2g_mb_6', 'vol_2g_mb_7', 'vol_2g_mb_8', 'vol_2g_mb_9', 'vol_3g_mb_6', 'vol_3g_mb_7', 'vol_3g_mb_8', 'vol_3g_mb_9']\n"
     ]
    }
   ],
   "source": [
    "cols = sorted(df.columns)\n",
    "print(len(cols), type(cols), cols)"
   ]
  },
  {
   "cell_type": "code",
   "execution_count": null,
   "metadata": {
    "colab": {},
    "colab_type": "code",
    "id": "yMkTAGqviT3x"
   },
   "outputs": [],
   "source": []
  },
  {
   "cell_type": "code",
   "execution_count": 122,
   "metadata": {
    "colab": {
     "base_uri": "https://localhost:8080/",
     "height": 34
    },
    "colab_type": "code",
    "executionInfo": {
     "elapsed": 5140,
     "status": "ok",
     "timestamp": 1560867178847,
     "user": {
      "displayName": "Vamsi Krishna",
      "photoUrl": "https://lh6.googleusercontent.com/-FybFae86-kI/AAAAAAAAAAI/AAAAAAAAE4Q/jGOo03zfhXI/s64/photo.jpg",
      "userId": "12165405222911871892"
     },
     "user_tz": -330
    },
    "id": "6Ou95922fszV",
    "outputId": "6f9900ee-0439-4ca2-9673-02e72e8a90cc"
   },
   "outputs": [
    {
     "name": "stdout",
     "output_type": "stream",
     "text": [
      "8 <class 'list'>\n"
     ]
    }
   ],
   "source": [
    "count_cols = [col for col in df.columns if 'count' in col]\n",
    "\n",
    "print(len(count_cols), type(count_cols))\n",
    "# count_cols"
   ]
  },
  {
   "cell_type": "code",
   "execution_count": 123,
   "metadata": {
    "colab": {
     "base_uri": "https://localhost:8080/",
     "height": 34
    },
    "colab_type": "code",
    "executionInfo": {
     "elapsed": 5130,
     "status": "ok",
     "timestamp": 1560867178847,
     "user": {
      "displayName": "Vamsi Krishna",
      "photoUrl": "https://lh6.googleusercontent.com/-FybFae86-kI/AAAAAAAAAAI/AAAAAAAAE4Q/jGOo03zfhXI/s64/photo.jpg",
      "userId": "12165405222911871892"
     },
     "user_tz": -330
    },
    "id": "gSmOO4iZjhmV",
    "outputId": "e8282393-b553-4164-c47c-543abfde9c46"
   },
   "outputs": [
    {
     "name": "stdout",
     "output_type": "stream",
     "text": [
      "38 <class 'list'>\n"
     ]
    }
   ],
   "source": [
    "loc_cols = [col for col in df.columns if 'loc' in col]\n",
    "print(len(loc_cols), type(loc_cols))"
   ]
  },
  {
   "cell_type": "code",
   "execution_count": 124,
   "metadata": {
    "colab": {
     "base_uri": "https://localhost:8080/",
     "height": 34
    },
    "colab_type": "code",
    "executionInfo": {
     "elapsed": 5122,
     "status": "ok",
     "timestamp": 1560867178849,
     "user": {
      "displayName": "Vamsi Krishna",
      "photoUrl": "https://lh6.googleusercontent.com/-FybFae86-kI/AAAAAAAAAAI/AAAAAAAAE4Q/jGOo03zfhXI/s64/photo.jpg",
      "userId": "12165405222911871892"
     },
     "user_tz": -330
    },
    "id": "lYRiRLKqjjRd",
    "outputId": "a645a0e3-ba2a-417b-c931-436aa46b2c2d"
   },
   "outputs": [
    {
     "name": "stdout",
     "output_type": "stream",
     "text": [
      "12 <class 'list'>\n"
     ]
    }
   ],
   "source": [
    "arpu_cols = [col for col in df.columns if 'arpu' in col]\n",
    "print(len(arpu_cols), type(arpu_cols))"
   ]
  },
  {
   "cell_type": "code",
   "execution_count": 125,
   "metadata": {
    "colab": {
     "base_uri": "https://localhost:8080/",
     "height": 34
    },
    "colab_type": "code",
    "executionInfo": {
     "elapsed": 5112,
     "status": "ok",
     "timestamp": 1560867178850,
     "user": {
      "displayName": "Vamsi Krishna",
      "photoUrl": "https://lh6.googleusercontent.com/-FybFae86-kI/AAAAAAAAAAI/AAAAAAAAE4Q/jGOo03zfhXI/s64/photo.jpg",
      "userId": "12165405222911871892"
     },
     "user_tz": -330
    },
    "id": "Gv4TJIIgjgIX",
    "outputId": "9f1af982-0368-47db-c998-d3b9b98f29bd"
   },
   "outputs": [
    {
     "name": "stdout",
     "output_type": "stream",
     "text": [
      "4 <class 'list'>\n"
     ]
    }
   ],
   "source": [
    "av_rech_amt_cols = [col for col in df.columns if 'av_rech_amt' in col]\n",
    "print(len(av_rech_amt_cols), type(av_rech_amt_cols))"
   ]
  },
  {
   "cell_type": "code",
   "execution_count": 126,
   "metadata": {
    "colab": {
     "base_uri": "https://localhost:8080/",
     "height": 84
    },
    "colab_type": "code",
    "executionInfo": {
     "elapsed": 5103,
     "status": "ok",
     "timestamp": 1560867178851,
     "user": {
      "displayName": "Vamsi Krishna",
      "photoUrl": "https://lh6.googleusercontent.com/-FybFae86-kI/AAAAAAAAAAI/AAAAAAAAE4Q/jGOo03zfhXI/s64/photo.jpg",
      "userId": "12165405222911871892"
     },
     "user_tz": -330
    },
    "id": "VEZBfaK-vtXp",
    "outputId": "f4c31197-ad3a-4a86-8c06-c9418a4c5150"
   },
   "outputs": [
    {
     "data": {
      "text/plain": [
       "Index(['arpu_2g_6', 'arpu_2g_7', 'arpu_2g_8', 'arpu_2g_9', 'arpu_3g_6',\n",
       "       'arpu_3g_7', 'arpu_3g_8', 'arpu_3g_9', 'arpu_6', 'arpu_7', 'arpu_8',\n",
       "       'arpu_9'],\n",
       "      dtype='object')"
      ]
     },
     "execution_count": 126,
     "metadata": {},
     "output_type": "execute_result"
    }
   ],
   "source": [
    "df.filter(like = \"arpu\", axis =1).columns"
   ]
  },
  {
   "cell_type": "code",
   "execution_count": 127,
   "metadata": {
    "colab": {
     "base_uri": "https://localhost:8080/",
     "height": 235
    },
    "colab_type": "code",
    "executionInfo": {
     "elapsed": 5094,
     "status": "ok",
     "timestamp": 1560867178852,
     "user": {
      "displayName": "Vamsi Krishna",
      "photoUrl": "https://lh6.googleusercontent.com/-FybFae86-kI/AAAAAAAAAAI/AAAAAAAAE4Q/jGOo03zfhXI/s64/photo.jpg",
      "userId": "12165405222911871892"
     },
     "user_tz": -330
    },
    "id": "uQUOshgVvu7y",
    "outputId": "860f30e0-1ea0-42b0-fbc7-e13ddc865649"
   },
   "outputs": [
    {
     "data": {
      "text/plain": [
       "Index(['loc_ic_mou_6', 'loc_ic_mou_7', 'loc_ic_mou_8', 'loc_ic_mou_9',\n",
       "       'loc_ic_t2f_mou_6', 'loc_ic_t2f_mou_7', 'loc_ic_t2f_mou_8',\n",
       "       'loc_ic_t2f_mou_9', 'loc_ic_t2m_mou_6', 'loc_ic_t2m_mou_7',\n",
       "       'loc_ic_t2m_mou_8', 'loc_ic_t2m_mou_9', 'loc_ic_t2o_mou',\n",
       "       'loc_ic_t2t_mou_6', 'loc_ic_t2t_mou_7', 'loc_ic_t2t_mou_8',\n",
       "       'loc_ic_t2t_mou_9', 'loc_og_mou_6', 'loc_og_mou_7', 'loc_og_mou_8',\n",
       "       'loc_og_mou_9', 'loc_og_t2c_mou_6', 'loc_og_t2c_mou_7',\n",
       "       'loc_og_t2c_mou_8', 'loc_og_t2c_mou_9', 'loc_og_t2f_mou_6',\n",
       "       'loc_og_t2f_mou_7', 'loc_og_t2f_mou_8', 'loc_og_t2f_mou_9',\n",
       "       'loc_og_t2m_mou_6', 'loc_og_t2m_mou_7', 'loc_og_t2m_mou_8',\n",
       "       'loc_og_t2m_mou_9', 'loc_og_t2o_mou', 'loc_og_t2t_mou_6',\n",
       "       'loc_og_t2t_mou_7', 'loc_og_t2t_mou_8', 'loc_og_t2t_mou_9'],\n",
       "      dtype='object')"
      ]
     },
     "execution_count": 127,
     "metadata": {},
     "output_type": "execute_result"
    }
   ],
   "source": [
    "df.filter(like = \"loc\", axis =1).columns"
   ]
  },
  {
   "cell_type": "code",
   "execution_count": 128,
   "metadata": {
    "colab": {
     "base_uri": "https://localhost:8080/",
     "height": 134
    },
    "colab_type": "code",
    "executionInfo": {
     "elapsed": 5085,
     "status": "ok",
     "timestamp": 1560867178853,
     "user": {
      "displayName": "Vamsi Krishna",
      "photoUrl": "https://lh6.googleusercontent.com/-FybFae86-kI/AAAAAAAAAAI/AAAAAAAAE4Q/jGOo03zfhXI/s64/photo.jpg",
      "userId": "12165405222911871892"
     },
     "user_tz": -330
    },
    "id": "K7mcDLZVv0Kb",
    "outputId": "a10350e3-6b34-4841-d89b-b4c9108c2a58"
   },
   "outputs": [
    {
     "data": {
      "text/plain": [
       "Index(['av_rech_amt_data_6', 'av_rech_amt_data_7', 'av_rech_amt_data_8',\n",
       "       'av_rech_amt_data_9', 'last_day_rch_amt_6', 'last_day_rch_amt_7',\n",
       "       'last_day_rch_amt_8', 'last_day_rch_amt_9', 'max_rech_amt_6',\n",
       "       'max_rech_amt_7', 'max_rech_amt_8', 'max_rech_amt_9',\n",
       "       'total_rech_amt_6', 'total_rech_amt_7', 'total_rech_amt_8',\n",
       "       'total_rech_amt_9'],\n",
       "      dtype='object')"
      ]
     },
     "execution_count": 128,
     "metadata": {},
     "output_type": "execute_result"
    }
   ],
   "source": [
    "df.filter(like = \"amt\", axis =1).columns"
   ]
  },
  {
   "cell_type": "code",
   "execution_count": 129,
   "metadata": {
    "colab": {
     "base_uri": "https://localhost:8080/",
     "height": 302
    },
    "colab_type": "code",
    "executionInfo": {
     "elapsed": 5076,
     "status": "ok",
     "timestamp": 1560867178855,
     "user": {
      "displayName": "Vamsi Krishna",
      "photoUrl": "https://lh6.googleusercontent.com/-FybFae86-kI/AAAAAAAAAAI/AAAAAAAAE4Q/jGOo03zfhXI/s64/photo.jpg",
      "userId": "12165405222911871892"
     },
     "user_tz": -330
    },
    "id": "C54WgDnBv5K1",
    "outputId": "30cffbd1-aef5-4941-e861-4b72d2852ae0"
   },
   "outputs": [
    {
     "data": {
      "text/plain": [
       "Index(['arpu_2g_6', 'arpu_3g_6', 'arpu_6', 'av_rech_amt_data_6',\n",
       "       'count_rech_2g_6', 'count_rech_3g_6', 'date_of_last_rech_6',\n",
       "       'date_of_last_rech_data_6', 'fb_user_6', 'ic_others_6', 'isd_ic_mou_6',\n",
       "       'isd_og_mou_6', 'last_date_of_month_6', 'last_day_rch_amt_6',\n",
       "       'loc_ic_mou_6', 'loc_ic_t2f_mou_6', 'loc_ic_t2m_mou_6',\n",
       "       'loc_ic_t2t_mou_6', 'loc_og_mou_6', 'loc_og_t2c_mou_6',\n",
       "       'loc_og_t2f_mou_6', 'loc_og_t2m_mou_6', 'loc_og_t2t_mou_6',\n",
       "       'max_rech_amt_6', 'max_rech_data_6', 'monthly_2g_6', 'monthly_3g_6',\n",
       "       'night_pck_user_6', 'offnet_mou_6', 'og_others_6', 'onnet_mou_6',\n",
       "       'roam_ic_mou_6', 'roam_og_mou_6', 'sachet_2g_6', 'sachet_3g_6',\n",
       "       'spl_ic_mou_6', 'spl_og_mou_6', 'std_ic_mou_6', 'std_ic_t2f_mou_6',\n",
       "       'std_ic_t2m_mou_6', 'std_ic_t2o_mou_6', 'std_ic_t2t_mou_6',\n",
       "       'std_og_mou_6', 'std_og_t2c_mou_6', 'std_og_t2f_mou_6',\n",
       "       'std_og_t2m_mou_6', 'std_og_t2t_mou_6', 'total_ic_mou_6',\n",
       "       'total_og_mou_6', 'total_rech_amt_6', 'total_rech_data_6',\n",
       "       'total_rech_num_6', 'vol_2g_mb_6', 'vol_3g_mb_6'],\n",
       "      dtype='object')"
      ]
     },
     "execution_count": 129,
     "metadata": {},
     "output_type": "execute_result"
    }
   ],
   "source": [
    "df.filter(like = \"_6\", axis =1).columns"
   ]
  },
  {
   "cell_type": "code",
   "execution_count": 130,
   "metadata": {
    "colab": {
     "base_uri": "https://localhost:8080/",
     "height": 118
    },
    "colab_type": "code",
    "executionInfo": {
     "elapsed": 5067,
     "status": "ok",
     "timestamp": 1560867178856,
     "user": {
      "displayName": "Vamsi Krishna",
      "photoUrl": "https://lh6.googleusercontent.com/-FybFae86-kI/AAAAAAAAAAI/AAAAAAAAE4Q/jGOo03zfhXI/s64/photo.jpg",
      "userId": "12165405222911871892"
     },
     "user_tz": -330
    },
    "id": "Y8OIM4sLjt_Y",
    "outputId": "d056aa33-b802-4283-adde-57c7d5463f2b"
   },
   "outputs": [
    {
     "data": {
      "text/plain": [
       "Index(['date_of_last_rech_6', 'date_of_last_rech_7', 'date_of_last_rech_8',\n",
       "       'date_of_last_rech_9', 'date_of_last_rech_data_6',\n",
       "       'date_of_last_rech_data_7', 'date_of_last_rech_data_8',\n",
       "       'date_of_last_rech_data_9', 'last_date_of_month_6',\n",
       "       'last_date_of_month_7', 'last_date_of_month_8', 'last_date_of_month_9'],\n",
       "      dtype='object')"
      ]
     },
     "execution_count": 130,
     "metadata": {},
     "output_type": "execute_result"
    }
   ],
   "source": [
    "df.filter(like = \"date\", axis =1).columns"
   ]
  },
  {
   "cell_type": "code",
   "execution_count": 131,
   "metadata": {
    "colab": {
     "base_uri": "https://localhost:8080/",
     "height": 545
    },
    "colab_type": "code",
    "executionInfo": {
     "elapsed": 5665,
     "status": "ok",
     "timestamp": 1560867179466,
     "user": {
      "displayName": "Vamsi Krishna",
      "photoUrl": "https://lh6.googleusercontent.com/-FybFae86-kI/AAAAAAAAAAI/AAAAAAAAE4Q/jGOo03zfhXI/s64/photo.jpg",
      "userId": "12165405222911871892"
     },
     "user_tz": -330
    },
    "id": "CNRGxQqJnQ9I",
    "outputId": "5f8267c4-592f-40d7-f973-9872f53ca1e0"
   },
   "outputs": [
    {
     "name": "stdout",
     "output_type": "stream",
     "text": [
      "False\n",
      "0    5.0\n",
      "1    NaN\n",
      "2    NaN\n",
      "3    NaN\n",
      "4    6.0\n",
      "5    NaN\n",
      "6    NaN\n",
      "7    NaN\n",
      "8    NaN\n",
      "9    NaN\n",
      "dtype: float64\n"
     ]
    },
    {
     "data": {
      "text/html": [
       "<div>\n",
       "<style scoped>\n",
       "    .dataframe tbody tr th:only-of-type {\n",
       "        vertical-align: middle;\n",
       "    }\n",
       "\n",
       "    .dataframe tbody tr th {\n",
       "        vertical-align: top;\n",
       "    }\n",
       "\n",
       "    .dataframe thead th {\n",
       "        text-align: right;\n",
       "    }\n",
       "</style>\n",
       "<table border=\"1\" class=\"dataframe\">\n",
       "  <thead>\n",
       "    <tr style=\"text-align: right;\">\n",
       "      <th></th>\n",
       "      <th>0</th>\n",
       "      <th>total_rech_amt_6</th>\n",
       "      <th>total_rech_data_6</th>\n",
       "      <th>total_rech_num_6</th>\n",
       "    </tr>\n",
       "  </thead>\n",
       "  <tbody>\n",
       "    <tr>\n",
       "      <th>0</th>\n",
       "      <td>5.0</td>\n",
       "      <td>362</td>\n",
       "      <td>1.0</td>\n",
       "      <td>4</td>\n",
       "    </tr>\n",
       "    <tr>\n",
       "      <th>1</th>\n",
       "      <td>NaN</td>\n",
       "      <td>74</td>\n",
       "      <td>NaN</td>\n",
       "      <td>4</td>\n",
       "    </tr>\n",
       "    <tr>\n",
       "      <th>2</th>\n",
       "      <td>NaN</td>\n",
       "      <td>168</td>\n",
       "      <td>NaN</td>\n",
       "      <td>5</td>\n",
       "    </tr>\n",
       "    <tr>\n",
       "      <th>3</th>\n",
       "      <td>NaN</td>\n",
       "      <td>230</td>\n",
       "      <td>NaN</td>\n",
       "      <td>10</td>\n",
       "    </tr>\n",
       "    <tr>\n",
       "      <th>4</th>\n",
       "      <td>6.0</td>\n",
       "      <td>196</td>\n",
       "      <td>1.0</td>\n",
       "      <td>5</td>\n",
       "    </tr>\n",
       "    <tr>\n",
       "      <th>5</th>\n",
       "      <td>NaN</td>\n",
       "      <td>120</td>\n",
       "      <td>NaN</td>\n",
       "      <td>2</td>\n",
       "    </tr>\n",
       "    <tr>\n",
       "      <th>6</th>\n",
       "      <td>NaN</td>\n",
       "      <td>499</td>\n",
       "      <td>NaN</td>\n",
       "      <td>15</td>\n",
       "    </tr>\n",
       "    <tr>\n",
       "      <th>7</th>\n",
       "      <td>NaN</td>\n",
       "      <td>1580</td>\n",
       "      <td>NaN</td>\n",
       "      <td>5</td>\n",
       "    </tr>\n",
       "    <tr>\n",
       "      <th>8</th>\n",
       "      <td>NaN</td>\n",
       "      <td>437</td>\n",
       "      <td>NaN</td>\n",
       "      <td>19</td>\n",
       "    </tr>\n",
       "    <tr>\n",
       "      <th>9</th>\n",
       "      <td>NaN</td>\n",
       "      <td>220</td>\n",
       "      <td>NaN</td>\n",
       "      <td>4</td>\n",
       "    </tr>\n",
       "  </tbody>\n",
       "</table>\n",
       "</div>"
      ],
      "text/plain": [
       "     0  total_rech_amt_6  total_rech_data_6  total_rech_num_6\n",
       "0  5.0               362                1.0                 4\n",
       "1  NaN                74                NaN                 4\n",
       "2  NaN               168                NaN                 5\n",
       "3  NaN               230                NaN                10\n",
       "4  6.0               196                1.0                 5\n",
       "5  NaN               120                NaN                 2\n",
       "6  NaN               499                NaN                15\n",
       "7  NaN              1580                NaN                 5\n",
       "8  NaN               437                NaN                19\n",
       "9  NaN               220                NaN                 4"
      ]
     },
     "execution_count": 131,
     "metadata": {},
     "output_type": "execute_result"
    }
   ],
   "source": [
    "# IGnore - this is wrong and unecessary\n",
    "# total_rech_amt_6', 'total_rech_data_6','total_rech_num_6'\n",
    "rech_6_manual = df.total_rech_data_6 + df.total_rech_num_6\n",
    "print(rech_6_manual.equals(df.total_rech_amt_6))\n",
    "df_temp = pd.concat([rech_6_manual, df.total_rech_amt_6, df.total_rech_data_6, df.total_rech_num_6], axis=1)\n",
    "print(rech_6_manual[:10])\n",
    "df_temp.head(10)"
   ]
  },
  {
   "cell_type": "code",
   "execution_count": null,
   "metadata": {
    "colab": {},
    "colab_type": "code",
    "id": "AX9yri6HjpL3"
   },
   "outputs": [],
   "source": []
  },
  {
   "cell_type": "code",
   "execution_count": null,
   "metadata": {
    "colab": {},
    "colab_type": "code",
    "id": "WKeKZxLXjgfK"
   },
   "outputs": [],
   "source": []
  },
  {
   "cell_type": "code",
   "execution_count": null,
   "metadata": {
    "colab": {},
    "colab_type": "code",
    "id": "5MH2_67QjglX"
   },
   "outputs": [],
   "source": []
  },
  {
   "cell_type": "code",
   "execution_count": 132,
   "metadata": {
    "colab": {},
    "colab_type": "code",
    "id": "5M3uT5CljoFE"
   },
   "outputs": [],
   "source": [
    "arpu_6_vk = (df.arpu_2g_6 + df.arpu_3g_6+df.aug_vbc_3g)"
   ]
  },
  {
   "cell_type": "code",
   "execution_count": 133,
   "metadata": {
    "colab": {
     "base_uri": "https://localhost:8080/",
     "height": 34
    },
    "colab_type": "code",
    "executionInfo": {
     "elapsed": 5641,
     "status": "ok",
     "timestamp": 1560867179483,
     "user": {
      "displayName": "Vamsi Krishna",
      "photoUrl": "https://lh6.googleusercontent.com/-FybFae86-kI/AAAAAAAAAAI/AAAAAAAAE4Q/jGOo03zfhXI/s64/photo.jpg",
      "userId": "12165405222911871892"
     },
     "user_tz": -330
    },
    "id": "QVKMZzklj02P",
    "outputId": "9940270c-28a9-420f-9720-8578a2d921f7"
   },
   "outputs": [
    {
     "data": {
      "text/plain": [
       "False"
      ]
     },
     "execution_count": 133,
     "metadata": {},
     "output_type": "execute_result"
    }
   ],
   "source": [
    "arpu_6_vk.equals(df.arpu_6)"
   ]
  },
  {
   "cell_type": "code",
   "execution_count": 134,
   "metadata": {
    "colab": {
     "base_uri": "https://localhost:8080/",
     "height": 202
    },
    "colab_type": "code",
    "executionInfo": {
     "elapsed": 5631,
     "status": "ok",
     "timestamp": 1560867179484,
     "user": {
      "displayName": "Vamsi Krishna",
      "photoUrl": "https://lh6.googleusercontent.com/-FybFae86-kI/AAAAAAAAAAI/AAAAAAAAE4Q/jGOo03zfhXI/s64/photo.jpg",
      "userId": "12165405222911871892"
     },
     "user_tz": -330
    },
    "id": "Z_zPfraBkDc0",
    "outputId": "f9409bd0-be8f-4df6-a6e1-fa4e9df96c6e"
   },
   "outputs": [
    {
     "name": "stdout",
     "output_type": "stream",
     "text": [
      "0    454.74\n",
      "1       NaN\n",
      "2       NaN\n",
      "3       NaN\n",
      "4      0.00\n",
      "5       NaN\n",
      "6       NaN\n",
      "7       NaN\n",
      "8       NaN\n",
      "9       NaN\n",
      "dtype: float64\n"
     ]
    }
   ],
   "source": [
    "print(arpu_6_vk[:10])"
   ]
  },
  {
   "cell_type": "code",
   "execution_count": 135,
   "metadata": {
    "colab": {
     "base_uri": "https://localhost:8080/",
     "height": 202
    },
    "colab_type": "code",
    "executionInfo": {
     "elapsed": 5622,
     "status": "ok",
     "timestamp": 1560867179485,
     "user": {
      "displayName": "Vamsi Krishna",
      "photoUrl": "https://lh6.googleusercontent.com/-FybFae86-kI/AAAAAAAAAAI/AAAAAAAAE4Q/jGOo03zfhXI/s64/photo.jpg",
      "userId": "12165405222911871892"
     },
     "user_tz": -330
    },
    "id": "uymwfkdtkHCX",
    "outputId": "9b94c741-3a3f-49ec-cc55-3708361cb2c6"
   },
   "outputs": [
    {
     "data": {
      "text/plain": [
       "0     197.385\n",
       "1      34.047\n",
       "2     167.690\n",
       "3     221.338\n",
       "4     261.636\n",
       "5      50.258\n",
       "6     429.023\n",
       "7    1069.180\n",
       "8     378.721\n",
       "9     119.518\n",
       "Name: arpu_6, dtype: float64"
      ]
     },
     "execution_count": 135,
     "metadata": {},
     "output_type": "execute_result"
    }
   ],
   "source": [
    "df.arpu_6[:10]"
   ]
  },
  {
   "cell_type": "code",
   "execution_count": 136,
   "metadata": {
    "colab": {
     "base_uri": "https://localhost:8080/",
     "height": 370
    },
    "colab_type": "code",
    "executionInfo": {
     "elapsed": 5612,
     "status": "ok",
     "timestamp": 1560867179485,
     "user": {
      "displayName": "Vamsi Krishna",
      "photoUrl": "https://lh6.googleusercontent.com/-FybFae86-kI/AAAAAAAAAAI/AAAAAAAAE4Q/jGOo03zfhXI/s64/photo.jpg",
      "userId": "12165405222911871892"
     },
     "user_tz": -330
    },
    "id": "wY0b7PNVkMDu",
    "outputId": "4c8c58af-96aa-4d06-f176-5078eb57282f"
   },
   "outputs": [
    {
     "name": "stdout",
     "output_type": "stream",
     "text": [
      "0    212.17\n",
      "1       NaN\n",
      "2       NaN\n",
      "3       NaN\n",
      "4      0.00\n",
      "5       NaN\n",
      "6       NaN\n",
      "7       NaN\n",
      "8       NaN\n",
      "9       NaN\n",
      "Name: arpu_2g_6, dtype: float64 0    212.17\n",
      "1       NaN\n",
      "2       NaN\n",
      "3       NaN\n",
      "4      0.00\n",
      "5       NaN\n",
      "6       NaN\n",
      "7       NaN\n",
      "8       NaN\n",
      "9       NaN\n",
      "Name: arpu_3g_6, dtype: float64\n"
     ]
    }
   ],
   "source": [
    "print(df.arpu_2g_6[:10], df.arpu_3g_6[:10])"
   ]
  },
  {
   "cell_type": "code",
   "execution_count": null,
   "metadata": {
    "colab": {},
    "colab_type": "code",
    "id": "e2_8LScFj-yt"
   },
   "outputs": [],
   "source": []
  },
  {
   "cell_type": "code",
   "execution_count": null,
   "metadata": {
    "colab": {},
    "colab_type": "code",
    "id": "7lri5sfOjw80"
   },
   "outputs": [],
   "source": []
  },
  {
   "cell_type": "code",
   "execution_count": 137,
   "metadata": {
    "colab": {
     "base_uri": "https://localhost:8080/",
     "height": 1058
    },
    "colab_type": "code",
    "executionInfo": {
     "elapsed": 6212,
     "status": "ok",
     "timestamp": 1560867180110,
     "user": {
      "displayName": "Vamsi Krishna",
      "photoUrl": "https://lh6.googleusercontent.com/-FybFae86-kI/AAAAAAAAAAI/AAAAAAAAE4Q/jGOo03zfhXI/s64/photo.jpg",
      "userId": "12165405222911871892"
     },
     "user_tz": -330
    },
    "id": "5VZC5bvKcxNH",
    "outputId": "6d62a07d-825e-4a18-d15f-31ddc36d4ab5"
   },
   "outputs": [
    {
     "data": {
      "text/plain": [
       "aon                        0\n",
       "arpu_2g_6              74846\n",
       "arpu_2g_7              74428\n",
       "arpu_2g_8              73660\n",
       "arpu_2g_9              74077\n",
       "arpu_3g_6              74846\n",
       "arpu_3g_7              74428\n",
       "arpu_3g_8              73660\n",
       "arpu_3g_9              74077\n",
       "arpu_6                     0\n",
       "arpu_7                     0\n",
       "arpu_8                     0\n",
       "arpu_9                     0\n",
       "aug_vbc_3g                 0\n",
       "av_rech_amt_data_6     74846\n",
       "av_rech_amt_data_7     74428\n",
       "av_rech_amt_data_8     73660\n",
       "av_rech_amt_data_9     74077\n",
       "circle_id                  0\n",
       "count_rech_2g_6        74846\n",
       "count_rech_2g_7        74428\n",
       "count_rech_2g_8        73660\n",
       "count_rech_2g_9        74077\n",
       "count_rech_3g_6        74846\n",
       "count_rech_3g_7        74428\n",
       "count_rech_3g_8        73660\n",
       "count_rech_3g_9        74077\n",
       "date_of_last_rech_6     1607\n",
       "date_of_last_rech_7     1767\n",
       "date_of_last_rech_8     3622\n",
       "                       ...  \n",
       "std_og_t2t_mou_8        5378\n",
       "std_og_t2t_mou_9        7745\n",
       "total_ic_mou_6             0\n",
       "total_ic_mou_7             0\n",
       "total_ic_mou_8             0\n",
       "total_ic_mou_9             0\n",
       "total_og_mou_6             0\n",
       "total_og_mou_7             0\n",
       "total_og_mou_8             0\n",
       "total_og_mou_9             0\n",
       "total_rech_amt_6           0\n",
       "total_rech_amt_7           0\n",
       "total_rech_amt_8           0\n",
       "total_rech_amt_9           0\n",
       "total_rech_data_6      74846\n",
       "total_rech_data_7      74428\n",
       "total_rech_data_8      73660\n",
       "total_rech_data_9      74077\n",
       "total_rech_num_6           0\n",
       "total_rech_num_7           0\n",
       "total_rech_num_8           0\n",
       "total_rech_num_9           0\n",
       "vol_2g_mb_6                0\n",
       "vol_2g_mb_7                0\n",
       "vol_2g_mb_8                0\n",
       "vol_2g_mb_9                0\n",
       "vol_3g_mb_6                0\n",
       "vol_3g_mb_7                0\n",
       "vol_3g_mb_8                0\n",
       "vol_3g_mb_9                0\n",
       "Length: 226, dtype: int64"
      ]
     },
     "execution_count": 137,
     "metadata": {},
     "output_type": "execute_result"
    }
   ],
   "source": [
    "\n",
    "# computing Null Values \n",
    "df.isnull().sum()"
   ]
  },
  {
   "cell_type": "code",
   "execution_count": 138,
   "metadata": {
    "colab": {},
    "colab_type": "code",
    "id": "2gmsP1wRcmN8"
   },
   "outputs": [],
   "source": [
    "nul_percentage = round(100*(data.isnull().sum()/len(data.index)),2)"
   ]
  },
  {
   "cell_type": "code",
   "execution_count": 139,
   "metadata": {
    "colab": {
     "base_uri": "https://localhost:8080/",
     "height": 54
    },
    "colab_type": "code",
    "executionInfo": {
     "elapsed": 6950,
     "status": "ok",
     "timestamp": 1560867180866,
     "user": {
      "displayName": "Vamsi Krishna",
      "photoUrl": "https://lh6.googleusercontent.com/-FybFae86-kI/AAAAAAAAAAI/AAAAAAAAE4Q/jGOo03zfhXI/s64/photo.jpg",
      "userId": "12165405222911871892"
     },
     "user_tz": -330
    },
    "id": "4o5mO-wr9bj4",
    "outputId": "a9f05b7f-4445-4e0a-a9f0-22707681e406"
   },
   "outputs": [
    {
     "name": "stdout",
     "output_type": "stream",
     "text": [
      "[74.85, 74.85, 74.85, 74.85, 74.85, 74.85, 74.85, 74.85, 74.85, 74.85, 74.43, 74.43, 74.43, 74.43, 74.43, 74.43, 74.43, 74.43, 74.43, 74.43, 74.08, 74.08, 74.08, 74.08, 74.08, 74.08, 74.08, 74.08, 74.08, 74.08, 73.66, 73.66, 73.66, 73.66, 73.66, 73.66, 73.66, 73.66, 73.66, 73.66, 7.75] 226\n"
     ]
    }
   ],
   "source": [
    "print((sorted(nul_percentage, reverse=True))[:41], len(nul_percentage))"
   ]
  },
  {
   "cell_type": "code",
   "execution_count": 140,
   "metadata": {
    "colab": {
     "base_uri": "https://localhost:8080/",
     "height": 34
    },
    "colab_type": "code",
    "executionInfo": {
     "elapsed": 6940,
     "status": "ok",
     "timestamp": 1560867180867,
     "user": {
      "displayName": "Vamsi Krishna",
      "photoUrl": "https://lh6.googleusercontent.com/-FybFae86-kI/AAAAAAAAAAI/AAAAAAAAE4Q/jGOo03zfhXI/s64/photo.jpg",
      "userId": "12165405222911871892"
     },
     "user_tz": -330
    },
    "id": "e556-sB4b-Qc",
    "outputId": "41c210ea-d51d-4757-f0ce-c180ae79ac2f"
   },
   "outputs": [
    {
     "data": {
      "text/plain": [
       "40"
      ]
     },
     "execution_count": 140,
     "metadata": {},
     "output_type": "execute_result"
    }
   ],
   "source": [
    "len(nul_percentage[nul_percentage>70])"
   ]
  },
  {
   "cell_type": "code",
   "execution_count": 141,
   "metadata": {
    "colab": {
     "base_uri": "https://localhost:8080/",
     "height": 34
    },
    "colab_type": "code",
    "executionInfo": {
     "elapsed": 6931,
     "status": "ok",
     "timestamp": 1560867180868,
     "user": {
      "displayName": "Vamsi Krishna",
      "photoUrl": "https://lh6.googleusercontent.com/-FybFae86-kI/AAAAAAAAAAI/AAAAAAAAE4Q/jGOo03zfhXI/s64/photo.jpg",
      "userId": "12165405222911871892"
     },
     "user_tz": -330
    },
    "id": "-kqL2IHRV6LP",
    "outputId": "34690f3c-1d38-4688-b2fa-8f9593f875f7"
   },
   "outputs": [
    {
     "data": {
      "text/plain": [
       "40"
      ]
     },
     "execution_count": 141,
     "metadata": {},
     "output_type": "execute_result"
    }
   ],
   "source": [
    "len(nul_percentage[nul_percentage>60])"
   ]
  },
  {
   "cell_type": "code",
   "execution_count": 142,
   "metadata": {
    "colab": {
     "base_uri": "https://localhost:8080/",
     "height": 34
    },
    "colab_type": "code",
    "executionInfo": {
     "elapsed": 6922,
     "status": "ok",
     "timestamp": 1560867180869,
     "user": {
      "displayName": "Vamsi Krishna",
      "photoUrl": "https://lh6.googleusercontent.com/-FybFae86-kI/AAAAAAAAAAI/AAAAAAAAE4Q/jGOo03zfhXI/s64/photo.jpg",
      "userId": "12165405222911871892"
     },
     "user_tz": -330
    },
    "id": "DPNhRZRUVoHb",
    "outputId": "e81c412d-92ae-4165-9434-ddec90220cc4"
   },
   "outputs": [
    {
     "data": {
      "text/plain": [
       "69"
      ]
     },
     "execution_count": 142,
     "metadata": {},
     "output_type": "execute_result"
    }
   ],
   "source": [
    "len(nul_percentage[nul_percentage>6])"
   ]
  },
  {
   "cell_type": "markdown",
   "metadata": {
    "colab_type": "text",
    "id": "M6KUnbP9-3RB"
   },
   "source": [
    "IT appears we can remove where there are more than 73% missing values"
   ]
  },
  {
   "cell_type": "code",
   "execution_count": 143,
   "metadata": {
    "colab": {},
    "colab_type": "code",
    "id": "xlZ7J5Lz_Ebk"
   },
   "outputs": [],
   "source": [
    "to_remove = nul_percentage[nul_percentage>73]"
   ]
  },
  {
   "cell_type": "code",
   "execution_count": 144,
   "metadata": {
    "colab": {
     "base_uri": "https://localhost:8080/",
     "height": 706
    },
    "colab_type": "code",
    "executionInfo": {
     "elapsed": 6907,
     "status": "ok",
     "timestamp": 1560867180873,
     "user": {
      "displayName": "Vamsi Krishna",
      "photoUrl": "https://lh6.googleusercontent.com/-FybFae86-kI/AAAAAAAAAAI/AAAAAAAAE4Q/jGOo03zfhXI/s64/photo.jpg",
      "userId": "12165405222911871892"
     },
     "user_tz": -330
    },
    "id": "eM33Dzuw_RFd",
    "outputId": "a4efe025-67b4-4d67-a3fe-1d7756d3860f"
   },
   "outputs": [
    {
     "data": {
      "text/plain": [
       "date_of_last_rech_data_6    74.85\n",
       "date_of_last_rech_data_7    74.43\n",
       "date_of_last_rech_data_8    73.66\n",
       "date_of_last_rech_data_9    74.08\n",
       "total_rech_data_6           74.85\n",
       "total_rech_data_7           74.43\n",
       "total_rech_data_8           73.66\n",
       "total_rech_data_9           74.08\n",
       "max_rech_data_6             74.85\n",
       "max_rech_data_7             74.43\n",
       "max_rech_data_8             73.66\n",
       "max_rech_data_9             74.08\n",
       "count_rech_2g_6             74.85\n",
       "count_rech_2g_7             74.43\n",
       "count_rech_2g_8             73.66\n",
       "count_rech_2g_9             74.08\n",
       "count_rech_3g_6             74.85\n",
       "count_rech_3g_7             74.43\n",
       "count_rech_3g_8             73.66\n",
       "count_rech_3g_9             74.08\n",
       "av_rech_amt_data_6          74.85\n",
       "av_rech_amt_data_7          74.43\n",
       "av_rech_amt_data_8          73.66\n",
       "av_rech_amt_data_9          74.08\n",
       "arpu_3g_6                   74.85\n",
       "arpu_3g_7                   74.43\n",
       "arpu_3g_8                   73.66\n",
       "arpu_3g_9                   74.08\n",
       "arpu_2g_6                   74.85\n",
       "arpu_2g_7                   74.43\n",
       "arpu_2g_8                   73.66\n",
       "arpu_2g_9                   74.08\n",
       "night_pck_user_6            74.85\n",
       "night_pck_user_7            74.43\n",
       "night_pck_user_8            73.66\n",
       "night_pck_user_9            74.08\n",
       "fb_user_6                   74.85\n",
       "fb_user_7                   74.43\n",
       "fb_user_8                   73.66\n",
       "fb_user_9                   74.08\n",
       "dtype: float64"
      ]
     },
     "execution_count": 144,
     "metadata": {},
     "output_type": "execute_result"
    }
   ],
   "source": [
    "to_remove"
   ]
  },
  {
   "cell_type": "markdown",
   "metadata": {
    "colab_type": "text",
    "id": "hyokHrjQ_Soy"
   },
   "source": [
    "But, below columns are of type categorical; When the data is not present we can safely assume the\n",
    "user is not a night_pack or fb_user\n",
    "\n",
    "so before dropping the columns, need further cleaning.\n",
    "\n",
    "* night_pck_user_6            74.85\n",
    "* night_pck_user_7            74.43\n",
    "* night_pck_user_8            73.66\n",
    "* night_pck_user_9            74.08\n",
    "* fb_user_6                   74.85\n",
    "* fb_user_7                   74.43\n",
    "* fb_user_8                   73.66\n",
    "* fb_user_9                   74.08"
   ]
  },
  {
   "cell_type": "code",
   "execution_count": null,
   "metadata": {
    "colab": {},
    "colab_type": "code",
    "id": "sCmpTz4pA8Xh"
   },
   "outputs": [],
   "source": []
  },
  {
   "cell_type": "markdown",
   "metadata": {
    "colab_type": "text",
    "id": "i4T-a2N5A881"
   },
   "source": [
    "Before proceeding any further, lets do the following - \n",
    "\n",
    "#### Drop columns \n",
    "* where there is only 1 unique value\n",
    "* replace missing values in categorical variables with 0 (0-no, 1 - yes)"
   ]
  },
  {
   "cell_type": "code",
   "execution_count": 145,
   "metadata": {},
   "outputs": [
    {
     "data": {
      "text/plain": [
       "0    6/21/2014\n",
       "1    6/29/2014\n",
       "2    6/17/2014\n",
       "Name: date_of_last_rech_6, dtype: object"
      ]
     },
     "execution_count": 145,
     "metadata": {},
     "output_type": "execute_result"
    }
   ],
   "source": [
    "data['date_of_last_rech_6'][:3]"
   ]
  },
  {
   "cell_type": "code",
   "execution_count": 146,
   "metadata": {
    "colab": {
     "base_uri": "https://localhost:8080/",
     "height": 218
    },
    "colab_type": "code",
    "executionInfo": {
     "elapsed": 6893,
     "status": "ok",
     "timestamp": 1560867180877,
     "user": {
      "displayName": "Vamsi Krishna",
      "photoUrl": "https://lh6.googleusercontent.com/-FybFae86-kI/AAAAAAAAAAI/AAAAAAAAE4Q/jGOo03zfhXI/s64/photo.jpg",
      "userId": "12165405222911871892"
     },
     "user_tz": -330
    },
    "id": "7nzAES4sBVL9",
    "outputId": "e5a6641d-1d92-4534-f6d5-59a01a0a3351"
   },
   "outputs": [
    {
     "data": {
      "text/plain": [
       "['date_of_last_rech_6',\n",
       " 'date_of_last_rech_7',\n",
       " 'date_of_last_rech_8',\n",
       " 'date_of_last_rech_9',\n",
       " 'date_of_last_rech_data_6',\n",
       " 'date_of_last_rech_data_7',\n",
       " 'date_of_last_rech_data_8',\n",
       " 'date_of_last_rech_data_9',\n",
       " 'last_date_of_month_6',\n",
       " 'last_date_of_month_7',\n",
       " 'last_date_of_month_8',\n",
       " 'last_date_of_month_9']"
      ]
     },
     "execution_count": 146,
     "metadata": {},
     "output_type": "execute_result"
    }
   ],
   "source": [
    "date_columns = list(df.filter(like = \"date\", axis =1).columns)\n",
    "(date_columns)"
   ]
  },
  {
   "cell_type": "code",
   "execution_count": 147,
   "metadata": {
    "colab": {
     "base_uri": "https://localhost:8080/",
     "height": 34
    },
    "colab_type": "code",
    "executionInfo": {
     "elapsed": 6882,
     "status": "ok",
     "timestamp": 1560867180878,
     "user": {
      "displayName": "Vamsi Krishna",
      "photoUrl": "https://lh6.googleusercontent.com/-FybFae86-kI/AAAAAAAAAAI/AAAAAAAAE4Q/jGOo03zfhXI/s64/photo.jpg",
      "userId": "12165405222911871892"
     },
     "user_tz": -330
    },
    "id": "FMwOUuajBTur",
    "outputId": "6e7b0260-c529-4ed1-b071-2943fb0ef2f6"
   },
   "outputs": [
    {
     "name": "stdout",
     "output_type": "stream",
     "text": [
      "<class 'list'> ['night_pck_user_6', 'night_pck_user_7', 'night_pck_user_8', 'night_pck_user_9', 'fb_user_6', 'fb_user_7', 'fb_user_8', 'fb_user_9']\n"
     ]
    }
   ],
   "source": [
    "categorical_columns = ['night_pck_user_6',\n",
    "'night_pck_user_7',\n",
    "'night_pck_user_8',\n",
    "'night_pck_user_9',\n",
    "'fb_user_6',\n",
    "'fb_user_7',\n",
    "'fb_user_8',\n",
    "'fb_user_9']\n",
    "\n",
    "print(type(categorical_columns), categorical_columns)"
   ]
  },
  {
   "cell_type": "code",
   "execution_count": 148,
   "metadata": {
    "colab": {},
    "colab_type": "code",
    "id": "Eo5ddwC7PPqB"
   },
   "outputs": [],
   "source": [
    "numerical_columsn = [col for col in df.columns if col not in (categorical_columns+date_columns)]"
   ]
  },
  {
   "cell_type": "code",
   "execution_count": 149,
   "metadata": {
    "colab": {
     "base_uri": "https://localhost:8080/",
     "height": 50
    },
    "colab_type": "code",
    "executionInfo": {
     "elapsed": 6870,
     "status": "ok",
     "timestamp": 1560867180885,
     "user": {
      "displayName": "Vamsi Krishna",
      "photoUrl": "https://lh6.googleusercontent.com/-FybFae86-kI/AAAAAAAAAAI/AAAAAAAAE4Q/jGOo03zfhXI/s64/photo.jpg",
      "userId": "12165405222911871892"
     },
     "user_tz": -330
    },
    "id": "y2uDzd04PSoH",
    "outputId": "f16a676b-7565-4dd9-e82b-7ee9dca8c2ac"
   },
   "outputs": [
    {
     "name": "stdout",
     "output_type": "stream",
     "text": [
      "226\n",
      "226\n"
     ]
    }
   ],
   "source": [
    "print(len(numerical_columsn+date_columns+categorical_columns))\n",
    "print(len(df.columns))"
   ]
  },
  {
   "cell_type": "code",
   "execution_count": 150,
   "metadata": {
    "colab": {},
    "colab_type": "code",
    "id": "TjDxvEn0PUrD"
   },
   "outputs": [
    {
     "data": {
      "text/plain": [
       "array([nan,  0.])"
      ]
     },
     "execution_count": 150,
     "metadata": {},
     "output_type": "execute_result"
    }
   ],
   "source": [
    "data['std_og_t2c_mou_9'].unique()"
   ]
  },
  {
   "cell_type": "code",
   "execution_count": 151,
   "metadata": {
    "colab": {},
    "colab_type": "code",
    "id": "t6I-YJ0_A1C9"
   },
   "outputs": [],
   "source": [
    "unique_Values = df.apply(lambda x: x.nunique())"
   ]
  },
  {
   "cell_type": "code",
   "execution_count": 152,
   "metadata": {
    "colab": {
     "base_uri": "https://localhost:8080/",
     "height": 370
    },
    "colab_type": "code",
    "executionInfo": {
     "elapsed": 10072,
     "status": "ok",
     "timestamp": 1560867184109,
     "user": {
      "displayName": "Vamsi Krishna",
      "photoUrl": "https://lh6.googleusercontent.com/-FybFae86-kI/AAAAAAAAAAI/AAAAAAAAE4Q/jGOo03zfhXI/s64/photo.jpg",
      "userId": "12165405222911871892"
     },
     "user_tz": -330
    },
    "id": "TfY-wVDwPXIM",
    "outputId": "80c5e2f8-44ec-4b7b-c050-ca1f10b8fca1"
   },
   "outputs": [
    {
     "data": {
      "text/plain": [
       "last_date_of_month_8    1\n",
       "std_og_t2c_mou_9        1\n",
       "std_og_t2c_mou_8        1\n",
       "circle_id               1\n",
       "last_date_of_month_6    1\n",
       "last_date_of_month_7    1\n",
       "last_date_of_month_9    1\n",
       "std_og_t2c_mou_7        1\n",
       "std_og_t2o_mou          1\n",
       "std_ic_t2o_mou_9        1\n",
       "std_og_t2c_mou_6        1\n",
       "std_ic_t2o_mou_7        1\n",
       "std_ic_t2o_mou_6        1\n",
       "loc_ic_t2o_mou          1\n",
       "loc_og_t2o_mou          1\n",
       "std_ic_t2o_mou_8        1\n",
       "fb_user_7               2\n",
       "night_pck_user_9        2\n",
       "night_pck_user_8        2\n",
       "night_pck_user_7        2\n",
       "dtype: int64"
      ]
     },
     "execution_count": 152,
     "metadata": {},
     "output_type": "execute_result"
    }
   ],
   "source": [
    "unique_Values.sort_values()[:20]"
   ]
  },
  {
   "cell_type": "code",
   "execution_count": 153,
   "metadata": {
    "colab": {},
    "colab_type": "code",
    "id": "IF8ASY-ZPaD3"
   },
   "outputs": [],
   "source": [
    "cols_to_delete = []"
   ]
  },
  {
   "cell_type": "code",
   "execution_count": 154,
   "metadata": {
    "colab": {
     "base_uri": "https://localhost:8080/",
     "height": 54
    },
    "colab_type": "code",
    "executionInfo": {
     "elapsed": 10059,
     "status": "ok",
     "timestamp": 1560867184113,
     "user": {
      "displayName": "Vamsi Krishna",
      "photoUrl": "https://lh6.googleusercontent.com/-FybFae86-kI/AAAAAAAAAAI/AAAAAAAAE4Q/jGOo03zfhXI/s64/photo.jpg",
      "userId": "12165405222911871892"
     },
     "user_tz": -330
    },
    "id": "Zqit4ASKPb3k",
    "outputId": "f743eef0-b64a-423f-ef30-d45eca03a072"
   },
   "outputs": [
    {
     "name": "stdout",
     "output_type": "stream",
     "text": [
      "['circle_id', 'last_date_of_month_6', 'last_date_of_month_7', 'last_date_of_month_8', 'last_date_of_month_9', 'loc_ic_t2o_mou', 'loc_og_t2o_mou', 'std_ic_t2o_mou_6', 'std_ic_t2o_mou_7', 'std_ic_t2o_mou_8', 'std_ic_t2o_mou_9', 'std_og_t2c_mou_6', 'std_og_t2c_mou_7', 'std_og_t2c_mou_8', 'std_og_t2c_mou_9', 'std_og_t2o_mou'] <class 'list'>\n"
     ]
    }
   ],
   "source": [
    "cols_to_delete = cols_to_delete + list(unique_Values[unique_Values==1].index)\n",
    "print(cols_to_delete, type(cols_to_delete))"
   ]
  },
  {
   "cell_type": "code",
   "execution_count": null,
   "metadata": {
    "colab": {},
    "colab_type": "code",
    "id": "pORTqcaxPdH9"
   },
   "outputs": [],
   "source": []
  },
  {
   "cell_type": "markdown",
   "metadata": {
    "colab_type": "text",
    "id": "CBpC13Z9VYxU"
   },
   "source": [
    "\n",
    "consolidate\n",
    "\n",
    "    Categorical Variables (replace missing values with 2)\n",
    "    0->No, 1-Yes, 2-Unknown\n",
    "\n"
   ]
  },
  {
   "cell_type": "code",
   "execution_count": 155,
   "metadata": {},
   "outputs": [],
   "source": [
    "# dummies - 0,1,2;\n",
    "# p"
   ]
  },
  {
   "cell_type": "code",
   "execution_count": 156,
   "metadata": {
    "colab": {
     "base_uri": "https://localhost:8080/",
     "height": 302
    },
    "colab_type": "code",
    "executionInfo": {
     "elapsed": 10041,
     "status": "ok",
     "timestamp": 1560867184116,
     "user": {
      "displayName": "Vamsi Krishna",
      "photoUrl": "https://lh6.googleusercontent.com/-FybFae86-kI/AAAAAAAAAAI/AAAAAAAAE4Q/jGOo03zfhXI/s64/photo.jpg",
      "userId": "12165405222911871892"
     },
     "user_tz": -330
    },
    "id": "Vgme5lb6Pfjt",
    "outputId": "a6cd9312-3a67-433e-89bc-e54b8549e596"
   },
   "outputs": [
    {
     "name": "stdout",
     "output_type": "stream",
     "text": [
      "night_pck_user_6    2\n",
      "night_pck_user_7    2\n",
      "night_pck_user_8    2\n",
      "night_pck_user_9    2\n",
      "fb_user_6           2\n",
      "fb_user_7           2\n",
      "fb_user_8           2\n",
      "fb_user_9           2\n",
      "dtype: int64\n",
      "night_pck_user_6 [ 0. nan  1.]\n",
      "night_pck_user_7 [ 0. nan  1.]\n",
      "night_pck_user_8 [ 0. nan  1.]\n",
      "night_pck_user_9 [nan  0.  1.]\n",
      "fb_user_6 [ 1. nan  0.]\n",
      "fb_user_7 [ 1. nan  0.]\n",
      "fb_user_8 [ 1. nan  0.]\n",
      "fb_user_9 [nan  1.  0.]\n"
     ]
    }
   ],
   "source": [
    "print(df[categorical_columns].nunique())\n",
    "for col in categorical_columns:\n",
    "    print(col, df[col].unique())"
   ]
  },
  {
   "cell_type": "code",
   "execution_count": 157,
   "metadata": {
    "colab": {},
    "colab_type": "code",
    "id": "-bsC8m5APljG"
   },
   "outputs": [],
   "source": [
    "# df[categorical_columns].fillna(-1, inplace=True)\n",
    "for col in categorical_columns:\n",
    "    df[col].fillna(value=-1, inplace=True)"
   ]
  },
  {
   "cell_type": "code",
   "execution_count": 158,
   "metadata": {
    "colab": {
     "base_uri": "https://localhost:8080/",
     "height": 302
    },
    "colab_type": "code",
    "executionInfo": {
     "elapsed": 10027,
     "status": "ok",
     "timestamp": 1560867184121,
     "user": {
      "displayName": "Vamsi Krishna",
      "photoUrl": "https://lh6.googleusercontent.com/-FybFae86-kI/AAAAAAAAAAI/AAAAAAAAE4Q/jGOo03zfhXI/s64/photo.jpg",
      "userId": "12165405222911871892"
     },
     "user_tz": -330
    },
    "id": "5H9Ryy1wPmLW",
    "outputId": "63b805ea-1c1c-46f2-a9e6-fa6c53b9007e"
   },
   "outputs": [
    {
     "name": "stdout",
     "output_type": "stream",
     "text": [
      "night_pck_user_6    3\n",
      "night_pck_user_7    3\n",
      "night_pck_user_8    3\n",
      "night_pck_user_9    3\n",
      "fb_user_6           3\n",
      "fb_user_7           3\n",
      "fb_user_8           3\n",
      "fb_user_9           3\n",
      "dtype: int64\n",
      "night_pck_user_6 [ 0. -1.  1.]\n",
      "night_pck_user_7 [ 0. -1.  1.]\n",
      "night_pck_user_8 [ 0. -1.  1.]\n",
      "night_pck_user_9 [-1.  0.  1.]\n",
      "fb_user_6 [ 1. -1.  0.]\n",
      "fb_user_7 [ 1. -1.  0.]\n",
      "fb_user_8 [ 1. -1.  0.]\n",
      "fb_user_9 [-1.  1.  0.]\n"
     ]
    }
   ],
   "source": [
    "print(df[categorical_columns].nunique())\n",
    "for col in categorical_columns:\n",
    "    print(col, df[col].unique())"
   ]
  },
  {
   "cell_type": "markdown",
   "metadata": {
    "colab_type": "text",
    "id": "RMOCLPBrPvrt"
   },
   "source": [
    "\n",
    "Categorical done\n",
    "drop unique columsn where there is no variance\n",
    "\n",
    "    unique value = 1\n",
    "\n"
   ]
  },
  {
   "cell_type": "code",
   "execution_count": 159,
   "metadata": {
    "colab": {
     "base_uri": "https://localhost:8080/",
     "height": 34
    },
    "colab_type": "code",
    "executionInfo": {
     "elapsed": 10017,
     "status": "ok",
     "timestamp": 1560867184122,
     "user": {
      "displayName": "Vamsi Krishna",
      "photoUrl": "https://lh6.googleusercontent.com/-FybFae86-kI/AAAAAAAAAAI/AAAAAAAAE4Q/jGOo03zfhXI/s64/photo.jpg",
      "userId": "12165405222911871892"
     },
     "user_tz": -330
    },
    "id": "97c7l2x2Pw5N",
    "outputId": "23825866-0884-4f5e-e16d-53c77ff282c2"
   },
   "outputs": [
    {
     "data": {
      "text/plain": [
       "(99999, 226)"
      ]
     },
     "execution_count": 159,
     "metadata": {},
     "output_type": "execute_result"
    }
   ],
   "source": [
    "df.shape"
   ]
  },
  {
   "cell_type": "code",
   "execution_count": 160,
   "metadata": {
    "colab": {},
    "colab_type": "code",
    "id": "bHLOTFdBPyPk"
   },
   "outputs": [],
   "source": [
    "df.drop(labels=cols_to_delete, axis=1, inplace=True)"
   ]
  },
  {
   "cell_type": "code",
   "execution_count": 161,
   "metadata": {
    "colab": {
     "base_uri": "https://localhost:8080/",
     "height": 34
    },
    "colab_type": "code",
    "executionInfo": {
     "elapsed": 10003,
     "status": "ok",
     "timestamp": 1560867184126,
     "user": {
      "displayName": "Vamsi Krishna",
      "photoUrl": "https://lh6.googleusercontent.com/-FybFae86-kI/AAAAAAAAAAI/AAAAAAAAE4Q/jGOo03zfhXI/s64/photo.jpg",
      "userId": "12165405222911871892"
     },
     "user_tz": -330
    },
    "id": "7_CNpmUmP0Z8",
    "outputId": "117e0735-4c0a-49e1-960d-a7125cb00a75"
   },
   "outputs": [
    {
     "data": {
      "text/plain": [
       "(99999, 210)"
      ]
     },
     "execution_count": 161,
     "metadata": {},
     "output_type": "execute_result"
    }
   ],
   "source": [
    "df.shape"
   ]
  },
  {
   "cell_type": "markdown",
   "metadata": {
    "colab_type": "text",
    "id": "4eeIiGv8P1Ql"
   },
   "source": [
    "check missing attributes"
   ]
  },
  {
   "cell_type": "code",
   "execution_count": 162,
   "metadata": {
    "colab": {
     "base_uri": "https://localhost:8080/",
     "height": 790
    },
    "colab_type": "code",
    "executionInfo": {
     "elapsed": 10398,
     "status": "ok",
     "timestamp": 1560867184531,
     "user": {
      "displayName": "Vamsi Krishna",
      "photoUrl": "https://lh6.googleusercontent.com/-FybFae86-kI/AAAAAAAAAAI/AAAAAAAAE4Q/jGOo03zfhXI/s64/photo.jpg",
      "userId": "12165405222911871892"
     },
     "user_tz": -330
    },
    "id": "CT1xV0OlP3BO",
    "outputId": "730df6ea-0d49-4a8f-b2fc-d2b2096c6427"
   },
   "outputs": [
    {
     "data": {
      "text/plain": [
       "count_rech_3g_6             74.85\n",
       "arpu_3g_6                   74.85\n",
       "total_rech_data_6           74.85\n",
       "av_rech_amt_data_6          74.85\n",
       "max_rech_data_6             74.85\n",
       "date_of_last_rech_data_6    74.85\n",
       "count_rech_2g_6             74.85\n",
       "arpu_2g_6                   74.85\n",
       "arpu_3g_7                   74.43\n",
       "av_rech_amt_data_7          74.43\n",
       "count_rech_3g_7             74.43\n",
       "arpu_2g_7                   74.43\n",
       "date_of_last_rech_data_7    74.43\n",
       "max_rech_data_7             74.43\n",
       "total_rech_data_7           74.43\n",
       "count_rech_2g_7             74.43\n",
       "date_of_last_rech_data_9    74.08\n",
       "av_rech_amt_data_9          74.08\n",
       "count_rech_2g_9             74.08\n",
       "arpu_3g_9                   74.08\n",
       "max_rech_data_9             74.08\n",
       "arpu_2g_9                   74.08\n",
       "count_rech_3g_9             74.08\n",
       "total_rech_data_9           74.08\n",
       "max_rech_data_8             73.66\n",
       "count_rech_3g_8             73.66\n",
       "count_rech_2g_8             73.66\n",
       "total_rech_data_8           73.66\n",
       "av_rech_amt_data_8          73.66\n",
       "arpu_3g_8                   73.66\n",
       "arpu_2g_8                   73.66\n",
       "date_of_last_rech_data_8    73.66\n",
       "loc_og_t2c_mou_9             7.75\n",
       "loc_ic_mou_9                 7.75\n",
       "spl_ic_mou_9                 7.75\n",
       "roam_ic_mou_9                7.75\n",
       "roam_og_mou_9                7.75\n",
       "loc_og_mou_9                 7.75\n",
       "onnet_mou_9                  7.75\n",
       "std_ic_mou_9                 7.75\n",
       "og_others_9                  7.75\n",
       "std_ic_t2f_mou_9             7.75\n",
       "loc_og_t2f_mou_9             7.75\n",
       "offnet_mou_9                 7.75\n",
       "std_ic_t2m_mou_9             7.75\n",
       "dtype: float64"
      ]
     },
     "execution_count": 162,
     "metadata": {},
     "output_type": "execute_result"
    }
   ],
   "source": [
    "(round((df.isnull().sum(axis=0)/len(df.index))*100,2)).sort_values(ascending=False)[:45]"
   ]
  },
  {
   "cell_type": "markdown",
   "metadata": {
    "colab_type": "text",
    "id": "z5Dq7pVcP4Y8"
   },
   "source": [
    "\n",
    "TODO\n",
    "\n",
    "Analyse the recharge colums and fill missing values for \"As mentioned above, you need to predict churn only for the high-value customers. Define high-value customers as follows: Those who have recharged with an amount more than or equal to X, where X is the 70th percentile of the average recharge amount in the first two months (the good phase).\"\n",
    "2. Filter high-value customers As mentioned above, you need to predict churn only for the high-value customers. Define high-value customers as follows: Those who have recharged with an amount more than or equal to X, where X is the 70th percentile of the average recharge amount in the first two months (the good phase). # total_rech_data_6 # total_rech_data_7 # av_rech_amt_data_6 # av_rech_amt_data_7 "
   ]
  },
  {
   "cell_type": "code",
   "execution_count": 163,
   "metadata": {
    "colab": {},
    "colab_type": "code",
    "id": "fXoRDfRnP8Mt"
   },
   "outputs": [],
   "source": [
    "df_temp = df[['total_rech_data_6','total_rech_data_7','total_rech_data_8','total_rech_data_9','av_rech_amt_data_6','av_rech_amt_data_7','av_rech_amt_data_8','av_rech_amt_data_9']]"
   ]
  },
  {
   "cell_type": "code",
   "execution_count": 164,
   "metadata": {
    "colab": {
     "base_uri": "https://localhost:8080/",
     "height": 284
    },
    "colab_type": "code",
    "executionInfo": {
     "elapsed": 10867,
     "status": "ok",
     "timestamp": 1560867185016,
     "user": {
      "displayName": "Vamsi Krishna",
      "photoUrl": "https://lh6.googleusercontent.com/-FybFae86-kI/AAAAAAAAAAI/AAAAAAAAE4Q/jGOo03zfhXI/s64/photo.jpg",
      "userId": "12165405222911871892"
     },
     "user_tz": -330
    },
    "id": "vXDFN8CZP_yF",
    "outputId": "b0fb997b-187b-451a-9556-8bd5b5f7b0d3"
   },
   "outputs": [
    {
     "data": {
      "text/html": [
       "<div>\n",
       "<style scoped>\n",
       "    .dataframe tbody tr th:only-of-type {\n",
       "        vertical-align: middle;\n",
       "    }\n",
       "\n",
       "    .dataframe tbody tr th {\n",
       "        vertical-align: top;\n",
       "    }\n",
       "\n",
       "    .dataframe thead th {\n",
       "        text-align: right;\n",
       "    }\n",
       "</style>\n",
       "<table border=\"1\" class=\"dataframe\">\n",
       "  <thead>\n",
       "    <tr style=\"text-align: right;\">\n",
       "      <th></th>\n",
       "      <th>total_rech_data_6</th>\n",
       "      <th>total_rech_data_7</th>\n",
       "      <th>total_rech_data_8</th>\n",
       "      <th>total_rech_data_9</th>\n",
       "      <th>av_rech_amt_data_6</th>\n",
       "      <th>av_rech_amt_data_7</th>\n",
       "      <th>av_rech_amt_data_8</th>\n",
       "      <th>av_rech_amt_data_9</th>\n",
       "    </tr>\n",
       "  </thead>\n",
       "  <tbody>\n",
       "    <tr>\n",
       "      <th>count</th>\n",
       "      <td>25153.000000</td>\n",
       "      <td>25571.000000</td>\n",
       "      <td>26339.000000</td>\n",
       "      <td>25922.000000</td>\n",
       "      <td>25153.000000</td>\n",
       "      <td>25571.000000</td>\n",
       "      <td>26339.000000</td>\n",
       "      <td>25922.000000</td>\n",
       "    </tr>\n",
       "    <tr>\n",
       "      <th>mean</th>\n",
       "      <td>2.463802</td>\n",
       "      <td>2.666419</td>\n",
       "      <td>2.651999</td>\n",
       "      <td>2.441170</td>\n",
       "      <td>192.600982</td>\n",
       "      <td>200.981292</td>\n",
       "      <td>197.526489</td>\n",
       "      <td>192.734315</td>\n",
       "    </tr>\n",
       "    <tr>\n",
       "      <th>std</th>\n",
       "      <td>2.789128</td>\n",
       "      <td>3.031593</td>\n",
       "      <td>3.074987</td>\n",
       "      <td>2.516339</td>\n",
       "      <td>192.646318</td>\n",
       "      <td>196.791224</td>\n",
       "      <td>191.301305</td>\n",
       "      <td>188.400286</td>\n",
       "    </tr>\n",
       "    <tr>\n",
       "      <th>min</th>\n",
       "      <td>1.000000</td>\n",
       "      <td>1.000000</td>\n",
       "      <td>1.000000</td>\n",
       "      <td>1.000000</td>\n",
       "      <td>1.000000</td>\n",
       "      <td>0.500000</td>\n",
       "      <td>0.500000</td>\n",
       "      <td>1.000000</td>\n",
       "    </tr>\n",
       "    <tr>\n",
       "      <th>25%</th>\n",
       "      <td>1.000000</td>\n",
       "      <td>1.000000</td>\n",
       "      <td>1.000000</td>\n",
       "      <td>1.000000</td>\n",
       "      <td>82.000000</td>\n",
       "      <td>92.000000</td>\n",
       "      <td>87.000000</td>\n",
       "      <td>69.000000</td>\n",
       "    </tr>\n",
       "    <tr>\n",
       "      <th>50%</th>\n",
       "      <td>1.000000</td>\n",
       "      <td>1.000000</td>\n",
       "      <td>1.000000</td>\n",
       "      <td>2.000000</td>\n",
       "      <td>154.000000</td>\n",
       "      <td>154.000000</td>\n",
       "      <td>154.000000</td>\n",
       "      <td>164.000000</td>\n",
       "    </tr>\n",
       "    <tr>\n",
       "      <th>75%</th>\n",
       "      <td>3.000000</td>\n",
       "      <td>3.000000</td>\n",
       "      <td>3.000000</td>\n",
       "      <td>3.000000</td>\n",
       "      <td>252.000000</td>\n",
       "      <td>252.000000</td>\n",
       "      <td>252.000000</td>\n",
       "      <td>252.000000</td>\n",
       "    </tr>\n",
       "    <tr>\n",
       "      <th>max</th>\n",
       "      <td>61.000000</td>\n",
       "      <td>54.000000</td>\n",
       "      <td>60.000000</td>\n",
       "      <td>84.000000</td>\n",
       "      <td>7546.000000</td>\n",
       "      <td>4365.000000</td>\n",
       "      <td>4076.000000</td>\n",
       "      <td>4061.000000</td>\n",
       "    </tr>\n",
       "  </tbody>\n",
       "</table>\n",
       "</div>"
      ],
      "text/plain": [
       "       total_rech_data_6  total_rech_data_7  total_rech_data_8  \\\n",
       "count       25153.000000       25571.000000       26339.000000   \n",
       "mean            2.463802           2.666419           2.651999   \n",
       "std             2.789128           3.031593           3.074987   \n",
       "min             1.000000           1.000000           1.000000   \n",
       "25%             1.000000           1.000000           1.000000   \n",
       "50%             1.000000           1.000000           1.000000   \n",
       "75%             3.000000           3.000000           3.000000   \n",
       "max            61.000000          54.000000          60.000000   \n",
       "\n",
       "       total_rech_data_9  av_rech_amt_data_6  av_rech_amt_data_7  \\\n",
       "count       25922.000000        25153.000000        25571.000000   \n",
       "mean            2.441170          192.600982          200.981292   \n",
       "std             2.516339          192.646318          196.791224   \n",
       "min             1.000000            1.000000            0.500000   \n",
       "25%             1.000000           82.000000           92.000000   \n",
       "50%             2.000000          154.000000          154.000000   \n",
       "75%             3.000000          252.000000          252.000000   \n",
       "max            84.000000         7546.000000         4365.000000   \n",
       "\n",
       "       av_rech_amt_data_8  av_rech_amt_data_9  \n",
       "count        26339.000000        25922.000000  \n",
       "mean           197.526489          192.734315  \n",
       "std            191.301305          188.400286  \n",
       "min              0.500000            1.000000  \n",
       "25%             87.000000           69.000000  \n",
       "50%            154.000000          164.000000  \n",
       "75%            252.000000          252.000000  \n",
       "max           4076.000000         4061.000000  "
      ]
     },
     "execution_count": 164,
     "metadata": {},
     "output_type": "execute_result"
    }
   ],
   "source": [
    "df_temp.describe()"
   ]
  },
  {
   "cell_type": "code",
   "execution_count": 165,
   "metadata": {
    "colab": {
     "base_uri": "https://localhost:8080/",
     "height": 168
    },
    "colab_type": "code",
    "executionInfo": {
     "elapsed": 10858,
     "status": "ok",
     "timestamp": 1560867185017,
     "user": {
      "displayName": "Vamsi Krishna",
      "photoUrl": "https://lh6.googleusercontent.com/-FybFae86-kI/AAAAAAAAAAI/AAAAAAAAE4Q/jGOo03zfhXI/s64/photo.jpg",
      "userId": "12165405222911871892"
     },
     "user_tz": -330
    },
    "id": "UKaqktq7QCwN",
    "outputId": "bf9dc0bb-15c1-4ee0-d25b-eebb64f29a60"
   },
   "outputs": [
    {
     "data": {
      "text/plain": [
       "total_rech_data_6     74.85\n",
       "total_rech_data_7     74.43\n",
       "total_rech_data_8     73.66\n",
       "total_rech_data_9     74.08\n",
       "av_rech_amt_data_6    74.85\n",
       "av_rech_amt_data_7    74.43\n",
       "av_rech_amt_data_8    73.66\n",
       "av_rech_amt_data_9    74.08\n",
       "dtype: float64"
      ]
     },
     "execution_count": 165,
     "metadata": {},
     "output_type": "execute_result"
    }
   ],
   "source": [
    "(round((df_temp.isnull().sum(axis=0)/len(df_temp.index))*100,2))"
   ]
  },
  {
   "cell_type": "code",
   "execution_count": 166,
   "metadata": {
    "colab": {},
    "colab_type": "code",
    "id": "M-lwe-NZQFXf"
   },
   "outputs": [],
   "source": [
    "df.total_rech_data_6.fillna(value=0,inplace=True)\n",
    "df.total_rech_data_7.fillna(value=0,inplace=True)\n",
    "df.total_rech_data_8.fillna(value=0,inplace=True)\n",
    "df.total_rech_data_9.fillna(value=0,inplace=True)\n",
    "\n",
    "df.av_rech_amt_data_6.fillna(value=0, inplace=True)\n",
    "df.av_rech_amt_data_7.fillna(value=0, inplace=True)\n",
    "df.av_rech_amt_data_8.fillna(value=0, inplace=True)\n",
    "df.av_rech_amt_data_9.fillna(value=0, inplace=True)"
   ]
  },
  {
   "cell_type": "code",
   "execution_count": null,
   "metadata": {
    "colab": {},
    "colab_type": "code",
    "id": "F7U6-oTTQG5N"
   },
   "outputs": [],
   "source": []
  },
  {
   "cell_type": "code",
   "execution_count": 167,
   "metadata": {
    "colab": {
     "base_uri": "https://localhost:8080/",
     "height": 437
    },
    "colab_type": "code",
    "executionInfo": {
     "elapsed": 11381,
     "status": "ok",
     "timestamp": 1560867185565,
     "user": {
      "displayName": "Vamsi Krishna",
      "photoUrl": "https://lh6.googleusercontent.com/-FybFae86-kI/AAAAAAAAAAI/AAAAAAAAE4Q/jGOo03zfhXI/s64/photo.jpg",
      "userId": "12165405222911871892"
     },
     "user_tz": -330
    },
    "id": "WNxpadk3Ps1U",
    "outputId": "1e9a8107-76b2-47df-c8bd-962e9333ce37"
   },
   "outputs": [
    {
     "data": {
      "text/plain": [
       "arpu_2g_6                   74.85\n",
       "arpu_2g_7                   74.43\n",
       "arpu_2g_8                   73.66\n",
       "arpu_2g_9                   74.08\n",
       "arpu_3g_6                   74.85\n",
       "arpu_3g_7                   74.43\n",
       "arpu_3g_8                   73.66\n",
       "arpu_3g_9                   74.08\n",
       "count_rech_2g_6             74.85\n",
       "count_rech_2g_7             74.43\n",
       "count_rech_2g_8             73.66\n",
       "count_rech_2g_9             74.08\n",
       "count_rech_3g_6             74.85\n",
       "count_rech_3g_7             74.43\n",
       "count_rech_3g_8             73.66\n",
       "count_rech_3g_9             74.08\n",
       "date_of_last_rech_data_6    74.85\n",
       "date_of_last_rech_data_7    74.43\n",
       "date_of_last_rech_data_8    73.66\n",
       "date_of_last_rech_data_9    74.08\n",
       "max_rech_data_6             74.85\n",
       "max_rech_data_7             74.43\n",
       "max_rech_data_8             73.66\n",
       "max_rech_data_9             74.08\n",
       "dtype: float64"
      ]
     },
     "execution_count": 167,
     "metadata": {},
     "output_type": "execute_result"
    }
   ],
   "source": [
    "nul_percentage = (round((df.isnull().sum(axis=0)/len(df.index))*100,2))\n",
    "nul_percentage[nul_percentage>70]"
   ]
  },
  {
   "cell_type": "code",
   "execution_count": 168,
   "metadata": {
    "colab": {
     "base_uri": "https://localhost:8080/",
     "height": 168
    },
    "colab_type": "code",
    "executionInfo": {
     "elapsed": 11373,
     "status": "ok",
     "timestamp": 1560867185567,
     "user": {
      "displayName": "Vamsi Krishna",
      "photoUrl": "https://lh6.googleusercontent.com/-FybFae86-kI/AAAAAAAAAAI/AAAAAAAAE4Q/jGOo03zfhXI/s64/photo.jpg",
      "userId": "12165405222911871892"
     },
     "user_tz": -330
    },
    "id": "zWjcbAjKQJPE",
    "outputId": "bd963961-80b9-4c92-9df8-33075f6f38fa"
   },
   "outputs": [
    {
     "name": "stdout",
     "output_type": "stream",
     "text": [
      "Index(['arpu_2g_6', 'arpu_2g_7', 'arpu_2g_8', 'arpu_2g_9', 'arpu_3g_6',\n",
      "       'arpu_3g_7', 'arpu_3g_8', 'arpu_3g_9', 'count_rech_2g_6',\n",
      "       'count_rech_2g_7', 'count_rech_2g_8', 'count_rech_2g_9',\n",
      "       'count_rech_3g_6', 'count_rech_3g_7', 'count_rech_3g_8',\n",
      "       'count_rech_3g_9', 'date_of_last_rech_data_6',\n",
      "       'date_of_last_rech_data_7', 'date_of_last_rech_data_8',\n",
      "       'date_of_last_rech_data_9', 'max_rech_data_6', 'max_rech_data_7',\n",
      "       'max_rech_data_8', 'max_rech_data_9'],\n",
      "      dtype='object')\n"
     ]
    }
   ],
   "source": [
    "cols_to_drop = nul_percentage[nul_percentage>70].index\n",
    "\n",
    "print(cols_to_drop)"
   ]
  },
  {
   "cell_type": "code",
   "execution_count": 169,
   "metadata": {
    "colab": {},
    "colab_type": "code",
    "id": "QYR0LZfTQMC_"
   },
   "outputs": [],
   "source": [
    "df.drop(labels=cols_to_drop, axis=1, inplace=True)"
   ]
  },
  {
   "cell_type": "code",
   "execution_count": 170,
   "metadata": {
    "colab": {
     "base_uri": "https://localhost:8080/",
     "height": 34
    },
    "colab_type": "code",
    "executionInfo": {
     "elapsed": 11362,
     "status": "ok",
     "timestamp": 1560867185573,
     "user": {
      "displayName": "Vamsi Krishna",
      "photoUrl": "https://lh6.googleusercontent.com/-FybFae86-kI/AAAAAAAAAAI/AAAAAAAAE4Q/jGOo03zfhXI/s64/photo.jpg",
      "userId": "12165405222911871892"
     },
     "user_tz": -330
    },
    "id": "vBzqsN9JQNxd",
    "outputId": "fd63fed7-3210-48e9-fca3-c64dce6ff390"
   },
   "outputs": [
    {
     "data": {
      "text/plain": [
       "(99999, 186)"
      ]
     },
     "execution_count": 170,
     "metadata": {},
     "output_type": "execute_result"
    }
   ],
   "source": [
    "df.shape"
   ]
  },
  {
   "cell_type": "code",
   "execution_count": 171,
   "metadata": {
    "colab": {
     "base_uri": "https://localhost:8080/",
     "height": 134
    },
    "colab_type": "code",
    "executionInfo": {
     "elapsed": 11353,
     "status": "ok",
     "timestamp": 1560867185574,
     "user": {
      "displayName": "Vamsi Krishna",
      "photoUrl": "https://lh6.googleusercontent.com/-FybFae86-kI/AAAAAAAAAAI/AAAAAAAAE4Q/jGOo03zfhXI/s64/photo.jpg",
      "userId": "12165405222911871892"
     },
     "user_tz": -330
    },
    "id": "jifz9XHuQPkI",
    "outputId": "6bad1252-a84b-459b-c6be-7470827faf03"
   },
   "outputs": [
    {
     "name": "stdout",
     "output_type": "stream",
     "text": [
      "0    252.0\n",
      "1      0.0\n",
      "2      0.0\n",
      "3      0.0\n",
      "4     56.0\n",
      "dtype: float64\n",
      "99999 <class 'pandas.core.series.Series'>\n"
     ]
    }
   ],
   "source": [
    "# df.total_rech_data_6\n",
    "# df.av_rech_amt_data_6\n",
    "\n",
    "a = df.total_rech_data_6 * df.av_rech_amt_data_6\n",
    "print(a[:5])\n",
    "print(len(a), type(a))"
   ]
  },
  {
   "cell_type": "code",
   "execution_count": 172,
   "metadata": {
    "colab": {},
    "colab_type": "code",
    "id": "nycSp3GMQYmf"
   },
   "outputs": [],
   "source": [
    "df['total_data_rech_6'] = df.total_rech_data_6 * df.av_rech_amt_data_6\n",
    "df['total_data_rech_7'] = df.total_rech_data_7 * df.av_rech_amt_data_7\n",
    "df['total_data_rech_8'] = df.total_rech_data_8 * df.av_rech_amt_data_8\n",
    "df['total_data_rech_9'] = df.total_rech_data_9 * df.av_rech_amt_data_9"
   ]
  },
  {
   "cell_type": "code",
   "execution_count": 173,
   "metadata": {
    "colab": {
     "base_uri": "https://localhost:8080/",
     "height": 34
    },
    "colab_type": "code",
    "executionInfo": {
     "elapsed": 11292,
     "status": "ok",
     "timestamp": 1560867185581,
     "user": {
      "displayName": "Vamsi Krishna",
      "photoUrl": "https://lh6.googleusercontent.com/-FybFae86-kI/AAAAAAAAAAI/AAAAAAAAE4Q/jGOo03zfhXI/s64/photo.jpg",
      "userId": "12165405222911871892"
     },
     "user_tz": -330
    },
    "id": "wqkQz1mLQfOu",
    "outputId": "2061ac4e-df16-4fb5-8f55-c476422fd23d"
   },
   "outputs": [
    {
     "data": {
      "text/plain": [
       "(99999, 190)"
      ]
     },
     "execution_count": 173,
     "metadata": {},
     "output_type": "execute_result"
    }
   ],
   "source": [
    "df.shape"
   ]
  },
  {
   "cell_type": "code",
   "execution_count": 174,
   "metadata": {
    "colab": {},
    "colab_type": "code",
    "id": "EfMwdcfuQgvn"
   },
   "outputs": [],
   "source": [
    "cols_to_drop = ['total_rech_data_6', 'total_rech_data_7','total_rech_data_8','total_rech_data_9',\n",
    "               'av_rech_amt_data_6','av_rech_amt_data_7','av_rech_amt_data_8','av_rech_amt_data_9']"
   ]
  },
  {
   "cell_type": "code",
   "execution_count": 175,
   "metadata": {
    "colab": {
     "base_uri": "https://localhost:8080/",
     "height": 34
    },
    "colab_type": "code",
    "executionInfo": {
     "elapsed": 11281,
     "status": "ok",
     "timestamp": 1560867185588,
     "user": {
      "displayName": "Vamsi Krishna",
      "photoUrl": "https://lh6.googleusercontent.com/-FybFae86-kI/AAAAAAAAAAI/AAAAAAAAE4Q/jGOo03zfhXI/s64/photo.jpg",
      "userId": "12165405222911871892"
     },
     "user_tz": -330
    },
    "id": "zJtMZDE-Qibm",
    "outputId": "9db31754-93c3-4293-e7b3-3c6b5bc7286b"
   },
   "outputs": [
    {
     "name": "stdout",
     "output_type": "stream",
     "text": [
      "(99999, 182)\n"
     ]
    }
   ],
   "source": [
    "df.drop(labels=cols_to_drop, axis=1, inplace=True)\n",
    "print(df.shape)"
   ]
  },
  {
   "cell_type": "code",
   "execution_count": 176,
   "metadata": {
    "colab": {},
    "colab_type": "code",
    "id": "EGenABCWQmUP"
   },
   "outputs": [],
   "source": [
    "df['total_amt_6'] = df.total_rech_amt_6 + df.total_data_rech_6\n",
    "df['total_amt_7'] = df.total_rech_amt_7 + df.total_data_rech_7\n",
    "df['total_amt_8'] = df.total_rech_amt_8 + df.total_data_rech_8\n",
    "df['total_amt_9'] = df.total_rech_amt_9 + df.total_data_rech_9"
   ]
  },
  {
   "cell_type": "code",
   "execution_count": null,
   "metadata": {
    "colab": {},
    "colab_type": "code",
    "id": "QUZwPfKoQop_"
   },
   "outputs": [],
   "source": []
  },
  {
   "cell_type": "markdown",
   "metadata": {
    "colab_type": "text",
    "id": "RQTQ4B16Pnyt"
   },
   "source": [
    "2. Filter high-value customers As mentioned above, you need to predict churn only for the high-value customers. Define high-value customers as follows: Those who have recharged with an amount more than or equal to X, where X is the 70th percentile of the average recharge amount in the first two months (the good phase). "
   ]
  },
  {
   "cell_type": "code",
   "execution_count": 177,
   "metadata": {
    "colab": {
     "base_uri": "https://localhost:8080/",
     "height": 34
    },
    "colab_type": "code",
    "executionInfo": {
     "elapsed": 11811,
     "status": "ok",
     "timestamp": 1560867186151,
     "user": {
      "displayName": "Vamsi Krishna",
      "photoUrl": "https://lh6.googleusercontent.com/-FybFae86-kI/AAAAAAAAAAI/AAAAAAAAE4Q/jGOo03zfhXI/s64/photo.jpg",
      "userId": "12165405222911871892"
     },
     "user_tz": -330
    },
    "id": "KBBcq78xSCc7",
    "outputId": "204ba37f-d65a-43c0-8b55-12b0d572b349"
   },
   "outputs": [
    {
     "data": {
      "text/plain": [
       "0"
      ]
     },
     "execution_count": 177,
     "metadata": {},
     "output_type": "execute_result"
    }
   ],
   "source": [
    "((df.total_amt_6 + df.total_amt_7)/2).isnull().sum()"
   ]
  },
  {
   "cell_type": "code",
   "execution_count": 178,
   "metadata": {
    "colab": {},
    "colab_type": "code",
    "id": "jBj0TDxTSFUq"
   },
   "outputs": [],
   "source": [
    "df['av_amt_rech_6_7']=(df.total_amt_6 + df.total_amt_7)/2"
   ]
  },
  {
   "cell_type": "code",
   "execution_count": 179,
   "metadata": {
    "colab": {
     "base_uri": "https://localhost:8080/",
     "height": 286
    },
    "colab_type": "code",
    "executionInfo": {
     "elapsed": 11799,
     "status": "ok",
     "timestamp": 1560867186156,
     "user": {
      "displayName": "Vamsi Krishna",
      "photoUrl": "https://lh6.googleusercontent.com/-FybFae86-kI/AAAAAAAAAAI/AAAAAAAAE4Q/jGOo03zfhXI/s64/photo.jpg",
      "userId": "12165405222911871892"
     },
     "user_tz": -330
    },
    "id": "tvdsoyHHSMVK",
    "outputId": "8568ae26-18dd-45d1-839c-3b2d297eb648"
   },
   "outputs": [
    {
     "data": {
      "text/plain": [
       "<matplotlib.axes._subplots.AxesSubplot at 0x1d78474e0f0>"
      ]
     },
     "execution_count": 179,
     "metadata": {},
     "output_type": "execute_result"
    },
    {
     "data": {
      "image/png": "[encoded data removed]",
      "text/plain": [
       "<Figure size 432x288 with 1 Axes>"
      ]
     },
     "metadata": {
      "needs_background": "light"
     },
     "output_type": "display_data"
    }
   ],
   "source": [
    "df['av_amt_rech_6_7'].plot.box()"
   ]
  },
  {
   "cell_type": "code",
   "execution_count": 180,
   "metadata": {
    "colab": {
     "base_uri": "https://localhost:8080/",
     "height": 218
    },
    "colab_type": "code",
    "executionInfo": {
     "elapsed": 11790,
     "status": "ok",
     "timestamp": 1560867186157,
     "user": {
      "displayName": "Vamsi Krishna",
      "photoUrl": "https://lh6.googleusercontent.com/-FybFae86-kI/AAAAAAAAAAI/AAAAAAAAE4Q/jGOo03zfhXI/s64/photo.jpg",
      "userId": "12165405222911871892"
     },
     "user_tz": -330
    },
    "id": "wunHd7CLSPax",
    "outputId": "e67dae2e-fbf8-4611-a454-d016d49137be"
   },
   "outputs": [
    {
     "data": {
      "text/plain": [
       "0.0        0.0\n",
       "0.1       60.0\n",
       "0.2      108.5\n",
       "0.3      155.0\n",
       "0.4      209.5\n",
       "0.5      275.0\n",
       "0.6      360.0\n",
       "0.7      478.0\n",
       "0.8      656.5\n",
       "0.9     1028.0\n",
       "1.0    61236.0\n",
       "Name: av_amt_rech_6_7, dtype: float64"
      ]
     },
     "execution_count": 180,
     "metadata": {},
     "output_type": "execute_result"
    }
   ],
   "source": [
    "df['av_amt_rech_6_7'].quantile([0, 0.1, 0.2, 0.3, 0.4, 0.5, 0.6, 0.7, 0.8, 0.9, 1])"
   ]
  },
  {
   "cell_type": "code",
   "execution_count": 181,
   "metadata": {
    "colab": {},
    "colab_type": "code",
    "id": "m-TSBz4rSR0z"
   },
   "outputs": [],
   "source": [
    "avg_amt_rech_2_mon = df['av_amt_rech_6_7'].quantile(0.7)"
   ]
  },
  {
   "cell_type": "code",
   "execution_count": 182,
   "metadata": {
    "colab": {},
    "colab_type": "code",
    "id": "FTRbnVEkSUvr"
   },
   "outputs": [],
   "source": [
    "filter = df['av_amt_rech_6_7'] >= avg_amt_rech_2_mon"
   ]
  },
  {
   "cell_type": "code",
   "execution_count": 183,
   "metadata": {
    "colab": {},
    "colab_type": "code",
    "id": "dG-7R5ifSWHt"
   },
   "outputs": [],
   "source": [
    "df = df[filter]"
   ]
  },
  {
   "cell_type": "code",
   "execution_count": 184,
   "metadata": {
    "colab": {
     "base_uri": "https://localhost:8080/",
     "height": 34
    },
    "colab_type": "code",
    "executionInfo": {
     "elapsed": 11773,
     "status": "ok",
     "timestamp": 1560867186170,
     "user": {
      "displayName": "Vamsi Krishna",
      "photoUrl": "https://lh6.googleusercontent.com/-FybFae86-kI/AAAAAAAAAAI/AAAAAAAAE4Q/jGOo03zfhXI/s64/photo.jpg",
      "userId": "12165405222911871892"
     },
     "user_tz": -330
    },
    "id": "SZDFpBARSXqL",
    "outputId": "f57d841a-8b4a-415f-eaf9-23108d9a789f"
   },
   "outputs": [
    {
     "data": {
      "text/plain": [
       "(30001, 187)"
      ]
     },
     "execution_count": 184,
     "metadata": {},
     "output_type": "execute_result"
    }
   ],
   "source": [
    "df.shape"
   ]
  },
  {
   "cell_type": "markdown",
   "metadata": {
    "colab_type": "text",
    "id": "HuJyyZh5SZ8a"
   },
   "source": [
    " *  After filtering the high-value customers, you should get about 29.9k rows3. Tag churners and remove attributes of the churn phase Now tag the churned customers (churn=1, else 0) based on the fourth month as follows: Those who have not made any calls (either incoming or outgoing) AND have not used mobile internet even once in the churn phase. The attributes you need to use to tag churners are: \n",
    "  * total_ic_mou_9 \n",
    "  * total_og_mou_9 \n",
    "  * vol_2g_mb_9 \n",
    "  * vol_3g_mb_9\n",
    "After tagging churners, remove all the attributes corresponding to the churn phase (all attributes having ‘ _9’, etc. in their names). \n",
    "    \n",
    "* After applying filter we have around 30k rows ( ~ 100 rows extra - Need to check what else missed to take into account )"
   ]
  },
  {
   "cell_type": "code",
   "execution_count": 185,
   "metadata": {
    "colab": {
     "base_uri": "https://localhost:8080/",
     "height": 284
    },
    "colab_type": "code",
    "executionInfo": {
     "elapsed": 11766,
     "status": "ok",
     "timestamp": 1560867186173,
     "user": {
      "displayName": "Vamsi Krishna",
      "photoUrl": "https://lh6.googleusercontent.com/-FybFae86-kI/AAAAAAAAAAI/AAAAAAAAE4Q/jGOo03zfhXI/s64/photo.jpg",
      "userId": "12165405222911871892"
     },
     "user_tz": -330
    },
    "id": "H0raM9b3SwPy",
    "outputId": "e6a35209-2c5f-434c-daa2-e26eeacf2276"
   },
   "outputs": [
    {
     "data": {
      "text/html": [
       "<div>\n",
       "<style scoped>\n",
       "    .dataframe tbody tr th:only-of-type {\n",
       "        vertical-align: middle;\n",
       "    }\n",
       "\n",
       "    .dataframe tbody tr th {\n",
       "        vertical-align: top;\n",
       "    }\n",
       "\n",
       "    .dataframe thead th {\n",
       "        text-align: right;\n",
       "    }\n",
       "</style>\n",
       "<table border=\"1\" class=\"dataframe\">\n",
       "  <thead>\n",
       "    <tr style=\"text-align: right;\">\n",
       "      <th></th>\n",
       "      <th>total_ic_mou_9</th>\n",
       "      <th>total_og_mou_9</th>\n",
       "      <th>vol_2g_mb_9</th>\n",
       "      <th>vol_3g_mb_9</th>\n",
       "    </tr>\n",
       "  </thead>\n",
       "  <tbody>\n",
       "    <tr>\n",
       "      <th>count</th>\n",
       "      <td>30001.000000</td>\n",
       "      <td>30001.000000</td>\n",
       "      <td>30001.000000</td>\n",
       "      <td>30001.000000</td>\n",
       "    </tr>\n",
       "    <tr>\n",
       "      <th>mean</th>\n",
       "      <td>264.901497</td>\n",
       "      <td>500.869219</td>\n",
       "      <td>91.435910</td>\n",
       "      <td>349.513848</td>\n",
       "    </tr>\n",
       "    <tr>\n",
       "      <th>std</th>\n",
       "      <td>358.290694</td>\n",
       "      <td>666.902007</td>\n",
       "      <td>282.370006</td>\n",
       "      <td>947.079372</td>\n",
       "    </tr>\n",
       "    <tr>\n",
       "      <th>min</th>\n",
       "      <td>0.000000</td>\n",
       "      <td>0.000000</td>\n",
       "      <td>0.000000</td>\n",
       "      <td>0.000000</td>\n",
       "    </tr>\n",
       "    <tr>\n",
       "      <th>25%</th>\n",
       "      <td>50.480000</td>\n",
       "      <td>47.640000</td>\n",
       "      <td>0.000000</td>\n",
       "      <td>0.000000</td>\n",
       "    </tr>\n",
       "    <tr>\n",
       "      <th>50%</th>\n",
       "      <td>157.980000</td>\n",
       "      <td>284.940000</td>\n",
       "      <td>0.000000</td>\n",
       "      <td>0.000000</td>\n",
       "    </tr>\n",
       "    <tr>\n",
       "      <th>75%</th>\n",
       "      <td>343.540000</td>\n",
       "      <td>698.680000</td>\n",
       "      <td>38.000000</td>\n",
       "      <td>320.610000</td>\n",
       "    </tr>\n",
       "    <tr>\n",
       "      <th>max</th>\n",
       "      <td>7785.730000</td>\n",
       "      <td>11517.730000</td>\n",
       "      <td>8993.950000</td>\n",
       "      <td>39221.270000</td>\n",
       "    </tr>\n",
       "  </tbody>\n",
       "</table>\n",
       "</div>"
      ],
      "text/plain": [
       "       total_ic_mou_9  total_og_mou_9   vol_2g_mb_9   vol_3g_mb_9\n",
       "count    30001.000000    30001.000000  30001.000000  30001.000000\n",
       "mean       264.901497      500.869219     91.435910    349.513848\n",
       "std        358.290694      666.902007    282.370006    947.079372\n",
       "min          0.000000        0.000000      0.000000      0.000000\n",
       "25%         50.480000       47.640000      0.000000      0.000000\n",
       "50%        157.980000      284.940000      0.000000      0.000000\n",
       "75%        343.540000      698.680000     38.000000    320.610000\n",
       "max       7785.730000    11517.730000   8993.950000  39221.270000"
      ]
     },
     "execution_count": 185,
     "metadata": {},
     "output_type": "execute_result"
    }
   ],
   "source": [
    "df[['total_ic_mou_9','total_og_mou_9','vol_2g_mb_9','vol_3g_mb_9']].describe()"
   ]
  },
  {
   "cell_type": "code",
   "execution_count": 186,
   "metadata": {},
   "outputs": [],
   "source": [
    "#### Change to OR fro AND\n",
    "\n",
    "def isUserChurn(df):\n",
    "  if(df['total_ic_mou_9'] > 0 or df['total_og_mou_9'] > 0 or df['vol_2g_mb_9'] > 0 or df['vol_3g_mb_9'] > 0):\n",
    "    return 0\n",
    "  else:\n",
    "    return 1"
   ]
  },
  {
   "cell_type": "code",
   "execution_count": 187,
   "metadata": {
    "colab": {},
    "colab_type": "code",
    "id": "boinFNoXVDHT"
   },
   "outputs": [],
   "source": [
    "df['churn'] = df.apply(isUserChurn, axis=1)"
   ]
  },
  {
   "cell_type": "code",
   "execution_count": 188,
   "metadata": {
    "colab": {
     "base_uri": "https://localhost:8080/",
     "height": 34
    },
    "colab_type": "code",
    "executionInfo": {
     "elapsed": 14007,
     "status": "ok",
     "timestamp": 1560867188435,
     "user": {
      "displayName": "Vamsi Krishna",
      "photoUrl": "https://lh6.googleusercontent.com/-FybFae86-kI/AAAAAAAAAAI/AAAAAAAAE4Q/jGOo03zfhXI/s64/photo.jpg",
      "userId": "12165405222911871892"
     },
     "user_tz": -330
    },
    "id": "17v9G1aRXTOG",
    "outputId": "adb75f53-bf31-451d-8281-6f40a7fb8432"
   },
   "outputs": [
    {
     "data": {
      "text/plain": [
       "(30001, 188)"
      ]
     },
     "execution_count": 188,
     "metadata": {},
     "output_type": "execute_result"
    }
   ],
   "source": [
    "df.shape"
   ]
  },
  {
   "cell_type": "code",
   "execution_count": 189,
   "metadata": {
    "colab": {
     "base_uri": "https://localhost:8080/",
     "height": 218
    },
    "colab_type": "code",
    "executionInfo": {
     "elapsed": 14000,
     "status": "ok",
     "timestamp": 1560867188438,
     "user": {
      "displayName": "Vamsi Krishna",
      "photoUrl": "https://lh6.googleusercontent.com/-FybFae86-kI/AAAAAAAAAAI/AAAAAAAAE4Q/jGOo03zfhXI/s64/photo.jpg",
      "userId": "12165405222911871892"
     },
     "user_tz": -330
    },
    "id": "6nclnz6NXUmm",
    "outputId": "ddd96337-89be-4c8e-a933-ed171f9a089e"
   },
   "outputs": [
    {
     "data": {
      "text/plain": [
       "['date_of_last_rech_6',\n",
       " 'date_of_last_rech_7',\n",
       " 'date_of_last_rech_8',\n",
       " 'date_of_last_rech_9',\n",
       " 'date_of_last_rech_data_6',\n",
       " 'date_of_last_rech_data_7',\n",
       " 'date_of_last_rech_data_8',\n",
       " 'date_of_last_rech_data_9',\n",
       " 'last_date_of_month_6',\n",
       " 'last_date_of_month_7',\n",
       " 'last_date_of_month_8',\n",
       " 'last_date_of_month_9']"
      ]
     },
     "execution_count": 189,
     "metadata": {},
     "output_type": "execute_result"
    }
   ],
   "source": [
    "date_columns"
   ]
  },
  {
   "cell_type": "code",
   "execution_count": 190,
   "metadata": {
    "colab": {
     "base_uri": "https://localhost:8080/",
     "height": 34
    },
    "colab_type": "code",
    "executionInfo": {
     "elapsed": 13991,
     "status": "ok",
     "timestamp": 1560867188439,
     "user": {
      "displayName": "Vamsi Krishna",
      "photoUrl": "https://lh6.googleusercontent.com/-FybFae86-kI/AAAAAAAAAAI/AAAAAAAAE4Q/jGOo03zfhXI/s64/photo.jpg",
      "userId": "12165405222911871892"
     },
     "user_tz": -330
    },
    "id": "bDDl1rxyWo2-",
    "outputId": "62ac0603-4c69-44dc-8e3b-07feea1cf2f0"
   },
   "outputs": [
    {
     "name": "stdout",
     "output_type": "stream",
     "text": [
      "['date_of_last_rech_6', 'date_of_last_rech_7', 'date_of_last_rech_8', 'date_of_last_rech_9']\n"
     ]
    }
   ],
   "source": [
    "# should i drop below columns? or not? How to impute missing values? or drop the rows where data is missing?\n",
    "cols_to_drop = list(df.filter(like = \"date\", axis =1).columns)\n",
    "print(cols_to_drop)\n",
    "# df.drop(labels=cols_to_drop, axis=1, inplace=True)"
   ]
  },
  {
   "cell_type": "code",
   "execution_count": null,
   "metadata": {
    "colab": {},
    "colab_type": "code",
    "id": "FGCSXYSRSstz"
   },
   "outputs": [],
   "source": []
  },
  {
   "cell_type": "code",
   "execution_count": 191,
   "metadata": {
    "colab": {},
    "colab_type": "code",
    "id": "HqDwM_-icm5W"
   },
   "outputs": [],
   "source": [
    "# dropping 9th month cols\n",
    "cols_to_drop = (list(df.filter(like ='_9', axis =1).columns))"
   ]
  },
  {
   "cell_type": "code",
   "execution_count": 192,
   "metadata": {
    "colab": {
     "base_uri": "https://localhost:8080/",
     "height": 54
    },
    "colab_type": "code",
    "executionInfo": {
     "elapsed": 13975,
     "status": "ok",
     "timestamp": 1560867188445,
     "user": {
      "displayName": "Vamsi Krishna",
      "photoUrl": "https://lh6.googleusercontent.com/-FybFae86-kI/AAAAAAAAAAI/AAAAAAAAE4Q/jGOo03zfhXI/s64/photo.jpg",
      "userId": "12165405222911871892"
     },
     "user_tz": -330
    },
    "id": "y0UHh1mFqDrA",
    "outputId": "f287c9e2-35fe-475b-e24a-17eb26242278"
   },
   "outputs": [
    {
     "name": "stdout",
     "output_type": "stream",
     "text": [
      "['arpu_9', 'date_of_last_rech_9', 'fb_user_9', 'ic_others_9', 'isd_ic_mou_9', 'isd_og_mou_9', 'last_day_rch_amt_9', 'loc_ic_mou_9', 'loc_ic_t2f_mou_9', 'loc_ic_t2m_mou_9', 'loc_ic_t2t_mou_9', 'loc_og_mou_9', 'loc_og_t2c_mou_9', 'loc_og_t2f_mou_9', 'loc_og_t2m_mou_9', 'loc_og_t2t_mou_9', 'max_rech_amt_9', 'monthly_2g_9', 'monthly_3g_9', 'night_pck_user_9', 'offnet_mou_9', 'og_others_9', 'onnet_mou_9', 'roam_ic_mou_9', 'roam_og_mou_9', 'sachet_2g_9', 'sachet_3g_9', 'spl_ic_mou_9', 'spl_og_mou_9', 'std_ic_mou_9', 'std_ic_t2f_mou_9', 'std_ic_t2m_mou_9', 'std_ic_t2t_mou_9', 'std_og_mou_9', 'std_og_t2f_mou_9', 'std_og_t2m_mou_9', 'std_og_t2t_mou_9', 'total_ic_mou_9', 'total_og_mou_9', 'total_rech_amt_9', 'total_rech_num_9', 'vol_2g_mb_9', 'vol_3g_mb_9', 'total_data_rech_9', 'total_amt_9']\n"
     ]
    }
   ],
   "source": [
    "print(cols_to_drop)"
   ]
  },
  {
   "cell_type": "code",
   "execution_count": 193,
   "metadata": {
    "colab": {},
    "colab_type": "code",
    "id": "L8jWZ_kHpxRA"
   },
   "outputs": [],
   "source": [
    "df.drop(labels=cols_to_drop, axis=1, inplace=True)"
   ]
  },
  {
   "cell_type": "code",
   "execution_count": 194,
   "metadata": {
    "colab": {
     "base_uri": "https://localhost:8080/",
     "height": 34
    },
    "colab_type": "code",
    "executionInfo": {
     "elapsed": 13960,
     "status": "ok",
     "timestamp": 1560867188450,
     "user": {
      "displayName": "Vamsi Krishna",
      "photoUrl": "https://lh6.googleusercontent.com/-FybFae86-kI/AAAAAAAAAAI/AAAAAAAAE4Q/jGOo03zfhXI/s64/photo.jpg",
      "userId": "12165405222911871892"
     },
     "user_tz": -330
    },
    "id": "JjTH-UrtqSbg",
    "outputId": "6b14783e-5196-483e-efcd-bea93ab99dc4"
   },
   "outputs": [
    {
     "name": "stdout",
     "output_type": "stream",
     "text": [
      "['sep_vbc_3g']\n"
     ]
    }
   ],
   "source": [
    "cols_to_drop = list(df.filter(like='sep', axis=1).columns)\n",
    "print(cols_to_drop)"
   ]
  },
  {
   "cell_type": "code",
   "execution_count": 195,
   "metadata": {
    "colab": {},
    "colab_type": "code",
    "id": "Oa-X9UCbqlIw"
   },
   "outputs": [],
   "source": [
    "df.drop(labels=cols_to_drop, axis=1, inplace=True)"
   ]
  },
  {
   "cell_type": "code",
   "execution_count": 196,
   "metadata": {
    "colab": {},
    "colab_type": "code",
    "id": "unNAQN9xcvvg"
   },
   "outputs": [],
   "source": [
    "nul_percentage = round(100*(df.isnull().sum()/len(df.index)), 2)"
   ]
  },
  {
   "cell_type": "code",
   "execution_count": 197,
   "metadata": {
    "colab": {
     "base_uri": "https://localhost:8080/",
     "height": 1058
    },
    "colab_type": "code",
    "executionInfo": {
     "elapsed": 13948,
     "status": "ok",
     "timestamp": 1560867188461,
     "user": {
      "displayName": "Vamsi Krishna",
      "photoUrl": "https://lh6.googleusercontent.com/-FybFae86-kI/AAAAAAAAAAI/AAAAAAAAE4Q/jGOo03zfhXI/s64/photo.jpg",
      "userId": "12165405222911871892"
     },
     "user_tz": -330
    },
    "id": "eaSLNSj3d9Ze",
    "outputId": "0c3df786-3874-4536-e166-a0d8dfaf861c"
   },
   "outputs": [
    {
     "data": {
      "text/plain": [
       "date_of_last_rech_6    0.24\n",
       "date_of_last_rech_7    0.33\n",
       "date_of_last_rech_8    1.94\n",
       "ic_others_6            1.82\n",
       "ic_others_7            1.79\n",
       "ic_others_8            3.91\n",
       "isd_ic_mou_6           1.82\n",
       "isd_ic_mou_7           1.79\n",
       "isd_ic_mou_8           3.91\n",
       "isd_og_mou_6           1.82\n",
       "isd_og_mou_7           1.79\n",
       "isd_og_mou_8           3.91\n",
       "loc_ic_mou_6           1.82\n",
       "loc_ic_mou_7           1.79\n",
       "loc_ic_mou_8           3.91\n",
       "loc_ic_t2f_mou_6       1.82\n",
       "loc_ic_t2f_mou_7       1.79\n",
       "loc_ic_t2f_mou_8       3.91\n",
       "loc_ic_t2m_mou_6       1.82\n",
       "loc_ic_t2m_mou_7       1.79\n",
       "loc_ic_t2m_mou_8       3.91\n",
       "loc_ic_t2t_mou_6       1.82\n",
       "loc_ic_t2t_mou_7       1.79\n",
       "loc_ic_t2t_mou_8       3.91\n",
       "loc_og_mou_6           1.82\n",
       "loc_og_mou_7           1.79\n",
       "loc_og_mou_8           3.91\n",
       "loc_og_t2c_mou_6       1.82\n",
       "loc_og_t2c_mou_7       1.79\n",
       "loc_og_t2c_mou_8       3.91\n",
       "                       ... \n",
       "spl_ic_mou_6           1.82\n",
       "spl_ic_mou_7           1.79\n",
       "spl_ic_mou_8           3.91\n",
       "spl_og_mou_6           1.82\n",
       "spl_og_mou_7           1.79\n",
       "spl_og_mou_8           3.91\n",
       "std_ic_mou_6           1.82\n",
       "std_ic_mou_7           1.79\n",
       "std_ic_mou_8           3.91\n",
       "std_ic_t2f_mou_6       1.82\n",
       "std_ic_t2f_mou_7       1.79\n",
       "std_ic_t2f_mou_8       3.91\n",
       "std_ic_t2m_mou_6       1.82\n",
       "std_ic_t2m_mou_7       1.79\n",
       "std_ic_t2m_mou_8       3.91\n",
       "std_ic_t2t_mou_6       1.82\n",
       "std_ic_t2t_mou_7       1.79\n",
       "std_ic_t2t_mou_8       3.91\n",
       "std_og_mou_6           1.82\n",
       "std_og_mou_7           1.79\n",
       "std_og_mou_8           3.91\n",
       "std_og_t2f_mou_6       1.82\n",
       "std_og_t2f_mou_7       1.79\n",
       "std_og_t2f_mou_8       3.91\n",
       "std_og_t2m_mou_6       1.82\n",
       "std_og_t2m_mou_7       1.79\n",
       "std_og_t2m_mou_8       3.91\n",
       "std_og_t2t_mou_6       1.82\n",
       "std_og_t2t_mou_7       1.79\n",
       "std_og_t2t_mou_8       3.91\n",
       "Length: 84, dtype: float64"
      ]
     },
     "execution_count": 197,
     "metadata": {},
     "output_type": "execute_result"
    }
   ],
   "source": [
    "nul_percentage[nul_percentage>0]"
   ]
  },
  {
   "cell_type": "code",
   "execution_count": 198,
   "metadata": {
    "colab": {},
    "colab_type": "code",
    "id": "ugNYH8B6dIlu"
   },
   "outputs": [],
   "source": [
    "df.fillna(0, inplace=True)"
   ]
  },
  {
   "cell_type": "code",
   "execution_count": 199,
   "metadata": {
    "colab": {
     "base_uri": "https://localhost:8080/",
     "height": 34
    },
    "colab_type": "code",
    "executionInfo": {
     "elapsed": 13934,
     "status": "ok",
     "timestamp": 1560867188464,
     "user": {
      "displayName": "Vamsi Krishna",
      "photoUrl": "https://lh6.googleusercontent.com/-FybFae86-kI/AAAAAAAAAAI/AAAAAAAAE4Q/jGOo03zfhXI/s64/photo.jpg",
      "userId": "12165405222911871892"
     },
     "user_tz": -330
    },
    "id": "Sp-rIi2VrR8I",
    "outputId": "009bd589-37d1-4987-e9a4-bf063d474c62"
   },
   "outputs": [
    {
     "data": {
      "text/plain": [
       "Series([], dtype: float64)"
      ]
     },
     "execution_count": 199,
     "metadata": {},
     "output_type": "execute_result"
    }
   ],
   "source": [
    "nul_percentage = round(100*(df.isnull().sum()/len(df.index)), 2)\n",
    "nul_percentage[nul_percentage>0]"
   ]
  },
  {
   "cell_type": "code",
   "execution_count": 200,
   "metadata": {
    "colab": {
     "base_uri": "https://localhost:8080/",
     "height": 34
    },
    "colab_type": "code",
    "executionInfo": {
     "elapsed": 13926,
     "status": "ok",
     "timestamp": 1560867188465,
     "user": {
      "displayName": "Vamsi Krishna",
      "photoUrl": "https://lh6.googleusercontent.com/-FybFae86-kI/AAAAAAAAAAI/AAAAAAAAE4Q/jGOo03zfhXI/s64/photo.jpg",
      "userId": "12165405222911871892"
     },
     "user_tz": -330
    },
    "id": "v7eRYd4QcjGE",
    "outputId": "31fec9e5-a7b8-4cd0-befb-2761788325e1"
   },
   "outputs": [
    {
     "data": {
      "text/plain": [
       "(30001, 142)"
      ]
     },
     "execution_count": 200,
     "metadata": {},
     "output_type": "execute_result"
    }
   ],
   "source": [
    "df.shape"
   ]
  },
  {
   "cell_type": "code",
   "execution_count": 201,
   "metadata": {
    "colab": {
     "base_uri": "https://localhost:8080/",
     "height": 151
    },
    "colab_type": "code",
    "executionInfo": {
     "elapsed": 13918,
     "status": "ok",
     "timestamp": 1560867188466,
     "user": {
      "displayName": "Vamsi Krishna",
      "photoUrl": "https://lh6.googleusercontent.com/-FybFae86-kI/AAAAAAAAAAI/AAAAAAAAE4Q/jGOo03zfhXI/s64/photo.jpg",
      "userId": "12165405222911871892"
     },
     "user_tz": -330
    },
    "id": "lZh0HakaytaR",
    "outputId": "95ecd779-92f2-4865-eb37-4997ffbf270c"
   },
   "outputs": [
    {
     "data": {
      "text/plain": [
       "['night_pck_user_6',\n",
       " 'night_pck_user_7',\n",
       " 'night_pck_user_8',\n",
       " 'night_pck_user_9',\n",
       " 'fb_user_6',\n",
       " 'fb_user_7',\n",
       " 'fb_user_8',\n",
       " 'fb_user_9']"
      ]
     },
     "execution_count": 201,
     "metadata": {},
     "output_type": "execute_result"
    }
   ],
   "source": [
    "categorical_columns"
   ]
  },
  {
   "cell_type": "code",
   "execution_count": 202,
   "metadata": {},
   "outputs": [
    {
     "name": "stdout",
     "output_type": "stream",
     "text": [
      "['night_pck_user_6', 'night_pck_user_7', 'night_pck_user_8', 'fb_user_6', 'fb_user_7', 'fb_user_8']\n"
     ]
    }
   ],
   "source": [
    "categorical_columns.remove('night_pck_user_9')\n",
    "categorical_columns.remove('fb_user_9')\n",
    "print(categorical_columns)"
   ]
  },
  {
   "cell_type": "code",
   "execution_count": 203,
   "metadata": {
    "colab": {},
    "colab_type": "code",
    "id": "-_xs_vR-yh_T"
   },
   "outputs": [],
   "source": [
    "for colName in categorical_columns:\n",
    "  df[colName] = df[colName].astype(str)"
   ]
  },
  {
   "cell_type": "code",
   "execution_count": null,
   "metadata": {
    "colab": {},
    "colab_type": "code",
    "id": "IcOq7tSDyd7S"
   },
   "outputs": [],
   "source": []
  },
  {
   "cell_type": "code",
   "execution_count": 204,
   "metadata": {
    "colab": {},
    "colab_type": "code",
    "id": "gYKJj1PkySnd"
   },
   "outputs": [],
   "source": [
    "df = (pd.get_dummies(df, columns=categorical_columns, drop_first=True))"
   ]
  },
  {
   "cell_type": "code",
   "execution_count": 205,
   "metadata": {
    "colab": {
     "base_uri": "https://localhost:8080/",
     "height": 34
    },
    "colab_type": "code",
    "executionInfo": {
     "elapsed": 14845,
     "status": "ok",
     "timestamp": 1560867189441,
     "user": {
      "displayName": "Vamsi Krishna",
      "photoUrl": "https://lh6.googleusercontent.com/-FybFae86-kI/AAAAAAAAAAI/AAAAAAAAE4Q/jGOo03zfhXI/s64/photo.jpg",
      "userId": "12165405222911871892"
     },
     "user_tz": -330
    },
    "id": "4OeLnjx318Mc",
    "outputId": "6651c531-fd3d-4c8d-b1b2-13ecc28b76ed"
   },
   "outputs": [
    {
     "data": {
      "text/plain": [
       "(30001, 148)"
      ]
     },
     "execution_count": 205,
     "metadata": {},
     "output_type": "execute_result"
    }
   ],
   "source": [
    "df.shape"
   ]
  },
  {
   "cell_type": "code",
   "execution_count": 206,
   "metadata": {
    "colab": {},
    "colab_type": "code",
    "id": "6DoLWRD3zE1q"
   },
   "outputs": [
    {
     "data": {
      "text/plain": [
       "0    27560\n",
       "1     2441\n",
       "Name: churn, dtype: int64"
      ]
     },
     "execution_count": 206,
     "metadata": {},
     "output_type": "execute_result"
    }
   ],
   "source": [
    "df.churn.value_counts()"
   ]
  },
  {
   "cell_type": "code",
   "execution_count": 207,
   "metadata": {},
   "outputs": [
    {
     "data": {
      "text/plain": [
       "0    0.918636\n",
       "1    0.081364\n",
       "Name: churn, dtype: float64"
      ]
     },
     "execution_count": 207,
     "metadata": {},
     "output_type": "execute_result"
    }
   ],
   "source": [
    "df.churn.value_counts(normalize=True)"
   ]
  },
  {
   "cell_type": "markdown",
   "metadata": {
    "colab_type": "text",
    "id": "Q6dvzEiwySrK"
   },
   "source": [
    "## New derived Variables"
   ]
  },
  {
   "cell_type": "code",
   "execution_count": 208,
   "metadata": {
    "colab": {
     "base_uri": "https://localhost:8080/",
     "height": 284
    },
    "colab_type": "code",
    "executionInfo": {
     "elapsed": 14831,
     "status": "ok",
     "timestamp": 1560867189444,
     "user": {
      "displayName": "Vamsi Krishna",
      "photoUrl": "https://lh6.googleusercontent.com/-FybFae86-kI/AAAAAAAAAAI/AAAAAAAAE4Q/jGOo03zfhXI/s64/photo.jpg",
      "userId": "12165405222911871892"
     },
     "user_tz": -330
    },
    "id": "PkBnuZvXyStg",
    "outputId": "5d7585f5-cf51-4085-93f1-e6fff6d59097"
   },
   "outputs": [
    {
     "data": {
      "text/html": [
       "<div>\n",
       "<style scoped>\n",
       "    .dataframe tbody tr th:only-of-type {\n",
       "        vertical-align: middle;\n",
       "    }\n",
       "\n",
       "    .dataframe tbody tr th {\n",
       "        vertical-align: top;\n",
       "    }\n",
       "\n",
       "    .dataframe thead th {\n",
       "        text-align: right;\n",
       "    }\n",
       "</style>\n",
       "<table border=\"1\" class=\"dataframe\">\n",
       "  <thead>\n",
       "    <tr style=\"text-align: right;\">\n",
       "      <th></th>\n",
       "      <th>aon</th>\n",
       "    </tr>\n",
       "  </thead>\n",
       "  <tbody>\n",
       "    <tr>\n",
       "      <th>count</th>\n",
       "      <td>30001.000000</td>\n",
       "    </tr>\n",
       "    <tr>\n",
       "      <th>mean</th>\n",
       "      <td>1209.368754</td>\n",
       "    </tr>\n",
       "    <tr>\n",
       "      <th>std</th>\n",
       "      <td>957.677989</td>\n",
       "    </tr>\n",
       "    <tr>\n",
       "      <th>min</th>\n",
       "      <td>180.000000</td>\n",
       "    </tr>\n",
       "    <tr>\n",
       "      <th>25%</th>\n",
       "      <td>460.000000</td>\n",
       "    </tr>\n",
       "    <tr>\n",
       "      <th>50%</th>\n",
       "      <td>846.000000</td>\n",
       "    </tr>\n",
       "    <tr>\n",
       "      <th>75%</th>\n",
       "      <td>1756.000000</td>\n",
       "    </tr>\n",
       "    <tr>\n",
       "      <th>max</th>\n",
       "      <td>4321.000000</td>\n",
       "    </tr>\n",
       "  </tbody>\n",
       "</table>\n",
       "</div>"
      ],
      "text/plain": [
       "                aon\n",
       "count  30001.000000\n",
       "mean    1209.368754\n",
       "std      957.677989\n",
       "min      180.000000\n",
       "25%      460.000000\n",
       "50%      846.000000\n",
       "75%     1756.000000\n",
       "max     4321.000000"
      ]
     },
     "execution_count": 208,
     "metadata": {},
     "output_type": "execute_result"
    }
   ],
   "source": [
    "df[['aon']].describe()"
   ]
  },
  {
   "cell_type": "code",
   "execution_count": 209,
   "metadata": {
    "colab": {
     "base_uri": "https://localhost:8080/",
     "height": 50
    },
    "colab_type": "code",
    "executionInfo": {
     "elapsed": 14822,
     "status": "ok",
     "timestamp": 1560867189445,
     "user": {
      "displayName": "Vamsi Krishna",
      "photoUrl": "https://lh6.googleusercontent.com/-FybFae86-kI/AAAAAAAAAAI/AAAAAAAAE4Q/jGOo03zfhXI/s64/photo.jpg",
      "userId": "12165405222911871892"
     },
     "user_tz": -330
    },
    "id": "jOTsJvH54wOH",
    "outputId": "2ac4daf2-79f4-4a86-b7f9-57538698f006"
   },
   "outputs": [
    {
     "data": {
      "text/plain": [
       "array([ 1,  2,  3,  4,  5,  6,  7,  8,  9, 10, 11, 12, 13, 14, 15, 16, 17,\n",
       "       18, 19, 20, 21, 22, 23])"
      ]
     },
     "execution_count": 209,
     "metadata": {},
     "output_type": "execute_result"
    }
   ],
   "source": [
    "np.arange(1,24)"
   ]
  },
  {
   "cell_type": "code",
   "execution_count": 210,
   "metadata": {
    "colab": {
     "base_uri": "https://localhost:8080/",
     "height": 202
    },
    "colab_type": "code",
    "executionInfo": {
     "elapsed": 14815,
     "status": "ok",
     "timestamp": 1560867189446,
     "user": {
      "displayName": "Vamsi Krishna",
      "photoUrl": "https://lh6.googleusercontent.com/-FybFae86-kI/AAAAAAAAAAI/AAAAAAAAE4Q/jGOo03zfhXI/s64/photo.jpg",
      "userId": "12165405222911871892"
     },
     "user_tz": -330
    },
    "id": "NtGq04HO4-E9",
    "outputId": "e0dff6e3-8b30-4684-d293-9a7473c5ecb9"
   },
   "outputs": [
    {
     "data": {
      "text/plain": [
       "0      968\n",
       "7      802\n",
       "8      315\n",
       "21     720\n",
       "23     604\n",
       "33    1328\n",
       "38    1155\n",
       "41    2010\n",
       "48    1265\n",
       "53     697\n",
       "Name: aon, dtype: int64"
      ]
     },
     "execution_count": 210,
     "metadata": {},
     "output_type": "execute_result"
    }
   ],
   "source": [
    "df['aon'][:10]"
   ]
  },
  {
   "cell_type": "code",
   "execution_count": 211,
   "metadata": {
    "colab": {},
    "colab_type": "code",
    "id": "pjFC5BtAySvy"
   },
   "outputs": [],
   "source": [
    "# AON - > min is 180days(6 months), max is 4321 (144 months)\n",
    "df['aon_bin'] = pd.cut(df['aon'], bins=24, include_lowest=False, labels=np.arange(1,25))"
   ]
  },
  {
   "cell_type": "code",
   "execution_count": 212,
   "metadata": {
    "colab": {},
    "colab_type": "code",
    "id": "wipybQz35T3V"
   },
   "outputs": [],
   "source": [
    "df.drop(labels='aon', axis=1, inplace=True)"
   ]
  },
  {
   "cell_type": "code",
   "execution_count": 213,
   "metadata": {
    "colab": {
     "base_uri": "https://localhost:8080/",
     "height": 34
    },
    "colab_type": "code",
    "executionInfo": {
     "elapsed": 14800,
     "status": "ok",
     "timestamp": 1560867189453,
     "user": {
      "displayName": "Vamsi Krishna",
      "photoUrl": "https://lh6.googleusercontent.com/-FybFae86-kI/AAAAAAAAAAI/AAAAAAAAE4Q/jGOo03zfhXI/s64/photo.jpg",
      "userId": "12165405222911871892"
     },
     "user_tz": -330
    },
    "id": "rk_7KMmf5crG",
    "outputId": "afedafd9-d9bd-443d-dbb3-ab011f3b4077"
   },
   "outputs": [
    {
     "data": {
      "text/plain": [
       "(30001, 148)"
      ]
     },
     "execution_count": 213,
     "metadata": {},
     "output_type": "execute_result"
    }
   ],
   "source": [
    "df.shape"
   ]
  },
  {
   "cell_type": "code",
   "execution_count": null,
   "metadata": {
    "colab": {},
    "colab_type": "code",
    "id": "8UyJuebK5X5u"
   },
   "outputs": [],
   "source": []
  },
  {
   "cell_type": "code",
   "execution_count": 214,
   "metadata": {
    "colab": {},
    "colab_type": "code",
    "id": "AopdlcUPSqja"
   },
   "outputs": [],
   "source": [
    "# df.dtypes"
   ]
  },
  {
   "cell_type": "code",
   "execution_count": 215,
   "metadata": {
    "colab": {},
    "colab_type": "code",
    "id": "cYRAw_qySpWK"
   },
   "outputs": [],
   "source": [
    "# (df.last_day_rch_amt_6+df.last_day_rch_amt_7)/2"
   ]
  },
  {
   "cell_type": "code",
   "execution_count": 216,
   "metadata": {
    "colab": {},
    "colab_type": "code",
    "id": "_VOkvur6wTwT"
   },
   "outputs": [],
   "source": [
    "# print(df.arpu_6.mean())\n",
    "# print(df.arpu_7.mean())\n",
    "# print(df.arpu_8.mean())"
   ]
  },
  {
   "cell_type": "code",
   "execution_count": 217,
   "metadata": {
    "colab": {},
    "colab_type": "code",
    "id": "mFrvhZNKvqTE"
   },
   "outputs": [],
   "source": [
    "# df.arpu_8-(df.arpu_6+df.arpu_7)/2.0"
   ]
  },
  {
   "cell_type": "raw",
   "metadata": {
    "colab": {},
    "colab_type": "code",
    "id": "VZ5OFBbrwvLe"
   },
   "source": [
    "A. Any new derived variables.\n",
    "1. Graphs - Univariate and Bivariate Analysis\n",
    "2. Modelling\n",
    "    * PCA - Logit/SVM"
   ]
  },
  {
   "cell_type": "code",
   "execution_count": null,
   "metadata": {},
   "outputs": [],
   "source": []
  },
  {
   "cell_type": "code",
   "execution_count": null,
   "metadata": {},
   "outputs": [],
   "source": []
  }
 ],
 "metadata": {
  "colab": {
   "collapsed_sections": [],
   "name": "TelecomChurn-Upgrad.ipynb",
   "provenance": [],
   "version": "0.3.2"
  },
  "kernelspec": {
   "display_name": "Python 3",
   "language": "python",
   "name": "python3"
  },
  "language_info": {
   "codemirror_mode": {
    "name": "ipython",
    "version": 3
   },
   "file_extension": ".py",
   "mimetype": "text/x-python",
   "name": "python",
   "nbconvert_exporter": "python",
   "pygments_lexer": "ipython3",
   "version": "3.6.8"
  }
 },
 "nbformat": 4,
 "nbformat_minor": 1
}
