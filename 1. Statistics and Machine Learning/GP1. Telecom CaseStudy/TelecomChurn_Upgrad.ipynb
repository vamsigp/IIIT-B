{
 "cells": [
  {
   "cell_type": "markdown",
   "metadata": {
    "colab_type": "text",
    "id": "EyXnNhFHrj6e"
   },
   "source": [
    "https://www.analyticsvidhya.com/blog/2017/03/imbalanced-classification-problem/\n",
    "\n",
    "Derived Variables - \n",
    "* AON (convert days to months)\n",
    "\n",
    "\n",
    "\n"
   ]
  },
  {
   "cell_type": "markdown",
   "metadata": {
    "colab_type": "text",
    "id": "Rlan_Syqri_V"
   },
   "source": [
    "Import Statements"
   ]
  },
  {
   "cell_type": "code",
   "execution_count": 1,
   "metadata": {
    "colab": {},
    "colab_type": "code",
    "id": "NNq25SxGLjt1"
   },
   "outputs": [],
   "source": [
    "import numpy as np\n",
    "import pandas as pd\n",
    "import seaborn as sns\n",
    "import matplotlib.pyplot as plt\n",
    "\n",
    "%matplotlib inline\n",
    "\n",
    "import os"
   ]
  },
  {
   "cell_type": "code",
   "execution_count": 0,
   "metadata": {
    "colab": {},
    "colab_type": "code",
    "id": "_5FzfDsiLzBf"
   },
   "outputs": [],
   "source": []
  },
  {
   "cell_type": "markdown",
   "metadata": {
    "colab_type": "text",
    "id": "4819ru60L0aF"
   },
   "source": [
    "# Download the data from GDrive"
   ]
  },
  {
   "cell_type": "code",
   "execution_count": 0,
   "metadata": {
    "colab": {
     "base_uri": "https://localhost:8080/",
     "height": 139
    },
    "colab_type": "code",
    "id": "LVwH0DUphzPH",
    "outputId": "f28a2996-faca-42f8-c470-9768541b40d6"
   },
   "outputs": [
    {
     "name": "stdout",
     "output_type": "stream",
     "text": [
      "Go to this URL in a browser: https://accounts.google.com/o/oauth2/auth?client_id=947318989803-6bn6qk8qdgf4n4g3pfee6491hc0brc4i.apps.googleusercontent.com&redirect_uri=urn%3Aietf%3Awg%3Aoauth%3A2.0%3Aoob&scope=email%20https%3A%2F%2Fwww.googleapis.com%2Fauth%2Fdocs.test%20https%3A%2F%2Fwww.googleapis.com%2Fauth%2Fdrive%20https%3A%2F%2Fwww.googleapis.com%2Fauth%2Fdrive.photos.readonly%20https%3A%2F%2Fwww.googleapis.com%2Fauth%2Fpeopleapi.readonly&response_type=code\n",
      "\n",
      "Enter your authorization code:\n",
      "··········\n",
      "Mounted at /gdrive\n",
      "/gdrive\n"
     ]
    }
   ],
   "source": [
    "from google.colab import drive\n",
    "drive.mount('/gdrive')\n",
    "%cd /gdrive"
   ]
  },
  {
   "cell_type": "code",
   "execution_count": 0,
   "metadata": {
    "colab": {
     "base_uri": "https://localhost:8080/",
     "height": 51
    },
    "colab_type": "code",
    "id": "2XGhafctVCt8",
    "outputId": "44e49464-f0df-4107-abfc-ac39230a0413"
   },
   "outputs": [
    {
     "name": "stdout",
     "output_type": "stream",
     "text": [
      "\u001b[?25l\r",
      "\u001b[K     |▎                               | 10kB 18.4MB/s eta 0:00:01\r",
      "\u001b[K     |▋                               | 20kB 1.8MB/s eta 0:00:01\r",
      "\u001b[K     |█                               | 30kB 2.6MB/s eta 0:00:01\r",
      "\u001b[K     |█▎                              | 40kB 1.7MB/s eta 0:00:01\r",
      "\u001b[K     |█▋                              | 51kB 2.1MB/s eta 0:00:01\r",
      "\u001b[K     |██                              | 61kB 2.5MB/s eta 0:00:01\r",
      "\u001b[K     |██▎                             | 71kB 2.9MB/s eta 0:00:01\r",
      "\u001b[K     |██▋                             | 81kB 3.2MB/s eta 0:00:01\r",
      "\u001b[K     |███                             | 92kB 3.6MB/s eta 0:00:01\r",
      "\u001b[K     |███▎                            | 102kB 2.8MB/s eta 0:00:01\r",
      "\u001b[K     |███▋                            | 112kB 2.8MB/s eta 0:00:01\r",
      "\u001b[K     |████                            | 122kB 2.8MB/s eta 0:00:01\r",
      "\u001b[K     |████▎                           | 133kB 2.8MB/s eta 0:00:01\r",
      "\u001b[K     |████▋                           | 143kB 2.8MB/s eta 0:00:01\r",
      "\u001b[K     |█████                           | 153kB 2.8MB/s eta 0:00:01\r",
      "\u001b[K     |█████▎                          | 163kB 2.8MB/s eta 0:00:01\r",
      "\u001b[K     |█████▋                          | 174kB 2.8MB/s eta 0:00:01\r",
      "\u001b[K     |██████                          | 184kB 2.8MB/s eta 0:00:01\r",
      "\u001b[K     |██████▎                         | 194kB 2.8MB/s eta 0:00:01\r",
      "\u001b[K     |██████▋                         | 204kB 2.8MB/s eta 0:00:01\r",
      "\u001b[K     |███████                         | 215kB 2.8MB/s eta 0:00:01\r",
      "\u001b[K     |███████▎                        | 225kB 2.8MB/s eta 0:00:01\r",
      "\u001b[K     |███████▋                        | 235kB 2.8MB/s eta 0:00:01\r",
      "\u001b[K     |████████                        | 245kB 2.8MB/s eta 0:00:01\r",
      "\u001b[K     |████████▎                       | 256kB 2.8MB/s eta 0:00:01\r",
      "\u001b[K     |████████▋                       | 266kB 2.8MB/s eta 0:00:01\r",
      "\u001b[K     |█████████                       | 276kB 2.8MB/s eta 0:00:01\r",
      "\u001b[K     |█████████▎                      | 286kB 2.8MB/s eta 0:00:01\r",
      "\u001b[K     |█████████▋                      | 296kB 2.8MB/s eta 0:00:01\r",
      "\u001b[K     |██████████                      | 307kB 2.8MB/s eta 0:00:01\r",
      "\u001b[K     |██████████▎                     | 317kB 2.8MB/s eta 0:00:01\r",
      "\u001b[K     |██████████▋                     | 327kB 2.8MB/s eta 0:00:01\r",
      "\u001b[K     |███████████                     | 337kB 2.8MB/s eta 0:00:01\r",
      "\u001b[K     |███████████▎                    | 348kB 2.8MB/s eta 0:00:01\r",
      "\u001b[K     |███████████▋                    | 358kB 2.8MB/s eta 0:00:01\r",
      "\u001b[K     |████████████                    | 368kB 2.8MB/s eta 0:00:01\r",
      "\u001b[K     |████████████▎                   | 378kB 2.8MB/s eta 0:00:01\r",
      "\u001b[K     |████████████▋                   | 389kB 2.8MB/s eta 0:00:01\r",
      "\u001b[K     |█████████████                   | 399kB 2.8MB/s eta 0:00:01\r",
      "\u001b[K     |█████████████▎                  | 409kB 2.8MB/s eta 0:00:01\r",
      "\u001b[K     |█████████████▋                  | 419kB 2.8MB/s eta 0:00:01\r",
      "\u001b[K     |██████████████                  | 430kB 2.8MB/s eta 0:00:01\r",
      "\u001b[K     |██████████████▎                 | 440kB 2.8MB/s eta 0:00:01\r",
      "\u001b[K     |██████████████▋                 | 450kB 2.8MB/s eta 0:00:01\r",
      "\u001b[K     |███████████████                 | 460kB 2.8MB/s eta 0:00:01\r",
      "\u001b[K     |███████████████▎                | 471kB 2.8MB/s eta 0:00:01\r",
      "\u001b[K     |███████████████▋                | 481kB 2.8MB/s eta 0:00:01\r",
      "\u001b[K     |████████████████                | 491kB 2.8MB/s eta 0:00:01\r",
      "\u001b[K     |████████████████▎               | 501kB 2.8MB/s eta 0:00:01\r",
      "\u001b[K     |████████████████▋               | 512kB 2.8MB/s eta 0:00:01\r",
      "\u001b[K     |█████████████████               | 522kB 2.8MB/s eta 0:00:01\r",
      "\u001b[K     |█████████████████▎              | 532kB 2.8MB/s eta 0:00:01\r",
      "\u001b[K     |█████████████████▋              | 542kB 2.8MB/s eta 0:00:01\r",
      "\u001b[K     |██████████████████              | 552kB 2.8MB/s eta 0:00:01\r",
      "\u001b[K     |██████████████████▎             | 563kB 2.8MB/s eta 0:00:01\r",
      "\u001b[K     |██████████████████▋             | 573kB 2.8MB/s eta 0:00:01\r",
      "\u001b[K     |███████████████████             | 583kB 2.8MB/s eta 0:00:01\r",
      "\u001b[K     |███████████████████▎            | 593kB 2.8MB/s eta 0:00:01\r",
      "\u001b[K     |███████████████████▋            | 604kB 2.8MB/s eta 0:00:01\r",
      "\u001b[K     |████████████████████            | 614kB 2.8MB/s eta 0:00:01\r",
      "\u001b[K     |████████████████████▎           | 624kB 2.8MB/s eta 0:00:01\r",
      "\u001b[K     |████████████████████▋           | 634kB 2.8MB/s eta 0:00:01\r",
      "\u001b[K     |█████████████████████           | 645kB 2.8MB/s eta 0:00:01\r",
      "\u001b[K     |█████████████████████▎          | 655kB 2.8MB/s eta 0:00:01\r",
      "\u001b[K     |█████████████████████▋          | 665kB 2.8MB/s eta 0:00:01\r",
      "\u001b[K     |██████████████████████          | 675kB 2.8MB/s eta 0:00:01\r",
      "\u001b[K     |██████████████████████▎         | 686kB 2.8MB/s eta 0:00:01\r",
      "\u001b[K     |██████████████████████▋         | 696kB 2.8MB/s eta 0:00:01\r",
      "\u001b[K     |███████████████████████         | 706kB 2.8MB/s eta 0:00:01\r",
      "\u001b[K     |███████████████████████▎        | 716kB 2.8MB/s eta 0:00:01\r",
      "\u001b[K     |███████████████████████▋        | 727kB 2.8MB/s eta 0:00:01\r",
      "\u001b[K     |████████████████████████        | 737kB 2.8MB/s eta 0:00:01\r",
      "\u001b[K     |████████████████████████▎       | 747kB 2.8MB/s eta 0:00:01\r",
      "\u001b[K     |████████████████████████▋       | 757kB 2.8MB/s eta 0:00:01\r",
      "\u001b[K     |████████████████████████▉       | 768kB 2.8MB/s eta 0:00:01\r",
      "\u001b[K     |█████████████████████████▏      | 778kB 2.8MB/s eta 0:00:01\r",
      "\u001b[K     |█████████████████████████▌      | 788kB 2.8MB/s eta 0:00:01\r",
      "\u001b[K     |█████████████████████████▉      | 798kB 2.8MB/s eta 0:00:01\r",
      "\u001b[K     |██████████████████████████▏     | 808kB 2.8MB/s eta 0:00:01\r",
      "\u001b[K     |██████████████████████████▌     | 819kB 2.8MB/s eta 0:00:01\r",
      "\u001b[K     |██████████████████████████▉     | 829kB 2.8MB/s eta 0:00:01\r",
      "\u001b[K     |███████████████████████████▏    | 839kB 2.8MB/s eta 0:00:01\r",
      "\u001b[K     |███████████████████████████▌    | 849kB 2.8MB/s eta 0:00:01\r",
      "\u001b[K     |███████████████████████████▉    | 860kB 2.8MB/s eta 0:00:01\r",
      "\u001b[K     |████████████████████████████▏   | 870kB 2.8MB/s eta 0:00:01\r",
      "\u001b[K     |████████████████████████████▌   | 880kB 2.8MB/s eta 0:00:01\r",
      "\u001b[K     |████████████████████████████▉   | 890kB 2.8MB/s eta 0:00:01\r",
      "\u001b[K     |█████████████████████████████▏  | 901kB 2.8MB/s eta 0:00:01\r",
      "\u001b[K     |█████████████████████████████▌  | 911kB 2.8MB/s eta 0:00:01\r",
      "\u001b[K     |█████████████████████████████▉  | 921kB 2.8MB/s eta 0:00:01\r",
      "\u001b[K     |██████████████████████████████▏ | 931kB 2.8MB/s eta 0:00:01\r",
      "\u001b[K     |██████████████████████████████▌ | 942kB 2.8MB/s eta 0:00:01\r",
      "\u001b[K     |██████████████████████████████▉ | 952kB 2.8MB/s eta 0:00:01\r",
      "\u001b[K     |███████████████████████████████▏| 962kB 2.8MB/s eta 0:00:01\r",
      "\u001b[K     |███████████████████████████████▌| 972kB 2.8MB/s eta 0:00:01\r",
      "\u001b[K     |███████████████████████████████▉| 983kB 2.8MB/s eta 0:00:01\r",
      "\u001b[K     |████████████████████████████████| 993kB 2.8MB/s \n",
      "\u001b[?25h  Building wheel for PyDrive (setup.py) ... \u001b[?25l\u001b[?25hdone\n"
     ]
    }
   ],
   "source": [
    "!pip install -U -q PyDrive\n",
    "from pydrive.auth import GoogleAuth\n",
    "from pydrive.drive import GoogleDrive\n",
    "from google.colab import auth\n",
    "from oauth2client.client import GoogleCredentials\n",
    "# Authenticate and create the PyDrive client.\n",
    "auth.authenticate_user()\n",
    "gauth = GoogleAuth()\n",
    "gauth.credentials = GoogleCredentials.get_application_default()\n",
    "drive = GoogleDrive(gauth)"
   ]
  },
  {
   "cell_type": "markdown",
   "metadata": {
    "colab_type": "text",
    "id": "9Arm7Aalr3kN"
   },
   "source": [
    "Refer to this for the **dir_id**\n",
    "\n",
    "https://stackoverflow.com/questions/48436959/how-to-upload-csv-file-and-use-it-from-google-drive-into-google-colaboratory?rq=1\n",
    "\n",
    "\n",
    "https://towardsdatascience.com/3-ways-to-load-csv-files-into-colab-7c14fcbdcb92"
   ]
  },
  {
   "cell_type": "code",
   "execution_count": 0,
   "metadata": {
    "colab": {},
    "colab_type": "code",
    "id": "12q103KNsHjr"
   },
   "outputs": [],
   "source": []
  },
  {
   "cell_type": "code",
   "execution_count": 0,
   "metadata": {
    "colab": {
     "base_uri": "https://localhost:8080/",
     "height": 34
    },
    "colab_type": "code",
    "id": "sN0op30BVDB8",
    "outputId": "d645c55a-3c58-4467-f6ae-6f192cd99ab7"
   },
   "outputs": [
    {
     "name": "stdout",
     "output_type": "stream",
     "text": [
      "title: telecom_churn_data.csv, id: 1SWnADIda31mVFevFcfkGtcgBHTKKI94J\n"
     ]
    }
   ],
   "source": [
    "dir_id = \"1SrJ8S1wXZ-eoTvuVCwjx6DZAg1p3lDdH\"\n",
    "file_list = drive.ListFile(\n",
    "    {'q': \"title contains 'telecom_churn_data.csv' and '1SrJ8S1wXZ-eoTvuVCwjx6DZAg1p3lDdH' in parents\"}).GetList()\n",
    "\n",
    "for f in file_list:\n",
    "  print('title: %s, id: %s' % (f['title'], f['id']))"
   ]
  },
  {
   "cell_type": "code",
   "execution_count": 0,
   "metadata": {
    "colab": {},
    "colab_type": "code",
    "id": "k6SpowTnghtP"
   },
   "outputs": [],
   "source": []
  },
  {
   "cell_type": "code",
   "execution_count": 0,
   "metadata": {
    "colab": {},
    "colab_type": "code",
    "id": "RJdFZcgrjdEA"
   },
   "outputs": [],
   "source": [
    "download_path = os.path.expanduser('~/data')\n",
    "try:\n",
    "  os.makedirs(download_path)\n",
    "except FileExistsError:\n",
    "  pass"
   ]
  },
  {
   "cell_type": "code",
   "execution_count": 0,
   "metadata": {
    "colab": {},
    "colab_type": "code",
    "id": "NfmDqEiNpzxJ"
   },
   "outputs": [],
   "source": [
    "# f['title']\n",
    "data_set_name = \"telecom_churn_data.csv\" \n",
    "# f['id']\n",
    "data_set_id = \"1SWnADIda31mVFevFcfkGtcgBHTKKI94J\"\n",
    "\n",
    "output_file = os.path.join(download_path, data_set_name)\n",
    "temp_file = drive.CreateFile({'id': data_set_id})\n",
    "temp_file.GetContentFile(output_file)"
   ]
  },
  {
   "cell_type": "code",
   "execution_count": 0,
   "metadata": {
    "colab": {
     "base_uri": "https://localhost:8080/",
     "height": 34
    },
    "colab_type": "code",
    "id": "Vdd_tWB9mx4Q",
    "outputId": "06e9923d-1f6d-4171-fa5d-bb4671ce0115"
   },
   "outputs": [
    {
     "name": "stdout",
     "output_type": "stream",
     "text": [
      "/root/data/telecom_churn_data.csv\n"
     ]
    }
   ],
   "source": [
    "print(output_file)"
   ]
  },
  {
   "cell_type": "code",
   "execution_count": 0,
   "metadata": {
    "colab": {},
    "colab_type": "code",
    "id": "4ee2qhlRkKMT"
   },
   "outputs": [],
   "source": [
    "\n",
    "# fusermount -u drive\n",
    "# !google-drive-ocamlfuse drive"
   ]
  },
  {
   "cell_type": "code",
   "execution_count": 0,
   "metadata": {
    "colab": {},
    "colab_type": "code",
    "id": "RoTuHGd4kK34"
   },
   "outputs": [],
   "source": [
    "# with open(output_file1, 'r') as f:\n",
    "#   print(f.read())"
   ]
  },
  {
   "cell_type": "markdown",
   "metadata": {},
   "source": [
    "## Load data from local file"
   ]
  },
  {
   "cell_type": "code",
   "execution_count": 2,
   "metadata": {},
   "outputs": [],
   "source": [
    "output_file = 'telecom_churn_data.csv'"
   ]
  },
  {
   "cell_type": "markdown",
   "metadata": {
    "colab_type": "text",
    "id": "kWsIMLr4nIol"
   },
   "source": [
    "#### Read the data to Dataframe"
   ]
  },
  {
   "cell_type": "code",
   "execution_count": 3,
   "metadata": {
    "colab": {},
    "colab_type": "code",
    "id": "xLA4fmwlj9nu"
   },
   "outputs": [],
   "source": [
    "data = pd.read_csv(output_file)"
   ]
  },
  {
   "cell_type": "code",
   "execution_count": 4,
   "metadata": {
    "colab": {
     "base_uri": "https://localhost:8080/",
     "height": 3944
    },
    "colab_type": "code",
    "id": "xEeS0Eobm2Jp",
    "outputId": "4a1eccfb-406f-4040-d243-8441d04383a7"
   },
   "outputs": [
    {
     "name": "stdout",
     "output_type": "stream",
     "text": [
      "<class 'pandas.core.frame.DataFrame'>\n",
      "RangeIndex: 99999 entries, 0 to 99998\n",
      "Data columns (total 226 columns):\n",
      "mobile_number               int64\n",
      "circle_id                   int64\n",
      "loc_og_t2o_mou              float64\n",
      "std_og_t2o_mou              float64\n",
      "loc_ic_t2o_mou              float64\n",
      "last_date_of_month_6        object\n",
      "last_date_of_month_7        object\n",
      "last_date_of_month_8        object\n",
      "last_date_of_month_9        object\n",
      "arpu_6                      float64\n",
      "arpu_7                      float64\n",
      "arpu_8                      float64\n",
      "arpu_9                      float64\n",
      "onnet_mou_6                 float64\n",
      "onnet_mou_7                 float64\n",
      "onnet_mou_8                 float64\n",
      "onnet_mou_9                 float64\n",
      "offnet_mou_6                float64\n",
      "offnet_mou_7                float64\n",
      "offnet_mou_8                float64\n",
      "offnet_mou_9                float64\n",
      "roam_ic_mou_6               float64\n",
      "roam_ic_mou_7               float64\n",
      "roam_ic_mou_8               float64\n",
      "roam_ic_mou_9               float64\n",
      "roam_og_mou_6               float64\n",
      "roam_og_mou_7               float64\n",
      "roam_og_mou_8               float64\n",
      "roam_og_mou_9               float64\n",
      "loc_og_t2t_mou_6            float64\n",
      "loc_og_t2t_mou_7            float64\n",
      "loc_og_t2t_mou_8            float64\n",
      "loc_og_t2t_mou_9            float64\n",
      "loc_og_t2m_mou_6            float64\n",
      "loc_og_t2m_mou_7            float64\n",
      "loc_og_t2m_mou_8            float64\n",
      "loc_og_t2m_mou_9            float64\n",
      "loc_og_t2f_mou_6            float64\n",
      "loc_og_t2f_mou_7            float64\n",
      "loc_og_t2f_mou_8            float64\n",
      "loc_og_t2f_mou_9            float64\n",
      "loc_og_t2c_mou_6            float64\n",
      "loc_og_t2c_mou_7            float64\n",
      "loc_og_t2c_mou_8            float64\n",
      "loc_og_t2c_mou_9            float64\n",
      "loc_og_mou_6                float64\n",
      "loc_og_mou_7                float64\n",
      "loc_og_mou_8                float64\n",
      "loc_og_mou_9                float64\n",
      "std_og_t2t_mou_6            float64\n",
      "std_og_t2t_mou_7            float64\n",
      "std_og_t2t_mou_8            float64\n",
      "std_og_t2t_mou_9            float64\n",
      "std_og_t2m_mou_6            float64\n",
      "std_og_t2m_mou_7            float64\n",
      "std_og_t2m_mou_8            float64\n",
      "std_og_t2m_mou_9            float64\n",
      "std_og_t2f_mou_6            float64\n",
      "std_og_t2f_mou_7            float64\n",
      "std_og_t2f_mou_8            float64\n",
      "std_og_t2f_mou_9            float64\n",
      "std_og_t2c_mou_6            float64\n",
      "std_og_t2c_mou_7            float64\n",
      "std_og_t2c_mou_8            float64\n",
      "std_og_t2c_mou_9            float64\n",
      "std_og_mou_6                float64\n",
      "std_og_mou_7                float64\n",
      "std_og_mou_8                float64\n",
      "std_og_mou_9                float64\n",
      "isd_og_mou_6                float64\n",
      "isd_og_mou_7                float64\n",
      "isd_og_mou_8                float64\n",
      "isd_og_mou_9                float64\n",
      "spl_og_mou_6                float64\n",
      "spl_og_mou_7                float64\n",
      "spl_og_mou_8                float64\n",
      "spl_og_mou_9                float64\n",
      "og_others_6                 float64\n",
      "og_others_7                 float64\n",
      "og_others_8                 float64\n",
      "og_others_9                 float64\n",
      "total_og_mou_6              float64\n",
      "total_og_mou_7              float64\n",
      "total_og_mou_8              float64\n",
      "total_og_mou_9              float64\n",
      "loc_ic_t2t_mou_6            float64\n",
      "loc_ic_t2t_mou_7            float64\n",
      "loc_ic_t2t_mou_8            float64\n",
      "loc_ic_t2t_mou_9            float64\n",
      "loc_ic_t2m_mou_6            float64\n",
      "loc_ic_t2m_mou_7            float64\n",
      "loc_ic_t2m_mou_8            float64\n",
      "loc_ic_t2m_mou_9            float64\n",
      "loc_ic_t2f_mou_6            float64\n",
      "loc_ic_t2f_mou_7            float64\n",
      "loc_ic_t2f_mou_8            float64\n",
      "loc_ic_t2f_mou_9            float64\n",
      "loc_ic_mou_6                float64\n",
      "loc_ic_mou_7                float64\n",
      "loc_ic_mou_8                float64\n",
      "loc_ic_mou_9                float64\n",
      "std_ic_t2t_mou_6            float64\n",
      "std_ic_t2t_mou_7            float64\n",
      "std_ic_t2t_mou_8            float64\n",
      "std_ic_t2t_mou_9            float64\n",
      "std_ic_t2m_mou_6            float64\n",
      "std_ic_t2m_mou_7            float64\n",
      "std_ic_t2m_mou_8            float64\n",
      "std_ic_t2m_mou_9            float64\n",
      "std_ic_t2f_mou_6            float64\n",
      "std_ic_t2f_mou_7            float64\n",
      "std_ic_t2f_mou_8            float64\n",
      "std_ic_t2f_mou_9            float64\n",
      "std_ic_t2o_mou_6            float64\n",
      "std_ic_t2o_mou_7            float64\n",
      "std_ic_t2o_mou_8            float64\n",
      "std_ic_t2o_mou_9            float64\n",
      "std_ic_mou_6                float64\n",
      "std_ic_mou_7                float64\n",
      "std_ic_mou_8                float64\n",
      "std_ic_mou_9                float64\n",
      "total_ic_mou_6              float64\n",
      "total_ic_mou_7              float64\n",
      "total_ic_mou_8              float64\n",
      "total_ic_mou_9              float64\n",
      "spl_ic_mou_6                float64\n",
      "spl_ic_mou_7                float64\n",
      "spl_ic_mou_8                float64\n",
      "spl_ic_mou_9                float64\n",
      "isd_ic_mou_6                float64\n",
      "isd_ic_mou_7                float64\n",
      "isd_ic_mou_8                float64\n",
      "isd_ic_mou_9                float64\n",
      "ic_others_6                 float64\n",
      "ic_others_7                 float64\n",
      "ic_others_8                 float64\n",
      "ic_others_9                 float64\n",
      "total_rech_num_6            int64\n",
      "total_rech_num_7            int64\n",
      "total_rech_num_8            int64\n",
      "total_rech_num_9            int64\n",
      "total_rech_amt_6            int64\n",
      "total_rech_amt_7            int64\n",
      "total_rech_amt_8            int64\n",
      "total_rech_amt_9            int64\n",
      "max_rech_amt_6              int64\n",
      "max_rech_amt_7              int64\n",
      "max_rech_amt_8              int64\n",
      "max_rech_amt_9              int64\n",
      "date_of_last_rech_6         object\n",
      "date_of_last_rech_7         object\n",
      "date_of_last_rech_8         object\n",
      "date_of_last_rech_9         object\n",
      "last_day_rch_amt_6          int64\n",
      "last_day_rch_amt_7          int64\n",
      "last_day_rch_amt_8          int64\n",
      "last_day_rch_amt_9          int64\n",
      "date_of_last_rech_data_6    object\n",
      "date_of_last_rech_data_7    object\n",
      "date_of_last_rech_data_8    object\n",
      "date_of_last_rech_data_9    object\n",
      "total_rech_data_6           float64\n",
      "total_rech_data_7           float64\n",
      "total_rech_data_8           float64\n",
      "total_rech_data_9           float64\n",
      "max_rech_data_6             float64\n",
      "max_rech_data_7             float64\n",
      "max_rech_data_8             float64\n",
      "max_rech_data_9             float64\n",
      "count_rech_2g_6             float64\n",
      "count_rech_2g_7             float64\n",
      "count_rech_2g_8             float64\n",
      "count_rech_2g_9             float64\n",
      "count_rech_3g_6             float64\n",
      "count_rech_3g_7             float64\n",
      "count_rech_3g_8             float64\n",
      "count_rech_3g_9             float64\n",
      "av_rech_amt_data_6          float64\n",
      "av_rech_amt_data_7          float64\n",
      "av_rech_amt_data_8          float64\n",
      "av_rech_amt_data_9          float64\n",
      "vol_2g_mb_6                 float64\n",
      "vol_2g_mb_7                 float64\n",
      "vol_2g_mb_8                 float64\n",
      "vol_2g_mb_9                 float64\n",
      "vol_3g_mb_6                 float64\n",
      "vol_3g_mb_7                 float64\n",
      "vol_3g_mb_8                 float64\n",
      "vol_3g_mb_9                 float64\n",
      "arpu_3g_6                   float64\n",
      "arpu_3g_7                   float64\n",
      "arpu_3g_8                   float64\n",
      "arpu_3g_9                   float64\n",
      "arpu_2g_6                   float64\n",
      "arpu_2g_7                   float64\n",
      "arpu_2g_8                   float64\n",
      "arpu_2g_9                   float64\n",
      "night_pck_user_6            float64\n",
      "night_pck_user_7            float64\n",
      "night_pck_user_8            float64\n",
      "night_pck_user_9            float64\n",
      "monthly_2g_6                int64\n",
      "monthly_2g_7                int64\n",
      "monthly_2g_8                int64\n",
      "monthly_2g_9                int64\n",
      "sachet_2g_6                 int64\n",
      "sachet_2g_7                 int64\n",
      "sachet_2g_8                 int64\n",
      "sachet_2g_9                 int64\n",
      "monthly_3g_6                int64\n",
      "monthly_3g_7                int64\n",
      "monthly_3g_8                int64\n",
      "monthly_3g_9                int64\n",
      "sachet_3g_6                 int64\n",
      "sachet_3g_7                 int64\n",
      "sachet_3g_8                 int64\n",
      "sachet_3g_9                 int64\n",
      "fb_user_6                   float64\n",
      "fb_user_7                   float64\n",
      "fb_user_8                   float64\n",
      "fb_user_9                   float64\n",
      "aon                         int64\n",
      "aug_vbc_3g                  float64\n",
      "jul_vbc_3g                  float64\n",
      "jun_vbc_3g                  float64\n",
      "sep_vbc_3g                  float64\n",
      "dtypes: float64(179), int64(35), object(12)\n",
      "memory usage: 172.4+ MB\n"
     ]
    }
   ],
   "source": [
    "data.info(verbose=True)"
   ]
  },
  {
   "cell_type": "code",
   "execution_count": 5,
   "metadata": {
    "colab": {
     "base_uri": "https://localhost:8080/",
     "height": 253
    },
    "colab_type": "code",
    "id": "qpWTeS5PqT8R",
    "outputId": "473cbed2-19cd-4ba6-aefa-890148e0dae0"
   },
   "outputs": [
    {
     "data": {
      "text/html": [
       "<div>\n",
       "<style scoped>\n",
       "    .dataframe tbody tr th:only-of-type {\n",
       "        vertical-align: middle;\n",
       "    }\n",
       "\n",
       "    .dataframe tbody tr th {\n",
       "        vertical-align: top;\n",
       "    }\n",
       "\n",
       "    .dataframe thead th {\n",
       "        text-align: right;\n",
       "    }\n",
       "</style>\n",
       "<table border=\"1\" class=\"dataframe\">\n",
       "  <thead>\n",
       "    <tr style=\"text-align: right;\">\n",
       "      <th></th>\n",
       "      <th>mobile_number</th>\n",
       "      <th>circle_id</th>\n",
       "      <th>loc_og_t2o_mou</th>\n",
       "      <th>std_og_t2o_mou</th>\n",
       "      <th>loc_ic_t2o_mou</th>\n",
       "      <th>last_date_of_month_6</th>\n",
       "      <th>last_date_of_month_7</th>\n",
       "      <th>last_date_of_month_8</th>\n",
       "      <th>last_date_of_month_9</th>\n",
       "      <th>arpu_6</th>\n",
       "      <th>...</th>\n",
       "      <th>sachet_3g_9</th>\n",
       "      <th>fb_user_6</th>\n",
       "      <th>fb_user_7</th>\n",
       "      <th>fb_user_8</th>\n",
       "      <th>fb_user_9</th>\n",
       "      <th>aon</th>\n",
       "      <th>aug_vbc_3g</th>\n",
       "      <th>jul_vbc_3g</th>\n",
       "      <th>jun_vbc_3g</th>\n",
       "      <th>sep_vbc_3g</th>\n",
       "    </tr>\n",
       "  </thead>\n",
       "  <tbody>\n",
       "    <tr>\n",
       "      <th>0</th>\n",
       "      <td>7000842753</td>\n",
       "      <td>109</td>\n",
       "      <td>0.0</td>\n",
       "      <td>0.0</td>\n",
       "      <td>0.0</td>\n",
       "      <td>6/30/2014</td>\n",
       "      <td>7/31/2014</td>\n",
       "      <td>8/31/2014</td>\n",
       "      <td>9/30/2014</td>\n",
       "      <td>197.385</td>\n",
       "      <td>...</td>\n",
       "      <td>0</td>\n",
       "      <td>1.0</td>\n",
       "      <td>1.0</td>\n",
       "      <td>1.0</td>\n",
       "      <td>NaN</td>\n",
       "      <td>968</td>\n",
       "      <td>30.4</td>\n",
       "      <td>0.0</td>\n",
       "      <td>101.20</td>\n",
       "      <td>3.58</td>\n",
       "    </tr>\n",
       "    <tr>\n",
       "      <th>1</th>\n",
       "      <td>7001865778</td>\n",
       "      <td>109</td>\n",
       "      <td>0.0</td>\n",
       "      <td>0.0</td>\n",
       "      <td>0.0</td>\n",
       "      <td>6/30/2014</td>\n",
       "      <td>7/31/2014</td>\n",
       "      <td>8/31/2014</td>\n",
       "      <td>9/30/2014</td>\n",
       "      <td>34.047</td>\n",
       "      <td>...</td>\n",
       "      <td>0</td>\n",
       "      <td>NaN</td>\n",
       "      <td>1.0</td>\n",
       "      <td>1.0</td>\n",
       "      <td>NaN</td>\n",
       "      <td>1006</td>\n",
       "      <td>0.0</td>\n",
       "      <td>0.0</td>\n",
       "      <td>0.00</td>\n",
       "      <td>0.00</td>\n",
       "    </tr>\n",
       "    <tr>\n",
       "      <th>2</th>\n",
       "      <td>7001625959</td>\n",
       "      <td>109</td>\n",
       "      <td>0.0</td>\n",
       "      <td>0.0</td>\n",
       "      <td>0.0</td>\n",
       "      <td>6/30/2014</td>\n",
       "      <td>7/31/2014</td>\n",
       "      <td>8/31/2014</td>\n",
       "      <td>9/30/2014</td>\n",
       "      <td>167.690</td>\n",
       "      <td>...</td>\n",
       "      <td>0</td>\n",
       "      <td>NaN</td>\n",
       "      <td>NaN</td>\n",
       "      <td>NaN</td>\n",
       "      <td>1.0</td>\n",
       "      <td>1103</td>\n",
       "      <td>0.0</td>\n",
       "      <td>0.0</td>\n",
       "      <td>4.17</td>\n",
       "      <td>0.00</td>\n",
       "    </tr>\n",
       "    <tr>\n",
       "      <th>3</th>\n",
       "      <td>7001204172</td>\n",
       "      <td>109</td>\n",
       "      <td>0.0</td>\n",
       "      <td>0.0</td>\n",
       "      <td>0.0</td>\n",
       "      <td>6/30/2014</td>\n",
       "      <td>7/31/2014</td>\n",
       "      <td>8/31/2014</td>\n",
       "      <td>9/30/2014</td>\n",
       "      <td>221.338</td>\n",
       "      <td>...</td>\n",
       "      <td>0</td>\n",
       "      <td>NaN</td>\n",
       "      <td>NaN</td>\n",
       "      <td>NaN</td>\n",
       "      <td>NaN</td>\n",
       "      <td>2491</td>\n",
       "      <td>0.0</td>\n",
       "      <td>0.0</td>\n",
       "      <td>0.00</td>\n",
       "      <td>0.00</td>\n",
       "    </tr>\n",
       "    <tr>\n",
       "      <th>4</th>\n",
       "      <td>7000142493</td>\n",
       "      <td>109</td>\n",
       "      <td>0.0</td>\n",
       "      <td>0.0</td>\n",
       "      <td>0.0</td>\n",
       "      <td>6/30/2014</td>\n",
       "      <td>7/31/2014</td>\n",
       "      <td>8/31/2014</td>\n",
       "      <td>9/30/2014</td>\n",
       "      <td>261.636</td>\n",
       "      <td>...</td>\n",
       "      <td>0</td>\n",
       "      <td>0.0</td>\n",
       "      <td>NaN</td>\n",
       "      <td>NaN</td>\n",
       "      <td>NaN</td>\n",
       "      <td>1526</td>\n",
       "      <td>0.0</td>\n",
       "      <td>0.0</td>\n",
       "      <td>0.00</td>\n",
       "      <td>0.00</td>\n",
       "    </tr>\n",
       "  </tbody>\n",
       "</table>\n",
       "<p>5 rows × 226 columns</p>\n",
       "</div>"
      ],
      "text/plain": [
       "   mobile_number  circle_id  loc_og_t2o_mou  std_og_t2o_mou  loc_ic_t2o_mou  \\\n",
       "0     7000842753        109             0.0             0.0             0.0   \n",
       "1     7001865778        109             0.0             0.0             0.0   \n",
       "2     7001625959        109             0.0             0.0             0.0   \n",
       "3     7001204172        109             0.0             0.0             0.0   \n",
       "4     7000142493        109             0.0             0.0             0.0   \n",
       "\n",
       "  last_date_of_month_6 last_date_of_month_7 last_date_of_month_8  \\\n",
       "0            6/30/2014            7/31/2014            8/31/2014   \n",
       "1            6/30/2014            7/31/2014            8/31/2014   \n",
       "2            6/30/2014            7/31/2014            8/31/2014   \n",
       "3            6/30/2014            7/31/2014            8/31/2014   \n",
       "4            6/30/2014            7/31/2014            8/31/2014   \n",
       "\n",
       "  last_date_of_month_9   arpu_6  ...  sachet_3g_9  fb_user_6  fb_user_7  \\\n",
       "0            9/30/2014  197.385  ...            0        1.0        1.0   \n",
       "1            9/30/2014   34.047  ...            0        NaN        1.0   \n",
       "2            9/30/2014  167.690  ...            0        NaN        NaN   \n",
       "3            9/30/2014  221.338  ...            0        NaN        NaN   \n",
       "4            9/30/2014  261.636  ...            0        0.0        NaN   \n",
       "\n",
       "   fb_user_8  fb_user_9   aon  aug_vbc_3g  jul_vbc_3g  jun_vbc_3g  sep_vbc_3g  \n",
       "0        1.0        NaN   968        30.4         0.0      101.20        3.58  \n",
       "1        1.0        NaN  1006         0.0         0.0        0.00        0.00  \n",
       "2        NaN        1.0  1103         0.0         0.0        4.17        0.00  \n",
       "3        NaN        NaN  2491         0.0         0.0        0.00        0.00  \n",
       "4        NaN        NaN  1526         0.0         0.0        0.00        0.00  \n",
       "\n",
       "[5 rows x 226 columns]"
      ]
     },
     "execution_count": 5,
     "metadata": {},
     "output_type": "execute_result"
    }
   ],
   "source": [
    "data.head()"
   ]
  },
  {
   "cell_type": "code",
   "execution_count": null,
   "metadata": {
    "colab": {},
    "colab_type": "code",
    "id": "NPK6TEOeq0SP"
   },
   "outputs": [],
   "source": []
  },
  {
   "cell_type": "code",
   "execution_count": 6,
   "metadata": {
    "colab": {
     "base_uri": "https://localhost:8080/",
     "height": 136
    },
    "colab_type": "code",
    "id": "iKsPMidykA0G",
    "outputId": "399dfe59-dd74-4a51-efe5-5e2f9d2bbc0e"
   },
   "outputs": [
    {
     "data": {
      "text/plain": [
       "Index(['mobile_number', 'circle_id', 'loc_og_t2o_mou', 'std_og_t2o_mou',\n",
       "       'loc_ic_t2o_mou', 'last_date_of_month_6', 'last_date_of_month_7',\n",
       "       'last_date_of_month_8', 'last_date_of_month_9', 'arpu_6',\n",
       "       ...\n",
       "       'sachet_3g_9', 'fb_user_6', 'fb_user_7', 'fb_user_8', 'fb_user_9',\n",
       "       'aon', 'aug_vbc_3g', 'jul_vbc_3g', 'jun_vbc_3g', 'sep_vbc_3g'],\n",
       "      dtype='object', length=226)"
      ]
     },
     "execution_count": 6,
     "metadata": {},
     "output_type": "execute_result"
    }
   ],
   "source": [
    "data.columns"
   ]
  },
  {
   "cell_type": "code",
   "execution_count": 7,
   "metadata": {
    "colab": {
     "base_uri": "https://localhost:8080/",
     "height": 34
    },
    "colab_type": "code",
    "id": "2w2Duc1cVPt-",
    "outputId": "b5dfba2d-de71-4519-8d3d-4144114503b2"
   },
   "outputs": [
    {
     "data": {
      "text/plain": [
       "99999"
      ]
     },
     "execution_count": 7,
     "metadata": {},
     "output_type": "execute_result"
    }
   ],
   "source": [
    "len(data.mobile_number.unique())"
   ]
  },
  {
   "cell_type": "code",
   "execution_count": 8,
   "metadata": {
    "colab": {
     "base_uri": "https://localhost:8080/",
     "height": 34
    },
    "colab_type": "code",
    "id": "jI2OQcZSVSNG",
    "outputId": "31437688-1e41-4d7e-88e2-25b49ed633df"
   },
   "outputs": [
    {
     "name": "stdout",
     "output_type": "stream",
     "text": [
      "6/30/2014 <class 'str'>\n"
     ]
    }
   ],
   "source": [
    "a = data.last_date_of_month_6.iloc[1]\n",
    "print(a, type(a))\n"
   ]
  },
  {
   "cell_type": "code",
   "execution_count": 9,
   "metadata": {
    "colab": {},
    "colab_type": "code",
    "id": "45gk-5-VewUD"
   },
   "outputs": [],
   "source": [
    "# data.nunique(axis=1)"
   ]
  },
  {
   "cell_type": "code",
   "execution_count": null,
   "metadata": {
    "colab": {},
    "colab_type": "code",
    "id": "mmj6aEeyfYu5"
   },
   "outputs": [],
   "source": []
  },
  {
   "cell_type": "code",
   "execution_count": 10,
   "metadata": {
    "colab": {
     "base_uri": "https://localhost:8080/",
     "height": 85
    },
    "colab_type": "code",
    "id": "MhqWcOvIVWe9",
    "outputId": "6ccc3d6c-ee65-46a5-dcb6-0f4d6c5e7898"
   },
   "outputs": [
    {
     "name": "stdout",
     "output_type": "stream",
     "text": [
      "1 ['6/30/2014']\n",
      "2 ['7/31/2014' nan]\n",
      "2 ['8/31/2014' nan]\n",
      "2 ['8/31/2014' nan]\n"
     ]
    }
   ],
   "source": [
    "uni_6 = data.last_date_of_month_6.unique()\n",
    "print(len(uni_6), uni_6)\n",
    "\n",
    "uni_7 = data.last_date_of_month_7.unique()\n",
    "print(len(uni_7), uni_7)\n",
    "\n",
    "uni_8 = data.last_date_of_month_8.unique()\n",
    "print(len(uni_8), uni_8)\n",
    "\n",
    "uni_9 = data.last_date_of_month_8.unique()\n",
    "print(len(uni_9), uni_9)"
   ]
  },
  {
   "cell_type": "markdown",
   "metadata": {
    "colab_type": "text",
    "id": "BmilTYjJVcIv"
   },
   "source": [
    "\n",
    "*   Impute the missing 'nan' values in last_date_of_month_? with end data of the month\n",
    "*   Convert into datetime object using pd.to_datetime\n",
    "\n"
   ]
  },
  {
   "cell_type": "code",
   "execution_count": 11,
   "metadata": {
    "colab": {
     "base_uri": "https://localhost:8080/",
     "height": 51
    },
    "colab_type": "code",
    "id": "ZOU9s7bMV8eW",
    "outputId": "aebe5f92-a50c-4590-e3c5-3c0b4f413281"
   },
   "outputs": [
    {
     "name": "stdout",
     "output_type": "stream",
     "text": [
      "1\n",
      "[109]\n"
     ]
    }
   ],
   "source": [
    "print(data.circle_id.nunique())\n",
    "print(data.circle_id.unique())"
   ]
  },
  {
   "cell_type": "markdown",
   "metadata": {
    "colab_type": "text",
    "id": "JWCGSuu8ZYW-"
   },
   "source": [
    "circle_id => can be dropped"
   ]
  },
  {
   "cell_type": "markdown",
   "metadata": {
    "colab_type": "text",
    "id": "Xd7mvnAUZhiT"
   },
   "source": [
    "Below are variables which should be yes/no => categorical variables\n",
    "\n",
    "*   fb_user_6\t\n",
    "*   fb_user_7\n",
    "*   fb_user_8\n",
    "*   fb_user_9\n",
    "\n",
    "*   night_pck_user_6\n",
    "*   night_pck_user_7\n",
    "*   night_pck_user_8\n",
    "*   night_pck_user_9\n",
    "\n",
    "This can also be retained as '1' and '0' => better verify both the ways\n"
   ]
  },
  {
   "cell_type": "code",
   "execution_count": 17,
   "metadata": {},
   "outputs": [
    {
     "name": "stdout",
     "output_type": "stream",
     "text": [
      "2\n",
      "[ 1. nan  0.]\n",
      "2\n",
      "[ 1. nan  0.]\n",
      "2\n",
      "[ 1. nan  0.]\n",
      "2\n",
      "[nan  1.  0.]\n"
     ]
    }
   ],
   "source": [
    "print(data.fb_user_6.nunique())\n",
    "print(data.fb_user_6.unique())\n",
    "\n",
    "print(data.fb_user_7.nunique())\n",
    "print(data.fb_user_7.unique())\n",
    "\n",
    "print(data.fb_user_8.nunique())\n",
    "print(data.fb_user_8.unique())\n",
    "\n",
    "print(data.fb_user_9.nunique())\n",
    "print(data.fb_user_9.unique())"
   ]
  },
  {
   "cell_type": "code",
   "execution_count": 18,
   "metadata": {},
   "outputs": [
    {
     "name": "stdout",
     "output_type": "stream",
     "text": [
      "2\n",
      "[ 0. nan  1.]\n",
      "2\n",
      "[ 0. nan  1.]\n",
      "2\n",
      "[ 0. nan  1.]\n",
      "2\n",
      "[nan  0.  1.]\n"
     ]
    }
   ],
   "source": [
    "print(data.night_pck_user_6.nunique())\n",
    "print(data.night_pck_user_6.unique())\n",
    "\n",
    "print(data.night_pck_user_7.nunique())\n",
    "print(data.night_pck_user_7.unique())\n",
    "\n",
    "print(data.night_pck_user_8.nunique())\n",
    "print(data.night_pck_user_8.unique())\n",
    "\n",
    "print(data.night_pck_user_9.nunique())\n",
    "print(data.night_pck_user_9.unique())"
   ]
  },
  {
   "cell_type": "markdown",
   "metadata": {
    "colab_type": "text",
    "id": "r7qrMS-Xcb5W"
   },
   "source": [
    "Sort the columns for better understanding (all loc_, std_, etc., will come up in a better way)"
   ]
  },
  {
   "cell_type": "code",
   "execution_count": null,
   "metadata": {
    "colab": {},
    "colab_type": "code",
    "id": "EOI-sOyTck8f"
   },
   "outputs": [],
   "source": []
  },
  {
   "cell_type": "code",
   "execution_count": 19,
   "metadata": {
    "colab": {},
    "colab_type": "code",
    "id": "UAJFY83UcKXS"
   },
   "outputs": [],
   "source": [
    "df = data.reindex(sorted(data.columns), axis=1)"
   ]
  },
  {
   "cell_type": "code",
   "execution_count": 20,
   "metadata": {
    "colab": {
     "base_uri": "https://localhost:8080/",
     "height": 102
    },
    "colab_type": "code",
    "id": "bUpK7yLYcoH_",
    "outputId": "fb6f5146-4197-4f1e-be20-27d4433c5834"
   },
   "outputs": [
    {
     "name": "stdout",
     "output_type": "stream",
     "text": [
      "<class 'pandas.core.frame.DataFrame'>\n",
      "RangeIndex: 99999 entries, 0 to 99998\n",
      "Columns: 226 entries, aon to vol_3g_mb_9\n",
      "dtypes: float64(179), int64(35), object(12)\n",
      "memory usage: 172.4+ MB\n"
     ]
    }
   ],
   "source": [
    "df.info()"
   ]
  },
  {
   "cell_type": "code",
   "execution_count": 21,
   "metadata": {
    "colab": {},
    "colab_type": "code",
    "id": "z0fW6uiscpy2"
   },
   "outputs": [],
   "source": [
    "# df.to_csv('telecom_churn_data1.csv')"
   ]
  },
  {
   "cell_type": "code",
   "execution_count": 22,
   "metadata": {
    "colab": {
     "base_uri": "https://localhost:8080/",
     "height": 54
    },
    "colab_type": "code",
    "id": "xIDp2jU6c0tF",
    "outputId": "27d4f0f1-e346-4ce4-8b2c-8cbf314eef6c"
   },
   "outputs": [
    {
     "name": "stdout",
     "output_type": "stream",
     "text": [
      "226 <class 'list'> ['aon', 'arpu_2g_6', 'arpu_2g_7', 'arpu_2g_8', 'arpu_2g_9', 'arpu_3g_6', 'arpu_3g_7', 'arpu_3g_8', 'arpu_3g_9', 'arpu_6', 'arpu_7', 'arpu_8', 'arpu_9', 'aug_vbc_3g', 'av_rech_amt_data_6', 'av_rech_amt_data_7', 'av_rech_amt_data_8', 'av_rech_amt_data_9', 'circle_id', 'count_rech_2g_6', 'count_rech_2g_7', 'count_rech_2g_8', 'count_rech_2g_9', 'count_rech_3g_6', 'count_rech_3g_7', 'count_rech_3g_8', 'count_rech_3g_9', 'date_of_last_rech_6', 'date_of_last_rech_7', 'date_of_last_rech_8', 'date_of_last_rech_9', 'date_of_last_rech_data_6', 'date_of_last_rech_data_7', 'date_of_last_rech_data_8', 'date_of_last_rech_data_9', 'fb_user_6', 'fb_user_7', 'fb_user_8', 'fb_user_9', 'ic_others_6', 'ic_others_7', 'ic_others_8', 'ic_others_9', 'isd_ic_mou_6', 'isd_ic_mou_7', 'isd_ic_mou_8', 'isd_ic_mou_9', 'isd_og_mou_6', 'isd_og_mou_7', 'isd_og_mou_8', 'isd_og_mou_9', 'jul_vbc_3g', 'jun_vbc_3g', 'last_date_of_month_6', 'last_date_of_month_7', 'last_date_of_month_8', 'last_date_of_month_9', 'last_day_rch_amt_6', 'last_day_rch_amt_7', 'last_day_rch_amt_8', 'last_day_rch_amt_9', 'loc_ic_mou_6', 'loc_ic_mou_7', 'loc_ic_mou_8', 'loc_ic_mou_9', 'loc_ic_t2f_mou_6', 'loc_ic_t2f_mou_7', 'loc_ic_t2f_mou_8', 'loc_ic_t2f_mou_9', 'loc_ic_t2m_mou_6', 'loc_ic_t2m_mou_7', 'loc_ic_t2m_mou_8', 'loc_ic_t2m_mou_9', 'loc_ic_t2o_mou', 'loc_ic_t2t_mou_6', 'loc_ic_t2t_mou_7', 'loc_ic_t2t_mou_8', 'loc_ic_t2t_mou_9', 'loc_og_mou_6', 'loc_og_mou_7', 'loc_og_mou_8', 'loc_og_mou_9', 'loc_og_t2c_mou_6', 'loc_og_t2c_mou_7', 'loc_og_t2c_mou_8', 'loc_og_t2c_mou_9', 'loc_og_t2f_mou_6', 'loc_og_t2f_mou_7', 'loc_og_t2f_mou_8', 'loc_og_t2f_mou_9', 'loc_og_t2m_mou_6', 'loc_og_t2m_mou_7', 'loc_og_t2m_mou_8', 'loc_og_t2m_mou_9', 'loc_og_t2o_mou', 'loc_og_t2t_mou_6', 'loc_og_t2t_mou_7', 'loc_og_t2t_mou_8', 'loc_og_t2t_mou_9', 'max_rech_amt_6', 'max_rech_amt_7', 'max_rech_amt_8', 'max_rech_amt_9', 'max_rech_data_6', 'max_rech_data_7', 'max_rech_data_8', 'max_rech_data_9', 'mobile_number', 'monthly_2g_6', 'monthly_2g_7', 'monthly_2g_8', 'monthly_2g_9', 'monthly_3g_6', 'monthly_3g_7', 'monthly_3g_8', 'monthly_3g_9', 'night_pck_user_6', 'night_pck_user_7', 'night_pck_user_8', 'night_pck_user_9', 'offnet_mou_6', 'offnet_mou_7', 'offnet_mou_8', 'offnet_mou_9', 'og_others_6', 'og_others_7', 'og_others_8', 'og_others_9', 'onnet_mou_6', 'onnet_mou_7', 'onnet_mou_8', 'onnet_mou_9', 'roam_ic_mou_6', 'roam_ic_mou_7', 'roam_ic_mou_8', 'roam_ic_mou_9', 'roam_og_mou_6', 'roam_og_mou_7', 'roam_og_mou_8', 'roam_og_mou_9', 'sachet_2g_6', 'sachet_2g_7', 'sachet_2g_8', 'sachet_2g_9', 'sachet_3g_6', 'sachet_3g_7', 'sachet_3g_8', 'sachet_3g_9', 'sep_vbc_3g', 'spl_ic_mou_6', 'spl_ic_mou_7', 'spl_ic_mou_8', 'spl_ic_mou_9', 'spl_og_mou_6', 'spl_og_mou_7', 'spl_og_mou_8', 'spl_og_mou_9', 'std_ic_mou_6', 'std_ic_mou_7', 'std_ic_mou_8', 'std_ic_mou_9', 'std_ic_t2f_mou_6', 'std_ic_t2f_mou_7', 'std_ic_t2f_mou_8', 'std_ic_t2f_mou_9', 'std_ic_t2m_mou_6', 'std_ic_t2m_mou_7', 'std_ic_t2m_mou_8', 'std_ic_t2m_mou_9', 'std_ic_t2o_mou_6', 'std_ic_t2o_mou_7', 'std_ic_t2o_mou_8', 'std_ic_t2o_mou_9', 'std_ic_t2t_mou_6', 'std_ic_t2t_mou_7', 'std_ic_t2t_mou_8', 'std_ic_t2t_mou_9', 'std_og_mou_6', 'std_og_mou_7', 'std_og_mou_8', 'std_og_mou_9', 'std_og_t2c_mou_6', 'std_og_t2c_mou_7', 'std_og_t2c_mou_8', 'std_og_t2c_mou_9', 'std_og_t2f_mou_6', 'std_og_t2f_mou_7', 'std_og_t2f_mou_8', 'std_og_t2f_mou_9', 'std_og_t2m_mou_6', 'std_og_t2m_mou_7', 'std_og_t2m_mou_8', 'std_og_t2m_mou_9', 'std_og_t2o_mou', 'std_og_t2t_mou_6', 'std_og_t2t_mou_7', 'std_og_t2t_mou_8', 'std_og_t2t_mou_9', 'total_ic_mou_6', 'total_ic_mou_7', 'total_ic_mou_8', 'total_ic_mou_9', 'total_og_mou_6', 'total_og_mou_7', 'total_og_mou_8', 'total_og_mou_9', 'total_rech_amt_6', 'total_rech_amt_7', 'total_rech_amt_8', 'total_rech_amt_9', 'total_rech_data_6', 'total_rech_data_7', 'total_rech_data_8', 'total_rech_data_9', 'total_rech_num_6', 'total_rech_num_7', 'total_rech_num_8', 'total_rech_num_9', 'vol_2g_mb_6', 'vol_2g_mb_7', 'vol_2g_mb_8', 'vol_2g_mb_9', 'vol_3g_mb_6', 'vol_3g_mb_7', 'vol_3g_mb_8', 'vol_3g_mb_9']\n"
     ]
    }
   ],
   "source": [
    "cols = sorted(df.columns)\n",
    "print(len(cols), type(cols), cols)"
   ]
  },
  {
   "cell_type": "code",
   "execution_count": null,
   "metadata": {
    "colab": {},
    "colab_type": "code",
    "id": "yMkTAGqviT3x"
   },
   "outputs": [],
   "source": []
  },
  {
   "cell_type": "code",
   "execution_count": 23,
   "metadata": {
    "colab": {
     "base_uri": "https://localhost:8080/",
     "height": 34
    },
    "colab_type": "code",
    "id": "6Ou95922fszV",
    "outputId": "65542cbd-cb1a-4747-dd69-1e40fd4346e8"
   },
   "outputs": [
    {
     "name": "stdout",
     "output_type": "stream",
     "text": [
      "8 <class 'list'>\n"
     ]
    }
   ],
   "source": [
    "count_cols = [col for col in df.columns if 'count' in col]\n",
    "\n",
    "print(len(count_cols), type(count_cols))\n",
    "# count_cols"
   ]
  },
  {
   "cell_type": "code",
   "execution_count": 24,
   "metadata": {
    "colab": {
     "base_uri": "https://localhost:8080/",
     "height": 34
    },
    "colab_type": "code",
    "id": "gSmOO4iZjhmV",
    "outputId": "7300b91a-1ae4-4f7e-c913-ffffd7f9b7b6"
   },
   "outputs": [
    {
     "name": "stdout",
     "output_type": "stream",
     "text": [
      "38 <class 'list'>\n"
     ]
    }
   ],
   "source": [
    "loc_cols = [col for col in df.columns if 'loc' in col]\n",
    "print(len(loc_cols), type(loc_cols))"
   ]
  },
  {
   "cell_type": "code",
   "execution_count": 25,
   "metadata": {
    "colab": {
     "base_uri": "https://localhost:8080/",
     "height": 34
    },
    "colab_type": "code",
    "id": "lYRiRLKqjjRd",
    "outputId": "cc220c4e-c177-450b-90a4-709f7d7750f2"
   },
   "outputs": [
    {
     "name": "stdout",
     "output_type": "stream",
     "text": [
      "12 <class 'list'>\n"
     ]
    }
   ],
   "source": [
    "arpu_cols = [col for col in df.columns if 'arpu' in col]\n",
    "print(len(arpu_cols), type(arpu_cols))"
   ]
  },
  {
   "cell_type": "code",
   "execution_count": 26,
   "metadata": {
    "colab": {
     "base_uri": "https://localhost:8080/",
     "height": 34
    },
    "colab_type": "code",
    "id": "Gv4TJIIgjgIX",
    "outputId": "f653694e-e241-468f-f848-c98d045126a5"
   },
   "outputs": [
    {
     "name": "stdout",
     "output_type": "stream",
     "text": [
      "4 <class 'list'>\n"
     ]
    }
   ],
   "source": [
    "av_rech_amt_cols = [col for col in df.columns if 'av_rech_amt' in col]\n",
    "print(len(av_rech_amt_cols), type(av_rech_amt_cols))"
   ]
  },
  {
   "cell_type": "code",
   "execution_count": 27,
   "metadata": {
    "colab": {
     "base_uri": "https://localhost:8080/",
     "height": 85
    },
    "colab_type": "code",
    "id": "VEZBfaK-vtXp",
    "outputId": "97f78271-dc29-4ae2-f026-41bd44d14692"
   },
   "outputs": [
    {
     "data": {
      "text/plain": [
       "Index(['arpu_2g_6', 'arpu_2g_7', 'arpu_2g_8', 'arpu_2g_9', 'arpu_3g_6',\n",
       "       'arpu_3g_7', 'arpu_3g_8', 'arpu_3g_9', 'arpu_6', 'arpu_7', 'arpu_8',\n",
       "       'arpu_9'],\n",
       "      dtype='object')"
      ]
     },
     "execution_count": 27,
     "metadata": {},
     "output_type": "execute_result"
    }
   ],
   "source": [
    "df.filter(like = \"arpu\", axis =1).columns"
   ]
  },
  {
   "cell_type": "code",
   "execution_count": 28,
   "metadata": {
    "colab": {
     "base_uri": "https://localhost:8080/",
     "height": 238
    },
    "colab_type": "code",
    "id": "uQUOshgVvu7y",
    "outputId": "1c468004-6250-4437-8b72-69f4fcb4e5c4"
   },
   "outputs": [
    {
     "data": {
      "text/plain": [
       "Index(['loc_ic_mou_6', 'loc_ic_mou_7', 'loc_ic_mou_8', 'loc_ic_mou_9',\n",
       "       'loc_ic_t2f_mou_6', 'loc_ic_t2f_mou_7', 'loc_ic_t2f_mou_8',\n",
       "       'loc_ic_t2f_mou_9', 'loc_ic_t2m_mou_6', 'loc_ic_t2m_mou_7',\n",
       "       'loc_ic_t2m_mou_8', 'loc_ic_t2m_mou_9', 'loc_ic_t2o_mou',\n",
       "       'loc_ic_t2t_mou_6', 'loc_ic_t2t_mou_7', 'loc_ic_t2t_mou_8',\n",
       "       'loc_ic_t2t_mou_9', 'loc_og_mou_6', 'loc_og_mou_7', 'loc_og_mou_8',\n",
       "       'loc_og_mou_9', 'loc_og_t2c_mou_6', 'loc_og_t2c_mou_7',\n",
       "       'loc_og_t2c_mou_8', 'loc_og_t2c_mou_9', 'loc_og_t2f_mou_6',\n",
       "       'loc_og_t2f_mou_7', 'loc_og_t2f_mou_8', 'loc_og_t2f_mou_9',\n",
       "       'loc_og_t2m_mou_6', 'loc_og_t2m_mou_7', 'loc_og_t2m_mou_8',\n",
       "       'loc_og_t2m_mou_9', 'loc_og_t2o_mou', 'loc_og_t2t_mou_6',\n",
       "       'loc_og_t2t_mou_7', 'loc_og_t2t_mou_8', 'loc_og_t2t_mou_9'],\n",
       "      dtype='object')"
      ]
     },
     "execution_count": 28,
     "metadata": {},
     "output_type": "execute_result"
    }
   ],
   "source": [
    "df.filter(like = \"loc\", axis =1).columns"
   ]
  },
  {
   "cell_type": "code",
   "execution_count": 29,
   "metadata": {
    "colab": {
     "base_uri": "https://localhost:8080/",
     "height": 136
    },
    "colab_type": "code",
    "id": "K7mcDLZVv0Kb",
    "outputId": "af13f223-bb9d-4515-b620-cf702e9440b3"
   },
   "outputs": [
    {
     "data": {
      "text/plain": [
       "Index(['av_rech_amt_data_6', 'av_rech_amt_data_7', 'av_rech_amt_data_8',\n",
       "       'av_rech_amt_data_9', 'last_day_rch_amt_6', 'last_day_rch_amt_7',\n",
       "       'last_day_rch_amt_8', 'last_day_rch_amt_9', 'max_rech_amt_6',\n",
       "       'max_rech_amt_7', 'max_rech_amt_8', 'max_rech_amt_9',\n",
       "       'total_rech_amt_6', 'total_rech_amt_7', 'total_rech_amt_8',\n",
       "       'total_rech_amt_9'],\n",
       "      dtype='object')"
      ]
     },
     "execution_count": 29,
     "metadata": {},
     "output_type": "execute_result"
    }
   ],
   "source": [
    "df.filter(like = \"amt\", axis =1).columns"
   ]
  },
  {
   "cell_type": "code",
   "execution_count": 30,
   "metadata": {
    "colab": {
     "base_uri": "https://localhost:8080/",
     "height": 306
    },
    "colab_type": "code",
    "id": "C54WgDnBv5K1",
    "outputId": "2a739cf7-fbe2-4bc1-cd36-34c0ae9e8945"
   },
   "outputs": [
    {
     "data": {
      "text/plain": [
       "Index(['arpu_2g_6', 'arpu_3g_6', 'arpu_6', 'av_rech_amt_data_6',\n",
       "       'count_rech_2g_6', 'count_rech_3g_6', 'date_of_last_rech_6',\n",
       "       'date_of_last_rech_data_6', 'fb_user_6', 'ic_others_6', 'isd_ic_mou_6',\n",
       "       'isd_og_mou_6', 'last_date_of_month_6', 'last_day_rch_amt_6',\n",
       "       'loc_ic_mou_6', 'loc_ic_t2f_mou_6', 'loc_ic_t2m_mou_6',\n",
       "       'loc_ic_t2t_mou_6', 'loc_og_mou_6', 'loc_og_t2c_mou_6',\n",
       "       'loc_og_t2f_mou_6', 'loc_og_t2m_mou_6', 'loc_og_t2t_mou_6',\n",
       "       'max_rech_amt_6', 'max_rech_data_6', 'monthly_2g_6', 'monthly_3g_6',\n",
       "       'night_pck_user_6', 'offnet_mou_6', 'og_others_6', 'onnet_mou_6',\n",
       "       'roam_ic_mou_6', 'roam_og_mou_6', 'sachet_2g_6', 'sachet_3g_6',\n",
       "       'spl_ic_mou_6', 'spl_og_mou_6', 'std_ic_mou_6', 'std_ic_t2f_mou_6',\n",
       "       'std_ic_t2m_mou_6', 'std_ic_t2o_mou_6', 'std_ic_t2t_mou_6',\n",
       "       'std_og_mou_6', 'std_og_t2c_mou_6', 'std_og_t2f_mou_6',\n",
       "       'std_og_t2m_mou_6', 'std_og_t2t_mou_6', 'total_ic_mou_6',\n",
       "       'total_og_mou_6', 'total_rech_amt_6', 'total_rech_data_6',\n",
       "       'total_rech_num_6', 'vol_2g_mb_6', 'vol_3g_mb_6'],\n",
       "      dtype='object')"
      ]
     },
     "execution_count": 30,
     "metadata": {},
     "output_type": "execute_result"
    }
   ],
   "source": [
    "df.filter(like = \"_6\", axis =1).columns"
   ]
  },
  {
   "cell_type": "code",
   "execution_count": 31,
   "metadata": {
    "colab": {
     "base_uri": "https://localhost:8080/",
     "height": 119
    },
    "colab_type": "code",
    "id": "Y8OIM4sLjt_Y",
    "outputId": "72d6055d-07d0-4f36-ca0a-4e91befc2600"
   },
   "outputs": [
    {
     "data": {
      "text/plain": [
       "Index(['date_of_last_rech_6', 'date_of_last_rech_7', 'date_of_last_rech_8',\n",
       "       'date_of_last_rech_9', 'date_of_last_rech_data_6',\n",
       "       'date_of_last_rech_data_7', 'date_of_last_rech_data_8',\n",
       "       'date_of_last_rech_data_9', 'last_date_of_month_6',\n",
       "       'last_date_of_month_7', 'last_date_of_month_8', 'last_date_of_month_9'],\n",
       "      dtype='object')"
      ]
     },
     "execution_count": 31,
     "metadata": {},
     "output_type": "execute_result"
    }
   ],
   "source": [
    "df.filter(like = \"date\", axis =1).columns"
   ]
  },
  {
   "cell_type": "code",
   "execution_count": 32,
   "metadata": {
    "colab": {
     "base_uri": "https://localhost:8080/",
     "height": 563
    },
    "colab_type": "code",
    "id": "CNRGxQqJnQ9I",
    "outputId": "bbf20d46-d803-406c-8727-2e0b9bf34700"
   },
   "outputs": [
    {
     "name": "stdout",
     "output_type": "stream",
     "text": [
      "False\n",
      "0    5.0\n",
      "1    NaN\n",
      "2    NaN\n",
      "3    NaN\n",
      "4    6.0\n",
      "5    NaN\n",
      "6    NaN\n",
      "7    NaN\n",
      "8    NaN\n",
      "9    NaN\n",
      "dtype: float64\n"
     ]
    },
    {
     "data": {
      "text/html": [
       "<div>\n",
       "<style scoped>\n",
       "    .dataframe tbody tr th:only-of-type {\n",
       "        vertical-align: middle;\n",
       "    }\n",
       "\n",
       "    .dataframe tbody tr th {\n",
       "        vertical-align: top;\n",
       "    }\n",
       "\n",
       "    .dataframe thead th {\n",
       "        text-align: right;\n",
       "    }\n",
       "</style>\n",
       "<table border=\"1\" class=\"dataframe\">\n",
       "  <thead>\n",
       "    <tr style=\"text-align: right;\">\n",
       "      <th></th>\n",
       "      <th>0</th>\n",
       "      <th>total_rech_amt_6</th>\n",
       "      <th>total_rech_data_6</th>\n",
       "      <th>total_rech_num_6</th>\n",
       "    </tr>\n",
       "  </thead>\n",
       "  <tbody>\n",
       "    <tr>\n",
       "      <th>0</th>\n",
       "      <td>5.0</td>\n",
       "      <td>362</td>\n",
       "      <td>1.0</td>\n",
       "      <td>4</td>\n",
       "    </tr>\n",
       "    <tr>\n",
       "      <th>1</th>\n",
       "      <td>NaN</td>\n",
       "      <td>74</td>\n",
       "      <td>NaN</td>\n",
       "      <td>4</td>\n",
       "    </tr>\n",
       "    <tr>\n",
       "      <th>2</th>\n",
       "      <td>NaN</td>\n",
       "      <td>168</td>\n",
       "      <td>NaN</td>\n",
       "      <td>5</td>\n",
       "    </tr>\n",
       "    <tr>\n",
       "      <th>3</th>\n",
       "      <td>NaN</td>\n",
       "      <td>230</td>\n",
       "      <td>NaN</td>\n",
       "      <td>10</td>\n",
       "    </tr>\n",
       "    <tr>\n",
       "      <th>4</th>\n",
       "      <td>6.0</td>\n",
       "      <td>196</td>\n",
       "      <td>1.0</td>\n",
       "      <td>5</td>\n",
       "    </tr>\n",
       "    <tr>\n",
       "      <th>5</th>\n",
       "      <td>NaN</td>\n",
       "      <td>120</td>\n",
       "      <td>NaN</td>\n",
       "      <td>2</td>\n",
       "    </tr>\n",
       "    <tr>\n",
       "      <th>6</th>\n",
       "      <td>NaN</td>\n",
       "      <td>499</td>\n",
       "      <td>NaN</td>\n",
       "      <td>15</td>\n",
       "    </tr>\n",
       "    <tr>\n",
       "      <th>7</th>\n",
       "      <td>NaN</td>\n",
       "      <td>1580</td>\n",
       "      <td>NaN</td>\n",
       "      <td>5</td>\n",
       "    </tr>\n",
       "    <tr>\n",
       "      <th>8</th>\n",
       "      <td>NaN</td>\n",
       "      <td>437</td>\n",
       "      <td>NaN</td>\n",
       "      <td>19</td>\n",
       "    </tr>\n",
       "    <tr>\n",
       "      <th>9</th>\n",
       "      <td>NaN</td>\n",
       "      <td>220</td>\n",
       "      <td>NaN</td>\n",
       "      <td>4</td>\n",
       "    </tr>\n",
       "  </tbody>\n",
       "</table>\n",
       "</div>"
      ],
      "text/plain": [
       "     0  total_rech_amt_6  total_rech_data_6  total_rech_num_6\n",
       "0  5.0               362                1.0                 4\n",
       "1  NaN                74                NaN                 4\n",
       "2  NaN               168                NaN                 5\n",
       "3  NaN               230                NaN                10\n",
       "4  6.0               196                1.0                 5\n",
       "5  NaN               120                NaN                 2\n",
       "6  NaN               499                NaN                15\n",
       "7  NaN              1580                NaN                 5\n",
       "8  NaN               437                NaN                19\n",
       "9  NaN               220                NaN                 4"
      ]
     },
     "execution_count": 32,
     "metadata": {},
     "output_type": "execute_result"
    }
   ],
   "source": [
    "# IGnore - this is wrong and unecessary\n",
    "# total_rech_amt_6', 'total_rech_data_6','total_rech_num_6'\n",
    "rech_6_manual = df.total_rech_data_6 + df.total_rech_num_6\n",
    "print(rech_6_manual.equals(df.total_rech_amt_6))\n",
    "df_temp = pd.concat([rech_6_manual, df.total_rech_amt_6, df.total_rech_data_6, df.total_rech_num_6], axis=1)\n",
    "print(rech_6_manual[:10])\n",
    "df_temp.head(10)"
   ]
  },
  {
   "cell_type": "code",
   "execution_count": null,
   "metadata": {
    "colab": {},
    "colab_type": "code",
    "id": "AX9yri6HjpL3"
   },
   "outputs": [],
   "source": []
  },
  {
   "cell_type": "code",
   "execution_count": null,
   "metadata": {
    "colab": {},
    "colab_type": "code",
    "id": "WKeKZxLXjgfK"
   },
   "outputs": [],
   "source": []
  },
  {
   "cell_type": "code",
   "execution_count": null,
   "metadata": {
    "colab": {},
    "colab_type": "code",
    "id": "5MH2_67QjglX"
   },
   "outputs": [],
   "source": []
  },
  {
   "cell_type": "code",
   "execution_count": 33,
   "metadata": {
    "colab": {},
    "colab_type": "code",
    "id": "5M3uT5CljoFE"
   },
   "outputs": [],
   "source": [
    "arpu_6_vk = (df.arpu_2g_6 + df.arpu_3g_6+df.aug_vbc_3g)"
   ]
  },
  {
   "cell_type": "code",
   "execution_count": 34,
   "metadata": {
    "colab": {
     "base_uri": "https://localhost:8080/",
     "height": 34
    },
    "colab_type": "code",
    "id": "QVKMZzklj02P",
    "outputId": "93ccfc1f-662a-40b4-e615-ff90b577e460"
   },
   "outputs": [
    {
     "data": {
      "text/plain": [
       "False"
      ]
     },
     "execution_count": 34,
     "metadata": {},
     "output_type": "execute_result"
    }
   ],
   "source": [
    "arpu_6_vk.equals(df.arpu_6)"
   ]
  },
  {
   "cell_type": "code",
   "execution_count": 35,
   "metadata": {
    "colab": {
     "base_uri": "https://localhost:8080/",
     "height": 204
    },
    "colab_type": "code",
    "id": "Z_zPfraBkDc0",
    "outputId": "407a35b4-8979-4919-b5b4-0ce9e3389a51"
   },
   "outputs": [
    {
     "name": "stdout",
     "output_type": "stream",
     "text": [
      "0    454.74\n",
      "1       NaN\n",
      "2       NaN\n",
      "3       NaN\n",
      "4      0.00\n",
      "5       NaN\n",
      "6       NaN\n",
      "7       NaN\n",
      "8       NaN\n",
      "9       NaN\n",
      "dtype: float64\n"
     ]
    }
   ],
   "source": [
    "print(arpu_6_vk[:10])"
   ]
  },
  {
   "cell_type": "code",
   "execution_count": 36,
   "metadata": {
    "colab": {
     "base_uri": "https://localhost:8080/",
     "height": 204
    },
    "colab_type": "code",
    "id": "uymwfkdtkHCX",
    "outputId": "52d3b1bc-b14a-4ca5-fe5b-7a99dbc0d79d"
   },
   "outputs": [
    {
     "data": {
      "text/plain": [
       "0     197.385\n",
       "1      34.047\n",
       "2     167.690\n",
       "3     221.338\n",
       "4     261.636\n",
       "5      50.258\n",
       "6     429.023\n",
       "7    1069.180\n",
       "8     378.721\n",
       "9     119.518\n",
       "Name: arpu_6, dtype: float64"
      ]
     },
     "execution_count": 36,
     "metadata": {},
     "output_type": "execute_result"
    }
   ],
   "source": [
    "df.arpu_6[:10]"
   ]
  },
  {
   "cell_type": "code",
   "execution_count": 37,
   "metadata": {
    "colab": {
     "base_uri": "https://localhost:8080/",
     "height": 374
    },
    "colab_type": "code",
    "id": "wY0b7PNVkMDu",
    "outputId": "2cdfc173-cd59-4aa3-9e22-7bad32e41b48"
   },
   "outputs": [
    {
     "name": "stdout",
     "output_type": "stream",
     "text": [
      "0    212.17\n",
      "1       NaN\n",
      "2       NaN\n",
      "3       NaN\n",
      "4      0.00\n",
      "5       NaN\n",
      "6       NaN\n",
      "7       NaN\n",
      "8       NaN\n",
      "9       NaN\n",
      "Name: arpu_2g_6, dtype: float64 0    212.17\n",
      "1       NaN\n",
      "2       NaN\n",
      "3       NaN\n",
      "4      0.00\n",
      "5       NaN\n",
      "6       NaN\n",
      "7       NaN\n",
      "8       NaN\n",
      "9       NaN\n",
      "Name: arpu_3g_6, dtype: float64\n"
     ]
    }
   ],
   "source": [
    "print(df.arpu_2g_6[:10], df.arpu_3g_6[:10])"
   ]
  },
  {
   "cell_type": "code",
   "execution_count": null,
   "metadata": {
    "colab": {},
    "colab_type": "code",
    "id": "e2_8LScFj-yt"
   },
   "outputs": [],
   "source": []
  },
  {
   "cell_type": "code",
   "execution_count": null,
   "metadata": {
    "colab": {},
    "colab_type": "code",
    "id": "7lri5sfOjw80"
   },
   "outputs": [],
   "source": []
  },
  {
   "cell_type": "code",
   "execution_count": 38,
   "metadata": {
    "colab": {
     "base_uri": "https://localhost:8080/",
     "height": 1071
    },
    "colab_type": "code",
    "id": "5VZC5bvKcxNH",
    "outputId": "828a7e3b-bfb9-4a00-f639-6470ea4f2025"
   },
   "outputs": [
    {
     "data": {
      "text/plain": [
       "aon                        0\n",
       "arpu_2g_6              74846\n",
       "arpu_2g_7              74428\n",
       "arpu_2g_8              73660\n",
       "arpu_2g_9              74077\n",
       "arpu_3g_6              74846\n",
       "arpu_3g_7              74428\n",
       "arpu_3g_8              73660\n",
       "arpu_3g_9              74077\n",
       "arpu_6                     0\n",
       "arpu_7                     0\n",
       "arpu_8                     0\n",
       "arpu_9                     0\n",
       "aug_vbc_3g                 0\n",
       "av_rech_amt_data_6     74846\n",
       "av_rech_amt_data_7     74428\n",
       "av_rech_amt_data_8     73660\n",
       "av_rech_amt_data_9     74077\n",
       "circle_id                  0\n",
       "count_rech_2g_6        74846\n",
       "count_rech_2g_7        74428\n",
       "count_rech_2g_8        73660\n",
       "count_rech_2g_9        74077\n",
       "count_rech_3g_6        74846\n",
       "count_rech_3g_7        74428\n",
       "count_rech_3g_8        73660\n",
       "count_rech_3g_9        74077\n",
       "date_of_last_rech_6     1607\n",
       "date_of_last_rech_7     1767\n",
       "date_of_last_rech_8     3622\n",
       "                       ...  \n",
       "std_og_t2t_mou_8        5378\n",
       "std_og_t2t_mou_9        7745\n",
       "total_ic_mou_6             0\n",
       "total_ic_mou_7             0\n",
       "total_ic_mou_8             0\n",
       "total_ic_mou_9             0\n",
       "total_og_mou_6             0\n",
       "total_og_mou_7             0\n",
       "total_og_mou_8             0\n",
       "total_og_mou_9             0\n",
       "total_rech_amt_6           0\n",
       "total_rech_amt_7           0\n",
       "total_rech_amt_8           0\n",
       "total_rech_amt_9           0\n",
       "total_rech_data_6      74846\n",
       "total_rech_data_7      74428\n",
       "total_rech_data_8      73660\n",
       "total_rech_data_9      74077\n",
       "total_rech_num_6           0\n",
       "total_rech_num_7           0\n",
       "total_rech_num_8           0\n",
       "total_rech_num_9           0\n",
       "vol_2g_mb_6                0\n",
       "vol_2g_mb_7                0\n",
       "vol_2g_mb_8                0\n",
       "vol_2g_mb_9                0\n",
       "vol_3g_mb_6                0\n",
       "vol_3g_mb_7                0\n",
       "vol_3g_mb_8                0\n",
       "vol_3g_mb_9                0\n",
       "Length: 226, dtype: int64"
      ]
     },
     "execution_count": 38,
     "metadata": {},
     "output_type": "execute_result"
    }
   ],
   "source": [
    "\n",
    "# computing Null Values \n",
    "df.isnull().sum()"
   ]
  },
  {
   "cell_type": "code",
   "execution_count": 39,
   "metadata": {
    "colab": {},
    "colab_type": "code",
    "id": "2gmsP1wRcmN8"
   },
   "outputs": [],
   "source": [
    "nul_percentage = round(100*(data.isnull().sum()/len(data.index)),2)"
   ]
  },
  {
   "cell_type": "code",
   "execution_count": 40,
   "metadata": {
    "colab": {
     "base_uri": "https://localhost:8080/",
     "height": 54
    },
    "colab_type": "code",
    "id": "4o5mO-wr9bj4",
    "outputId": "743bd364-5653-4942-d70d-a33fc0cac3b7"
   },
   "outputs": [
    {
     "name": "stdout",
     "output_type": "stream",
     "text": [
      "[74.85, 74.85, 74.85, 74.85, 74.85, 74.85, 74.85, 74.85, 74.85, 74.85, 74.43, 74.43, 74.43, 74.43, 74.43, 74.43, 74.43, 74.43, 74.43, 74.43, 74.08, 74.08, 74.08, 74.08, 74.08, 74.08, 74.08, 74.08, 74.08, 74.08, 73.66, 73.66, 73.66, 73.66, 73.66, 73.66, 73.66, 73.66, 73.66, 73.66, 7.75] 226\n"
     ]
    }
   ],
   "source": [
    "print((sorted(nul_percentage, reverse=True))[:41], len(nul_percentage))"
   ]
  },
  {
   "cell_type": "code",
   "execution_count": 41,
   "metadata": {
    "colab": {
     "base_uri": "https://localhost:8080/",
     "height": 34
    },
    "colab_type": "code",
    "id": "e556-sB4b-Qc",
    "outputId": "d0d278ec-ac47-47f2-9b40-4527366cefab"
   },
   "outputs": [
    {
     "data": {
      "text/plain": [
       "40"
      ]
     },
     "execution_count": 41,
     "metadata": {},
     "output_type": "execute_result"
    }
   ],
   "source": [
    "len(nul_percentage[nul_percentage>70])"
   ]
  },
  {
   "cell_type": "code",
   "execution_count": 42,
   "metadata": {
    "colab": {
     "base_uri": "https://localhost:8080/",
     "height": 34
    },
    "colab_type": "code",
    "id": "-kqL2IHRV6LP",
    "outputId": "20986d65-2ae5-4135-a503-9cdaf461ad17"
   },
   "outputs": [
    {
     "data": {
      "text/plain": [
       "40"
      ]
     },
     "execution_count": 42,
     "metadata": {},
     "output_type": "execute_result"
    }
   ],
   "source": [
    "len(nul_percentage[nul_percentage>60])"
   ]
  },
  {
   "cell_type": "code",
   "execution_count": 43,
   "metadata": {
    "colab": {
     "base_uri": "https://localhost:8080/",
     "height": 34
    },
    "colab_type": "code",
    "id": "DPNhRZRUVoHb",
    "outputId": "caecf122-2477-4947-8b79-9f4877ec38f6"
   },
   "outputs": [
    {
     "data": {
      "text/plain": [
       "69"
      ]
     },
     "execution_count": 43,
     "metadata": {},
     "output_type": "execute_result"
    }
   ],
   "source": [
    "len(nul_percentage[nul_percentage>6])"
   ]
  },
  {
   "cell_type": "markdown",
   "metadata": {
    "colab_type": "text",
    "id": "M6KUnbP9-3RB"
   },
   "source": [
    "IT appears we can remove where there are more than 73% missing values"
   ]
  },
  {
   "cell_type": "code",
   "execution_count": 44,
   "metadata": {
    "colab": {},
    "colab_type": "code",
    "id": "xlZ7J5Lz_Ebk"
   },
   "outputs": [],
   "source": [
    "to_remove = nul_percentage[nul_percentage>73]"
   ]
  },
  {
   "cell_type": "code",
   "execution_count": 45,
   "metadata": {
    "colab": {
     "base_uri": "https://localhost:8080/",
     "height": 714
    },
    "colab_type": "code",
    "id": "eM33Dzuw_RFd",
    "outputId": "8e0c737f-2406-43f7-dca6-90067a630034"
   },
   "outputs": [
    {
     "data": {
      "text/plain": [
       "date_of_last_rech_data_6    74.85\n",
       "date_of_last_rech_data_7    74.43\n",
       "date_of_last_rech_data_8    73.66\n",
       "date_of_last_rech_data_9    74.08\n",
       "total_rech_data_6           74.85\n",
       "total_rech_data_7           74.43\n",
       "total_rech_data_8           73.66\n",
       "total_rech_data_9           74.08\n",
       "max_rech_data_6             74.85\n",
       "max_rech_data_7             74.43\n",
       "max_rech_data_8             73.66\n",
       "max_rech_data_9             74.08\n",
       "count_rech_2g_6             74.85\n",
       "count_rech_2g_7             74.43\n",
       "count_rech_2g_8             73.66\n",
       "count_rech_2g_9             74.08\n",
       "count_rech_3g_6             74.85\n",
       "count_rech_3g_7             74.43\n",
       "count_rech_3g_8             73.66\n",
       "count_rech_3g_9             74.08\n",
       "av_rech_amt_data_6          74.85\n",
       "av_rech_amt_data_7          74.43\n",
       "av_rech_amt_data_8          73.66\n",
       "av_rech_amt_data_9          74.08\n",
       "arpu_3g_6                   74.85\n",
       "arpu_3g_7                   74.43\n",
       "arpu_3g_8                   73.66\n",
       "arpu_3g_9                   74.08\n",
       "arpu_2g_6                   74.85\n",
       "arpu_2g_7                   74.43\n",
       "arpu_2g_8                   73.66\n",
       "arpu_2g_9                   74.08\n",
       "night_pck_user_6            74.85\n",
       "night_pck_user_7            74.43\n",
       "night_pck_user_8            73.66\n",
       "night_pck_user_9            74.08\n",
       "fb_user_6                   74.85\n",
       "fb_user_7                   74.43\n",
       "fb_user_8                   73.66\n",
       "fb_user_9                   74.08\n",
       "dtype: float64"
      ]
     },
     "execution_count": 45,
     "metadata": {},
     "output_type": "execute_result"
    }
   ],
   "source": [
    "to_remove"
   ]
  },
  {
   "cell_type": "markdown",
   "metadata": {
    "colab_type": "text",
    "id": "hyokHrjQ_Soy"
   },
   "source": [
    "But, below columns are of type categorical; When the data is not present we can safely assume the\n",
    "user is not a night_pack or fb_user\n",
    "\n",
    "so before dropping the columns, need further cleaning.\n",
    "\n",
    "* night_pck_user_6            74.85\n",
    "* night_pck_user_7            74.43\n",
    "* night_pck_user_8            73.66\n",
    "* night_pck_user_9            74.08\n",
    "* fb_user_6                   74.85\n",
    "* fb_user_7                   74.43\n",
    "* fb_user_8                   73.66\n",
    "* fb_user_9                   74.08"
   ]
  },
  {
   "cell_type": "code",
   "execution_count": 0,
   "metadata": {
    "colab": {},
    "colab_type": "code",
    "id": "sCmpTz4pA8Xh"
   },
   "outputs": [],
   "source": []
  },
  {
   "cell_type": "markdown",
   "metadata": {
    "colab_type": "text",
    "id": "i4T-a2N5A881"
   },
   "source": [
    "Before proceeding any further, lets do the following - \n",
    "\n",
    "Convert date columns to date objects\n",
    "\n",
    "#### Drop columns \n",
    "* where there is only 1 unique value\n",
    "* replace missing values in categorical variables with 0 (0-no, 1 - yes)"
   ]
  },
  {
   "cell_type": "code",
   "execution_count": 47,
   "metadata": {
    "colab": {},
    "colab_type": "code",
    "id": "7nzAES4sBVL9"
   },
   "outputs": [
    {
     "data": {
      "text/plain": [
       "['date_of_last_rech_6',\n",
       " 'date_of_last_rech_7',\n",
       " 'date_of_last_rech_8',\n",
       " 'date_of_last_rech_9',\n",
       " 'date_of_last_rech_data_6',\n",
       " 'date_of_last_rech_data_7',\n",
       " 'date_of_last_rech_data_8',\n",
       " 'date_of_last_rech_data_9',\n",
       " 'last_date_of_month_6',\n",
       " 'last_date_of_month_7',\n",
       " 'last_date_of_month_8',\n",
       " 'last_date_of_month_9']"
      ]
     },
     "execution_count": 47,
     "metadata": {},
     "output_type": "execute_result"
    }
   ],
   "source": [
    "date_columns = list(df.filter(like = \"date\", axis =1).columns)\n",
    "(date_columns)"
   ]
  },
  {
   "cell_type": "code",
   "execution_count": 49,
   "metadata": {},
   "outputs": [
    {
     "name": "stdout",
     "output_type": "stream",
     "text": [
      "<class 'list'> ['night_pck_user_6', 'night_pck_user_7', 'night_pck_user_8', 'night_pck_user_9', 'fb_user_6', 'fb_user_7', 'fb_user_8', 'fb_user_9']\n"
     ]
    }
   ],
   "source": [
    "categorical_columns = ['night_pck_user_6',\n",
    "'night_pck_user_7',\n",
    "'night_pck_user_8',\n",
    "'night_pck_user_9',\n",
    "'fb_user_6',\n",
    "'fb_user_7',\n",
    "'fb_user_8',\n",
    "'fb_user_9']\n",
    "\n",
    "print(type(categorical_columns), categorical_columns)"
   ]
  },
  {
   "cell_type": "code",
   "execution_count": 53,
   "metadata": {
    "colab": {},
    "colab_type": "code",
    "id": "FMwOUuajBTur"
   },
   "outputs": [],
   "source": [
    "numerical_columsn = [col for col in df.columns if col not in (categorical_columns+date_columns)]"
   ]
  },
  {
   "cell_type": "code",
   "execution_count": 56,
   "metadata": {},
   "outputs": [
    {
     "name": "stdout",
     "output_type": "stream",
     "text": [
      "226\n",
      "226\n"
     ]
    }
   ],
   "source": [
    "print(len(numerical_columsn+date_columns+categorical_columns))\n",
    "print(len(df.columns))"
   ]
  },
  {
   "cell_type": "markdown",
   "metadata": {
    "colab": {},
    "colab_type": "code",
    "id": "t6I-YJ0_A1C9"
   },
   "source": [
    "* where there is only 1 unique value"
   ]
  },
  {
   "cell_type": "code",
   "execution_count": 67,
   "metadata": {},
   "outputs": [],
   "source": [
    "# for col in df.columns:\n",
    "#     print(df[col].nunique)\n",
    "\n",
    "unique_Values = df.apply(lambda x: x.nunique())"
   ]
  },
  {
   "cell_type": "code",
   "execution_count": 75,
   "metadata": {},
   "outputs": [
    {
     "data": {
      "text/plain": [
       "last_date_of_month_8    1\n",
       "std_og_t2c_mou_9        1\n",
       "std_og_t2c_mou_8        1\n",
       "circle_id               1\n",
       "last_date_of_month_6    1\n",
       "last_date_of_month_7    1\n",
       "last_date_of_month_9    1\n",
       "std_og_t2c_mou_7        1\n",
       "std_og_t2o_mou          1\n",
       "std_ic_t2o_mou_9        1\n",
       "std_og_t2c_mou_6        1\n",
       "std_ic_t2o_mou_7        1\n",
       "std_ic_t2o_mou_6        1\n",
       "loc_ic_t2o_mou          1\n",
       "loc_og_t2o_mou          1\n",
       "std_ic_t2o_mou_8        1\n",
       "fb_user_7               2\n",
       "night_pck_user_9        2\n",
       "night_pck_user_8        2\n",
       "night_pck_user_7        2\n",
       "dtype: int64"
      ]
     },
     "execution_count": 75,
     "metadata": {},
     "output_type": "execute_result"
    }
   ],
   "source": [
    "unique_Values.sort_values()[:20]"
   ]
  },
  {
   "cell_type": "code",
   "execution_count": 73,
   "metadata": {},
   "outputs": [],
   "source": [
    "cols_to_delete = []"
   ]
  },
  {
   "cell_type": "code",
   "execution_count": 74,
   "metadata": {
    "colab": {},
    "colab_type": "code",
    "id": "CBpC13Z9VYxU"
   },
   "outputs": [
    {
     "name": "stdout",
     "output_type": "stream",
     "text": [
      "['circle_id', 'last_date_of_month_6', 'last_date_of_month_7', 'last_date_of_month_8', 'last_date_of_month_9', 'loc_ic_t2o_mou', 'loc_og_t2o_mou', 'std_ic_t2o_mou_6', 'std_ic_t2o_mou_7', 'std_ic_t2o_mou_8', 'std_ic_t2o_mou_9', 'std_og_t2c_mou_6', 'std_og_t2c_mou_7', 'std_og_t2c_mou_8', 'std_og_t2c_mou_9', 'std_og_t2o_mou'] <class 'list'>\n"
     ]
    }
   ],
   "source": [
    "cols_to_delete = cols_to_delete + list(unique_Values[unique_Values==1].index)\n",
    "print(cols_to_delete, type(cols_to_delete))"
   ]
  },
  {
   "cell_type": "code",
   "execution_count": null,
   "metadata": {},
   "outputs": [],
   "source": []
  },
  {
   "cell_type": "code",
   "execution_count": null,
   "metadata": {},
   "outputs": [],
   "source": []
  },
  {
   "cell_type": "markdown",
   "metadata": {},
   "source": [
    "#### consolidate\n",
    "* Categorical Variables (replace missing values with 2)\n",
    "* 0->No, 1-Yes, 2-Unknown"
   ]
  },
  {
   "cell_type": "code",
   "execution_count": 80,
   "metadata": {},
   "outputs": [
    {
     "name": "stdout",
     "output_type": "stream",
     "text": [
      "night_pck_user_6    2\n",
      "night_pck_user_7    2\n",
      "night_pck_user_8    2\n",
      "night_pck_user_9    2\n",
      "fb_user_6           2\n",
      "fb_user_7           2\n",
      "fb_user_8           2\n",
      "fb_user_9           2\n",
      "dtype: int64\n",
      "night_pck_user_6 [ 0. nan  1.]\n",
      "night_pck_user_7 [ 0. nan  1.]\n",
      "night_pck_user_8 [ 0. nan  1.]\n",
      "night_pck_user_9 [nan  0.  1.]\n",
      "fb_user_6 [ 1. nan  0.]\n",
      "fb_user_7 [ 1. nan  0.]\n",
      "fb_user_8 [ 1. nan  0.]\n",
      "fb_user_9 [nan  1.  0.]\n"
     ]
    }
   ],
   "source": [
    "print(df[categorical_columns].nunique())\n",
    "for col in categorical_columns:\n",
    "    print(col, df[col].unique())"
   ]
  },
  {
   "cell_type": "code",
   "execution_count": 83,
   "metadata": {},
   "outputs": [],
   "source": [
    "# df[categorical_columns].fillna(2, inplace=True)\n",
    "for col in categorical_columns:\n",
    "    df[col].fillna(value=2, inplace=True)"
   ]
  },
  {
   "cell_type": "code",
   "execution_count": 84,
   "metadata": {},
   "outputs": [
    {
     "name": "stdout",
     "output_type": "stream",
     "text": [
      "night_pck_user_6    3\n",
      "night_pck_user_7    3\n",
      "night_pck_user_8    3\n",
      "night_pck_user_9    3\n",
      "fb_user_6           3\n",
      "fb_user_7           3\n",
      "fb_user_8           3\n",
      "fb_user_9           3\n",
      "dtype: int64\n",
      "night_pck_user_6 [0. 2. 1.]\n",
      "night_pck_user_7 [0. 2. 1.]\n",
      "night_pck_user_8 [0. 2. 1.]\n",
      "night_pck_user_9 [2. 0. 1.]\n",
      "fb_user_6 [1. 2. 0.]\n",
      "fb_user_7 [1. 2. 0.]\n",
      "fb_user_8 [1. 2. 0.]\n",
      "fb_user_9 [2. 1. 0.]\n"
     ]
    }
   ],
   "source": [
    "print(df[categorical_columns].nunique())\n",
    "for col in categorical_columns:\n",
    "    print(col, df[col].unique())"
   ]
  },
  {
   "cell_type": "markdown",
   "metadata": {},
   "source": [
    "#### Categorical done"
   ]
  },
  {
   "cell_type": "markdown",
   "metadata": {},
   "source": [
    "#### drop unique columsn where there is no variance \n",
    "* unique value = 1"
   ]
  },
  {
   "cell_type": "code",
   "execution_count": 87,
   "metadata": {},
   "outputs": [
    {
     "data": {
      "text/plain": [
       "(99999, 226)"
      ]
     },
     "execution_count": 87,
     "metadata": {},
     "output_type": "execute_result"
    }
   ],
   "source": [
    "df.shape"
   ]
  },
  {
   "cell_type": "code",
   "execution_count": 88,
   "metadata": {},
   "outputs": [],
   "source": [
    "df.drop(labels=cols_to_delete, axis=1, inplace=True)"
   ]
  },
  {
   "cell_type": "code",
   "execution_count": 89,
   "metadata": {},
   "outputs": [
    {
     "data": {
      "text/plain": [
       "(99999, 210)"
      ]
     },
     "execution_count": 89,
     "metadata": {},
     "output_type": "execute_result"
    }
   ],
   "source": [
    "df.shape"
   ]
  },
  {
   "cell_type": "code",
   "execution_count": null,
   "metadata": {},
   "outputs": [],
   "source": []
  },
  {
   "cell_type": "markdown",
   "metadata": {},
   "source": [
    "check missing attributes"
   ]
  },
  {
   "cell_type": "code",
   "execution_count": 100,
   "metadata": {},
   "outputs": [
    {
     "data": {
      "text/plain": [
       "count_rech_3g_6             74.85\n",
       "arpu_3g_6                   74.85\n",
       "total_rech_data_6           74.85\n",
       "av_rech_amt_data_6          74.85\n",
       "max_rech_data_6             74.85\n",
       "date_of_last_rech_data_6    74.85\n",
       "count_rech_2g_6             74.85\n",
       "arpu_2g_6                   74.85\n",
       "arpu_3g_7                   74.43\n",
       "av_rech_amt_data_7          74.43\n",
       "count_rech_3g_7             74.43\n",
       "arpu_2g_7                   74.43\n",
       "date_of_last_rech_data_7    74.43\n",
       "max_rech_data_7             74.43\n",
       "total_rech_data_7           74.43\n",
       "count_rech_2g_7             74.43\n",
       "date_of_last_rech_data_9    74.08\n",
       "av_rech_amt_data_9          74.08\n",
       "count_rech_2g_9             74.08\n",
       "arpu_3g_9                   74.08\n",
       "max_rech_data_9             74.08\n",
       "arpu_2g_9                   74.08\n",
       "count_rech_3g_9             74.08\n",
       "total_rech_data_9           74.08\n",
       "max_rech_data_8             73.66\n",
       "count_rech_3g_8             73.66\n",
       "count_rech_2g_8             73.66\n",
       "total_rech_data_8           73.66\n",
       "av_rech_amt_data_8          73.66\n",
       "arpu_3g_8                   73.66\n",
       "arpu_2g_8                   73.66\n",
       "date_of_last_rech_data_8    73.66\n",
       "loc_og_t2c_mou_9             7.75\n",
       "loc_ic_mou_9                 7.75\n",
       "spl_ic_mou_9                 7.75\n",
       "roam_ic_mou_9                7.75\n",
       "roam_og_mou_9                7.75\n",
       "loc_og_mou_9                 7.75\n",
       "onnet_mou_9                  7.75\n",
       "std_ic_mou_9                 7.75\n",
       "og_others_9                  7.75\n",
       "std_ic_t2f_mou_9             7.75\n",
       "loc_og_t2f_mou_9             7.75\n",
       "offnet_mou_9                 7.75\n",
       "std_ic_t2m_mou_9             7.75\n",
       "dtype: float64"
      ]
     },
     "execution_count": 100,
     "metadata": {},
     "output_type": "execute_result"
    }
   ],
   "source": [
    "(round((df.isnull().sum(axis=0)/len(df.index))*100,2)).sort_values(ascending=False)[:45]"
   ]
  },
  {
   "cell_type": "markdown",
   "metadata": {},
   "source": [
    "# TODO\n",
    "Analyse the recharge colums and fill missing values for \n",
    "\"As mentioned above, you need to predict churn only for the high-value customers. Define high-value customers as follows: Those who have recharged with an amount more than or equal to X, where X is the 70th percentile of the average recharge amount in the first two months (the good phase).\""
   ]
  },
  {
   "cell_type": "code",
   "execution_count": null,
   "metadata": {},
   "outputs": [],
   "source": []
  }
 ],
 "metadata": {
  "colab": {
   "collapsed_sections": [],
   "name": "TelecomChurn-Upgrad.ipynb",
   "provenance": [],
   "version": "0.3.2"
  },
  "kernelspec": {
   "display_name": "Python 3",
   "language": "python",
   "name": "python3"
  },
  "language_info": {
   "codemirror_mode": {
    "name": "ipython",
    "version": 3
   },
   "file_extension": ".py",
   "mimetype": "text/x-python",
   "name": "python",
   "nbconvert_exporter": "python",
   "pygments_lexer": "ipython3",
   "version": "3.6.8"
  }
 },
 "nbformat": 4,
 "nbformat_minor": 1
}
