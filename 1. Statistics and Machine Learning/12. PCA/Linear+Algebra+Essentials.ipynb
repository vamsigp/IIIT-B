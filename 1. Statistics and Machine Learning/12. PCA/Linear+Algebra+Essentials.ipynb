{
 "cells": [
  {
   "cell_type": "markdown",
   "metadata": {},
   "source": [
    "### Essential Topics of Linear Algebra"
   ]
  },
  {
   "cell_type": "markdown",
   "metadata": {},
   "source": [
    "1. Linear combination\n",
    "2. Basis Vectors\n",
    "3. Linear Transformation\n",
    "4. Eigenvectors and Eigendecomposition"
   ]
  },
  {
   "cell_type": "code",
   "execution_count": 1,
   "metadata": {},
   "outputs": [],
   "source": [
    "import pandas as pd\n",
    "import numpy as np"
   ]
  },
  {
   "cell_type": "markdown",
   "metadata": {},
   "source": [
    "### Linear Combination\n",
    "\n",
    "A linear combination of a set of vectors is an expression obtained by multiplying those set of vectors with a scalar/real number and then adding them up. For example,\n",
    "\n",
    "If you have a set of vectors, say (2,3) and (3,4) a linear combination of these 2 vectors would be m(2,3) + n(3,4), where m and n are some real numbers. Since m and n can take any values, the number of linear combinations are infinite. The linear combination vector would therefore be shown as (2m + 3n , 3m+ 4n)"
   ]
  },
  {
   "cell_type": "code",
   "execution_count": 2,
   "metadata": {},
   "outputs": [
    {
     "data": {
      "text/plain": [
       "array([ 8, 11])"
      ]
     },
     "execution_count": 2,
     "metadata": {},
     "output_type": "execute_result"
    }
   ],
   "source": [
    "#Let's write a short code and understand this concept\n",
    "v1 = np.array([2,3])\n",
    "v2 = np.array([3,4])\n",
    "m = 1\n",
    "n = 2\n",
    "\n",
    "lincom = m*v1 +  n*v2\n",
    "lincom"
   ]
  },
  {
   "cell_type": "markdown",
   "metadata": {},
   "source": [
    "We can do the reverse part as well. That is find the values of m,n for which the given vector is a linear combination of the previous two vectors"
   ]
  },
  {
   "cell_type": "code",
   "execution_count": 3,
   "metadata": {},
   "outputs": [
    {
     "data": {
      "text/plain": [
       "(0.9999999999999994, 2.0000000000000004)"
      ]
     },
     "execution_count": 3,
     "metadata": {},
     "output_type": "execute_result"
    }
   ],
   "source": [
    "#Let's take an example to understand this concept.\n",
    "#We'll be using the np.linalg.solve function from the numpy library\n",
    "\n",
    "lincom2  = ([8,11])\n",
    "setvec = np.array([[2,3],[3,4]])\n",
    "m,n = np.linalg.solve(setvec, lincom2)\n",
    "m,n"
   ]
  },
  {
   "cell_type": "markdown",
   "metadata": {},
   "source": [
    "Thus you've understood how linear combinations work.  Now the next interesting thing to ponder up would be to answer one important question - can every vector in 2-D space be represented as a linear combination of (2,3) and (3,4)? \n",
    "\n",
    "#### Or more generally can any vector in 2-D space be represented as a linear combination of any set of vectors?"
   ]
  },
  {
   "cell_type": "code",
   "execution_count": 4,
   "metadata": {},
   "outputs": [
    {
     "data": {
      "text/plain": [
       "(-15.0, 12.0)"
      ]
     },
     "execution_count": 4,
     "metadata": {},
     "output_type": "execute_result"
    }
   ],
   "source": [
    "#Let's investigate now by taking another set of vectors \n",
    "#We would be using (2,0) and (3,0)\n",
    "lincom2  = ([6,3])\n",
    "setvec = np.array([[2,3],[3,4]])\n",
    "m,n = np.linalg.solve(setvec, lincom2)\n",
    "round(m),round(n) \n"
   ]
  },
  {
   "cell_type": "markdown",
   "metadata": {},
   "source": [
    "The reason why these vectors - (2,0) and (3,0) would throw up an error is because they are collinear, i.e. one of the vectors can be represented as a scalar multiple of the other vector. \n",
    "#### (3,0) = 1.5(2,0).\n",
    "\n",
    "Collinear vectors always have the same direction and can always be represented as a scalar multiple of one another. So, a linear combination of these collinear vectors would also have the same direction,i.e. again be collinear\n",
    "\n",
    "m(3,0) + n(2,0) = (3m+2n,0)\n",
    "\n",
    "Therefore, not all vectors can be represented as a linear combination of these collinear vectors since they might have a different direction from the previous ones."
   ]
  },
  {
   "cell_type": "markdown",
   "metadata": {},
   "source": [
    "### Basis Vectors\n",
    "\n",
    "So if you actually have a set of vectors where no matter what other vector you pick, it can always be represented as a linear combination of that set, then it is known as the basis vectors for that data-space or dimension. For example the vectors (2,3) and (3,4) can represent any other vector in 2-D as a linear combination of themeselves and hence they're a set of basis vectors for the 2-D space."
   ]
  },
  {
   "cell_type": "code",
   "execution_count": 5,
   "metadata": {},
   "outputs": [
    {
     "data": {
      "text/plain": [
       "(-15.0, 12.0)"
      ]
     },
     "execution_count": 5,
     "metadata": {},
     "output_type": "execute_result"
    }
   ],
   "source": [
    "#Verifying the basis vectors once again\n",
    "lincom2  = ([6,3])\n",
    "setvec = np.array([[2,3],[3,4]])\n",
    "m,n = np.linalg.solve(setvec, lincom2)\n",
    "round(m),round(n)"
   ]
  },
  {
   "cell_type": "code",
   "execution_count": 6,
   "metadata": {},
   "outputs": [
    {
     "data": {
      "text/plain": [
       "(6.0, 3.0)"
      ]
     },
     "execution_count": 6,
     "metadata": {},
     "output_type": "execute_result"
    }
   ],
   "source": [
    "#This is also true for the standard basis vectors i(1,0) and j(0,1) that we use\n",
    "lincom2  = ([6,3])\n",
    "setvec = np.array([[1,0],[0,1]])\n",
    "m,n = np.linalg.solve(setvec, lincom2)\n",
    "round(m),round(n) "
   ]
  },
  {
   "cell_type": "markdown",
   "metadata": {},
   "source": [
    "### Some special properties of the standard basis vectors\n",
    "\n",
    "1. It is orthogonal, i.e. the vectors (1,0) and (0,1) are perpendicular to each other.\n",
    "2. It is normalized, i,e. the magnitude of each vectors is 1.\n",
    "\n",
    "Or you can say that it is orthonormal.\n",
    "Let's verify this and check some other orthonormal basis vectors"
   ]
  },
  {
   "cell_type": "code",
   "execution_count": 7,
   "metadata": {},
   "outputs": [
    {
     "data": {
      "text/plain": [
       "0"
      ]
     },
     "execution_count": 7,
     "metadata": {},
     "output_type": "execute_result"
    }
   ],
   "source": [
    "## First we'll see whether they're perpendicular or not. \n",
    "##We'll use the concept of dot products here.\n",
    "## Dot products of perpendicular vectors are always zero\n",
    "setvec = np.array([[1,0],[0,1]])\n",
    "np.dot(setvec[0],setvec[1])"
   ]
  },
  {
   "cell_type": "code",
   "execution_count": 8,
   "metadata": {},
   "outputs": [
    {
     "data": {
      "text/plain": [
       "1.0"
      ]
     },
     "execution_count": 8,
     "metadata": {},
     "output_type": "execute_result"
    }
   ],
   "source": [
    "#Now let's check whether they're normalized or not.\n",
    "##This would mean that each of them would be of unit magnitude\n",
    "np.linalg.norm(setvec[0])"
   ]
  },
  {
   "cell_type": "code",
   "execution_count": 9,
   "metadata": {},
   "outputs": [
    {
     "data": {
      "text/plain": [
       "1.0"
      ]
     },
     "execution_count": 9,
     "metadata": {},
     "output_type": "execute_result"
    }
   ],
   "source": [
    "np.linalg.norm(setvec[1])"
   ]
  },
  {
   "cell_type": "markdown",
   "metadata": {},
   "source": [
    "### Linear Transformations"
   ]
  },
  {
   "cell_type": "markdown",
   "metadata": {},
   "source": [
    "A linear transformation is essentially a matrix transformation on a vector where the vector's geometric properties gets changed  due to elongation, rotation, shifting of axes or some other form of distortion.\n",
    "If L is matrix that denotes the transformation and v is the vector on which the transformation is happening, then the resultant vector is given by Lv. \n"
   ]
  },
  {
   "cell_type": "markdown",
   "metadata": {},
   "source": [
    "Let's go through the following examples to understand how a linear transformation happens and what changes it makes to the dataset."
   ]
  },
  {
   "cell_type": "markdown",
   "metadata": {},
   "source": [
    "####  Elongation \n",
    "\n",
    "First we'll see how multiplying a vector/matrix with another vector elongates it.Let's consider a linear transformation where the original basis vectors i(1,0) and j(0,1) move to the points i'(2,0) and j'(0,1)"
   ]
  },
  {
   "cell_type": "code",
   "execution_count": 10,
   "metadata": {},
   "outputs": [
    {
     "data": {
      "text/html": [
       "<div>\n",
       "<style scoped>\n",
       "    .dataframe tbody tr th:only-of-type {\n",
       "        vertical-align: middle;\n",
       "    }\n",
       "\n",
       "    .dataframe tbody tr th {\n",
       "        vertical-align: top;\n",
       "    }\n",
       "\n",
       "    .dataframe thead th {\n",
       "        text-align: right;\n",
       "    }\n",
       "</style>\n",
       "<table border=\"1\" class=\"dataframe\">\n",
       "  <thead>\n",
       "    <tr style=\"text-align: right;\">\n",
       "      <th></th>\n",
       "      <th>X</th>\n",
       "      <th>Y</th>\n",
       "    </tr>\n",
       "  </thead>\n",
       "  <tbody>\n",
       "    <tr>\n",
       "      <th>0</th>\n",
       "      <td>1</td>\n",
       "      <td>2</td>\n",
       "    </tr>\n",
       "    <tr>\n",
       "      <th>1</th>\n",
       "      <td>-2</td>\n",
       "      <td>3</td>\n",
       "    </tr>\n",
       "    <tr>\n",
       "      <th>2</th>\n",
       "      <td>-2</td>\n",
       "      <td>1</td>\n",
       "    </tr>\n",
       "    <tr>\n",
       "      <th>3</th>\n",
       "      <td>3</td>\n",
       "      <td>7</td>\n",
       "    </tr>\n",
       "    <tr>\n",
       "      <th>4</th>\n",
       "      <td>4</td>\n",
       "      <td>5</td>\n",
       "    </tr>\n",
       "    <tr>\n",
       "      <th>5</th>\n",
       "      <td>6</td>\n",
       "      <td>4</td>\n",
       "    </tr>\n",
       "  </tbody>\n",
       "</table>\n",
       "</div>"
      ],
      "text/plain": [
       "   X  Y\n",
       "0  1  2\n",
       "1 -2  3\n",
       "2 -2  1\n",
       "3  3  7\n",
       "4  4  5\n",
       "5  6  4"
      ]
     },
     "execution_count": 10,
     "metadata": {},
     "output_type": "execute_result"
    }
   ],
   "source": [
    "#Let's create a dataframe matrix here to understand the effect.\n",
    "a = [[1,2],[-2,3],[-2,1],[3,7],[4,5],[6,4]]\n",
    "b = ['X','Y']\n",
    "c = pd.DataFrame(a,columns = b)\n",
    "c"
   ]
  },
  {
   "cell_type": "code",
   "execution_count": 12,
   "metadata": {},
   "outputs": [
    {
     "data": {
      "text/plain": [
       "array([[2, 0],\n",
       "       [0, 1]])"
      ]
     },
     "execution_count": 12,
     "metadata": {},
     "output_type": "execute_result"
    }
   ],
   "source": [
    "## Now let's denote the linear transformation matrix.\n",
    "## (2,0) and (0,1) are the vectors that would denote the columns of this matrix.\n",
    "## Therefore (2,0) and (0,1) would be the rows\n",
    "L = np.array([[2,0],[0,1]])\n",
    "L"
   ]
  },
  {
   "cell_type": "code",
   "execution_count": 13,
   "metadata": {},
   "outputs": [],
   "source": [
    "#Let's apply the transformation now.\n",
    "#Note that we have used c.values to convert that dataframe to a numpy array \n",
    "#And taken its transpose so that the transformation happens on each vector\n",
    "d  = L @ (c.values).T"
   ]
  },
  {
   "cell_type": "code",
   "execution_count": 14,
   "metadata": {},
   "outputs": [
    {
     "data": {
      "text/plain": [
       "array([[ 2,  2],\n",
       "       [-4,  3],\n",
       "       [-4,  1],\n",
       "       [ 6,  7],\n",
       "       [ 8,  5],\n",
       "       [12,  4]], dtype=int64)"
      ]
     },
     "execution_count": 14,
     "metadata": {},
     "output_type": "execute_result"
    }
   ],
   "source": [
    "#Now let's show the final changed matrix by findings the transpose again.\n",
    "d.T"
   ]
  },
  {
   "cell_type": "markdown",
   "metadata": {},
   "source": [
    "#### Shifting of axes\n",
    "\n",
    "Let's say from the original basis vectors i(1,0) and j(0,1) we want to shift it to the new orthonormal basis vectors i'(0.8,0.6) and j'(-0.6,0.8). "
   ]
  },
  {
   "cell_type": "code",
   "execution_count": 15,
   "metadata": {},
   "outputs": [],
   "source": [
    "L = np.array([[0.8,-0.6],[0.6,0.8]])"
   ]
  },
  {
   "cell_type": "code",
   "execution_count": 16,
   "metadata": {},
   "outputs": [
    {
     "data": {
      "text/plain": [
       "array([[-0.4,  2.2],\n",
       "       [-3.4,  1.2],\n",
       "       [-2.2, -0.4],\n",
       "       [-1.8,  7.4],\n",
       "       [ 0.2,  6.4],\n",
       "       [ 2.4,  6.8]])"
      ]
     },
     "execution_count": 16,
     "metadata": {},
     "output_type": "execute_result"
    }
   ],
   "source": [
    "d  = L @ (c.values).T\n",
    "d.T"
   ]
  },
  {
   "cell_type": "markdown",
   "metadata": {},
   "source": [
    "This is also known as BASIS TRANSFORMATION where you shift the original standard basis to a new basis"
   ]
  },
  {
   "cell_type": "markdown",
   "metadata": {},
   "source": [
    "### Eigenvectors and Eigendecomposition\n",
    "\n",
    "A special kind of linear transformation that can happen to a vector is that when a matrix is multiplied to it, it only manages to stretch the vector by a certain scalar magnitude. These vectors are known as eigenvectors for that particular matrix and that scalar magnitude is known as the corresponding eigenvalue. Formally, they can be written as follows,"
   ]
  },
  {
   "cell_type": "markdown",
   "metadata": {},
   "source": [
    "Av = λv , where A is the original matrix / linear transformation, v is the eigenvector and λ is the corresponding eigenvalue."
   ]
  },
  {
   "cell_type": "markdown",
   "metadata": {},
   "source": [
    "Let's go through a few demonstrations to understand how they can be derived. Observe that here we are going the reverse route. Instead of finding the effect the linear transformation matrix has on the vector, in this case, we have the matrix and the effect it generates. We need to find all the vectors where this effect is visible."
   ]
  },
  {
   "cell_type": "code",
   "execution_count": 17,
   "metadata": {},
   "outputs": [
    {
     "data": {
      "text/plain": [
       "array([[2, 1],\n",
       "       [1, 2]])"
      ]
     },
     "execution_count": 17,
     "metadata": {},
     "output_type": "execute_result"
    }
   ],
   "source": [
    "#Let's take the following matrix as an example\n",
    "A = np.array([[2,1],[1,2]])\n",
    "A"
   ]
  },
  {
   "cell_type": "code",
   "execution_count": 18,
   "metadata": {},
   "outputs": [
    {
     "data": {
      "text/plain": [
       "(array([3., 1.]), array([[ 0.70710678, -0.70710678],\n",
       "        [ 0.70710678,  0.70710678]]))"
      ]
     },
     "execution_count": 18,
     "metadata": {},
     "output_type": "execute_result"
    }
   ],
   "source": [
    "#Let's find the eigenvectors of A. Note that both the eigenvectors and eigenvalues are different.\n",
    "K = np.linalg.eig(A)\n",
    "K"
   ]
  },
  {
   "cell_type": "code",
   "execution_count": 19,
   "metadata": {},
   "outputs": [
    {
     "data": {
      "text/plain": [
       "array([3., 1.])"
      ]
     },
     "execution_count": 19,
     "metadata": {},
     "output_type": "execute_result"
    }
   ],
   "source": [
    "#Eigenvalues\n",
    "K[0]"
   ]
  },
  {
   "cell_type": "code",
   "execution_count": 20,
   "metadata": {},
   "outputs": [
    {
     "data": {
      "text/plain": [
       "array([[ 0.70710678, -0.70710678],\n",
       "       [ 0.70710678,  0.70710678]])"
      ]
     },
     "execution_count": 20,
     "metadata": {},
     "output_type": "execute_result"
    }
   ],
   "source": [
    "#Eigenvectors\n",
    "K[1]"
   ]
  },
  {
   "cell_type": "code",
   "execution_count": 23,
   "metadata": {},
   "outputs": [
    {
     "data": {
      "text/plain": [
       "array([2.12132034, 2.12132034])"
      ]
     },
     "execution_count": 23,
     "metadata": {},
     "output_type": "execute_result"
    }
   ],
   "source": [
    "#let's verify them once again. First let's calculate Av\n",
    "A @ (K[1].T)[0]"
   ]
  },
  {
   "cell_type": "code",
   "execution_count": 24,
   "metadata": {},
   "outputs": [
    {
     "data": {
      "text/plain": [
       "array([2.12132034, 2.12132034])"
      ]
     },
     "execution_count": 24,
     "metadata": {},
     "output_type": "execute_result"
    }
   ],
   "source": [
    "#Now let's calculate λv.\n",
    "3*(K[1].T)[0]"
   ]
  },
  {
   "cell_type": "markdown",
   "metadata": {},
   "source": [
    "As you can see Av = λv has been verified."
   ]
  },
  {
   "cell_type": "markdown",
   "metadata": {},
   "source": [
    "#### Let's use the results we've obtained till now to do a neat little matrix manipulation that leads to a very important observation."
   ]
  },
  {
   "cell_type": "code",
   "execution_count": 25,
   "metadata": {},
   "outputs": [
    {
     "data": {
      "text/plain": [
       "array([[3., 0.],\n",
       "       [0., 1.]])"
      ]
     },
     "execution_count": 25,
     "metadata": {},
     "output_type": "execute_result"
    }
   ],
   "source": [
    "np.diag(K[0])"
   ]
  },
  {
   "cell_type": "code",
   "execution_count": 26,
   "metadata": {},
   "outputs": [
    {
     "data": {
      "text/plain": [
       "array([[3, 0],\n",
       "       [0, 1]])"
      ]
     },
     "execution_count": 26,
     "metadata": {},
     "output_type": "execute_result"
    }
   ],
   "source": [
    "#First let's arrange the eigenvalues along the diagonal of a square matrix.\n",
    "S = np.array([[3,0], [0,1]])\n",
    "S"
   ]
  },
  {
   "cell_type": "code",
   "execution_count": 27,
   "metadata": {},
   "outputs": [
    {
     "data": {
      "text/plain": [
       "array([[ 0.70710678, -0.70710678],\n",
       "       [ 0.70710678,  0.70710678]])"
      ]
     },
     "execution_count": 27,
     "metadata": {},
     "output_type": "execute_result"
    }
   ],
   "source": [
    "Q=K[1]\n",
    "Q"
   ]
  },
  {
   "cell_type": "code",
   "execution_count": 28,
   "metadata": {},
   "outputs": [
    {
     "data": {
      "text/plain": [
       "array([[ 0.70710678,  0.70710678],\n",
       "       [-0.70710678,  0.70710678]])"
      ]
     },
     "execution_count": 28,
     "metadata": {},
     "output_type": "execute_result"
    }
   ],
   "source": [
    "P = np.linalg.inv(Q)\n",
    "P"
   ]
  },
  {
   "cell_type": "code",
   "execution_count": 29,
   "metadata": {},
   "outputs": [
    {
     "data": {
      "text/plain": [
       "array([[2., 1.],\n",
       "       [1., 2.]])"
      ]
     },
     "execution_count": 29,
     "metadata": {},
     "output_type": "execute_result"
    }
   ],
   "source": [
    "#Let's compute the product of the three matrices obtained in the following order.\n",
    "Q @ S @ P"
   ]
  },
  {
   "cell_type": "markdown",
   "metadata": {},
   "source": [
    "## We've obtained the original matrix that we started with!\n",
    "\n",
    "This trick that we just did is called the eigendecomposition of a matrix, which states that as long as A is a square diagonalizable matrix, it can always be decomposed into 3 matrices Q, S and P, where\n",
    "\n",
    "1. Q is the eigenvector matrix\n",
    "2. S is a diagonal matrix with the eigenvalues as the diagonal elements\n",
    "3. P is the inverse of the matrix Q."
   ]
  },
  {
   "cell_type": "code",
   "execution_count": null,
   "metadata": {},
   "outputs": [],
   "source": []
  },
  {
   "cell_type": "code",
   "execution_count": 34,
   "metadata": {},
   "outputs": [
    {
     "name": "stdout",
     "output_type": "stream",
     "text": [
      "-1.0 -8.0 12.0\n"
     ]
    }
   ],
   "source": [
    "a = np.array([[1,2,3],[4,5,6],[1,2,6]])\n",
    "sol = ([19,29,54])\n",
    "\n",
    "x1,x2,x3 = np.linalg.solve(a, sol)\n",
    "\n",
    "print(round(x1), round(x2), round(x3))"
   ]
  },
  {
   "cell_type": "code",
   "execution_count": 35,
   "metadata": {},
   "outputs": [
    {
     "data": {
      "text/plain": [
       "0"
      ]
     },
     "execution_count": 35,
     "metadata": {},
     "output_type": "execute_result"
    }
   ],
   "source": [
    "setvec = np.array([[1,0],[0,1]])\n",
    "np.dot(setvec[0],setvec[1])"
   ]
  },
  {
   "cell_type": "code",
   "execution_count": 40,
   "metadata": {},
   "outputs": [
    {
     "name": "stdout",
     "output_type": "stream",
     "text": [
      "0\n",
      "2.23606797749979 2.23606797749979\n"
     ]
    }
   ],
   "source": [
    "c = np.array([[-1,-2],[2,-1]])\n",
    "c = np.array([[-1,2],[-2,-1]])\n",
    "print(np.dot(c[0],c[1]))\n",
    "print(np.linalg.norm(c[0]), np.linalg.norm(c[1]))"
   ]
  },
  {
   "cell_type": "code",
   "execution_count": null,
   "metadata": {},
   "outputs": [],
   "source": []
  },
  {
   "cell_type": "code",
   "execution_count": null,
   "metadata": {},
   "outputs": [],
   "source": []
  },
  {
   "cell_type": "code",
   "execution_count": 41,
   "metadata": {},
   "outputs": [
    {
     "data": {
      "text/plain": [
       "array([[1, 4],\n",
       "       [4, 2]])"
      ]
     },
     "execution_count": 41,
     "metadata": {},
     "output_type": "execute_result"
    }
   ],
   "source": [
    "d = np.array([[1,4],[4,2]])\n",
    "d"
   ]
  },
  {
   "cell_type": "code",
   "execution_count": 43,
   "metadata": {},
   "outputs": [
    {
     "data": {
      "text/plain": [
       "array([[1, 2],\n",
       "       [3, 4],\n",
       "       [5, 6],\n",
       "       [7, 8]])"
      ]
     },
     "execution_count": 43,
     "metadata": {},
     "output_type": "execute_result"
    }
   ],
   "source": [
    "x = np.array([[1,2],[3,4],[5,6],[7,8]])\n",
    "x"
   ]
  },
  {
   "cell_type": "code",
   "execution_count": 45,
   "metadata": {},
   "outputs": [
    {
     "data": {
      "text/plain": [
       "array([[ 9,  8],\n",
       "       [19, 20],\n",
       "       [29, 32],\n",
       "       [39, 44]])"
      ]
     },
     "execution_count": 45,
     "metadata": {},
     "output_type": "execute_result"
    }
   ],
   "source": [
    "(d @ x.T).T"
   ]
  },
  {
   "cell_type": "code",
   "execution_count": null,
   "metadata": {},
   "outputs": [],
   "source": []
  }
 ],
 "metadata": {
  "kernelspec": {
   "display_name": "Python 3",
   "language": "python",
   "name": "python3"
  },
  "language_info": {
   "codemirror_mode": {
    "name": "ipython",
    "version": 3
   },
   "file_extension": ".py",
   "mimetype": "text/x-python",
   "name": "python",
   "nbconvert_exporter": "python",
   "pygments_lexer": "ipython3",
   "version": "3.6.8"
  }
 },
 "nbformat": 4,
 "nbformat_minor": 2
}
