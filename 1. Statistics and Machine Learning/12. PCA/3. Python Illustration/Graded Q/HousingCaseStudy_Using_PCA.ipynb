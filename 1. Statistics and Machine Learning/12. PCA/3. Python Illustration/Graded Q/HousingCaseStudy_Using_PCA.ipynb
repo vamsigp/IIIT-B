{
 "cells": [
  {
   "cell_type": "markdown",
   "metadata": {},
   "source": [
    "### Importing and Understanding Data"
   ]
  },
  {
   "cell_type": "code",
   "execution_count": 1,
   "metadata": {},
   "outputs": [],
   "source": [
    "import pandas as pd\n",
    "import numpy as np"
   ]
  },
  {
   "cell_type": "code",
   "execution_count": 2,
   "metadata": {},
   "outputs": [],
   "source": [
    "# Importing Housing.csv\n",
    "housing = pd.read_csv('newhousing.csv')"
   ]
  },
  {
   "cell_type": "code",
   "execution_count": 3,
   "metadata": {},
   "outputs": [
    {
     "data": {
      "text/html": [
       "<div>\n",
       "<style scoped>\n",
       "    .dataframe tbody tr th:only-of-type {\n",
       "        vertical-align: middle;\n",
       "    }\n",
       "\n",
       "    .dataframe tbody tr th {\n",
       "        vertical-align: top;\n",
       "    }\n",
       "\n",
       "    .dataframe thead th {\n",
       "        text-align: right;\n",
       "    }\n",
       "</style>\n",
       "<table border=\"1\" class=\"dataframe\">\n",
       "  <thead>\n",
       "    <tr style=\"text-align: right;\">\n",
       "      <th></th>\n",
       "      <th>price</th>\n",
       "      <th>area</th>\n",
       "      <th>bedrooms</th>\n",
       "      <th>bathrooms</th>\n",
       "      <th>stories</th>\n",
       "      <th>mainroad</th>\n",
       "      <th>guestroom</th>\n",
       "      <th>basement</th>\n",
       "      <th>hotwaterheating</th>\n",
       "      <th>airconditioning</th>\n",
       "      <th>parking</th>\n",
       "      <th>prefarea</th>\n",
       "      <th>semi-furnished</th>\n",
       "      <th>unfurnished</th>\n",
       "      <th>areaperbedroom</th>\n",
       "      <th>bbratio</th>\n",
       "    </tr>\n",
       "  </thead>\n",
       "  <tbody>\n",
       "    <tr>\n",
       "      <th>0</th>\n",
       "      <td>5250000</td>\n",
       "      <td>5500</td>\n",
       "      <td>3</td>\n",
       "      <td>2</td>\n",
       "      <td>1</td>\n",
       "      <td>1</td>\n",
       "      <td>0</td>\n",
       "      <td>1</td>\n",
       "      <td>0</td>\n",
       "      <td>0</td>\n",
       "      <td>0</td>\n",
       "      <td>0</td>\n",
       "      <td>1</td>\n",
       "      <td>0</td>\n",
       "      <td>1833.333333</td>\n",
       "      <td>0.666667</td>\n",
       "    </tr>\n",
       "    <tr>\n",
       "      <th>1</th>\n",
       "      <td>4480000</td>\n",
       "      <td>4040</td>\n",
       "      <td>3</td>\n",
       "      <td>1</td>\n",
       "      <td>2</td>\n",
       "      <td>1</td>\n",
       "      <td>0</td>\n",
       "      <td>0</td>\n",
       "      <td>0</td>\n",
       "      <td>0</td>\n",
       "      <td>1</td>\n",
       "      <td>0</td>\n",
       "      <td>1</td>\n",
       "      <td>0</td>\n",
       "      <td>1346.666667</td>\n",
       "      <td>0.333333</td>\n",
       "    </tr>\n",
       "    <tr>\n",
       "      <th>2</th>\n",
       "      <td>3570000</td>\n",
       "      <td>3640</td>\n",
       "      <td>2</td>\n",
       "      <td>1</td>\n",
       "      <td>1</td>\n",
       "      <td>1</td>\n",
       "      <td>0</td>\n",
       "      <td>0</td>\n",
       "      <td>0</td>\n",
       "      <td>0</td>\n",
       "      <td>0</td>\n",
       "      <td>0</td>\n",
       "      <td>0</td>\n",
       "      <td>1</td>\n",
       "      <td>1820.000000</td>\n",
       "      <td>0.500000</td>\n",
       "    </tr>\n",
       "    <tr>\n",
       "      <th>3</th>\n",
       "      <td>2870000</td>\n",
       "      <td>3040</td>\n",
       "      <td>2</td>\n",
       "      <td>1</td>\n",
       "      <td>1</td>\n",
       "      <td>0</td>\n",
       "      <td>0</td>\n",
       "      <td>0</td>\n",
       "      <td>0</td>\n",
       "      <td>0</td>\n",
       "      <td>0</td>\n",
       "      <td>0</td>\n",
       "      <td>0</td>\n",
       "      <td>1</td>\n",
       "      <td>1520.000000</td>\n",
       "      <td>0.500000</td>\n",
       "    </tr>\n",
       "    <tr>\n",
       "      <th>4</th>\n",
       "      <td>3570000</td>\n",
       "      <td>4500</td>\n",
       "      <td>2</td>\n",
       "      <td>1</td>\n",
       "      <td>1</td>\n",
       "      <td>0</td>\n",
       "      <td>0</td>\n",
       "      <td>0</td>\n",
       "      <td>0</td>\n",
       "      <td>0</td>\n",
       "      <td>0</td>\n",
       "      <td>0</td>\n",
       "      <td>0</td>\n",
       "      <td>0</td>\n",
       "      <td>2250.000000</td>\n",
       "      <td>0.500000</td>\n",
       "    </tr>\n",
       "  </tbody>\n",
       "</table>\n",
       "</div>"
      ],
      "text/plain": [
       "     price  area  bedrooms  bathrooms  stories  mainroad  guestroom  basement  \\\n",
       "0  5250000  5500         3          2        1         1          0         1   \n",
       "1  4480000  4040         3          1        2         1          0         0   \n",
       "2  3570000  3640         2          1        1         1          0         0   \n",
       "3  2870000  3040         2          1        1         0          0         0   \n",
       "4  3570000  4500         2          1        1         0          0         0   \n",
       "\n",
       "   hotwaterheating  airconditioning  parking  prefarea  semi-furnished  \\\n",
       "0                0                0        0         0               1   \n",
       "1                0                0        1         0               1   \n",
       "2                0                0        0         0               0   \n",
       "3                0                0        0         0               0   \n",
       "4                0                0        0         0               0   \n",
       "\n",
       "   unfurnished  areaperbedroom   bbratio  \n",
       "0            0     1833.333333  0.666667  \n",
       "1            0     1346.666667  0.333333  \n",
       "2            1     1820.000000  0.500000  \n",
       "3            1     1520.000000  0.500000  \n",
       "4            0     2250.000000  0.500000  "
      ]
     },
     "execution_count": 3,
     "metadata": {},
     "output_type": "execute_result"
    }
   ],
   "source": [
    "# Looking at the first five rows\n",
    "housing.head()"
   ]
  },
  {
   "cell_type": "code",
   "execution_count": 4,
   "metadata": {},
   "outputs": [
    {
     "data": {
      "text/plain": [
       "(545, 16)"
      ]
     },
     "execution_count": 4,
     "metadata": {},
     "output_type": "execute_result"
    }
   ],
   "source": [
    "housing.shape"
   ]
  },
  {
   "cell_type": "code",
   "execution_count": 5,
   "metadata": {},
   "outputs": [
    {
     "name": "stdout",
     "output_type": "stream",
     "text": [
      "<class 'pandas.core.frame.DataFrame'>\n",
      "RangeIndex: 545 entries, 0 to 544\n",
      "Data columns (total 16 columns):\n",
      "price              545 non-null int64\n",
      "area               545 non-null int64\n",
      "bedrooms           545 non-null int64\n",
      "bathrooms          545 non-null int64\n",
      "stories            545 non-null int64\n",
      "mainroad           545 non-null int64\n",
      "guestroom          545 non-null int64\n",
      "basement           545 non-null int64\n",
      "hotwaterheating    545 non-null int64\n",
      "airconditioning    545 non-null int64\n",
      "parking            545 non-null int64\n",
      "prefarea           545 non-null int64\n",
      "semi-furnished     545 non-null int64\n",
      "unfurnished        545 non-null int64\n",
      "areaperbedroom     545 non-null float64\n",
      "bbratio            545 non-null float64\n",
      "dtypes: float64(2), int64(14)\n",
      "memory usage: 68.2 KB\n"
     ]
    }
   ],
   "source": [
    "# What type of values are stored in the columns?\n",
    "housing.info()"
   ]
  },
  {
   "cell_type": "markdown",
   "metadata": {},
   "source": [
    "## Splitting Data into Training and Testing Sets"
   ]
  },
  {
   "cell_type": "code",
   "execution_count": 6,
   "metadata": {},
   "outputs": [
    {
     "data": {
      "text/plain": [
       "Index(['price', 'area', 'bedrooms', 'bathrooms', 'stories', 'mainroad',\n",
       "       'guestroom', 'basement', 'hotwaterheating', 'airconditioning',\n",
       "       'parking', 'prefarea', 'semi-furnished', 'unfurnished',\n",
       "       'areaperbedroom', 'bbratio'],\n",
       "      dtype='object')"
      ]
     },
     "execution_count": 6,
     "metadata": {},
     "output_type": "execute_result"
    }
   ],
   "source": [
    "housing.columns"
   ]
  },
  {
   "cell_type": "code",
   "execution_count": 7,
   "metadata": {},
   "outputs": [],
   "source": [
    "# Putting feature variable to X\n",
    "X = housing[['area', 'bedrooms', 'bathrooms', 'stories', 'mainroad',\n",
    "       'guestroom', 'basement', 'hotwaterheating', 'airconditioning',\n",
    "       'parking', 'prefarea', 'semi-furnished', 'unfurnished',\n",
    "       'areaperbedroom', 'bbratio']]\n",
    "\n",
    "# Putting response variable to y\n",
    "y = housing['price']"
   ]
  },
  {
   "cell_type": "code",
   "execution_count": 8,
   "metadata": {},
   "outputs": [
    {
     "data": {
      "text/plain": [
       "<matplotlib.axes._subplots.AxesSubplot at 0x248d79419b0>"
      ]
     },
     "execution_count": 8,
     "metadata": {},
     "output_type": "execute_result"
    },
    {
     "data": {
      "image/png": "[encoded data removed]",
      "text/plain": [
       "<Figure size 1152x720 with 2 Axes>"
      ]
     },
     "metadata": {
      "needs_background": "light"
     },
     "output_type": "display_data"
    }
   ],
   "source": [
    "# Importing matplotlib and seaborn\n",
    "import matplotlib.pyplot as plt\n",
    "import seaborn as sns\n",
    "%matplotlib inline\n",
    "# Let's see the correlation matrix \n",
    "plt.figure(figsize = (16,10))     # Size of the figure\n",
    "sns.heatmap(X.corr(),annot = True)"
   ]
  },
  {
   "cell_type": "code",
   "execution_count": 9,
   "metadata": {},
   "outputs": [],
   "source": [
    "#creating correlation matrix for the given data\n",
    "corrmat = np.corrcoef(X.transpose())"
   ]
  },
  {
   "cell_type": "code",
   "execution_count": 10,
   "metadata": {},
   "outputs": [],
   "source": [
    "#Make a diagonal matrix with diagonal entry of Matrix corrmat\n",
    "p=np.diagflat(corrmat.diagonal())"
   ]
  },
  {
   "cell_type": "code",
   "execution_count": 11,
   "metadata": {},
   "outputs": [
    {
     "name": "stdout",
     "output_type": "stream",
     "text": [
      "max corr: 0.8056104195904634 , min corr:  -0.5884049771343843\n"
     ]
    }
   ],
   "source": [
    "# subtract diagonal entries making all diagonals 0\n",
    "corrmat_diag_zero = corrmat - p\n",
    "print(\"max corr:\",corrmat_diag_zero.max(), \", min corr: \", corrmat_diag_zero.min(),)\n"
   ]
  },
  {
   "cell_type": "code",
   "execution_count": null,
   "metadata": {},
   "outputs": [],
   "source": []
  },
  {
   "cell_type": "code",
   "execution_count": 12,
   "metadata": {},
   "outputs": [
    {
     "name": "stdout",
     "output_type": "stream",
     "text": [
      "ij_max (0, 13)\n",
      "Maximum correlation : 0.8056104195904634\n"
     ]
    }
   ],
   "source": [
    "# Retrieve the (i,j) index for which matrix has maximum value\n",
    "ij_max = np.unravel_index(corrmat_diag_zero.argmax(), corrmat_diag_zero.shape)\n",
    "print(\"ij_max\",ij_max)\n",
    "print(\"Maximum correlation :\",corrmat_diag_zero[ij_max])"
   ]
  },
  {
   "cell_type": "code",
   "execution_count": 13,
   "metadata": {},
   "outputs": [
    {
     "name": "stdout",
     "output_type": "stream",
     "text": [
      "ij_min (3, 11)\n",
      "Minimum correlation : -0.0036483046040634956\n"
     ]
    }
   ],
   "source": [
    "# Retrieve the (i,j) index for which matrix has absolute minimum value\n",
    "ij_min = np.unravel_index(np.absolute(corrmat).argmin(), corrmat.shape)\n",
    "print(\"ij_min\",ij_min)\n",
    "print(\"Minimum correlation :\",corrmat_diag_zero[ij_min])"
   ]
  },
  {
   "cell_type": "code",
   "execution_count": 14,
   "metadata": {},
   "outputs": [],
   "source": [
    "#random_state is the seed used by the random number generator, it can be any integer.\n",
    "from sklearn.model_selection import train_test_split\n",
    "X_train, X_test, y_train, y_test = train_test_split(X, y, train_size=0.7 ,test_size = 0.3, random_state=100)"
   ]
  },
  {
   "cell_type": "markdown",
   "metadata": {},
   "source": [
    "### Question No. 1 --\n"
   ]
  },
  {
   "cell_type": "code",
   "execution_count": 15,
   "metadata": {},
   "outputs": [
    {
     "data": {
      "text/plain": [
       "(381, 15)"
      ]
     },
     "execution_count": 15,
     "metadata": {},
     "output_type": "execute_result"
    }
   ],
   "source": [
    "X_train.shape\n",
    "# We have 15 variables after splitting the data"
   ]
  },
  {
   "cell_type": "code",
   "execution_count": 16,
   "metadata": {},
   "outputs": [
    {
     "name": "stderr",
     "output_type": "stream",
     "text": [
      "C:\\Anaconda3\\lib\\site-packages\\sklearn\\preprocessing\\data.py:645: DataConversionWarning: Data with input dtype int64, float64 were all converted to float64 by StandardScaler.\n",
      "  return self.partial_fit(X, y)\n",
      "C:\\Anaconda3\\lib\\site-packages\\sklearn\\utils\\validation.py:595: DataConversionWarning: Data with input dtype int64 was converted to float64 by StandardScaler.\n",
      "  warnings.warn(msg, DataConversionWarning)\n",
      "C:\\Anaconda3\\lib\\site-packages\\ipykernel_launcher.py:4: DataConversionWarning: Data with input dtype int64, float64 were all converted to float64 by StandardScaler.\n",
      "  after removing the cwd from sys.path.\n",
      "C:\\Anaconda3\\lib\\site-packages\\sklearn\\utils\\validation.py:595: DataConversionWarning: Data with input dtype int64 was converted to float64 by StandardScaler.\n",
      "  warnings.warn(msg, DataConversionWarning)\n"
     ]
    }
   ],
   "source": [
    "from sklearn import preprocessing\n",
    "X_scaler = preprocessing.StandardScaler().fit(X_train)\n",
    "y_scaler = preprocessing.StandardScaler().fit(y_train.values.reshape(-1,1))\n",
    "Xtrain=X_scaler.transform(X_train) \n",
    "ytrain=y_scaler.transform(y_train.values.reshape(-1,1)) "
   ]
  },
  {
   "cell_type": "code",
   "execution_count": 17,
   "metadata": {},
   "outputs": [
    {
     "data": {
      "text/plain": [
       "(381, 15)"
      ]
     },
     "execution_count": 17,
     "metadata": {},
     "output_type": "execute_result"
    }
   ],
   "source": [
    "Xtrain.shape"
   ]
  },
  {
   "cell_type": "code",
   "execution_count": 18,
   "metadata": {},
   "outputs": [
    {
     "data": {
      "text/plain": [
       "4.98610656210858"
      ]
     },
     "execution_count": 18,
     "metadata": {},
     "output_type": "execute_result"
    }
   ],
   "source": [
    "xtrain_df = pd.DataFrame(Xtrain,columns=X_train.columns)\n",
    "Xtrain[:,0].max()\n",
    "xtrain_df['area'].max()"
   ]
  },
  {
   "cell_type": "code",
   "execution_count": 19,
   "metadata": {},
   "outputs": [
    {
     "data": {
      "text/plain": [
       "(381, 1)"
      ]
     },
     "execution_count": 19,
     "metadata": {},
     "output_type": "execute_result"
    }
   ],
   "source": [
    "ytrain.shape"
   ]
  },
  {
   "cell_type": "code",
   "execution_count": 20,
   "metadata": {},
   "outputs": [
    {
     "name": "stderr",
     "output_type": "stream",
     "text": [
      "C:\\Anaconda3\\lib\\site-packages\\ipykernel_launcher.py:1: DataConversionWarning: Data with input dtype int64, float64 were all converted to float64 by StandardScaler.\n",
      "  \"\"\"Entry point for launching an IPython kernel.\n",
      "C:\\Anaconda3\\lib\\site-packages\\sklearn\\utils\\validation.py:595: DataConversionWarning: Data with input dtype int64 was converted to float64 by StandardScaler.\n",
      "  warnings.warn(msg, DataConversionWarning)\n"
     ]
    }
   ],
   "source": [
    "Xtest=X_scaler.transform(X_test) \n",
    "ytest=y_scaler.transform(y_test.values.reshape(-1,1))"
   ]
  },
  {
   "cell_type": "code",
   "execution_count": null,
   "metadata": {},
   "outputs": [],
   "source": []
  },
  {
   "cell_type": "code",
   "execution_count": 21,
   "metadata": {},
   "outputs": [
    {
     "data": {
      "text/plain": [
       "-0.4323377011671169"
      ]
     },
     "execution_count": 21,
     "metadata": {},
     "output_type": "execute_result"
    }
   ],
   "source": [
    "xtest_df = pd.DataFrame(Xtest,columns=X_train.columns)\n",
    "xtest_df['guestroom'].min()"
   ]
  },
  {
   "cell_type": "markdown",
   "metadata": {},
   "source": [
    "### Question No. 2 --"
   ]
  },
  {
   "cell_type": "code",
   "execution_count": 22,
   "metadata": {},
   "outputs": [],
   "source": [
    "import matplotlib.pyplot as plt\n",
    "import numpy as np\n",
    "from sklearn import  linear_model\n",
    "from sklearn.metrics import mean_squared_error, r2_score\n",
    "# Create linear regression object\n",
    "regr = linear_model.LinearRegression()\n",
    "# Train the model using the training sets\n",
    "regr.fit(Xtrain, ytrain)\n",
    "# Make predictions using the testing set\n",
    "y_pred = regr.predict(Xtest)"
   ]
  },
  {
   "cell_type": "code",
   "execution_count": 23,
   "metadata": {},
   "outputs": [
    {
     "name": "stdout",
     "output_type": "stream",
     "text": [
      "Mean squared error: 0.35\n",
      "R2 score: 0.65\n"
     ]
    }
   ],
   "source": [
    "print(\"Mean squared error: %.2f\" % mean_squared_error(ytest, y_pred))\n",
    "# Explained variance score: 1 is perfect prediction\n",
    "print('R2 score: %.2f' % r2_score(ytest, y_pred))"
   ]
  },
  {
   "cell_type": "code",
   "execution_count": null,
   "metadata": {},
   "outputs": [],
   "source": []
  },
  {
   "cell_type": "code",
   "execution_count": 24,
   "metadata": {},
   "outputs": [
    {
     "data": {
      "text/plain": [
       "0.650291403036704"
      ]
     },
     "execution_count": 24,
     "metadata": {},
     "output_type": "execute_result"
    }
   ],
   "source": [
    "from sklearn.metrics import explained_variance_score\n",
    "explained_variance_score(ytest, y_pred) "
   ]
  },
  {
   "cell_type": "markdown",
   "metadata": {},
   "source": [
    "### Question No. 3 --"
   ]
  },
  {
   "cell_type": "code",
   "execution_count": 25,
   "metadata": {},
   "outputs": [],
   "source": [
    "#Importing the PCA module\n",
    "from sklearn.decomposition import PCA\n",
    "pca = PCA( random_state=100)"
   ]
  },
  {
   "cell_type": "code",
   "execution_count": 26,
   "metadata": {},
   "outputs": [
    {
     "data": {
      "text/plain": [
       "PCA(copy=True, iterated_power='auto', n_components=None, random_state=100,\n",
       "  svd_solver='auto', tol=0.0, whiten=False)"
      ]
     },
     "execution_count": 26,
     "metadata": {},
     "output_type": "execute_result"
    }
   ],
   "source": [
    "#Doing the PCA on the train data\n",
    "pca.fit(Xtrain)"
   ]
  },
  {
   "cell_type": "code",
   "execution_count": 27,
   "metadata": {},
   "outputs": [
    {
     "data": {
      "text/html": [
       "<div>\n",
       "<style scoped>\n",
       "    .dataframe tbody tr th:only-of-type {\n",
       "        vertical-align: middle;\n",
       "    }\n",
       "\n",
       "    .dataframe tbody tr th {\n",
       "        vertical-align: top;\n",
       "    }\n",
       "\n",
       "    .dataframe thead th {\n",
       "        text-align: right;\n",
       "    }\n",
       "</style>\n",
       "<table border=\"1\" class=\"dataframe\">\n",
       "  <thead>\n",
       "    <tr style=\"text-align: right;\">\n",
       "      <th></th>\n",
       "      <th>PC1</th>\n",
       "      <th>PC2</th>\n",
       "      <th>Feature</th>\n",
       "    </tr>\n",
       "  </thead>\n",
       "  <tbody>\n",
       "    <tr>\n",
       "      <th>0</th>\n",
       "      <td>0.466911</td>\n",
       "      <td>0.253614</td>\n",
       "      <td>area</td>\n",
       "    </tr>\n",
       "    <tr>\n",
       "      <th>1</th>\n",
       "      <td>0.131123</td>\n",
       "      <td>-0.501994</td>\n",
       "      <td>bedrooms</td>\n",
       "    </tr>\n",
       "    <tr>\n",
       "      <th>2</th>\n",
       "      <td>0.320620</td>\n",
       "      <td>-0.322073</td>\n",
       "      <td>bathrooms</td>\n",
       "    </tr>\n",
       "    <tr>\n",
       "      <th>3</th>\n",
       "      <td>0.181371</td>\n",
       "      <td>-0.391036</td>\n",
       "      <td>stories</td>\n",
       "    </tr>\n",
       "    <tr>\n",
       "      <th>4</th>\n",
       "      <td>0.298975</td>\n",
       "      <td>0.132957</td>\n",
       "      <td>mainroad</td>\n",
       "    </tr>\n",
       "    <tr>\n",
       "      <th>5</th>\n",
       "      <td>0.202099</td>\n",
       "      <td>-0.060133</td>\n",
       "      <td>guestroom</td>\n",
       "    </tr>\n",
       "    <tr>\n",
       "      <th>6</th>\n",
       "      <td>0.149324</td>\n",
       "      <td>-0.043661</td>\n",
       "      <td>basement</td>\n",
       "    </tr>\n",
       "    <tr>\n",
       "      <th>7</th>\n",
       "      <td>0.004933</td>\n",
       "      <td>-0.122714</td>\n",
       "      <td>hotwaterheating</td>\n",
       "    </tr>\n",
       "    <tr>\n",
       "      <th>8</th>\n",
       "      <td>0.257295</td>\n",
       "      <td>-0.113094</td>\n",
       "      <td>airconditioning</td>\n",
       "    </tr>\n",
       "    <tr>\n",
       "      <th>9</th>\n",
       "      <td>0.332199</td>\n",
       "      <td>0.046879</td>\n",
       "      <td>parking</td>\n",
       "    </tr>\n",
       "    <tr>\n",
       "      <th>10</th>\n",
       "      <td>0.236127</td>\n",
       "      <td>0.040036</td>\n",
       "      <td>prefarea</td>\n",
       "    </tr>\n",
       "    <tr>\n",
       "      <th>11</th>\n",
       "      <td>0.114761</td>\n",
       "      <td>-0.224264</td>\n",
       "      <td>semi-furnished</td>\n",
       "    </tr>\n",
       "    <tr>\n",
       "      <th>12</th>\n",
       "      <td>-0.247093</td>\n",
       "      <td>0.228075</td>\n",
       "      <td>unfurnished</td>\n",
       "    </tr>\n",
       "    <tr>\n",
       "      <th>13</th>\n",
       "      <td>0.349103</td>\n",
       "      <td>0.518731</td>\n",
       "      <td>areaperbedroom</td>\n",
       "    </tr>\n",
       "    <tr>\n",
       "      <th>14</th>\n",
       "      <td>0.219420</td>\n",
       "      <td>0.028230</td>\n",
       "      <td>bbratio</td>\n",
       "    </tr>\n",
       "  </tbody>\n",
       "</table>\n",
       "</div>"
      ],
      "text/plain": [
       "         PC1       PC2          Feature\n",
       "0   0.466911  0.253614             area\n",
       "1   0.131123 -0.501994         bedrooms\n",
       "2   0.320620 -0.322073        bathrooms\n",
       "3   0.181371 -0.391036          stories\n",
       "4   0.298975  0.132957         mainroad\n",
       "5   0.202099 -0.060133        guestroom\n",
       "6   0.149324 -0.043661         basement\n",
       "7   0.004933 -0.122714  hotwaterheating\n",
       "8   0.257295 -0.113094  airconditioning\n",
       "9   0.332199  0.046879          parking\n",
       "10  0.236127  0.040036         prefarea\n",
       "11  0.114761 -0.224264   semi-furnished\n",
       "12 -0.247093  0.228075      unfurnished\n",
       "13  0.349103  0.518731   areaperbedroom\n",
       "14  0.219420  0.028230          bbratio"
      ]
     },
     "execution_count": 27,
     "metadata": {},
     "output_type": "execute_result"
    }
   ],
   "source": [
    "components = pd.DataFrame({'PC1':pca.components_[0],'PC2':pca.components_[1],'Feature':X.columns })\n",
    "components"
   ]
  },
  {
   "cell_type": "code",
   "execution_count": 28,
   "metadata": {},
   "outputs": [
    {
     "name": "stderr",
     "output_type": "stream",
     "text": [
      "C:\\Anaconda3\\lib\\site-packages\\ipykernel_launcher.py:1: FutureWarning: \n",
      "The current behaviour of 'Series.argmax' is deprecated, use 'idxmax'\n",
      "instead.\n",
      "The behavior of 'argmax' will be corrected to return the positional\n",
      "maximum in the future. For now, use 'series.values.argmax' or\n",
      "'np.argmax(np.array(values))' to get the position of the maximum\n",
      "row.\n",
      "  \"\"\"Entry point for launching an IPython kernel.\n"
     ]
    },
    {
     "data": {
      "text/plain": [
       "0"
      ]
     },
     "execution_count": 28,
     "metadata": {},
     "output_type": "execute_result"
    }
   ],
   "source": [
    "components['PC1'].argmax()"
   ]
  },
  {
   "cell_type": "code",
   "execution_count": 29,
   "metadata": {},
   "outputs": [],
   "source": [
    "colnames = list(X_train.columns)\n",
    "pcs_df = pd.DataFrame({'PC1':pca.components_[0],'PC2':pca.components_[1],'PC3':pca.components_[2],\n",
    "                       'PC4':pca.components_[3],'PC5':pca.components_[4],\n",
    "                       'PC6':pca.components_[5],'PC7':pca.components_[6],'PC8':pca.components_[7],\n",
    "                       'PC9':pca.components_[8],'PC10':pca.components_[9],'PC11':pca.components_[10],\n",
    "                       'PC12':pca.components_[11],'PC13':pca.components_[12],\n",
    "                       'PC14':pca.components_[13],'PC15':pca.components_[14],'Feature':colnames})"
   ]
  },
  {
   "cell_type": "code",
   "execution_count": 30,
   "metadata": {},
   "outputs": [
    {
     "data": {
      "text/html": [
       "<div>\n",
       "<style scoped>\n",
       "    .dataframe tbody tr th:only-of-type {\n",
       "        vertical-align: middle;\n",
       "    }\n",
       "\n",
       "    .dataframe tbody tr th {\n",
       "        vertical-align: top;\n",
       "    }\n",
       "\n",
       "    .dataframe thead th {\n",
       "        text-align: right;\n",
       "    }\n",
       "</style>\n",
       "<table border=\"1\" class=\"dataframe\">\n",
       "  <thead>\n",
       "    <tr style=\"text-align: right;\">\n",
       "      <th></th>\n",
       "      <th>PC1</th>\n",
       "      <th>PC2</th>\n",
       "      <th>PC3</th>\n",
       "      <th>PC4</th>\n",
       "      <th>PC5</th>\n",
       "      <th>PC6</th>\n",
       "      <th>PC7</th>\n",
       "      <th>PC8</th>\n",
       "      <th>PC9</th>\n",
       "      <th>PC10</th>\n",
       "      <th>PC11</th>\n",
       "      <th>PC12</th>\n",
       "      <th>PC13</th>\n",
       "      <th>PC14</th>\n",
       "      <th>PC15</th>\n",
       "      <th>Feature</th>\n",
       "    </tr>\n",
       "  </thead>\n",
       "  <tbody>\n",
       "    <tr>\n",
       "      <th>0</th>\n",
       "      <td>0.466911</td>\n",
       "      <td>0.253614</td>\n",
       "      <td>-0.083731</td>\n",
       "      <td>-0.098983</td>\n",
       "      <td>-0.195499</td>\n",
       "      <td>0.070468</td>\n",
       "      <td>-0.273913</td>\n",
       "      <td>0.068730</td>\n",
       "      <td>0.373253</td>\n",
       "      <td>0.026806</td>\n",
       "      <td>-0.140376</td>\n",
       "      <td>-0.012615</td>\n",
       "      <td>-0.022318</td>\n",
       "      <td>-0.481254</td>\n",
       "      <td>0.431188</td>\n",
       "      <td>area</td>\n",
       "    </tr>\n",
       "    <tr>\n",
       "      <th>1</th>\n",
       "      <td>0.131123</td>\n",
       "      <td>-0.501994</td>\n",
       "      <td>-0.160550</td>\n",
       "      <td>-0.278909</td>\n",
       "      <td>-0.135076</td>\n",
       "      <td>0.203395</td>\n",
       "      <td>-0.371412</td>\n",
       "      <td>-0.095609</td>\n",
       "      <td>0.133579</td>\n",
       "      <td>-0.085303</td>\n",
       "      <td>-0.178241</td>\n",
       "      <td>-0.260943</td>\n",
       "      <td>-0.022348</td>\n",
       "      <td>0.522411</td>\n",
       "      <td>0.148812</td>\n",
       "      <td>bedrooms</td>\n",
       "    </tr>\n",
       "    <tr>\n",
       "      <th>2</th>\n",
       "      <td>0.320620</td>\n",
       "      <td>-0.322073</td>\n",
       "      <td>0.491292</td>\n",
       "      <td>0.048436</td>\n",
       "      <td>0.121014</td>\n",
       "      <td>0.035283</td>\n",
       "      <td>-0.146045</td>\n",
       "      <td>-0.186282</td>\n",
       "      <td>0.085092</td>\n",
       "      <td>-0.017169</td>\n",
       "      <td>-0.105249</td>\n",
       "      <td>-0.190787</td>\n",
       "      <td>-0.064773</td>\n",
       "      <td>-0.334211</td>\n",
       "      <td>-0.554016</td>\n",
       "      <td>bathrooms</td>\n",
       "    </tr>\n",
       "    <tr>\n",
       "      <th>3</th>\n",
       "      <td>0.181371</td>\n",
       "      <td>-0.391036</td>\n",
       "      <td>0.105153</td>\n",
       "      <td>-0.278201</td>\n",
       "      <td>-0.272607</td>\n",
       "      <td>-0.136165</td>\n",
       "      <td>0.295978</td>\n",
       "      <td>0.059345</td>\n",
       "      <td>0.201221</td>\n",
       "      <td>-0.066632</td>\n",
       "      <td>0.172781</td>\n",
       "      <td>0.679243</td>\n",
       "      <td>0.073244</td>\n",
       "      <td>0.008986</td>\n",
       "      <td>-0.012729</td>\n",
       "      <td>stories</td>\n",
       "    </tr>\n",
       "    <tr>\n",
       "      <th>4</th>\n",
       "      <td>0.298975</td>\n",
       "      <td>0.132957</td>\n",
       "      <td>-0.079610</td>\n",
       "      <td>-0.112608</td>\n",
       "      <td>-0.181201</td>\n",
       "      <td>0.154277</td>\n",
       "      <td>0.509562</td>\n",
       "      <td>-0.165138</td>\n",
       "      <td>-0.317433</td>\n",
       "      <td>-0.552863</td>\n",
       "      <td>-0.299977</td>\n",
       "      <td>-0.160644</td>\n",
       "      <td>-0.090223</td>\n",
       "      <td>-0.002066</td>\n",
       "      <td>-0.000785</td>\n",
       "      <td>mainroad</td>\n",
       "    </tr>\n",
       "    <tr>\n",
       "      <th>5</th>\n",
       "      <td>0.202099</td>\n",
       "      <td>-0.060133</td>\n",
       "      <td>-0.098555</td>\n",
       "      <td>-0.136369</td>\n",
       "      <td>0.516335</td>\n",
       "      <td>0.016967</td>\n",
       "      <td>0.084193</td>\n",
       "      <td>0.494864</td>\n",
       "      <td>0.173617</td>\n",
       "      <td>-0.373524</td>\n",
       "      <td>0.444739</td>\n",
       "      <td>-0.193923</td>\n",
       "      <td>-0.055659</td>\n",
       "      <td>0.013803</td>\n",
       "      <td>-0.003411</td>\n",
       "      <td>guestroom</td>\n",
       "    </tr>\n",
       "    <tr>\n",
       "      <th>6</th>\n",
       "      <td>0.149324</td>\n",
       "      <td>-0.043661</td>\n",
       "      <td>-0.258278</td>\n",
       "      <td>0.025179</td>\n",
       "      <td>0.619524</td>\n",
       "      <td>0.114393</td>\n",
       "      <td>-0.152936</td>\n",
       "      <td>-0.065915</td>\n",
       "      <td>-0.164892</td>\n",
       "      <td>0.011200</td>\n",
       "      <td>-0.456305</td>\n",
       "      <td>0.497569</td>\n",
       "      <td>-0.021707</td>\n",
       "      <td>-0.011530</td>\n",
       "      <td>-0.010790</td>\n",
       "      <td>basement</td>\n",
       "    </tr>\n",
       "    <tr>\n",
       "      <th>7</th>\n",
       "      <td>0.004933</td>\n",
       "      <td>-0.122714</td>\n",
       "      <td>0.076514</td>\n",
       "      <td>0.214124</td>\n",
       "      <td>-0.063123</td>\n",
       "      <td>0.729401</td>\n",
       "      <td>0.327913</td>\n",
       "      <td>0.378779</td>\n",
       "      <td>0.086030</td>\n",
       "      <td>0.352480</td>\n",
       "      <td>-0.118630</td>\n",
       "      <td>-0.010145</td>\n",
       "      <td>-0.016878</td>\n",
       "      <td>0.008806</td>\n",
       "      <td>0.004608</td>\n",
       "      <td>hotwaterheating</td>\n",
       "    </tr>\n",
       "    <tr>\n",
       "      <th>8</th>\n",
       "      <td>0.257295</td>\n",
       "      <td>-0.113094</td>\n",
       "      <td>-0.062545</td>\n",
       "      <td>-0.271541</td>\n",
       "      <td>0.014394</td>\n",
       "      <td>-0.464931</td>\n",
       "      <td>0.204855</td>\n",
       "      <td>0.360642</td>\n",
       "      <td>-0.289036</td>\n",
       "      <td>0.500269</td>\n",
       "      <td>-0.246527</td>\n",
       "      <td>-0.241065</td>\n",
       "      <td>-0.046889</td>\n",
       "      <td>0.006514</td>\n",
       "      <td>0.005219</td>\n",
       "      <td>airconditioning</td>\n",
       "    </tr>\n",
       "    <tr>\n",
       "      <th>9</th>\n",
       "      <td>0.332199</td>\n",
       "      <td>0.046879</td>\n",
       "      <td>0.024069</td>\n",
       "      <td>0.013447</td>\n",
       "      <td>-0.181235</td>\n",
       "      <td>0.227608</td>\n",
       "      <td>-0.359209</td>\n",
       "      <td>0.071095</td>\n",
       "      <td>-0.668183</td>\n",
       "      <td>0.064100</td>\n",
       "      <td>0.434333</td>\n",
       "      <td>0.161911</td>\n",
       "      <td>-0.048221</td>\n",
       "      <td>0.009496</td>\n",
       "      <td>-0.009763</td>\n",
       "      <td>parking</td>\n",
       "    </tr>\n",
       "    <tr>\n",
       "      <th>10</th>\n",
       "      <td>0.236127</td>\n",
       "      <td>0.040036</td>\n",
       "      <td>-0.284375</td>\n",
       "      <td>-0.147817</td>\n",
       "      <td>0.210926</td>\n",
       "      <td>0.126960</td>\n",
       "      <td>0.297638</td>\n",
       "      <td>-0.600778</td>\n",
       "      <td>0.128709</td>\n",
       "      <td>0.393982</td>\n",
       "      <td>0.375213</td>\n",
       "      <td>-0.111942</td>\n",
       "      <td>-0.064743</td>\n",
       "      <td>0.021767</td>\n",
       "      <td>-0.004757</td>\n",
       "      <td>prefarea</td>\n",
       "    </tr>\n",
       "    <tr>\n",
       "      <th>11</th>\n",
       "      <td>0.114761</td>\n",
       "      <td>-0.224264</td>\n",
       "      <td>-0.284369</td>\n",
       "      <td>0.568176</td>\n",
       "      <td>-0.142026</td>\n",
       "      <td>-0.212277</td>\n",
       "      <td>0.022495</td>\n",
       "      <td>0.025857</td>\n",
       "      <td>0.080547</td>\n",
       "      <td>-0.035805</td>\n",
       "      <td>0.039720</td>\n",
       "      <td>0.040304</td>\n",
       "      <td>-0.674623</td>\n",
       "      <td>0.018057</td>\n",
       "      <td>-0.004841</td>\n",
       "      <td>semi-furnished</td>\n",
       "    </tr>\n",
       "    <tr>\n",
       "      <th>12</th>\n",
       "      <td>-0.247093</td>\n",
       "      <td>0.228075</td>\n",
       "      <td>0.266873</td>\n",
       "      <td>-0.515305</td>\n",
       "      <td>0.046453</td>\n",
       "      <td>0.139110</td>\n",
       "      <td>-0.056260</td>\n",
       "      <td>0.012934</td>\n",
       "      <td>0.019038</td>\n",
       "      <td>0.049768</td>\n",
       "      <td>-0.031590</td>\n",
       "      <td>0.098685</td>\n",
       "      <td>-0.714919</td>\n",
       "      <td>0.022679</td>\n",
       "      <td>-0.011190</td>\n",
       "      <td>unfurnished</td>\n",
       "    </tr>\n",
       "    <tr>\n",
       "      <th>13</th>\n",
       "      <td>0.349103</td>\n",
       "      <td>0.518731</td>\n",
       "      <td>0.007141</td>\n",
       "      <td>0.073962</td>\n",
       "      <td>-0.113299</td>\n",
       "      <td>-0.052112</td>\n",
       "      <td>-0.066738</td>\n",
       "      <td>0.117889</td>\n",
       "      <td>0.274645</td>\n",
       "      <td>0.060210</td>\n",
       "      <td>-0.068353</td>\n",
       "      <td>0.119992</td>\n",
       "      <td>0.038672</td>\n",
       "      <td>0.522083</td>\n",
       "      <td>-0.444329</td>\n",
       "      <td>areaperbedroom</td>\n",
       "    </tr>\n",
       "    <tr>\n",
       "      <th>14</th>\n",
       "      <td>0.219420</td>\n",
       "      <td>0.028230</td>\n",
       "      <td>0.623440</td>\n",
       "      <td>0.255563</td>\n",
       "      <td>0.233745</td>\n",
       "      <td>-0.116036</td>\n",
       "      <td>0.112800</td>\n",
       "      <td>-0.130951</td>\n",
       "      <td>-0.027471</td>\n",
       "      <td>0.027235</td>\n",
       "      <td>0.008636</td>\n",
       "      <td>0.016367</td>\n",
       "      <td>-0.031805</td>\n",
       "      <td>0.330576</td>\n",
       "      <td>0.535690</td>\n",
       "      <td>bbratio</td>\n",
       "    </tr>\n",
       "  </tbody>\n",
       "</table>\n",
       "</div>"
      ],
      "text/plain": [
       "         PC1       PC2       PC3       PC4       PC5       PC6       PC7  \\\n",
       "0   0.466911  0.253614 -0.083731 -0.098983 -0.195499  0.070468 -0.273913   \n",
       "1   0.131123 -0.501994 -0.160550 -0.278909 -0.135076  0.203395 -0.371412   \n",
       "2   0.320620 -0.322073  0.491292  0.048436  0.121014  0.035283 -0.146045   \n",
       "3   0.181371 -0.391036  0.105153 -0.278201 -0.272607 -0.136165  0.295978   \n",
       "4   0.298975  0.132957 -0.079610 -0.112608 -0.181201  0.154277  0.509562   \n",
       "5   0.202099 -0.060133 -0.098555 -0.136369  0.516335  0.016967  0.084193   \n",
       "6   0.149324 -0.043661 -0.258278  0.025179  0.619524  0.114393 -0.152936   \n",
       "7   0.004933 -0.122714  0.076514  0.214124 -0.063123  0.729401  0.327913   \n",
       "8   0.257295 -0.113094 -0.062545 -0.271541  0.014394 -0.464931  0.204855   \n",
       "9   0.332199  0.046879  0.024069  0.013447 -0.181235  0.227608 -0.359209   \n",
       "10  0.236127  0.040036 -0.284375 -0.147817  0.210926  0.126960  0.297638   \n",
       "11  0.114761 -0.224264 -0.284369  0.568176 -0.142026 -0.212277  0.022495   \n",
       "12 -0.247093  0.228075  0.266873 -0.515305  0.046453  0.139110 -0.056260   \n",
       "13  0.349103  0.518731  0.007141  0.073962 -0.113299 -0.052112 -0.066738   \n",
       "14  0.219420  0.028230  0.623440  0.255563  0.233745 -0.116036  0.112800   \n",
       "\n",
       "         PC8       PC9      PC10      PC11      PC12      PC13      PC14  \\\n",
       "0   0.068730  0.373253  0.026806 -0.140376 -0.012615 -0.022318 -0.481254   \n",
       "1  -0.095609  0.133579 -0.085303 -0.178241 -0.260943 -0.022348  0.522411   \n",
       "2  -0.186282  0.085092 -0.017169 -0.105249 -0.190787 -0.064773 -0.334211   \n",
       "3   0.059345  0.201221 -0.066632  0.172781  0.679243  0.073244  0.008986   \n",
       "4  -0.165138 -0.317433 -0.552863 -0.299977 -0.160644 -0.090223 -0.002066   \n",
       "5   0.494864  0.173617 -0.373524  0.444739 -0.193923 -0.055659  0.013803   \n",
       "6  -0.065915 -0.164892  0.011200 -0.456305  0.497569 -0.021707 -0.011530   \n",
       "7   0.378779  0.086030  0.352480 -0.118630 -0.010145 -0.016878  0.008806   \n",
       "8   0.360642 -0.289036  0.500269 -0.246527 -0.241065 -0.046889  0.006514   \n",
       "9   0.071095 -0.668183  0.064100  0.434333  0.161911 -0.048221  0.009496   \n",
       "10 -0.600778  0.128709  0.393982  0.375213 -0.111942 -0.064743  0.021767   \n",
       "11  0.025857  0.080547 -0.035805  0.039720  0.040304 -0.674623  0.018057   \n",
       "12  0.012934  0.019038  0.049768 -0.031590  0.098685 -0.714919  0.022679   \n",
       "13  0.117889  0.274645  0.060210 -0.068353  0.119992  0.038672  0.522083   \n",
       "14 -0.130951 -0.027471  0.027235  0.008636  0.016367 -0.031805  0.330576   \n",
       "\n",
       "        PC15          Feature  \n",
       "0   0.431188             area  \n",
       "1   0.148812         bedrooms  \n",
       "2  -0.554016        bathrooms  \n",
       "3  -0.012729          stories  \n",
       "4  -0.000785         mainroad  \n",
       "5  -0.003411        guestroom  \n",
       "6  -0.010790         basement  \n",
       "7   0.004608  hotwaterheating  \n",
       "8   0.005219  airconditioning  \n",
       "9  -0.009763          parking  \n",
       "10 -0.004757         prefarea  \n",
       "11 -0.004841   semi-furnished  \n",
       "12 -0.011190      unfurnished  \n",
       "13 -0.444329   areaperbedroom  \n",
       "14  0.535690          bbratio  "
      ]
     },
     "execution_count": 30,
     "metadata": {},
     "output_type": "execute_result"
    }
   ],
   "source": [
    "pcs_df"
   ]
  },
  {
   "cell_type": "markdown",
   "metadata": {},
   "source": [
    "### Question No. 4 --"
   ]
  },
  {
   "cell_type": "code",
   "execution_count": 31,
   "metadata": {},
   "outputs": [
    {
     "data": {
      "text/plain": [
       "array([2.65559436, 2.03987639, 1.67075622, 1.47650977, 1.38551446,\n",
       "       1.05847568, 0.93569155, 0.85802694, 0.78835172, 0.70619007,\n",
       "       0.58761968, 0.45176984, 0.37115289, 0.03589467, 0.01804947])"
      ]
     },
     "execution_count": 31,
     "metadata": {},
     "output_type": "execute_result"
    }
   ],
   "source": [
    "pca.explained_variance_"
   ]
  },
  {
   "cell_type": "code",
   "execution_count": 32,
   "metadata": {},
   "outputs": [
    {
     "name": "stdout",
     "output_type": "stream",
     "text": [
      "pca.explained_variance_ratio_:  [17.7 13.6 11.1  9.8  9.2  7.   6.2  5.7  5.2  4.7  3.9  3.   2.5  0.2\n",
      "  0.1]\n"
     ]
    }
   ],
   "source": [
    "print(\"pca.explained_variance_ratio_: \",pca.explained_variance_ratio_.round(3)*100)"
   ]
  },
  {
   "cell_type": "code",
   "execution_count": null,
   "metadata": {},
   "outputs": [],
   "source": []
  },
  {
   "cell_type": "code",
   "execution_count": 33,
   "metadata": {},
   "outputs": [
    {
     "name": "stdout",
     "output_type": "stream",
     "text": [
      "[0.17657495 0.31220978 0.42330118 0.52147681 0.613602   0.68398184\n",
      " 0.74619755 0.80324921 0.85566805 0.90262382 0.94169564 0.97173458\n",
      " 0.99641316 0.99879986 1.        ]\n"
     ]
    }
   ],
   "source": [
    "print (pca.explained_variance_ratio_.cumsum())"
   ]
  },
  {
   "cell_type": "markdown",
   "metadata": {},
   "source": [
    "### Question No. 5 --"
   ]
  },
  {
   "cell_type": "code",
   "execution_count": 34,
   "metadata": {},
   "outputs": [
    {
     "data": {
      "text/plain": [
       "array([ 17.66,  31.22,  42.33,  52.15,  61.36,  68.4 ,  74.62,  80.33,\n",
       "        85.57,  90.27,  94.18,  97.18,  99.65,  99.89, 100.01])"
      ]
     },
     "execution_count": 34,
     "metadata": {},
     "output_type": "execute_result"
    }
   ],
   "source": [
    "np.cumsum(np.round(pca.explained_variance_ratio_, decimals=4)*100)"
   ]
  },
  {
   "cell_type": "code",
   "execution_count": null,
   "metadata": {},
   "outputs": [],
   "source": []
  },
  {
   "cell_type": "markdown",
   "metadata": {},
   "source": [
    "### Question No. 6 --"
   ]
  },
  {
   "cell_type": "code",
   "execution_count": 35,
   "metadata": {},
   "outputs": [
    {
     "data": {
      "image/png": "[encoded data removed]",
      "text/plain": [
       "<Figure size 864x576 with 1 Axes>"
      ]
     },
     "metadata": {
      "needs_background": "light"
     },
     "output_type": "display_data"
    }
   ],
   "source": [
    "#Making the screeplot - plotting the cumulative variance against the number of components\n",
    "%matplotlib inline\n",
    "fig = plt.figure(figsize = (12,8))\n",
    "plt.plot(np.cumsum(pca.explained_variance_ratio_))\n",
    "plt.xlabel('number of components')\n",
    "plt.ylabel('cumulative explained variance')\n",
    "plt.show()"
   ]
  },
  {
   "cell_type": "code",
   "execution_count": null,
   "metadata": {},
   "outputs": [],
   "source": []
  },
  {
   "cell_type": "code",
   "execution_count": 36,
   "metadata": {},
   "outputs": [
    {
     "data": {
      "text/plain": [
       "0.0"
      ]
     },
     "execution_count": 36,
     "metadata": {},
     "output_type": "execute_result"
    }
   ],
   "source": [
    "product = np.dot(pca.components_[0],pca.components_[1])\n",
    "product.round(5)"
   ]
  },
  {
   "cell_type": "code",
   "execution_count": 37,
   "metadata": {},
   "outputs": [
    {
     "data": {
      "image/png": "[encoded data removed]",
      "text/plain": [
       "<Figure size 576x576 with 1 Axes>"
      ]
     },
     "metadata": {
      "needs_background": "light"
     },
     "output_type": "display_data"
    }
   ],
   "source": [
    "%matplotlib inline\n",
    "fig = plt.figure(figsize = (8,8))\n",
    "plt.scatter(components.PC1, components.PC2)\n",
    "plt.xlabel('Principal Component 1')\n",
    "plt.ylabel('Principal Component 2')\n",
    "for i, txt in enumerate(components.Feature):\n",
    "    plt.annotate(txt, (components.PC1[i],components.PC2[i]))\n",
    "plt.tight_layout()\n",
    "plt.show()"
   ]
  },
  {
   "cell_type": "code",
   "execution_count": 38,
   "metadata": {},
   "outputs": [
    {
     "data": {
      "text/plain": [
       "(381, 15)"
      ]
     },
     "execution_count": 38,
     "metadata": {},
     "output_type": "execute_result"
    }
   ],
   "source": [
    "pca_train = pca.transform(Xtrain)\n",
    "pca_train.shape"
   ]
  },
  {
   "cell_type": "code",
   "execution_count": 39,
   "metadata": {},
   "outputs": [
    {
     "data": {
      "text/plain": [
       "array([[-1.89382742,  1.04859781,  1.12366889, ..., -0.29454944,\n",
       "        -0.04714831,  0.04708571],\n",
       "       [ 2.41706253,  0.75177319,  1.560377  , ..., -0.94956138,\n",
       "        -0.02958512,  0.02039269],\n",
       "       [ 1.61007146,  0.66810948, -1.0816004 , ...,  0.89630176,\n",
       "        -0.05850229,  0.02082749],\n",
       "       ...,\n",
       "       [ 0.70040283,  1.37263147, -0.36736473, ...,  1.01379374,\n",
       "        -0.12498705,  0.02645665],\n",
       "       [ 0.8871212 , -1.01626729,  1.66713038, ..., -0.6926666 ,\n",
       "         0.04631442, -0.11892837],\n",
       "       [ 2.20141726, -2.46443025,  1.02634462, ...,  0.89723256,\n",
       "         0.01122933, -0.0874458 ]])"
      ]
     },
     "execution_count": 39,
     "metadata": {},
     "output_type": "execute_result"
    }
   ],
   "source": [
    "pca_train"
   ]
  },
  {
   "cell_type": "markdown",
   "metadata": {},
   "source": [
    "### Question No. 7 --"
   ]
  },
  {
   "cell_type": "code",
   "execution_count": 40,
   "metadata": {},
   "outputs": [],
   "source": [
    "#creating correlation matrix for the principal components\n",
    "corrmat = np.corrcoef(pca_train.transpose())"
   ]
  },
  {
   "cell_type": "code",
   "execution_count": 42,
   "metadata": {},
   "outputs": [
    {
     "data": {
      "text/plain": [
       "<matplotlib.axes._subplots.AxesSubplot at 0x248da903320>"
      ]
     },
     "execution_count": 42,
     "metadata": {},
     "output_type": "execute_result"
    },
    {
     "data": {
      "image/png": "[encoded data removed]",
      "text/plain": [
       "<Figure size 1440x720 with 2 Axes>"
      ]
     },
     "metadata": {
      "needs_background": "light"
     },
     "output_type": "display_data"
    }
   ],
   "source": [
    "#plotting the correlation matrix\n",
    "%matplotlib inline\n",
    "plt.figure(figsize = (20,10))\n",
    "sns.heatmap(np.round(corrmat,2),annot = True)"
   ]
  },
  {
   "cell_type": "code",
   "execution_count": null,
   "metadata": {},
   "outputs": [],
   "source": []
  },
  {
   "cell_type": "code",
   "execution_count": 43,
   "metadata": {},
   "outputs": [
    {
     "name": "stdout",
     "output_type": "stream",
     "text": [
      "max corr: 1.7870960360423595e-15 , min corr:  -3.110819592569876e-15\n"
     ]
    }
   ],
   "source": [
    "# 1s -> 0s in diagonals\n",
    "corrmat_nodiag = corrmat - np.diagflat(corrmat.diagonal())\n",
    "print(\"max corr:\",corrmat_nodiag.max(), \", min corr: \", corrmat_nodiag.min(),)\n",
    "# we see that correlations are indeed very close to 0"
   ]
  },
  {
   "cell_type": "code",
   "execution_count": 44,
   "metadata": {},
   "outputs": [
    {
     "data": {
      "text/plain": [
       "(164, 15)"
      ]
     },
     "execution_count": 44,
     "metadata": {},
     "output_type": "execute_result"
    }
   ],
   "source": [
    "#Applying selected components to the test data - 13 components\n",
    "pca_test = pca.transform(Xtest)\n",
    "pca_test.shape"
   ]
  },
  {
   "cell_type": "markdown",
   "metadata": {},
   "source": [
    "### Question No. 8 --"
   ]
  },
  {
   "cell_type": "code",
   "execution_count": 45,
   "metadata": {},
   "outputs": [
    {
     "name": "stdout",
     "output_type": "stream",
     "text": [
      "Mean squared error: 0.35\n",
      "R2 score: 0.65\n"
     ]
    }
   ],
   "source": [
    "import matplotlib.pyplot as plt\n",
    "import numpy as np\n",
    "from sklearn import  linear_model\n",
    "from sklearn.metrics import mean_squared_error, r2_score\n",
    "# Create linear regression object\n",
    "regrpca = linear_model.LinearRegression()\n",
    "# Train the model using the principal components of the transformed training sets\n",
    "regrpca.fit(pca_train, ytrain)\n",
    "# Make predictions using the principal components of the transformed testing set\n",
    "y_pca_pred = regrpca.predict(pca_test)\n",
    "print(\"Mean squared error: %.2f\" % mean_squared_error(ytest, y_pca_pred))\n",
    "# Explained variance score: 1 is perfect prediction\n",
    "print('R2 score: %.2f' % r2_score(ytest, y_pca_pred))"
   ]
  },
  {
   "cell_type": "code",
   "execution_count": null,
   "metadata": {},
   "outputs": [],
   "source": []
  },
  {
   "cell_type": "code",
   "execution_count": 45,
   "metadata": {},
   "outputs": [
    {
     "name": "stdout",
     "output_type": "stream",
     "text": [
      "Mean squared error: 0.33\n",
      "R2 score: 0.66\n"
     ]
    }
   ],
   "source": [
    "pca = PCA(n_components=6,random_state=100)\n",
    "#Scale and transform data to get Principal Components\n",
    "\n",
    "Xtrain_reduced = pca.fit_transform(Xtrain)\n",
    "Xtest_reduced = pca.transform(Xtest)\n",
    "regrpca6 = linear_model.LinearRegression()\n",
    "# Train the model using the principal components of the transformed training sets\n",
    "regrpca6.fit(Xtrain_reduced, ytrain)\n",
    "# Make predictions using the principal components of the transformed testing set\n",
    "y_pred = regrpca6.predict(Xtest_reduced)\n",
    "print(\"Mean squared error: %.2f\" % mean_squared_error(ytest, y_pred))\n",
    "# Explained variance score: 1 is perfect prediction\n",
    "print('R2 score: %.2f' % r2_score(ytest, y_pred))\n"
   ]
  },
  {
   "cell_type": "code",
   "execution_count": null,
   "metadata": {},
   "outputs": [],
   "source": []
  },
  {
   "cell_type": "code",
   "execution_count": null,
   "metadata": {},
   "outputs": [],
   "source": []
  },
  {
   "cell_type": "code",
   "execution_count": null,
   "metadata": {},
   "outputs": [],
   "source": []
  },
  {
   "cell_type": "code",
   "execution_count": null,
   "metadata": {},
   "outputs": [],
   "source": []
  },
  {
   "cell_type": "code",
   "execution_count": null,
   "metadata": {},
   "outputs": [],
   "source": []
  },
  {
   "cell_type": "code",
   "execution_count": null,
   "metadata": {},
   "outputs": [],
   "source": []
  },
  {
   "cell_type": "code",
   "execution_count": null,
   "metadata": {},
   "outputs": [],
   "source": []
  },
  {
   "cell_type": "code",
   "execution_count": null,
   "metadata": {},
   "outputs": [],
   "source": []
  }
 ],
 "metadata": {
  "kernelspec": {
   "display_name": "Python 3",
   "language": "python",
   "name": "python3"
  },
  "language_info": {
   "codemirror_mode": {
    "name": "ipython",
    "version": 3
   },
   "file_extension": ".py",
   "mimetype": "text/x-python",
   "name": "python",
   "nbconvert_exporter": "python",
   "pygments_lexer": "ipython3",
   "version": "3.6.8"
  }
 },
 "nbformat": 4,
 "nbformat_minor": 2
}
