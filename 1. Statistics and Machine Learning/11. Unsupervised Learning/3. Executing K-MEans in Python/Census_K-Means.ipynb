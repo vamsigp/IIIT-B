{
 "cells": [
  {
   "cell_type": "code",
   "execution_count": 1,
   "metadata": {},
   "outputs": [
    {
     "name": "stderr",
     "output_type": "stream",
     "text": [
      "C:\\Anaconda3\\lib\\importlib\\_bootstrap.py:219: RuntimeWarning: numpy.ufunc size changed, may indicate binary incompatibility. Expected 192 from C header, got 216 from PyObject\n",
      "  return f(*args, **kwds)\n",
      "C:\\Anaconda3\\lib\\importlib\\_bootstrap.py:219: RuntimeWarning: numpy.ufunc size changed, may indicate binary incompatibility. Expected 192 from C header, got 216 from PyObject\n",
      "  return f(*args, **kwds)\n",
      "C:\\Anaconda3\\lib\\importlib\\_bootstrap.py:219: RuntimeWarning: numpy.ufunc size changed, may indicate binary incompatibility. Expected 192 from C header, got 216 from PyObject\n",
      "  return f(*args, **kwds)\n",
      "C:\\Anaconda3\\lib\\importlib\\_bootstrap.py:219: RuntimeWarning: numpy.ufunc size changed, may indicate binary incompatibility. Expected 216, got 192\n",
      "  return f(*args, **kwds)\n",
      "C:\\Anaconda3\\lib\\importlib\\_bootstrap.py:219: RuntimeWarning: numpy.ufunc size changed, may indicate binary incompatibility. Expected 192 from C header, got 216 from PyObject\n",
      "  return f(*args, **kwds)\n"
     ]
    }
   ],
   "source": [
    "import numpy as np\n",
    "import pandas as pd\n",
    "import seaborn as sns\n",
    "\n",
    "import matplotlib.pyplot as plt\n",
    "%matplotlib inline"
   ]
  },
  {
   "cell_type": "code",
   "execution_count": 2,
   "metadata": {},
   "outputs": [],
   "source": [
    "from sklearn.preprocessing import StandardScaler\n",
    "from sklearn.cluster import KMeans"
   ]
  },
  {
   "cell_type": "code",
   "execution_count": null,
   "metadata": {},
   "outputs": [],
   "source": []
  },
  {
   "cell_type": "code",
   "execution_count": 3,
   "metadata": {},
   "outputs": [],
   "source": [
    "df = pd.read_excel('Main.xlsx')"
   ]
  },
  {
   "cell_type": "code",
   "execution_count": 63,
   "metadata": {},
   "outputs": [
    {
     "data": {
      "text/html": [
       "<div>\n",
       "<style scoped>\n",
       "    .dataframe tbody tr th:only-of-type {\n",
       "        vertical-align: middle;\n",
       "    }\n",
       "\n",
       "    .dataframe tbody tr th {\n",
       "        vertical-align: top;\n",
       "    }\n",
       "\n",
       "    .dataframe thead th {\n",
       "        text-align: right;\n",
       "    }\n",
       "</style>\n",
       "<table border=\"1\" class=\"dataframe\">\n",
       "  <thead>\n",
       "    <tr style=\"text-align: right;\">\n",
       "      <th></th>\n",
       "      <th>Area Name</th>\n",
       "      <th>Illiterate</th>\n",
       "      <th>Graduate &amp; above</th>\n",
       "      <th>Total - Population</th>\n",
       "      <th>Percentage Illiterate</th>\n",
       "      <th>Percentage Graduate &amp; above</th>\n",
       "    </tr>\n",
       "  </thead>\n",
       "  <tbody>\n",
       "    <tr>\n",
       "      <th>0</th>\n",
       "      <td>State - JAMMU &amp; KASHMIR</td>\n",
       "      <td>3378518</td>\n",
       "      <td>385463</td>\n",
       "      <td>12541302</td>\n",
       "      <td>26.939133</td>\n",
       "      <td>3.073549</td>\n",
       "    </tr>\n",
       "    <tr>\n",
       "      <th>1</th>\n",
       "      <td>State - HIMACHAL PRADESH</td>\n",
       "      <td>963742</td>\n",
       "      <td>267936</td>\n",
       "      <td>6864602</td>\n",
       "      <td>14.039299</td>\n",
       "      <td>3.903154</td>\n",
       "    </tr>\n",
       "    <tr>\n",
       "      <th>2</th>\n",
       "      <td>State - PUNJAB</td>\n",
       "      <td>4886265</td>\n",
       "      <td>979525</td>\n",
       "      <td>27743338</td>\n",
       "      <td>17.612390</td>\n",
       "      <td>3.530667</td>\n",
       "    </tr>\n",
       "    <tr>\n",
       "      <th>3</th>\n",
       "      <td>State - CHANDIGARH</td>\n",
       "      <td>175200</td>\n",
       "      <td>91276</td>\n",
       "      <td>1055450</td>\n",
       "      <td>16.599555</td>\n",
       "      <td>8.648065</td>\n",
       "    </tr>\n",
       "    <tr>\n",
       "      <th>4</th>\n",
       "      <td>State - UTTARAKHAND</td>\n",
       "      <td>1929236</td>\n",
       "      <td>525301</td>\n",
       "      <td>10086292</td>\n",
       "      <td>19.127307</td>\n",
       "      <td>5.208069</td>\n",
       "    </tr>\n",
       "  </tbody>\n",
       "</table>\n",
       "</div>"
      ],
      "text/plain": [
       "                  Area Name  Illiterate  Graduate & above  Total - Population  \\\n",
       "0   State - JAMMU & KASHMIR     3378518            385463            12541302   \n",
       "1  State - HIMACHAL PRADESH      963742            267936             6864602   \n",
       "2            State - PUNJAB     4886265            979525            27743338   \n",
       "3        State - CHANDIGARH      175200             91276             1055450   \n",
       "4       State - UTTARAKHAND     1929236            525301            10086292   \n",
       "\n",
       "   Percentage Illiterate  Percentage Graduate & above  \n",
       "0              26.939133                     3.073549  \n",
       "1              14.039299                     3.903154  \n",
       "2              17.612390                     3.530667  \n",
       "3              16.599555                     8.648065  \n",
       "4              19.127307                     5.208069  "
      ]
     },
     "execution_count": 63,
     "metadata": {},
     "output_type": "execute_result"
    }
   ],
   "source": [
    "df.head()"
   ]
  },
  {
   "cell_type": "code",
   "execution_count": 5,
   "metadata": {},
   "outputs": [
    {
     "name": "stdout",
     "output_type": "stream",
     "text": [
      "<class 'pandas.core.frame.DataFrame'>\n",
      "RangeIndex: 35 entries, 0 to 34\n",
      "Data columns (total 6 columns):\n",
      "Area Name                      35 non-null object\n",
      "Illiterate                     35 non-null int64\n",
      "Graduate & above               35 non-null int64\n",
      "Total - Population             35 non-null int64\n",
      "Percentage Illiterate          35 non-null float64\n",
      "Percentage Graduate & above    35 non-null float64\n",
      "dtypes: float64(2), int64(3), object(1)\n",
      "memory usage: 1.7+ KB\n"
     ]
    }
   ],
   "source": [
    "df.info()"
   ]
  },
  {
   "cell_type": "code",
   "execution_count": 7,
   "metadata": {},
   "outputs": [],
   "source": [
    "# sns.pairplot(df)"
   ]
  },
  {
   "cell_type": "code",
   "execution_count": 64,
   "metadata": {},
   "outputs": [],
   "source": [
    "df_means = df#df.drop(labels='Area Name', axis=1)"
   ]
  },
  {
   "cell_type": "code",
   "execution_count": 65,
   "metadata": {},
   "outputs": [
    {
     "data": {
      "text/html": [
       "<div>\n",
       "<style scoped>\n",
       "    .dataframe tbody tr th:only-of-type {\n",
       "        vertical-align: middle;\n",
       "    }\n",
       "\n",
       "    .dataframe tbody tr th {\n",
       "        vertical-align: top;\n",
       "    }\n",
       "\n",
       "    .dataframe thead th {\n",
       "        text-align: right;\n",
       "    }\n",
       "</style>\n",
       "<table border=\"1\" class=\"dataframe\">\n",
       "  <thead>\n",
       "    <tr style=\"text-align: right;\">\n",
       "      <th></th>\n",
       "      <th>Illiterate</th>\n",
       "      <th>Graduate &amp; above</th>\n",
       "      <th>Total - Population</th>\n",
       "      <th>Percentage Illiterate</th>\n",
       "      <th>Percentage Graduate &amp; above</th>\n",
       "    </tr>\n",
       "  </thead>\n",
       "  <tbody>\n",
       "    <tr>\n",
       "      <th>count</th>\n",
       "      <td>3.500000e+01</td>\n",
       "      <td>3.500000e+01</td>\n",
       "      <td>3.500000e+01</td>\n",
       "      <td>35.000000</td>\n",
       "      <td>35.000000</td>\n",
       "    </tr>\n",
       "    <tr>\n",
       "      <th>mean</th>\n",
       "      <td>7.678103e+06</td>\n",
       "      <td>1.075194e+06</td>\n",
       "      <td>3.459586e+07</td>\n",
       "      <td>20.101981</td>\n",
       "      <td>3.483161</td>\n",
       "    </tr>\n",
       "    <tr>\n",
       "      <th>std</th>\n",
       "      <td>1.133721e+07</td>\n",
       "      <td>1.399289e+06</td>\n",
       "      <td>4.445234e+07</td>\n",
       "      <td>5.762072</td>\n",
       "      <td>1.661141</td>\n",
       "    </tr>\n",
       "    <tr>\n",
       "      <th>min</th>\n",
       "      <td>8.337000e+03</td>\n",
       "      <td>1.482000e+03</td>\n",
       "      <td>6.447300e+04</td>\n",
       "      <td>11.176535</td>\n",
       "      <td>1.454525</td>\n",
       "    </tr>\n",
       "    <tr>\n",
       "      <th>25%</th>\n",
       "      <td>3.098615e+05</td>\n",
       "      <td>5.948800e+04</td>\n",
       "      <td>1.421136e+06</td>\n",
       "      <td>16.076337</td>\n",
       "      <td>2.333452</td>\n",
       "    </tr>\n",
       "    <tr>\n",
       "      <th>50%</th>\n",
       "      <td>3.378518e+06</td>\n",
       "      <td>5.253010e+05</td>\n",
       "      <td>1.678794e+07</td>\n",
       "      <td>19.405567</td>\n",
       "      <td>3.073549</td>\n",
       "    </tr>\n",
       "    <tr>\n",
       "      <th>75%</th>\n",
       "      <td>1.036886e+07</td>\n",
       "      <td>1.596484e+06</td>\n",
       "      <td>6.076749e+07</td>\n",
       "      <td>24.170387</td>\n",
       "      <td>4.106503</td>\n",
       "    </tr>\n",
       "    <tr>\n",
       "      <th>max</th>\n",
       "      <td>5.422576e+07</td>\n",
       "      <td>5.741485e+06</td>\n",
       "      <td>1.998123e+08</td>\n",
       "      <td>33.460356</td>\n",
       "      <td>8.648065</td>\n",
       "    </tr>\n",
       "  </tbody>\n",
       "</table>\n",
       "</div>"
      ],
      "text/plain": [
       "         Illiterate  Graduate & above  Total - Population  \\\n",
       "count  3.500000e+01      3.500000e+01        3.500000e+01   \n",
       "mean   7.678103e+06      1.075194e+06        3.459586e+07   \n",
       "std    1.133721e+07      1.399289e+06        4.445234e+07   \n",
       "min    8.337000e+03      1.482000e+03        6.447300e+04   \n",
       "25%    3.098615e+05      5.948800e+04        1.421136e+06   \n",
       "50%    3.378518e+06      5.253010e+05        1.678794e+07   \n",
       "75%    1.036886e+07      1.596484e+06        6.076749e+07   \n",
       "max    5.422576e+07      5.741485e+06        1.998123e+08   \n",
       "\n",
       "       Percentage Illiterate  Percentage Graduate & above  \n",
       "count              35.000000                    35.000000  \n",
       "mean               20.101981                     3.483161  \n",
       "std                 5.762072                     1.661141  \n",
       "min                11.176535                     1.454525  \n",
       "25%                16.076337                     2.333452  \n",
       "50%                19.405567                     3.073549  \n",
       "75%                24.170387                     4.106503  \n",
       "max                33.460356                     8.648065  "
      ]
     },
     "execution_count": 65,
     "metadata": {},
     "output_type": "execute_result"
    }
   ],
   "source": [
    "# df_means.head()\n",
    "df_means.describe()"
   ]
  },
  {
   "cell_type": "code",
   "execution_count": null,
   "metadata": {},
   "outputs": [],
   "source": []
  },
  {
   "cell_type": "code",
   "execution_count": 66,
   "metadata": {},
   "outputs": [
    {
     "data": {
      "text/plain": [
       "{'whiskers': [<matplotlib.lines.Line2D at 0x13a879cc550>,\n",
       "  <matplotlib.lines.Line2D at 0x13a879cc898>],\n",
       " 'caps': [<matplotlib.lines.Line2D at 0x13a879ccbe0>,\n",
       "  <matplotlib.lines.Line2D at 0x13a879ccf28>],\n",
       " 'boxes': [<matplotlib.lines.Line2D at 0x13a879cc400>],\n",
       " 'medians': [<matplotlib.lines.Line2D at 0x13a879d62b0>],\n",
       " 'fliers': [<matplotlib.lines.Line2D at 0x13a879d65f8>],\n",
       " 'means': []}"
      ]
     },
     "execution_count": 66,
     "metadata": {},
     "output_type": "execute_result"
    },
    {
     "data": {
      "image/png": "[encoded data removed]",
      "text/plain": [
       "<Figure size 432x288 with 1 Axes>"
      ]
     },
     "metadata": {
      "needs_background": "light"
     },
     "output_type": "display_data"
    }
   ],
   "source": [
    "plt.boxplot(x='Illiterate', data=df_means)"
   ]
  },
  {
   "cell_type": "code",
   "execution_count": 67,
   "metadata": {},
   "outputs": [
    {
     "name": "stdout",
     "output_type": "stream",
     "text": [
      "309861.5 10368863.0 10059001.5\n"
     ]
    }
   ],
   "source": [
    "Q1 = df_means.Illiterate.quantile(0.25)\n",
    "Q3 = df_means.Illiterate.quantile(0.75)\n",
    "IQR = Q3 - Q1\n",
    "\n",
    "print(Q1, Q3, IQR)\n",
    "\n",
    "df_means = df_means[(df_means.Illiterate >= Q1 - 1.5*IQR) & (df_means.Illiterate <= Q3 + 1.5*IQR)]"
   ]
  },
  {
   "cell_type": "code",
   "execution_count": 68,
   "metadata": {},
   "outputs": [
    {
     "data": {
      "text/plain": [
       "{'whiskers': [<matplotlib.lines.Line2D at 0x13a879f73c8>,\n",
       "  <matplotlib.lines.Line2D at 0x13a879f7710>],\n",
       " 'caps': [<matplotlib.lines.Line2D at 0x13a879f7a58>,\n",
       "  <matplotlib.lines.Line2D at 0x13a879f7da0>],\n",
       " 'boxes': [<matplotlib.lines.Line2D at 0x13a879f7278>],\n",
       " 'medians': [<matplotlib.lines.Line2D at 0x13a87a00128>],\n",
       " 'fliers': [<matplotlib.lines.Line2D at 0x13a87a00470>],\n",
       " 'means': []}"
      ]
     },
     "execution_count": 68,
     "metadata": {},
     "output_type": "execute_result"
    },
    {
     "data": {
      "image/png": "[encoded data removed]",
      "text/plain": [
       "<Figure size 432x288 with 1 Axes>"
      ]
     },
     "metadata": {
      "needs_background": "light"
     },
     "output_type": "display_data"
    }
   ],
   "source": [
    "plt.boxplot(df_means['Graduate & above'])"
   ]
  },
  {
   "cell_type": "code",
   "execution_count": 69,
   "metadata": {},
   "outputs": [
    {
     "name": "stdout",
     "output_type": "stream",
     "text": [
      "58818.0 1407626.0 1348808.0\n"
     ]
    }
   ],
   "source": [
    "Q1 = df_means['Graduate & above'].quantile(0.25)\n",
    "Q3 = df_means['Graduate & above'].quantile(0.75)\n",
    "IQR = Q3 - Q1\n",
    "\n",
    "print(Q1, Q3, IQR)"
   ]
  },
  {
   "cell_type": "code",
   "execution_count": 70,
   "metadata": {},
   "outputs": [],
   "source": [
    "df_means = df_means[(df_means['Graduate & above'] >= Q1 - 1.5*IQR) & (df_means['Graduate & above'] <= Q3 + 1.5*IQR)]"
   ]
  },
  {
   "cell_type": "code",
   "execution_count": 71,
   "metadata": {},
   "outputs": [
    {
     "data": {
      "text/plain": [
       "{'whiskers': [<matplotlib.lines.Line2D at 0x13a87a352b0>,\n",
       "  <matplotlib.lines.Line2D at 0x13a87a355f8>],\n",
       " 'caps': [<matplotlib.lines.Line2D at 0x13a87a35940>,\n",
       "  <matplotlib.lines.Line2D at 0x13a87a35c88>],\n",
       " 'boxes': [<matplotlib.lines.Line2D at 0x13a87a35160>],\n",
       " 'medians': [<matplotlib.lines.Line2D at 0x13a87a35fd0>],\n",
       " 'fliers': [<matplotlib.lines.Line2D at 0x13a87a3e358>],\n",
       " 'means': []}"
      ]
     },
     "execution_count": 71,
     "metadata": {},
     "output_type": "execute_result"
    },
    {
     "data": {
      "image/png": "[encoded data removed]",
      "text/plain": [
       "<Figure size 432x288 with 1 Axes>"
      ]
     },
     "metadata": {
      "needs_background": "light"
     },
     "output_type": "display_data"
    }
   ],
   "source": [
    "plt.boxplot(df_means['Total - Population'])"
   ]
  },
  {
   "cell_type": "code",
   "execution_count": 72,
   "metadata": {},
   "outputs": [
    {
     "name": "stdout",
     "output_type": "stream",
     "text": [
      "1315840.0 33197097.5 31881257.5\n"
     ]
    }
   ],
   "source": [
    "Q1 = df_means['Total - Population'].quantile(0.25)\n",
    "Q3 = df_means['Total - Population'].quantile(0.75)\n",
    "IQR = Q3 - Q1\n",
    "\n",
    "print(Q1, Q3, IQR)\n",
    "df_means = df_means[(df_means['Total - Population'] >= Q1 - 1.5*IQR) & (df_means['Total - Population'] <= Q3 + 1.5*IQR)]"
   ]
  },
  {
   "cell_type": "code",
   "execution_count": 73,
   "metadata": {},
   "outputs": [
    {
     "data": {
      "text/plain": [
       "{'whiskers': [<matplotlib.lines.Line2D at 0x13a87a72208>,\n",
       "  <matplotlib.lines.Line2D at 0x13a87a72550>],\n",
       " 'caps': [<matplotlib.lines.Line2D at 0x13a87a72898>,\n",
       "  <matplotlib.lines.Line2D at 0x13a87a72be0>],\n",
       " 'boxes': [<matplotlib.lines.Line2D at 0x13a87a720b8>],\n",
       " 'medians': [<matplotlib.lines.Line2D at 0x13a87a72f28>],\n",
       " 'fliers': [<matplotlib.lines.Line2D at 0x13a87a7a2b0>],\n",
       " 'means': []}"
      ]
     },
     "execution_count": 73,
     "metadata": {},
     "output_type": "execute_result"
    },
    {
     "data": {
      "image/png": "[encoded data removed]",
      "text/plain": [
       "<Figure size 432x288 with 1 Axes>"
      ]
     },
     "metadata": {
      "needs_background": "light"
     },
     "output_type": "display_data"
    }
   ],
   "source": [
    "plt.boxplot(df_means['Percentage Illiterate'])"
   ]
  },
  {
   "cell_type": "code",
   "execution_count": 74,
   "metadata": {},
   "outputs": [
    {
     "data": {
      "text/plain": [
       "{'whiskers': [<matplotlib.lines.Line2D at 0x13a87aaeef0>,\n",
       "  <matplotlib.lines.Line2D at 0x13a87ab6278>],\n",
       " 'caps': [<matplotlib.lines.Line2D at 0x13a87ab65c0>,\n",
       "  <matplotlib.lines.Line2D at 0x13a87ab6908>],\n",
       " 'boxes': [<matplotlib.lines.Line2D at 0x13a87aaeda0>],\n",
       " 'medians': [<matplotlib.lines.Line2D at 0x13a87ab6c50>],\n",
       " 'fliers': [<matplotlib.lines.Line2D at 0x13a87ab6f98>],\n",
       " 'means': []}"
      ]
     },
     "execution_count": 74,
     "metadata": {},
     "output_type": "execute_result"
    },
    {
     "data": {
      "image/png": "[encoded data removed]",
      "text/plain": [
       "<Figure size 432x288 with 1 Axes>"
      ]
     },
     "metadata": {
      "needs_background": "light"
     },
     "output_type": "display_data"
    }
   ],
   "source": [
    "plt.boxplot(df_means['Percentage Graduate & above'])"
   ]
  },
  {
   "cell_type": "code",
   "execution_count": 75,
   "metadata": {},
   "outputs": [
    {
     "name": "stdout",
     "output_type": "stream",
     "text": [
      "2.3310529659499104 4.1360518879830845 1.8049989220331741\n"
     ]
    }
   ],
   "source": [
    "Q1 = df_means['Percentage Graduate & above'].quantile(0.25)\n",
    "Q3 = df_means['Percentage Graduate & above'].quantile(0.75)\n",
    "IQR = Q3 - Q1\n",
    "\n",
    "print(Q1, Q3, IQR)\n",
    "df_means = df_means[(df_means['Percentage Graduate & above'] >= Q1 - 1.5*IQR) & (df_means['Percentage Graduate & above'] <= Q3 + 1.5*IQR)]"
   ]
  },
  {
   "cell_type": "code",
   "execution_count": 76,
   "metadata": {},
   "outputs": [
    {
     "data": {
      "text/html": [
       "<div>\n",
       "<style scoped>\n",
       "    .dataframe tbody tr th:only-of-type {\n",
       "        vertical-align: middle;\n",
       "    }\n",
       "\n",
       "    .dataframe tbody tr th {\n",
       "        vertical-align: top;\n",
       "    }\n",
       "\n",
       "    .dataframe thead th {\n",
       "        text-align: right;\n",
       "    }\n",
       "</style>\n",
       "<table border=\"1\" class=\"dataframe\">\n",
       "  <thead>\n",
       "    <tr style=\"text-align: right;\">\n",
       "      <th></th>\n",
       "      <th>Area Name</th>\n",
       "      <th>Illiterate</th>\n",
       "      <th>Graduate &amp; above</th>\n",
       "      <th>Total - Population</th>\n",
       "      <th>Percentage Illiterate</th>\n",
       "      <th>Percentage Graduate &amp; above</th>\n",
       "    </tr>\n",
       "  </thead>\n",
       "  <tbody>\n",
       "    <tr>\n",
       "      <th>0</th>\n",
       "      <td>State - JAMMU &amp; KASHMIR</td>\n",
       "      <td>3378518</td>\n",
       "      <td>385463</td>\n",
       "      <td>12541302</td>\n",
       "      <td>26.939133</td>\n",
       "      <td>3.073549</td>\n",
       "    </tr>\n",
       "    <tr>\n",
       "      <th>1</th>\n",
       "      <td>State - HIMACHAL PRADESH</td>\n",
       "      <td>963742</td>\n",
       "      <td>267936</td>\n",
       "      <td>6864602</td>\n",
       "      <td>14.039299</td>\n",
       "      <td>3.903154</td>\n",
       "    </tr>\n",
       "    <tr>\n",
       "      <th>2</th>\n",
       "      <td>State - PUNJAB</td>\n",
       "      <td>4886265</td>\n",
       "      <td>979525</td>\n",
       "      <td>27743338</td>\n",
       "      <td>17.612390</td>\n",
       "      <td>3.530667</td>\n",
       "    </tr>\n",
       "    <tr>\n",
       "      <th>4</th>\n",
       "      <td>State - UTTARAKHAND</td>\n",
       "      <td>1929236</td>\n",
       "      <td>525301</td>\n",
       "      <td>10086292</td>\n",
       "      <td>19.127307</td>\n",
       "      <td>5.208069</td>\n",
       "    </tr>\n",
       "    <tr>\n",
       "      <th>5</th>\n",
       "      <td>State - HARYANA</td>\n",
       "      <td>5055536</td>\n",
       "      <td>1130659</td>\n",
       "      <td>25351462</td>\n",
       "      <td>19.941793</td>\n",
       "      <td>4.459936</td>\n",
       "    </tr>\n",
       "  </tbody>\n",
       "</table>\n",
       "</div>"
      ],
      "text/plain": [
       "                  Area Name  Illiterate  Graduate & above  Total - Population  \\\n",
       "0   State - JAMMU & KASHMIR     3378518            385463            12541302   \n",
       "1  State - HIMACHAL PRADESH      963742            267936             6864602   \n",
       "2            State - PUNJAB     4886265            979525            27743338   \n",
       "4       State - UTTARAKHAND     1929236            525301            10086292   \n",
       "5           State - HARYANA     5055536           1130659            25351462   \n",
       "\n",
       "   Percentage Illiterate  Percentage Graduate & above  \n",
       "0              26.939133                     3.073549  \n",
       "1              14.039299                     3.903154  \n",
       "2              17.612390                     3.530667  \n",
       "4              19.127307                     5.208069  \n",
       "5              19.941793                     4.459936  "
      ]
     },
     "execution_count": 76,
     "metadata": {},
     "output_type": "execute_result"
    }
   ],
   "source": [
    "\n",
    "df_means.head()"
   ]
  },
  {
   "cell_type": "code",
   "execution_count": 77,
   "metadata": {},
   "outputs": [
    {
     "data": {
      "text/plain": [
       "(28, 6)"
      ]
     },
     "execution_count": 77,
     "metadata": {},
     "output_type": "execute_result"
    }
   ],
   "source": [
    "df_means.shape"
   ]
  },
  {
   "cell_type": "code",
   "execution_count": 78,
   "metadata": {},
   "outputs": [
    {
     "data": {
      "text/html": [
       "<div>\n",
       "<style scoped>\n",
       "    .dataframe tbody tr th:only-of-type {\n",
       "        vertical-align: middle;\n",
       "    }\n",
       "\n",
       "    .dataframe tbody tr th {\n",
       "        vertical-align: top;\n",
       "    }\n",
       "\n",
       "    .dataframe thead th {\n",
       "        text-align: right;\n",
       "    }\n",
       "</style>\n",
       "<table border=\"1\" class=\"dataframe\">\n",
       "  <thead>\n",
       "    <tr style=\"text-align: right;\">\n",
       "      <th></th>\n",
       "      <th>Illiterate</th>\n",
       "      <th>Graduate &amp; above</th>\n",
       "      <th>Total - Population</th>\n",
       "      <th>Percentage Illiterate</th>\n",
       "      <th>Percentage Graduate &amp; above</th>\n",
       "    </tr>\n",
       "  </thead>\n",
       "  <tbody>\n",
       "    <tr>\n",
       "      <th>count</th>\n",
       "      <td>2.800000e+01</td>\n",
       "      <td>2.800000e+01</td>\n",
       "      <td>2.800000e+01</td>\n",
       "      <td>28.000000</td>\n",
       "      <td>28.000000</td>\n",
       "    </tr>\n",
       "    <tr>\n",
       "      <th>mean</th>\n",
       "      <td>4.444283e+06</td>\n",
       "      <td>6.657303e+05</td>\n",
       "      <td>2.145959e+07</td>\n",
       "      <td>19.811414</td>\n",
       "      <td>3.222189</td>\n",
       "    </tr>\n",
       "    <tr>\n",
       "      <th>std</th>\n",
       "      <td>5.468418e+06</td>\n",
       "      <td>8.432701e+05</td>\n",
       "      <td>2.510917e+07</td>\n",
       "      <td>5.636705</td>\n",
       "      <td>1.177053</td>\n",
       "    </tr>\n",
       "    <tr>\n",
       "      <th>min</th>\n",
       "      <td>8.337000e+03</td>\n",
       "      <td>1.482000e+03</td>\n",
       "      <td>6.447300e+04</td>\n",
       "      <td>11.176535</td>\n",
       "      <td>1.561247</td>\n",
       "    </tr>\n",
       "    <tr>\n",
       "      <th>25%</th>\n",
       "      <td>2.046585e+05</td>\n",
       "      <td>4.759350e+04</td>\n",
       "      <td>1.349784e+06</td>\n",
       "      <td>14.920056</td>\n",
       "      <td>2.321150</td>\n",
       "    </tr>\n",
       "    <tr>\n",
       "      <th>50%</th>\n",
       "      <td>1.446489e+06</td>\n",
       "      <td>3.266995e+05</td>\n",
       "      <td>8.475447e+06</td>\n",
       "      <td>19.420603</td>\n",
       "      <td>3.054984</td>\n",
       "    </tr>\n",
       "    <tr>\n",
       "      <th>75%</th>\n",
       "      <td>8.138981e+06</td>\n",
       "      <td>1.017308e+06</td>\n",
       "      <td>3.309262e+07</td>\n",
       "      <td>23.800901</td>\n",
       "      <td>3.770290</td>\n",
       "    </tr>\n",
       "    <tr>\n",
       "      <th>max</th>\n",
       "      <td>1.845186e+07</td>\n",
       "      <td>3.285569e+06</td>\n",
       "      <td>7.262681e+07</td>\n",
       "      <td>30.126675</td>\n",
       "      <td>6.524685</td>\n",
       "    </tr>\n",
       "  </tbody>\n",
       "</table>\n",
       "</div>"
      ],
      "text/plain": [
       "         Illiterate  Graduate & above  Total - Population  \\\n",
       "count  2.800000e+01      2.800000e+01        2.800000e+01   \n",
       "mean   4.444283e+06      6.657303e+05        2.145959e+07   \n",
       "std    5.468418e+06      8.432701e+05        2.510917e+07   \n",
       "min    8.337000e+03      1.482000e+03        6.447300e+04   \n",
       "25%    2.046585e+05      4.759350e+04        1.349784e+06   \n",
       "50%    1.446489e+06      3.266995e+05        8.475447e+06   \n",
       "75%    8.138981e+06      1.017308e+06        3.309262e+07   \n",
       "max    1.845186e+07      3.285569e+06        7.262681e+07   \n",
       "\n",
       "       Percentage Illiterate  Percentage Graduate & above  \n",
       "count              28.000000                    28.000000  \n",
       "mean               19.811414                     3.222189  \n",
       "std                 5.636705                     1.177053  \n",
       "min                11.176535                     1.561247  \n",
       "25%                14.920056                     2.321150  \n",
       "50%                19.420603                     3.054984  \n",
       "75%                23.800901                     3.770290  \n",
       "max                30.126675                     6.524685  "
      ]
     },
     "execution_count": 78,
     "metadata": {},
     "output_type": "execute_result"
    }
   ],
   "source": [
    "df_means.describe()"
   ]
  },
  {
   "cell_type": "code",
   "execution_count": null,
   "metadata": {},
   "outputs": [],
   "source": []
  },
  {
   "cell_type": "code",
   "execution_count": 79,
   "metadata": {},
   "outputs": [
    {
     "data": {
      "text/html": [
       "<div>\n",
       "<style scoped>\n",
       "    .dataframe tbody tr th:only-of-type {\n",
       "        vertical-align: middle;\n",
       "    }\n",
       "\n",
       "    .dataframe tbody tr th {\n",
       "        vertical-align: top;\n",
       "    }\n",
       "\n",
       "    .dataframe thead th {\n",
       "        text-align: right;\n",
       "    }\n",
       "</style>\n",
       "<table border=\"1\" class=\"dataframe\">\n",
       "  <thead>\n",
       "    <tr style=\"text-align: right;\">\n",
       "      <th></th>\n",
       "      <th>Area Name</th>\n",
       "      <th>Illiterate</th>\n",
       "      <th>Graduate &amp; above</th>\n",
       "      <th>Total - Population</th>\n",
       "      <th>Percentage Illiterate</th>\n",
       "      <th>Percentage Graduate &amp; above</th>\n",
       "    </tr>\n",
       "  </thead>\n",
       "  <tbody>\n",
       "    <tr>\n",
       "      <th>0</th>\n",
       "      <td>State - JAMMU &amp; KASHMIR</td>\n",
       "      <td>3378518</td>\n",
       "      <td>385463</td>\n",
       "      <td>12541302</td>\n",
       "      <td>26.939133</td>\n",
       "      <td>3.073549</td>\n",
       "    </tr>\n",
       "    <tr>\n",
       "      <th>1</th>\n",
       "      <td>State - HIMACHAL PRADESH</td>\n",
       "      <td>963742</td>\n",
       "      <td>267936</td>\n",
       "      <td>6864602</td>\n",
       "      <td>14.039299</td>\n",
       "      <td>3.903154</td>\n",
       "    </tr>\n",
       "    <tr>\n",
       "      <th>2</th>\n",
       "      <td>State - PUNJAB</td>\n",
       "      <td>4886265</td>\n",
       "      <td>979525</td>\n",
       "      <td>27743338</td>\n",
       "      <td>17.612390</td>\n",
       "      <td>3.530667</td>\n",
       "    </tr>\n",
       "    <tr>\n",
       "      <th>4</th>\n",
       "      <td>State - UTTARAKHAND</td>\n",
       "      <td>1929236</td>\n",
       "      <td>525301</td>\n",
       "      <td>10086292</td>\n",
       "      <td>19.127307</td>\n",
       "      <td>5.208069</td>\n",
       "    </tr>\n",
       "    <tr>\n",
       "      <th>5</th>\n",
       "      <td>State - HARYANA</td>\n",
       "      <td>5055536</td>\n",
       "      <td>1130659</td>\n",
       "      <td>25351462</td>\n",
       "      <td>19.941793</td>\n",
       "      <td>4.459936</td>\n",
       "    </tr>\n",
       "  </tbody>\n",
       "</table>\n",
       "</div>"
      ],
      "text/plain": [
       "                  Area Name  Illiterate  Graduate & above  Total - Population  \\\n",
       "0   State - JAMMU & KASHMIR     3378518            385463            12541302   \n",
       "1  State - HIMACHAL PRADESH      963742            267936             6864602   \n",
       "2            State - PUNJAB     4886265            979525            27743338   \n",
       "4       State - UTTARAKHAND     1929236            525301            10086292   \n",
       "5           State - HARYANA     5055536           1130659            25351462   \n",
       "\n",
       "   Percentage Illiterate  Percentage Graduate & above  \n",
       "0              26.939133                     3.073549  \n",
       "1              14.039299                     3.903154  \n",
       "2              17.612390                     3.530667  \n",
       "4              19.127307                     5.208069  \n",
       "5              19.941793                     4.459936  "
      ]
     },
     "execution_count": 79,
     "metadata": {},
     "output_type": "execute_result"
    }
   ],
   "source": [
    "df_means.head()"
   ]
  },
  {
   "cell_type": "code",
   "execution_count": 83,
   "metadata": {},
   "outputs": [
    {
     "ename": "TypeError",
     "evalue": "bar() missing 1 required positional argument: 'height'",
     "output_type": "error",
     "traceback": [
      "\u001b[1;31m---------------------------------------------------------------------------\u001b[0m",
      "\u001b[1;31mTypeError\u001b[0m                                 Traceback (most recent call last)",
      "\u001b[1;32m<ipython-input-83-a55bd10cc749>\u001b[0m in \u001b[0;36m<module>\u001b[1;34m\u001b[0m\n\u001b[1;32m----> 1\u001b[1;33m \u001b[0mplt\u001b[0m\u001b[1;33m.\u001b[0m\u001b[0mbar\u001b[0m\u001b[1;33m(\u001b[0m\u001b[0my\u001b[0m\u001b[1;33m=\u001b[0m\u001b[1;33m[\u001b[0m\u001b[1;34m'Illiterate'\u001b[0m\u001b[1;33m]\u001b[0m\u001b[1;33m,\u001b[0m\u001b[0mx\u001b[0m\u001b[1;33m=\u001b[0m\u001b[1;33m[\u001b[0m\u001b[1;34m'Area Name'\u001b[0m\u001b[1;33m]\u001b[0m\u001b[1;33m)\u001b[0m\u001b[1;33m\u001b[0m\u001b[1;33m\u001b[0m\u001b[0m\n\u001b[0m",
      "\u001b[1;31mTypeError\u001b[0m: bar() missing 1 required positional argument: 'height'"
     ]
    }
   ],
   "source": [
    "sns.barplot(x=)"
   ]
  },
  {
   "cell_type": "code",
   "execution_count": null,
   "metadata": {},
   "outputs": [],
   "source": []
  },
  {
   "cell_type": "code",
   "execution_count": null,
   "metadata": {},
   "outputs": [],
   "source": []
  },
  {
   "cell_type": "code",
   "execution_count": 41,
   "metadata": {},
   "outputs": [
    {
     "name": "stderr",
     "output_type": "stream",
     "text": [
      "C:\\Anaconda3\\lib\\site-packages\\sklearn\\preprocessing\\data.py:645: DataConversionWarning: Data with input dtype int64, float64 were all converted to float64 by StandardScaler.\n",
      "  return self.partial_fit(X, y)\n",
      "C:\\Anaconda3\\lib\\site-packages\\sklearn\\base.py:464: DataConversionWarning: Data with input dtype int64, float64 were all converted to float64 by StandardScaler.\n",
      "  return self.fit(X, **fit_params).transform(X)\n"
     ]
    }
   ],
   "source": [
    "scaler = StandardScaler()\n",
    "df_means = scaler.fit_transform(df_means)"
   ]
  },
  {
   "cell_type": "code",
   "execution_count": 42,
   "metadata": {},
   "outputs": [],
   "source": [
    "df_means = pd.DataFrame(df_means)"
   ]
  },
  {
   "cell_type": "code",
   "execution_count": 43,
   "metadata": {},
   "outputs": [],
   "source": [
    "df_means.columns = ['Illiterate', 'Graduate & above', 'Total - Population',\n",
    "       'Percentage Illiterate', 'Percentage Graduate & above']"
   ]
  },
  {
   "cell_type": "code",
   "execution_count": 44,
   "metadata": {},
   "outputs": [
    {
     "data": {
      "text/html": [
       "<div>\n",
       "<style scoped>\n",
       "    .dataframe tbody tr th:only-of-type {\n",
       "        vertical-align: middle;\n",
       "    }\n",
       "\n",
       "    .dataframe tbody tr th {\n",
       "        vertical-align: top;\n",
       "    }\n",
       "\n",
       "    .dataframe thead th {\n",
       "        text-align: right;\n",
       "    }\n",
       "</style>\n",
       "<table border=\"1\" class=\"dataframe\">\n",
       "  <thead>\n",
       "    <tr style=\"text-align: right;\">\n",
       "      <th></th>\n",
       "      <th>Illiterate</th>\n",
       "      <th>Graduate &amp; above</th>\n",
       "      <th>Total - Population</th>\n",
       "      <th>Percentage Illiterate</th>\n",
       "      <th>Percentage Graduate &amp; above</th>\n",
       "    </tr>\n",
       "  </thead>\n",
       "  <tbody>\n",
       "    <tr>\n",
       "      <th>0</th>\n",
       "      <td>-0.198471</td>\n",
       "      <td>-0.338457</td>\n",
       "      <td>-0.361698</td>\n",
       "      <td>1.287723</td>\n",
       "      <td>-0.128599</td>\n",
       "    </tr>\n",
       "    <tr>\n",
       "      <th>1</th>\n",
       "      <td>-0.648160</td>\n",
       "      <td>-0.480385</td>\n",
       "      <td>-0.591928</td>\n",
       "      <td>-1.042814</td>\n",
       "      <td>0.589150</td>\n",
       "    </tr>\n",
       "    <tr>\n",
       "      <th>2</th>\n",
       "      <td>0.082308</td>\n",
       "      <td>0.378945</td>\n",
       "      <td>0.254849</td>\n",
       "      <td>-0.397285</td>\n",
       "      <td>0.266886</td>\n",
       "    </tr>\n",
       "    <tr>\n",
       "      <th>3</th>\n",
       "      <td>-0.468362</td>\n",
       "      <td>-0.169585</td>\n",
       "      <td>-0.461266</td>\n",
       "      <td>-0.123594</td>\n",
       "      <td>1.718122</td>\n",
       "    </tr>\n",
       "    <tr>\n",
       "      <th>4</th>\n",
       "      <td>0.113830</td>\n",
       "      <td>0.561457</td>\n",
       "      <td>0.157842</td>\n",
       "      <td>0.023555</td>\n",
       "      <td>1.070861</td>\n",
       "    </tr>\n",
       "  </tbody>\n",
       "</table>\n",
       "</div>"
      ],
      "text/plain": [
       "   Illiterate  Graduate & above  Total - Population  Percentage Illiterate  \\\n",
       "0   -0.198471         -0.338457           -0.361698               1.287723   \n",
       "1   -0.648160         -0.480385           -0.591928              -1.042814   \n",
       "2    0.082308          0.378945            0.254849              -0.397285   \n",
       "3   -0.468362         -0.169585           -0.461266              -0.123594   \n",
       "4    0.113830          0.561457            0.157842               0.023555   \n",
       "\n",
       "   Percentage Graduate & above  \n",
       "0                    -0.128599  \n",
       "1                     0.589150  \n",
       "2                     0.266886  \n",
       "3                     1.718122  \n",
       "4                     1.070861  "
      ]
     },
     "execution_count": 44,
     "metadata": {},
     "output_type": "execute_result"
    }
   ],
   "source": [
    "df_means.head()"
   ]
  },
  {
   "cell_type": "code",
   "execution_count": 45,
   "metadata": {},
   "outputs": [
    {
     "data": {
      "text/html": [
       "<div>\n",
       "<style scoped>\n",
       "    .dataframe tbody tr th:only-of-type {\n",
       "        vertical-align: middle;\n",
       "    }\n",
       "\n",
       "    .dataframe tbody tr th {\n",
       "        vertical-align: top;\n",
       "    }\n",
       "\n",
       "    .dataframe thead th {\n",
       "        text-align: right;\n",
       "    }\n",
       "</style>\n",
       "<table border=\"1\" class=\"dataframe\">\n",
       "  <thead>\n",
       "    <tr style=\"text-align: right;\">\n",
       "      <th></th>\n",
       "      <th>Illiterate</th>\n",
       "      <th>Graduate &amp; above</th>\n",
       "      <th>Total - Population</th>\n",
       "      <th>Percentage Illiterate</th>\n",
       "      <th>Percentage Graduate &amp; above</th>\n",
       "    </tr>\n",
       "  </thead>\n",
       "  <tbody>\n",
       "    <tr>\n",
       "      <th>count</th>\n",
       "      <td>2.800000e+01</td>\n",
       "      <td>2.800000e+01</td>\n",
       "      <td>2.800000e+01</td>\n",
       "      <td>2.800000e+01</td>\n",
       "      <td>2.800000e+01</td>\n",
       "    </tr>\n",
       "    <tr>\n",
       "      <th>mean</th>\n",
       "      <td>-1.982541e-17</td>\n",
       "      <td>-4.361590e-17</td>\n",
       "      <td>1.586033e-17</td>\n",
       "      <td>-7.137148e-17</td>\n",
       "      <td>5.947623e-17</td>\n",
       "    </tr>\n",
       "    <tr>\n",
       "      <th>std</th>\n",
       "      <td>1.018350e+00</td>\n",
       "      <td>1.018350e+00</td>\n",
       "      <td>1.018350e+00</td>\n",
       "      <td>1.018350e+00</td>\n",
       "      <td>1.018350e+00</td>\n",
       "    </tr>\n",
       "    <tr>\n",
       "      <th>min</th>\n",
       "      <td>-8.260791e-01</td>\n",
       "      <td>-8.021598e-01</td>\n",
       "      <td>-8.677198e-01</td>\n",
       "      <td>-1.560013e+00</td>\n",
       "      <td>-1.436997e+00</td>\n",
       "    </tr>\n",
       "    <tr>\n",
       "      <th>25%</th>\n",
       "      <td>-7.895194e-01</td>\n",
       "      <td>-7.464746e-01</td>\n",
       "      <td>-8.155916e-01</td>\n",
       "      <td>-8.836926e-01</td>\n",
       "      <td>-7.795519e-01</td>\n",
       "    </tr>\n",
       "    <tr>\n",
       "      <th>50%</th>\n",
       "      <td>-5.582609e-01</td>\n",
       "      <td>-4.094205e-01</td>\n",
       "      <td>-5.265967e-01</td>\n",
       "      <td>-7.060546e-02</td>\n",
       "      <td>-1.446606e-01</td>\n",
       "    </tr>\n",
       "    <tr>\n",
       "      <th>75%</th>\n",
       "      <td>6.880410e-01</td>\n",
       "      <td>4.245730e-01</td>\n",
       "      <td>4.717995e-01</td>\n",
       "      <td>7.207569e-01</td>\n",
       "      <td>4.742001e-01</td>\n",
       "    </tr>\n",
       "    <tr>\n",
       "      <th>max</th>\n",
       "      <td>2.608545e+00</td>\n",
       "      <td>3.163770e+00</td>\n",
       "      <td>2.075184e+00</td>\n",
       "      <td>1.863597e+00</td>\n",
       "      <td>2.857218e+00</td>\n",
       "    </tr>\n",
       "  </tbody>\n",
       "</table>\n",
       "</div>"
      ],
      "text/plain": [
       "         Illiterate  Graduate & above  Total - Population  \\\n",
       "count  2.800000e+01      2.800000e+01        2.800000e+01   \n",
       "mean  -1.982541e-17     -4.361590e-17        1.586033e-17   \n",
       "std    1.018350e+00      1.018350e+00        1.018350e+00   \n",
       "min   -8.260791e-01     -8.021598e-01       -8.677198e-01   \n",
       "25%   -7.895194e-01     -7.464746e-01       -8.155916e-01   \n",
       "50%   -5.582609e-01     -4.094205e-01       -5.265967e-01   \n",
       "75%    6.880410e-01      4.245730e-01        4.717995e-01   \n",
       "max    2.608545e+00      3.163770e+00        2.075184e+00   \n",
       "\n",
       "       Percentage Illiterate  Percentage Graduate & above  \n",
       "count           2.800000e+01                 2.800000e+01  \n",
       "mean           -7.137148e-17                 5.947623e-17  \n",
       "std             1.018350e+00                 1.018350e+00  \n",
       "min            -1.560013e+00                -1.436997e+00  \n",
       "25%            -8.836926e-01                -7.795519e-01  \n",
       "50%            -7.060546e-02                -1.446606e-01  \n",
       "75%             7.207569e-01                 4.742001e-01  \n",
       "max             1.863597e+00                 2.857218e+00  "
      ]
     },
     "execution_count": 45,
     "metadata": {},
     "output_type": "execute_result"
    }
   ],
   "source": [
    "df_means.describe()"
   ]
  },
  {
   "cell_type": "code",
   "execution_count": null,
   "metadata": {},
   "outputs": [],
   "source": []
  },
  {
   "cell_type": "code",
   "execution_count": 62,
   "metadata": {},
   "outputs": [
    {
     "data": {
      "text/plain": [
       "0.7321736578084564"
      ]
     },
     "execution_count": 62,
     "metadata": {},
     "output_type": "execute_result"
    }
   ],
   "source": [
    "hopkins(df_means)"
   ]
  },
  {
   "cell_type": "code",
   "execution_count": null,
   "metadata": {},
   "outputs": [],
   "source": []
  },
  {
   "cell_type": "code",
   "execution_count": 21,
   "metadata": {},
   "outputs": [],
   "source": [
    "# df.columns"
   ]
  },
  {
   "cell_type": "code",
   "execution_count": 58,
   "metadata": {},
   "outputs": [],
   "source": [
    "model_5 =KMeans(n_clusters=10, max_iter=100).fit(df_means)"
   ]
  },
  {
   "cell_type": "code",
   "execution_count": 59,
   "metadata": {},
   "outputs": [
    {
     "data": {
      "text/plain": [
       "array([[-0.68661371, -0.53118749, -0.69738933, -0.89914264,  1.99725773],\n",
       "       [ 0.647718  , -0.00734   ,  0.46513459,  0.79796113, -1.06459436],\n",
       "       [-0.77559142, -0.73517602, -0.7953936 , -0.81237601, -0.28151812],\n",
       "       [ 2.57493297,  1.32274965,  1.992481  ,  1.10245877, -0.62498065],\n",
       "       [ 1.00545796,  3.1637705 ,  2.05572572, -1.11429746,  1.1522339 ],\n",
       "       [-0.61639039, -0.63493547, -0.69067459,  0.71872425,  0.02615237],\n",
       "       [ 0.09806874,  0.47020109,  0.20634577, -0.18686489,  0.66887337],\n",
       "       [ 1.2788323 ,  1.58425682,  1.59420696, -0.21550381,  0.02564943],\n",
       "       [-0.70655832, -0.75260871, -0.7821109 ,  1.79572418, -1.008254  ],\n",
       "       [-0.13233872,  0.89592832,  0.48451184, -1.56001251,  0.8578114 ]])"
      ]
     },
     "execution_count": 59,
     "metadata": {},
     "output_type": "execute_result"
    }
   ],
   "source": [
    "model_5.cluster_centers_"
   ]
  },
  {
   "cell_type": "code",
   "execution_count": 57,
   "metadata": {},
   "outputs": [
    {
     "data": {
      "text/plain": [
       "[<matplotlib.lines.Line2D at 0x13a87973240>]"
      ]
     },
     "execution_count": 57,
     "metadata": {},
     "output_type": "execute_result"
    },
    {
     "data": {
      "image/png": "[encoded data removed]",
      "text/plain": [
       "<Figure size 432x288 with 1 Axes>"
      ]
     },
     "metadata": {
      "needs_background": "light"
     },
     "output_type": "display_data"
    }
   ],
   "source": [
    "# sum of squared distances\n",
    "ssd = []\n",
    "for num_clusters in list(range(1,21)):\n",
    "    model_clus = KMeans(n_clusters = num_clusters, max_iter=50)\n",
    "    model_clus.fit(df_means)\n",
    "    ssd.append(model_clus.inertia_)\n",
    "\n",
    "plt.plot(ssd)"
   ]
  },
  {
   "cell_type": "code",
   "execution_count": null,
   "metadata": {},
   "outputs": [],
   "source": []
  },
  {
   "cell_type": "code",
   "execution_count": 60,
   "metadata": {},
   "outputs": [],
   "source": [
    "from sklearn.neighbors import NearestNeighbors\n",
    "from random import sample\n",
    "from numpy.random import uniform\n",
    "from math import isnan"
   ]
  },
  {
   "cell_type": "code",
   "execution_count": 61,
   "metadata": {},
   "outputs": [],
   "source": [
    "def hopkins(X):\n",
    "    d = X.shape[1]\n",
    "    n = len(X)\n",
    "    m = int(.1*n)\n",
    "    \n",
    "    nbrs = NearestNeighbors(n_neighbors=1).fit(X.values)\n",
    "    \n",
    "    rand_X = sample(range(0,n,1),m)\n",
    "    \n",
    "    ujd = []\n",
    "    wjd = []\n",
    "    \n",
    "    for j in range(0,m):\n",
    "        u_dist, _ = nbrs.kneighbors(uniform(np.amin(X,axis=0),np.amax(X,axis=0),d).reshape(1, -1), 2, return_distance=True)\n",
    "        ujd.append(u_dist[0][1])\n",
    "        w_dist, _ = nbrs.kneighbors(X.iloc[rand_X[j]].values.reshape(1, -1), 2, return_distance=True)\n",
    "        wjd.append(w_dist[0][1])\n",
    " \n",
    "    H = sum(ujd) / (sum(ujd) + sum(wjd))\n",
    "    if isnan(H):\n",
    "        print(ujd, wjd)\n",
    "        H = 0\n",
    " \n",
    "    return H"
   ]
  },
  {
   "cell_type": "code",
   "execution_count": null,
   "metadata": {},
   "outputs": [],
   "source": []
  }
 ],
 "metadata": {
  "kernelspec": {
   "display_name": "Python 3",
   "language": "python",
   "name": "python3"
  },
  "language_info": {
   "codemirror_mode": {
    "name": "ipython",
    "version": 3
   },
   "file_extension": ".py",
   "mimetype": "text/x-python",
   "name": "python",
   "nbconvert_exporter": "python",
   "pygments_lexer": "ipython3",
   "version": "3.6.8"
  }
 },
 "nbformat": 4,
 "nbformat_minor": 2
}
